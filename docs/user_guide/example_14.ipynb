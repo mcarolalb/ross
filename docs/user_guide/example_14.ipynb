{
 "cells": [
  {
   "cell_type": "markdown",
   "metadata": {},
   "source": [
    "Example 14 - Uncertainties on material properties\n",
    "========================================\n",
    "In this example, we use the rotor seen in Example 5.9.4 from {cite}`friswell2010dynamics`.\n",
    "\n",
    "This system is the same as that of Example 3, but now we'll work with uncertainties on material properties, representing a fault in the shaft. We will apply the uncertainties at the central elements."
   ]
  },
  {
   "cell_type": "code",
   "execution_count": 1,
   "metadata": {
    "execution": {
     "iopub.execute_input": "2024-03-22T18:23:09.830624Z",
     "iopub.status.busy": "2024-03-22T18:23:09.829648Z",
     "iopub.status.idle": "2024-03-22T18:23:11.865338Z",
     "shell.execute_reply": "2024-03-22T18:23:11.865338Z"
    }
   },
   "outputs": [],
   "source": [
    "import ross as rs\n",
    "import ross.stochastic as srs\n",
    "import numpy as np\n",
    "import plotly.graph_objects as go\n",
    "\n",
    "# uncomment the lines below if you are having problems with plots not showing\n",
    "# import plotly.io as pio\n",
    "# pio.renderers.default = \"notebook\""
   ]
  },
  {
   "cell_type": "code",
   "execution_count": 2,
   "metadata": {
    "execution": {
     "iopub.execute_input": "2024-03-22T18:23:11.869271Z",
     "iopub.status.busy": "2024-03-22T18:23:11.868266Z",
     "iopub.status.idle": "2024-03-22T18:23:11.889643Z",
     "shell.execute_reply": "2024-03-22T18:23:11.888667Z"
    },
    "scrolled": true
   },
   "outputs": [],
   "source": [
    "# Deterministic Shaft Elements\n",
    "Steel = rs.steel\n",
    "shaft = [rs.ShaftElement(L=0.25, material=Steel, idl=0, odl=0.05) for i in range(4)]\n",
    "\n",
    "# Material with random properties\n",
    "size = 50\n",
    "E = np.random.uniform(low=190e9, high=210e9, size=size)\n",
    "rho = np.random.uniform(low=7000, high=7810, size=size)\n",
    "G_s = np.random.uniform(low=70.5e9, high=81.2e9, size=size)\n",
    "rand_mat = srs.ST_Material(name=\"Steel\", rho=rho, E=E, G_s=G_s)\n",
    "\n",
    "# Stochastic Shaft Elements\n",
    "rand_el = srs.ST_ShaftElement(\n",
    "    L=0.25,\n",
    "    idl=0,\n",
    "    odl=0.05,\n",
    "    material=rand_mat,\n",
    "    is_random=[\"material\"],\n",
    ")\n",
    "\n",
    "# Inserting stochastic elements to the shaft elements list\n",
    "shaft.insert(2, rand_el)\n",
    "shaft.insert(3, rand_el)\n",
    "\n",
    "# Deterministic Disk Elements\n",
    "disk1 = rs.DiskElement.from_geometry(\n",
    "    n=2,\n",
    "    material=Steel,\n",
    "    width=0.07,\n",
    "    i_d=0.05,\n",
    "    o_d=0.28,\n",
    ")\n",
    "\n",
    "disk2 = rs.DiskElement.from_geometry(\n",
    "    n=4,\n",
    "    material=Steel,\n",
    "    width=0.07,\n",
    "    i_d=0.05,\n",
    "    o_d=0.35,\n",
    ")\n",
    "disks = [disk1, disk2]"
   ]
  },
  {
   "cell_type": "markdown",
   "metadata": {},
   "source": [
    "In this example, let's consider an uniform distribuition for the coefficients. Because it's a demonstrative example, we'll not use too many samples, to avoid taking too long to run the simulation.\n",
    "\n",
    "We can use `numpy.random` package to generate random values for our variables.\n",
    "\n",
    "#### Stochastic Bearing Elements"
   ]
  },
  {
   "cell_type": "code",
   "execution_count": 3,
   "metadata": {
    "execution": {
     "iopub.execute_input": "2024-03-22T18:23:11.891625Z",
     "iopub.status.busy": "2024-03-22T18:23:11.891625Z",
     "iopub.status.idle": "2024-03-22T18:23:11.897478Z",
     "shell.execute_reply": "2024-03-22T18:23:11.897478Z"
    }
   },
   "outputs": [],
   "source": [
    "# random variables must have the same size\n",
    "bearing1 = rs.BearingElement(n=0, kxx=1e6, cxx=2e2)\n",
    "bearing2 = rs.BearingElement(n=6, kxx=1e6, cxx=2e2)\n",
    "bearings = [bearing1, bearing2]"
   ]
  },
  {
   "cell_type": "code",
   "execution_count": 4,
   "metadata": {
    "execution": {
     "iopub.execute_input": "2024-03-22T18:23:11.901359Z",
     "iopub.status.busy": "2024-03-22T18:23:11.900382Z",
     "iopub.status.idle": "2024-03-22T18:23:14.065423Z",
     "shell.execute_reply": "2024-03-22T18:23:14.065423Z"
    }
   },
   "outputs": [
    {
     "name": "stdout",
     "output_type": "stream",
     "text": [
      "Number of samples: 50\n"
     ]
    }
   ],
   "source": [
    "# Building random instances for a rotor model\n",
    "\n",
    "rand_rotor = srs.ST_Rotor(\n",
    "    shaft_elements=shaft, disk_elements=disks, bearing_elements=bearings\n",
    ")\n",
    "\n",
    "# Number of samples\n",
    "print(\"Number of samples:\", len(list(iter(rand_rotor))))"
   ]
  },
  {
   "cell_type": "markdown",
   "metadata": {},
   "source": [
    "#### Plotting a random sample\n",
    "\n",
    "We can use `numpy.random.choice` to take a random rotor object. Then, we can use the same functions than to `Rotor` class."
   ]
  },
  {
   "cell_type": "code",
   "execution_count": 5,
   "metadata": {
    "execution": {
     "iopub.execute_input": "2024-03-22T18:23:14.069295Z",
     "iopub.status.busy": "2024-03-22T18:23:14.068319Z",
     "iopub.status.idle": "2024-03-22T18:23:16.388612Z",
     "shell.execute_reply": "2024-03-22T18:23:16.387664Z"
    }
   },
   "outputs": [
    {
     "data": {
      "application/vnd.plotly.v1+json": {
       "config": {
        "plotlyServerURL": "https://plot.ly"
       },
       "data": [
        {
         "hoverinfo": "none",
         "line": {
          "color": "black",
          "dash": "dashdot",
          "width": 3
         },
         "mode": "lines",
         "opacity": 0.7,
         "showlegend": false,
         "type": "scatter",
         "x": [
          -0.30000000000000004,
          1.7999999999999998
         ],
         "y": [
          0,
          0
         ]
        },
        {
         "hoverinfo": "none",
         "marker": {
          "color": "#ffcc99",
          "line": {
           "color": "black",
           "width": 1
          },
          "opacity": 0.7,
          "size": 20
         },
         "mode": "markers+text",
         "showlegend": false,
         "text": [
          "0",
          "1",
          "2",
          "3",
          "4",
          "5",
          "6"
         ],
         "type": "scatter",
         "x": [
          0,
          0.25,
          0.5,
          0.75,
          1,
          1.25,
          1.5
         ],
         "y": [
          0,
          0,
          0,
          0,
          0,
          0,
          0
         ]
        },
        {
         "customdata": [
          [
           0,
           0.05,
           0,
           0.05,
           0,
           0.25,
           "Steel"
          ],
          [
           0,
           0.05,
           0,
           0.05,
           0,
           0.25,
           "Steel"
          ],
          [
           0,
           0.05,
           0,
           0.05,
           0,
           0.25,
           "Steel"
          ],
          [
           0,
           0.05,
           0,
           0.05,
           0,
           0.25,
           "Steel"
          ],
          [
           0,
           0.05,
           0,
           0.05,
           0,
           0.25,
           "Steel"
          ],
          [
           0,
           0.05,
           0,
           0.05,
           0,
           0.25,
           "Steel"
          ],
          [
           0,
           0.05,
           0,
           0.05,
           0,
           0.25,
           "Steel"
          ],
          [
           0,
           0.05,
           0,
           0.05,
           0,
           0.25,
           "Steel"
          ],
          [
           0,
           0.05,
           0,
           0.05,
           0,
           0.25,
           "Steel"
          ],
          [
           0,
           0.05,
           0,
           0.05,
           0,
           0.25,
           "Steel"
          ]
         ],
         "fill": "toself",
         "fillcolor": "#525252",
         "hoverinfo": "text",
         "hoverlabel": {
          "bgcolor": "#525252"
         },
         "hoveron": "points+fills",
         "hovertemplate": "Element Number: 0<br>Left Outer Diameter: 0.05 m<br>Left Inner Diameter: 0.0 m<br>Right Outer Diameter: 0.05 m<br>Right Inner Diameter: 0.0 m<br>Element Length: 0.25 m<br>Material: Steel<br>",
         "legendgroup": "Shaft",
         "line": {
          "color": "black",
          "width": 1.5
         },
         "mode": "lines",
         "name": "ShaftElement 0",
         "opacity": 0.5,
         "showlegend": false,
         "text": "Element Number: 0<br>Left Outer Diameter: 0.05 m<br>Left Inner Diameter: 0.0 m<br>Right Outer Diameter: 0.05 m<br>Right Inner Diameter: 0.0 m<br>Element Length: 0.25 m<br>Material: Steel<br>",
         "type": "scatter",
         "x": [
          0,
          0,
          0.25,
          0.25,
          0,
          0,
          0,
          0.25,
          0.25,
          0
         ],
         "y": [
          0,
          0.025,
          0.025,
          0,
          0,
          0,
          -0.025,
          -0.025,
          0,
          0
         ]
        },
        {
         "customdata": [
          [
           1,
           0.05,
           0,
           0.05,
           0,
           0.25,
           "Steel"
          ],
          [
           1,
           0.05,
           0,
           0.05,
           0,
           0.25,
           "Steel"
          ],
          [
           1,
           0.05,
           0,
           0.05,
           0,
           0.25,
           "Steel"
          ],
          [
           1,
           0.05,
           0,
           0.05,
           0,
           0.25,
           "Steel"
          ],
          [
           1,
           0.05,
           0,
           0.05,
           0,
           0.25,
           "Steel"
          ],
          [
           1,
           0.05,
           0,
           0.05,
           0,
           0.25,
           "Steel"
          ],
          [
           1,
           0.05,
           0,
           0.05,
           0,
           0.25,
           "Steel"
          ],
          [
           1,
           0.05,
           0,
           0.05,
           0,
           0.25,
           "Steel"
          ],
          [
           1,
           0.05,
           0,
           0.05,
           0,
           0.25,
           "Steel"
          ],
          [
           1,
           0.05,
           0,
           0.05,
           0,
           0.25,
           "Steel"
          ]
         ],
         "fill": "toself",
         "fillcolor": "#525252",
         "hoverinfo": "text",
         "hoverlabel": {
          "bgcolor": "#525252"
         },
         "hoveron": "points+fills",
         "hovertemplate": "Element Number: 1<br>Left Outer Diameter: 0.05 m<br>Left Inner Diameter: 0.0 m<br>Right Outer Diameter: 0.05 m<br>Right Inner Diameter: 0.0 m<br>Element Length: 0.25 m<br>Material: Steel<br>",
         "legendgroup": "Shaft",
         "line": {
          "color": "black",
          "width": 1.5
         },
         "mode": "lines",
         "name": "ShaftElement 1",
         "opacity": 0.5,
         "showlegend": false,
         "text": "Element Number: 1<br>Left Outer Diameter: 0.05 m<br>Left Inner Diameter: 0.0 m<br>Right Outer Diameter: 0.05 m<br>Right Inner Diameter: 0.0 m<br>Element Length: 0.25 m<br>Material: Steel<br>",
         "type": "scatter",
         "x": [
          0.25,
          0.25,
          0.5,
          0.5,
          0.25,
          0.25,
          0.25,
          0.5,
          0.5,
          0.25
         ],
         "y": [
          0,
          0.025,
          0.025,
          0,
          0,
          0,
          -0.025,
          -0.025,
          0,
          0
         ]
        },
        {
         "customdata": [
          [
           2,
           0.05,
           0,
           0.05,
           0,
           0.25,
           "Steel"
          ],
          [
           2,
           0.05,
           0,
           0.05,
           0,
           0.25,
           "Steel"
          ],
          [
           2,
           0.05,
           0,
           0.05,
           0,
           0.25,
           "Steel"
          ],
          [
           2,
           0.05,
           0,
           0.05,
           0,
           0.25,
           "Steel"
          ],
          [
           2,
           0.05,
           0,
           0.05,
           0,
           0.25,
           "Steel"
          ],
          [
           2,
           0.05,
           0,
           0.05,
           0,
           0.25,
           "Steel"
          ],
          [
           2,
           0.05,
           0,
           0.05,
           0,
           0.25,
           "Steel"
          ],
          [
           2,
           0.05,
           0,
           0.05,
           0,
           0.25,
           "Steel"
          ],
          [
           2,
           0.05,
           0,
           0.05,
           0,
           0.25,
           "Steel"
          ],
          [
           2,
           0.05,
           0,
           0.05,
           0,
           0.25,
           "Steel"
          ]
         ],
         "fill": "toself",
         "fillcolor": "#525252",
         "hoverinfo": "text",
         "hoverlabel": {
          "bgcolor": "#525252"
         },
         "hoveron": "points+fills",
         "hovertemplate": "Element Number: 2<br>Left Outer Diameter: 0.05 m<br>Left Inner Diameter: 0.0 m<br>Right Outer Diameter: 0.05 m<br>Right Inner Diameter: 0.0 m<br>Element Length: 0.25 m<br>Material: Steel<br>",
         "legendgroup": "Shaft",
         "line": {
          "color": "black",
          "width": 1.5
         },
         "mode": "lines",
         "name": "ShaftElement 2",
         "opacity": 0.5,
         "showlegend": false,
         "text": "Element Number: 2<br>Left Outer Diameter: 0.05 m<br>Left Inner Diameter: 0.0 m<br>Right Outer Diameter: 0.05 m<br>Right Inner Diameter: 0.0 m<br>Element Length: 0.25 m<br>Material: Steel<br>",
         "type": "scatter",
         "x": [
          0.5,
          0.5,
          0.75,
          0.75,
          0.5,
          0.5,
          0.5,
          0.75,
          0.75,
          0.5
         ],
         "y": [
          0,
          0.025,
          0.025,
          0,
          0,
          0,
          -0.025,
          -0.025,
          0,
          0
         ]
        },
        {
         "customdata": [
          [
           3,
           0.05,
           0,
           0.05,
           0,
           0.25,
           "Steel"
          ],
          [
           3,
           0.05,
           0,
           0.05,
           0,
           0.25,
           "Steel"
          ],
          [
           3,
           0.05,
           0,
           0.05,
           0,
           0.25,
           "Steel"
          ],
          [
           3,
           0.05,
           0,
           0.05,
           0,
           0.25,
           "Steel"
          ],
          [
           3,
           0.05,
           0,
           0.05,
           0,
           0.25,
           "Steel"
          ],
          [
           3,
           0.05,
           0,
           0.05,
           0,
           0.25,
           "Steel"
          ],
          [
           3,
           0.05,
           0,
           0.05,
           0,
           0.25,
           "Steel"
          ],
          [
           3,
           0.05,
           0,
           0.05,
           0,
           0.25,
           "Steel"
          ],
          [
           3,
           0.05,
           0,
           0.05,
           0,
           0.25,
           "Steel"
          ],
          [
           3,
           0.05,
           0,
           0.05,
           0,
           0.25,
           "Steel"
          ]
         ],
         "fill": "toself",
         "fillcolor": "#525252",
         "hoverinfo": "text",
         "hoverlabel": {
          "bgcolor": "#525252"
         },
         "hoveron": "points+fills",
         "hovertemplate": "Element Number: 3<br>Left Outer Diameter: 0.05 m<br>Left Inner Diameter: 0.0 m<br>Right Outer Diameter: 0.05 m<br>Right Inner Diameter: 0.0 m<br>Element Length: 0.25 m<br>Material: Steel<br>",
         "legendgroup": "Shaft",
         "line": {
          "color": "black",
          "width": 1.5
         },
         "mode": "lines",
         "name": "ShaftElement 3",
         "opacity": 0.5,
         "showlegend": false,
         "text": "Element Number: 3<br>Left Outer Diameter: 0.05 m<br>Left Inner Diameter: 0.0 m<br>Right Outer Diameter: 0.05 m<br>Right Inner Diameter: 0.0 m<br>Element Length: 0.25 m<br>Material: Steel<br>",
         "type": "scatter",
         "x": [
          0.75,
          0.75,
          1,
          1,
          0.75,
          0.75,
          0.75,
          1,
          1,
          0.75
         ],
         "y": [
          0,
          0.025,
          0.025,
          0,
          0,
          0,
          -0.025,
          -0.025,
          0,
          0
         ]
        },
        {
         "customdata": [
          [
           4,
           0.05,
           0,
           0.05,
           0,
           0.25,
           "Steel"
          ],
          [
           4,
           0.05,
           0,
           0.05,
           0,
           0.25,
           "Steel"
          ],
          [
           4,
           0.05,
           0,
           0.05,
           0,
           0.25,
           "Steel"
          ],
          [
           4,
           0.05,
           0,
           0.05,
           0,
           0.25,
           "Steel"
          ],
          [
           4,
           0.05,
           0,
           0.05,
           0,
           0.25,
           "Steel"
          ],
          [
           4,
           0.05,
           0,
           0.05,
           0,
           0.25,
           "Steel"
          ],
          [
           4,
           0.05,
           0,
           0.05,
           0,
           0.25,
           "Steel"
          ],
          [
           4,
           0.05,
           0,
           0.05,
           0,
           0.25,
           "Steel"
          ],
          [
           4,
           0.05,
           0,
           0.05,
           0,
           0.25,
           "Steel"
          ],
          [
           4,
           0.05,
           0,
           0.05,
           0,
           0.25,
           "Steel"
          ]
         ],
         "fill": "toself",
         "fillcolor": "#525252",
         "hoverinfo": "text",
         "hoverlabel": {
          "bgcolor": "#525252"
         },
         "hoveron": "points+fills",
         "hovertemplate": "Element Number: 4<br>Left Outer Diameter: 0.05 m<br>Left Inner Diameter: 0.0 m<br>Right Outer Diameter: 0.05 m<br>Right Inner Diameter: 0.0 m<br>Element Length: 0.25 m<br>Material: Steel<br>",
         "legendgroup": "Shaft",
         "line": {
          "color": "black",
          "width": 1.5
         },
         "mode": "lines",
         "name": "ShaftElement 4",
         "opacity": 0.5,
         "showlegend": false,
         "text": "Element Number: 4<br>Left Outer Diameter: 0.05 m<br>Left Inner Diameter: 0.0 m<br>Right Outer Diameter: 0.05 m<br>Right Inner Diameter: 0.0 m<br>Element Length: 0.25 m<br>Material: Steel<br>",
         "type": "scatter",
         "x": [
          1,
          1,
          1.25,
          1.25,
          1,
          1,
          1,
          1.25,
          1.25,
          1
         ],
         "y": [
          0,
          0.025,
          0.025,
          0,
          0,
          0,
          -0.025,
          -0.025,
          0,
          0
         ]
        },
        {
         "customdata": [
          [
           5,
           0.05,
           0,
           0.05,
           0,
           0.25,
           "Steel"
          ],
          [
           5,
           0.05,
           0,
           0.05,
           0,
           0.25,
           "Steel"
          ],
          [
           5,
           0.05,
           0,
           0.05,
           0,
           0.25,
           "Steel"
          ],
          [
           5,
           0.05,
           0,
           0.05,
           0,
           0.25,
           "Steel"
          ],
          [
           5,
           0.05,
           0,
           0.05,
           0,
           0.25,
           "Steel"
          ],
          [
           5,
           0.05,
           0,
           0.05,
           0,
           0.25,
           "Steel"
          ],
          [
           5,
           0.05,
           0,
           0.05,
           0,
           0.25,
           "Steel"
          ],
          [
           5,
           0.05,
           0,
           0.05,
           0,
           0.25,
           "Steel"
          ],
          [
           5,
           0.05,
           0,
           0.05,
           0,
           0.25,
           "Steel"
          ],
          [
           5,
           0.05,
           0,
           0.05,
           0,
           0.25,
           "Steel"
          ]
         ],
         "fill": "toself",
         "fillcolor": "#525252",
         "hoverinfo": "text",
         "hoverlabel": {
          "bgcolor": "#525252"
         },
         "hoveron": "points+fills",
         "hovertemplate": "Element Number: 5<br>Left Outer Diameter: 0.05 m<br>Left Inner Diameter: 0.0 m<br>Right Outer Diameter: 0.05 m<br>Right Inner Diameter: 0.0 m<br>Element Length: 0.25 m<br>Material: Steel<br>",
         "legendgroup": "Shaft",
         "line": {
          "color": "black",
          "width": 1.5
         },
         "mode": "lines",
         "name": "ShaftElement 5",
         "opacity": 0.5,
         "showlegend": false,
         "text": "Element Number: 5<br>Left Outer Diameter: 0.05 m<br>Left Inner Diameter: 0.0 m<br>Right Outer Diameter: 0.05 m<br>Right Inner Diameter: 0.0 m<br>Element Length: 0.25 m<br>Material: Steel<br>",
         "type": "scatter",
         "x": [
          1.25,
          1.25,
          1.5,
          1.5,
          1.25,
          1.25,
          1.25,
          1.5,
          1.5,
          1.25
         ],
         "y": [
          0,
          0.025,
          0.025,
          0,
          0,
          0,
          -0.025,
          -0.025,
          0,
          0
         ]
        },
        {
         "customdata": [
          [
           2,
           0.32956362089137037,
           0.17808928257067666,
           32.58972765304033
          ],
          [
           2,
           0.32956362089137037,
           0.17808928257067666,
           32.58972765304033
          ],
          [
           2,
           0.32956362089137037,
           0.17808928257067666,
           32.58972765304033
          ],
          [
           2,
           0.32956362089137037,
           0.17808928257067666,
           32.58972765304033
          ],
          [
           2,
           0.32956362089137037,
           0.17808928257067666,
           32.58972765304033
          ],
          [
           2,
           0.32956362089137037,
           0.17808928257067666,
           32.58972765304033
          ],
          [
           2,
           0.32956362089137037,
           0.17808928257067666,
           32.58972765304033
          ],
          [
           2,
           0.32956362089137037,
           0.17808928257067666,
           32.58972765304033
          ],
          [
           2,
           0.32956362089137037,
           0.17808928257067666,
           32.58972765304033
          ]
         ],
         "fill": "toself",
         "fillcolor": "Firebrick",
         "hoverinfo": "text",
         "hoverlabel": {
          "bgcolor": "Firebrick"
         },
         "hoveron": "points+fills",
         "hovertemplate": "Disk Node: 2<br>Polar Inertia: 3.296e-01<br>Diametral Inertia: 1.781e-01<br>Disk mass: 32.590<br>",
         "legendgroup": "disks",
         "line": {
          "color": "Firebrick",
          "width": 2
         },
         "mode": "lines",
         "name": "Disk 0",
         "opacity": 0.8,
         "showlegend": false,
         "text": "Disk Node: 2<br>Polar Inertia: 3.296e-01<br>Diametral Inertia: 1.781e-01<br>Disk mass: 32.590<br>",
         "type": "scatter",
         "x": [
          0.5,
          0.502,
          0.498,
          0.5,
          null,
          0.5,
          0.502,
          0.498,
          0.5
         ],
         "y": [
          0.025,
          0.125,
          0.125,
          0.025,
          null,
          -0.025,
          -0.125,
          -0.125,
          -0.025
         ]
        },
        {
         "customdata": [
          [
           4,
           0.8050822048675967,
           0.42358058405433824,
           51.5252611115262
          ],
          [
           4,
           0.8050822048675967,
           0.42358058405433824,
           51.5252611115262
          ],
          [
           4,
           0.8050822048675967,
           0.42358058405433824,
           51.5252611115262
          ],
          [
           4,
           0.8050822048675967,
           0.42358058405433824,
           51.5252611115262
          ],
          [
           4,
           0.8050822048675967,
           0.42358058405433824,
           51.5252611115262
          ],
          [
           4,
           0.8050822048675967,
           0.42358058405433824,
           51.5252611115262
          ],
          [
           4,
           0.8050822048675967,
           0.42358058405433824,
           51.5252611115262
          ],
          [
           4,
           0.8050822048675967,
           0.42358058405433824,
           51.5252611115262
          ],
          [
           4,
           0.8050822048675967,
           0.42358058405433824,
           51.5252611115262
          ]
         ],
         "fill": "toself",
         "fillcolor": "Firebrick",
         "hoverinfo": "text",
         "hoverlabel": {
          "bgcolor": "Firebrick"
         },
         "hoveron": "points+fills",
         "hovertemplate": "Disk Node: 4<br>Polar Inertia: 8.051e-01<br>Diametral Inertia: 4.236e-01<br>Disk mass: 51.525<br>",
         "legendgroup": "disks",
         "line": {
          "color": "Firebrick",
          "width": 2
         },
         "mode": "lines",
         "name": "Disk 1",
         "opacity": 0.8,
         "showlegend": false,
         "text": "Disk Node: 4<br>Polar Inertia: 8.051e-01<br>Diametral Inertia: 4.236e-01<br>Disk mass: 51.525<br>",
         "type": "scatter",
         "x": [
          1,
          1.002,
          0.998,
          1,
          null,
          1,
          1.002,
          0.998,
          1
         ],
         "y": [
          0.025,
          0.125,
          0.125,
          0.025,
          null,
          -0.025,
          -0.125,
          -0.125,
          -0.025
         ]
        },
        {
         "hoverinfo": "none",
         "legendgroup": "bearings",
         "line": {
          "color": "#355d7a",
          "width": 1
         },
         "mode": "lines",
         "name": "Bearing 0",
         "showlegend": false,
         "type": "scatter",
         "x": [
          0,
          0,
          -0.007142857142857143,
          0.007142857142857143
         ],
         "y": [
          0.025,
          0.0375,
          0.0375,
          0.0375
         ]
        },
        {
         "hoverinfo": "none",
         "legendgroup": "bearings",
         "line": {
          "color": "#355d7a",
          "width": 1
         },
         "mode": "lines",
         "name": "Bearing 0",
         "showlegend": false,
         "type": "scatter",
         "x": [
          0,
          0,
          -0.007142857142857143,
          0.007142857142857143
         ],
         "y": [
          -0.025,
          -0.0375,
          -0.0375,
          -0.0375
         ]
        },
        {
         "hoverinfo": "none",
         "legendgroup": "bearings",
         "line": {
          "color": "#355d7a",
          "width": 1
         },
         "mode": "lines",
         "name": "Bearing 0",
         "showlegend": false,
         "type": "scatter",
         "x": [
          0,
          0,
          -0.007142857142857143,
          0.007142857142857143
         ],
         "y": [
          0.075,
          0.0625,
          0.0625,
          0.0625
         ]
        },
        {
         "hoverinfo": "none",
         "legendgroup": "bearings",
         "line": {
          "color": "#355d7a",
          "width": 1
         },
         "mode": "lines",
         "name": "Bearing 0",
         "showlegend": false,
         "type": "scatter",
         "x": [
          0,
          0,
          -0.007142857142857143,
          0.007142857142857143
         ],
         "y": [
          -0.075,
          -0.0625,
          -0.0625,
          -0.0625
         ]
        },
        {
         "hoverinfo": "none",
         "legendgroup": "bearings",
         "line": {
          "color": "#355d7a",
          "width": 1
         },
         "mode": "lines",
         "name": "Bearing 0",
         "showlegend": false,
         "type": "scatter",
         "x": [
          -0.010714285714285714,
          0.010714285714285714
         ],
         "y": [
          0.075,
          0.075
         ]
        },
        {
         "hoverinfo": "none",
         "legendgroup": "bearings",
         "line": {
          "color": "#355d7a",
          "width": 1
         },
         "mode": "lines",
         "name": "Bearing 0",
         "showlegend": false,
         "type": "scatter",
         "x": [
          -0.010714285714285714,
          0.010714285714285714
         ],
         "y": [
          -0.075,
          -0.075
         ]
        },
        {
         "hoverinfo": "none",
         "legendgroup": "bearings",
         "line": {
          "color": "#355d7a",
          "width": 1
         },
         "mode": "lines",
         "name": "Bearing 0",
         "showlegend": false,
         "type": "scatter",
         "x": [
          -0.010714285714285714,
          -0.0064285714285714285
         ],
         "y": [
          0.075,
          0.0825
         ]
        },
        {
         "hoverinfo": "none",
         "legendgroup": "bearings",
         "line": {
          "color": "#355d7a",
          "width": 1
         },
         "mode": "lines",
         "name": "Bearing 0",
         "showlegend": false,
         "type": "scatter",
         "x": [
          -0.010714285714285714,
          -0.0064285714285714285
         ],
         "y": [
          -0.075,
          -0.0825
         ]
        },
        {
         "hoverinfo": "none",
         "legendgroup": "bearings",
         "line": {
          "color": "#355d7a",
          "width": 1
         },
         "mode": "lines",
         "name": "Bearing 0",
         "showlegend": false,
         "type": "scatter",
         "x": [
          -0.0064285714285714285,
          -0.0021428571428571425
         ],
         "y": [
          0.075,
          0.0825
         ]
        },
        {
         "hoverinfo": "none",
         "legendgroup": "bearings",
         "line": {
          "color": "#355d7a",
          "width": 1
         },
         "mode": "lines",
         "name": "Bearing 0",
         "showlegend": false,
         "type": "scatter",
         "x": [
          -0.0064285714285714285,
          -0.0021428571428571425
         ],
         "y": [
          -0.075,
          -0.0825
         ]
        },
        {
         "hoverinfo": "none",
         "legendgroup": "bearings",
         "line": {
          "color": "#355d7a",
          "width": 1
         },
         "mode": "lines",
         "name": "Bearing 0",
         "showlegend": false,
         "type": "scatter",
         "x": [
          -0.0021428571428571425,
          0.0021428571428571443
         ],
         "y": [
          0.075,
          0.0825
         ]
        },
        {
         "hoverinfo": "none",
         "legendgroup": "bearings",
         "line": {
          "color": "#355d7a",
          "width": 1
         },
         "mode": "lines",
         "name": "Bearing 0",
         "showlegend": false,
         "type": "scatter",
         "x": [
          -0.0021428571428571425,
          0.0021428571428571443
         ],
         "y": [
          -0.075,
          -0.0825
         ]
        },
        {
         "hoverinfo": "none",
         "legendgroup": "bearings",
         "line": {
          "color": "#355d7a",
          "width": 1
         },
         "mode": "lines",
         "name": "Bearing 0",
         "showlegend": false,
         "type": "scatter",
         "x": [
          0.0021428571428571443,
          0.006428571428571429
         ],
         "y": [
          0.075,
          0.0825
         ]
        },
        {
         "hoverinfo": "none",
         "legendgroup": "bearings",
         "line": {
          "color": "#355d7a",
          "width": 1
         },
         "mode": "lines",
         "name": "Bearing 0",
         "showlegend": false,
         "type": "scatter",
         "x": [
          0.0021428571428571443,
          0.006428571428571429
         ],
         "y": [
          -0.075,
          -0.0825
         ]
        },
        {
         "hoverinfo": "none",
         "legendgroup": "bearings",
         "line": {
          "color": "#355d7a",
          "width": 1
         },
         "mode": "lines",
         "name": "Bearing 0",
         "showlegend": false,
         "type": "scatter",
         "x": [
          0.006428571428571429,
          0.010714285714285714
         ],
         "y": [
          0.075,
          0.0825
         ]
        },
        {
         "hoverinfo": "none",
         "legendgroup": "bearings",
         "line": {
          "color": "#355d7a",
          "width": 1
         },
         "mode": "lines",
         "name": "Bearing 0",
         "showlegend": false,
         "type": "scatter",
         "x": [
          0.006428571428571429,
          0.010714285714285714
         ],
         "y": [
          -0.075,
          -0.0825
         ]
        },
        {
         "hoverinfo": "none",
         "legendgroup": "bearings",
         "line": {
          "color": "#355d7a",
          "width": 1
         },
         "mode": "lines",
         "name": "Bearing 0",
         "showlegend": false,
         "type": "scatter",
         "x": [
          0.010714285714285714,
          0.015000000000000003
         ],
         "y": [
          0.075,
          0.0825
         ]
        },
        {
         "hoverinfo": "none",
         "legendgroup": "bearings",
         "line": {
          "color": "#355d7a",
          "width": 1
         },
         "mode": "lines",
         "name": "Bearing 0",
         "showlegend": false,
         "type": "scatter",
         "x": [
          0.010714285714285714,
          0.015000000000000003
         ],
         "y": [
          -0.075,
          -0.0825
         ]
        },
        {
         "hoverinfo": "none",
         "legendgroup": "bearings",
         "line": {
          "color": "#355d7a",
          "width": 1
         },
         "mode": "lines",
         "name": "Bearing 0",
         "showlegend": false,
         "type": "scatter",
         "x": [
          -0.007142857142857143,
          -0.007142857142857143,
          -0.010714285714285714,
          -0.0035714285714285713,
          -0.010714285714285714,
          -0.0035714285714285713,
          -0.010714285714285714,
          -0.0035714285714285713,
          -0.007142857142857143,
          -0.007142857142857143
         ],
         "y": [
          0.0375,
          0.04107142857142857,
          0.04107142857142857,
          0.044642857142857144,
          0.04821428571428571,
          0.05178571428571428,
          0.055357142857142855,
          0.05892857142857143,
          0.05892857142857143,
          0.0625
         ]
        },
        {
         "hoverinfo": "none",
         "legendgroup": "bearings",
         "line": {
          "color": "#355d7a",
          "width": 1
         },
         "mode": "lines",
         "name": "Bearing 0",
         "showlegend": false,
         "type": "scatter",
         "x": [
          -0.007142857142857143,
          -0.007142857142857143,
          -0.010714285714285714,
          -0.0035714285714285713,
          -0.010714285714285714,
          -0.0035714285714285713,
          -0.010714285714285714,
          -0.0035714285714285713,
          -0.007142857142857143,
          -0.007142857142857143
         ],
         "y": [
          -0.0375,
          -0.04107142857142857,
          -0.04107142857142857,
          -0.044642857142857144,
          -0.04821428571428571,
          -0.05178571428571428,
          -0.055357142857142855,
          -0.05892857142857143,
          -0.05892857142857143,
          -0.0625
         ]
        },
        {
         "hoverinfo": "none",
         "legendgroup": "bearings",
         "line": {
          "color": "#355d7a",
          "width": 1
         },
         "mode": "lines",
         "name": "Bearing 0",
         "showlegend": false,
         "type": "scatter",
         "x": [
          0.007142857142857143,
          0.007142857142857143
         ],
         "y": [
          0.0375,
          0.044642857142857144
         ]
        },
        {
         "hoverinfo": "none",
         "legendgroup": "bearings",
         "line": {
          "color": "#355d7a",
          "width": 1
         },
         "mode": "lines",
         "name": "Bearing 0",
         "showlegend": false,
         "type": "scatter",
         "x": [
          0.007142857142857143,
          0.007142857142857143
         ],
         "y": [
          -0.0375,
          -0.044642857142857144
         ]
        },
        {
         "hoverinfo": "none",
         "legendgroup": "bearings",
         "line": {
          "color": "#355d7a",
          "width": 1
         },
         "mode": "lines",
         "name": "Bearing 0",
         "showlegend": false,
         "type": "scatter",
         "x": [
          0,
          0,
          0.014285714285714285,
          0.014285714285714285
         ],
         "y": [
          0.055357142857142855,
          0.044642857142857144,
          0.044642857142857144,
          0.055357142857142855
         ]
        },
        {
         "hoverinfo": "none",
         "legendgroup": "bearings",
         "line": {
          "color": "#355d7a",
          "width": 1
         },
         "mode": "lines",
         "name": "Bearing 0",
         "showlegend": false,
         "type": "scatter",
         "x": [
          0,
          0,
          0.014285714285714285,
          0.014285714285714285
         ],
         "y": [
          -0.055357142857142855,
          -0.044642857142857144,
          -0.044642857142857144,
          -0.055357142857142855
         ]
        },
        {
         "hoverinfo": "none",
         "legendgroup": "bearings",
         "line": {
          "color": "#355d7a",
          "width": 1
         },
         "mode": "lines",
         "name": "Bearing 0",
         "showlegend": false,
         "type": "scatter",
         "x": [
          0,
          0.014285714285714285,
          0.007142857142857143,
          0.007142857142857143
         ],
         "y": [
          0.05178571428571428,
          0.05178571428571428,
          0.05178571428571428,
          0.0625
         ]
        },
        {
         "hoverinfo": "none",
         "legendgroup": "bearings",
         "line": {
          "color": "#355d7a",
          "width": 1
         },
         "mode": "lines",
         "name": "Bearing 0",
         "showlegend": false,
         "type": "scatter",
         "x": [
          0,
          0.014285714285714285,
          0.007142857142857143,
          0.007142857142857143
         ],
         "y": [
          -0.05178571428571428,
          -0.05178571428571428,
          -0.05178571428571428,
          -0.0625
         ]
        },
        {
         "hoverinfo": "none",
         "legendgroup": "bearings",
         "line": {
          "color": "#355d7a",
          "width": 1
         },
         "mode": "lines",
         "name": "Bearing 1",
         "showlegend": false,
         "type": "scatter",
         "x": [
          1.5,
          1.5,
          1.4928571428571429,
          1.5071428571428571
         ],
         "y": [
          0.025,
          0.0375,
          0.0375,
          0.0375
         ]
        },
        {
         "hoverinfo": "none",
         "legendgroup": "bearings",
         "line": {
          "color": "#355d7a",
          "width": 1
         },
         "mode": "lines",
         "name": "Bearing 1",
         "showlegend": false,
         "type": "scatter",
         "x": [
          1.5,
          1.5,
          1.4928571428571429,
          1.5071428571428571
         ],
         "y": [
          -0.025,
          -0.0375,
          -0.0375,
          -0.0375
         ]
        },
        {
         "hoverinfo": "none",
         "legendgroup": "bearings",
         "line": {
          "color": "#355d7a",
          "width": 1
         },
         "mode": "lines",
         "name": "Bearing 1",
         "showlegend": false,
         "type": "scatter",
         "x": [
          1.5,
          1.5,
          1.4928571428571429,
          1.5071428571428571
         ],
         "y": [
          0.075,
          0.0625,
          0.0625,
          0.0625
         ]
        },
        {
         "hoverinfo": "none",
         "legendgroup": "bearings",
         "line": {
          "color": "#355d7a",
          "width": 1
         },
         "mode": "lines",
         "name": "Bearing 1",
         "showlegend": false,
         "type": "scatter",
         "x": [
          1.5,
          1.5,
          1.4928571428571429,
          1.5071428571428571
         ],
         "y": [
          -0.075,
          -0.0625,
          -0.0625,
          -0.0625
         ]
        },
        {
         "hoverinfo": "none",
         "legendgroup": "bearings",
         "line": {
          "color": "#355d7a",
          "width": 1
         },
         "mode": "lines",
         "name": "Bearing 1",
         "showlegend": false,
         "type": "scatter",
         "x": [
          1.4892857142857143,
          1.5107142857142857
         ],
         "y": [
          0.075,
          0.075
         ]
        },
        {
         "hoverinfo": "none",
         "legendgroup": "bearings",
         "line": {
          "color": "#355d7a",
          "width": 1
         },
         "mode": "lines",
         "name": "Bearing 1",
         "showlegend": false,
         "type": "scatter",
         "x": [
          1.4892857142857143,
          1.5107142857142857
         ],
         "y": [
          -0.075,
          -0.075
         ]
        },
        {
         "hoverinfo": "none",
         "legendgroup": "bearings",
         "line": {
          "color": "#355d7a",
          "width": 1
         },
         "mode": "lines",
         "name": "Bearing 1",
         "showlegend": false,
         "type": "scatter",
         "x": [
          1.4892857142857143,
          1.4935714285714285
         ],
         "y": [
          0.075,
          0.0825
         ]
        },
        {
         "hoverinfo": "none",
         "legendgroup": "bearings",
         "line": {
          "color": "#355d7a",
          "width": 1
         },
         "mode": "lines",
         "name": "Bearing 1",
         "showlegend": false,
         "type": "scatter",
         "x": [
          1.4892857142857143,
          1.4935714285714285
         ],
         "y": [
          -0.075,
          -0.0825
         ]
        },
        {
         "hoverinfo": "none",
         "legendgroup": "bearings",
         "line": {
          "color": "#355d7a",
          "width": 1
         },
         "mode": "lines",
         "name": "Bearing 1",
         "showlegend": false,
         "type": "scatter",
         "x": [
          1.4935714285714285,
          1.4978571428571428
         ],
         "y": [
          0.075,
          0.0825
         ]
        },
        {
         "hoverinfo": "none",
         "legendgroup": "bearings",
         "line": {
          "color": "#355d7a",
          "width": 1
         },
         "mode": "lines",
         "name": "Bearing 1",
         "showlegend": false,
         "type": "scatter",
         "x": [
          1.4935714285714285,
          1.4978571428571428
         ],
         "y": [
          -0.075,
          -0.0825
         ]
        },
        {
         "hoverinfo": "none",
         "legendgroup": "bearings",
         "line": {
          "color": "#355d7a",
          "width": 1
         },
         "mode": "lines",
         "name": "Bearing 1",
         "showlegend": false,
         "type": "scatter",
         "x": [
          1.4978571428571428,
          1.5021428571428572
         ],
         "y": [
          0.075,
          0.0825
         ]
        },
        {
         "hoverinfo": "none",
         "legendgroup": "bearings",
         "line": {
          "color": "#355d7a",
          "width": 1
         },
         "mode": "lines",
         "name": "Bearing 1",
         "showlegend": false,
         "type": "scatter",
         "x": [
          1.4978571428571428,
          1.5021428571428572
         ],
         "y": [
          -0.075,
          -0.0825
         ]
        },
        {
         "hoverinfo": "none",
         "legendgroup": "bearings",
         "line": {
          "color": "#355d7a",
          "width": 1
         },
         "mode": "lines",
         "name": "Bearing 1",
         "showlegend": false,
         "type": "scatter",
         "x": [
          1.5021428571428572,
          1.5064285714285715
         ],
         "y": [
          0.075,
          0.0825
         ]
        },
        {
         "hoverinfo": "none",
         "legendgroup": "bearings",
         "line": {
          "color": "#355d7a",
          "width": 1
         },
         "mode": "lines",
         "name": "Bearing 1",
         "showlegend": false,
         "type": "scatter",
         "x": [
          1.5021428571428572,
          1.5064285714285715
         ],
         "y": [
          -0.075,
          -0.0825
         ]
        },
        {
         "hoverinfo": "none",
         "legendgroup": "bearings",
         "line": {
          "color": "#355d7a",
          "width": 1
         },
         "mode": "lines",
         "name": "Bearing 1",
         "showlegend": false,
         "type": "scatter",
         "x": [
          1.5064285714285715,
          1.5107142857142857
         ],
         "y": [
          0.075,
          0.0825
         ]
        },
        {
         "hoverinfo": "none",
         "legendgroup": "bearings",
         "line": {
          "color": "#355d7a",
          "width": 1
         },
         "mode": "lines",
         "name": "Bearing 1",
         "showlegend": false,
         "type": "scatter",
         "x": [
          1.5064285714285715,
          1.5107142857142857
         ],
         "y": [
          -0.075,
          -0.0825
         ]
        },
        {
         "hoverinfo": "none",
         "legendgroup": "bearings",
         "line": {
          "color": "#355d7a",
          "width": 1
         },
         "mode": "lines",
         "name": "Bearing 1",
         "showlegend": false,
         "type": "scatter",
         "x": [
          1.5107142857142857,
          1.515
         ],
         "y": [
          0.075,
          0.0825
         ]
        },
        {
         "hoverinfo": "none",
         "legendgroup": "bearings",
         "line": {
          "color": "#355d7a",
          "width": 1
         },
         "mode": "lines",
         "name": "Bearing 1",
         "showlegend": false,
         "type": "scatter",
         "x": [
          1.5107142857142857,
          1.515
         ],
         "y": [
          -0.075,
          -0.0825
         ]
        },
        {
         "hoverinfo": "none",
         "legendgroup": "bearings",
         "line": {
          "color": "#355d7a",
          "width": 1
         },
         "mode": "lines",
         "name": "Bearing 1",
         "showlegend": false,
         "type": "scatter",
         "x": [
          1.4928571428571429,
          1.4928571428571429,
          1.4892857142857143,
          1.4964285714285714,
          1.4892857142857143,
          1.4964285714285714,
          1.4892857142857143,
          1.4964285714285714,
          1.4928571428571429,
          1.4928571428571429
         ],
         "y": [
          0.0375,
          0.04107142857142857,
          0.04107142857142857,
          0.044642857142857144,
          0.04821428571428571,
          0.05178571428571428,
          0.055357142857142855,
          0.05892857142857143,
          0.05892857142857143,
          0.0625
         ]
        },
        {
         "hoverinfo": "none",
         "legendgroup": "bearings",
         "line": {
          "color": "#355d7a",
          "width": 1
         },
         "mode": "lines",
         "name": "Bearing 1",
         "showlegend": false,
         "type": "scatter",
         "x": [
          1.4928571428571429,
          1.4928571428571429,
          1.4892857142857143,
          1.4964285714285714,
          1.4892857142857143,
          1.4964285714285714,
          1.4892857142857143,
          1.4964285714285714,
          1.4928571428571429,
          1.4928571428571429
         ],
         "y": [
          -0.0375,
          -0.04107142857142857,
          -0.04107142857142857,
          -0.044642857142857144,
          -0.04821428571428571,
          -0.05178571428571428,
          -0.055357142857142855,
          -0.05892857142857143,
          -0.05892857142857143,
          -0.0625
         ]
        },
        {
         "hoverinfo": "none",
         "legendgroup": "bearings",
         "line": {
          "color": "#355d7a",
          "width": 1
         },
         "mode": "lines",
         "name": "Bearing 1",
         "showlegend": false,
         "type": "scatter",
         "x": [
          1.5071428571428571,
          1.5071428571428571
         ],
         "y": [
          0.0375,
          0.044642857142857144
         ]
        },
        {
         "hoverinfo": "none",
         "legendgroup": "bearings",
         "line": {
          "color": "#355d7a",
          "width": 1
         },
         "mode": "lines",
         "name": "Bearing 1",
         "showlegend": false,
         "type": "scatter",
         "x": [
          1.5071428571428571,
          1.5071428571428571
         ],
         "y": [
          -0.0375,
          -0.044642857142857144
         ]
        },
        {
         "hoverinfo": "none",
         "legendgroup": "bearings",
         "line": {
          "color": "#355d7a",
          "width": 1
         },
         "mode": "lines",
         "name": "Bearing 1",
         "showlegend": false,
         "type": "scatter",
         "x": [
          1.5,
          1.5,
          1.5142857142857142,
          1.5142857142857142
         ],
         "y": [
          0.055357142857142855,
          0.044642857142857144,
          0.044642857142857144,
          0.055357142857142855
         ]
        },
        {
         "hoverinfo": "none",
         "legendgroup": "bearings",
         "line": {
          "color": "#355d7a",
          "width": 1
         },
         "mode": "lines",
         "name": "Bearing 1",
         "showlegend": false,
         "type": "scatter",
         "x": [
          1.5,
          1.5,
          1.5142857142857142,
          1.5142857142857142
         ],
         "y": [
          -0.055357142857142855,
          -0.044642857142857144,
          -0.044642857142857144,
          -0.055357142857142855
         ]
        },
        {
         "hoverinfo": "none",
         "legendgroup": "bearings",
         "line": {
          "color": "#355d7a",
          "width": 1
         },
         "mode": "lines",
         "name": "Bearing 1",
         "showlegend": false,
         "type": "scatter",
         "x": [
          1.5,
          1.5142857142857142,
          1.5071428571428571,
          1.5071428571428571
         ],
         "y": [
          0.05178571428571428,
          0.05178571428571428,
          0.05178571428571428,
          0.0625
         ]
        },
        {
         "hoverinfo": "none",
         "legendgroup": "bearings",
         "line": {
          "color": "#355d7a",
          "width": 1
         },
         "mode": "lines",
         "name": "Bearing 1",
         "showlegend": false,
         "type": "scatter",
         "x": [
          1.5,
          1.5142857142857142,
          1.5071428571428571,
          1.5071428571428571
         ],
         "y": [
          -0.05178571428571428,
          -0.05178571428571428,
          -0.05178571428571428,
          -0.0625
         ]
        }
       ],
       "layout": {
        "shapes": [
         {
          "fillcolor": "Firebrick",
          "line": {
           "color": "Firebrick"
          },
          "type": "circle",
          "x0": 0.49375,
          "x1": 0.50625,
          "xref": "x",
          "y0": 0.11875,
          "y1": 0.13125,
          "yref": "y"
         },
         {
          "fillcolor": "Firebrick",
          "line": {
           "color": "Firebrick"
          },
          "type": "circle",
          "x0": 0.49375,
          "x1": 0.50625,
          "xref": "x",
          "y0": -0.13125,
          "y1": -0.11875,
          "yref": "y"
         },
         {
          "fillcolor": "Firebrick",
          "line": {
           "color": "Firebrick"
          },
          "type": "circle",
          "x0": 0.99375,
          "x1": 1.00625,
          "xref": "x",
          "y0": 0.11875,
          "y1": 0.13125,
          "yref": "y"
         },
         {
          "fillcolor": "Firebrick",
          "line": {
           "color": "Firebrick"
          },
          "type": "circle",
          "x0": 0.99375,
          "x1": 1.00625,
          "xref": "x",
          "y0": -0.13125,
          "y1": -0.11875,
          "yref": "y"
         }
        ],
        "template": {
         "data": {
          "bar": [
           {
            "error_x": {
             "color": "#2a3f5f"
            },
            "error_y": {
             "color": "#2a3f5f"
            },
            "marker": {
             "line": {
              "color": "white",
              "width": 0.5
             }
            },
            "type": "bar"
           }
          ],
          "barpolar": [
           {
            "marker": {
             "line": {
              "color": "white",
              "width": 0.5
             }
            },
            "type": "barpolar"
           }
          ],
          "carpet": [
           {
            "aaxis": {
             "endlinecolor": "#2a3f5f",
             "gridcolor": "#C8D4E3",
             "linecolor": "#C8D4E3",
             "minorgridcolor": "#C8D4E3",
             "startlinecolor": "#2a3f5f"
            },
            "baxis": {
             "endlinecolor": "#2a3f5f",
             "gridcolor": "#C8D4E3",
             "linecolor": "#C8D4E3",
             "minorgridcolor": "#C8D4E3",
             "startlinecolor": "#2a3f5f"
            },
            "type": "carpet"
           }
          ],
          "choropleth": [
           {
            "colorbar": {
             "outlinewidth": 0,
             "ticks": ""
            },
            "type": "choropleth"
           }
          ],
          "contour": [
           {
            "colorbar": {
             "outlinewidth": 0,
             "ticks": ""
            },
            "colorscale": [
             [
              0,
              "#0d0887"
             ],
             [
              0.1111111111111111,
              "#46039f"
             ],
             [
              0.2222222222222222,
              "#7201a8"
             ],
             [
              0.3333333333333333,
              "#9c179e"
             ],
             [
              0.4444444444444444,
              "#bd3786"
             ],
             [
              0.5555555555555556,
              "#d8576b"
             ],
             [
              0.6666666666666666,
              "#ed7953"
             ],
             [
              0.7777777777777778,
              "#fb9f3a"
             ],
             [
              0.8888888888888888,
              "#fdca26"
             ],
             [
              1,
              "#f0f921"
             ]
            ],
            "type": "contour"
           }
          ],
          "contourcarpet": [
           {
            "colorbar": {
             "outlinewidth": 0,
             "ticks": ""
            },
            "type": "contourcarpet"
           }
          ],
          "heatmap": [
           {
            "colorbar": {
             "outlinewidth": 0,
             "ticks": ""
            },
            "colorscale": [
             [
              0,
              "#0d0887"
             ],
             [
              0.1111111111111111,
              "#46039f"
             ],
             [
              0.2222222222222222,
              "#7201a8"
             ],
             [
              0.3333333333333333,
              "#9c179e"
             ],
             [
              0.4444444444444444,
              "#bd3786"
             ],
             [
              0.5555555555555556,
              "#d8576b"
             ],
             [
              0.6666666666666666,
              "#ed7953"
             ],
             [
              0.7777777777777778,
              "#fb9f3a"
             ],
             [
              0.8888888888888888,
              "#fdca26"
             ],
             [
              1,
              "#f0f921"
             ]
            ],
            "type": "heatmap"
           }
          ],
          "heatmapgl": [
           {
            "colorbar": {
             "outlinewidth": 0,
             "ticks": ""
            },
            "colorscale": [
             [
              0,
              "#0d0887"
             ],
             [
              0.1111111111111111,
              "#46039f"
             ],
             [
              0.2222222222222222,
              "#7201a8"
             ],
             [
              0.3333333333333333,
              "#9c179e"
             ],
             [
              0.4444444444444444,
              "#bd3786"
             ],
             [
              0.5555555555555556,
              "#d8576b"
             ],
             [
              0.6666666666666666,
              "#ed7953"
             ],
             [
              0.7777777777777778,
              "#fb9f3a"
             ],
             [
              0.8888888888888888,
              "#fdca26"
             ],
             [
              1,
              "#f0f921"
             ]
            ],
            "type": "heatmapgl"
           }
          ],
          "histogram": [
           {
            "marker": {
             "colorbar": {
              "outlinewidth": 0,
              "ticks": ""
             }
            },
            "type": "histogram"
           }
          ],
          "histogram2d": [
           {
            "colorbar": {
             "outlinewidth": 0,
             "ticks": ""
            },
            "colorscale": [
             [
              0,
              "#0d0887"
             ],
             [
              0.1111111111111111,
              "#46039f"
             ],
             [
              0.2222222222222222,
              "#7201a8"
             ],
             [
              0.3333333333333333,
              "#9c179e"
             ],
             [
              0.4444444444444444,
              "#bd3786"
             ],
             [
              0.5555555555555556,
              "#d8576b"
             ],
             [
              0.6666666666666666,
              "#ed7953"
             ],
             [
              0.7777777777777778,
              "#fb9f3a"
             ],
             [
              0.8888888888888888,
              "#fdca26"
             ],
             [
              1,
              "#f0f921"
             ]
            ],
            "type": "histogram2d"
           }
          ],
          "histogram2dcontour": [
           {
            "colorbar": {
             "outlinewidth": 0,
             "ticks": ""
            },
            "colorscale": [
             [
              0,
              "#0d0887"
             ],
             [
              0.1111111111111111,
              "#46039f"
             ],
             [
              0.2222222222222222,
              "#7201a8"
             ],
             [
              0.3333333333333333,
              "#9c179e"
             ],
             [
              0.4444444444444444,
              "#bd3786"
             ],
             [
              0.5555555555555556,
              "#d8576b"
             ],
             [
              0.6666666666666666,
              "#ed7953"
             ],
             [
              0.7777777777777778,
              "#fb9f3a"
             ],
             [
              0.8888888888888888,
              "#fdca26"
             ],
             [
              1,
              "#f0f921"
             ]
            ],
            "type": "histogram2dcontour"
           }
          ],
          "mesh3d": [
           {
            "colorbar": {
             "outlinewidth": 0,
             "ticks": ""
            },
            "type": "mesh3d"
           }
          ],
          "parcoords": [
           {
            "line": {
             "colorbar": {
              "outlinewidth": 0,
              "ticks": ""
             }
            },
            "type": "parcoords"
           }
          ],
          "pie": [
           {
            "automargin": true,
            "type": "pie"
           }
          ],
          "scatter": [
           {
            "marker": {
             "colorbar": {
              "outlinewidth": 0,
              "ticks": ""
             }
            },
            "type": "scatter"
           }
          ],
          "scatter3d": [
           {
            "line": {
             "colorbar": {
              "outlinewidth": 0,
              "ticks": ""
             }
            },
            "marker": {
             "colorbar": {
              "outlinewidth": 0,
              "ticks": ""
             },
             "size": 4
            },
            "type": "scatter3d"
           }
          ],
          "scattercarpet": [
           {
            "marker": {
             "colorbar": {
              "outlinewidth": 0,
              "ticks": ""
             }
            },
            "type": "scattercarpet"
           }
          ],
          "scattergeo": [
           {
            "marker": {
             "colorbar": {
              "outlinewidth": 0,
              "ticks": ""
             }
            },
            "type": "scattergeo"
           }
          ],
          "scattergl": [
           {
            "marker": {
             "colorbar": {
              "outlinewidth": 0,
              "ticks": ""
             }
            },
            "type": "scattergl"
           }
          ],
          "scattermapbox": [
           {
            "marker": {
             "colorbar": {
              "outlinewidth": 0,
              "ticks": ""
             }
            },
            "type": "scattermapbox"
           }
          ],
          "scatterpolar": [
           {
            "marker": {
             "colorbar": {
              "outlinewidth": 0,
              "ticks": ""
             }
            },
            "type": "scatterpolar"
           }
          ],
          "scatterpolargl": [
           {
            "marker": {
             "colorbar": {
              "outlinewidth": 0,
              "ticks": ""
             }
            },
            "type": "scatterpolargl"
           }
          ],
          "scatterternary": [
           {
            "marker": {
             "colorbar": {
              "outlinewidth": 0,
              "ticks": ""
             }
            },
            "type": "scatterternary"
           }
          ],
          "surface": [
           {
            "colorbar": {
             "outlinewidth": 0,
             "ticks": ""
            },
            "colorscale": [
             [
              0,
              "#0d0887"
             ],
             [
              0.1111111111111111,
              "#46039f"
             ],
             [
              0.2222222222222222,
              "#7201a8"
             ],
             [
              0.3333333333333333,
              "#9c179e"
             ],
             [
              0.4444444444444444,
              "#bd3786"
             ],
             [
              0.5555555555555556,
              "#d8576b"
             ],
             [
              0.6666666666666666,
              "#ed7953"
             ],
             [
              0.7777777777777778,
              "#fb9f3a"
             ],
             [
              0.8888888888888888,
              "#fdca26"
             ],
             [
              1,
              "#f0f921"
             ]
            ],
            "type": "surface"
           }
          ],
          "table": [
           {
            "cells": {
             "fill": {
              "color": "#EBF0F8"
             },
             "line": {
              "color": "white"
             }
            },
            "header": {
             "fill": {
              "color": "#C8D4E3"
             },
             "line": {
              "color": "white"
             }
            },
            "type": "table"
           }
          ]
         },
         "layout": {
          "annotationdefaults": {
           "arrowcolor": "#2a3f5f",
           "arrowhead": 0,
           "arrowwidth": 1
          },
          "coloraxis": {
           "colorbar": {
            "outlinewidth": 0,
            "ticks": ""
           }
          },
          "colorscale": {
           "diverging": [
            [
             0,
             "#8e0152"
            ],
            [
             0.1,
             "#c51b7d"
            ],
            [
             0.2,
             "#de77ae"
            ],
            [
             0.3,
             "#f1b6da"
            ],
            [
             0.4,
             "#fde0ef"
            ],
            [
             0.5,
             "#f7f7f7"
            ],
            [
             0.6,
             "#e6f5d0"
            ],
            [
             0.7,
             "#b8e186"
            ],
            [
             0.8,
             "#7fbc41"
            ],
            [
             0.9,
             "#4d9221"
            ],
            [
             1,
             "#276419"
            ]
           ],
           "sequential": [
            [
             0,
             "#0d0887"
            ],
            [
             0.1111111111111111,
             "#46039f"
            ],
            [
             0.2222222222222222,
             "#7201a8"
            ],
            [
             0.3333333333333333,
             "#9c179e"
            ],
            [
             0.4444444444444444,
             "#bd3786"
            ],
            [
             0.5555555555555556,
             "#d8576b"
            ],
            [
             0.6666666666666666,
             "#ed7953"
            ],
            [
             0.7777777777777778,
             "#fb9f3a"
            ],
            [
             0.8888888888888888,
             "#fdca26"
            ],
            [
             1,
             "#f0f921"
            ]
           ],
           "sequentialminus": [
            [
             0,
             "#0d0887"
            ],
            [
             0.1111111111111111,
             "#46039f"
            ],
            [
             0.2222222222222222,
             "#7201a8"
            ],
            [
             0.3333333333333333,
             "#9c179e"
            ],
            [
             0.4444444444444444,
             "#bd3786"
            ],
            [
             0.5555555555555556,
             "#d8576b"
            ],
            [
             0.6666666666666666,
             "#ed7953"
            ],
            [
             0.7777777777777778,
             "#fb9f3a"
            ],
            [
             0.8888888888888888,
             "#fdca26"
            ],
            [
             1,
             "#f0f921"
            ]
           ]
          },
          "colorway": [
           "#1f77b4",
           "#ff7f0e",
           "#2ca02c",
           "#d62728",
           "#9467bd",
           "#8c564b",
           "#e377c2",
           "#7f7f7f",
           "#bcbd22",
           "#17becf"
          ],
          "font": {
           "color": "#2a3f5f"
          },
          "geo": {
           "bgcolor": "white",
           "lakecolor": "white",
           "landcolor": "white",
           "showlakes": true,
           "showland": true,
           "subunitcolor": "#C8D4E3"
          },
          "hoverlabel": {
           "align": "left"
          },
          "hovermode": "closest",
          "mapbox": {
           "style": "light"
          },
          "paper_bgcolor": "white",
          "plot_bgcolor": "white",
          "polar": {
           "angularaxis": {
            "gridcolor": "#EBF0F8",
            "linecolor": "#EBF0F8",
            "ticks": ""
           },
           "bgcolor": "white",
           "radialaxis": {
            "gridcolor": "#EBF0F8",
            "linecolor": "#EBF0F8",
            "ticks": ""
           }
          },
          "scene": {
           "camera": {
            "center": {
             "x": 0,
             "y": 0,
             "z": 0
            },
            "eye": {
             "x": 2,
             "y": 2,
             "z": 2
            },
            "up": {
             "x": 0,
             "y": 0,
             "z": 1
            }
           },
           "xaxis": {
            "backgroundcolor": "white",
            "gridcolor": "#DFE8F3",
            "gridwidth": 2,
            "linecolor": "#EBF0F8",
            "showbackground": true,
            "showspikes": false,
            "ticks": "",
            "zerolinecolor": "#EBF0F8"
           },
           "yaxis": {
            "backgroundcolor": "white",
            "gridcolor": "#DFE8F3",
            "gridwidth": 2,
            "linecolor": "#EBF0F8",
            "showbackground": true,
            "showspikes": false,
            "ticks": "",
            "zerolinecolor": "#EBF0F8"
           },
           "zaxis": {
            "backgroundcolor": "white",
            "gridcolor": "#DFE8F3",
            "gridwidth": 2,
            "linecolor": "#EBF0F8",
            "showbackground": true,
            "showspikes": false,
            "ticks": "",
            "zerolinecolor": "#EBF0F8"
           }
          },
          "shapedefaults": {
           "line": {
            "color": "#2a3f5f"
           }
          },
          "ternary": {
           "aaxis": {
            "gridcolor": "#DFE8F3",
            "linecolor": "#A2B1C6",
            "ticks": ""
           },
           "baxis": {
            "gridcolor": "#DFE8F3",
            "linecolor": "#A2B1C6",
            "ticks": ""
           },
           "bgcolor": "white",
           "caxis": {
            "gridcolor": "#DFE8F3",
            "linecolor": "#A2B1C6",
            "ticks": ""
           }
          },
          "title": {
           "x": 0.05
          },
          "xaxis": {
           "automargin": true,
           "gridcolor": "#EBF0F8",
           "linecolor": "black",
           "linewidth": 2,
           "mirror": true,
           "showline": true,
           "ticks": "",
           "title": {
            "standoff": 15
           },
           "zeroline": false,
           "zerolinecolor": "#EBF0F8",
           "zerolinewidth": 2
          },
          "yaxis": {
           "automargin": true,
           "gridcolor": "#EBF0F8",
           "linecolor": "black",
           "linewidth": 2,
           "mirror": true,
           "showline": true,
           "ticks": "",
           "title": {
            "standoff": 15
           },
           "zeroline": false,
           "zerolinecolor": "#EBF0F8",
           "zerolinewidth": 2
          }
         }
        },
        "title": {
         "text": "Rotor Model"
        },
        "xaxis": {
         "mirror": true,
         "range": [
          -0.15000000000000002,
          1.6500000000000001
         ],
         "showgrid": false,
         "title": {
          "text": "Axial location (m)"
         }
        },
        "yaxis": {
         "mirror": true,
         "range": [
          -0.44999999999999996,
          0.44999999999999996
         ],
         "showgrid": false,
         "title": {
          "text": "Shaft radius (m)"
         }
        }
       }
      }
     },
     "metadata": {},
     "output_type": "display_data"
    }
   ],
   "source": [
    "sample = np.random.choice(list(iter(rand_rotor)))\n",
    "fig = sample.plot_rotor()\n",
    "fig.show()"
   ]
  },
  {
   "cell_type": "markdown",
   "metadata": {},
   "source": [
    "#### Running Stochastic Campbell Diagram"
   ]
  },
  {
   "cell_type": "code",
   "execution_count": 6,
   "metadata": {
    "execution": {
     "iopub.execute_input": "2024-03-22T18:23:16.461591Z",
     "iopub.status.busy": "2024-03-22T18:23:16.460615Z",
     "iopub.status.idle": "2024-03-22T18:24:28.745994Z",
     "shell.execute_reply": "2024-03-22T18:24:28.745464Z"
    }
   },
   "outputs": [],
   "source": [
    "speed_range = np.linspace(0, 600, 31)\n",
    "camp = rand_rotor.run_campbell(speed_range)"
   ]
  },
  {
   "cell_type": "markdown",
   "metadata": {},
   "source": [
    "#### Plotting Stochastic Campbell Diagram"
   ]
  },
  {
   "cell_type": "code",
   "execution_count": 7,
   "metadata": {
    "execution": {
     "iopub.execute_input": "2024-03-22T18:24:28.749159Z",
     "iopub.status.busy": "2024-03-22T18:24:28.748639Z",
     "iopub.status.idle": "2024-03-22T18:24:28.777042Z",
     "shell.execute_reply": "2024-03-22T18:24:28.776483Z"
    }
   },
   "outputs": [
    {
     "data": {
      "application/vnd.plotly.v1+json": {
       "config": {
        "plotlyServerURL": "https://plot.ly"
       },
       "data": [
        {
         "hovertemplate": "Frequency: %{x:.3f}<br>Frequency: %{y:.3f}",
         "legendgroup": "speed0",
         "line": {
          "color": "#2E91E5",
          "dash": "dashdot",
          "width": 3
         },
         "mode": "lines",
         "name": "1x speed",
         "type": "scatter",
         "x": [
          0,
          20,
          40,
          60,
          80,
          100,
          120,
          140,
          160,
          180,
          200,
          220,
          240,
          260,
          280,
          300,
          320,
          340,
          360,
          380,
          400,
          420,
          440,
          460,
          480,
          500,
          520,
          540,
          560,
          580,
          600
         ],
         "y": [
          0,
          20,
          40,
          60,
          80,
          100,
          120,
          140,
          160,
          180,
          200,
          220,
          240,
          260,
          280,
          300,
          320,
          340,
          360,
          380,
          400,
          420,
          440,
          460,
          480,
          500,
          520,
          540,
          560,
          580,
          600
         ]
        },
        {
         "hovertemplate": "Frequency: %{x:.3f}<br>Frequency: %{y:.3f}",
         "legendgroup": "mean0",
         "line": {
          "color": "#2E91E5",
          "width": 3
         },
         "mode": "lines",
         "name": "Mean - Mode 1 (Lateral)",
         "type": "scatter",
         "x": [
          0,
          20,
          40,
          60,
          80,
          100,
          120,
          140,
          160,
          180,
          200,
          220,
          240,
          260,
          280,
          300,
          320,
          340,
          360,
          380,
          400,
          420,
          440,
          460,
          480,
          500,
          520,
          540,
          560,
          580,
          600
         ],
         "y": [
          86.03258789626835,
          85.97080245576417,
          85.90868855626599,
          85.84624377375415,
          85.78346566697081,
          85.72035177747375,
          85.65689962969256,
          85.59310673096572,
          85.52897057162934,
          85.46448862509135,
          85.3996583478885,
          85.3344771798194,
          85.26894254402168,
          85.2030518470969,
          85.13680247924164,
          85.07019181436462,
          85.00321721025952,
          84.93587600874481,
          84.86816553585096,
          84.80008310199126,
          84.73162600217438,
          84.66279151620465,
          84.59357690891616,
          84.52397943041348,
          84.45399631631244,
          84.3836247880311,
          84.31286205306405,
          84.24170530528991,
          84.17015172529132,
          84.09819848068983,
          84.02584272650172
         ]
        },
        {
         "fill": "toself",
         "fillcolor": "#2E91E5",
         "hovertemplate": "Frequency: %{x:.3f}<br>Frequency: %{y:.3f}",
         "legendgroup": "conf00",
         "line": {
          "color": "#2E91E5",
          "width": 1
         },
         "mode": "lines",
         "name": "confidence interval: 95% - Mode 1 (Lateral)",
         "opacity": 0.3,
         "type": "scatter",
         "x": [
          0,
          20,
          40,
          60,
          80,
          100,
          120,
          140,
          160,
          180,
          200,
          220,
          240,
          260,
          280,
          300,
          320,
          340,
          360,
          380,
          400,
          420,
          440,
          460,
          480,
          500,
          520,
          540,
          560,
          580,
          600,
          600,
          580,
          560,
          540,
          520,
          500,
          480,
          460,
          440,
          420,
          400,
          380,
          360,
          340,
          320,
          300,
          280,
          260,
          240,
          220,
          200,
          180,
          160,
          140,
          120,
          100,
          80,
          60,
          40,
          20,
          0
         ],
         "y": [
          86.8069084824118,
          86.74874484623558,
          86.69027572948376,
          86.63149882624825,
          86.57241181210227,
          86.51301234416577,
          86.45329806110738,
          86.3932665829918,
          86.33291551136644,
          86.27224242925655,
          86.21124490103274,
          86.1499204725364,
          86.08826667106237,
          86.02628100533484,
          85.96396096554058,
          85.90130402343426,
          85.83830763221349,
          85.77496922673598,
          85.71128622351559,
          85.64725602072811,
          85.58287599840097,
          85.51814351837817,
          85.45305592452313,
          85.38761054280262,
          85.32180468131557,
          85.25563563054315,
          85.18910066346243,
          85.1221970356461,
          85.05492198550344,
          84.98727273442798,
          84.91924648700291,
          83.16431826803799,
          83.24117725504613,
          83.31758393784932,
          83.3935304178528,
          83.468864264366,
          83.5430712426492,
          83.61680727919796,
          83.69013564005493,
          83.76305913135516,
          83.83558054836092,
          83.907702675179,
          83.97942828428775,
          84.05076013620855,
          84.1217009792545,
          84.19225354906202,
          84.26242056840047,
          84.33220474680851,
          84.40160878037787,
          84.47063535147896,
          84.53928712846839,
          84.6075667655384,
          84.67547690239368,
          84.743020164196,
          84.8101991612504,
          84.87701648881075,
          84.94347472705729,
          85.00957644077725,
          85.07532417928687,
          85.14072047639418,
          85.20576785009297,
          85.27046880255037
         ]
        },
        {
         "hovertemplate": "Frequency: %{x:.3f}<br>Frequency: %{y:.3f}",
         "legendgroup": "mean1",
         "line": {
          "color": "#E15F99",
          "width": 3
         },
         "mode": "lines",
         "name": "Mean - Mode 2 (Lateral)",
         "type": "scatter",
         "x": [
          0,
          20,
          40,
          60,
          80,
          100,
          120,
          140,
          160,
          180,
          200,
          220,
          240,
          260,
          280,
          300,
          320,
          340,
          360,
          380,
          400,
          420,
          440,
          460,
          480,
          500,
          520,
          540,
          560,
          580,
          600
         ],
         "y": [
          86.03258789627864,
          86.09404728456705,
          86.15518301012207,
          86.21599744511812,
          86.2764929444067,
          86.33667184551818,
          86.39653646866593,
          86.45608911673008,
          86.51533207529324,
          86.57426761265685,
          86.63289797983643,
          86.69122541063064,
          86.74925212162252,
          86.80698031222977,
          86.86441216475325,
          86.92154984440239,
          86.9783954993702,
          87.0349512608685,
          87.0912192432003,
          87.14720154380619,
          87.20290024334423,
          87.25831740574526,
          87.3134550782956,
          87.36831529170583,
          87.42290006017764,
          87.47721138149964,
          87.53125123711843,
          87.58502159222613,
          87.63852439584582,
          87.69176158091808,
          87.74473506438933
         ]
        },
        {
         "fill": "toself",
         "fillcolor": "#E15F99",
         "hovertemplate": "Frequency: %{x:.3f}<br>Frequency: %{y:.3f}",
         "legendgroup": "conf10",
         "line": {
          "color": "#E15F99",
          "width": 1
         },
         "mode": "lines",
         "name": "confidence interval: 95% - Mode 2 (Lateral)",
         "opacity": 0.3,
         "type": "scatter",
         "x": [
          0,
          20,
          40,
          60,
          80,
          100,
          120,
          140,
          160,
          180,
          200,
          220,
          240,
          260,
          280,
          300,
          320,
          340,
          360,
          380,
          400,
          420,
          440,
          460,
          480,
          500,
          520,
          540,
          560,
          580,
          600,
          600,
          580,
          560,
          540,
          520,
          500,
          480,
          460,
          440,
          420,
          400,
          380,
          360,
          340,
          320,
          300,
          280,
          260,
          240,
          220,
          200,
          180,
          160,
          140,
          120,
          100,
          80,
          60,
          40,
          20,
          0
         ],
         "y": [
          86.80690848240152,
          86.86476892558717,
          86.9223284449716,
          86.97958929150845,
          87.03655369784792,
          87.0932238784831,
          87.14960202983448,
          87.20569033021845,
          87.26149094000154,
          87.31700600170524,
          87.37223763995189,
          87.42718796166872,
          87.48185905615433,
          87.53625299512848,
          87.59037183283338,
          87.64421760620654,
          87.6977923347923,
          87.75109802104518,
          87.80413665033645,
          87.85691019101832,
          87.90942059462499,
          87.96166979587134,
          88.01365971285225,
          88.06539224714675,
          88.11686928381474,
          88.16809269163885,
          88.21906432320772,
          88.26978601497507,
          88.32025958743334,
          88.37048684520512,
          88.42046957716624,
          87.06215658946653,
          87.00676563345665,
          86.9510957243043,
          86.89514484974438,
          86.83891098147481,
          86.78239207529592,
          86.72558607076401,
          86.66849089135582,
          86.61110444436267,
          86.55342462074613,
          86.49544929524342,
          86.43717632619658,
          86.37860355553683,
          86.31972880886963,
          86.26054989525129,
          86.20106460730817,
          86.14127072113406,
          86.08116599632447,
          86.02074817595332,
          85.9600149865252,
          85.89896413803935,
          85.83759332390629,
          85.77590022108211,
          85.71388249000104,
          85.65153777453818,
          85.58886370222585,
          85.52585788409321,
          85.46251791479095,
          85.39884137275365,
          85.33482582004154,
          85.27046880255355
         ]
        },
        {
         "hovertemplate": "Frequency: %{x:.3f}<br>Frequency: %{y:.3f}",
         "legendgroup": "mean2",
         "line": {
          "color": "#1CA71C",
          "width": 3
         },
         "mode": "lines",
         "name": "Mean - Mode 3 (Lateral)",
         "type": "scatter",
         "x": [
          0,
          20,
          40,
          60,
          80,
          100,
          120,
          140,
          160,
          180,
          200,
          220,
          240,
          260,
          280,
          300,
          320,
          340,
          360,
          380,
          400,
          420,
          440,
          460,
          480,
          500,
          520,
          540,
          560,
          580,
          600
         ],
         "y": [
          273.8777487850971,
          272.8608457754174,
          271.83862371474675,
          270.811125735516,
          269.77839881993464,
          268.7404939102023,
          267.69746601623507,
          266.6493743202146,
          265.5962822774869,
          264.5382577135555,
          263.4753729158954,
          262.4077047208742,
          261.3353345943985,
          260.2583487060824,
          259.17683799633716,
          258.09089823538255,
          257.0006300739607,
          255.90613908499176,
          254.80753579547064,
          253.70493570811155,
          252.5984593121644,
          251.48823208281726,
          250.37438446865076,
          249.2570518669528,
          248.1363745858311,
          247.0124977935694,
          245.88557145415035,
          244.7557502492997,
          243.62319348630052,
          242.48806499190223,
          241.350532992032
         ]
        },
        {
         "fill": "toself",
         "fillcolor": "#1CA71C",
         "hovertemplate": "Frequency: %{x:.3f}<br>Frequency: %{y:.3f}",
         "legendgroup": "conf20",
         "line": {
          "color": "#1CA71C",
          "width": 1
         },
         "mode": "lines",
         "name": "confidence interval: 95% - Mode 3 (Lateral)",
         "opacity": 0.3,
         "type": "scatter",
         "x": [
          0,
          20,
          40,
          60,
          80,
          100,
          120,
          140,
          160,
          180,
          200,
          220,
          240,
          260,
          280,
          300,
          320,
          340,
          360,
          380,
          400,
          420,
          440,
          460,
          480,
          500,
          520,
          540,
          560,
          580,
          600,
          600,
          580,
          560,
          540,
          520,
          500,
          480,
          460,
          440,
          420,
          400,
          380,
          360,
          340,
          320,
          300,
          280,
          260,
          240,
          220,
          200,
          180,
          160,
          140,
          120,
          100,
          80,
          60,
          40,
          20,
          0
         ],
         "y": [
          274.49725410290375,
          273.46630280607144,
          272.4303519855286,
          271.38945125161194,
          270.34365391226214,
          269.29301706440594,
          268.2376016819804,
          267.17747270070475,
          266.11269909812245,
          265.04335397022425,
          263.9695146023431,
          262.89126253428265,
          261.80868362033965,
          260.7218680820947,
          259.6309105543084,
          258.53591012319254,
          257.4369703565615,
          256.33419932554756,
          255.2277096172448,
          254.11761833782248,
          253.00404710525163,
          251.88712203241207,
          250.76697369859735,
          249.64373711119055,
          248.5175516541598,
          247.3885610269064,
          246.25691316962573,
          245.12276017745089,
          243.98625820300023,
          242.84756734549472,
          241.70685152926754,
          240.96394143765963,
          242.09733443881814,
          243.2279995941776,
          244.35576562253945,
          245.4804661294413,
          246.60193972456466,
          247.7200301225234,
          248.83458622925508,
          249.945462211881,
          251.05251755364145,
          252.1556170936258,
          253.25463105280934,
          254.34943504521542,
          255.43991007661765,
          256.52594252931414,
          257.60742413591464,
          258.68425194047325,
          259.75632824978305,
          260.82356057391223,
          261.8858615572066,
          262.94314890139566,
          263.9953452800237,
          265.04237824585505,
          266.0841801316739,
          267.1206879453112,
          268.15184325983444,
          269.1775920989593,
          270.197884818578,
          271.21267598531097,
          272.221924252291,
          273.225592233414
         ]
        },
        {
         "hovertemplate": "Frequency: %{x:.3f}<br>Frequency: %{y:.3f}",
         "legendgroup": "mean3",
         "line": {
          "color": "#FB0D0D",
          "width": 3
         },
         "mode": "lines",
         "name": "Mean - Mode 4 (Lateral)",
         "type": "scatter",
         "x": [
          0,
          20,
          40,
          60,
          80,
          100,
          120,
          140,
          160,
          180,
          200,
          220,
          240,
          260,
          280,
          300,
          320,
          340,
          360,
          380,
          400,
          420,
          440,
          460,
          480,
          500,
          520,
          540,
          560,
          580,
          600
         ],
         "y": [
          273.8777487851695,
          274.88929334919777,
          275.8954436966217,
          276.89616756538305,
          277.8914360866764,
          278.8812236689343,
          279.86550788202914,
          280.8442693417436,
          281.8174915948755,
          282.78516100559614,
          283.74726664269804,
          284.70380016872053,
          285.65475573046643,
          286.6001298515193,
          287.5399213269946,
          288.4741311201588,
          289.40276226161285,
          290.3258197509317,
          291.2433104606585,
          292.15524304311964,
          293.0616278397231,
          293.96247679308306,
          294.8578033617217,
          295.7476224378451,
          296.6319502674667,
          297.51080437355927,
          298.38420348195126,
          299.2521674497041,
          300.11471719663916,
          300.9718746390066,
          301.8236626260791
         ]
        },
        {
         "fill": "toself",
         "fillcolor": "#FB0D0D",
         "hovertemplate": "Frequency: %{x:.3f}<br>Frequency: %{y:.3f}",
         "legendgroup": "conf30",
         "line": {
          "color": "#FB0D0D",
          "width": 1
         },
         "mode": "lines",
         "name": "confidence interval: 95% - Mode 4 (Lateral)",
         "opacity": 0.3,
         "type": "scatter",
         "x": [
          0,
          20,
          40,
          60,
          80,
          100,
          120,
          140,
          160,
          180,
          200,
          220,
          240,
          260,
          280,
          300,
          320,
          340,
          360,
          380,
          400,
          420,
          440,
          460,
          480,
          500,
          520,
          540,
          560,
          580,
          600,
          600,
          580,
          560,
          540,
          520,
          500,
          480,
          460,
          440,
          420,
          400,
          380,
          360,
          340,
          320,
          300,
          280,
          260,
          240,
          220,
          200,
          180,
          160,
          140,
          120,
          100,
          80,
          60,
          40,
          20,
          0
         ],
         "y": [
          274.49725410296065,
          275.5231598700092,
          276.5439776091026,
          277.5596682325285,
          278.57019596360703,
          279.57552823675985,
          280.57563559661895,
          281.57049159704746,
          282.5600726995259,
          283.544358172545,
          284.5233299914326,
          285.49697273778776,
          286.4652735016319,
          287.4282217835609,
          288.3858093986823,
          289.3380303816897,
          290.2848808940736,
          291.22635913294573,
          292.16246524171885,
          293.0932012231864,
          294.0185708535167,
          294.93857960012826,
          295.853234540092,
          296.7625442822986,
          297.6665188905521,
          298.5651698102536,
          299.45850979607195,
          300.34655284313084,
          301.2293141193461,
          302.1068099021396,
          302.97905751428425,
          300.67997191965384,
          299.8471107256345,
          299.00878167563343,
          298.1649570695685,
          297.31561003446205,
          296.46040238613955,
          295.5993784749325,
          294.732764910312,
          293.8605390745883,
          292.9826795330627,
          292.09916611204915,
          291.2099799812351,
          290.31510373949897,
          289.41452150168897,
          288.50821899214736,
          287.5961836380578,
          286.67840466765284,
          285.7548732111621,
          284.8255824050797,
          283.89052749842216,
          282.94970596337146,
          282.00311760769443,
          281.0507646900394,
          280.0926520376005,
          279.1287871664624,
          278.15918040383997,
          277.18384501250745,
          276.2027973162837,
          275.2160568274399,
          274.2236463749029,
          273.2255922334865
         ]
        },
        {
         "hovertemplate": "Frequency: %{x:.3f}<br>Frequency: %{y:.3f}",
         "legendgroup": "mean4",
         "line": {
          "color": "#DA16FF",
          "width": 3
         },
         "mode": "lines",
         "name": "Mean - Mode 5 (Lateral)",
         "type": "scatter",
         "x": [
          0,
          20,
          40,
          60,
          80,
          100,
          120,
          140,
          160,
          180,
          200,
          220,
          240,
          260,
          280,
          300,
          320,
          340,
          360,
          380,
          400,
          420,
          440,
          460,
          480,
          500,
          520,
          540,
          560,
          580,
          600
         ],
         "y": [
          708.5789721615815,
          702.8236040838981,
          697.0578894569154,
          691.2853429502163,
          685.5094849544896,
          679.7338291837001,
          673.9618704619165,
          668.1970728038594,
          662.4428578772395,
          656.7025939372959,
          650.9795853089461,
          645.2770624819984,
          639.5981728829086,
          633.9459723667128,
          628.3234174678591,
          622.7333584397361,
          617.1785330953195,
          611.661561463874,
          606.1849412547513,
          600.7510441258714,
          595.3621127323892,
          590.0202585452163,
          584.7274603897998,
          579.4855636906408,
          574.2962803725015,
          569.1611893733229,
          564.0817377396463,
          559.0592422407872,
          554.0948914649587,
          549.1897483530197,
          544.344753114103
         ]
        },
        {
         "fill": "toself",
         "fillcolor": "#DA16FF",
         "hovertemplate": "Frequency: %{x:.3f}<br>Frequency: %{y:.3f}",
         "legendgroup": "conf40",
         "line": {
          "color": "#DA16FF",
          "width": 1
         },
         "mode": "lines",
         "name": "confidence interval: 95% - Mode 5 (Lateral)",
         "opacity": 0.3,
         "type": "scatter",
         "x": [
          0,
          20,
          40,
          60,
          80,
          100,
          120,
          140,
          160,
          180,
          200,
          220,
          240,
          260,
          280,
          300,
          320,
          340,
          360,
          380,
          400,
          420,
          440,
          460,
          480,
          500,
          520,
          540,
          560,
          580,
          600,
          600,
          580,
          560,
          540,
          520,
          500,
          480,
          460,
          440,
          420,
          400,
          380,
          360,
          340,
          320,
          300,
          280,
          260,
          240,
          220,
          200,
          180,
          160,
          140,
          120,
          100,
          80,
          60,
          40,
          20,
          0
         ],
         "y": [
          716.6289029859113,
          710.9678304854154,
          705.2940577857516,
          699.6109462610837,
          693.9218706414348,
          688.2302072703495,
          682.539322512818,
          676.8525613449245,
          671.1732362373995,
          665.50461648629,
          659.8499179080738,
          654.2122931676021,
          648.594822586988,
          643.0005057138363,
          637.4322534648708,
          631.892881058251,
          626.3851016435746,
          620.9115207024704,
          615.4746312047793,
          610.076809513081,
          604.7203120224284,
          599.4072725564324,
          594.139700418174,
          588.9194791759953,
          583.7483660425785,
          578.6279918844044,
          573.559861797612,
          568.5453562000356,
          563.5857324120989,
          558.6821266923112,
          553.8355566376341,
          534.9650423618856,
          539.8090496769461,
          544.7163950369433,
          549.6862178319111,
          554.7175304780271,
          559.8092150047289,
          564.9600199837064,
          570.1685578982198,
          575.4333029812491,
          580.7525896005545,
          586.1246111889429,
          591.547419833258,
          597.0189264988599,
          602.5369020495134,
          608.0989789162873,
          613.7026536681727,
          619.3452903468241,
          625.0241246721605,
          630.7362691148912,
          636.478663399192,
          642.2467114430269,
          648.038712164761,
          653.8513558586106,
          659.681247976802,
          665.5249192053802,
          671.378836268571,
          677.2394133431723,
          683.1030240074406,
          688.9660137412529,
          694.8247127223991,
          700.6754489262746
         ]
        },
        {
         "hovertemplate": "Frequency: %{x:.3f}<br>Frequency: %{y:.3f}",
         "legendgroup": "mean5",
         "line": {
          "color": "#222A2A",
          "width": 3
         },
         "mode": "lines",
         "name": "Mean - Mode 1 (Torsional)",
         "type": "scatter",
         "x": [
          0,
          20,
          40,
          60,
          80,
          100,
          120,
          140,
          160,
          180,
          200,
          220,
          240,
          260,
          280,
          300,
          320,
          340,
          360,
          380,
          400,
          420,
          440,
          460,
          480,
          500,
          520,
          540,
          560,
          580,
          600
         ],
         "y": [
          625.6694491189946,
          625.6694491174279,
          625.6694491170146,
          625.6694491177997,
          625.6694491183066,
          625.6694491166515,
          625.6694491178911,
          625.6694491182009,
          625.669449118482,
          625.6694491209939,
          625.6694491177647,
          625.6694491174142,
          625.6694491173074,
          625.6694491176484,
          625.669449119937,
          625.6694491175077,
          625.6694491199235,
          625.6694491176318,
          625.6694491176219,
          625.6694491181746,
          625.6694491185541,
          625.6694491186015,
          625.669449116643,
          625.6694491187684,
          625.6694491179469,
          625.6694491194728,
          625.6694491164432,
          625.6694491190138,
          625.6694491205373,
          625.6694491174917,
          625.669449117247
         ]
        },
        {
         "fill": "toself",
         "fillcolor": "#222A2A",
         "hovertemplate": "Frequency: %{x:.3f}<br>Frequency: %{y:.3f}",
         "legendgroup": "conf50",
         "line": {
          "color": "#222A2A",
          "width": 1
         },
         "mode": "lines",
         "name": "confidence interval: 95% - Mode 1 (Torsional)",
         "opacity": 0.3,
         "type": "scatter",
         "x": [
          0,
          20,
          40,
          60,
          80,
          100,
          120,
          140,
          160,
          180,
          200,
          220,
          240,
          260,
          280,
          300,
          320,
          340,
          360,
          380,
          400,
          420,
          440,
          460,
          480,
          500,
          520,
          540,
          560,
          580,
          600,
          600,
          580,
          560,
          540,
          520,
          500,
          480,
          460,
          440,
          420,
          400,
          380,
          360,
          340,
          320,
          300,
          280,
          260,
          240,
          220,
          200,
          180,
          160,
          140,
          120,
          100,
          80,
          60,
          40,
          20,
          0
         ],
         "y": [
          646.8575619369295,
          646.8575619325683,
          646.8575619280859,
          646.8575619259585,
          646.8575619379855,
          646.8575619288187,
          646.85756193975,
          646.8575619290184,
          646.8575619326919,
          646.8575619379812,
          646.8575619369963,
          646.857561926726,
          646.8575619269699,
          646.8575619342474,
          646.8575619384212,
          646.8575619398282,
          646.8575619283648,
          646.8575619220825,
          646.8575619362878,
          646.8575619373942,
          646.8575619531298,
          646.8575619417413,
          646.8575619342346,
          646.8575619349211,
          646.8575619347554,
          646.8575619403858,
          646.8575619229548,
          646.8575619400751,
          646.8575619440716,
          646.8575619402134,
          646.8575619379035,
          607.8709748188472,
          607.8709748173444,
          607.8709748211152,
          607.8709748210705,
          607.8709748169819,
          607.8709748229677,
          607.8709748210059,
          607.8709748285657,
          607.8709748188459,
          607.8709748146837,
          607.8709748125898,
          607.8709748174138,
          607.870974811962,
          607.870974821895,
          607.8709748201352,
          607.8709748182501,
          607.8709748200694,
          607.8709748181116,
          607.8709748209241,
          607.8709748221705,
          607.8709748240358,
          607.8709748208764,
          607.8709748241592,
          607.8709748122875,
          607.8709748131317,
          607.8709748199503,
          607.8709748195026,
          607.8709748190762,
          607.8709748279161,
          607.8709748198551,
          607.8709748144553
         ]
        }
       ],
       "layout": {
        "height": 700,
        "template": {
         "data": {
          "bar": [
           {
            "error_x": {
             "color": "#2a3f5f"
            },
            "error_y": {
             "color": "#2a3f5f"
            },
            "marker": {
             "line": {
              "color": "white",
              "width": 0.5
             }
            },
            "type": "bar"
           }
          ],
          "barpolar": [
           {
            "marker": {
             "line": {
              "color": "white",
              "width": 0.5
             }
            },
            "type": "barpolar"
           }
          ],
          "carpet": [
           {
            "aaxis": {
             "endlinecolor": "#2a3f5f",
             "gridcolor": "#C8D4E3",
             "linecolor": "#C8D4E3",
             "minorgridcolor": "#C8D4E3",
             "startlinecolor": "#2a3f5f"
            },
            "baxis": {
             "endlinecolor": "#2a3f5f",
             "gridcolor": "#C8D4E3",
             "linecolor": "#C8D4E3",
             "minorgridcolor": "#C8D4E3",
             "startlinecolor": "#2a3f5f"
            },
            "type": "carpet"
           }
          ],
          "choropleth": [
           {
            "colorbar": {
             "outlinewidth": 0,
             "ticks": ""
            },
            "type": "choropleth"
           }
          ],
          "contour": [
           {
            "colorbar": {
             "outlinewidth": 0,
             "ticks": ""
            },
            "colorscale": [
             [
              0,
              "#0d0887"
             ],
             [
              0.1111111111111111,
              "#46039f"
             ],
             [
              0.2222222222222222,
              "#7201a8"
             ],
             [
              0.3333333333333333,
              "#9c179e"
             ],
             [
              0.4444444444444444,
              "#bd3786"
             ],
             [
              0.5555555555555556,
              "#d8576b"
             ],
             [
              0.6666666666666666,
              "#ed7953"
             ],
             [
              0.7777777777777778,
              "#fb9f3a"
             ],
             [
              0.8888888888888888,
              "#fdca26"
             ],
             [
              1,
              "#f0f921"
             ]
            ],
            "type": "contour"
           }
          ],
          "contourcarpet": [
           {
            "colorbar": {
             "outlinewidth": 0,
             "ticks": ""
            },
            "type": "contourcarpet"
           }
          ],
          "heatmap": [
           {
            "colorbar": {
             "outlinewidth": 0,
             "ticks": ""
            },
            "colorscale": [
             [
              0,
              "#0d0887"
             ],
             [
              0.1111111111111111,
              "#46039f"
             ],
             [
              0.2222222222222222,
              "#7201a8"
             ],
             [
              0.3333333333333333,
              "#9c179e"
             ],
             [
              0.4444444444444444,
              "#bd3786"
             ],
             [
              0.5555555555555556,
              "#d8576b"
             ],
             [
              0.6666666666666666,
              "#ed7953"
             ],
             [
              0.7777777777777778,
              "#fb9f3a"
             ],
             [
              0.8888888888888888,
              "#fdca26"
             ],
             [
              1,
              "#f0f921"
             ]
            ],
            "type": "heatmap"
           }
          ],
          "heatmapgl": [
           {
            "colorbar": {
             "outlinewidth": 0,
             "ticks": ""
            },
            "colorscale": [
             [
              0,
              "#0d0887"
             ],
             [
              0.1111111111111111,
              "#46039f"
             ],
             [
              0.2222222222222222,
              "#7201a8"
             ],
             [
              0.3333333333333333,
              "#9c179e"
             ],
             [
              0.4444444444444444,
              "#bd3786"
             ],
             [
              0.5555555555555556,
              "#d8576b"
             ],
             [
              0.6666666666666666,
              "#ed7953"
             ],
             [
              0.7777777777777778,
              "#fb9f3a"
             ],
             [
              0.8888888888888888,
              "#fdca26"
             ],
             [
              1,
              "#f0f921"
             ]
            ],
            "type": "heatmapgl"
           }
          ],
          "histogram": [
           {
            "marker": {
             "colorbar": {
              "outlinewidth": 0,
              "ticks": ""
             }
            },
            "type": "histogram"
           }
          ],
          "histogram2d": [
           {
            "colorbar": {
             "outlinewidth": 0,
             "ticks": ""
            },
            "colorscale": [
             [
              0,
              "#0d0887"
             ],
             [
              0.1111111111111111,
              "#46039f"
             ],
             [
              0.2222222222222222,
              "#7201a8"
             ],
             [
              0.3333333333333333,
              "#9c179e"
             ],
             [
              0.4444444444444444,
              "#bd3786"
             ],
             [
              0.5555555555555556,
              "#d8576b"
             ],
             [
              0.6666666666666666,
              "#ed7953"
             ],
             [
              0.7777777777777778,
              "#fb9f3a"
             ],
             [
              0.8888888888888888,
              "#fdca26"
             ],
             [
              1,
              "#f0f921"
             ]
            ],
            "type": "histogram2d"
           }
          ],
          "histogram2dcontour": [
           {
            "colorbar": {
             "outlinewidth": 0,
             "ticks": ""
            },
            "colorscale": [
             [
              0,
              "#0d0887"
             ],
             [
              0.1111111111111111,
              "#46039f"
             ],
             [
              0.2222222222222222,
              "#7201a8"
             ],
             [
              0.3333333333333333,
              "#9c179e"
             ],
             [
              0.4444444444444444,
              "#bd3786"
             ],
             [
              0.5555555555555556,
              "#d8576b"
             ],
             [
              0.6666666666666666,
              "#ed7953"
             ],
             [
              0.7777777777777778,
              "#fb9f3a"
             ],
             [
              0.8888888888888888,
              "#fdca26"
             ],
             [
              1,
              "#f0f921"
             ]
            ],
            "type": "histogram2dcontour"
           }
          ],
          "mesh3d": [
           {
            "colorbar": {
             "outlinewidth": 0,
             "ticks": ""
            },
            "type": "mesh3d"
           }
          ],
          "parcoords": [
           {
            "line": {
             "colorbar": {
              "outlinewidth": 0,
              "ticks": ""
             }
            },
            "type": "parcoords"
           }
          ],
          "pie": [
           {
            "automargin": true,
            "type": "pie"
           }
          ],
          "scatter": [
           {
            "marker": {
             "colorbar": {
              "outlinewidth": 0,
              "ticks": ""
             }
            },
            "type": "scatter"
           }
          ],
          "scatter3d": [
           {
            "line": {
             "colorbar": {
              "outlinewidth": 0,
              "ticks": ""
             }
            },
            "marker": {
             "colorbar": {
              "outlinewidth": 0,
              "ticks": ""
             },
             "size": 4
            },
            "type": "scatter3d"
           }
          ],
          "scattercarpet": [
           {
            "marker": {
             "colorbar": {
              "outlinewidth": 0,
              "ticks": ""
             }
            },
            "type": "scattercarpet"
           }
          ],
          "scattergeo": [
           {
            "marker": {
             "colorbar": {
              "outlinewidth": 0,
              "ticks": ""
             }
            },
            "type": "scattergeo"
           }
          ],
          "scattergl": [
           {
            "marker": {
             "colorbar": {
              "outlinewidth": 0,
              "ticks": ""
             }
            },
            "type": "scattergl"
           }
          ],
          "scattermapbox": [
           {
            "marker": {
             "colorbar": {
              "outlinewidth": 0,
              "ticks": ""
             }
            },
            "type": "scattermapbox"
           }
          ],
          "scatterpolar": [
           {
            "marker": {
             "colorbar": {
              "outlinewidth": 0,
              "ticks": ""
             }
            },
            "type": "scatterpolar"
           }
          ],
          "scatterpolargl": [
           {
            "marker": {
             "colorbar": {
              "outlinewidth": 0,
              "ticks": ""
             }
            },
            "type": "scatterpolargl"
           }
          ],
          "scatterternary": [
           {
            "marker": {
             "colorbar": {
              "outlinewidth": 0,
              "ticks": ""
             }
            },
            "type": "scatterternary"
           }
          ],
          "surface": [
           {
            "colorbar": {
             "outlinewidth": 0,
             "ticks": ""
            },
            "colorscale": [
             [
              0,
              "#0d0887"
             ],
             [
              0.1111111111111111,
              "#46039f"
             ],
             [
              0.2222222222222222,
              "#7201a8"
             ],
             [
              0.3333333333333333,
              "#9c179e"
             ],
             [
              0.4444444444444444,
              "#bd3786"
             ],
             [
              0.5555555555555556,
              "#d8576b"
             ],
             [
              0.6666666666666666,
              "#ed7953"
             ],
             [
              0.7777777777777778,
              "#fb9f3a"
             ],
             [
              0.8888888888888888,
              "#fdca26"
             ],
             [
              1,
              "#f0f921"
             ]
            ],
            "type": "surface"
           }
          ],
          "table": [
           {
            "cells": {
             "fill": {
              "color": "#EBF0F8"
             },
             "line": {
              "color": "white"
             }
            },
            "header": {
             "fill": {
              "color": "#C8D4E3"
             },
             "line": {
              "color": "white"
             }
            },
            "type": "table"
           }
          ]
         },
         "layout": {
          "annotationdefaults": {
           "arrowcolor": "#2a3f5f",
           "arrowhead": 0,
           "arrowwidth": 1
          },
          "coloraxis": {
           "colorbar": {
            "outlinewidth": 0,
            "ticks": ""
           }
          },
          "colorscale": {
           "diverging": [
            [
             0,
             "#8e0152"
            ],
            [
             0.1,
             "#c51b7d"
            ],
            [
             0.2,
             "#de77ae"
            ],
            [
             0.3,
             "#f1b6da"
            ],
            [
             0.4,
             "#fde0ef"
            ],
            [
             0.5,
             "#f7f7f7"
            ],
            [
             0.6,
             "#e6f5d0"
            ],
            [
             0.7,
             "#b8e186"
            ],
            [
             0.8,
             "#7fbc41"
            ],
            [
             0.9,
             "#4d9221"
            ],
            [
             1,
             "#276419"
            ]
           ],
           "sequential": [
            [
             0,
             "#0d0887"
            ],
            [
             0.1111111111111111,
             "#46039f"
            ],
            [
             0.2222222222222222,
             "#7201a8"
            ],
            [
             0.3333333333333333,
             "#9c179e"
            ],
            [
             0.4444444444444444,
             "#bd3786"
            ],
            [
             0.5555555555555556,
             "#d8576b"
            ],
            [
             0.6666666666666666,
             "#ed7953"
            ],
            [
             0.7777777777777778,
             "#fb9f3a"
            ],
            [
             0.8888888888888888,
             "#fdca26"
            ],
            [
             1,
             "#f0f921"
            ]
           ],
           "sequentialminus": [
            [
             0,
             "#0d0887"
            ],
            [
             0.1111111111111111,
             "#46039f"
            ],
            [
             0.2222222222222222,
             "#7201a8"
            ],
            [
             0.3333333333333333,
             "#9c179e"
            ],
            [
             0.4444444444444444,
             "#bd3786"
            ],
            [
             0.5555555555555556,
             "#d8576b"
            ],
            [
             0.6666666666666666,
             "#ed7953"
            ],
            [
             0.7777777777777778,
             "#fb9f3a"
            ],
            [
             0.8888888888888888,
             "#fdca26"
            ],
            [
             1,
             "#f0f921"
            ]
           ]
          },
          "colorway": [
           "#1f77b4",
           "#ff7f0e",
           "#2ca02c",
           "#d62728",
           "#9467bd",
           "#8c564b",
           "#e377c2",
           "#7f7f7f",
           "#bcbd22",
           "#17becf"
          ],
          "font": {
           "color": "#2a3f5f"
          },
          "geo": {
           "bgcolor": "white",
           "lakecolor": "white",
           "landcolor": "white",
           "showlakes": true,
           "showland": true,
           "subunitcolor": "#C8D4E3"
          },
          "hoverlabel": {
           "align": "left"
          },
          "hovermode": "closest",
          "mapbox": {
           "style": "light"
          },
          "paper_bgcolor": "white",
          "plot_bgcolor": "white",
          "polar": {
           "angularaxis": {
            "gridcolor": "#EBF0F8",
            "linecolor": "#EBF0F8",
            "ticks": ""
           },
           "bgcolor": "white",
           "radialaxis": {
            "gridcolor": "#EBF0F8",
            "linecolor": "#EBF0F8",
            "ticks": ""
           }
          },
          "scene": {
           "camera": {
            "center": {
             "x": 0,
             "y": 0,
             "z": 0
            },
            "eye": {
             "x": 2,
             "y": 2,
             "z": 2
            },
            "up": {
             "x": 0,
             "y": 0,
             "z": 1
            }
           },
           "xaxis": {
            "backgroundcolor": "white",
            "gridcolor": "#DFE8F3",
            "gridwidth": 2,
            "linecolor": "#EBF0F8",
            "showbackground": true,
            "showspikes": false,
            "ticks": "",
            "zerolinecolor": "#EBF0F8"
           },
           "yaxis": {
            "backgroundcolor": "white",
            "gridcolor": "#DFE8F3",
            "gridwidth": 2,
            "linecolor": "#EBF0F8",
            "showbackground": true,
            "showspikes": false,
            "ticks": "",
            "zerolinecolor": "#EBF0F8"
           },
           "zaxis": {
            "backgroundcolor": "white",
            "gridcolor": "#DFE8F3",
            "gridwidth": 2,
            "linecolor": "#EBF0F8",
            "showbackground": true,
            "showspikes": false,
            "ticks": "",
            "zerolinecolor": "#EBF0F8"
           }
          },
          "shapedefaults": {
           "line": {
            "color": "#2a3f5f"
           }
          },
          "ternary": {
           "aaxis": {
            "gridcolor": "#DFE8F3",
            "linecolor": "#A2B1C6",
            "ticks": ""
           },
           "baxis": {
            "gridcolor": "#DFE8F3",
            "linecolor": "#A2B1C6",
            "ticks": ""
           },
           "bgcolor": "white",
           "caxis": {
            "gridcolor": "#DFE8F3",
            "linecolor": "#A2B1C6",
            "ticks": ""
           }
          },
          "title": {
           "x": 0.05
          },
          "xaxis": {
           "automargin": true,
           "gridcolor": "#EBF0F8",
           "linecolor": "black",
           "linewidth": 2,
           "mirror": true,
           "showline": true,
           "ticks": "",
           "title": {
            "standoff": 15
           },
           "zeroline": false,
           "zerolinecolor": "#EBF0F8",
           "zerolinewidth": 2
          },
          "yaxis": {
           "automargin": true,
           "gridcolor": "#EBF0F8",
           "linecolor": "black",
           "linewidth": 2,
           "mirror": true,
           "showline": true,
           "ticks": "",
           "title": {
            "standoff": 15
           },
           "zeroline": false,
           "zerolinecolor": "#EBF0F8",
           "zerolinewidth": 2
          }
         }
        },
        "width": 950,
        "xaxis": {
         "exponentformat": "none",
         "range": [
          0,
          600
         ],
         "title": {
          "text": "Frequency (rad/s)"
         }
        },
        "yaxis": {
         "range": [
          0,
          788.692424031595
         ],
         "title": {
          "text": "Natural Frequencies (rad/s)"
         }
        }
       }
      }
     },
     "metadata": {},
     "output_type": "display_data"
    }
   ],
   "source": [
    "# choose the desirable percentiles or confidence intervals\n",
    "fig1 = camp.plot_nat_freq(conf_interval=[95], width=950, height=700)\n",
    "fig1.show()"
   ]
  },
  {
   "cell_type": "code",
   "execution_count": 8,
   "metadata": {
    "execution": {
     "iopub.execute_input": "2024-03-22T18:24:28.780233Z",
     "iopub.status.busy": "2024-03-22T18:24:28.780233Z",
     "iopub.status.idle": "2024-03-22T18:24:28.802424Z",
     "shell.execute_reply": "2024-03-22T18:24:28.802424Z"
    }
   },
   "outputs": [
    {
     "data": {
      "application/vnd.plotly.v1+json": {
       "config": {
        "plotlyServerURL": "https://plot.ly"
       },
       "data": [
        {
         "hovertemplate": "Frequency: %{x:.3f}<br>Log Dec: %{y:.3f}",
         "legendgroup": "mean0",
         "line": {
          "color": "#2E91E5",
          "width": 3
         },
         "name": "Mean - Mode 1 (Lateral)",
         "opacity": 1,
         "type": "scatter",
         "x": [
          0,
          20,
          40,
          60,
          80,
          100,
          120,
          140,
          160,
          180,
          200,
          220,
          240,
          260,
          280,
          300,
          320,
          340,
          360,
          380,
          400,
          420,
          440,
          460,
          480,
          500,
          520,
          540,
          560,
          580,
          600
         ],
         "y": [
          0.02101555449888547,
          0.0209514249729505,
          0.020887022481656293,
          0.020822346908990378,
          0.020757398181310435,
          0.020692176269676166,
          0.02062668119055928,
          0.020560913008125986,
          0.020494871835384693,
          0.020428557834271867,
          0.020361971220016407,
          0.02029511225911558,
          0.02022798127442192,
          0.020160578644008397,
          0.02009290480418818,
          0.02002496025048089,
          0.019956745540163526,
          0.019888261292628873,
          0.019819508191909693,
          0.019750486989210538,
          0.01968119850277222,
          0.01961164362149425,
          0.019541823305391195,
          0.01947173858836664,
          0.019401390580599115,
          0.019330780468341448,
          0.019259909517955823,
          0.019188779077552252,
          0.019117390577770788,
          0.019045745535007347,
          0.01897384555293294
         ]
        },
        {
         "fill": "toself",
         "fillcolor": "#2E91E5",
         "hoverinfo": "none",
         "legendgroup": "conf00",
         "line": {
          "color": "#2E91E5",
          "width": 1
         },
         "name": "confidence interval: 95% - Mode 1 (Lateral)",
         "opacity": 0.3,
         "type": "scatter",
         "x": [
          0,
          20,
          40,
          60,
          80,
          100,
          120,
          140,
          160,
          180,
          200,
          220,
          240,
          260,
          280,
          300,
          320,
          340,
          360,
          380,
          400,
          420,
          440,
          460,
          480,
          500,
          520,
          540,
          560,
          580,
          600,
          600,
          580,
          560,
          540,
          520,
          500,
          480,
          460,
          440,
          420,
          400,
          380,
          360,
          340,
          320,
          300,
          280,
          260,
          240,
          220,
          200,
          180,
          160,
          140,
          120,
          100,
          80,
          60,
          40,
          20,
          0
         ],
         "y": [
          0.02158292117168436,
          0.021521380735846227,
          0.021459573274407416,
          0.02139749842958074,
          0.021335155880605965,
          0.021272545342869077,
          0.021209666568400037,
          0.021146519344850578,
          0.02108310350393166,
          0.02101941891883564,
          0.020955465502963795,
          0.020891243215440513,
          0.020826752058587212,
          0.02076199208734462,
          0.020696963399293052,
          0.02063166614129958,
          0.020566100516951978,
          0.02050026677793032,
          0.020434259336450475,
          0.020368011191124184,
          0.02030149658653477,
          0.020234715998215504,
          0.02016766995781061,
          0.020100359064842813,
          0.02003278398168942,
          0.019964945434346647,
          0.019896844217593856,
          0.019828481196706972,
          0.01975985730785345,
          0.019690973561397433,
          0.01962183104211812,
          0.018327157896563345,
          0.018401873156316372,
          0.018476338915699254,
          0.018550553000259557,
          0.018624513333243223,
          0.018698217936942648,
          0.018771664930711713,
          0.018844852525949318,
          0.018917779026716743,
          0.018990442827791124,
          0.019062842408418854,
          0.019134976335285703,
          0.019206843260288417,
          0.019278441912996498,
          0.01934977110730296,
          0.019420829732242063,
          0.01949161675120028,
          0.01956213120593451,
          0.019632372206830347,
          0.019702338934232802,
          0.01977203064041909,
          0.019841446638962878,
          0.019910586315130305,
          0.019979449113513383,
          0.020048034538650512,
          0.020116342155878666,
          0.02018437159516096,
          0.02025212253686055,
          0.02031959471410195,
          0.020386787922000337,
          0.02045370199886696
         ]
        },
        {
         "hovertemplate": "Frequency: %{x:.3f}<br>Log Dec: %{y:.3f}",
         "legendgroup": "mean1",
         "line": {
          "color": "#E15F99",
          "width": 3
         },
         "name": "Mean - Mode 2 (Lateral)",
         "opacity": 1,
         "type": "scatter",
         "x": [
          0,
          20,
          40,
          60,
          80,
          100,
          120,
          140,
          160,
          180,
          200,
          220,
          240,
          260,
          280,
          300,
          320,
          340,
          360,
          380,
          400,
          420,
          440,
          460,
          480,
          500,
          520,
          540,
          560,
          580,
          600
         ],
         "y": [
          0.0210155544989598,
          0.021079411218299114,
          0.021142995330324186,
          0.02120630707247038,
          0.021269346720972547,
          0.02133211458844032,
          0.021394611023635175,
          0.021456836409109385,
          0.021518791160574396,
          0.02158047572721877,
          0.021641890587486237,
          0.02170303625179694,
          0.02176391325793835,
          0.021824522172699777,
          0.021884863589537208,
          0.021944938128229296,
          0.022004746433107614,
          0.02206428917348889,
          0.022123567041908255,
          0.022182580752496465,
          0.022241331042127152,
          0.02229981866766092,
          0.022358044406642484,
          0.022416009055485957,
          0.02247371342824204,
          0.022531158358038206,
          0.022588344694292536,
          0.022645273302167025,
          0.022701945063252786,
          0.022758360873635107,
          0.02281452164379208
         ]
        },
        {
         "fill": "toself",
         "fillcolor": "#E15F99",
         "hoverinfo": "none",
         "legendgroup": "conf10",
         "line": {
          "color": "#E15F99",
          "width": 1
         },
         "name": "confidence interval: 95% - Mode 2 (Lateral)",
         "opacity": 0.3,
         "type": "scatter",
         "x": [
          0,
          20,
          40,
          60,
          80,
          100,
          120,
          140,
          160,
          180,
          200,
          220,
          240,
          260,
          280,
          300,
          320,
          340,
          360,
          380,
          400,
          420,
          440,
          460,
          480,
          500,
          520,
          540,
          560,
          580,
          600,
          600,
          580,
          560,
          540,
          520,
          500,
          480,
          460,
          440,
          420,
          400,
          380,
          360,
          340,
          320,
          300,
          280,
          260,
          240,
          220,
          200,
          180,
          160,
          140,
          120,
          100,
          80,
          60,
          40,
          20,
          0
         ],
         "y": [
          0.021582921171722586,
          0.021644194973586536,
          0.021705202565399227,
          0.021765944403721035,
          0.021826420973243013,
          0.021886632788355242,
          0.021946580393522142,
          0.02200626436283433,
          0.022065685293370982,
          0.02212484380797666,
          0.022183740555862256,
          0.022242376208446765,
          0.022300751462707914,
          0.022358867031303027,
          0.02241672365363662,
          0.02247432209047572,
          0.022531663115587977,
          0.022588747527254704,
          0.022645576141829115,
          0.02270214978703895,
          0.022758469313621587,
          0.02281453558237838,
          0.022870349475774526,
          0.02292591188299261,
          0.022981223712946957,
          0.02303628588595709,
          0.023091099333274533,
          0.023145665001512893,
          0.023199983844477093,
          0.023254056830203547,
          0.02330788493454942,
          0.022332301969179187,
          0.022273631101448695,
          0.02221469419042755,
          0.02215549040196794,
          0.02209601892269913,
          0.022036278958091522,
          0.02197626973275429,
          0.021915990494094734,
          0.02185544051050046,
          0.021794619072561732,
          0.021733525497147747,
          0.021672159124480835,
          0.021610519318477406,
          0.02154860547324569,
          0.021486417005974645,
          0.021423953364969463,
          0.021361214029186906,
          0.02129819850409025,
          0.02123490632982297,
          0.02117133707974838,
          0.02110749035752977,
          0.02104336580691504,
          0.020978963101323835,
          0.020914281955127203,
          0.020849322122811337,
          0.020784083398073395,
          0.020718565608752425,
          0.020652768631692964,
          0.02058669238905453,
          0.02052033684020845,
          0.02045370199954279
         ]
        },
        {
         "hovertemplate": "Frequency: %{x:.3f}<br>Log Dec: %{y:.3f}",
         "legendgroup": "mean2",
         "line": {
          "color": "#1CA71C",
          "width": 3
         },
         "name": "Mean - Mode 3 (Lateral)",
         "opacity": 1,
         "type": "scatter",
         "x": [
          0,
          20,
          40,
          60,
          80,
          100,
          120,
          140,
          160,
          180,
          200,
          220,
          240,
          260,
          280,
          300,
          320,
          340,
          360,
          380,
          400,
          420,
          440,
          460,
          480,
          500,
          520,
          540,
          560,
          580,
          600
         ],
         "y": [
          0.11007390916493062,
          0.11023445774553296,
          0.11039021400655179,
          0.11054103151462083,
          0.11068676291492113,
          0.11082726014022748,
          0.11096237463242062,
          0.1110919575792114,
          0.11121586016524221,
          0.111333933840675,
          0.11144603059950424,
          0.11155200327553018,
          0.11165170585039624,
          0.11174499377483177,
          0.11183172430366416,
          0.11191175683833329,
          0.11198495328662936,
          0.11205117842418076,
          0.11211030027044214,
          0.11216219046614884,
          0.11220672466289416,
          0.11224378290726836,
          0.11227325003679196,
          0.11229501606749817,
          0.11230897658518461,
          0.11231503312950548,
          0.11231309357328399,
          0.11230307249340607,
          0.11228489153120949,
          0.11225847974002302,
          0.11222377391544514
         ]
        },
        {
         "fill": "toself",
         "fillcolor": "#1CA71C",
         "hoverinfo": "none",
         "legendgroup": "conf20",
         "line": {
          "color": "#1CA71C",
          "width": 1
         },
         "name": "confidence interval: 95% - Mode 3 (Lateral)",
         "opacity": 0.3,
         "type": "scatter",
         "x": [
          0,
          20,
          40,
          60,
          80,
          100,
          120,
          140,
          160,
          180,
          200,
          220,
          240,
          260,
          280,
          300,
          320,
          340,
          360,
          380,
          400,
          420,
          440,
          460,
          480,
          500,
          520,
          540,
          560,
          580,
          600,
          600,
          580,
          560,
          540,
          520,
          500,
          480,
          460,
          440,
          420,
          400,
          380,
          360,
          340,
          320,
          300,
          280,
          260,
          240,
          220,
          200,
          180,
          160,
          140,
          120,
          100,
          80,
          60,
          40,
          20,
          0
         ],
         "y": [
          0.11089348988495,
          0.11104099517409718,
          0.11118362165117862,
          0.1113212312105162,
          0.11145368526520644,
          0.11158084497133393,
          0.11170257142340075,
          0.11181872590906547,
          0.11192917013120748,
          0.11203376648148367,
          0.11213237828864132,
          0.11222487011844058,
          0.11231110804519906,
          0.1123909599573675,
          0.11246429587149329,
          0.11253098824123378,
          0.11259091228445188,
          0.11264394632003075,
          0.11269030008855392,
          0.11272960783959275,
          0.1127616747350765,
          0.1127863944034328,
          0.11280366529405382,
          0.1128133910034872,
          0.11281548062844701,
          0.11280984910266942,
          0.11279641749944089,
          0.1127751133867157,
          0.11274587110237544,
          0.11270863206711974,
          0.11266334505072252,
          0.11178257959573258,
          0.11180731705906934,
          0.1118235655714933,
          0.1118313991924584,
          0.11183090001616586,
          0.11182215779038188,
          0.11180521288507847,
          0.11177994510768671,
          0.11174673497052941,
          0.1117056994068799,
          0.11165643270600158,
          0.11159908256480235,
          0.11153426547726518,
          0.11146211998243184,
          0.11138278847668508,
          0.11129641679803814,
          0.1112031537955038,
          0.1111031509197775,
          0.11099656183481202,
          0.11088354202049662,
          0.11076404110894118,
          0.11063829116561139,
          0.11050658151949908,
          0.11036907184816229,
          0.11022592193084291,
          0.11007729134724345,
          0.10992333920074093,
          0.10976422388268119,
          0.10960010279335484,
          0.10943113214704923,
          0.10925746675071873
         ]
        },
        {
         "hovertemplate": "Frequency: %{x:.3f}<br>Log Dec: %{y:.3f}",
         "legendgroup": "mean3",
         "line": {
          "color": "#FB0D0D",
          "width": 3
         },
         "name": "Mean - Mode 4 (Lateral)",
         "opacity": 1,
         "type": "scatter",
         "x": [
          0,
          20,
          40,
          60,
          80,
          100,
          120,
          140,
          160,
          180,
          200,
          220,
          240,
          260,
          280,
          300,
          320,
          340,
          360,
          380,
          400,
          420,
          440,
          460,
          480,
          500,
          520,
          540,
          560,
          580,
          600
         ],
         "y": [
          0.1100739091650738,
          0.10990871358540413,
          0.10973901503531037,
          0.10956495608659486,
          0.10938667770530987,
          0.10920431911270193,
          0.10901801766148235,
          0.10882790872452727,
          0.10863412559612337,
          0.10843679940061147,
          0.10823605901821383,
          0.10803203101746227,
          0.10782483959698762,
          0.10761460654036713,
          0.1074014511743483,
          0.10718549034265884,
          0.10696683837785498,
          0.10674560709026151,
          0.10652190575625722,
          0.10629584111928825,
          0.10606751738671003,
          0.10583703624438286,
          0.10560449686531045,
          0.10536999593015103,
          0.10513362764420446,
          0.10489548376749656,
          0.10465565364028309,
          0.10441422421222203,
          0.10417128007899812,
          0.10392690351533859,
          0.10368117451493244
         ]
        },
        {
         "fill": "toself",
         "fillcolor": "#FB0D0D",
         "hoverinfo": "none",
         "legendgroup": "conf30",
         "line": {
          "color": "#FB0D0D",
          "width": 1
         },
         "name": "confidence interval: 95% - Mode 4 (Lateral)",
         "opacity": 0.3,
         "type": "scatter",
         "x": [
          0,
          20,
          40,
          60,
          80,
          100,
          120,
          140,
          160,
          180,
          200,
          220,
          240,
          260,
          280,
          300,
          320,
          340,
          360,
          380,
          400,
          420,
          440,
          460,
          480,
          500,
          520,
          540,
          560,
          580,
          600,
          600,
          580,
          560,
          540,
          520,
          500,
          480,
          460,
          440,
          420,
          400,
          380,
          360,
          340,
          320,
          300,
          280,
          260,
          240,
          220,
          200,
          180,
          160,
          140,
          120,
          100,
          80,
          60,
          40,
          20,
          0
         ],
         "y": [
          0.11089348988484816,
          0.11074124322645822,
          0.1105843917941168,
          0.1104230711630278,
          0.11025741574552719,
          0.11008755862650198,
          0.10991363145357799,
          0.10973576429833985,
          0.10955408555753829,
          0.10936872184507986,
          0.1091797979205735,
          0.10898743657958353,
          0.108791758617455,
          0.10859288274700306,
          0.10839092555390203,
          0.10818600145116186,
          0.10797822264445464,
          0.10776769910732302,
          0.10755453853915715,
          0.10733884637846428,
          0.10712072577024939,
          0.10690027756997017,
          0.10667760033264777,
          0.10645279034371413,
          0.10622594159842985,
          0.10599714583146391,
          0.10576649252402867,
          0.1055340689428963,
          0.10529996013713468,
          0.10506424897592126,
          0.10482701617810951,
          0.10253938086894158,
          0.1027935056800567,
          0.10304645350368806,
          0.10329814529112824,
          0.10354849961096267,
          0.1037974325624744,
          0.10404485774649624,
          0.10429068621173258,
          0.10453482642366729,
          0.1047771842105588,
          0.10501766273678413,
          0.10525616246410072,
          0.10549258112092437,
          0.10572681367060167,
          0.10595875230200233,
          0.10618828639590304,
          0.10641520915859837,
          0.10663949110094346,
          0.1068610188971951,
          0.10707967072117534,
          0.10729532195328045,
          0.10750784520638595,
          0.10771711035904862,
          0.10792298459891847,
          0.1081253324740216,
          0.10832401595486665,
          0.10851889452107356,
          0.10870982521915216,
          0.1088966628035407,
          0.1090792598202953,
          0.10925746675070677
         ]
        },
        {
         "hovertemplate": "Frequency: %{x:.3f}<br>Log Dec: %{y:.3f}",
         "legendgroup": "mean4",
         "line": {
          "color": "#DA16FF",
          "width": 3
         },
         "name": "Mean - Mode 5 (Lateral)",
         "opacity": 1,
         "type": "scatter",
         "x": [
          0,
          20,
          40,
          60,
          80,
          100,
          120,
          140,
          160,
          180,
          200,
          220,
          240,
          260,
          280,
          300,
          320,
          340,
          360,
          380,
          400,
          420,
          440,
          460,
          480,
          500,
          520,
          540,
          560,
          580,
          600
         ],
         "y": [
          0.22296172930173494,
          0.22094988479172617,
          0.2189262250612862,
          0.2168929602416924,
          0.214852298661544,
          0.2128064367756602,
          0.21075754957703607,
          0.20870778147484007,
          0.20665923782698034,
          0.20461397704094333,
          0.20257400341949144,
          0.20054126074697348,
          0.19851762653593039,
          0.19650490714390503,
          0.1945048335706893,
          0.19251905793499788,
          0.19054915080946688,
          0.18859659910573545,
          0.18666280467912436,
          0.1847490834328202,
          0.18285666514936375,
          0.1809866936536557,
          0.1791402275242601,
          0.17731824121335893,
          0.17552162647013642,
          0.17375119414076962,
          0.17200767618025076,
          0.1702917279030273,
          0.16860393043623442,
          0.1669447932673982,
          0.165314756936065
         ]
        },
        {
         "fill": "toself",
         "fillcolor": "#DA16FF",
         "hoverinfo": "none",
         "legendgroup": "conf40",
         "line": {
          "color": "#DA16FF",
          "width": 1
         },
         "name": "confidence interval: 95% - Mode 5 (Lateral)",
         "opacity": 0.3,
         "type": "scatter",
         "x": [
          0,
          20,
          40,
          60,
          80,
          100,
          120,
          140,
          160,
          180,
          200,
          220,
          240,
          260,
          280,
          300,
          320,
          340,
          360,
          380,
          400,
          420,
          440,
          460,
          480,
          500,
          520,
          540,
          560,
          580,
          600,
          600,
          580,
          560,
          540,
          520,
          500,
          480,
          460,
          440,
          420,
          400,
          380,
          360,
          340,
          320,
          300,
          280,
          260,
          240,
          220,
          200,
          180,
          160,
          140,
          120,
          100,
          80,
          60,
          40,
          20,
          0
         ],
         "y": [
          0.22327321507491787,
          0.22127555400969612,
          0.2192655240028138,
          0.21724811978308556,
          0.21522251764742747,
          0.21319088284360108,
          0.21115536440801413,
          0.20911808554835967,
          0.20708113566914688,
          0.20504656168105448,
          0.20301636101518253,
          0.20099247488666055,
          0.1989781256857935,
          0.19697401934012615,
          0.19498159363917797,
          0.19300250991848794,
          0.1910383506901791,
          0.18909061752214812,
          0.18716072901495995,
          0.18525001965907154,
          0.18335973931613525,
          0.1814910530825451,
          0.179645041726576,
          0.1778227024297283,
          0.17602495015311395,
          0.17425261907260678,
          0.17250646451635437,
          0.17078723014046876,
          0.16909650298361037,
          0.16743370818257816,
          0.165799308316422,
          0.1648472770728222,
          0.16647114466998367,
          0.1681245495852659,
          0.1698070684089048,
          0.17151820952181893,
          0.17325741030637948,
          0.17502403486655904,
          0.1768173711603574,
          0.17863662872520625,
          0.18048093670612517,
          0.18234934178243206,
          0.1842408066887986,
          0.18615420861895768,
          0.18808833873953393,
          0.19004190147826103,
          0.192013514349757,
          0.19400170891633506,
          0.19600493149846915,
          0.1980215453198072,
          0.20004983261577636,
          0.2020879977864108,
          0.2041341715754183,
          0.2061855675757866,
          0.20824099372496513,
          0.2102984012255768,
          0.21235568107159566,
          0.2144106813237522,
          0.21646121548411054,
          0.2185050713525694,
          0.22054002059949884,
          0.2225638287282628
         ]
        },
        {
         "hovertemplate": "Frequency: %{x:.3f}<br>Log Dec: %{y:.3f}",
         "legendgroup": "mean5",
         "line": {
          "color": "#222A2A",
          "width": 3
         },
         "name": "Mean - Mode 1 (Torsional)",
         "opacity": 1,
         "type": "scatter",
         "x": [
          0,
          20,
          40,
          60,
          80,
          100,
          120,
          140,
          160,
          180,
          200,
          220,
          240,
          260,
          280,
          300,
          320,
          340,
          360,
          380,
          400,
          420,
          440,
          460,
          480,
          500,
          520,
          540,
          560,
          580,
          600
         ],
         "y": [
          3.875904991919036e-15,
          -4.546831103804212e-14,
          -6.128882838392224e-14,
          -4.711107676025762e-14,
          -4.5303163045756304e-14,
          -1.1491988578609537e-13,
          -3.285410646940846e-14,
          6.428995734205618e-15,
          4.056271586498227e-15,
          8.110362124258664e-14,
          -4.464530347863019e-15,
          -2.330150796679948e-14,
          -3.774144612856518e-14,
          -5.633951915461849e-14,
          2.5236478209729177e-14,
          -3.868695144322625e-14,
          6.654278790290545e-14,
          -2.536580649291492e-14,
          -4.3233612890779363e-14,
          1.465940828584157e-14,
          5.9875958716801574e-15,
          -9.128369974958975e-15,
          -6.800932298282594e-14,
          1.8584564612427923e-14,
          2.2866847024284958e-14,
          1.4636013734640043e-14,
          -4.0490507399881895e-14,
          -2.057291164063469e-14,
          1.4869843444690026e-13,
          -2.007706980646238e-14,
          -3.792969106829623e-14
         ]
        },
        {
         "fill": "toself",
         "fillcolor": "#222A2A",
         "hoverinfo": "none",
         "legendgroup": "conf50",
         "line": {
          "color": "#222A2A",
          "width": 1
         },
         "name": "confidence interval: 95% - Mode 1 (Torsional)",
         "opacity": 0.3,
         "type": "scatter",
         "x": [
          0,
          20,
          40,
          60,
          80,
          100,
          120,
          140,
          160,
          180,
          200,
          220,
          240,
          260,
          280,
          300,
          320,
          340,
          360,
          380,
          400,
          420,
          440,
          460,
          480,
          500,
          520,
          540,
          560,
          580,
          600,
          600,
          580,
          560,
          540,
          520,
          500,
          480,
          460,
          440,
          420,
          400,
          380,
          360,
          340,
          320,
          300,
          280,
          260,
          240,
          220,
          200,
          180,
          160,
          140,
          120,
          100,
          80,
          60,
          40,
          20,
          0
         ],
         "y": [
          4.4857276717774166e-13,
          4.203774508664416e-13,
          3.902674642262603e-13,
          4.953118558059843e-13,
          3.564965238139415e-13,
          5.05223429129335e-13,
          3.8041517205965444e-13,
          4.437802868670407e-13,
          6.851800652626949e-13,
          7.504408258485105e-13,
          6.869456604604514e-13,
          3.596944447516224e-13,
          5.153507368299752e-13,
          3.3425859802161196e-13,
          4.476104923423521e-13,
          3.6102898493839365e-13,
          9.586385344284738e-13,
          5.169207066123114e-13,
          4.3679871547184626e-13,
          5.579558238838745e-13,
          6.610410751325756e-13,
          3.2381182315170547e-13,
          3.949529835837551e-13,
          4.0073249809135115e-13,
          5.972598467865756e-13,
          3.66647670099096e-13,
          4.588071068858035e-13,
          5.722870332235803e-13,
          8.079106027143321e-13,
          5.385714566074473e-13,
          4.1705283082589494e-13,
          -5.556089004406392e-13,
          -5.301020189756518e-13,
          -6.007284057281365e-13,
          -5.51347951971671e-13,
          -6.28535502791131e-13,
          -4.451745805174344e-13,
          -4.324405453067322e-13,
          -3.4968196885911696e-13,
          -5.299182177815914e-13,
          -4.397799704298447e-13,
          -4.1940310644006533e-13,
          -3.8753892741807877e-13,
          -6.31269484241768e-13,
          -4.76257107427991e-13,
          -5.924358757077732e-13,
          -6.885044178469767e-13,
          -5.0024426827022e-13,
          -4.356218200784235e-13,
          -5.155200288794376e-13,
          -3.6049309585484723e-13,
          -5.268749887273117e-13,
          -3.3506504804565204e-13,
          -3.809602880487387e-13,
          -5.425595689168545e-13,
          -7.110547050837356e-13,
          -5.630588097010758e-13,
          -3.942067815140871e-13,
          -6.475040808961008e-13,
          -6.116988445006794e-13,
          -3.9384543839741344e-13,
          -4.697423636286445e-13
         ]
        }
       ],
       "layout": {
        "height": 700,
        "template": {
         "data": {
          "bar": [
           {
            "error_x": {
             "color": "#2a3f5f"
            },
            "error_y": {
             "color": "#2a3f5f"
            },
            "marker": {
             "line": {
              "color": "white",
              "width": 0.5
             }
            },
            "type": "bar"
           }
          ],
          "barpolar": [
           {
            "marker": {
             "line": {
              "color": "white",
              "width": 0.5
             }
            },
            "type": "barpolar"
           }
          ],
          "carpet": [
           {
            "aaxis": {
             "endlinecolor": "#2a3f5f",
             "gridcolor": "#C8D4E3",
             "linecolor": "#C8D4E3",
             "minorgridcolor": "#C8D4E3",
             "startlinecolor": "#2a3f5f"
            },
            "baxis": {
             "endlinecolor": "#2a3f5f",
             "gridcolor": "#C8D4E3",
             "linecolor": "#C8D4E3",
             "minorgridcolor": "#C8D4E3",
             "startlinecolor": "#2a3f5f"
            },
            "type": "carpet"
           }
          ],
          "choropleth": [
           {
            "colorbar": {
             "outlinewidth": 0,
             "ticks": ""
            },
            "type": "choropleth"
           }
          ],
          "contour": [
           {
            "colorbar": {
             "outlinewidth": 0,
             "ticks": ""
            },
            "colorscale": [
             [
              0,
              "#0d0887"
             ],
             [
              0.1111111111111111,
              "#46039f"
             ],
             [
              0.2222222222222222,
              "#7201a8"
             ],
             [
              0.3333333333333333,
              "#9c179e"
             ],
             [
              0.4444444444444444,
              "#bd3786"
             ],
             [
              0.5555555555555556,
              "#d8576b"
             ],
             [
              0.6666666666666666,
              "#ed7953"
             ],
             [
              0.7777777777777778,
              "#fb9f3a"
             ],
             [
              0.8888888888888888,
              "#fdca26"
             ],
             [
              1,
              "#f0f921"
             ]
            ],
            "type": "contour"
           }
          ],
          "contourcarpet": [
           {
            "colorbar": {
             "outlinewidth": 0,
             "ticks": ""
            },
            "type": "contourcarpet"
           }
          ],
          "heatmap": [
           {
            "colorbar": {
             "outlinewidth": 0,
             "ticks": ""
            },
            "colorscale": [
             [
              0,
              "#0d0887"
             ],
             [
              0.1111111111111111,
              "#46039f"
             ],
             [
              0.2222222222222222,
              "#7201a8"
             ],
             [
              0.3333333333333333,
              "#9c179e"
             ],
             [
              0.4444444444444444,
              "#bd3786"
             ],
             [
              0.5555555555555556,
              "#d8576b"
             ],
             [
              0.6666666666666666,
              "#ed7953"
             ],
             [
              0.7777777777777778,
              "#fb9f3a"
             ],
             [
              0.8888888888888888,
              "#fdca26"
             ],
             [
              1,
              "#f0f921"
             ]
            ],
            "type": "heatmap"
           }
          ],
          "heatmapgl": [
           {
            "colorbar": {
             "outlinewidth": 0,
             "ticks": ""
            },
            "colorscale": [
             [
              0,
              "#0d0887"
             ],
             [
              0.1111111111111111,
              "#46039f"
             ],
             [
              0.2222222222222222,
              "#7201a8"
             ],
             [
              0.3333333333333333,
              "#9c179e"
             ],
             [
              0.4444444444444444,
              "#bd3786"
             ],
             [
              0.5555555555555556,
              "#d8576b"
             ],
             [
              0.6666666666666666,
              "#ed7953"
             ],
             [
              0.7777777777777778,
              "#fb9f3a"
             ],
             [
              0.8888888888888888,
              "#fdca26"
             ],
             [
              1,
              "#f0f921"
             ]
            ],
            "type": "heatmapgl"
           }
          ],
          "histogram": [
           {
            "marker": {
             "colorbar": {
              "outlinewidth": 0,
              "ticks": ""
             }
            },
            "type": "histogram"
           }
          ],
          "histogram2d": [
           {
            "colorbar": {
             "outlinewidth": 0,
             "ticks": ""
            },
            "colorscale": [
             [
              0,
              "#0d0887"
             ],
             [
              0.1111111111111111,
              "#46039f"
             ],
             [
              0.2222222222222222,
              "#7201a8"
             ],
             [
              0.3333333333333333,
              "#9c179e"
             ],
             [
              0.4444444444444444,
              "#bd3786"
             ],
             [
              0.5555555555555556,
              "#d8576b"
             ],
             [
              0.6666666666666666,
              "#ed7953"
             ],
             [
              0.7777777777777778,
              "#fb9f3a"
             ],
             [
              0.8888888888888888,
              "#fdca26"
             ],
             [
              1,
              "#f0f921"
             ]
            ],
            "type": "histogram2d"
           }
          ],
          "histogram2dcontour": [
           {
            "colorbar": {
             "outlinewidth": 0,
             "ticks": ""
            },
            "colorscale": [
             [
              0,
              "#0d0887"
             ],
             [
              0.1111111111111111,
              "#46039f"
             ],
             [
              0.2222222222222222,
              "#7201a8"
             ],
             [
              0.3333333333333333,
              "#9c179e"
             ],
             [
              0.4444444444444444,
              "#bd3786"
             ],
             [
              0.5555555555555556,
              "#d8576b"
             ],
             [
              0.6666666666666666,
              "#ed7953"
             ],
             [
              0.7777777777777778,
              "#fb9f3a"
             ],
             [
              0.8888888888888888,
              "#fdca26"
             ],
             [
              1,
              "#f0f921"
             ]
            ],
            "type": "histogram2dcontour"
           }
          ],
          "mesh3d": [
           {
            "colorbar": {
             "outlinewidth": 0,
             "ticks": ""
            },
            "type": "mesh3d"
           }
          ],
          "parcoords": [
           {
            "line": {
             "colorbar": {
              "outlinewidth": 0,
              "ticks": ""
             }
            },
            "type": "parcoords"
           }
          ],
          "pie": [
           {
            "automargin": true,
            "type": "pie"
           }
          ],
          "scatter": [
           {
            "marker": {
             "colorbar": {
              "outlinewidth": 0,
              "ticks": ""
             }
            },
            "type": "scatter"
           }
          ],
          "scatter3d": [
           {
            "line": {
             "colorbar": {
              "outlinewidth": 0,
              "ticks": ""
             }
            },
            "marker": {
             "colorbar": {
              "outlinewidth": 0,
              "ticks": ""
             },
             "size": 4
            },
            "type": "scatter3d"
           }
          ],
          "scattercarpet": [
           {
            "marker": {
             "colorbar": {
              "outlinewidth": 0,
              "ticks": ""
             }
            },
            "type": "scattercarpet"
           }
          ],
          "scattergeo": [
           {
            "marker": {
             "colorbar": {
              "outlinewidth": 0,
              "ticks": ""
             }
            },
            "type": "scattergeo"
           }
          ],
          "scattergl": [
           {
            "marker": {
             "colorbar": {
              "outlinewidth": 0,
              "ticks": ""
             }
            },
            "type": "scattergl"
           }
          ],
          "scattermapbox": [
           {
            "marker": {
             "colorbar": {
              "outlinewidth": 0,
              "ticks": ""
             }
            },
            "type": "scattermapbox"
           }
          ],
          "scatterpolar": [
           {
            "marker": {
             "colorbar": {
              "outlinewidth": 0,
              "ticks": ""
             }
            },
            "type": "scatterpolar"
           }
          ],
          "scatterpolargl": [
           {
            "marker": {
             "colorbar": {
              "outlinewidth": 0,
              "ticks": ""
             }
            },
            "type": "scatterpolargl"
           }
          ],
          "scatterternary": [
           {
            "marker": {
             "colorbar": {
              "outlinewidth": 0,
              "ticks": ""
             }
            },
            "type": "scatterternary"
           }
          ],
          "surface": [
           {
            "colorbar": {
             "outlinewidth": 0,
             "ticks": ""
            },
            "colorscale": [
             [
              0,
              "#0d0887"
             ],
             [
              0.1111111111111111,
              "#46039f"
             ],
             [
              0.2222222222222222,
              "#7201a8"
             ],
             [
              0.3333333333333333,
              "#9c179e"
             ],
             [
              0.4444444444444444,
              "#bd3786"
             ],
             [
              0.5555555555555556,
              "#d8576b"
             ],
             [
              0.6666666666666666,
              "#ed7953"
             ],
             [
              0.7777777777777778,
              "#fb9f3a"
             ],
             [
              0.8888888888888888,
              "#fdca26"
             ],
             [
              1,
              "#f0f921"
             ]
            ],
            "type": "surface"
           }
          ],
          "table": [
           {
            "cells": {
             "fill": {
              "color": "#EBF0F8"
             },
             "line": {
              "color": "white"
             }
            },
            "header": {
             "fill": {
              "color": "#C8D4E3"
             },
             "line": {
              "color": "white"
             }
            },
            "type": "table"
           }
          ]
         },
         "layout": {
          "annotationdefaults": {
           "arrowcolor": "#2a3f5f",
           "arrowhead": 0,
           "arrowwidth": 1
          },
          "coloraxis": {
           "colorbar": {
            "outlinewidth": 0,
            "ticks": ""
           }
          },
          "colorscale": {
           "diverging": [
            [
             0,
             "#8e0152"
            ],
            [
             0.1,
             "#c51b7d"
            ],
            [
             0.2,
             "#de77ae"
            ],
            [
             0.3,
             "#f1b6da"
            ],
            [
             0.4,
             "#fde0ef"
            ],
            [
             0.5,
             "#f7f7f7"
            ],
            [
             0.6,
             "#e6f5d0"
            ],
            [
             0.7,
             "#b8e186"
            ],
            [
             0.8,
             "#7fbc41"
            ],
            [
             0.9,
             "#4d9221"
            ],
            [
             1,
             "#276419"
            ]
           ],
           "sequential": [
            [
             0,
             "#0d0887"
            ],
            [
             0.1111111111111111,
             "#46039f"
            ],
            [
             0.2222222222222222,
             "#7201a8"
            ],
            [
             0.3333333333333333,
             "#9c179e"
            ],
            [
             0.4444444444444444,
             "#bd3786"
            ],
            [
             0.5555555555555556,
             "#d8576b"
            ],
            [
             0.6666666666666666,
             "#ed7953"
            ],
            [
             0.7777777777777778,
             "#fb9f3a"
            ],
            [
             0.8888888888888888,
             "#fdca26"
            ],
            [
             1,
             "#f0f921"
            ]
           ],
           "sequentialminus": [
            [
             0,
             "#0d0887"
            ],
            [
             0.1111111111111111,
             "#46039f"
            ],
            [
             0.2222222222222222,
             "#7201a8"
            ],
            [
             0.3333333333333333,
             "#9c179e"
            ],
            [
             0.4444444444444444,
             "#bd3786"
            ],
            [
             0.5555555555555556,
             "#d8576b"
            ],
            [
             0.6666666666666666,
             "#ed7953"
            ],
            [
             0.7777777777777778,
             "#fb9f3a"
            ],
            [
             0.8888888888888888,
             "#fdca26"
            ],
            [
             1,
             "#f0f921"
            ]
           ]
          },
          "colorway": [
           "#1f77b4",
           "#ff7f0e",
           "#2ca02c",
           "#d62728",
           "#9467bd",
           "#8c564b",
           "#e377c2",
           "#7f7f7f",
           "#bcbd22",
           "#17becf"
          ],
          "font": {
           "color": "#2a3f5f"
          },
          "geo": {
           "bgcolor": "white",
           "lakecolor": "white",
           "landcolor": "white",
           "showlakes": true,
           "showland": true,
           "subunitcolor": "#C8D4E3"
          },
          "hoverlabel": {
           "align": "left"
          },
          "hovermode": "closest",
          "mapbox": {
           "style": "light"
          },
          "paper_bgcolor": "white",
          "plot_bgcolor": "white",
          "polar": {
           "angularaxis": {
            "gridcolor": "#EBF0F8",
            "linecolor": "#EBF0F8",
            "ticks": ""
           },
           "bgcolor": "white",
           "radialaxis": {
            "gridcolor": "#EBF0F8",
            "linecolor": "#EBF0F8",
            "ticks": ""
           }
          },
          "scene": {
           "camera": {
            "center": {
             "x": 0,
             "y": 0,
             "z": 0
            },
            "eye": {
             "x": 2,
             "y": 2,
             "z": 2
            },
            "up": {
             "x": 0,
             "y": 0,
             "z": 1
            }
           },
           "xaxis": {
            "backgroundcolor": "white",
            "gridcolor": "#DFE8F3",
            "gridwidth": 2,
            "linecolor": "#EBF0F8",
            "showbackground": true,
            "showspikes": false,
            "ticks": "",
            "zerolinecolor": "#EBF0F8"
           },
           "yaxis": {
            "backgroundcolor": "white",
            "gridcolor": "#DFE8F3",
            "gridwidth": 2,
            "linecolor": "#EBF0F8",
            "showbackground": true,
            "showspikes": false,
            "ticks": "",
            "zerolinecolor": "#EBF0F8"
           },
           "zaxis": {
            "backgroundcolor": "white",
            "gridcolor": "#DFE8F3",
            "gridwidth": 2,
            "linecolor": "#EBF0F8",
            "showbackground": true,
            "showspikes": false,
            "ticks": "",
            "zerolinecolor": "#EBF0F8"
           }
          },
          "shapedefaults": {
           "line": {
            "color": "#2a3f5f"
           }
          },
          "ternary": {
           "aaxis": {
            "gridcolor": "#DFE8F3",
            "linecolor": "#A2B1C6",
            "ticks": ""
           },
           "baxis": {
            "gridcolor": "#DFE8F3",
            "linecolor": "#A2B1C6",
            "ticks": ""
           },
           "bgcolor": "white",
           "caxis": {
            "gridcolor": "#DFE8F3",
            "linecolor": "#A2B1C6",
            "ticks": ""
           }
          },
          "title": {
           "x": 0.05
          },
          "xaxis": {
           "automargin": true,
           "gridcolor": "#EBF0F8",
           "linecolor": "black",
           "linewidth": 2,
           "mirror": true,
           "showline": true,
           "ticks": "",
           "title": {
            "standoff": 15
           },
           "zeroline": false,
           "zerolinecolor": "#EBF0F8",
           "zerolinewidth": 2
          },
          "yaxis": {
           "automargin": true,
           "gridcolor": "#EBF0F8",
           "linecolor": "black",
           "linewidth": 2,
           "mirror": true,
           "showline": true,
           "ticks": "",
           "title": {
            "standoff": 15
           },
           "zeroline": false,
           "zerolinecolor": "#EBF0F8",
           "zerolinewidth": 2
          }
         }
        },
        "width": 950,
        "xaxis": {
         "exponentformat": "none",
         "range": [
          0,
          600
         ],
         "title": {
          "text": "Frequency (rad/s)"
         }
        },
        "yaxis": {
         "title": {
          "text": "Logarithmic decrement"
         }
        }
       }
      }
     },
     "metadata": {},
     "output_type": "display_data"
    }
   ],
   "source": [
    "# choose the desirable percentiles or confidence intervals\n",
    "fig2 = camp.plot_log_dec(conf_interval=[95], width=950, height=700)\n",
    "fig2.show()"
   ]
  },
  {
   "cell_type": "markdown",
   "metadata": {},
   "source": [
    "## References\n",
    "\n",
    "```{bibliography}\n",
    ":filter: docname in docnames\n",
    "```"
   ]
  }
 ],
 "metadata": {
  "kernelspec": {
   "display_name": "venv",
   "language": "python",
   "name": "python3"
  },
  "language_info": {
   "codemirror_mode": {
    "name": "ipython",
    "version": 3
   },
   "file_extension": ".py",
   "mimetype": "text/x-python",
   "name": "python",
   "nbconvert_exporter": "python",
   "pygments_lexer": "ipython3",
   "version": "3.10.12"
  }
 },
 "nbformat": 4,
 "nbformat_minor": 2
}
