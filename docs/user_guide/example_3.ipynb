{
 "cells": [
  {
   "cell_type": "markdown",
   "metadata": {},
   "source": [
    " Example 3 - Isotropic Bearings, asymmetrical rotor. \n",
    "===========\n",
    "\n",
    "In this example, we use the rotor seen in Example 5.9.1 from {cite}`friswell2010dynamics`.\n",
    "A 1.5-m-long shaft, with a diameter of $0.05 m$. The disks are keyed to the shaft at $0.5$ and $1 m$ from\n",
    "one end. The left disk is $0.07 m$ thick with a diameter of $0.28 m$; the right disk\n",
    "is $0.07 m$ thick with a diameter of $0.35 m$. For the shaft, $E = 211 GN/m^2$ and\n",
    "$G = 81.2 GN/m^2$. There is no internal shaft damping. For both the shaft and the\n",
    "disks, $\\rho = 7,810 kg/m^3$. The shaft is supported by identical bearings at its ends.\n",
    "\n",
    "These bearings are isotropic and have a stiffness of $1 MN/m$ in both the x and\n",
    "y directions. The bearings contribute no additional stiffness to the rotational\n",
    "degrees of freedom and there is no damping or cross-coupling in the bearings.\n"
   ]
  },
  {
   "cell_type": "code",
   "execution_count": 1,
   "metadata": {
    "execution": {
     "iopub.execute_input": "2023-05-04T01:00:36.265352Z",
     "iopub.status.busy": "2023-05-04T01:00:36.264890Z",
     "iopub.status.idle": "2023-05-04T01:00:37.396615Z",
     "shell.execute_reply": "2023-05-04T01:00:37.396081Z"
    }
   },
   "outputs": [],
   "source": [
    "import ross as rs\n",
    "from ross.materials import steel\n",
    "import numpy as np\n",
    "import plotly.graph_objects as go\n",
    "\n",
    "# uncomment the lines below if you are having problems with plots not showing\n",
    "# import plotly.io as pio\n",
    "# pio.renderers.default = \"notebook\""
   ]
  },
  {
   "cell_type": "code",
   "execution_count": 2,
   "metadata": {
    "execution": {
     "iopub.execute_input": "2023-05-04T01:00:37.399209Z",
     "iopub.status.busy": "2023-05-04T01:00:37.399044Z",
     "iopub.status.idle": "2023-05-04T01:00:37.569894Z",
     "shell.execute_reply": "2023-05-04T01:00:37.569298Z"
    }
   },
   "outputs": [
    {
     "data": {
      "application/vnd.plotly.v1+json": {
       "config": {
        "plotlyServerURL": "https://plot.ly"
       },
       "data": [
        {
         "hoverinfo": "none",
         "line": {
          "color": "black",
          "dash": "dashdot",
          "width": 3
         },
         "mode": "lines",
         "opacity": 0.7,
         "showlegend": false,
         "type": "scatter",
         "x": [
          -0.30000000000000004,
          1.7999999999999998
         ],
         "y": [
          0,
          0
         ]
        },
        {
         "hoverinfo": "none",
         "marker": {
          "color": "#ffcc99",
          "line": {
           "color": "black",
           "width": 1
          },
          "opacity": 0.7,
          "size": 20
         },
         "mode": "markers+text",
         "showlegend": false,
         "text": [
          "0",
          "1",
          "2",
          "3",
          "4",
          "5",
          "6"
         ],
         "type": "scatter",
         "x": [
          0,
          0.25,
          0.5,
          0.75,
          1,
          1.25,
          1.5
         ],
         "y": [
          0,
          0,
          0,
          0,
          0,
          0,
          0
         ]
        },
        {
         "customdata": [
          [
           0,
           0.05,
           0,
           0.05,
           0,
           0.25,
           "Steel"
          ],
          [
           0,
           0.05,
           0,
           0.05,
           0,
           0.25,
           "Steel"
          ],
          [
           0,
           0.05,
           0,
           0.05,
           0,
           0.25,
           "Steel"
          ],
          [
           0,
           0.05,
           0,
           0.05,
           0,
           0.25,
           "Steel"
          ],
          [
           0,
           0.05,
           0,
           0.05,
           0,
           0.25,
           "Steel"
          ],
          [
           0,
           0.05,
           0,
           0.05,
           0,
           0.25,
           "Steel"
          ],
          [
           0,
           0.05,
           0,
           0.05,
           0,
           0.25,
           "Steel"
          ],
          [
           0,
           0.05,
           0,
           0.05,
           0,
           0.25,
           "Steel"
          ],
          [
           0,
           0.05,
           0,
           0.05,
           0,
           0.25,
           "Steel"
          ],
          [
           0,
           0.05,
           0,
           0.05,
           0,
           0.25,
           "Steel"
          ]
         ],
         "fill": "toself",
         "fillcolor": "#525252",
         "hoverinfo": "text",
         "hoverlabel": {
          "bgcolor": "#525252"
         },
         "hoveron": "points+fills",
         "hovertemplate": "Element Number: 0<br>Left Outer Diameter: 0.05 m<br>Left Inner Diameter: 0.0 m<br>Right Outer Diameter: 0.05 m<br>Right Inner Diameter: 0.0 m<br>Element Length: 0.25 m<br>Material: Steel<br>",
         "legendgroup": "Shaft",
         "line": {
          "color": "black",
          "width": 1.5
         },
         "mode": "lines",
         "name": "ShaftElement 0",
         "opacity": 0.5,
         "showlegend": false,
         "text": "Element Number: 0<br>Left Outer Diameter: 0.05 m<br>Left Inner Diameter: 0.0 m<br>Right Outer Diameter: 0.05 m<br>Right Inner Diameter: 0.0 m<br>Element Length: 0.25 m<br>Material: Steel<br>",
         "type": "scatter",
         "x": [
          0,
          0,
          0.25,
          0.25,
          0,
          0,
          0,
          0.25,
          0.25,
          0
         ],
         "y": [
          0,
          0.025,
          0.025,
          0,
          0,
          0,
          -0.025,
          -0.025,
          0,
          0
         ]
        },
        {
         "customdata": [
          [
           1,
           0.05,
           0,
           0.05,
           0,
           0.25,
           "Steel"
          ],
          [
           1,
           0.05,
           0,
           0.05,
           0,
           0.25,
           "Steel"
          ],
          [
           1,
           0.05,
           0,
           0.05,
           0,
           0.25,
           "Steel"
          ],
          [
           1,
           0.05,
           0,
           0.05,
           0,
           0.25,
           "Steel"
          ],
          [
           1,
           0.05,
           0,
           0.05,
           0,
           0.25,
           "Steel"
          ],
          [
           1,
           0.05,
           0,
           0.05,
           0,
           0.25,
           "Steel"
          ],
          [
           1,
           0.05,
           0,
           0.05,
           0,
           0.25,
           "Steel"
          ],
          [
           1,
           0.05,
           0,
           0.05,
           0,
           0.25,
           "Steel"
          ],
          [
           1,
           0.05,
           0,
           0.05,
           0,
           0.25,
           "Steel"
          ],
          [
           1,
           0.05,
           0,
           0.05,
           0,
           0.25,
           "Steel"
          ]
         ],
         "fill": "toself",
         "fillcolor": "#525252",
         "hoverinfo": "text",
         "hoverlabel": {
          "bgcolor": "#525252"
         },
         "hoveron": "points+fills",
         "hovertemplate": "Element Number: 1<br>Left Outer Diameter: 0.05 m<br>Left Inner Diameter: 0.0 m<br>Right Outer Diameter: 0.05 m<br>Right Inner Diameter: 0.0 m<br>Element Length: 0.25 m<br>Material: Steel<br>",
         "legendgroup": "Shaft",
         "line": {
          "color": "black",
          "width": 1.5
         },
         "mode": "lines",
         "name": "ShaftElement 1",
         "opacity": 0.5,
         "showlegend": false,
         "text": "Element Number: 1<br>Left Outer Diameter: 0.05 m<br>Left Inner Diameter: 0.0 m<br>Right Outer Diameter: 0.05 m<br>Right Inner Diameter: 0.0 m<br>Element Length: 0.25 m<br>Material: Steel<br>",
         "type": "scatter",
         "x": [
          0.25,
          0.25,
          0.5,
          0.5,
          0.25,
          0.25,
          0.25,
          0.5,
          0.5,
          0.25
         ],
         "y": [
          0,
          0.025,
          0.025,
          0,
          0,
          0,
          -0.025,
          -0.025,
          0,
          0
         ]
        },
        {
         "customdata": [
          [
           2,
           0.05,
           0,
           0.05,
           0,
           0.25,
           "Steel"
          ],
          [
           2,
           0.05,
           0,
           0.05,
           0,
           0.25,
           "Steel"
          ],
          [
           2,
           0.05,
           0,
           0.05,
           0,
           0.25,
           "Steel"
          ],
          [
           2,
           0.05,
           0,
           0.05,
           0,
           0.25,
           "Steel"
          ],
          [
           2,
           0.05,
           0,
           0.05,
           0,
           0.25,
           "Steel"
          ],
          [
           2,
           0.05,
           0,
           0.05,
           0,
           0.25,
           "Steel"
          ],
          [
           2,
           0.05,
           0,
           0.05,
           0,
           0.25,
           "Steel"
          ],
          [
           2,
           0.05,
           0,
           0.05,
           0,
           0.25,
           "Steel"
          ],
          [
           2,
           0.05,
           0,
           0.05,
           0,
           0.25,
           "Steel"
          ],
          [
           2,
           0.05,
           0,
           0.05,
           0,
           0.25,
           "Steel"
          ]
         ],
         "fill": "toself",
         "fillcolor": "#525252",
         "hoverinfo": "text",
         "hoverlabel": {
          "bgcolor": "#525252"
         },
         "hoveron": "points+fills",
         "hovertemplate": "Element Number: 2<br>Left Outer Diameter: 0.05 m<br>Left Inner Diameter: 0.0 m<br>Right Outer Diameter: 0.05 m<br>Right Inner Diameter: 0.0 m<br>Element Length: 0.25 m<br>Material: Steel<br>",
         "legendgroup": "Shaft",
         "line": {
          "color": "black",
          "width": 1.5
         },
         "mode": "lines",
         "name": "ShaftElement 2",
         "opacity": 0.5,
         "showlegend": false,
         "text": "Element Number: 2<br>Left Outer Diameter: 0.05 m<br>Left Inner Diameter: 0.0 m<br>Right Outer Diameter: 0.05 m<br>Right Inner Diameter: 0.0 m<br>Element Length: 0.25 m<br>Material: Steel<br>",
         "type": "scatter",
         "x": [
          0.5,
          0.5,
          0.75,
          0.75,
          0.5,
          0.5,
          0.5,
          0.75,
          0.75,
          0.5
         ],
         "y": [
          0,
          0.025,
          0.025,
          0,
          0,
          0,
          -0.025,
          -0.025,
          0,
          0
         ]
        },
        {
         "customdata": [
          [
           3,
           0.05,
           0,
           0.05,
           0,
           0.25,
           "Steel"
          ],
          [
           3,
           0.05,
           0,
           0.05,
           0,
           0.25,
           "Steel"
          ],
          [
           3,
           0.05,
           0,
           0.05,
           0,
           0.25,
           "Steel"
          ],
          [
           3,
           0.05,
           0,
           0.05,
           0,
           0.25,
           "Steel"
          ],
          [
           3,
           0.05,
           0,
           0.05,
           0,
           0.25,
           "Steel"
          ],
          [
           3,
           0.05,
           0,
           0.05,
           0,
           0.25,
           "Steel"
          ],
          [
           3,
           0.05,
           0,
           0.05,
           0,
           0.25,
           "Steel"
          ],
          [
           3,
           0.05,
           0,
           0.05,
           0,
           0.25,
           "Steel"
          ],
          [
           3,
           0.05,
           0,
           0.05,
           0,
           0.25,
           "Steel"
          ],
          [
           3,
           0.05,
           0,
           0.05,
           0,
           0.25,
           "Steel"
          ]
         ],
         "fill": "toself",
         "fillcolor": "#525252",
         "hoverinfo": "text",
         "hoverlabel": {
          "bgcolor": "#525252"
         },
         "hoveron": "points+fills",
         "hovertemplate": "Element Number: 3<br>Left Outer Diameter: 0.05 m<br>Left Inner Diameter: 0.0 m<br>Right Outer Diameter: 0.05 m<br>Right Inner Diameter: 0.0 m<br>Element Length: 0.25 m<br>Material: Steel<br>",
         "legendgroup": "Shaft",
         "line": {
          "color": "black",
          "width": 1.5
         },
         "mode": "lines",
         "name": "ShaftElement 3",
         "opacity": 0.5,
         "showlegend": false,
         "text": "Element Number: 3<br>Left Outer Diameter: 0.05 m<br>Left Inner Diameter: 0.0 m<br>Right Outer Diameter: 0.05 m<br>Right Inner Diameter: 0.0 m<br>Element Length: 0.25 m<br>Material: Steel<br>",
         "type": "scatter",
         "x": [
          0.75,
          0.75,
          1,
          1,
          0.75,
          0.75,
          0.75,
          1,
          1,
          0.75
         ],
         "y": [
          0,
          0.025,
          0.025,
          0,
          0,
          0,
          -0.025,
          -0.025,
          0,
          0
         ]
        },
        {
         "customdata": [
          [
           4,
           0.05,
           0,
           0.05,
           0,
           0.25,
           "Steel"
          ],
          [
           4,
           0.05,
           0,
           0.05,
           0,
           0.25,
           "Steel"
          ],
          [
           4,
           0.05,
           0,
           0.05,
           0,
           0.25,
           "Steel"
          ],
          [
           4,
           0.05,
           0,
           0.05,
           0,
           0.25,
           "Steel"
          ],
          [
           4,
           0.05,
           0,
           0.05,
           0,
           0.25,
           "Steel"
          ],
          [
           4,
           0.05,
           0,
           0.05,
           0,
           0.25,
           "Steel"
          ],
          [
           4,
           0.05,
           0,
           0.05,
           0,
           0.25,
           "Steel"
          ],
          [
           4,
           0.05,
           0,
           0.05,
           0,
           0.25,
           "Steel"
          ],
          [
           4,
           0.05,
           0,
           0.05,
           0,
           0.25,
           "Steel"
          ],
          [
           4,
           0.05,
           0,
           0.05,
           0,
           0.25,
           "Steel"
          ]
         ],
         "fill": "toself",
         "fillcolor": "#525252",
         "hoverinfo": "text",
         "hoverlabel": {
          "bgcolor": "#525252"
         },
         "hoveron": "points+fills",
         "hovertemplate": "Element Number: 4<br>Left Outer Diameter: 0.05 m<br>Left Inner Diameter: 0.0 m<br>Right Outer Diameter: 0.05 m<br>Right Inner Diameter: 0.0 m<br>Element Length: 0.25 m<br>Material: Steel<br>",
         "legendgroup": "Shaft",
         "line": {
          "color": "black",
          "width": 1.5
         },
         "mode": "lines",
         "name": "ShaftElement 4",
         "opacity": 0.5,
         "showlegend": false,
         "text": "Element Number: 4<br>Left Outer Diameter: 0.05 m<br>Left Inner Diameter: 0.0 m<br>Right Outer Diameter: 0.05 m<br>Right Inner Diameter: 0.0 m<br>Element Length: 0.25 m<br>Material: Steel<br>",
         "type": "scatter",
         "x": [
          1,
          1,
          1.25,
          1.25,
          1,
          1,
          1,
          1.25,
          1.25,
          1
         ],
         "y": [
          0,
          0.025,
          0.025,
          0,
          0,
          0,
          -0.025,
          -0.025,
          0,
          0
         ]
        },
        {
         "customdata": [
          [
           5,
           0.05,
           0,
           0.05,
           0,
           0.25,
           "Steel"
          ],
          [
           5,
           0.05,
           0,
           0.05,
           0,
           0.25,
           "Steel"
          ],
          [
           5,
           0.05,
           0,
           0.05,
           0,
           0.25,
           "Steel"
          ],
          [
           5,
           0.05,
           0,
           0.05,
           0,
           0.25,
           "Steel"
          ],
          [
           5,
           0.05,
           0,
           0.05,
           0,
           0.25,
           "Steel"
          ],
          [
           5,
           0.05,
           0,
           0.05,
           0,
           0.25,
           "Steel"
          ],
          [
           5,
           0.05,
           0,
           0.05,
           0,
           0.25,
           "Steel"
          ],
          [
           5,
           0.05,
           0,
           0.05,
           0,
           0.25,
           "Steel"
          ],
          [
           5,
           0.05,
           0,
           0.05,
           0,
           0.25,
           "Steel"
          ],
          [
           5,
           0.05,
           0,
           0.05,
           0,
           0.25,
           "Steel"
          ]
         ],
         "fill": "toself",
         "fillcolor": "#525252",
         "hoverinfo": "text",
         "hoverlabel": {
          "bgcolor": "#525252"
         },
         "hoveron": "points+fills",
         "hovertemplate": "Element Number: 5<br>Left Outer Diameter: 0.05 m<br>Left Inner Diameter: 0.0 m<br>Right Outer Diameter: 0.05 m<br>Right Inner Diameter: 0.0 m<br>Element Length: 0.25 m<br>Material: Steel<br>",
         "legendgroup": "Shaft",
         "line": {
          "color": "black",
          "width": 1.5
         },
         "mode": "lines",
         "name": "ShaftElement 5",
         "opacity": 0.5,
         "showlegend": false,
         "text": "Element Number: 5<br>Left Outer Diameter: 0.05 m<br>Left Inner Diameter: 0.0 m<br>Right Outer Diameter: 0.05 m<br>Right Inner Diameter: 0.0 m<br>Element Length: 0.25 m<br>Material: Steel<br>",
         "type": "scatter",
         "x": [
          1.25,
          1.25,
          1.5,
          1.5,
          1.25,
          1.25,
          1.25,
          1.5,
          1.5,
          1.25
         ],
         "y": [
          0,
          0.025,
          0.025,
          0,
          0,
          0,
          -0.025,
          -0.025,
          0,
          0
         ]
        },
        {
         "customdata": [
          [
           2,
           0.32956362089137037,
           0.17808928257067666,
           32.58972765304033
          ],
          [
           2,
           0.32956362089137037,
           0.17808928257067666,
           32.58972765304033
          ],
          [
           2,
           0.32956362089137037,
           0.17808928257067666,
           32.58972765304033
          ],
          [
           2,
           0.32956362089137037,
           0.17808928257067666,
           32.58972765304033
          ],
          [
           2,
           0.32956362089137037,
           0.17808928257067666,
           32.58972765304033
          ],
          [
           2,
           0.32956362089137037,
           0.17808928257067666,
           32.58972765304033
          ],
          [
           2,
           0.32956362089137037,
           0.17808928257067666,
           32.58972765304033
          ],
          [
           2,
           0.32956362089137037,
           0.17808928257067666,
           32.58972765304033
          ],
          [
           2,
           0.32956362089137037,
           0.17808928257067666,
           32.58972765304033
          ]
         ],
         "fill": "toself",
         "fillcolor": "Firebrick",
         "hoverinfo": "text",
         "hoverlabel": {
          "bgcolor": "Firebrick"
         },
         "hoveron": "points+fills",
         "hovertemplate": "Disk Node: 2<br>Polar Inertia: 3.296e-01<br>Diametral Inertia: 1.781e-01<br>Disk mass: 32.590<br>",
         "legendgroup": "disks",
         "line": {
          "color": "Firebrick",
          "width": 2
         },
         "mode": "lines",
         "name": "Disk 0",
         "opacity": 0.8,
         "showlegend": false,
         "text": "Disk Node: 2<br>Polar Inertia: 3.296e-01<br>Diametral Inertia: 1.781e-01<br>Disk mass: 32.590<br>",
         "type": "scatter",
         "x": [
          0.5,
          0.502,
          0.498,
          0.5,
          null,
          0.5,
          0.502,
          0.498,
          0.5
         ],
         "y": [
          0.025,
          0.125,
          0.125,
          0.025,
          null,
          -0.025,
          -0.125,
          -0.125,
          -0.025
         ]
        },
        {
         "customdata": [
          [
           4,
           0.8050822048675967,
           0.42358058405433824,
           51.5252611115262
          ],
          [
           4,
           0.8050822048675967,
           0.42358058405433824,
           51.5252611115262
          ],
          [
           4,
           0.8050822048675967,
           0.42358058405433824,
           51.5252611115262
          ],
          [
           4,
           0.8050822048675967,
           0.42358058405433824,
           51.5252611115262
          ],
          [
           4,
           0.8050822048675967,
           0.42358058405433824,
           51.5252611115262
          ],
          [
           4,
           0.8050822048675967,
           0.42358058405433824,
           51.5252611115262
          ],
          [
           4,
           0.8050822048675967,
           0.42358058405433824,
           51.5252611115262
          ],
          [
           4,
           0.8050822048675967,
           0.42358058405433824,
           51.5252611115262
          ],
          [
           4,
           0.8050822048675967,
           0.42358058405433824,
           51.5252611115262
          ]
         ],
         "fill": "toself",
         "fillcolor": "Firebrick",
         "hoverinfo": "text",
         "hoverlabel": {
          "bgcolor": "Firebrick"
         },
         "hoveron": "points+fills",
         "hovertemplate": "Disk Node: 4<br>Polar Inertia: 8.051e-01<br>Diametral Inertia: 4.236e-01<br>Disk mass: 51.525<br>",
         "legendgroup": "disks",
         "line": {
          "color": "Firebrick",
          "width": 2
         },
         "mode": "lines",
         "name": "Disk 1",
         "opacity": 0.8,
         "showlegend": false,
         "text": "Disk Node: 4<br>Polar Inertia: 8.051e-01<br>Diametral Inertia: 4.236e-01<br>Disk mass: 51.525<br>",
         "type": "scatter",
         "x": [
          1,
          1.002,
          0.998,
          1,
          null,
          1,
          1.002,
          0.998,
          1
         ],
         "y": [
          0.025,
          0.125,
          0.125,
          0.025,
          null,
          -0.025,
          -0.125,
          -0.125,
          -0.025
         ]
        },
        {
         "hoverinfo": "none",
         "legendgroup": "bearings",
         "line": {
          "color": "#355d7a",
          "width": 1
         },
         "mode": "lines",
         "name": "Bearing 0",
         "showlegend": false,
         "type": "scatter",
         "x": [
          0,
          0,
          -0.007142857142857143,
          0.007142857142857143
         ],
         "y": [
          0.025,
          0.0375,
          0.0375,
          0.0375
         ]
        },
        {
         "hoverinfo": "none",
         "legendgroup": "bearings",
         "line": {
          "color": "#355d7a",
          "width": 1
         },
         "mode": "lines",
         "name": "Bearing 0",
         "showlegend": false,
         "type": "scatter",
         "x": [
          0,
          0,
          -0.007142857142857143,
          0.007142857142857143
         ],
         "y": [
          -0.025,
          -0.0375,
          -0.0375,
          -0.0375
         ]
        },
        {
         "hoverinfo": "none",
         "legendgroup": "bearings",
         "line": {
          "color": "#355d7a",
          "width": 1
         },
         "mode": "lines",
         "name": "Bearing 0",
         "showlegend": false,
         "type": "scatter",
         "x": [
          0,
          0,
          -0.007142857142857143,
          0.007142857142857143
         ],
         "y": [
          0.075,
          0.0625,
          0.0625,
          0.0625
         ]
        },
        {
         "hoverinfo": "none",
         "legendgroup": "bearings",
         "line": {
          "color": "#355d7a",
          "width": 1
         },
         "mode": "lines",
         "name": "Bearing 0",
         "showlegend": false,
         "type": "scatter",
         "x": [
          0,
          0,
          -0.007142857142857143,
          0.007142857142857143
         ],
         "y": [
          -0.075,
          -0.0625,
          -0.0625,
          -0.0625
         ]
        },
        {
         "hoverinfo": "none",
         "legendgroup": "bearings",
         "line": {
          "color": "#355d7a",
          "width": 1
         },
         "mode": "lines",
         "name": "Bearing 0",
         "showlegend": false,
         "type": "scatter",
         "x": [
          -0.010714285714285714,
          0.010714285714285714
         ],
         "y": [
          0.075,
          0.075
         ]
        },
        {
         "hoverinfo": "none",
         "legendgroup": "bearings",
         "line": {
          "color": "#355d7a",
          "width": 1
         },
         "mode": "lines",
         "name": "Bearing 0",
         "showlegend": false,
         "type": "scatter",
         "x": [
          -0.010714285714285714,
          0.010714285714285714
         ],
         "y": [
          -0.075,
          -0.075
         ]
        },
        {
         "hoverinfo": "none",
         "legendgroup": "bearings",
         "line": {
          "color": "#355d7a",
          "width": 1
         },
         "mode": "lines",
         "name": "Bearing 0",
         "showlegend": false,
         "type": "scatter",
         "x": [
          -0.010714285714285714,
          -0.0064285714285714285
         ],
         "y": [
          0.075,
          0.0825
         ]
        },
        {
         "hoverinfo": "none",
         "legendgroup": "bearings",
         "line": {
          "color": "#355d7a",
          "width": 1
         },
         "mode": "lines",
         "name": "Bearing 0",
         "showlegend": false,
         "type": "scatter",
         "x": [
          -0.010714285714285714,
          -0.0064285714285714285
         ],
         "y": [
          -0.075,
          -0.0825
         ]
        },
        {
         "hoverinfo": "none",
         "legendgroup": "bearings",
         "line": {
          "color": "#355d7a",
          "width": 1
         },
         "mode": "lines",
         "name": "Bearing 0",
         "showlegend": false,
         "type": "scatter",
         "x": [
          -0.0064285714285714285,
          -0.0021428571428571425
         ],
         "y": [
          0.075,
          0.0825
         ]
        },
        {
         "hoverinfo": "none",
         "legendgroup": "bearings",
         "line": {
          "color": "#355d7a",
          "width": 1
         },
         "mode": "lines",
         "name": "Bearing 0",
         "showlegend": false,
         "type": "scatter",
         "x": [
          -0.0064285714285714285,
          -0.0021428571428571425
         ],
         "y": [
          -0.075,
          -0.0825
         ]
        },
        {
         "hoverinfo": "none",
         "legendgroup": "bearings",
         "line": {
          "color": "#355d7a",
          "width": 1
         },
         "mode": "lines",
         "name": "Bearing 0",
         "showlegend": false,
         "type": "scatter",
         "x": [
          -0.0021428571428571425,
          0.0021428571428571443
         ],
         "y": [
          0.075,
          0.0825
         ]
        },
        {
         "hoverinfo": "none",
         "legendgroup": "bearings",
         "line": {
          "color": "#355d7a",
          "width": 1
         },
         "mode": "lines",
         "name": "Bearing 0",
         "showlegend": false,
         "type": "scatter",
         "x": [
          -0.0021428571428571425,
          0.0021428571428571443
         ],
         "y": [
          -0.075,
          -0.0825
         ]
        },
        {
         "hoverinfo": "none",
         "legendgroup": "bearings",
         "line": {
          "color": "#355d7a",
          "width": 1
         },
         "mode": "lines",
         "name": "Bearing 0",
         "showlegend": false,
         "type": "scatter",
         "x": [
          0.0021428571428571443,
          0.006428571428571429
         ],
         "y": [
          0.075,
          0.0825
         ]
        },
        {
         "hoverinfo": "none",
         "legendgroup": "bearings",
         "line": {
          "color": "#355d7a",
          "width": 1
         },
         "mode": "lines",
         "name": "Bearing 0",
         "showlegend": false,
         "type": "scatter",
         "x": [
          0.0021428571428571443,
          0.006428571428571429
         ],
         "y": [
          -0.075,
          -0.0825
         ]
        },
        {
         "hoverinfo": "none",
         "legendgroup": "bearings",
         "line": {
          "color": "#355d7a",
          "width": 1
         },
         "mode": "lines",
         "name": "Bearing 0",
         "showlegend": false,
         "type": "scatter",
         "x": [
          0.006428571428571429,
          0.010714285714285714
         ],
         "y": [
          0.075,
          0.0825
         ]
        },
        {
         "hoverinfo": "none",
         "legendgroup": "bearings",
         "line": {
          "color": "#355d7a",
          "width": 1
         },
         "mode": "lines",
         "name": "Bearing 0",
         "showlegend": false,
         "type": "scatter",
         "x": [
          0.006428571428571429,
          0.010714285714285714
         ],
         "y": [
          -0.075,
          -0.0825
         ]
        },
        {
         "hoverinfo": "none",
         "legendgroup": "bearings",
         "line": {
          "color": "#355d7a",
          "width": 1
         },
         "mode": "lines",
         "name": "Bearing 0",
         "showlegend": false,
         "type": "scatter",
         "x": [
          0.010714285714285714,
          0.015000000000000005
         ],
         "y": [
          0.075,
          0.0825
         ]
        },
        {
         "hoverinfo": "none",
         "legendgroup": "bearings",
         "line": {
          "color": "#355d7a",
          "width": 1
         },
         "mode": "lines",
         "name": "Bearing 0",
         "showlegend": false,
         "type": "scatter",
         "x": [
          0.010714285714285714,
          0.015000000000000005
         ],
         "y": [
          -0.075,
          -0.0825
         ]
        },
        {
         "hoverinfo": "none",
         "legendgroup": "bearings",
         "line": {
          "color": "#355d7a",
          "width": 1
         },
         "mode": "lines",
         "name": "Bearing 0",
         "showlegend": false,
         "type": "scatter",
         "x": [
          -0.007142857142857143,
          -0.007142857142857143,
          -0.010714285714285714,
          -0.0035714285714285713,
          -0.010714285714285714,
          -0.0035714285714285713,
          -0.010714285714285714,
          -0.0035714285714285713,
          -0.007142857142857143,
          -0.007142857142857143
         ],
         "y": [
          0.0375,
          0.04107142857142857,
          0.04107142857142857,
          0.044642857142857144,
          0.04821428571428571,
          0.05178571428571428,
          0.055357142857142855,
          0.05892857142857143,
          0.05892857142857143,
          0.0625
         ]
        },
        {
         "hoverinfo": "none",
         "legendgroup": "bearings",
         "line": {
          "color": "#355d7a",
          "width": 1
         },
         "mode": "lines",
         "name": "Bearing 0",
         "showlegend": false,
         "type": "scatter",
         "x": [
          -0.007142857142857143,
          -0.007142857142857143,
          -0.010714285714285714,
          -0.0035714285714285713,
          -0.010714285714285714,
          -0.0035714285714285713,
          -0.010714285714285714,
          -0.0035714285714285713,
          -0.007142857142857143,
          -0.007142857142857143
         ],
         "y": [
          -0.0375,
          -0.04107142857142857,
          -0.04107142857142857,
          -0.044642857142857144,
          -0.04821428571428571,
          -0.05178571428571428,
          -0.055357142857142855,
          -0.05892857142857143,
          -0.05892857142857143,
          -0.0625
         ]
        },
        {
         "hoverinfo": "none",
         "legendgroup": "bearings",
         "line": {
          "color": "#355d7a",
          "width": 1
         },
         "mode": "lines",
         "name": "Bearing 0",
         "showlegend": false,
         "type": "scatter",
         "x": [
          0.007142857142857143,
          0.007142857142857143
         ],
         "y": [
          0.0375,
          0.044642857142857144
         ]
        },
        {
         "hoverinfo": "none",
         "legendgroup": "bearings",
         "line": {
          "color": "#355d7a",
          "width": 1
         },
         "mode": "lines",
         "name": "Bearing 0",
         "showlegend": false,
         "type": "scatter",
         "x": [
          0.007142857142857143,
          0.007142857142857143
         ],
         "y": [
          -0.0375,
          -0.044642857142857144
         ]
        },
        {
         "hoverinfo": "none",
         "legendgroup": "bearings",
         "line": {
          "color": "#355d7a",
          "width": 1
         },
         "mode": "lines",
         "name": "Bearing 0",
         "showlegend": false,
         "type": "scatter",
         "x": [
          0,
          0,
          0.014285714285714284,
          0.014285714285714284
         ],
         "y": [
          0.055357142857142855,
          0.044642857142857144,
          0.044642857142857144,
          0.055357142857142855
         ]
        },
        {
         "hoverinfo": "none",
         "legendgroup": "bearings",
         "line": {
          "color": "#355d7a",
          "width": 1
         },
         "mode": "lines",
         "name": "Bearing 0",
         "showlegend": false,
         "type": "scatter",
         "x": [
          0,
          0,
          0.014285714285714284,
          0.014285714285714284
         ],
         "y": [
          -0.055357142857142855,
          -0.044642857142857144,
          -0.044642857142857144,
          -0.055357142857142855
         ]
        },
        {
         "hoverinfo": "none",
         "legendgroup": "bearings",
         "line": {
          "color": "#355d7a",
          "width": 1
         },
         "mode": "lines",
         "name": "Bearing 0",
         "showlegend": false,
         "type": "scatter",
         "x": [
          0,
          0.014285714285714284,
          0.007142857142857143,
          0.007142857142857143
         ],
         "y": [
          0.05178571428571428,
          0.05178571428571428,
          0.05178571428571428,
          0.0625
         ]
        },
        {
         "hoverinfo": "none",
         "legendgroup": "bearings",
         "line": {
          "color": "#355d7a",
          "width": 1
         },
         "mode": "lines",
         "name": "Bearing 0",
         "showlegend": false,
         "type": "scatter",
         "x": [
          0,
          0.014285714285714284,
          0.007142857142857143,
          0.007142857142857143
         ],
         "y": [
          -0.05178571428571428,
          -0.05178571428571428,
          -0.05178571428571428,
          -0.0625
         ]
        },
        {
         "hoverinfo": "none",
         "legendgroup": "bearings",
         "line": {
          "color": "#355d7a",
          "width": 1
         },
         "mode": "lines",
         "name": "Bearing 1",
         "showlegend": false,
         "type": "scatter",
         "x": [
          1.5,
          1.5,
          1.4928571428571429,
          1.5071428571428571
         ],
         "y": [
          0.025,
          0.0375,
          0.0375,
          0.0375
         ]
        },
        {
         "hoverinfo": "none",
         "legendgroup": "bearings",
         "line": {
          "color": "#355d7a",
          "width": 1
         },
         "mode": "lines",
         "name": "Bearing 1",
         "showlegend": false,
         "type": "scatter",
         "x": [
          1.5,
          1.5,
          1.4928571428571429,
          1.5071428571428571
         ],
         "y": [
          -0.025,
          -0.0375,
          -0.0375,
          -0.0375
         ]
        },
        {
         "hoverinfo": "none",
         "legendgroup": "bearings",
         "line": {
          "color": "#355d7a",
          "width": 1
         },
         "mode": "lines",
         "name": "Bearing 1",
         "showlegend": false,
         "type": "scatter",
         "x": [
          1.5,
          1.5,
          1.4928571428571429,
          1.5071428571428571
         ],
         "y": [
          0.075,
          0.0625,
          0.0625,
          0.0625
         ]
        },
        {
         "hoverinfo": "none",
         "legendgroup": "bearings",
         "line": {
          "color": "#355d7a",
          "width": 1
         },
         "mode": "lines",
         "name": "Bearing 1",
         "showlegend": false,
         "type": "scatter",
         "x": [
          1.5,
          1.5,
          1.4928571428571429,
          1.5071428571428571
         ],
         "y": [
          -0.075,
          -0.0625,
          -0.0625,
          -0.0625
         ]
        },
        {
         "hoverinfo": "none",
         "legendgroup": "bearings",
         "line": {
          "color": "#355d7a",
          "width": 1
         },
         "mode": "lines",
         "name": "Bearing 1",
         "showlegend": false,
         "type": "scatter",
         "x": [
          1.4892857142857143,
          1.5107142857142857
         ],
         "y": [
          0.075,
          0.075
         ]
        },
        {
         "hoverinfo": "none",
         "legendgroup": "bearings",
         "line": {
          "color": "#355d7a",
          "width": 1
         },
         "mode": "lines",
         "name": "Bearing 1",
         "showlegend": false,
         "type": "scatter",
         "x": [
          1.4892857142857143,
          1.5107142857142857
         ],
         "y": [
          -0.075,
          -0.075
         ]
        },
        {
         "hoverinfo": "none",
         "legendgroup": "bearings",
         "line": {
          "color": "#355d7a",
          "width": 1
         },
         "mode": "lines",
         "name": "Bearing 1",
         "showlegend": false,
         "type": "scatter",
         "x": [
          1.4892857142857143,
          1.4935714285714283
         ],
         "y": [
          0.075,
          0.0825
         ]
        },
        {
         "hoverinfo": "none",
         "legendgroup": "bearings",
         "line": {
          "color": "#355d7a",
          "width": 1
         },
         "mode": "lines",
         "name": "Bearing 1",
         "showlegend": false,
         "type": "scatter",
         "x": [
          1.4892857142857143,
          1.4935714285714283
         ],
         "y": [
          -0.075,
          -0.0825
         ]
        },
        {
         "hoverinfo": "none",
         "legendgroup": "bearings",
         "line": {
          "color": "#355d7a",
          "width": 1
         },
         "mode": "lines",
         "name": "Bearing 1",
         "showlegend": false,
         "type": "scatter",
         "x": [
          1.4935714285714283,
          1.4978571428571428
         ],
         "y": [
          0.075,
          0.0825
         ]
        },
        {
         "hoverinfo": "none",
         "legendgroup": "bearings",
         "line": {
          "color": "#355d7a",
          "width": 1
         },
         "mode": "lines",
         "name": "Bearing 1",
         "showlegend": false,
         "type": "scatter",
         "x": [
          1.4935714285714283,
          1.4978571428571428
         ],
         "y": [
          -0.075,
          -0.0825
         ]
        },
        {
         "hoverinfo": "none",
         "legendgroup": "bearings",
         "line": {
          "color": "#355d7a",
          "width": 1
         },
         "mode": "lines",
         "name": "Bearing 1",
         "showlegend": false,
         "type": "scatter",
         "x": [
          1.4978571428571428,
          1.5021428571428572
         ],
         "y": [
          0.075,
          0.0825
         ]
        },
        {
         "hoverinfo": "none",
         "legendgroup": "bearings",
         "line": {
          "color": "#355d7a",
          "width": 1
         },
         "mode": "lines",
         "name": "Bearing 1",
         "showlegend": false,
         "type": "scatter",
         "x": [
          1.4978571428571428,
          1.5021428571428572
         ],
         "y": [
          -0.075,
          -0.0825
         ]
        },
        {
         "hoverinfo": "none",
         "legendgroup": "bearings",
         "line": {
          "color": "#355d7a",
          "width": 1
         },
         "mode": "lines",
         "name": "Bearing 1",
         "showlegend": false,
         "type": "scatter",
         "x": [
          1.5021428571428572,
          1.5064285714285717
         ],
         "y": [
          0.075,
          0.0825
         ]
        },
        {
         "hoverinfo": "none",
         "legendgroup": "bearings",
         "line": {
          "color": "#355d7a",
          "width": 1
         },
         "mode": "lines",
         "name": "Bearing 1",
         "showlegend": false,
         "type": "scatter",
         "x": [
          1.5021428571428572,
          1.5064285714285717
         ],
         "y": [
          -0.075,
          -0.0825
         ]
        },
        {
         "hoverinfo": "none",
         "legendgroup": "bearings",
         "line": {
          "color": "#355d7a",
          "width": 1
         },
         "mode": "lines",
         "name": "Bearing 1",
         "showlegend": false,
         "type": "scatter",
         "x": [
          1.5064285714285717,
          1.5107142857142857
         ],
         "y": [
          0.075,
          0.0825
         ]
        },
        {
         "hoverinfo": "none",
         "legendgroup": "bearings",
         "line": {
          "color": "#355d7a",
          "width": 1
         },
         "mode": "lines",
         "name": "Bearing 1",
         "showlegend": false,
         "type": "scatter",
         "x": [
          1.5064285714285717,
          1.5107142857142857
         ],
         "y": [
          -0.075,
          -0.0825
         ]
        },
        {
         "hoverinfo": "none",
         "legendgroup": "bearings",
         "line": {
          "color": "#355d7a",
          "width": 1
         },
         "mode": "lines",
         "name": "Bearing 1",
         "showlegend": false,
         "type": "scatter",
         "x": [
          1.5107142857142857,
          1.515
         ],
         "y": [
          0.075,
          0.0825
         ]
        },
        {
         "hoverinfo": "none",
         "legendgroup": "bearings",
         "line": {
          "color": "#355d7a",
          "width": 1
         },
         "mode": "lines",
         "name": "Bearing 1",
         "showlegend": false,
         "type": "scatter",
         "x": [
          1.5107142857142857,
          1.515
         ],
         "y": [
          -0.075,
          -0.0825
         ]
        },
        {
         "hoverinfo": "none",
         "legendgroup": "bearings",
         "line": {
          "color": "#355d7a",
          "width": 1
         },
         "mode": "lines",
         "name": "Bearing 1",
         "showlegend": false,
         "type": "scatter",
         "x": [
          1.4928571428571429,
          1.4928571428571429,
          1.4892857142857143,
          1.4964285714285714,
          1.4892857142857143,
          1.4964285714285714,
          1.4892857142857143,
          1.4964285714285714,
          1.4928571428571429,
          1.4928571428571429
         ],
         "y": [
          0.0375,
          0.04107142857142857,
          0.04107142857142857,
          0.044642857142857144,
          0.04821428571428571,
          0.05178571428571428,
          0.055357142857142855,
          0.05892857142857143,
          0.05892857142857143,
          0.0625
         ]
        },
        {
         "hoverinfo": "none",
         "legendgroup": "bearings",
         "line": {
          "color": "#355d7a",
          "width": 1
         },
         "mode": "lines",
         "name": "Bearing 1",
         "showlegend": false,
         "type": "scatter",
         "x": [
          1.4928571428571429,
          1.4928571428571429,
          1.4892857142857143,
          1.4964285714285714,
          1.4892857142857143,
          1.4964285714285714,
          1.4892857142857143,
          1.4964285714285714,
          1.4928571428571429,
          1.4928571428571429
         ],
         "y": [
          -0.0375,
          -0.04107142857142857,
          -0.04107142857142857,
          -0.044642857142857144,
          -0.04821428571428571,
          -0.05178571428571428,
          -0.055357142857142855,
          -0.05892857142857143,
          -0.05892857142857143,
          -0.0625
         ]
        },
        {
         "hoverinfo": "none",
         "legendgroup": "bearings",
         "line": {
          "color": "#355d7a",
          "width": 1
         },
         "mode": "lines",
         "name": "Bearing 1",
         "showlegend": false,
         "type": "scatter",
         "x": [
          1.5071428571428571,
          1.5071428571428571
         ],
         "y": [
          0.0375,
          0.044642857142857144
         ]
        },
        {
         "hoverinfo": "none",
         "legendgroup": "bearings",
         "line": {
          "color": "#355d7a",
          "width": 1
         },
         "mode": "lines",
         "name": "Bearing 1",
         "showlegend": false,
         "type": "scatter",
         "x": [
          1.5071428571428571,
          1.5071428571428571
         ],
         "y": [
          -0.0375,
          -0.044642857142857144
         ]
        },
        {
         "hoverinfo": "none",
         "legendgroup": "bearings",
         "line": {
          "color": "#355d7a",
          "width": 1
         },
         "mode": "lines",
         "name": "Bearing 1",
         "showlegend": false,
         "type": "scatter",
         "x": [
          1.5,
          1.5,
          1.5142857142857142,
          1.5142857142857142
         ],
         "y": [
          0.055357142857142855,
          0.044642857142857144,
          0.044642857142857144,
          0.055357142857142855
         ]
        },
        {
         "hoverinfo": "none",
         "legendgroup": "bearings",
         "line": {
          "color": "#355d7a",
          "width": 1
         },
         "mode": "lines",
         "name": "Bearing 1",
         "showlegend": false,
         "type": "scatter",
         "x": [
          1.5,
          1.5,
          1.5142857142857142,
          1.5142857142857142
         ],
         "y": [
          -0.055357142857142855,
          -0.044642857142857144,
          -0.044642857142857144,
          -0.055357142857142855
         ]
        },
        {
         "hoverinfo": "none",
         "legendgroup": "bearings",
         "line": {
          "color": "#355d7a",
          "width": 1
         },
         "mode": "lines",
         "name": "Bearing 1",
         "showlegend": false,
         "type": "scatter",
         "x": [
          1.5,
          1.5142857142857142,
          1.5071428571428571,
          1.5071428571428571
         ],
         "y": [
          0.05178571428571428,
          0.05178571428571428,
          0.05178571428571428,
          0.0625
         ]
        },
        {
         "hoverinfo": "none",
         "legendgroup": "bearings",
         "line": {
          "color": "#355d7a",
          "width": 1
         },
         "mode": "lines",
         "name": "Bearing 1",
         "showlegend": false,
         "type": "scatter",
         "x": [
          1.5,
          1.5142857142857142,
          1.5071428571428571,
          1.5071428571428571
         ],
         "y": [
          -0.05178571428571428,
          -0.05178571428571428,
          -0.05178571428571428,
          -0.0625
         ]
        }
       ],
       "layout": {
        "shapes": [
         {
          "fillcolor": "Firebrick",
          "line": {
           "color": "Firebrick"
          },
          "type": "circle",
          "x0": 0.49375,
          "x1": 0.50625,
          "xref": "x",
          "y0": 0.11875,
          "y1": 0.13125,
          "yref": "y"
         },
         {
          "fillcolor": "Firebrick",
          "line": {
           "color": "Firebrick"
          },
          "type": "circle",
          "x0": 0.49375,
          "x1": 0.50625,
          "xref": "x",
          "y0": -0.13125,
          "y1": -0.11875,
          "yref": "y"
         },
         {
          "fillcolor": "Firebrick",
          "line": {
           "color": "Firebrick"
          },
          "type": "circle",
          "x0": 0.99375,
          "x1": 1.00625,
          "xref": "x",
          "y0": 0.11875,
          "y1": 0.13125,
          "yref": "y"
         },
         {
          "fillcolor": "Firebrick",
          "line": {
           "color": "Firebrick"
          },
          "type": "circle",
          "x0": 0.99375,
          "x1": 1.00625,
          "xref": "x",
          "y0": -0.13125,
          "y1": -0.11875,
          "yref": "y"
         }
        ],
        "template": {
         "data": {
          "bar": [
           {
            "error_x": {
             "color": "#2a3f5f"
            },
            "error_y": {
             "color": "#2a3f5f"
            },
            "marker": {
             "line": {
              "color": "white",
              "width": 0.5
             }
            },
            "type": "bar"
           }
          ],
          "barpolar": [
           {
            "marker": {
             "line": {
              "color": "white",
              "width": 0.5
             }
            },
            "type": "barpolar"
           }
          ],
          "carpet": [
           {
            "aaxis": {
             "endlinecolor": "#2a3f5f",
             "gridcolor": "#C8D4E3",
             "linecolor": "#C8D4E3",
             "minorgridcolor": "#C8D4E3",
             "startlinecolor": "#2a3f5f"
            },
            "baxis": {
             "endlinecolor": "#2a3f5f",
             "gridcolor": "#C8D4E3",
             "linecolor": "#C8D4E3",
             "minorgridcolor": "#C8D4E3",
             "startlinecolor": "#2a3f5f"
            },
            "type": "carpet"
           }
          ],
          "choropleth": [
           {
            "colorbar": {
             "outlinewidth": 0,
             "ticks": ""
            },
            "type": "choropleth"
           }
          ],
          "contour": [
           {
            "colorbar": {
             "outlinewidth": 0,
             "ticks": ""
            },
            "colorscale": [
             [
              0,
              "#0d0887"
             ],
             [
              0.1111111111111111,
              "#46039f"
             ],
             [
              0.2222222222222222,
              "#7201a8"
             ],
             [
              0.3333333333333333,
              "#9c179e"
             ],
             [
              0.4444444444444444,
              "#bd3786"
             ],
             [
              0.5555555555555556,
              "#d8576b"
             ],
             [
              0.6666666666666666,
              "#ed7953"
             ],
             [
              0.7777777777777778,
              "#fb9f3a"
             ],
             [
              0.8888888888888888,
              "#fdca26"
             ],
             [
              1,
              "#f0f921"
             ]
            ],
            "type": "contour"
           }
          ],
          "contourcarpet": [
           {
            "colorbar": {
             "outlinewidth": 0,
             "ticks": ""
            },
            "type": "contourcarpet"
           }
          ],
          "heatmap": [
           {
            "colorbar": {
             "outlinewidth": 0,
             "ticks": ""
            },
            "colorscale": [
             [
              0,
              "#0d0887"
             ],
             [
              0.1111111111111111,
              "#46039f"
             ],
             [
              0.2222222222222222,
              "#7201a8"
             ],
             [
              0.3333333333333333,
              "#9c179e"
             ],
             [
              0.4444444444444444,
              "#bd3786"
             ],
             [
              0.5555555555555556,
              "#d8576b"
             ],
             [
              0.6666666666666666,
              "#ed7953"
             ],
             [
              0.7777777777777778,
              "#fb9f3a"
             ],
             [
              0.8888888888888888,
              "#fdca26"
             ],
             [
              1,
              "#f0f921"
             ]
            ],
            "type": "heatmap"
           }
          ],
          "heatmapgl": [
           {
            "colorbar": {
             "outlinewidth": 0,
             "ticks": ""
            },
            "colorscale": [
             [
              0,
              "#0d0887"
             ],
             [
              0.1111111111111111,
              "#46039f"
             ],
             [
              0.2222222222222222,
              "#7201a8"
             ],
             [
              0.3333333333333333,
              "#9c179e"
             ],
             [
              0.4444444444444444,
              "#bd3786"
             ],
             [
              0.5555555555555556,
              "#d8576b"
             ],
             [
              0.6666666666666666,
              "#ed7953"
             ],
             [
              0.7777777777777778,
              "#fb9f3a"
             ],
             [
              0.8888888888888888,
              "#fdca26"
             ],
             [
              1,
              "#f0f921"
             ]
            ],
            "type": "heatmapgl"
           }
          ],
          "histogram": [
           {
            "marker": {
             "colorbar": {
              "outlinewidth": 0,
              "ticks": ""
             }
            },
            "type": "histogram"
           }
          ],
          "histogram2d": [
           {
            "colorbar": {
             "outlinewidth": 0,
             "ticks": ""
            },
            "colorscale": [
             [
              0,
              "#0d0887"
             ],
             [
              0.1111111111111111,
              "#46039f"
             ],
             [
              0.2222222222222222,
              "#7201a8"
             ],
             [
              0.3333333333333333,
              "#9c179e"
             ],
             [
              0.4444444444444444,
              "#bd3786"
             ],
             [
              0.5555555555555556,
              "#d8576b"
             ],
             [
              0.6666666666666666,
              "#ed7953"
             ],
             [
              0.7777777777777778,
              "#fb9f3a"
             ],
             [
              0.8888888888888888,
              "#fdca26"
             ],
             [
              1,
              "#f0f921"
             ]
            ],
            "type": "histogram2d"
           }
          ],
          "histogram2dcontour": [
           {
            "colorbar": {
             "outlinewidth": 0,
             "ticks": ""
            },
            "colorscale": [
             [
              0,
              "#0d0887"
             ],
             [
              0.1111111111111111,
              "#46039f"
             ],
             [
              0.2222222222222222,
              "#7201a8"
             ],
             [
              0.3333333333333333,
              "#9c179e"
             ],
             [
              0.4444444444444444,
              "#bd3786"
             ],
             [
              0.5555555555555556,
              "#d8576b"
             ],
             [
              0.6666666666666666,
              "#ed7953"
             ],
             [
              0.7777777777777778,
              "#fb9f3a"
             ],
             [
              0.8888888888888888,
              "#fdca26"
             ],
             [
              1,
              "#f0f921"
             ]
            ],
            "type": "histogram2dcontour"
           }
          ],
          "mesh3d": [
           {
            "colorbar": {
             "outlinewidth": 0,
             "ticks": ""
            },
            "type": "mesh3d"
           }
          ],
          "parcoords": [
           {
            "line": {
             "colorbar": {
              "outlinewidth": 0,
              "ticks": ""
             }
            },
            "type": "parcoords"
           }
          ],
          "pie": [
           {
            "automargin": true,
            "type": "pie"
           }
          ],
          "scatter": [
           {
            "marker": {
             "colorbar": {
              "outlinewidth": 0,
              "ticks": ""
             }
            },
            "type": "scatter"
           }
          ],
          "scatter3d": [
           {
            "line": {
             "colorbar": {
              "outlinewidth": 0,
              "ticks": ""
             }
            },
            "marker": {
             "colorbar": {
              "outlinewidth": 0,
              "ticks": ""
             },
             "size": 4
            },
            "type": "scatter3d"
           }
          ],
          "scattercarpet": [
           {
            "marker": {
             "colorbar": {
              "outlinewidth": 0,
              "ticks": ""
             }
            },
            "type": "scattercarpet"
           }
          ],
          "scattergeo": [
           {
            "marker": {
             "colorbar": {
              "outlinewidth": 0,
              "ticks": ""
             }
            },
            "type": "scattergeo"
           }
          ],
          "scattergl": [
           {
            "marker": {
             "colorbar": {
              "outlinewidth": 0,
              "ticks": ""
             }
            },
            "type": "scattergl"
           }
          ],
          "scattermapbox": [
           {
            "marker": {
             "colorbar": {
              "outlinewidth": 0,
              "ticks": ""
             }
            },
            "type": "scattermapbox"
           }
          ],
          "scatterpolar": [
           {
            "marker": {
             "colorbar": {
              "outlinewidth": 0,
              "ticks": ""
             }
            },
            "type": "scatterpolar"
           }
          ],
          "scatterpolargl": [
           {
            "marker": {
             "colorbar": {
              "outlinewidth": 0,
              "ticks": ""
             }
            },
            "type": "scatterpolargl"
           }
          ],
          "scatterternary": [
           {
            "marker": {
             "colorbar": {
              "outlinewidth": 0,
              "ticks": ""
             }
            },
            "type": "scatterternary"
           }
          ],
          "surface": [
           {
            "colorbar": {
             "outlinewidth": 0,
             "ticks": ""
            },
            "colorscale": [
             [
              0,
              "#0d0887"
             ],
             [
              0.1111111111111111,
              "#46039f"
             ],
             [
              0.2222222222222222,
              "#7201a8"
             ],
             [
              0.3333333333333333,
              "#9c179e"
             ],
             [
              0.4444444444444444,
              "#bd3786"
             ],
             [
              0.5555555555555556,
              "#d8576b"
             ],
             [
              0.6666666666666666,
              "#ed7953"
             ],
             [
              0.7777777777777778,
              "#fb9f3a"
             ],
             [
              0.8888888888888888,
              "#fdca26"
             ],
             [
              1,
              "#f0f921"
             ]
            ],
            "type": "surface"
           }
          ],
          "table": [
           {
            "cells": {
             "fill": {
              "color": "#EBF0F8"
             },
             "line": {
              "color": "white"
             }
            },
            "header": {
             "fill": {
              "color": "#C8D4E3"
             },
             "line": {
              "color": "white"
             }
            },
            "type": "table"
           }
          ]
         },
         "layout": {
          "annotationdefaults": {
           "arrowcolor": "#2a3f5f",
           "arrowhead": 0,
           "arrowwidth": 1
          },
          "coloraxis": {
           "colorbar": {
            "outlinewidth": 0,
            "ticks": ""
           }
          },
          "colorscale": {
           "diverging": [
            [
             0,
             "#8e0152"
            ],
            [
             0.1,
             "#c51b7d"
            ],
            [
             0.2,
             "#de77ae"
            ],
            [
             0.3,
             "#f1b6da"
            ],
            [
             0.4,
             "#fde0ef"
            ],
            [
             0.5,
             "#f7f7f7"
            ],
            [
             0.6,
             "#e6f5d0"
            ],
            [
             0.7,
             "#b8e186"
            ],
            [
             0.8,
             "#7fbc41"
            ],
            [
             0.9,
             "#4d9221"
            ],
            [
             1,
             "#276419"
            ]
           ],
           "sequential": [
            [
             0,
             "#0d0887"
            ],
            [
             0.1111111111111111,
             "#46039f"
            ],
            [
             0.2222222222222222,
             "#7201a8"
            ],
            [
             0.3333333333333333,
             "#9c179e"
            ],
            [
             0.4444444444444444,
             "#bd3786"
            ],
            [
             0.5555555555555556,
             "#d8576b"
            ],
            [
             0.6666666666666666,
             "#ed7953"
            ],
            [
             0.7777777777777778,
             "#fb9f3a"
            ],
            [
             0.8888888888888888,
             "#fdca26"
            ],
            [
             1,
             "#f0f921"
            ]
           ],
           "sequentialminus": [
            [
             0,
             "#0d0887"
            ],
            [
             0.1111111111111111,
             "#46039f"
            ],
            [
             0.2222222222222222,
             "#7201a8"
            ],
            [
             0.3333333333333333,
             "#9c179e"
            ],
            [
             0.4444444444444444,
             "#bd3786"
            ],
            [
             0.5555555555555556,
             "#d8576b"
            ],
            [
             0.6666666666666666,
             "#ed7953"
            ],
            [
             0.7777777777777778,
             "#fb9f3a"
            ],
            [
             0.8888888888888888,
             "#fdca26"
            ],
            [
             1,
             "#f0f921"
            ]
           ]
          },
          "colorway": [
           "#1f77b4",
           "#ff7f0e",
           "#2ca02c",
           "#d62728",
           "#9467bd",
           "#8c564b",
           "#e377c2",
           "#7f7f7f",
           "#bcbd22",
           "#17becf"
          ],
          "font": {
           "color": "#2a3f5f"
          },
          "geo": {
           "bgcolor": "white",
           "lakecolor": "white",
           "landcolor": "white",
           "showlakes": true,
           "showland": true,
           "subunitcolor": "#C8D4E3"
          },
          "hoverlabel": {
           "align": "left"
          },
          "hovermode": "closest",
          "mapbox": {
           "style": "light"
          },
          "paper_bgcolor": "white",
          "plot_bgcolor": "white",
          "polar": {
           "angularaxis": {
            "gridcolor": "#EBF0F8",
            "linecolor": "#EBF0F8",
            "ticks": ""
           },
           "bgcolor": "white",
           "radialaxis": {
            "gridcolor": "#EBF0F8",
            "linecolor": "#EBF0F8",
            "ticks": ""
           }
          },
          "scene": {
           "camera": {
            "center": {
             "x": 0,
             "y": 0,
             "z": 0
            },
            "eye": {
             "x": 2,
             "y": 2,
             "z": 2
            },
            "up": {
             "x": 0,
             "y": 0,
             "z": 1
            }
           },
           "xaxis": {
            "backgroundcolor": "white",
            "gridcolor": "#DFE8F3",
            "gridwidth": 2,
            "linecolor": "#EBF0F8",
            "showbackground": true,
            "showspikes": false,
            "ticks": "",
            "zerolinecolor": "#EBF0F8"
           },
           "yaxis": {
            "backgroundcolor": "white",
            "gridcolor": "#DFE8F3",
            "gridwidth": 2,
            "linecolor": "#EBF0F8",
            "showbackground": true,
            "showspikes": false,
            "ticks": "",
            "zerolinecolor": "#EBF0F8"
           },
           "zaxis": {
            "backgroundcolor": "white",
            "gridcolor": "#DFE8F3",
            "gridwidth": 2,
            "linecolor": "#EBF0F8",
            "showbackground": true,
            "showspikes": false,
            "ticks": "",
            "zerolinecolor": "#EBF0F8"
           }
          },
          "shapedefaults": {
           "line": {
            "color": "#2a3f5f"
           }
          },
          "ternary": {
           "aaxis": {
            "gridcolor": "#DFE8F3",
            "linecolor": "#A2B1C6",
            "ticks": ""
           },
           "baxis": {
            "gridcolor": "#DFE8F3",
            "linecolor": "#A2B1C6",
            "ticks": ""
           },
           "bgcolor": "white",
           "caxis": {
            "gridcolor": "#DFE8F3",
            "linecolor": "#A2B1C6",
            "ticks": ""
           }
          },
          "title": {
           "x": 0.05
          },
          "xaxis": {
           "automargin": true,
           "gridcolor": "#EBF0F8",
           "linecolor": "black",
           "linewidth": 2,
           "mirror": true,
           "showline": true,
           "ticks": "",
           "title": {
            "standoff": 15
           },
           "zeroline": false,
           "zerolinecolor": "#EBF0F8",
           "zerolinewidth": 2
          },
          "yaxis": {
           "automargin": true,
           "gridcolor": "#EBF0F8",
           "linecolor": "black",
           "linewidth": 2,
           "mirror": true,
           "showline": true,
           "ticks": "",
           "title": {
            "standoff": 15
           },
           "zeroline": false,
           "zerolinecolor": "#EBF0F8",
           "zerolinewidth": 2
          }
         }
        },
        "title": {
         "text": "Rotor Model"
        },
        "xaxis": {
         "mirror": true,
         "range": [
          -0.15000000000000002,
          1.65
         ],
         "showgrid": false,
         "title": {
          "text": "Axial location (m)"
         }
        },
        "yaxis": {
         "mirror": true,
         "range": [
          -0.45,
          0.45
         ],
         "showgrid": false,
         "title": {
          "text": "Shaft radius (m)"
         }
        }
       }
      }
     },
     "metadata": {},
     "output_type": "display_data"
    }
   ],
   "source": [
    "# Classic Instantiation of the rotor\n",
    "shaft_elements = []\n",
    "bearing_seal_elements = []\n",
    "disk_elements = []\n",
    "\n",
    "for i in range(6):\n",
    "    shaft_elements.append(rs.ShaftElement(L=0.25, material=steel, n=i, idl=0, odl=0.05))\n",
    "\n",
    "disk_elements.append(\n",
    "    rs.DiskElement.from_geometry(n=2, material=steel, width=0.07, i_d=0.05, o_d=0.28)\n",
    ")\n",
    "\n",
    "disk_elements.append(\n",
    "    rs.DiskElement.from_geometry(n=4, material=steel, width=0.07, i_d=0.05, o_d=0.35)\n",
    ")\n",
    "bearing_seal_elements.append(rs.BearingElement(n=0, kxx=1e6, kyy=1e6, cxx=0, cyy=0))\n",
    "bearing_seal_elements.append(rs.BearingElement(n=6, kxx=1e6, kyy=1e6, cxx=0, cyy=0))\n",
    "\n",
    "rotor591c = rs.Rotor(\n",
    "    shaft_elements=shaft_elements,\n",
    "    bearing_elements=bearing_seal_elements,\n",
    "    disk_elements=disk_elements,\n",
    ")\n",
    "\n",
    "rotor591c.plot_rotor()"
   ]
  },
  {
   "cell_type": "code",
   "execution_count": 3,
   "metadata": {
    "execution": {
     "iopub.execute_input": "2023-05-04T01:00:37.573600Z",
     "iopub.status.busy": "2023-05-04T01:00:37.573430Z",
     "iopub.status.idle": "2023-05-04T01:00:37.639633Z",
     "shell.execute_reply": "2023-05-04T01:00:37.639150Z"
    },
    "scrolled": false
   },
   "outputs": [
    {
     "data": {
      "application/vnd.plotly.v1+json": {
       "config": {
        "plotlyServerURL": "https://plot.ly"
       },
       "data": [
        {
         "hoverinfo": "none",
         "line": {
          "color": "black",
          "dash": "dashdot",
          "width": 3
         },
         "mode": "lines",
         "opacity": 0.7,
         "showlegend": false,
         "type": "scatter",
         "x": [
          -0.30000000000000004,
          1.7999999999999998
         ],
         "y": [
          0,
          0
         ]
        },
        {
         "hoverinfo": "none",
         "marker": {
          "color": "#ffcc99",
          "line": {
           "color": "black",
           "width": 1
          },
          "opacity": 0.7,
          "size": 20
         },
         "mode": "markers+text",
         "showlegend": false,
         "text": [
          "0",
          "1",
          "2",
          "3"
         ],
         "type": "scatter",
         "x": [
          0,
          0.5,
          1,
          1.5
         ],
         "y": [
          0,
          0,
          0,
          0
         ]
        },
        {
         "customdata": [
          [
           0,
           0.05,
           0,
           0.05,
           0,
           0.5,
           "Steel"
          ],
          [
           0,
           0.05,
           0,
           0.05,
           0,
           0.5,
           "Steel"
          ],
          [
           0,
           0.05,
           0,
           0.05,
           0,
           0.5,
           "Steel"
          ],
          [
           0,
           0.05,
           0,
           0.05,
           0,
           0.5,
           "Steel"
          ],
          [
           0,
           0.05,
           0,
           0.05,
           0,
           0.5,
           "Steel"
          ],
          [
           0,
           0.05,
           0,
           0.05,
           0,
           0.5,
           "Steel"
          ],
          [
           0,
           0.05,
           0,
           0.05,
           0,
           0.5,
           "Steel"
          ],
          [
           0,
           0.05,
           0,
           0.05,
           0,
           0.5,
           "Steel"
          ],
          [
           0,
           0.05,
           0,
           0.05,
           0,
           0.5,
           "Steel"
          ],
          [
           0,
           0.05,
           0,
           0.05,
           0,
           0.5,
           "Steel"
          ]
         ],
         "fill": "toself",
         "fillcolor": "#525252",
         "hoverinfo": "text",
         "hoverlabel": {
          "bgcolor": "#525252"
         },
         "hoveron": "points+fills",
         "hovertemplate": "Element Number: 0<br>Left Outer Diameter: 0.05 m<br>Left Inner Diameter: 0.0 m<br>Right Outer Diameter: 0.05 m<br>Right Inner Diameter: 0.0 m<br>Element Length: 0.5 m<br>Material: Steel<br>",
         "legendgroup": "Shaft",
         "line": {
          "color": "black",
          "width": 1.5
         },
         "mode": "lines",
         "name": "ShaftElement 0",
         "opacity": 0.5,
         "showlegend": false,
         "text": "Element Number: 0<br>Left Outer Diameter: 0.05 m<br>Left Inner Diameter: 0.0 m<br>Right Outer Diameter: 0.05 m<br>Right Inner Diameter: 0.0 m<br>Element Length: 0.5 m<br>Material: Steel<br>",
         "type": "scatter",
         "x": [
          0,
          0,
          0.5,
          0.5,
          0,
          0,
          0,
          0.5,
          0.5,
          0
         ],
         "y": [
          0,
          0.025,
          0.025,
          0,
          0,
          0,
          -0.025,
          -0.025,
          0,
          0
         ]
        },
        {
         "customdata": [
          [
           1,
           0.05,
           0,
           0.05,
           0,
           0.5,
           "Steel"
          ],
          [
           1,
           0.05,
           0,
           0.05,
           0,
           0.5,
           "Steel"
          ],
          [
           1,
           0.05,
           0,
           0.05,
           0,
           0.5,
           "Steel"
          ],
          [
           1,
           0.05,
           0,
           0.05,
           0,
           0.5,
           "Steel"
          ],
          [
           1,
           0.05,
           0,
           0.05,
           0,
           0.5,
           "Steel"
          ],
          [
           1,
           0.05,
           0,
           0.05,
           0,
           0.5,
           "Steel"
          ],
          [
           1,
           0.05,
           0,
           0.05,
           0,
           0.5,
           "Steel"
          ],
          [
           1,
           0.05,
           0,
           0.05,
           0,
           0.5,
           "Steel"
          ],
          [
           1,
           0.05,
           0,
           0.05,
           0,
           0.5,
           "Steel"
          ],
          [
           1,
           0.05,
           0,
           0.05,
           0,
           0.5,
           "Steel"
          ]
         ],
         "fill": "toself",
         "fillcolor": "#525252",
         "hoverinfo": "text",
         "hoverlabel": {
          "bgcolor": "#525252"
         },
         "hoveron": "points+fills",
         "hovertemplate": "Element Number: 1<br>Left Outer Diameter: 0.05 m<br>Left Inner Diameter: 0.0 m<br>Right Outer Diameter: 0.05 m<br>Right Inner Diameter: 0.0 m<br>Element Length: 0.5 m<br>Material: Steel<br>",
         "legendgroup": "Shaft",
         "line": {
          "color": "black",
          "width": 1.5
         },
         "mode": "lines",
         "name": "ShaftElement 1",
         "opacity": 0.5,
         "showlegend": false,
         "text": "Element Number: 1<br>Left Outer Diameter: 0.05 m<br>Left Inner Diameter: 0.0 m<br>Right Outer Diameter: 0.05 m<br>Right Inner Diameter: 0.0 m<br>Element Length: 0.5 m<br>Material: Steel<br>",
         "type": "scatter",
         "x": [
          0.5,
          0.5,
          1,
          1,
          0.5,
          0.5,
          0.5,
          1,
          1,
          0.5
         ],
         "y": [
          0,
          0.025,
          0.025,
          0,
          0,
          0,
          -0.025,
          -0.025,
          0,
          0
         ]
        },
        {
         "customdata": [
          [
           2,
           0.05,
           0,
           0.05,
           0,
           0.5,
           "Steel"
          ],
          [
           2,
           0.05,
           0,
           0.05,
           0,
           0.5,
           "Steel"
          ],
          [
           2,
           0.05,
           0,
           0.05,
           0,
           0.5,
           "Steel"
          ],
          [
           2,
           0.05,
           0,
           0.05,
           0,
           0.5,
           "Steel"
          ],
          [
           2,
           0.05,
           0,
           0.05,
           0,
           0.5,
           "Steel"
          ],
          [
           2,
           0.05,
           0,
           0.05,
           0,
           0.5,
           "Steel"
          ],
          [
           2,
           0.05,
           0,
           0.05,
           0,
           0.5,
           "Steel"
          ],
          [
           2,
           0.05,
           0,
           0.05,
           0,
           0.5,
           "Steel"
          ],
          [
           2,
           0.05,
           0,
           0.05,
           0,
           0.5,
           "Steel"
          ],
          [
           2,
           0.05,
           0,
           0.05,
           0,
           0.5,
           "Steel"
          ]
         ],
         "fill": "toself",
         "fillcolor": "#525252",
         "hoverinfo": "text",
         "hoverlabel": {
          "bgcolor": "#525252"
         },
         "hoveron": "points+fills",
         "hovertemplate": "Element Number: 2<br>Left Outer Diameter: 0.05 m<br>Left Inner Diameter: 0.0 m<br>Right Outer Diameter: 0.05 m<br>Right Inner Diameter: 0.0 m<br>Element Length: 0.5 m<br>Material: Steel<br>",
         "legendgroup": "Shaft",
         "line": {
          "color": "black",
          "width": 1.5
         },
         "mode": "lines",
         "name": "ShaftElement 2",
         "opacity": 0.5,
         "showlegend": false,
         "text": "Element Number: 2<br>Left Outer Diameter: 0.05 m<br>Left Inner Diameter: 0.0 m<br>Right Outer Diameter: 0.05 m<br>Right Inner Diameter: 0.0 m<br>Element Length: 0.5 m<br>Material: Steel<br>",
         "type": "scatter",
         "x": [
          1,
          1,
          1.5,
          1.5,
          1,
          1,
          1,
          1.5,
          1.5,
          1
         ],
         "y": [
          0,
          0.025,
          0.025,
          0,
          0,
          0,
          -0.025,
          -0.025,
          0,
          0
         ]
        },
        {
         "customdata": [
          [
           1,
           0.32956362089137037,
           0.17808928257067666,
           32.58972765304033
          ],
          [
           1,
           0.32956362089137037,
           0.17808928257067666,
           32.58972765304033
          ],
          [
           1,
           0.32956362089137037,
           0.17808928257067666,
           32.58972765304033
          ],
          [
           1,
           0.32956362089137037,
           0.17808928257067666,
           32.58972765304033
          ],
          [
           1,
           0.32956362089137037,
           0.17808928257067666,
           32.58972765304033
          ],
          [
           1,
           0.32956362089137037,
           0.17808928257067666,
           32.58972765304033
          ],
          [
           1,
           0.32956362089137037,
           0.17808928257067666,
           32.58972765304033
          ],
          [
           1,
           0.32956362089137037,
           0.17808928257067666,
           32.58972765304033
          ],
          [
           1,
           0.32956362089137037,
           0.17808928257067666,
           32.58972765304033
          ]
         ],
         "fill": "toself",
         "fillcolor": "Firebrick",
         "hoverinfo": "text",
         "hoverlabel": {
          "bgcolor": "Firebrick"
         },
         "hoveron": "points+fills",
         "hovertemplate": "Disk Node: 1<br>Polar Inertia: 3.296e-01<br>Diametral Inertia: 1.781e-01<br>Disk mass: 32.590<br>",
         "legendgroup": "disks",
         "line": {
          "color": "Firebrick",
          "width": 2
         },
         "mode": "lines",
         "name": "Disk 0",
         "opacity": 0.8,
         "showlegend": false,
         "text": "Disk Node: 1<br>Polar Inertia: 3.296e-01<br>Diametral Inertia: 1.781e-01<br>Disk mass: 32.590<br>",
         "type": "scatter",
         "x": [
          0.5,
          0.502,
          0.498,
          0.5,
          null,
          0.5,
          0.502,
          0.498,
          0.5
         ],
         "y": [
          0.025,
          0.125,
          0.125,
          0.025,
          null,
          -0.025,
          -0.125,
          -0.125,
          -0.025
         ]
        },
        {
         "customdata": [
          [
           2,
           0.8050822048675967,
           0.42358058405433824,
           51.5252611115262
          ],
          [
           2,
           0.8050822048675967,
           0.42358058405433824,
           51.5252611115262
          ],
          [
           2,
           0.8050822048675967,
           0.42358058405433824,
           51.5252611115262
          ],
          [
           2,
           0.8050822048675967,
           0.42358058405433824,
           51.5252611115262
          ],
          [
           2,
           0.8050822048675967,
           0.42358058405433824,
           51.5252611115262
          ],
          [
           2,
           0.8050822048675967,
           0.42358058405433824,
           51.5252611115262
          ],
          [
           2,
           0.8050822048675967,
           0.42358058405433824,
           51.5252611115262
          ],
          [
           2,
           0.8050822048675967,
           0.42358058405433824,
           51.5252611115262
          ],
          [
           2,
           0.8050822048675967,
           0.42358058405433824,
           51.5252611115262
          ]
         ],
         "fill": "toself",
         "fillcolor": "Firebrick",
         "hoverinfo": "text",
         "hoverlabel": {
          "bgcolor": "Firebrick"
         },
         "hoveron": "points+fills",
         "hovertemplate": "Disk Node: 2<br>Polar Inertia: 8.051e-01<br>Diametral Inertia: 4.236e-01<br>Disk mass: 51.525<br>",
         "legendgroup": "disks",
         "line": {
          "color": "Firebrick",
          "width": 2
         },
         "mode": "lines",
         "name": "Disk 1",
         "opacity": 0.8,
         "showlegend": false,
         "text": "Disk Node: 2<br>Polar Inertia: 8.051e-01<br>Diametral Inertia: 4.236e-01<br>Disk mass: 51.525<br>",
         "type": "scatter",
         "x": [
          1,
          1.002,
          0.998,
          1,
          null,
          1,
          1.002,
          0.998,
          1
         ],
         "y": [
          0.025,
          0.125,
          0.125,
          0.025,
          null,
          -0.025,
          -0.125,
          -0.125,
          -0.025
         ]
        },
        {
         "hoverinfo": "none",
         "legendgroup": "bearings",
         "line": {
          "color": "#355d7a",
          "width": 1
         },
         "mode": "lines",
         "name": "Bearing 0",
         "showlegend": false,
         "type": "scatter",
         "x": [
          0,
          0,
          -0.007142857142857144,
          0.007142857142857144
         ],
         "y": [
          0.025,
          0.037500000000000006,
          0.037500000000000006,
          0.037500000000000006
         ]
        },
        {
         "hoverinfo": "none",
         "legendgroup": "bearings",
         "line": {
          "color": "#355d7a",
          "width": 1
         },
         "mode": "lines",
         "name": "Bearing 0",
         "showlegend": false,
         "type": "scatter",
         "x": [
          0,
          0,
          -0.007142857142857144,
          0.007142857142857144
         ],
         "y": [
          -0.025,
          -0.037500000000000006,
          -0.037500000000000006,
          -0.037500000000000006
         ]
        },
        {
         "hoverinfo": "none",
         "legendgroup": "bearings",
         "line": {
          "color": "#355d7a",
          "width": 1
         },
         "mode": "lines",
         "name": "Bearing 0",
         "showlegend": false,
         "type": "scatter",
         "x": [
          0,
          0,
          -0.007142857142857144,
          0.007142857142857144
         ],
         "y": [
          0.07500000000000001,
          0.0625,
          0.0625,
          0.0625
         ]
        },
        {
         "hoverinfo": "none",
         "legendgroup": "bearings",
         "line": {
          "color": "#355d7a",
          "width": 1
         },
         "mode": "lines",
         "name": "Bearing 0",
         "showlegend": false,
         "type": "scatter",
         "x": [
          0,
          0,
          -0.007142857142857144,
          0.007142857142857144
         ],
         "y": [
          -0.07500000000000001,
          -0.0625,
          -0.0625,
          -0.0625
         ]
        },
        {
         "hoverinfo": "none",
         "legendgroup": "bearings",
         "line": {
          "color": "#355d7a",
          "width": 1
         },
         "mode": "lines",
         "name": "Bearing 0",
         "showlegend": false,
         "type": "scatter",
         "x": [
          -0.010714285714285716,
          0.010714285714285716
         ],
         "y": [
          0.07500000000000001,
          0.07500000000000001
         ]
        },
        {
         "hoverinfo": "none",
         "legendgroup": "bearings",
         "line": {
          "color": "#355d7a",
          "width": 1
         },
         "mode": "lines",
         "name": "Bearing 0",
         "showlegend": false,
         "type": "scatter",
         "x": [
          -0.010714285714285716,
          0.010714285714285716
         ],
         "y": [
          -0.07500000000000001,
          -0.07500000000000001
         ]
        },
        {
         "hoverinfo": "none",
         "legendgroup": "bearings",
         "line": {
          "color": "#355d7a",
          "width": 1
         },
         "mode": "lines",
         "name": "Bearing 0",
         "showlegend": false,
         "type": "scatter",
         "x": [
          -0.010714285714285716,
          -0.006428571428571429
         ],
         "y": [
          0.07500000000000001,
          0.08250000000000002
         ]
        },
        {
         "hoverinfo": "none",
         "legendgroup": "bearings",
         "line": {
          "color": "#355d7a",
          "width": 1
         },
         "mode": "lines",
         "name": "Bearing 0",
         "showlegend": false,
         "type": "scatter",
         "x": [
          -0.010714285714285716,
          -0.006428571428571429
         ],
         "y": [
          -0.07500000000000001,
          -0.08250000000000002
         ]
        },
        {
         "hoverinfo": "none",
         "legendgroup": "bearings",
         "line": {
          "color": "#355d7a",
          "width": 1
         },
         "mode": "lines",
         "name": "Bearing 0",
         "showlegend": false,
         "type": "scatter",
         "x": [
          -0.006428571428571429,
          -0.0021428571428571425
         ],
         "y": [
          0.07500000000000001,
          0.08250000000000002
         ]
        },
        {
         "hoverinfo": "none",
         "legendgroup": "bearings",
         "line": {
          "color": "#355d7a",
          "width": 1
         },
         "mode": "lines",
         "name": "Bearing 0",
         "showlegend": false,
         "type": "scatter",
         "x": [
          -0.006428571428571429,
          -0.0021428571428571425
         ],
         "y": [
          -0.07500000000000001,
          -0.08250000000000002
         ]
        },
        {
         "hoverinfo": "none",
         "legendgroup": "bearings",
         "line": {
          "color": "#355d7a",
          "width": 1
         },
         "mode": "lines",
         "name": "Bearing 0",
         "showlegend": false,
         "type": "scatter",
         "x": [
          -0.0021428571428571425,
          0.0021428571428571443
         ],
         "y": [
          0.07500000000000001,
          0.08250000000000002
         ]
        },
        {
         "hoverinfo": "none",
         "legendgroup": "bearings",
         "line": {
          "color": "#355d7a",
          "width": 1
         },
         "mode": "lines",
         "name": "Bearing 0",
         "showlegend": false,
         "type": "scatter",
         "x": [
          -0.0021428571428571425,
          0.0021428571428571443
         ],
         "y": [
          -0.07500000000000001,
          -0.08250000000000002
         ]
        },
        {
         "hoverinfo": "none",
         "legendgroup": "bearings",
         "line": {
          "color": "#355d7a",
          "width": 1
         },
         "mode": "lines",
         "name": "Bearing 0",
         "showlegend": false,
         "type": "scatter",
         "x": [
          0.0021428571428571443,
          0.006428571428571431
         ],
         "y": [
          0.07500000000000001,
          0.08250000000000002
         ]
        },
        {
         "hoverinfo": "none",
         "legendgroup": "bearings",
         "line": {
          "color": "#355d7a",
          "width": 1
         },
         "mode": "lines",
         "name": "Bearing 0",
         "showlegend": false,
         "type": "scatter",
         "x": [
          0.0021428571428571443,
          0.006428571428571431
         ],
         "y": [
          -0.07500000000000001,
          -0.08250000000000002
         ]
        },
        {
         "hoverinfo": "none",
         "legendgroup": "bearings",
         "line": {
          "color": "#355d7a",
          "width": 1
         },
         "mode": "lines",
         "name": "Bearing 0",
         "showlegend": false,
         "type": "scatter",
         "x": [
          0.006428571428571431,
          0.01071428571428572
         ],
         "y": [
          0.07500000000000001,
          0.08250000000000002
         ]
        },
        {
         "hoverinfo": "none",
         "legendgroup": "bearings",
         "line": {
          "color": "#355d7a",
          "width": 1
         },
         "mode": "lines",
         "name": "Bearing 0",
         "showlegend": false,
         "type": "scatter",
         "x": [
          0.006428571428571431,
          0.01071428571428572
         ],
         "y": [
          -0.07500000000000001,
          -0.08250000000000002
         ]
        },
        {
         "hoverinfo": "none",
         "legendgroup": "bearings",
         "line": {
          "color": "#355d7a",
          "width": 1
         },
         "mode": "lines",
         "name": "Bearing 0",
         "showlegend": false,
         "type": "scatter",
         "x": [
          0.01071428571428572,
          0.015000000000000005
         ],
         "y": [
          0.07500000000000001,
          0.08250000000000002
         ]
        },
        {
         "hoverinfo": "none",
         "legendgroup": "bearings",
         "line": {
          "color": "#355d7a",
          "width": 1
         },
         "mode": "lines",
         "name": "Bearing 0",
         "showlegend": false,
         "type": "scatter",
         "x": [
          0.01071428571428572,
          0.015000000000000005
         ],
         "y": [
          -0.07500000000000001,
          -0.08250000000000002
         ]
        },
        {
         "hoverinfo": "none",
         "legendgroup": "bearings",
         "line": {
          "color": "#355d7a",
          "width": 1
         },
         "mode": "lines",
         "name": "Bearing 0",
         "showlegend": false,
         "type": "scatter",
         "x": [
          -0.007142857142857144,
          -0.007142857142857144,
          -0.010714285714285716,
          -0.003571428571428572,
          -0.010714285714285716,
          -0.003571428571428572,
          -0.010714285714285716,
          -0.003571428571428572,
          -0.007142857142857144,
          -0.007142857142857144
         ],
         "y": [
          0.037500000000000006,
          0.04107142857142858,
          0.04107142857142858,
          0.04464285714285715,
          0.04821428571428572,
          0.051785714285714296,
          0.05535714285714287,
          0.05892857142857144,
          0.05892857142857144,
          0.06250000000000001
         ]
        },
        {
         "hoverinfo": "none",
         "legendgroup": "bearings",
         "line": {
          "color": "#355d7a",
          "width": 1
         },
         "mode": "lines",
         "name": "Bearing 0",
         "showlegend": false,
         "type": "scatter",
         "x": [
          -0.007142857142857144,
          -0.007142857142857144,
          -0.010714285714285716,
          -0.003571428571428572,
          -0.010714285714285716,
          -0.003571428571428572,
          -0.010714285714285716,
          -0.003571428571428572,
          -0.007142857142857144,
          -0.007142857142857144
         ],
         "y": [
          -0.037500000000000006,
          -0.04107142857142858,
          -0.04107142857142858,
          -0.04464285714285715,
          -0.04821428571428572,
          -0.051785714285714296,
          -0.05535714285714287,
          -0.05892857142857144,
          -0.05892857142857144,
          -0.06250000000000001
         ]
        },
        {
         "hoverinfo": "none",
         "legendgroup": "bearings",
         "line": {
          "color": "#355d7a",
          "width": 1
         },
         "mode": "lines",
         "name": "Bearing 0",
         "showlegend": false,
         "type": "scatter",
         "x": [
          0.007142857142857144,
          0.007142857142857144
         ],
         "y": [
          0.037500000000000006,
          0.04464285714285715
         ]
        },
        {
         "hoverinfo": "none",
         "legendgroup": "bearings",
         "line": {
          "color": "#355d7a",
          "width": 1
         },
         "mode": "lines",
         "name": "Bearing 0",
         "showlegend": false,
         "type": "scatter",
         "x": [
          0.007142857142857144,
          0.007142857142857144
         ],
         "y": [
          -0.037500000000000006,
          -0.04464285714285715
         ]
        },
        {
         "hoverinfo": "none",
         "legendgroup": "bearings",
         "line": {
          "color": "#355d7a",
          "width": 1
         },
         "mode": "lines",
         "name": "Bearing 0",
         "showlegend": false,
         "type": "scatter",
         "x": [
          0,
          0,
          0.014285714285714289,
          0.014285714285714289
         ],
         "y": [
          0.05535714285714287,
          0.04464285714285715,
          0.04464285714285715,
          0.05535714285714287
         ]
        },
        {
         "hoverinfo": "none",
         "legendgroup": "bearings",
         "line": {
          "color": "#355d7a",
          "width": 1
         },
         "mode": "lines",
         "name": "Bearing 0",
         "showlegend": false,
         "type": "scatter",
         "x": [
          0,
          0,
          0.014285714285714289,
          0.014285714285714289
         ],
         "y": [
          -0.05535714285714287,
          -0.04464285714285715,
          -0.04464285714285715,
          -0.05535714285714287
         ]
        },
        {
         "hoverinfo": "none",
         "legendgroup": "bearings",
         "line": {
          "color": "#355d7a",
          "width": 1
         },
         "mode": "lines",
         "name": "Bearing 0",
         "showlegend": false,
         "type": "scatter",
         "x": [
          0,
          0.014285714285714289,
          0.007142857142857144,
          0.007142857142857144
         ],
         "y": [
          0.051785714285714296,
          0.051785714285714296,
          0.051785714285714296,
          0.0625
         ]
        },
        {
         "hoverinfo": "none",
         "legendgroup": "bearings",
         "line": {
          "color": "#355d7a",
          "width": 1
         },
         "mode": "lines",
         "name": "Bearing 0",
         "showlegend": false,
         "type": "scatter",
         "x": [
          0,
          0.014285714285714289,
          0.007142857142857144,
          0.007142857142857144
         ],
         "y": [
          -0.051785714285714296,
          -0.051785714285714296,
          -0.051785714285714296,
          -0.0625
         ]
        },
        {
         "hoverinfo": "none",
         "legendgroup": "bearings",
         "line": {
          "color": "#355d7a",
          "width": 1
         },
         "mode": "lines",
         "name": "Bearing 1",
         "showlegend": false,
         "type": "scatter",
         "x": [
          1.5,
          1.5,
          1.4928571428571429,
          1.5071428571428571
         ],
         "y": [
          0.025,
          0.037500000000000006,
          0.037500000000000006,
          0.037500000000000006
         ]
        },
        {
         "hoverinfo": "none",
         "legendgroup": "bearings",
         "line": {
          "color": "#355d7a",
          "width": 1
         },
         "mode": "lines",
         "name": "Bearing 1",
         "showlegend": false,
         "type": "scatter",
         "x": [
          1.5,
          1.5,
          1.4928571428571429,
          1.5071428571428571
         ],
         "y": [
          -0.025,
          -0.037500000000000006,
          -0.037500000000000006,
          -0.037500000000000006
         ]
        },
        {
         "hoverinfo": "none",
         "legendgroup": "bearings",
         "line": {
          "color": "#355d7a",
          "width": 1
         },
         "mode": "lines",
         "name": "Bearing 1",
         "showlegend": false,
         "type": "scatter",
         "x": [
          1.5,
          1.5,
          1.4928571428571429,
          1.5071428571428571
         ],
         "y": [
          0.07500000000000001,
          0.0625,
          0.0625,
          0.0625
         ]
        },
        {
         "hoverinfo": "none",
         "legendgroup": "bearings",
         "line": {
          "color": "#355d7a",
          "width": 1
         },
         "mode": "lines",
         "name": "Bearing 1",
         "showlegend": false,
         "type": "scatter",
         "x": [
          1.5,
          1.5,
          1.4928571428571429,
          1.5071428571428571
         ],
         "y": [
          -0.07500000000000001,
          -0.0625,
          -0.0625,
          -0.0625
         ]
        },
        {
         "hoverinfo": "none",
         "legendgroup": "bearings",
         "line": {
          "color": "#355d7a",
          "width": 1
         },
         "mode": "lines",
         "name": "Bearing 1",
         "showlegend": false,
         "type": "scatter",
         "x": [
          1.4892857142857143,
          1.5107142857142857
         ],
         "y": [
          0.07500000000000001,
          0.07500000000000001
         ]
        },
        {
         "hoverinfo": "none",
         "legendgroup": "bearings",
         "line": {
          "color": "#355d7a",
          "width": 1
         },
         "mode": "lines",
         "name": "Bearing 1",
         "showlegend": false,
         "type": "scatter",
         "x": [
          1.4892857142857143,
          1.5107142857142857
         ],
         "y": [
          -0.07500000000000001,
          -0.07500000000000001
         ]
        },
        {
         "hoverinfo": "none",
         "legendgroup": "bearings",
         "line": {
          "color": "#355d7a",
          "width": 1
         },
         "mode": "lines",
         "name": "Bearing 1",
         "showlegend": false,
         "type": "scatter",
         "x": [
          1.4892857142857143,
          1.4935714285714283
         ],
         "y": [
          0.07500000000000001,
          0.08250000000000002
         ]
        },
        {
         "hoverinfo": "none",
         "legendgroup": "bearings",
         "line": {
          "color": "#355d7a",
          "width": 1
         },
         "mode": "lines",
         "name": "Bearing 1",
         "showlegend": false,
         "type": "scatter",
         "x": [
          1.4892857142857143,
          1.4935714285714283
         ],
         "y": [
          -0.07500000000000001,
          -0.08250000000000002
         ]
        },
        {
         "hoverinfo": "none",
         "legendgroup": "bearings",
         "line": {
          "color": "#355d7a",
          "width": 1
         },
         "mode": "lines",
         "name": "Bearing 1",
         "showlegend": false,
         "type": "scatter",
         "x": [
          1.4935714285714283,
          1.4978571428571428
         ],
         "y": [
          0.07500000000000001,
          0.08250000000000002
         ]
        },
        {
         "hoverinfo": "none",
         "legendgroup": "bearings",
         "line": {
          "color": "#355d7a",
          "width": 1
         },
         "mode": "lines",
         "name": "Bearing 1",
         "showlegend": false,
         "type": "scatter",
         "x": [
          1.4935714285714283,
          1.4978571428571428
         ],
         "y": [
          -0.07500000000000001,
          -0.08250000000000002
         ]
        },
        {
         "hoverinfo": "none",
         "legendgroup": "bearings",
         "line": {
          "color": "#355d7a",
          "width": 1
         },
         "mode": "lines",
         "name": "Bearing 1",
         "showlegend": false,
         "type": "scatter",
         "x": [
          1.4978571428571428,
          1.5021428571428572
         ],
         "y": [
          0.07500000000000001,
          0.08250000000000002
         ]
        },
        {
         "hoverinfo": "none",
         "legendgroup": "bearings",
         "line": {
          "color": "#355d7a",
          "width": 1
         },
         "mode": "lines",
         "name": "Bearing 1",
         "showlegend": false,
         "type": "scatter",
         "x": [
          1.4978571428571428,
          1.5021428571428572
         ],
         "y": [
          -0.07500000000000001,
          -0.08250000000000002
         ]
        },
        {
         "hoverinfo": "none",
         "legendgroup": "bearings",
         "line": {
          "color": "#355d7a",
          "width": 1
         },
         "mode": "lines",
         "name": "Bearing 1",
         "showlegend": false,
         "type": "scatter",
         "x": [
          1.5021428571428572,
          1.5064285714285717
         ],
         "y": [
          0.07500000000000001,
          0.08250000000000002
         ]
        },
        {
         "hoverinfo": "none",
         "legendgroup": "bearings",
         "line": {
          "color": "#355d7a",
          "width": 1
         },
         "mode": "lines",
         "name": "Bearing 1",
         "showlegend": false,
         "type": "scatter",
         "x": [
          1.5021428571428572,
          1.5064285714285717
         ],
         "y": [
          -0.07500000000000001,
          -0.08250000000000002
         ]
        },
        {
         "hoverinfo": "none",
         "legendgroup": "bearings",
         "line": {
          "color": "#355d7a",
          "width": 1
         },
         "mode": "lines",
         "name": "Bearing 1",
         "showlegend": false,
         "type": "scatter",
         "x": [
          1.5064285714285717,
          1.5107142857142857
         ],
         "y": [
          0.07500000000000001,
          0.08250000000000002
         ]
        },
        {
         "hoverinfo": "none",
         "legendgroup": "bearings",
         "line": {
          "color": "#355d7a",
          "width": 1
         },
         "mode": "lines",
         "name": "Bearing 1",
         "showlegend": false,
         "type": "scatter",
         "x": [
          1.5064285714285717,
          1.5107142857142857
         ],
         "y": [
          -0.07500000000000001,
          -0.08250000000000002
         ]
        },
        {
         "hoverinfo": "none",
         "legendgroup": "bearings",
         "line": {
          "color": "#355d7a",
          "width": 1
         },
         "mode": "lines",
         "name": "Bearing 1",
         "showlegend": false,
         "type": "scatter",
         "x": [
          1.5107142857142857,
          1.515
         ],
         "y": [
          0.07500000000000001,
          0.08250000000000002
         ]
        },
        {
         "hoverinfo": "none",
         "legendgroup": "bearings",
         "line": {
          "color": "#355d7a",
          "width": 1
         },
         "mode": "lines",
         "name": "Bearing 1",
         "showlegend": false,
         "type": "scatter",
         "x": [
          1.5107142857142857,
          1.515
         ],
         "y": [
          -0.07500000000000001,
          -0.08250000000000002
         ]
        },
        {
         "hoverinfo": "none",
         "legendgroup": "bearings",
         "line": {
          "color": "#355d7a",
          "width": 1
         },
         "mode": "lines",
         "name": "Bearing 1",
         "showlegend": false,
         "type": "scatter",
         "x": [
          1.4928571428571429,
          1.4928571428571429,
          1.4892857142857143,
          1.4964285714285714,
          1.4892857142857143,
          1.4964285714285714,
          1.4892857142857143,
          1.4964285714285714,
          1.4928571428571429,
          1.4928571428571429
         ],
         "y": [
          0.037500000000000006,
          0.04107142857142858,
          0.04107142857142858,
          0.04464285714285715,
          0.04821428571428572,
          0.051785714285714296,
          0.05535714285714287,
          0.05892857142857144,
          0.05892857142857144,
          0.06250000000000001
         ]
        },
        {
         "hoverinfo": "none",
         "legendgroup": "bearings",
         "line": {
          "color": "#355d7a",
          "width": 1
         },
         "mode": "lines",
         "name": "Bearing 1",
         "showlegend": false,
         "type": "scatter",
         "x": [
          1.4928571428571429,
          1.4928571428571429,
          1.4892857142857143,
          1.4964285714285714,
          1.4892857142857143,
          1.4964285714285714,
          1.4892857142857143,
          1.4964285714285714,
          1.4928571428571429,
          1.4928571428571429
         ],
         "y": [
          -0.037500000000000006,
          -0.04107142857142858,
          -0.04107142857142858,
          -0.04464285714285715,
          -0.04821428571428572,
          -0.051785714285714296,
          -0.05535714285714287,
          -0.05892857142857144,
          -0.05892857142857144,
          -0.06250000000000001
         ]
        },
        {
         "hoverinfo": "none",
         "legendgroup": "bearings",
         "line": {
          "color": "#355d7a",
          "width": 1
         },
         "mode": "lines",
         "name": "Bearing 1",
         "showlegend": false,
         "type": "scatter",
         "x": [
          1.5071428571428571,
          1.5071428571428571
         ],
         "y": [
          0.037500000000000006,
          0.04464285714285715
         ]
        },
        {
         "hoverinfo": "none",
         "legendgroup": "bearings",
         "line": {
          "color": "#355d7a",
          "width": 1
         },
         "mode": "lines",
         "name": "Bearing 1",
         "showlegend": false,
         "type": "scatter",
         "x": [
          1.5071428571428571,
          1.5071428571428571
         ],
         "y": [
          -0.037500000000000006,
          -0.04464285714285715
         ]
        },
        {
         "hoverinfo": "none",
         "legendgroup": "bearings",
         "line": {
          "color": "#355d7a",
          "width": 1
         },
         "mode": "lines",
         "name": "Bearing 1",
         "showlegend": false,
         "type": "scatter",
         "x": [
          1.5,
          1.5,
          1.5142857142857142,
          1.5142857142857142
         ],
         "y": [
          0.05535714285714287,
          0.04464285714285715,
          0.04464285714285715,
          0.05535714285714287
         ]
        },
        {
         "hoverinfo": "none",
         "legendgroup": "bearings",
         "line": {
          "color": "#355d7a",
          "width": 1
         },
         "mode": "lines",
         "name": "Bearing 1",
         "showlegend": false,
         "type": "scatter",
         "x": [
          1.5,
          1.5,
          1.5142857142857142,
          1.5142857142857142
         ],
         "y": [
          -0.05535714285714287,
          -0.04464285714285715,
          -0.04464285714285715,
          -0.05535714285714287
         ]
        },
        {
         "hoverinfo": "none",
         "legendgroup": "bearings",
         "line": {
          "color": "#355d7a",
          "width": 1
         },
         "mode": "lines",
         "name": "Bearing 1",
         "showlegend": false,
         "type": "scatter",
         "x": [
          1.5,
          1.5142857142857142,
          1.5071428571428571,
          1.5071428571428571
         ],
         "y": [
          0.051785714285714296,
          0.051785714285714296,
          0.051785714285714296,
          0.0625
         ]
        },
        {
         "hoverinfo": "none",
         "legendgroup": "bearings",
         "line": {
          "color": "#355d7a",
          "width": 1
         },
         "mode": "lines",
         "name": "Bearing 1",
         "showlegend": false,
         "type": "scatter",
         "x": [
          1.5,
          1.5142857142857142,
          1.5071428571428571,
          1.5071428571428571
         ],
         "y": [
          -0.051785714285714296,
          -0.051785714285714296,
          -0.051785714285714296,
          -0.0625
         ]
        }
       ],
       "layout": {
        "shapes": [
         {
          "fillcolor": "Firebrick",
          "line": {
           "color": "Firebrick"
          },
          "type": "circle",
          "x0": 0.49375,
          "x1": 0.50625,
          "xref": "x",
          "y0": 0.11875,
          "y1": 0.13125,
          "yref": "y"
         },
         {
          "fillcolor": "Firebrick",
          "line": {
           "color": "Firebrick"
          },
          "type": "circle",
          "x0": 0.49375,
          "x1": 0.50625,
          "xref": "x",
          "y0": -0.13125,
          "y1": -0.11875,
          "yref": "y"
         },
         {
          "fillcolor": "Firebrick",
          "line": {
           "color": "Firebrick"
          },
          "type": "circle",
          "x0": 0.99375,
          "x1": 1.00625,
          "xref": "x",
          "y0": 0.11875,
          "y1": 0.13125,
          "yref": "y"
         },
         {
          "fillcolor": "Firebrick",
          "line": {
           "color": "Firebrick"
          },
          "type": "circle",
          "x0": 0.99375,
          "x1": 1.00625,
          "xref": "x",
          "y0": -0.13125,
          "y1": -0.11875,
          "yref": "y"
         }
        ],
        "template": {
         "data": {
          "bar": [
           {
            "error_x": {
             "color": "#2a3f5f"
            },
            "error_y": {
             "color": "#2a3f5f"
            },
            "marker": {
             "line": {
              "color": "white",
              "width": 0.5
             }
            },
            "type": "bar"
           }
          ],
          "barpolar": [
           {
            "marker": {
             "line": {
              "color": "white",
              "width": 0.5
             }
            },
            "type": "barpolar"
           }
          ],
          "carpet": [
           {
            "aaxis": {
             "endlinecolor": "#2a3f5f",
             "gridcolor": "#C8D4E3",
             "linecolor": "#C8D4E3",
             "minorgridcolor": "#C8D4E3",
             "startlinecolor": "#2a3f5f"
            },
            "baxis": {
             "endlinecolor": "#2a3f5f",
             "gridcolor": "#C8D4E3",
             "linecolor": "#C8D4E3",
             "minorgridcolor": "#C8D4E3",
             "startlinecolor": "#2a3f5f"
            },
            "type": "carpet"
           }
          ],
          "choropleth": [
           {
            "colorbar": {
             "outlinewidth": 0,
             "ticks": ""
            },
            "type": "choropleth"
           }
          ],
          "contour": [
           {
            "colorbar": {
             "outlinewidth": 0,
             "ticks": ""
            },
            "colorscale": [
             [
              0,
              "#0d0887"
             ],
             [
              0.1111111111111111,
              "#46039f"
             ],
             [
              0.2222222222222222,
              "#7201a8"
             ],
             [
              0.3333333333333333,
              "#9c179e"
             ],
             [
              0.4444444444444444,
              "#bd3786"
             ],
             [
              0.5555555555555556,
              "#d8576b"
             ],
             [
              0.6666666666666666,
              "#ed7953"
             ],
             [
              0.7777777777777778,
              "#fb9f3a"
             ],
             [
              0.8888888888888888,
              "#fdca26"
             ],
             [
              1,
              "#f0f921"
             ]
            ],
            "type": "contour"
           }
          ],
          "contourcarpet": [
           {
            "colorbar": {
             "outlinewidth": 0,
             "ticks": ""
            },
            "type": "contourcarpet"
           }
          ],
          "heatmap": [
           {
            "colorbar": {
             "outlinewidth": 0,
             "ticks": ""
            },
            "colorscale": [
             [
              0,
              "#0d0887"
             ],
             [
              0.1111111111111111,
              "#46039f"
             ],
             [
              0.2222222222222222,
              "#7201a8"
             ],
             [
              0.3333333333333333,
              "#9c179e"
             ],
             [
              0.4444444444444444,
              "#bd3786"
             ],
             [
              0.5555555555555556,
              "#d8576b"
             ],
             [
              0.6666666666666666,
              "#ed7953"
             ],
             [
              0.7777777777777778,
              "#fb9f3a"
             ],
             [
              0.8888888888888888,
              "#fdca26"
             ],
             [
              1,
              "#f0f921"
             ]
            ],
            "type": "heatmap"
           }
          ],
          "heatmapgl": [
           {
            "colorbar": {
             "outlinewidth": 0,
             "ticks": ""
            },
            "colorscale": [
             [
              0,
              "#0d0887"
             ],
             [
              0.1111111111111111,
              "#46039f"
             ],
             [
              0.2222222222222222,
              "#7201a8"
             ],
             [
              0.3333333333333333,
              "#9c179e"
             ],
             [
              0.4444444444444444,
              "#bd3786"
             ],
             [
              0.5555555555555556,
              "#d8576b"
             ],
             [
              0.6666666666666666,
              "#ed7953"
             ],
             [
              0.7777777777777778,
              "#fb9f3a"
             ],
             [
              0.8888888888888888,
              "#fdca26"
             ],
             [
              1,
              "#f0f921"
             ]
            ],
            "type": "heatmapgl"
           }
          ],
          "histogram": [
           {
            "marker": {
             "colorbar": {
              "outlinewidth": 0,
              "ticks": ""
             }
            },
            "type": "histogram"
           }
          ],
          "histogram2d": [
           {
            "colorbar": {
             "outlinewidth": 0,
             "ticks": ""
            },
            "colorscale": [
             [
              0,
              "#0d0887"
             ],
             [
              0.1111111111111111,
              "#46039f"
             ],
             [
              0.2222222222222222,
              "#7201a8"
             ],
             [
              0.3333333333333333,
              "#9c179e"
             ],
             [
              0.4444444444444444,
              "#bd3786"
             ],
             [
              0.5555555555555556,
              "#d8576b"
             ],
             [
              0.6666666666666666,
              "#ed7953"
             ],
             [
              0.7777777777777778,
              "#fb9f3a"
             ],
             [
              0.8888888888888888,
              "#fdca26"
             ],
             [
              1,
              "#f0f921"
             ]
            ],
            "type": "histogram2d"
           }
          ],
          "histogram2dcontour": [
           {
            "colorbar": {
             "outlinewidth": 0,
             "ticks": ""
            },
            "colorscale": [
             [
              0,
              "#0d0887"
             ],
             [
              0.1111111111111111,
              "#46039f"
             ],
             [
              0.2222222222222222,
              "#7201a8"
             ],
             [
              0.3333333333333333,
              "#9c179e"
             ],
             [
              0.4444444444444444,
              "#bd3786"
             ],
             [
              0.5555555555555556,
              "#d8576b"
             ],
             [
              0.6666666666666666,
              "#ed7953"
             ],
             [
              0.7777777777777778,
              "#fb9f3a"
             ],
             [
              0.8888888888888888,
              "#fdca26"
             ],
             [
              1,
              "#f0f921"
             ]
            ],
            "type": "histogram2dcontour"
           }
          ],
          "mesh3d": [
           {
            "colorbar": {
             "outlinewidth": 0,
             "ticks": ""
            },
            "type": "mesh3d"
           }
          ],
          "parcoords": [
           {
            "line": {
             "colorbar": {
              "outlinewidth": 0,
              "ticks": ""
             }
            },
            "type": "parcoords"
           }
          ],
          "pie": [
           {
            "automargin": true,
            "type": "pie"
           }
          ],
          "scatter": [
           {
            "marker": {
             "colorbar": {
              "outlinewidth": 0,
              "ticks": ""
             }
            },
            "type": "scatter"
           }
          ],
          "scatter3d": [
           {
            "line": {
             "colorbar": {
              "outlinewidth": 0,
              "ticks": ""
             }
            },
            "marker": {
             "colorbar": {
              "outlinewidth": 0,
              "ticks": ""
             },
             "size": 4
            },
            "type": "scatter3d"
           }
          ],
          "scattercarpet": [
           {
            "marker": {
             "colorbar": {
              "outlinewidth": 0,
              "ticks": ""
             }
            },
            "type": "scattercarpet"
           }
          ],
          "scattergeo": [
           {
            "marker": {
             "colorbar": {
              "outlinewidth": 0,
              "ticks": ""
             }
            },
            "type": "scattergeo"
           }
          ],
          "scattergl": [
           {
            "marker": {
             "colorbar": {
              "outlinewidth": 0,
              "ticks": ""
             }
            },
            "type": "scattergl"
           }
          ],
          "scattermapbox": [
           {
            "marker": {
             "colorbar": {
              "outlinewidth": 0,
              "ticks": ""
             }
            },
            "type": "scattermapbox"
           }
          ],
          "scatterpolar": [
           {
            "marker": {
             "colorbar": {
              "outlinewidth": 0,
              "ticks": ""
             }
            },
            "type": "scatterpolar"
           }
          ],
          "scatterpolargl": [
           {
            "marker": {
             "colorbar": {
              "outlinewidth": 0,
              "ticks": ""
             }
            },
            "type": "scatterpolargl"
           }
          ],
          "scatterternary": [
           {
            "marker": {
             "colorbar": {
              "outlinewidth": 0,
              "ticks": ""
             }
            },
            "type": "scatterternary"
           }
          ],
          "surface": [
           {
            "colorbar": {
             "outlinewidth": 0,
             "ticks": ""
            },
            "colorscale": [
             [
              0,
              "#0d0887"
             ],
             [
              0.1111111111111111,
              "#46039f"
             ],
             [
              0.2222222222222222,
              "#7201a8"
             ],
             [
              0.3333333333333333,
              "#9c179e"
             ],
             [
              0.4444444444444444,
              "#bd3786"
             ],
             [
              0.5555555555555556,
              "#d8576b"
             ],
             [
              0.6666666666666666,
              "#ed7953"
             ],
             [
              0.7777777777777778,
              "#fb9f3a"
             ],
             [
              0.8888888888888888,
              "#fdca26"
             ],
             [
              1,
              "#f0f921"
             ]
            ],
            "type": "surface"
           }
          ],
          "table": [
           {
            "cells": {
             "fill": {
              "color": "#EBF0F8"
             },
             "line": {
              "color": "white"
             }
            },
            "header": {
             "fill": {
              "color": "#C8D4E3"
             },
             "line": {
              "color": "white"
             }
            },
            "type": "table"
           }
          ]
         },
         "layout": {
          "annotationdefaults": {
           "arrowcolor": "#2a3f5f",
           "arrowhead": 0,
           "arrowwidth": 1
          },
          "coloraxis": {
           "colorbar": {
            "outlinewidth": 0,
            "ticks": ""
           }
          },
          "colorscale": {
           "diverging": [
            [
             0,
             "#8e0152"
            ],
            [
             0.1,
             "#c51b7d"
            ],
            [
             0.2,
             "#de77ae"
            ],
            [
             0.3,
             "#f1b6da"
            ],
            [
             0.4,
             "#fde0ef"
            ],
            [
             0.5,
             "#f7f7f7"
            ],
            [
             0.6,
             "#e6f5d0"
            ],
            [
             0.7,
             "#b8e186"
            ],
            [
             0.8,
             "#7fbc41"
            ],
            [
             0.9,
             "#4d9221"
            ],
            [
             1,
             "#276419"
            ]
           ],
           "sequential": [
            [
             0,
             "#0d0887"
            ],
            [
             0.1111111111111111,
             "#46039f"
            ],
            [
             0.2222222222222222,
             "#7201a8"
            ],
            [
             0.3333333333333333,
             "#9c179e"
            ],
            [
             0.4444444444444444,
             "#bd3786"
            ],
            [
             0.5555555555555556,
             "#d8576b"
            ],
            [
             0.6666666666666666,
             "#ed7953"
            ],
            [
             0.7777777777777778,
             "#fb9f3a"
            ],
            [
             0.8888888888888888,
             "#fdca26"
            ],
            [
             1,
             "#f0f921"
            ]
           ],
           "sequentialminus": [
            [
             0,
             "#0d0887"
            ],
            [
             0.1111111111111111,
             "#46039f"
            ],
            [
             0.2222222222222222,
             "#7201a8"
            ],
            [
             0.3333333333333333,
             "#9c179e"
            ],
            [
             0.4444444444444444,
             "#bd3786"
            ],
            [
             0.5555555555555556,
             "#d8576b"
            ],
            [
             0.6666666666666666,
             "#ed7953"
            ],
            [
             0.7777777777777778,
             "#fb9f3a"
            ],
            [
             0.8888888888888888,
             "#fdca26"
            ],
            [
             1,
             "#f0f921"
            ]
           ]
          },
          "colorway": [
           "#1f77b4",
           "#ff7f0e",
           "#2ca02c",
           "#d62728",
           "#9467bd",
           "#8c564b",
           "#e377c2",
           "#7f7f7f",
           "#bcbd22",
           "#17becf"
          ],
          "font": {
           "color": "#2a3f5f"
          },
          "geo": {
           "bgcolor": "white",
           "lakecolor": "white",
           "landcolor": "white",
           "showlakes": true,
           "showland": true,
           "subunitcolor": "#C8D4E3"
          },
          "hoverlabel": {
           "align": "left"
          },
          "hovermode": "closest",
          "mapbox": {
           "style": "light"
          },
          "paper_bgcolor": "white",
          "plot_bgcolor": "white",
          "polar": {
           "angularaxis": {
            "gridcolor": "#EBF0F8",
            "linecolor": "#EBF0F8",
            "ticks": ""
           },
           "bgcolor": "white",
           "radialaxis": {
            "gridcolor": "#EBF0F8",
            "linecolor": "#EBF0F8",
            "ticks": ""
           }
          },
          "scene": {
           "camera": {
            "center": {
             "x": 0,
             "y": 0,
             "z": 0
            },
            "eye": {
             "x": 2,
             "y": 2,
             "z": 2
            },
            "up": {
             "x": 0,
             "y": 0,
             "z": 1
            }
           },
           "xaxis": {
            "backgroundcolor": "white",
            "gridcolor": "#DFE8F3",
            "gridwidth": 2,
            "linecolor": "#EBF0F8",
            "showbackground": true,
            "showspikes": false,
            "ticks": "",
            "zerolinecolor": "#EBF0F8"
           },
           "yaxis": {
            "backgroundcolor": "white",
            "gridcolor": "#DFE8F3",
            "gridwidth": 2,
            "linecolor": "#EBF0F8",
            "showbackground": true,
            "showspikes": false,
            "ticks": "",
            "zerolinecolor": "#EBF0F8"
           },
           "zaxis": {
            "backgroundcolor": "white",
            "gridcolor": "#DFE8F3",
            "gridwidth": 2,
            "linecolor": "#EBF0F8",
            "showbackground": true,
            "showspikes": false,
            "ticks": "",
            "zerolinecolor": "#EBF0F8"
           }
          },
          "shapedefaults": {
           "line": {
            "color": "#2a3f5f"
           }
          },
          "ternary": {
           "aaxis": {
            "gridcolor": "#DFE8F3",
            "linecolor": "#A2B1C6",
            "ticks": ""
           },
           "baxis": {
            "gridcolor": "#DFE8F3",
            "linecolor": "#A2B1C6",
            "ticks": ""
           },
           "bgcolor": "white",
           "caxis": {
            "gridcolor": "#DFE8F3",
            "linecolor": "#A2B1C6",
            "ticks": ""
           }
          },
          "title": {
           "x": 0.05
          },
          "xaxis": {
           "automargin": true,
           "gridcolor": "#EBF0F8",
           "linecolor": "black",
           "linewidth": 2,
           "mirror": true,
           "showline": true,
           "ticks": "",
           "title": {
            "standoff": 15
           },
           "zeroline": false,
           "zerolinecolor": "#EBF0F8",
           "zerolinewidth": 2
          },
          "yaxis": {
           "automargin": true,
           "gridcolor": "#EBF0F8",
           "linecolor": "black",
           "linewidth": 2,
           "mirror": true,
           "showline": true,
           "ticks": "",
           "title": {
            "standoff": 15
           },
           "zeroline": false,
           "zerolinecolor": "#EBF0F8",
           "zerolinewidth": 2
          }
         }
        },
        "title": {
         "text": "Rotor Model"
        },
        "xaxis": {
         "mirror": true,
         "range": [
          -0.15000000000000002,
          1.65
         ],
         "showgrid": false,
         "title": {
          "text": "Axial location (m)"
         }
        },
        "yaxis": {
         "mirror": true,
         "range": [
          -0.45,
          0.45
         ],
         "showgrid": false,
         "title": {
          "text": "Shaft radius (m)"
         }
        }
       }
      }
     },
     "metadata": {},
     "output_type": "display_data"
    }
   ],
   "source": [
    "# From_section class method instantiation.\n",
    "bearing_seal_elements = []\n",
    "disk_elements = []\n",
    "shaft_length_data = 3 * [0.5]\n",
    "i_d = 3 * [0]\n",
    "o_d = 3 * [0.05]\n",
    "\n",
    "disk_elements.append(\n",
    "    rs.DiskElement.from_geometry(n=1, material=steel, width=0.07, i_d=0.05, o_d=0.28)\n",
    ")\n",
    "\n",
    "disk_elements.append(\n",
    "    rs.DiskElement.from_geometry(n=2, material=steel, width=0.07, i_d=0.05, o_d=0.35)\n",
    ")\n",
    "bearing_seal_elements.append(rs.BearingElement(n=0, kxx=1e6, kyy=1e6, cxx=0, cyy=0))\n",
    "bearing_seal_elements.append(rs.BearingElement(n=3, kxx=1e6, kyy=1e6, cxx=0, cyy=0))\n",
    "\n",
    "rotor591fs = rs.Rotor.from_section(\n",
    "    brg_seal_data=bearing_seal_elements,\n",
    "    disk_data=disk_elements,\n",
    "    leng_data=shaft_length_data,\n",
    "    idl_data=i_d,\n",
    "    odl_data=o_d,\n",
    "    material_data=steel,\n",
    ")\n",
    "rotor591fs.plot_rotor()"
   ]
  },
  {
   "cell_type": "code",
   "execution_count": 4,
   "metadata": {
    "execution": {
     "iopub.execute_input": "2023-05-04T01:00:37.643491Z",
     "iopub.status.busy": "2023-05-04T01:00:37.643324Z",
     "iopub.status.idle": "2023-05-04T01:00:39.530922Z",
     "shell.execute_reply": "2023-05-04T01:00:39.530557Z"
    }
   },
   "outputs": [
    {
     "data": {
      "application/vnd.plotly.v1+json": {
       "config": {
        "plotlyServerURL": "https://plot.ly"
       },
       "data": [
        {
         "hovertemplate": "Frequency (rad/s): %{y:.2f}<br>Critical Speed (RPM): %{x:.2f}",
         "legendgroup": "Crit. Speed",
         "marker": {
          "color": "black",
          "symbol": "x"
         },
         "mode": "markers",
         "name": "Crit. Speed",
         "showlegend": true,
         "type": "scatter",
         "x": [
          825.1337876781231,
          829.8744222346671,
          2487.7580043946195,
          2756.0866730578573
         ],
         "y": [
          86.40780818661038,
          86.90424627648348,
          260.517409017178,
          288.6167214911766
         ]
        },
        {
         "hoverinfo": "none",
         "legendgroup": "Forward",
         "marker": {
          "color": [
           7.776031117894356e-15
          ],
          "coloraxis": "coloraxis",
          "symbol": "triangle-up"
         },
         "mode": "markers",
         "name": "Forward",
         "showlegend": false,
         "type": "scatter",
         "x": [
          0
         ],
         "y": [
          86.65811435149436
         ]
        },
        {
         "hoverinfo": "none",
         "legendgroup": "Forward",
         "marker": {
          "color": [
           -6.641158417173306e-13,
           1.7782916897363666e-12,
           -1.384501361154229e-12,
           -1.771416830176143e-12,
           1.1135312908325584e-12,
           -1.0399550685999533e-12,
           9.845450351513582e-13,
           2.5923522358730553e-12,
           -1.450851294898228e-13,
           1.2012839210303612e-12,
           8.61476343366494e-13,
           7.916012554251261e-13,
           -1.2201860604321406e-13,
           -6.481184201120034e-13,
           -5.431045751521597e-13,
           4.571096308208679e-13,
           -5.351823138403638e-13,
           2.134158831250782e-12,
           -9.94947071092383e-13,
           2.975471858563522e-13,
           -1.3410517896234805e-12,
           -1.3422447732921502e-12,
           5.616282332387015e-13,
           2.440126834019656e-12,
           2.2017612659944197e-14,
           1.7259498955955794e-12,
           1.010004227215027e-14,
           -6.694224688300592e-13,
           1.807305674524646e-13,
           -1.1936820448719273e-12,
           2.077909559454861e-13,
           1.5538750822645377e-13,
           -3.664918613587152e-13,
           6.952425044905376e-13,
           -2.2707688271029356e-12,
           -1.1576026456823118e-12,
           -1.4851530271230634e-13,
           -8.102216574039654e-13,
           4.1167786293874863e-13,
           -4.3249252644553483e-13,
           1.9064004601433127e-12,
           8.665010280588121e-13,
           2.3745045546833762e-14,
           5.838492577985568e-13,
           -3.2505616052817e-14,
           -4.325962578910434e-13,
           1.6425051553890738e-13,
           7.521260621122885e-13,
           -7.445321264251536e-13
          ],
          "coloraxis": "coloraxis",
          "symbol": "triangle-up"
         },
         "mode": "markers",
         "name": "Forward",
         "showlegend": false,
         "type": "scatter",
         "x": [
          81.63265306122449,
          163.26530612244898,
          244.89795918367344,
          326.53061224489795,
          408.1632653061224,
          489.7959183673469,
          571.4285714285714,
          653.0612244897959,
          734.6938775510204,
          816.3265306122448,
          897.9591836734694,
          979.591836734694,
          1061.2244897959183,
          1142.857142857143,
          1224.4897959183672,
          1306.1224489795918,
          1387.7551020408164,
          1469.3877551020407,
          1551.020408163265,
          1632.6530612244896,
          1714.2857142857144,
          1795.9183673469388,
          1877.5510204081631,
          1959.1836734693877,
          2040.8163265306123,
          2122.4489795918366,
          2204.081632653061,
          2285.714285714286,
          2367.3469387755104,
          2448.9795918367345,
          2530.612244897959,
          2612.2448979591836,
          2693.877551020408,
          2775.5102040816328,
          2857.142857142857,
          2938.7755102040815,
          3020.408163265306,
          3102.04081632653,
          3183.6734693877547,
          3265.3061224489793,
          3346.9387755102043,
          3428.571428571429,
          3510.204081632653,
          3591.8367346938776,
          3673.469387755102,
          3755.1020408163263,
          3836.734693877551,
          3918.3673469387754,
          4000
         ],
         "y": [
          86.68257244213575,
          86.70697630905829,
          86.73132612569897,
          86.755622064896,
          86.77986429890035,
          86.80405299941422,
          86.82818833741841,
          86.85227048338389,
          86.87629960717477,
          86.90027587804528,
          86.92419946462641,
          86.94807053500597,
          86.97188925664874,
          86.9956557964585,
          87.01937032067188,
          87.04303299502229,
          87.06664398460505,
          87.09020345395356,
          87.11371156694089,
          87.13716848699767,
          87.16057437683457,
          87.18392939863317,
          87.20723371401436,
          87.2304874839791,
          87.2536908689547,
          87.27684402878667,
          87.29994712278206,
          87.32300030963675,
          87.34600374747949,
          87.36895759385044,
          87.39186200575645,
          87.41471713961347,
          87.4375231512684,
          87.46028019595985,
          87.48298842847173,
          87.50564800286833,
          87.52825907280072,
          87.55082179126748,
          87.57333631072704,
          87.59580278305937,
          87.61822135968002,
          87.64059219129744,
          87.66291542822975,
          87.68519122008422,
          87.70741971602116,
          87.72960106462743,
          87.75173541392435,
          87.77382291142065,
          87.79586370400979
         ]
        },
        {
         "hoverinfo": "none",
         "legendgroup": "Forward",
         "marker": {
          "color": [
           -2.1555448680457405e-15,
           -2.7234748124289133e-14,
           8.925326193787408e-13,
           -5.172227147166003e-13,
           -1.0637117347706856e-12,
           -4.735094515418276e-13,
           1.301378838740788e-12,
           -8.04297674076613e-13,
           1.0014298414791786e-12,
           2.6240160090383005e-12,
           -3.231128650385134e-13,
           1.4045676851068365e-12,
           1.284658639964176e-12,
           5.945369893559255e-13,
           -1.7014644725033925e-12,
           1.886222691869453e-12,
           1.2400261067917396e-12,
           -1.998537210021882e-12,
           1.634221824993454e-12,
           1.6805047515636552e-12,
           -3.172591041228946e-13,
           -6.799154867589157e-13,
           1.3636270490490448e-12,
           -2.2316824397023512e-12,
           7.041791653105849e-13,
           7.759506559967881e-13,
           -1.9984991228872477e-12,
           -7.49195488664465e-13,
           -1.4549127000106221e-12,
           3.242580899581264e-13,
           -3.791446197745413e-13,
           -1.475613681018764e-12,
           -9.72266369165241e-13,
           -6.98654346636901e-13,
           3.9763464443134363e-13,
           3.85049784244068e-13,
           -8.03918470014407e-13,
           -4.6903833961962e-13,
           9.062381853185473e-13,
           2.565364160515338e-12,
           6.97327868743909e-13,
           3.736456916222935e-13,
           7.067897905454834e-13,
           1.5464742439785797e-12,
           -5.67956522179518e-13,
           -4.49328025186869e-13,
           -2.143148871113009e-12,
           9.08585004828792e-13,
           1.6238317235507036e-12
          ],
          "coloraxis": "coloraxis",
          "symbol": "triangle-up"
         },
         "mode": "markers",
         "name": "Forward",
         "showlegend": false,
         "type": "scatter",
         "x": [
          81.63265306122449,
          163.26530612244898,
          244.89795918367344,
          326.53061224489795,
          408.1632653061224,
          489.7959183673469,
          571.4285714285714,
          653.0612244897959,
          734.6938775510204,
          816.3265306122448,
          897.9591836734694,
          979.591836734694,
          1061.2244897959183,
          1142.857142857143,
          1224.4897959183672,
          1306.1224489795918,
          1387.7551020408164,
          1469.3877551020407,
          1551.020408163265,
          1632.6530612244896,
          1714.2857142857144,
          1795.9183673469388,
          1877.5510204081631,
          1959.1836734693877,
          2040.8163265306123,
          2122.4489795918366,
          2204.081632653061,
          2285.714285714286,
          2367.3469387755104,
          2448.9795918367345,
          2530.612244897959,
          2612.2448979591836,
          2693.877551020408,
          2775.5102040816328,
          2857.142857142857,
          2938.7755102040815,
          3020.408163265306,
          3102.04081632653,
          3183.6734693877547,
          3265.3061224489793,
          3346.9387755102043,
          3428.571428571429,
          3510.204081632653,
          3591.8367346938776,
          3673.469387755102,
          3755.1020408163263,
          3836.734693877551,
          3918.3673469387754,
          4000
         ],
         "y": [
          274.75191063816834,
          275.1900547902193,
          275.62728303732,
          276.0635921601272,
          276.4989790506379,
          276.9334407113703,
          277.36697425338275,
          277.799576895021,
          278.2312459608408,
          278.66197887996464,
          279.09177318447166,
          279.5206265087768,
          279.9485365870396,
          280.37550125318603,
          280.801518437739,
          281.22658616857206,
          281.6507025672267,
          282.073865849547,
          282.49607432287706,
          282.91732638528055,
          283.3376205240641,
          283.7569553141496,
          284.1753294172281,
          284.59274157966314,
          285.0091906318954,
          285.42467548641037,
          285.83919513652904,
          286.25274865583737,
          286.6653351953906,
          287.0769539833955,
          287.48760432387076,
          287.89728559506875,
          288.3059972482904,
          288.71373880590266,
          289.1205098614391,
          289.52631007705276,
          289.9311391831157,
          290.3349969761275,
          290.73788331834186,
          291.13979813569244,
          291.5407414172757,
          291.94071321391885,
          292.3397136367294,
          292.7377428561939,
          293.1348011005361,
          293.53088865588967,
          293.9260058632354,
          294.3201531184325,
          294.7133308713343
         ]
        },
        {
         "hoverinfo": "none",
         "legendgroup": "Forward",
         "marker": {
          "color": [
           1.91941535828448e-13
          ],
          "coloraxis": "coloraxis",
          "symbol": "triangle-up"
         },
         "mode": "markers",
         "name": "Forward",
         "showlegend": false,
         "type": "scatter",
         "x": [
          0
         ],
         "y": [
          716.7863122029795
         ]
        },
        {
         "hoverinfo": "none",
         "legendgroup": "Forward",
         "marker": {
          "color": [
           -5.976808007995408e-12,
           2.4503207800972498e-12,
           1.610180089702789e-11,
           1.3900170270250658e-11,
           2.5039506010030512e-11,
           -1.4387602042529404e-11,
           2.3817661684172426e-12,
           -5.3445373804524774e-11,
           5.188719836126069e-13,
           8.750594117490109e-11,
           -7.778248622530066e-11,
           2.0176573998066244e-11,
           -5.851387148608063e-12,
           1.945788836527014e-11,
           -4.3654447277323765e-11,
           -2.1633954861815468e-11,
           3.768895317189592e-11,
           -8.977219794272637e-11,
           -5.456011464562005e-11,
           4.73581466927019e-12,
           8.988659600836025e-11,
           1.498720337113494e-11,
           -3.8583529026044375e-11,
           -4.9357324906884096e-11,
           -9.079365141546673e-13,
           -5.717539442267143e-12,
           5.8634767033389e-11,
           1.9324748124794195e-12,
           -1.5127250979113215e-11,
           4.553896240393347e-11,
           -2.8724878851850296e-11,
           -2.6128584107067376e-12,
           1.6350883707935958e-11,
           -3.6491544964812294e-11,
           1.1287362805845831e-10,
           6.79578525647033e-11,
           4.193382452223969e-12,
           2.590603087841073e-11,
           -5.7543230104978066e-11,
           2.0310651922430657e-11,
           -7.170156951154115e-11,
           -5.830219564582372e-11,
           -2.1409842893127247e-11,
           -1.7289610124953942e-11,
           4.4437336856553916e-11,
           -1.9952569514712893e-12,
           -3.119542709452901e-12,
           -5.955239783604659e-11,
           1.6493223505003353e-11
          ],
          "coloraxis": "coloraxis",
          "symbol": "triangle-up"
         },
         "mode": "markers",
         "name": "Forward",
         "showlegend": false,
         "type": "scatter",
         "x": [
          81.63265306122449,
          163.26530612244898,
          244.89795918367344,
          326.53061224489795,
          408.1632653061224,
          489.7959183673469,
          571.4285714285714,
          653.0612244897959,
          734.6938775510204,
          816.3265306122448,
          897.9591836734694,
          979.591836734694,
          1061.2244897959183,
          1142.857142857143,
          1224.4897959183672,
          1306.1224489795918,
          1387.7551020408164,
          1469.3877551020407,
          1551.020408163265,
          1632.6530612244896,
          1714.2857142857144,
          1795.9183673469388,
          1877.5510204081631,
          1959.1836734693877,
          2040.8163265306123,
          2122.4489795918366,
          2204.081632653061,
          2285.714285714286,
          2367.3469387755104,
          2448.9795918367345,
          2530.612244897959,
          2612.2448979591836,
          2693.877551020408,
          2775.5102040816328,
          2857.142857142857,
          2938.7755102040815,
          3020.408163265306,
          3102.04081632653,
          3183.6734693877547,
          3265.3061224489793,
          3346.9387755102043,
          3428.571428571429,
          3510.204081632653,
          3591.8367346938776,
          3673.469387755102,
          3755.1020408163263,
          3836.734693877551,
          3918.3673469387754,
          4000
         ],
         "y": [
          719.1957933163902,
          721.6021724629501,
          724.0051945441403,
          726.404605911683,
          728.800154546642,
          731.1915902299147,
          733.57866467367,
          735.9611316719428,
          738.3387472797102,
          740.711269941138,
          743.0784606316283,
          745.4400830303945,
          747.7959036018235,
          750.1456917935993,
          752.4892201218084,
          754.8262643311782,
          757.156603506031,
          759.4800201678953,
          761.7963004240772,
          764.1052340730236,
          766.4066146896528,
          768.7002397104288,
          770.9859106152695,
          773.2634329152695,
          775.5326162887762,
          777.793274656295,
          780.0452262567137,
          782.2882937045151,
          784.5223040706675,
          786.747088928264,
          788.9624844103295,
          791.1683312574123,
          793.3644748635647,
          795.5507653001093,
          797.727057366542,
          799.8932106116929,
          802.049089332365,
          804.194562609646,
          806.3295043407469,
          808.4537931854006,
          810.5673126290828,
          812.6699509388475,
          814.7616011483439,
          816.8421611017665,
          818.9115333619374,
          820.9696252363328,
          823.0163487269955,
          825.0516205111,
          827.0753619245479
         ]
        },
        {
         "hoverinfo": "none",
         "legendgroup": "Backward",
         "marker": {
          "color": [
           5.692441409165463e-13,
           -1.746651868839371e-12,
           1.513266227326967e-12,
           1.7588001196771128e-12,
           -1.1973664316972068e-12,
           9.301711888397643e-13,
           -9.77187751025158e-13,
           -2.521965943234409e-12,
           1.4015146215365088e-13,
           -1.1170719607566368e-12,
           -7.817129484535089e-13,
           -8.761560662126046e-13,
           1.0212911073672493e-14,
           5.504622826397558e-13,
           5.483761306255053e-13,
           -4.309693215373926e-13,
           5.567396906465842e-13,
           -2.029094450144279e-12,
           7.794790319821218e-13,
           -2.571533700997733e-13,
           1.3122686003893973e-12,
           1.2511548357824178e-12,
           -5.387301556297898e-13,
           -2.4495787193832068e-12,
           -3.4786035896066948e-15,
           -1.7258913826017953e-12,
           7.519619442117367e-14,
           6.775714420083341e-13,
           2.0945613679005118e-15,
           1.2356154614488285e-12,
           -2.6817808746508204e-13,
           -2.2117876879447001e-13,
           3.147313019683503e-13,
           -7.417244691503649e-13,
           2.2734324293090497e-12,
           1.0406979876139181e-12,
           8.776497416235946e-14,
           8.458635780067016e-13,
           -4.083076406628243e-13,
           3.228609500203926e-13,
           -1.947575795647612e-12,
           -8.507463265893927e-13,
           2.1640037331126075e-14,
           -5.587487533693623e-13,
           -1.7068428915130272e-14,
           4.628221466421235e-13,
           -2.090253485473158e-13,
           -6.446795384088116e-13,
           5.355641416515001e-13
          ],
          "coloraxis": "coloraxis",
          "symbol": "triangle-down"
         },
         "mode": "markers",
         "name": "Backward",
         "showlegend": false,
         "type": "scatter",
         "x": [
          81.63265306122449,
          163.26530612244898,
          244.89795918367344,
          326.53061224489795,
          408.1632653061224,
          489.7959183673469,
          571.4285714285714,
          653.0612244897959,
          734.6938775510204,
          816.3265306122448,
          897.9591836734694,
          979.591836734694,
          1061.2244897959183,
          1142.857142857143,
          1224.4897959183672,
          1306.1224489795918,
          1387.7551020408164,
          1469.3877551020407,
          1551.020408163265,
          1632.6530612244896,
          1714.2857142857144,
          1795.9183673469388,
          1877.5510204081631,
          1959.1836734693877,
          2040.8163265306123,
          2122.4489795918366,
          2204.081632653061,
          2285.714285714286,
          2367.3469387755104,
          2448.9795918367345,
          2530.612244897959,
          2612.2448979591836,
          2693.877551020408,
          2775.5102040816328,
          2857.142857142857,
          2938.7755102040815,
          3020.408163265306,
          3102.04081632653,
          3183.6734693877547,
          3265.3061224489793,
          3346.9387755102043,
          3428.571428571429,
          3510.204081632653,
          3591.8367346938776,
          3673.469387755102,
          3755.1020408163263,
          3836.734693877551,
          3918.3673469387754,
          4000
         ],
         "y": [
          86.63360186305992,
          86.60903480219636,
          86.58441299363116,
          86.55973626146229,
          86.53500442924113,
          86.5102173199204,
          86.48537475575925,
          86.46047655848099,
          86.43552254918815,
          86.41051254836573,
          86.38544637585886,
          86.3603238509554,
          86.33514479231796,
          86.30990901799356,
          86.28461634537888,
          86.25926659132219,
          86.23385957202326,
          86.20839510309145,
          86.18287299944491,
          86.15729307554568,
          86.13165514508866,
          86.10595902122743,
          86.08020451650926,
          86.05439144283757,
          86.02851961150769,
          86.00258883319378,
          85.9765989179947,
          85.95054967537048,
          85.92444091415794,
          85.89827244258503,
          85.872044068292,
          85.84575559828379,
          85.81940683896453,
          85.7929975960764,
          85.76652767486725,
          85.73999687982281,
          85.71340501495091,
          85.68675188358132,
          85.66003728843626,
          85.63326103162535,
          85.6064229147344,
          85.57952273859345,
          85.55256030358443,
          85.5255354093405,
          85.49844785498662,
          85.47129743902006,
          85.44408395932011,
          85.4168072132001,
          85.38946699730357
         ]
        },
        {
         "hoverinfo": "none",
         "legendgroup": "Backward",
         "marker": {
          "color": [
           1.1400015806586277e-13
          ],
          "coloraxis": "coloraxis",
          "symbol": "triangle-down"
         },
         "mode": "markers",
         "name": "Backward",
         "showlegend": false,
         "type": "scatter",
         "x": [
          0
         ],
         "y": [
          86.65811435149156
         ]
        },
        {
         "hoverinfo": "none",
         "legendgroup": "Backward",
         "marker": {
          "color": [
           -2.0612680216061658e-13,
           1.3183639661032324e-14,
           -6.888690383677907e-14,
           -9.360214889020894e-13,
           3.1578576333939696e-13,
           8.013134910125365e-13,
           6.064633501685528e-13,
           -1.1960370183964899e-12,
           1.203982466824644e-12,
           -5.753493272420135e-13,
           -2.763757334633862e-12,
           5.909635382464337e-13,
           -1.1464795712610638e-12,
           -1.2835283436641476e-12,
           -7.524241345796271e-13,
           1.6081931136732325e-12,
           -1.865968493838904e-12,
           -6.953451598369519e-13,
           1.375952383015594e-12,
           -5.333944117044189e-13,
           -1.4286410503511754e-12,
           -2.1209594239440517e-13,
           6.619209298893723e-13,
           -7.01772436929047e-13,
           7.124179639918467e-13,
           -7.281758447566932e-13,
           -1.2852911306077598e-12,
           4.599008752480995e-13,
           7.180794746631204e-13,
           7.861780833004397e-13,
           -1.4415207548344441e-13,
           5.086887434413043e-13,
           9.899782040496422e-13,
           4.497548946733675e-13,
           1.4785153224215758e-12,
           -6.126198542435082e-13,
           5.812634926295232e-13,
           1.3466773036075965e-12,
           1.3795297425454248e-12,
           1.051405404696491e-12,
           -8.969114739314535e-13,
           3.762551897419186e-13,
           1.2958284283209444e-13,
           2.4685410084756664e-13,
           -9.677210622641997e-13,
           -3.948623327907295e-13,
           8.418635299923739e-13,
           1.0244370889702741e-12,
           -7.915997363464672e-13,
           -2.4344538934684542e-14
          ],
          "coloraxis": "coloraxis",
          "symbol": "triangle-down"
         },
         "mode": "markers",
         "name": "Backward",
         "showlegend": false,
         "type": "scatter",
         "x": [
          0,
          81.63265306122449,
          163.26530612244898,
          244.89795918367344,
          326.53061224489795,
          408.1632653061224,
          489.7959183673469,
          571.4285714285714,
          653.0612244897959,
          734.6938775510204,
          816.3265306122448,
          897.9591836734694,
          979.591836734694,
          1061.2244897959183,
          1142.857142857143,
          1224.4897959183672,
          1306.1224489795918,
          1387.7551020408164,
          1469.3877551020407,
          1551.020408163265,
          1632.6530612244896,
          1714.2857142857144,
          1795.9183673469388,
          1877.5510204081631,
          1959.1836734693877,
          2040.8163265306123,
          2122.4489795918366,
          2204.081632653061,
          2285.714285714286,
          2367.3469387755104,
          2448.9795918367345,
          2530.612244897959,
          2612.2448979591836,
          2693.877551020408,
          2775.5102040816328,
          2857.142857142857,
          2938.7755102040815,
          3020.408163265306,
          3102.04081632653,
          3183.6734693877547,
          3265.3061224489793,
          3346.9387755102043,
          3428.571428571429,
          3510.204081632653,
          3591.8367346938776,
          3673.469387755102,
          3755.1020408163263,
          3836.734693877551,
          3918.3673469387754,
          4000
         ],
         "y": [
          274.31285391289356,
          273.8728880622189,
          273.43201664681635,
          272.9902433461536,
          272.5475719573817,
          272.10400639704244,
          271.6595507028538,
          271.2142090344256,
          270.7679856746236,
          270.320885031088,
          269.872911637326,
          269.42407015354587,
          268.97436536871123,
          268.5238022005885,
          268.0723856980334,
          267.62012104071545,
          267.1670135420899,
          266.7130686482403,
          266.25829194096366,
          265.8026891373199,
          265.3462660914593,
          264.8890287950433,
          264.4309833782113,
          263.9721361109309,
          263.5124934033318,
          263.0520618066363,
          262.59084801379737,
          262.1288588605906,
          261.66610132600124,
          261.20258253279314,
          260.7383097481471,
          260.27329038446743,
          259.80753199961794,
          259.3410422975267,
          258.8738291279865,
          258.40590048832047,
          257.9372645220622,
          257.4679295206055,
          256.99790392254374,
          256.52719631403016,
          256.0558154289257,
          255.5837701488105,
          255.1110695029309,
          254.63772266812305,
          254.1637389685351,
          253.68912787535288,
          253.2138990071497,
          252.73806212856476,
          252.26162715065416,
          251.78460413014173
         ]
        },
        {
         "hoverinfo": "none",
         "legendgroup": "Backward",
         "marker": {
          "color": [
           -1.1203378358417533e-13
          ],
          "coloraxis": "coloraxis",
          "symbol": "triangle-down"
         },
         "mode": "markers",
         "name": "Backward",
         "showlegend": false,
         "type": "scatter",
         "x": [
          0
         ],
         "y": [
          274.31285391306346
         ]
        },
        {
         "hoverinfo": "none",
         "legendgroup": "Backward",
         "marker": {
          "color": [
           -1.5264500013659804e-12,
           7.320468039196831e-12,
           -3.297058895142236e-11,
           1.7967205330685124e-11,
           1.5458013853133918e-12,
           -8.622853751412958e-12,
           2.244560927140068e-11,
           -7.431318402563734e-11,
           -4.207802190293688e-11,
           6.5005092824836065e-12,
           -1.4902364800746294e-11,
           3.2771112683380015e-11,
           -1.5779568011278125e-11,
           4.1043979757335185e-11,
           3.5396610905813716e-11,
           1.348080487536496e-11,
           9.610141978264152e-12,
           -1.9394896809519828e-11,
           3.2497059852659786e-12,
           3.117511838720644e-12,
           2.4243899697513864e-11,
           -1.2442299805033122e-11
          ],
          "coloraxis": "coloraxis",
          "symbol": "triangle-down"
         },
         "mode": "markers",
         "name": "Backward",
         "showlegend": false,
         "type": "scatter",
         "x": [
          2285.714285714286,
          2367.3469387755104,
          2448.9795918367345,
          2530.612244897959,
          2612.2448979591836,
          2693.877551020408,
          2775.5102040816328,
          2857.142857142857,
          2938.7755102040815,
          3020.408163265306,
          3102.04081632653,
          3183.6734693877547,
          3265.3061224489793,
          3346.9387755102043,
          3428.571428571429,
          3510.204081632653,
          3591.8367346938776,
          3673.469387755102,
          3755.1020408163263,
          3836.734693877551,
          3918.3673469387754,
          4000
         ],
         "y": [
          649.1107322054564,
          646.7230621684146,
          644.3398340991384,
          641.9612714816789,
          639.5875946813716,
          637.2190208376683,
          634.8557637840772,
          632.4980339700274,
          630.1460383695451,
          627.7999804136837,
          625.4600599166833,
          623.1264730222607,
          620.7994121230971,
          618.4790658188522,
          616.1656188607665,
          613.8592520909287,
          611.5601424267252,
          609.2684627935234,
          606.9843821018662,
          604.7080652187378,
          602.4396729330088,
          600.1793619542149
         ]
        },
        {
         "hoverinfo": "none",
         "legendgroup": "Backward",
         "marker": {
          "color": [
           6.319906097498299e-12,
           -2.9183360468854315e-12,
           -1.4539041677913512e-11,
           -1.2707497050693478e-11,
           -2.328046518318242e-11,
           1.279798975048446e-11,
           -1.7983195294350826e-12,
           4.718745666977184e-11,
           -1.4739817959127398e-12,
           -7.773683692045918e-11,
           6.2970521751254e-11,
           -1.5975290201312546e-11,
           2.9792008890014538e-12,
           -1.3469943407904403e-11,
           3.705679374667945e-11,
           1.463426561056422e-11,
           -2.9050291475516817e-11,
           7.085765278137071e-11,
           4.0721773237338266e-11,
           -1.416051862315927e-12,
           -6.070439619553627e-11,
           -1.0511936852527915e-11,
           2.8099824457854867e-11,
           3.9539914029337307e-11,
           4.883625145642096e-13,
           2.9296904261069252e-12,
           -4.0891236573545695e-11
          ],
          "coloraxis": "coloraxis",
          "symbol": "triangle-down"
         },
         "mode": "markers",
         "name": "Backward",
         "showlegend": false,
         "type": "scatter",
         "x": [
          81.63265306122449,
          163.26530612244898,
          244.89795918367344,
          326.53061224489795,
          408.1632653061224,
          489.7959183673469,
          571.4285714285714,
          653.0612244897959,
          734.6938775510204,
          816.3265306122448,
          897.9591836734694,
          979.591836734694,
          1061.2244897959183,
          1142.857142857143,
          1224.4897959183672,
          1306.1224489795918,
          1387.7551020408164,
          1469.3877551020407,
          1551.020408163265,
          1632.6530612244896,
          1714.2857142857144,
          1795.9183673469388,
          1877.5510204081631,
          1959.1836734693877,
          2040.8163265306123,
          2122.4489795918366,
          2204.081632653061
         ],
         "y": [
          714.3739855583103,
          711.9590709259751,
          709.5418268609769,
          707.1225127198268,
          704.7013885150516,
          702.2787147626284,
          699.8547522957696,
          697.4297620972732,
          695.0040051635486,
          692.5777423218739,
          690.151234064293,
          687.7247404207733,
          685.298520741864,
          682.8728336010997,
          680.4479365978998,
          678.0240862337981,
          675.6015377484093,
          673.1805449550028,
          670.7613601271545,
          668.3442338437515,
          665.9294148392174,
          663.5171498550006,
          661.1076835727741,
          658.701258406837,
          656.2981144185794,
          653.8984891865562,
          651.5026176938666
         ]
        },
        {
         "hoverinfo": "none",
         "legendgroup": "Backward",
         "marker": {
          "color": [
           -1.7066552097741966e-13
          ],
          "coloraxis": "coloraxis",
          "symbol": "triangle-down"
         },
         "mode": "markers",
         "name": "Backward",
         "showlegend": false,
         "type": "scatter",
         "x": [
          0
         ],
         "y": [
          716.7863122191015
         ]
        },
        {
         "hoverinfo": "none",
         "legendgroup": "Torsional",
         "marker": {
          "color": [
           4.432756971358226e-13,
           -2.64054835936511e-13,
           -1.792519642079663e-13,
           1.6846887510061833e-13,
           -2.2114985319114172e-13,
           -5.4954714800032575e-14,
           -3.22613208918844e-14,
           5.51273900860887e-13,
           -9.84978453480774e-14,
           -1.1992459630570545e-13,
           -1.2654846325372892e-13,
           -2.132175151158609e-13,
           -9.525669801626875e-14,
           -6.795469719833509e-15,
           -1.9582450178691085e-13,
           -1.3820458145510074e-14,
           1.365078590567691e-13,
           3.164162038609279e-13,
           -1.1204373906080434e-13,
           7.763631101968456e-13,
           -7.476839971237273e-14,
           3.454578277709886e-14,
           2.4324263740053036e-13,
           -6.428668797304914e-14,
           -1.2848006694210242e-13,
           8.881086894206242e-14,
           2.1520917977170552e-13,
           1.9697853041744177e-14
          ],
          "coloraxis": "coloraxis",
          "symbol": "bowtie"
         },
         "mode": "markers",
         "name": "Torsional",
         "showlegend": false,
         "type": "scatter",
         "x": [
          0,
          81.63265306122449,
          163.26530612244898,
          244.89795918367344,
          326.53061224489795,
          408.1632653061224,
          489.7959183673469,
          571.4285714285714,
          653.0612244897959,
          734.6938775510204,
          816.3265306122448,
          897.9591836734694,
          979.591836734694,
          1061.2244897959183,
          1142.857142857143,
          1224.4897959183672,
          1306.1224489795918,
          1387.7551020408164,
          1469.3877551020407,
          1551.020408163265,
          1632.6530612244896,
          1714.2857142857144,
          1795.9183673469388,
          1877.5510204081631,
          1959.1836734693877,
          2040.8163265306123,
          2122.4489795918366,
          2204.081632653061
         ],
         "y": [
          650.4078662626339,
          650.4078662544866,
          650.4078662511771,
          650.4078662637061,
          650.4078662555436,
          650.4078662577587,
          650.4078662600073,
          650.4078662809171,
          650.4078662597245,
          650.4078662548374,
          650.4078662605299,
          650.4078662541676,
          650.4078662609701,
          650.4078662548768,
          650.407866257086,
          650.4078662535604,
          650.4078662678714,
          650.4078662619761,
          650.407866256994,
          650.4078662401564,
          650.4078662564691,
          650.4078662552896,
          650.4078662589283,
          650.407866270176,
          650.4078662571576,
          650.407866259068,
          650.4078662590869,
          650.4078662651492
         ]
        },
        {
         "hoverinfo": "none",
         "legendgroup": "Torsional",
         "marker": {
          "color": [
           4.1614529908244174e-13,
           -1.3535704797760725e-13,
           1.3982193756774284e-13,
           -5.741206647755328e-13,
           2.698432118940471e-13,
           -2.992441291025222e-13,
           -1.962502911614184e-13,
           1.3431348862749128e-13,
           4.657299196752344e-14,
           2.164597349605651e-13,
           2.4747264569774995e-14,
           -3.59829559814577e-15,
           3.307343100387666e-13,
           -2.437177625757105e-13,
           -3.224223008427003e-13,
           -3.142025281189897e-13,
           1.9639293596358402e-13,
           -4.076831374699264e-13,
           6.599199050820338e-14,
           1.4968909688364753e-13,
           4.97969790226054e-13,
           -2.5330713990323455e-14
          ],
          "coloraxis": "coloraxis",
          "symbol": "bowtie"
         },
         "mode": "markers",
         "name": "Torsional",
         "showlegend": false,
         "type": "scatter",
         "x": [
          2285.714285714286,
          2367.3469387755104,
          2448.9795918367345,
          2530.612244897959,
          2612.2448979591836,
          2693.877551020408,
          2775.5102040816328,
          2857.142857142857,
          2938.7755102040815,
          3020.408163265306,
          3102.04081632653,
          3183.6734693877547,
          3265.3061224489793,
          3346.9387755102043,
          3428.571428571429,
          3510.204081632653,
          3591.8367346938776,
          3673.469387755102,
          3755.1020408163263,
          3836.734693877551,
          3918.3673469387754,
          4000
         ],
         "y": [
          650.4078662713572,
          650.4078662590241,
          650.4078662593084,
          650.4078662456759,
          650.4078662586767,
          650.4078662572391,
          650.4078662580719,
          650.4078662628293,
          650.407866272117,
          650.4078662669876,
          650.4078662604519,
          650.4078662602922,
          650.4078662669424,
          650.4078662487883,
          650.4078662473758,
          650.4078662617594,
          650.4078662613189,
          650.4078662433498,
          650.4078662570223,
          650.4078662568878,
          650.4078662644459,
          650.4078662562482
         ]
        },
        {
         "hoverinfo": "none",
         "line": {
          "color": "blue",
          "dash": "dashdot"
         },
         "mode": "lines",
         "name": "1x speed",
         "type": "scatter",
         "x": [
          0,
          81.63265306122449,
          163.26530612244898,
          244.89795918367344,
          326.53061224489795,
          408.1632653061224,
          489.7959183673469,
          571.4285714285714,
          653.0612244897959,
          734.6938775510204,
          816.3265306122448,
          897.9591836734694,
          979.591836734694,
          1061.2244897959183,
          1142.857142857143,
          1224.4897959183672,
          1306.1224489795918,
          1387.7551020408164,
          1469.3877551020407,
          1551.020408163265,
          1632.6530612244896,
          1714.2857142857144,
          1795.9183673469388,
          1877.5510204081631,
          1959.1836734693877,
          2040.8163265306123,
          2122.4489795918366,
          2204.081632653061,
          2285.714285714286,
          2367.3469387755104,
          2448.9795918367345,
          2530.612244897959,
          2612.2448979591836,
          2693.877551020408,
          2775.5102040816328,
          2857.142857142857,
          2938.7755102040815,
          3020.408163265306,
          3102.04081632653,
          3183.6734693877547,
          3265.3061224489793,
          3346.9387755102043,
          3428.571428571429,
          3510.204081632653,
          3591.8367346938776,
          3673.469387755102,
          3755.1020408163263,
          3836.734693877551,
          3918.3673469387754,
          4000
         ],
         "y": [
          0,
          8.548551438339572,
          17.097102876679145,
          25.645654315018717,
          34.19420575335829,
          42.74275719169786,
          51.291308630037435,
          59.83986006837701,
          68.38841150671658,
          76.93696294505615,
          85.48551438339572,
          94.0340658217353,
          102.58261726007488,
          111.13116869841444,
          119.679720136754,
          128.22827157509357,
          136.77682301343316,
          145.32537445177277,
          153.8739258901123,
          162.42247732845186,
          170.97102876679145,
          179.51958020513104,
          188.0681316434706,
          196.61668308181015,
          205.16523452014977,
          213.71378595848932,
          222.26233739682888,
          230.81088883516844,
          239.35944027350803,
          247.9079917118476,
          256.45654315018714,
          265.00509458852673,
          273.5536460268663,
          282.1021974652059,
          290.6507489035455,
          299.199300341885,
          307.7478517802246,
          316.2964032185642,
          324.8449546569037,
          333.3935060952433,
          341.9420575335829,
          350.4906089719225,
          359.03916041026207,
          367.5877118486016,
          376.1362632869412,
          384.6848147252808,
          393.2333661636203,
          401.7819176019599,
          410.3304690402995,
          418.87902047863906
         ]
        },
        {
         "hoverinfo": "none",
         "legendgroup": "Forward",
         "marker": {
          "color": "black",
          "symbol": "triangle-up"
         },
         "mode": "markers",
         "name": "Forward",
         "type": "scatter",
         "x": [
          0
         ],
         "y": [
          0
         ]
        },
        {
         "hoverinfo": "none",
         "legendgroup": "Mixed",
         "marker": {
          "color": "black",
          "symbol": "circle"
         },
         "mode": "markers",
         "name": "Mixed",
         "type": "scatter",
         "x": [
          0
         ],
         "y": [
          0
         ]
        },
        {
         "hoverinfo": "none",
         "legendgroup": "Backward",
         "marker": {
          "color": "black",
          "symbol": "triangle-down"
         },
         "mode": "markers",
         "name": "Backward",
         "type": "scatter",
         "x": [
          0
         ],
         "y": [
          0
         ]
        },
        {
         "hoverinfo": "none",
         "legendgroup": "Axial",
         "marker": {
          "color": "black",
          "symbol": "diamond-wide"
         },
         "mode": "markers",
         "name": "Axial",
         "type": "scatter",
         "x": [
          0
         ],
         "y": [
          0
         ]
        },
        {
         "hoverinfo": "none",
         "legendgroup": "Torsional",
         "marker": {
          "color": "black",
          "symbol": "bowtie"
         },
         "mode": "markers",
         "name": "Torsional",
         "type": "scatter",
         "x": [
          0
         ],
         "y": [
          0
         ]
        }
       ],
       "layout": {
        "coloraxis": {
         "cmax": 1,
         "cmin": 0,
         "colorbar": {
          "title": {
           "side": "right",
           "text": "<b>Log Dec</b>"
          }
         },
         "colorscale": [
          [
           0,
           "rgb(179,3,38)"
          ],
          [
           0.003937007874015748,
           "rgb(181,8,39)"
          ],
          [
           0.007874015748031496,
           "rgb(182,13,40)"
          ],
          [
           0.011811023622047244,
           "rgb(184,17,41)"
          ],
          [
           0.015748031496062992,
           "rgb(185,22,42)"
          ],
          [
           0.01968503937007874,
           "rgb(187,26,43)"
          ],
          [
           0.023622047244094488,
           "rgb(188,31,44)"
          ],
          [
           0.027559055118110236,
           "rgb(190,35,45)"
          ],
          [
           0.031496062992125984,
           "rgb(191,40,46)"
          ],
          [
           0.03543307086614173,
           "rgb(193,42,48)"
          ],
          [
           0.03937007874015748,
           "rgb(194,45,49)"
          ],
          [
           0.04330708661417323,
           "rgb(196,48,50)"
          ],
          [
           0.047244094488188976,
           "rgb(197,50,51)"
          ],
          [
           0.05118110236220472,
           "rgb(198,53,52)"
          ],
          [
           0.05511811023622047,
           "rgb(200,56,53)"
          ],
          [
           0.05905511811023622,
           "rgb(201,59,55)"
          ],
          [
           0.06299212598425197,
           "rgb(202,61,56)"
          ],
          [
           0.06692913385826772,
           "rgb(204,63,57)"
          ],
          [
           0.07086614173228346,
           "rgb(205,66,58)"
          ],
          [
           0.07480314960629922,
           "rgb(206,68,60)"
          ],
          [
           0.07874015748031496,
           "rgb(207,70,61)"
          ],
          [
           0.08267716535433071,
           "rgb(209,73,62)"
          ],
          [
           0.08661417322834646,
           "rgb(210,75,63)"
          ],
          [
           0.0905511811023622,
           "rgb(211,77,64)"
          ],
          [
           0.09448818897637797,
           "rgb(212,79,66)"
          ],
          [
           0.0984251968503937,
           "rgb(214,82,67)"
          ],
          [
           0.10236220472440943,
           "rgb(215,84,68)"
          ],
          [
           0.1062992125984252,
           "rgb(216,86,70)"
          ],
          [
           0.11023622047244094,
           "rgb(217,88,71)"
          ],
          [
           0.1141732283464567,
           "rgb(218,90,72)"
          ],
          [
           0.11811023622047244,
           "rgb(219,92,74)"
          ],
          [
           0.1220472440944882,
           "rgb(220,94,75)"
          ],
          [
           0.12598425196850394,
           "rgb(221,96,76)"
          ],
          [
           0.12992125984251968,
           "rgb(222,98,78)"
          ],
          [
           0.13385826771653545,
           "rgb(223,100,79)"
          ],
          [
           0.1377952755905512,
           "rgb(224,102,80)"
          ],
          [
           0.14173228346456693,
           "rgb(225,104,82)"
          ],
          [
           0.14566929133858267,
           "rgb(226,106,83)"
          ],
          [
           0.14960629921259844,
           "rgb(227,108,84)"
          ],
          [
           0.15354330708661418,
           "rgb(228,110,86)"
          ],
          [
           0.15748031496062992,
           "rgb(229,112,87)"
          ],
          [
           0.16141732283464566,
           "rgb(230,114,89)"
          ],
          [
           0.16535433070866143,
           "rgb(230,116,90)"
          ],
          [
           0.16929133858267717,
           "rgb(231,117,92)"
          ],
          [
           0.1732283464566929,
           "rgb(232,119,93)"
          ],
          [
           0.17716535433070865,
           "rgb(233,121,94)"
          ],
          [
           0.1811023622047244,
           "rgb(234,123,96)"
          ],
          [
           0.18503937007874016,
           "rgb(234,125,97)"
          ],
          [
           0.1889763779527559,
           "rgb(235,127,99)"
          ],
          [
           0.19291338582677164,
           "rgb(236,128,100)"
          ],
          [
           0.1968503937007874,
           "rgb(236,130,102)"
          ],
          [
           0.20078740157480315,
           "rgb(237,132,103)"
          ],
          [
           0.2047244094488189,
           "rgb(238,134,105)"
          ],
          [
           0.20866141732283464,
           "rgb(238,135,106)"
          ],
          [
           0.2125984251968504,
           "rgb(239,137,108)"
          ],
          [
           0.21653543307086617,
           "rgb(240,139,109)"
          ],
          [
           0.2204724409448819,
           "rgb(240,141,111)"
          ],
          [
           0.22440944881889763,
           "rgb(241,142,112)"
          ],
          [
           0.2283464566929134,
           "rgb(241,144,114)"
          ],
          [
           0.2322834645669291,
           "rgb(242,145,115)"
          ],
          [
           0.23622047244094488,
           "rgb(242,147,117)"
          ],
          [
           0.24015748031496065,
           "rgb(243,149,118)"
          ],
          [
           0.2440944881889764,
           "rgb(243,150,120)"
          ],
          [
           0.24803149606299213,
           "rgb(243,152,121)"
          ],
          [
           0.25196850393700787,
           "rgb(244,154,123)"
          ],
          [
           0.2559055118110236,
           "rgb(244,155,124)"
          ],
          [
           0.25984251968503935,
           "rgb(244,157,126)"
          ],
          [
           0.2637795275590551,
           "rgb(245,158,127)"
          ],
          [
           0.2677165354330709,
           "rgb(245,160,129)"
          ],
          [
           0.27165354330708663,
           "rgb(245,161,130)"
          ],
          [
           0.2755905511811024,
           "rgb(246,163,132)"
          ],
          [
           0.2795275590551181,
           "rgb(246,164,134)"
          ],
          [
           0.28346456692913385,
           "rgb(246,166,135)"
          ],
          [
           0.2874015748031496,
           "rgb(246,167,137)"
          ],
          [
           0.29133858267716534,
           "rgb(246,169,138)"
          ],
          [
           0.2952755905511811,
           "rgb(246,170,140)"
          ],
          [
           0.2992125984251969,
           "rgb(246,171,141)"
          ],
          [
           0.3031496062992126,
           "rgb(247,173,143)"
          ],
          [
           0.30708661417322836,
           "rgb(247,174,145)"
          ],
          [
           0.3110236220472441,
           "rgb(247,176,146)"
          ],
          [
           0.31496062992125984,
           "rgb(247,177,148)"
          ],
          [
           0.3188976377952756,
           "rgb(247,178,149)"
          ],
          [
           0.3228346456692913,
           "rgb(247,179,151)"
          ],
          [
           0.32677165354330706,
           "rgb(247,181,152)"
          ],
          [
           0.33070866141732286,
           "rgb(246,182,154)"
          ],
          [
           0.3346456692913386,
           "rgb(246,183,156)"
          ],
          [
           0.33858267716535434,
           "rgb(246,185,157)"
          ],
          [
           0.3425196850393701,
           "rgb(246,186,159)"
          ],
          [
           0.3464566929133858,
           "rgb(246,187,160)"
          ],
          [
           0.35039370078740156,
           "rgb(246,188,162)"
          ],
          [
           0.3543307086614173,
           "rgb(246,189,164)"
          ],
          [
           0.35826771653543305,
           "rgb(245,191,165)"
          ],
          [
           0.3622047244094488,
           "rgb(245,192,167)"
          ],
          [
           0.3661417322834646,
           "rgb(245,193,168)"
          ],
          [
           0.3700787401574803,
           "rgb(244,194,170)"
          ],
          [
           0.37401574803149606,
           "rgb(244,195,171)"
          ],
          [
           0.3779527559055118,
           "rgb(244,196,173)"
          ],
          [
           0.38188976377952755,
           "rgb(243,197,175)"
          ],
          [
           0.3858267716535433,
           "rgb(243,198,176)"
          ],
          [
           0.38976377952755903,
           "rgb(242,199,178)"
          ],
          [
           0.3937007874015748,
           "rgb(242,200,179)"
          ],
          [
           0.39763779527559057,
           "rgb(242,201,181)"
          ],
          [
           0.4015748031496063,
           "rgb(241,202,182)"
          ],
          [
           0.4055118110236221,
           "rgb(241,203,184)"
          ],
          [
           0.4094488188976378,
           "rgb(240,204,185)"
          ],
          [
           0.41338582677165353,
           "rgb(239,205,187)"
          ],
          [
           0.41732283464566927,
           "rgb(239,206,188)"
          ],
          [
           0.421259842519685,
           "rgb(238,207,190)"
          ],
          [
           0.4251968503937008,
           "rgb(237,207,192)"
          ],
          [
           0.42913385826771655,
           "rgb(237,208,193)"
          ],
          [
           0.4330708661417323,
           "rgb(236,209,195)"
          ],
          [
           0.437007874015748,
           "rgb(236,210,196)"
          ],
          [
           0.4409448818897638,
           "rgb(235,211,198)"
          ],
          [
           0.4448818897637795,
           "rgb(234,211,199)"
          ],
          [
           0.44881889763779526,
           "rgb(233,212,201)"
          ],
          [
           0.452755905511811,
           "rgb(232,213,202)"
          ],
          [
           0.4566929133858268,
           "rgb(231,214,204)"
          ],
          [
           0.46062992125984253,
           "rgb(231,214,205)"
          ],
          [
           0.4645669291338583,
           "rgb(230,215,207)"
          ],
          [
           0.468503937007874,
           "rgb(229,216,208)"
          ],
          [
           0.47244094488188976,
           "rgb(228,216,209)"
          ],
          [
           0.4763779527559055,
           "rgb(227,217,211)"
          ],
          [
           0.4803149606299213,
           "rgb(226,217,212)"
          ],
          [
           0.484251968503937,
           "rgb(225,218,214)"
          ],
          [
           0.4881889763779528,
           "rgb(224,218,215)"
          ],
          [
           0.4921259842519685,
           "rgb(223,219,217)"
          ],
          [
           0.49606299212598426,
           "rgb(222,219,218)"
          ],
          [
           0.5,
           "rgb(220,220,221)"
          ],
          [
           0.5039370078740157,
           "rgb(219,220,222)"
          ],
          [
           0.5078740157480315,
           "rgb(218,220,223)"
          ],
          [
           0.5118110236220472,
           "rgb(217,220,224)"
          ],
          [
           0.515748031496063,
           "rgb(216,219,225)"
          ],
          [
           0.5196850393700787,
           "rgb(215,219,226)"
          ],
          [
           0.5236220472440944,
           "rgb(214,219,228)"
          ],
          [
           0.5275590551181102,
           "rgb(213,219,229)"
          ],
          [
           0.531496062992126,
           "rgb(211,219,230)"
          ],
          [
           0.5354330708661418,
           "rgb(210,218,231)"
          ],
          [
           0.5393700787401575,
           "rgb(209,218,232)"
          ],
          [
           0.5433070866141733,
           "rgb(208,218,233)"
          ],
          [
           0.547244094488189,
           "rgb(207,217,234)"
          ],
          [
           0.5511811023622047,
           "rgb(206,217,235)"
          ],
          [
           0.5551181102362205,
           "rgb(205,217,236)"
          ],
          [
           0.5590551181102362,
           "rgb(204,216,237)"
          ],
          [
           0.562992125984252,
           "rgb(202,216,238)"
          ],
          [
           0.5669291338582677,
           "rgb(201,215,238)"
          ],
          [
           0.5708661417322834,
           "rgb(200,215,239)"
          ],
          [
           0.5748031496062992,
           "rgb(199,214,240)"
          ],
          [
           0.5787401574803149,
           "rgb(198,214,241)"
          ],
          [
           0.5826771653543307,
           "rgb(197,213,242)"
          ],
          [
           0.5866141732283464,
           "rgb(195,213,242)"
          ],
          [
           0.5905511811023622,
           "rgb(194,212,243)"
          ],
          [
           0.594488188976378,
           "rgb(193,212,244)"
          ],
          [
           0.5984251968503937,
           "rgb(192,211,245)"
          ],
          [
           0.6023622047244095,
           "rgb(190,211,245)"
          ],
          [
           0.6062992125984252,
           "rgb(189,210,246)"
          ],
          [
           0.610236220472441,
           "rgb(188,209,246)"
          ],
          [
           0.6141732283464567,
           "rgb(187,209,247)"
          ],
          [
           0.6181102362204725,
           "rgb(185,208,248)"
          ],
          [
           0.6220472440944882,
           "rgb(184,207,248)"
          ],
          [
           0.6259842519685039,
           "rgb(183,207,249)"
          ],
          [
           0.6299212598425197,
           "rgb(182,206,249)"
          ],
          [
           0.6338582677165354,
           "rgb(180,205,250)"
          ],
          [
           0.6377952755905512,
           "rgb(179,204,250)"
          ],
          [
           0.6417322834645669,
           "rgb(178,203,251)"
          ],
          [
           0.6456692913385826,
           "rgb(176,203,251)"
          ],
          [
           0.6496062992125984,
           "rgb(175,202,251)"
          ],
          [
           0.6535433070866141,
           "rgb(174,201,252)"
          ],
          [
           0.65748031496063,
           "rgb(172,200,252)"
          ],
          [
           0.6614173228346457,
           "rgb(171,199,252)"
          ],
          [
           0.6653543307086615,
           "rgb(170,198,253)"
          ],
          [
           0.6692913385826772,
           "rgb(168,197,253)"
          ],
          [
           0.6732283464566929,
           "rgb(167,196,253)"
          ],
          [
           0.6771653543307087,
           "rgb(166,195,253)"
          ],
          [
           0.6811023622047244,
           "rgb(164,194,254)"
          ],
          [
           0.6850393700787402,
           "rgb(163,193,254)"
          ],
          [
           0.6889763779527559,
           "rgb(162,192,254)"
          ],
          [
           0.6929133858267716,
           "rgb(160,191,254)"
          ],
          [
           0.6968503937007874,
           "rgb(159,190,254)"
          ],
          [
           0.7007874015748031,
           "rgb(157,189,254)"
          ],
          [
           0.7047244094488189,
           "rgb(156,188,254)"
          ],
          [
           0.7086614173228346,
           "rgb(155,187,254)"
          ],
          [
           0.7125984251968503,
           "rgb(153,186,254)"
          ],
          [
           0.7165354330708661,
           "rgb(152,185,254)"
          ],
          [
           0.7204724409448819,
           "rgb(151,184,254)"
          ],
          [
           0.7244094488188977,
           "rgb(149,183,254)"
          ],
          [
           0.7283464566929134,
           "rgb(148,181,254)"
          ],
          [
           0.7322834645669292,
           "rgb(146,180,254)"
          ],
          [
           0.7362204724409449,
           "rgb(145,179,254)"
          ],
          [
           0.7401574803149606,
           "rgb(144,178,254)"
          ],
          [
           0.7440944881889764,
           "rgb(142,177,253)"
          ],
          [
           0.7480314960629921,
           "rgb(141,175,253)"
          ],
          [
           0.7519685039370079,
           "rgb(139,174,253)"
          ],
          [
           0.7559055118110236,
           "rgb(138,173,253)"
          ],
          [
           0.7598425196850394,
           "rgb(137,172,252)"
          ],
          [
           0.7637795275590551,
           "rgb(135,170,252)"
          ],
          [
           0.7677165354330708,
           "rgb(134,169,252)"
          ],
          [
           0.7716535433070866,
           "rgb(133,168,251)"
          ],
          [
           0.7755905511811023,
           "rgb(131,166,251)"
          ],
          [
           0.7795275590551181,
           "rgb(130,165,251)"
          ],
          [
           0.7834645669291339,
           "rgb(128,164,250)"
          ],
          [
           0.7874015748031497,
           "rgb(127,162,250)"
          ],
          [
           0.7913385826771654,
           "rgb(126,161,249)"
          ],
          [
           0.7952755905511811,
           "rgb(124,160,249)"
          ],
          [
           0.7992125984251969,
           "rgb(123,158,248)"
          ],
          [
           0.8031496062992126,
           "rgb(122,157,248)"
          ],
          [
           0.8070866141732284,
           "rgb(120,155,247)"
          ],
          [
           0.8110236220472441,
           "rgb(119,154,246)"
          ],
          [
           0.8149606299212598,
           "rgb(117,152,246)"
          ],
          [
           0.8188976377952756,
           "rgb(116,151,245)"
          ],
          [
           0.8228346456692913,
           "rgb(115,149,244)"
          ],
          [
           0.8267716535433071,
           "rgb(113,148,244)"
          ],
          [
           0.8307086614173228,
           "rgb(112,147,243)"
          ],
          [
           0.8346456692913385,
           "rgb(111,145,242)"
          ],
          [
           0.8385826771653543,
           "rgb(109,144,241)"
          ],
          [
           0.84251968503937,
           "rgb(108,142,241)"
          ],
          [
           0.8464566929133859,
           "rgb(107,141,240)"
          ],
          [
           0.8503937007874016,
           "rgb(105,139,239)"
          ],
          [
           0.8543307086614174,
           "rgb(104,137,238)"
          ],
          [
           0.8582677165354331,
           "rgb(103,136,237)"
          ],
          [
           0.8622047244094488,
           "rgb(101,134,236)"
          ],
          [
           0.8661417322834646,
           "rgb(100,133,235)"
          ],
          [
           0.8700787401574803,
           "rgb(99,131,234)"
          ],
          [
           0.8740157480314961,
           "rgb(97,130,234)"
          ],
          [
           0.8779527559055118,
           "rgb(96,128,232)"
          ],
          [
           0.8818897637795275,
           "rgb(95,126,231)"
          ],
          [
           0.8858267716535433,
           "rgb(93,125,230)"
          ],
          [
           0.889763779527559,
           "rgb(92,123,229)"
          ],
          [
           0.8937007874015748,
           "rgb(91,121,228)"
          ],
          [
           0.8976377952755905,
           "rgb(90,120,227)"
          ],
          [
           0.9015748031496064,
           "rgb(88,118,226)"
          ],
          [
           0.905511811023622,
           "rgb(87,117,225)"
          ],
          [
           0.9094488188976378,
           "rgb(86,115,224)"
          ],
          [
           0.9133858267716536,
           "rgb(85,113,222)"
          ],
          [
           0.9173228346456692,
           "rgb(83,112,221)"
          ],
          [
           0.9212598425196852,
           "rgb(82,110,220)"
          ],
          [
           0.9251968503937008,
           "rgb(81,108,219)"
          ],
          [
           0.9291338582677166,
           "rgb(80,107,218)"
          ],
          [
           0.9330708661417324,
           "rgb(78,105,216)"
          ],
          [
           0.937007874015748,
           "rgb(77,103,215)"
          ],
          [
           0.9409448818897638,
           "rgb(76,102,214)"
          ],
          [
           0.9448818897637796,
           "rgb(75,100,212)"
          ],
          [
           0.9488188976377953,
           "rgb(73,98,211)"
          ],
          [
           0.952755905511811,
           "rgb(72,96,209)"
          ],
          [
           0.9566929133858268,
           "rgb(71,95,208)"
          ],
          [
           0.9606299212598424,
           "rgb(70,93,207)"
          ],
          [
           0.9645669291338582,
           "rgb(69,91,205)"
          ],
          [
           0.968503937007874,
           "rgb(67,90,204)"
          ],
          [
           0.9724409448818898,
           "rgb(66,88,202)"
          ],
          [
           0.9763779527559056,
           "rgb(65,86,201)"
          ],
          [
           0.9803149606299212,
           "rgb(64,84,199)"
          ],
          [
           0.984251968503937,
           "rgb(63,83,198)"
          ],
          [
           0.9881889763779528,
           "rgb(62,81,196)"
          ],
          [
           0.9921259842519684,
           "rgb(60,79,195)"
          ],
          [
           0.9960629921259844,
           "rgb(59,77,193)"
          ],
          [
           1,
           "rgb(58,76,192)"
          ]
         ]
        },
        "legend": {
         "orientation": "h",
         "x": 0.5,
         "xanchor": "center",
         "y": -0.3,
         "yanchor": "bottom",
         "yref": "container"
        },
        "template": {
         "data": {
          "bar": [
           {
            "error_x": {
             "color": "#2a3f5f"
            },
            "error_y": {
             "color": "#2a3f5f"
            },
            "marker": {
             "line": {
              "color": "white",
              "width": 0.5
             }
            },
            "type": "bar"
           }
          ],
          "barpolar": [
           {
            "marker": {
             "line": {
              "color": "white",
              "width": 0.5
             }
            },
            "type": "barpolar"
           }
          ],
          "carpet": [
           {
            "aaxis": {
             "endlinecolor": "#2a3f5f",
             "gridcolor": "#C8D4E3",
             "linecolor": "#C8D4E3",
             "minorgridcolor": "#C8D4E3",
             "startlinecolor": "#2a3f5f"
            },
            "baxis": {
             "endlinecolor": "#2a3f5f",
             "gridcolor": "#C8D4E3",
             "linecolor": "#C8D4E3",
             "minorgridcolor": "#C8D4E3",
             "startlinecolor": "#2a3f5f"
            },
            "type": "carpet"
           }
          ],
          "choropleth": [
           {
            "colorbar": {
             "outlinewidth": 0,
             "ticks": ""
            },
            "type": "choropleth"
           }
          ],
          "contour": [
           {
            "colorbar": {
             "outlinewidth": 0,
             "ticks": ""
            },
            "colorscale": [
             [
              0,
              "#0d0887"
             ],
             [
              0.1111111111111111,
              "#46039f"
             ],
             [
              0.2222222222222222,
              "#7201a8"
             ],
             [
              0.3333333333333333,
              "#9c179e"
             ],
             [
              0.4444444444444444,
              "#bd3786"
             ],
             [
              0.5555555555555556,
              "#d8576b"
             ],
             [
              0.6666666666666666,
              "#ed7953"
             ],
             [
              0.7777777777777778,
              "#fb9f3a"
             ],
             [
              0.8888888888888888,
              "#fdca26"
             ],
             [
              1,
              "#f0f921"
             ]
            ],
            "type": "contour"
           }
          ],
          "contourcarpet": [
           {
            "colorbar": {
             "outlinewidth": 0,
             "ticks": ""
            },
            "type": "contourcarpet"
           }
          ],
          "heatmap": [
           {
            "colorbar": {
             "outlinewidth": 0,
             "ticks": ""
            },
            "colorscale": [
             [
              0,
              "#0d0887"
             ],
             [
              0.1111111111111111,
              "#46039f"
             ],
             [
              0.2222222222222222,
              "#7201a8"
             ],
             [
              0.3333333333333333,
              "#9c179e"
             ],
             [
              0.4444444444444444,
              "#bd3786"
             ],
             [
              0.5555555555555556,
              "#d8576b"
             ],
             [
              0.6666666666666666,
              "#ed7953"
             ],
             [
              0.7777777777777778,
              "#fb9f3a"
             ],
             [
              0.8888888888888888,
              "#fdca26"
             ],
             [
              1,
              "#f0f921"
             ]
            ],
            "type": "heatmap"
           }
          ],
          "heatmapgl": [
           {
            "colorbar": {
             "outlinewidth": 0,
             "ticks": ""
            },
            "colorscale": [
             [
              0,
              "#0d0887"
             ],
             [
              0.1111111111111111,
              "#46039f"
             ],
             [
              0.2222222222222222,
              "#7201a8"
             ],
             [
              0.3333333333333333,
              "#9c179e"
             ],
             [
              0.4444444444444444,
              "#bd3786"
             ],
             [
              0.5555555555555556,
              "#d8576b"
             ],
             [
              0.6666666666666666,
              "#ed7953"
             ],
             [
              0.7777777777777778,
              "#fb9f3a"
             ],
             [
              0.8888888888888888,
              "#fdca26"
             ],
             [
              1,
              "#f0f921"
             ]
            ],
            "type": "heatmapgl"
           }
          ],
          "histogram": [
           {
            "marker": {
             "colorbar": {
              "outlinewidth": 0,
              "ticks": ""
             }
            },
            "type": "histogram"
           }
          ],
          "histogram2d": [
           {
            "colorbar": {
             "outlinewidth": 0,
             "ticks": ""
            },
            "colorscale": [
             [
              0,
              "#0d0887"
             ],
             [
              0.1111111111111111,
              "#46039f"
             ],
             [
              0.2222222222222222,
              "#7201a8"
             ],
             [
              0.3333333333333333,
              "#9c179e"
             ],
             [
              0.4444444444444444,
              "#bd3786"
             ],
             [
              0.5555555555555556,
              "#d8576b"
             ],
             [
              0.6666666666666666,
              "#ed7953"
             ],
             [
              0.7777777777777778,
              "#fb9f3a"
             ],
             [
              0.8888888888888888,
              "#fdca26"
             ],
             [
              1,
              "#f0f921"
             ]
            ],
            "type": "histogram2d"
           }
          ],
          "histogram2dcontour": [
           {
            "colorbar": {
             "outlinewidth": 0,
             "ticks": ""
            },
            "colorscale": [
             [
              0,
              "#0d0887"
             ],
             [
              0.1111111111111111,
              "#46039f"
             ],
             [
              0.2222222222222222,
              "#7201a8"
             ],
             [
              0.3333333333333333,
              "#9c179e"
             ],
             [
              0.4444444444444444,
              "#bd3786"
             ],
             [
              0.5555555555555556,
              "#d8576b"
             ],
             [
              0.6666666666666666,
              "#ed7953"
             ],
             [
              0.7777777777777778,
              "#fb9f3a"
             ],
             [
              0.8888888888888888,
              "#fdca26"
             ],
             [
              1,
              "#f0f921"
             ]
            ],
            "type": "histogram2dcontour"
           }
          ],
          "mesh3d": [
           {
            "colorbar": {
             "outlinewidth": 0,
             "ticks": ""
            },
            "type": "mesh3d"
           }
          ],
          "parcoords": [
           {
            "line": {
             "colorbar": {
              "outlinewidth": 0,
              "ticks": ""
             }
            },
            "type": "parcoords"
           }
          ],
          "pie": [
           {
            "automargin": true,
            "type": "pie"
           }
          ],
          "scatter": [
           {
            "marker": {
             "colorbar": {
              "outlinewidth": 0,
              "ticks": ""
             }
            },
            "type": "scatter"
           }
          ],
          "scatter3d": [
           {
            "line": {
             "colorbar": {
              "outlinewidth": 0,
              "ticks": ""
             }
            },
            "marker": {
             "colorbar": {
              "outlinewidth": 0,
              "ticks": ""
             },
             "size": 4
            },
            "type": "scatter3d"
           }
          ],
          "scattercarpet": [
           {
            "marker": {
             "colorbar": {
              "outlinewidth": 0,
              "ticks": ""
             }
            },
            "type": "scattercarpet"
           }
          ],
          "scattergeo": [
           {
            "marker": {
             "colorbar": {
              "outlinewidth": 0,
              "ticks": ""
             }
            },
            "type": "scattergeo"
           }
          ],
          "scattergl": [
           {
            "marker": {
             "colorbar": {
              "outlinewidth": 0,
              "ticks": ""
             }
            },
            "type": "scattergl"
           }
          ],
          "scattermapbox": [
           {
            "marker": {
             "colorbar": {
              "outlinewidth": 0,
              "ticks": ""
             }
            },
            "type": "scattermapbox"
           }
          ],
          "scatterpolar": [
           {
            "marker": {
             "colorbar": {
              "outlinewidth": 0,
              "ticks": ""
             }
            },
            "type": "scatterpolar"
           }
          ],
          "scatterpolargl": [
           {
            "marker": {
             "colorbar": {
              "outlinewidth": 0,
              "ticks": ""
             }
            },
            "type": "scatterpolargl"
           }
          ],
          "scatterternary": [
           {
            "marker": {
             "colorbar": {
              "outlinewidth": 0,
              "ticks": ""
             }
            },
            "type": "scatterternary"
           }
          ],
          "surface": [
           {
            "colorbar": {
             "outlinewidth": 0,
             "ticks": ""
            },
            "colorscale": [
             [
              0,
              "#0d0887"
             ],
             [
              0.1111111111111111,
              "#46039f"
             ],
             [
              0.2222222222222222,
              "#7201a8"
             ],
             [
              0.3333333333333333,
              "#9c179e"
             ],
             [
              0.4444444444444444,
              "#bd3786"
             ],
             [
              0.5555555555555556,
              "#d8576b"
             ],
             [
              0.6666666666666666,
              "#ed7953"
             ],
             [
              0.7777777777777778,
              "#fb9f3a"
             ],
             [
              0.8888888888888888,
              "#fdca26"
             ],
             [
              1,
              "#f0f921"
             ]
            ],
            "type": "surface"
           }
          ],
          "table": [
           {
            "cells": {
             "fill": {
              "color": "#EBF0F8"
             },
             "line": {
              "color": "white"
             }
            },
            "header": {
             "fill": {
              "color": "#C8D4E3"
             },
             "line": {
              "color": "white"
             }
            },
            "type": "table"
           }
          ]
         },
         "layout": {
          "annotationdefaults": {
           "arrowcolor": "#2a3f5f",
           "arrowhead": 0,
           "arrowwidth": 1
          },
          "coloraxis": {
           "colorbar": {
            "outlinewidth": 0,
            "ticks": ""
           }
          },
          "colorscale": {
           "diverging": [
            [
             0,
             "#8e0152"
            ],
            [
             0.1,
             "#c51b7d"
            ],
            [
             0.2,
             "#de77ae"
            ],
            [
             0.3,
             "#f1b6da"
            ],
            [
             0.4,
             "#fde0ef"
            ],
            [
             0.5,
             "#f7f7f7"
            ],
            [
             0.6,
             "#e6f5d0"
            ],
            [
             0.7,
             "#b8e186"
            ],
            [
             0.8,
             "#7fbc41"
            ],
            [
             0.9,
             "#4d9221"
            ],
            [
             1,
             "#276419"
            ]
           ],
           "sequential": [
            [
             0,
             "#0d0887"
            ],
            [
             0.1111111111111111,
             "#46039f"
            ],
            [
             0.2222222222222222,
             "#7201a8"
            ],
            [
             0.3333333333333333,
             "#9c179e"
            ],
            [
             0.4444444444444444,
             "#bd3786"
            ],
            [
             0.5555555555555556,
             "#d8576b"
            ],
            [
             0.6666666666666666,
             "#ed7953"
            ],
            [
             0.7777777777777778,
             "#fb9f3a"
            ],
            [
             0.8888888888888888,
             "#fdca26"
            ],
            [
             1,
             "#f0f921"
            ]
           ],
           "sequentialminus": [
            [
             0,
             "#0d0887"
            ],
            [
             0.1111111111111111,
             "#46039f"
            ],
            [
             0.2222222222222222,
             "#7201a8"
            ],
            [
             0.3333333333333333,
             "#9c179e"
            ],
            [
             0.4444444444444444,
             "#bd3786"
            ],
            [
             0.5555555555555556,
             "#d8576b"
            ],
            [
             0.6666666666666666,
             "#ed7953"
            ],
            [
             0.7777777777777778,
             "#fb9f3a"
            ],
            [
             0.8888888888888888,
             "#fdca26"
            ],
            [
             1,
             "#f0f921"
            ]
           ]
          },
          "colorway": [
           "#1f77b4",
           "#ff7f0e",
           "#2ca02c",
           "#d62728",
           "#9467bd",
           "#8c564b",
           "#e377c2",
           "#7f7f7f",
           "#bcbd22",
           "#17becf"
          ],
          "font": {
           "color": "#2a3f5f"
          },
          "geo": {
           "bgcolor": "white",
           "lakecolor": "white",
           "landcolor": "white",
           "showlakes": true,
           "showland": true,
           "subunitcolor": "#C8D4E3"
          },
          "hoverlabel": {
           "align": "left"
          },
          "hovermode": "closest",
          "mapbox": {
           "style": "light"
          },
          "paper_bgcolor": "white",
          "plot_bgcolor": "white",
          "polar": {
           "angularaxis": {
            "gridcolor": "#EBF0F8",
            "linecolor": "#EBF0F8",
            "ticks": ""
           },
           "bgcolor": "white",
           "radialaxis": {
            "gridcolor": "#EBF0F8",
            "linecolor": "#EBF0F8",
            "ticks": ""
           }
          },
          "scene": {
           "camera": {
            "center": {
             "x": 0,
             "y": 0,
             "z": 0
            },
            "eye": {
             "x": 2,
             "y": 2,
             "z": 2
            },
            "up": {
             "x": 0,
             "y": 0,
             "z": 1
            }
           },
           "xaxis": {
            "backgroundcolor": "white",
            "gridcolor": "#DFE8F3",
            "gridwidth": 2,
            "linecolor": "#EBF0F8",
            "showbackground": true,
            "showspikes": false,
            "ticks": "",
            "zerolinecolor": "#EBF0F8"
           },
           "yaxis": {
            "backgroundcolor": "white",
            "gridcolor": "#DFE8F3",
            "gridwidth": 2,
            "linecolor": "#EBF0F8",
            "showbackground": true,
            "showspikes": false,
            "ticks": "",
            "zerolinecolor": "#EBF0F8"
           },
           "zaxis": {
            "backgroundcolor": "white",
            "gridcolor": "#DFE8F3",
            "gridwidth": 2,
            "linecolor": "#EBF0F8",
            "showbackground": true,
            "showspikes": false,
            "ticks": "",
            "zerolinecolor": "#EBF0F8"
           }
          },
          "shapedefaults": {
           "line": {
            "color": "#2a3f5f"
           }
          },
          "ternary": {
           "aaxis": {
            "gridcolor": "#DFE8F3",
            "linecolor": "#A2B1C6",
            "ticks": ""
           },
           "baxis": {
            "gridcolor": "#DFE8F3",
            "linecolor": "#A2B1C6",
            "ticks": ""
           },
           "bgcolor": "white",
           "caxis": {
            "gridcolor": "#DFE8F3",
            "linecolor": "#A2B1C6",
            "ticks": ""
           }
          },
          "title": {
           "x": 0.05
          },
          "xaxis": {
           "automargin": true,
           "gridcolor": "#EBF0F8",
           "linecolor": "black",
           "linewidth": 2,
           "mirror": true,
           "showline": true,
           "ticks": "",
           "title": {
            "standoff": 15
           },
           "zeroline": false,
           "zerolinecolor": "#EBF0F8",
           "zerolinewidth": 2
          },
          "yaxis": {
           "automargin": true,
           "gridcolor": "#EBF0F8",
           "linecolor": "black",
           "linewidth": 2,
           "mirror": true,
           "showline": true,
           "ticks": "",
           "title": {
            "standoff": 15
           },
           "zeroline": false,
           "zerolinecolor": "#EBF0F8",
           "zerolinewidth": 2
          }
         }
        },
        "xaxis": {
         "exponentformat": "none",
         "range": [
          0,
          4000
         ],
         "title": {
          "text": "Rotor Speed (RPM)"
         }
        },
        "yaxis": {
         "range": [
          0,
          909.7828981170028
         ],
         "title": {
          "text": "Natural Frequencies (rad/s)"
         }
        }
       }
      }
     },
     "metadata": {},
     "output_type": "display_data"
    },
    {
     "name": "stdout",
     "output_type": "stream",
     "text": [
      "Normal Instantiation = [ 86.04146288  87.24209546 263.2823758  284.80108656 650.40786626\n",
      " 657.49926135]\n",
      "\n",
      "\n",
      "From Section Instantiation = [ 86.0425824   87.24327466 263.33602929 284.87335345 650.40919875\n",
      " 658.94283489]\n"
     ]
    }
   ],
   "source": [
    "# Obtaining results (wn is in rad/s)\n",
    "fig = rotor591c.run_campbell(np.linspace(0, 4000 * np.pi / 30, 50), frequencies=7).plot(\n",
    "    frequency_units=\"rad/s\"\n",
    ")\n",
    "fig.show()\n",
    "\n",
    "print(\"Normal Instantiation =\", rotor591c.run_modal(speed=2000 * np.pi / 30).wn)\n",
    "print(\"\\n\")\n",
    "print(\"From Section Instantiation =\", rotor591fs.run_modal(speed=2000 * np.pi / 30).wn)"
   ]
  },
  {
   "cell_type": "code",
   "execution_count": 5,
   "metadata": {
    "execution": {
     "iopub.execute_input": "2023-05-04T01:00:39.532520Z",
     "iopub.status.busy": "2023-05-04T01:00:39.532264Z",
     "iopub.status.idle": "2023-05-04T01:00:39.569842Z",
     "shell.execute_reply": "2023-05-04T01:00:39.569190Z"
    }
   },
   "outputs": [
    {
     "name": "stdout",
     "output_type": "stream",
     "text": [
      "Normal Instantiation = [ 85.389467    87.7958637  251.78460413 294.71333087 600.17936195\n",
      " 650.40786626 827.07536192]\n"
     ]
    }
   ],
   "source": [
    "# Obtaining modal results for w=4000RPM (wn is in rad/s)\n",
    "speed = 4000 * np.pi / 30\n",
    "modal591c = rotor591c.run_modal(speed, num_modes=14)\n",
    "\n",
    "print(\"Normal Instantiation =\", modal591c.wn)"
   ]
  },
  {
   "cell_type": "markdown",
   "metadata": {},
   "source": [
    "## References\n",
    "\n",
    "```{bibliography}\n",
    ":filter: docname in docnames\n",
    "```"
   ]
  }
 ],
 "metadata": {
  "kernelspec": {
   "display_name": "venv",
   "language": "python",
   "name": "python3"
  },
  "language_info": {
   "codemirror_mode": {
    "name": "ipython",
    "version": 3
   },
   "file_extension": ".py",
   "mimetype": "text/x-python",
   "name": "python",
   "nbconvert_exporter": "python",
   "pygments_lexer": "ipython3",
   "version": "3.10.12"
  }
 },
 "nbformat": 4,
 "nbformat_minor": 2
}
