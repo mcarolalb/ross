{
 "cells": [
  {
   "cell_type": "markdown",
   "metadata": {},
   "source": [
    "Example 6 - Isotropic bearings with damping.\n",
    "=====\n",
    "In this example, we use the rotor seen in Example 5.9.5 from {cite}`friswell2010dynamics`.\n",
    "\n",
    "The isotropic bearing Example 3 is repeated but with damping in the bearings. The, x and y directions are\n",
    "uncoupled, with a translational stiffness of 1 MN/m and a damping of 3 kNs/m\n",
    "in each direction."
   ]
  },
  {
   "cell_type": "code",
   "execution_count": 1,
   "metadata": {
    "execution": {
     "iopub.execute_input": "2023-05-04T01:00:40.711672Z",
     "iopub.status.busy": "2023-05-04T01:00:40.711376Z",
     "iopub.status.idle": "2023-05-04T01:00:41.645563Z",
     "shell.execute_reply": "2023-05-04T01:00:41.645073Z"
    }
   },
   "outputs": [],
   "source": [
    "import ross as rs\n",
    "import numpy as np\n",
    "import plotly.graph_objects as go\n",
    "\n",
    "# uncomment the lines below if you are having problems with plots not showing\n",
    "# import plotly.io as pio\n",
    "# pio.renderers.default = \"notebook\""
   ]
  },
  {
   "cell_type": "code",
   "execution_count": 2,
   "metadata": {
    "execution": {
     "iopub.execute_input": "2023-05-04T01:00:41.647899Z",
     "iopub.status.busy": "2023-05-04T01:00:41.647736Z",
     "iopub.status.idle": "2023-05-04T01:00:41.817318Z",
     "shell.execute_reply": "2023-05-04T01:00:41.816774Z"
    }
   },
   "outputs": [
    {
     "data": {
      "application/vnd.plotly.v1+json": {
       "config": {
        "plotlyServerURL": "https://plot.ly"
       },
       "data": [
        {
         "hoverinfo": "none",
         "line": {
          "color": "black",
          "dash": "dashdot",
          "width": 3
         },
         "mode": "lines",
         "opacity": 0.7,
         "showlegend": false,
         "type": "scatter",
         "x": [
          -0.30000000000000004,
          1.7999999999999998
         ],
         "y": [
          0,
          0
         ]
        },
        {
         "hoverinfo": "none",
         "marker": {
          "color": "#ffcc99",
          "line": {
           "color": "black",
           "width": 1
          },
          "opacity": 0.7,
          "size": 20
         },
         "mode": "markers+text",
         "showlegend": false,
         "text": [
          "0",
          "1",
          "2",
          "3",
          "4",
          "5",
          "6"
         ],
         "type": "scatter",
         "x": [
          0,
          0.25,
          0.5,
          0.75,
          1,
          1.25,
          1.5
         ],
         "y": [
          0,
          0,
          0,
          0,
          0,
          0,
          0
         ]
        },
        {
         "customdata": [
          [
           0,
           0.05,
           0,
           0.05,
           0,
           0.25,
           "Steel"
          ],
          [
           0,
           0.05,
           0,
           0.05,
           0,
           0.25,
           "Steel"
          ],
          [
           0,
           0.05,
           0,
           0.05,
           0,
           0.25,
           "Steel"
          ],
          [
           0,
           0.05,
           0,
           0.05,
           0,
           0.25,
           "Steel"
          ],
          [
           0,
           0.05,
           0,
           0.05,
           0,
           0.25,
           "Steel"
          ],
          [
           0,
           0.05,
           0,
           0.05,
           0,
           0.25,
           "Steel"
          ],
          [
           0,
           0.05,
           0,
           0.05,
           0,
           0.25,
           "Steel"
          ],
          [
           0,
           0.05,
           0,
           0.05,
           0,
           0.25,
           "Steel"
          ],
          [
           0,
           0.05,
           0,
           0.05,
           0,
           0.25,
           "Steel"
          ],
          [
           0,
           0.05,
           0,
           0.05,
           0,
           0.25,
           "Steel"
          ]
         ],
         "fill": "toself",
         "fillcolor": "#525252",
         "hoverinfo": "text",
         "hoverlabel": {
          "bgcolor": "#525252"
         },
         "hoveron": "points+fills",
         "hovertemplate": "Element Number: 0<br>Left Outer Diameter: 0.05 m<br>Left Inner Diameter: 0.0 m<br>Right Outer Diameter: 0.05 m<br>Right Inner Diameter: 0.0 m<br>Element Length: 0.25 m<br>Material: Steel<br>",
         "legendgroup": "Shaft",
         "line": {
          "color": "black",
          "width": 1.5
         },
         "mode": "lines",
         "name": "ShaftElement 0",
         "opacity": 0.5,
         "showlegend": false,
         "text": "Element Number: 0<br>Left Outer Diameter: 0.05 m<br>Left Inner Diameter: 0.0 m<br>Right Outer Diameter: 0.05 m<br>Right Inner Diameter: 0.0 m<br>Element Length: 0.25 m<br>Material: Steel<br>",
         "type": "scatter",
         "x": [
          0,
          0,
          0.25,
          0.25,
          0,
          0,
          0,
          0.25,
          0.25,
          0
         ],
         "y": [
          0,
          0.025,
          0.025,
          0,
          0,
          0,
          -0.025,
          -0.025,
          0,
          0
         ]
        },
        {
         "customdata": [
          [
           1,
           0.05,
           0,
           0.05,
           0,
           0.25,
           "Steel"
          ],
          [
           1,
           0.05,
           0,
           0.05,
           0,
           0.25,
           "Steel"
          ],
          [
           1,
           0.05,
           0,
           0.05,
           0,
           0.25,
           "Steel"
          ],
          [
           1,
           0.05,
           0,
           0.05,
           0,
           0.25,
           "Steel"
          ],
          [
           1,
           0.05,
           0,
           0.05,
           0,
           0.25,
           "Steel"
          ],
          [
           1,
           0.05,
           0,
           0.05,
           0,
           0.25,
           "Steel"
          ],
          [
           1,
           0.05,
           0,
           0.05,
           0,
           0.25,
           "Steel"
          ],
          [
           1,
           0.05,
           0,
           0.05,
           0,
           0.25,
           "Steel"
          ],
          [
           1,
           0.05,
           0,
           0.05,
           0,
           0.25,
           "Steel"
          ],
          [
           1,
           0.05,
           0,
           0.05,
           0,
           0.25,
           "Steel"
          ]
         ],
         "fill": "toself",
         "fillcolor": "#525252",
         "hoverinfo": "text",
         "hoverlabel": {
          "bgcolor": "#525252"
         },
         "hoveron": "points+fills",
         "hovertemplate": "Element Number: 1<br>Left Outer Diameter: 0.05 m<br>Left Inner Diameter: 0.0 m<br>Right Outer Diameter: 0.05 m<br>Right Inner Diameter: 0.0 m<br>Element Length: 0.25 m<br>Material: Steel<br>",
         "legendgroup": "Shaft",
         "line": {
          "color": "black",
          "width": 1.5
         },
         "mode": "lines",
         "name": "ShaftElement 1",
         "opacity": 0.5,
         "showlegend": false,
         "text": "Element Number: 1<br>Left Outer Diameter: 0.05 m<br>Left Inner Diameter: 0.0 m<br>Right Outer Diameter: 0.05 m<br>Right Inner Diameter: 0.0 m<br>Element Length: 0.25 m<br>Material: Steel<br>",
         "type": "scatter",
         "x": [
          0.25,
          0.25,
          0.5,
          0.5,
          0.25,
          0.25,
          0.25,
          0.5,
          0.5,
          0.25
         ],
         "y": [
          0,
          0.025,
          0.025,
          0,
          0,
          0,
          -0.025,
          -0.025,
          0,
          0
         ]
        },
        {
         "customdata": [
          [
           2,
           0.05,
           0,
           0.05,
           0,
           0.25,
           "Steel"
          ],
          [
           2,
           0.05,
           0,
           0.05,
           0,
           0.25,
           "Steel"
          ],
          [
           2,
           0.05,
           0,
           0.05,
           0,
           0.25,
           "Steel"
          ],
          [
           2,
           0.05,
           0,
           0.05,
           0,
           0.25,
           "Steel"
          ],
          [
           2,
           0.05,
           0,
           0.05,
           0,
           0.25,
           "Steel"
          ],
          [
           2,
           0.05,
           0,
           0.05,
           0,
           0.25,
           "Steel"
          ],
          [
           2,
           0.05,
           0,
           0.05,
           0,
           0.25,
           "Steel"
          ],
          [
           2,
           0.05,
           0,
           0.05,
           0,
           0.25,
           "Steel"
          ],
          [
           2,
           0.05,
           0,
           0.05,
           0,
           0.25,
           "Steel"
          ],
          [
           2,
           0.05,
           0,
           0.05,
           0,
           0.25,
           "Steel"
          ]
         ],
         "fill": "toself",
         "fillcolor": "#525252",
         "hoverinfo": "text",
         "hoverlabel": {
          "bgcolor": "#525252"
         },
         "hoveron": "points+fills",
         "hovertemplate": "Element Number: 2<br>Left Outer Diameter: 0.05 m<br>Left Inner Diameter: 0.0 m<br>Right Outer Diameter: 0.05 m<br>Right Inner Diameter: 0.0 m<br>Element Length: 0.25 m<br>Material: Steel<br>",
         "legendgroup": "Shaft",
         "line": {
          "color": "black",
          "width": 1.5
         },
         "mode": "lines",
         "name": "ShaftElement 2",
         "opacity": 0.5,
         "showlegend": false,
         "text": "Element Number: 2<br>Left Outer Diameter: 0.05 m<br>Left Inner Diameter: 0.0 m<br>Right Outer Diameter: 0.05 m<br>Right Inner Diameter: 0.0 m<br>Element Length: 0.25 m<br>Material: Steel<br>",
         "type": "scatter",
         "x": [
          0.5,
          0.5,
          0.75,
          0.75,
          0.5,
          0.5,
          0.5,
          0.75,
          0.75,
          0.5
         ],
         "y": [
          0,
          0.025,
          0.025,
          0,
          0,
          0,
          -0.025,
          -0.025,
          0,
          0
         ]
        },
        {
         "customdata": [
          [
           3,
           0.05,
           0,
           0.05,
           0,
           0.25,
           "Steel"
          ],
          [
           3,
           0.05,
           0,
           0.05,
           0,
           0.25,
           "Steel"
          ],
          [
           3,
           0.05,
           0,
           0.05,
           0,
           0.25,
           "Steel"
          ],
          [
           3,
           0.05,
           0,
           0.05,
           0,
           0.25,
           "Steel"
          ],
          [
           3,
           0.05,
           0,
           0.05,
           0,
           0.25,
           "Steel"
          ],
          [
           3,
           0.05,
           0,
           0.05,
           0,
           0.25,
           "Steel"
          ],
          [
           3,
           0.05,
           0,
           0.05,
           0,
           0.25,
           "Steel"
          ],
          [
           3,
           0.05,
           0,
           0.05,
           0,
           0.25,
           "Steel"
          ],
          [
           3,
           0.05,
           0,
           0.05,
           0,
           0.25,
           "Steel"
          ],
          [
           3,
           0.05,
           0,
           0.05,
           0,
           0.25,
           "Steel"
          ]
         ],
         "fill": "toself",
         "fillcolor": "#525252",
         "hoverinfo": "text",
         "hoverlabel": {
          "bgcolor": "#525252"
         },
         "hoveron": "points+fills",
         "hovertemplate": "Element Number: 3<br>Left Outer Diameter: 0.05 m<br>Left Inner Diameter: 0.0 m<br>Right Outer Diameter: 0.05 m<br>Right Inner Diameter: 0.0 m<br>Element Length: 0.25 m<br>Material: Steel<br>",
         "legendgroup": "Shaft",
         "line": {
          "color": "black",
          "width": 1.5
         },
         "mode": "lines",
         "name": "ShaftElement 3",
         "opacity": 0.5,
         "showlegend": false,
         "text": "Element Number: 3<br>Left Outer Diameter: 0.05 m<br>Left Inner Diameter: 0.0 m<br>Right Outer Diameter: 0.05 m<br>Right Inner Diameter: 0.0 m<br>Element Length: 0.25 m<br>Material: Steel<br>",
         "type": "scatter",
         "x": [
          0.75,
          0.75,
          1,
          1,
          0.75,
          0.75,
          0.75,
          1,
          1,
          0.75
         ],
         "y": [
          0,
          0.025,
          0.025,
          0,
          0,
          0,
          -0.025,
          -0.025,
          0,
          0
         ]
        },
        {
         "customdata": [
          [
           4,
           0.05,
           0,
           0.05,
           0,
           0.25,
           "Steel"
          ],
          [
           4,
           0.05,
           0,
           0.05,
           0,
           0.25,
           "Steel"
          ],
          [
           4,
           0.05,
           0,
           0.05,
           0,
           0.25,
           "Steel"
          ],
          [
           4,
           0.05,
           0,
           0.05,
           0,
           0.25,
           "Steel"
          ],
          [
           4,
           0.05,
           0,
           0.05,
           0,
           0.25,
           "Steel"
          ],
          [
           4,
           0.05,
           0,
           0.05,
           0,
           0.25,
           "Steel"
          ],
          [
           4,
           0.05,
           0,
           0.05,
           0,
           0.25,
           "Steel"
          ],
          [
           4,
           0.05,
           0,
           0.05,
           0,
           0.25,
           "Steel"
          ],
          [
           4,
           0.05,
           0,
           0.05,
           0,
           0.25,
           "Steel"
          ],
          [
           4,
           0.05,
           0,
           0.05,
           0,
           0.25,
           "Steel"
          ]
         ],
         "fill": "toself",
         "fillcolor": "#525252",
         "hoverinfo": "text",
         "hoverlabel": {
          "bgcolor": "#525252"
         },
         "hoveron": "points+fills",
         "hovertemplate": "Element Number: 4<br>Left Outer Diameter: 0.05 m<br>Left Inner Diameter: 0.0 m<br>Right Outer Diameter: 0.05 m<br>Right Inner Diameter: 0.0 m<br>Element Length: 0.25 m<br>Material: Steel<br>",
         "legendgroup": "Shaft",
         "line": {
          "color": "black",
          "width": 1.5
         },
         "mode": "lines",
         "name": "ShaftElement 4",
         "opacity": 0.5,
         "showlegend": false,
         "text": "Element Number: 4<br>Left Outer Diameter: 0.05 m<br>Left Inner Diameter: 0.0 m<br>Right Outer Diameter: 0.05 m<br>Right Inner Diameter: 0.0 m<br>Element Length: 0.25 m<br>Material: Steel<br>",
         "type": "scatter",
         "x": [
          1,
          1,
          1.25,
          1.25,
          1,
          1,
          1,
          1.25,
          1.25,
          1
         ],
         "y": [
          0,
          0.025,
          0.025,
          0,
          0,
          0,
          -0.025,
          -0.025,
          0,
          0
         ]
        },
        {
         "customdata": [
          [
           5,
           0.05,
           0,
           0.05,
           0,
           0.25,
           "Steel"
          ],
          [
           5,
           0.05,
           0,
           0.05,
           0,
           0.25,
           "Steel"
          ],
          [
           5,
           0.05,
           0,
           0.05,
           0,
           0.25,
           "Steel"
          ],
          [
           5,
           0.05,
           0,
           0.05,
           0,
           0.25,
           "Steel"
          ],
          [
           5,
           0.05,
           0,
           0.05,
           0,
           0.25,
           "Steel"
          ],
          [
           5,
           0.05,
           0,
           0.05,
           0,
           0.25,
           "Steel"
          ],
          [
           5,
           0.05,
           0,
           0.05,
           0,
           0.25,
           "Steel"
          ],
          [
           5,
           0.05,
           0,
           0.05,
           0,
           0.25,
           "Steel"
          ],
          [
           5,
           0.05,
           0,
           0.05,
           0,
           0.25,
           "Steel"
          ],
          [
           5,
           0.05,
           0,
           0.05,
           0,
           0.25,
           "Steel"
          ]
         ],
         "fill": "toself",
         "fillcolor": "#525252",
         "hoverinfo": "text",
         "hoverlabel": {
          "bgcolor": "#525252"
         },
         "hoveron": "points+fills",
         "hovertemplate": "Element Number: 5<br>Left Outer Diameter: 0.05 m<br>Left Inner Diameter: 0.0 m<br>Right Outer Diameter: 0.05 m<br>Right Inner Diameter: 0.0 m<br>Element Length: 0.25 m<br>Material: Steel<br>",
         "legendgroup": "Shaft",
         "line": {
          "color": "black",
          "width": 1.5
         },
         "mode": "lines",
         "name": "ShaftElement 5",
         "opacity": 0.5,
         "showlegend": false,
         "text": "Element Number: 5<br>Left Outer Diameter: 0.05 m<br>Left Inner Diameter: 0.0 m<br>Right Outer Diameter: 0.05 m<br>Right Inner Diameter: 0.0 m<br>Element Length: 0.25 m<br>Material: Steel<br>",
         "type": "scatter",
         "x": [
          1.25,
          1.25,
          1.5,
          1.5,
          1.25,
          1.25,
          1.25,
          1.5,
          1.5,
          1.25
         ],
         "y": [
          0,
          0.025,
          0.025,
          0,
          0,
          0,
          -0.025,
          -0.025,
          0,
          0
         ]
        },
        {
         "customdata": [
          [
           2,
           0.32956362089137037,
           0.17808928257067666,
           32.58972765304033
          ],
          [
           2,
           0.32956362089137037,
           0.17808928257067666,
           32.58972765304033
          ],
          [
           2,
           0.32956362089137037,
           0.17808928257067666,
           32.58972765304033
          ],
          [
           2,
           0.32956362089137037,
           0.17808928257067666,
           32.58972765304033
          ],
          [
           2,
           0.32956362089137037,
           0.17808928257067666,
           32.58972765304033
          ],
          [
           2,
           0.32956362089137037,
           0.17808928257067666,
           32.58972765304033
          ],
          [
           2,
           0.32956362089137037,
           0.17808928257067666,
           32.58972765304033
          ],
          [
           2,
           0.32956362089137037,
           0.17808928257067666,
           32.58972765304033
          ],
          [
           2,
           0.32956362089137037,
           0.17808928257067666,
           32.58972765304033
          ]
         ],
         "fill": "toself",
         "fillcolor": "Firebrick",
         "hoverinfo": "text",
         "hoverlabel": {
          "bgcolor": "Firebrick"
         },
         "hoveron": "points+fills",
         "hovertemplate": "Disk Node: 2<br>Polar Inertia: 3.296e-01<br>Diametral Inertia: 1.781e-01<br>Disk mass: 32.590<br>",
         "legendgroup": "disks",
         "line": {
          "color": "Firebrick",
          "width": 2
         },
         "mode": "lines",
         "name": "Disk 0",
         "opacity": 0.8,
         "showlegend": false,
         "text": "Disk Node: 2<br>Polar Inertia: 3.296e-01<br>Diametral Inertia: 1.781e-01<br>Disk mass: 32.590<br>",
         "type": "scatter",
         "x": [
          0.5,
          0.502,
          0.498,
          0.5,
          null,
          0.5,
          0.502,
          0.498,
          0.5
         ],
         "y": [
          0.025,
          0.125,
          0.125,
          0.025,
          null,
          -0.025,
          -0.125,
          -0.125,
          -0.025
         ]
        },
        {
         "customdata": [
          [
           4,
           0.8050822048675967,
           0.42358058405433824,
           51.5252611115262
          ],
          [
           4,
           0.8050822048675967,
           0.42358058405433824,
           51.5252611115262
          ],
          [
           4,
           0.8050822048675967,
           0.42358058405433824,
           51.5252611115262
          ],
          [
           4,
           0.8050822048675967,
           0.42358058405433824,
           51.5252611115262
          ],
          [
           4,
           0.8050822048675967,
           0.42358058405433824,
           51.5252611115262
          ],
          [
           4,
           0.8050822048675967,
           0.42358058405433824,
           51.5252611115262
          ],
          [
           4,
           0.8050822048675967,
           0.42358058405433824,
           51.5252611115262
          ],
          [
           4,
           0.8050822048675967,
           0.42358058405433824,
           51.5252611115262
          ],
          [
           4,
           0.8050822048675967,
           0.42358058405433824,
           51.5252611115262
          ]
         ],
         "fill": "toself",
         "fillcolor": "Firebrick",
         "hoverinfo": "text",
         "hoverlabel": {
          "bgcolor": "Firebrick"
         },
         "hoveron": "points+fills",
         "hovertemplate": "Disk Node: 4<br>Polar Inertia: 8.051e-01<br>Diametral Inertia: 4.236e-01<br>Disk mass: 51.525<br>",
         "legendgroup": "disks",
         "line": {
          "color": "Firebrick",
          "width": 2
         },
         "mode": "lines",
         "name": "Disk 1",
         "opacity": 0.8,
         "showlegend": false,
         "text": "Disk Node: 4<br>Polar Inertia: 8.051e-01<br>Diametral Inertia: 4.236e-01<br>Disk mass: 51.525<br>",
         "type": "scatter",
         "x": [
          1,
          1.002,
          0.998,
          1,
          null,
          1,
          1.002,
          0.998,
          1
         ],
         "y": [
          0.025,
          0.125,
          0.125,
          0.025,
          null,
          -0.025,
          -0.125,
          -0.125,
          -0.025
         ]
        },
        {
         "hoverinfo": "none",
         "legendgroup": "bearings",
         "line": {
          "color": "#355d7a",
          "width": 1
         },
         "mode": "lines",
         "name": "Bearing 0",
         "showlegend": false,
         "type": "scatter",
         "x": [
          0,
          0,
          -0.007142857142857143,
          0.007142857142857143
         ],
         "y": [
          0.025,
          0.0375,
          0.0375,
          0.0375
         ]
        },
        {
         "hoverinfo": "none",
         "legendgroup": "bearings",
         "line": {
          "color": "#355d7a",
          "width": 1
         },
         "mode": "lines",
         "name": "Bearing 0",
         "showlegend": false,
         "type": "scatter",
         "x": [
          0,
          0,
          -0.007142857142857143,
          0.007142857142857143
         ],
         "y": [
          -0.025,
          -0.0375,
          -0.0375,
          -0.0375
         ]
        },
        {
         "hoverinfo": "none",
         "legendgroup": "bearings",
         "line": {
          "color": "#355d7a",
          "width": 1
         },
         "mode": "lines",
         "name": "Bearing 0",
         "showlegend": false,
         "type": "scatter",
         "x": [
          0,
          0,
          -0.007142857142857143,
          0.007142857142857143
         ],
         "y": [
          0.075,
          0.0625,
          0.0625,
          0.0625
         ]
        },
        {
         "hoverinfo": "none",
         "legendgroup": "bearings",
         "line": {
          "color": "#355d7a",
          "width": 1
         },
         "mode": "lines",
         "name": "Bearing 0",
         "showlegend": false,
         "type": "scatter",
         "x": [
          0,
          0,
          -0.007142857142857143,
          0.007142857142857143
         ],
         "y": [
          -0.075,
          -0.0625,
          -0.0625,
          -0.0625
         ]
        },
        {
         "hoverinfo": "none",
         "legendgroup": "bearings",
         "line": {
          "color": "#355d7a",
          "width": 1
         },
         "mode": "lines",
         "name": "Bearing 0",
         "showlegend": false,
         "type": "scatter",
         "x": [
          -0.010714285714285714,
          0.010714285714285714
         ],
         "y": [
          0.075,
          0.075
         ]
        },
        {
         "hoverinfo": "none",
         "legendgroup": "bearings",
         "line": {
          "color": "#355d7a",
          "width": 1
         },
         "mode": "lines",
         "name": "Bearing 0",
         "showlegend": false,
         "type": "scatter",
         "x": [
          -0.010714285714285714,
          0.010714285714285714
         ],
         "y": [
          -0.075,
          -0.075
         ]
        },
        {
         "hoverinfo": "none",
         "legendgroup": "bearings",
         "line": {
          "color": "#355d7a",
          "width": 1
         },
         "mode": "lines",
         "name": "Bearing 0",
         "showlegend": false,
         "type": "scatter",
         "x": [
          -0.010714285714285714,
          -0.0064285714285714285
         ],
         "y": [
          0.075,
          0.0825
         ]
        },
        {
         "hoverinfo": "none",
         "legendgroup": "bearings",
         "line": {
          "color": "#355d7a",
          "width": 1
         },
         "mode": "lines",
         "name": "Bearing 0",
         "showlegend": false,
         "type": "scatter",
         "x": [
          -0.010714285714285714,
          -0.0064285714285714285
         ],
         "y": [
          -0.075,
          -0.0825
         ]
        },
        {
         "hoverinfo": "none",
         "legendgroup": "bearings",
         "line": {
          "color": "#355d7a",
          "width": 1
         },
         "mode": "lines",
         "name": "Bearing 0",
         "showlegend": false,
         "type": "scatter",
         "x": [
          -0.0064285714285714285,
          -0.0021428571428571425
         ],
         "y": [
          0.075,
          0.0825
         ]
        },
        {
         "hoverinfo": "none",
         "legendgroup": "bearings",
         "line": {
          "color": "#355d7a",
          "width": 1
         },
         "mode": "lines",
         "name": "Bearing 0",
         "showlegend": false,
         "type": "scatter",
         "x": [
          -0.0064285714285714285,
          -0.0021428571428571425
         ],
         "y": [
          -0.075,
          -0.0825
         ]
        },
        {
         "hoverinfo": "none",
         "legendgroup": "bearings",
         "line": {
          "color": "#355d7a",
          "width": 1
         },
         "mode": "lines",
         "name": "Bearing 0",
         "showlegend": false,
         "type": "scatter",
         "x": [
          -0.0021428571428571425,
          0.0021428571428571443
         ],
         "y": [
          0.075,
          0.0825
         ]
        },
        {
         "hoverinfo": "none",
         "legendgroup": "bearings",
         "line": {
          "color": "#355d7a",
          "width": 1
         },
         "mode": "lines",
         "name": "Bearing 0",
         "showlegend": false,
         "type": "scatter",
         "x": [
          -0.0021428571428571425,
          0.0021428571428571443
         ],
         "y": [
          -0.075,
          -0.0825
         ]
        },
        {
         "hoverinfo": "none",
         "legendgroup": "bearings",
         "line": {
          "color": "#355d7a",
          "width": 1
         },
         "mode": "lines",
         "name": "Bearing 0",
         "showlegend": false,
         "type": "scatter",
         "x": [
          0.0021428571428571443,
          0.006428571428571429
         ],
         "y": [
          0.075,
          0.0825
         ]
        },
        {
         "hoverinfo": "none",
         "legendgroup": "bearings",
         "line": {
          "color": "#355d7a",
          "width": 1
         },
         "mode": "lines",
         "name": "Bearing 0",
         "showlegend": false,
         "type": "scatter",
         "x": [
          0.0021428571428571443,
          0.006428571428571429
         ],
         "y": [
          -0.075,
          -0.0825
         ]
        },
        {
         "hoverinfo": "none",
         "legendgroup": "bearings",
         "line": {
          "color": "#355d7a",
          "width": 1
         },
         "mode": "lines",
         "name": "Bearing 0",
         "showlegend": false,
         "type": "scatter",
         "x": [
          0.006428571428571429,
          0.010714285714285714
         ],
         "y": [
          0.075,
          0.0825
         ]
        },
        {
         "hoverinfo": "none",
         "legendgroup": "bearings",
         "line": {
          "color": "#355d7a",
          "width": 1
         },
         "mode": "lines",
         "name": "Bearing 0",
         "showlegend": false,
         "type": "scatter",
         "x": [
          0.006428571428571429,
          0.010714285714285714
         ],
         "y": [
          -0.075,
          -0.0825
         ]
        },
        {
         "hoverinfo": "none",
         "legendgroup": "bearings",
         "line": {
          "color": "#355d7a",
          "width": 1
         },
         "mode": "lines",
         "name": "Bearing 0",
         "showlegend": false,
         "type": "scatter",
         "x": [
          0.010714285714285714,
          0.015000000000000003
         ],
         "y": [
          0.075,
          0.0825
         ]
        },
        {
         "hoverinfo": "none",
         "legendgroup": "bearings",
         "line": {
          "color": "#355d7a",
          "width": 1
         },
         "mode": "lines",
         "name": "Bearing 0",
         "showlegend": false,
         "type": "scatter",
         "x": [
          0.010714285714285714,
          0.015000000000000003
         ],
         "y": [
          -0.075,
          -0.0825
         ]
        },
        {
         "hoverinfo": "none",
         "legendgroup": "bearings",
         "line": {
          "color": "#355d7a",
          "width": 1
         },
         "mode": "lines",
         "name": "Bearing 0",
         "showlegend": false,
         "type": "scatter",
         "x": [
          -0.007142857142857143,
          -0.007142857142857143,
          -0.010714285714285714,
          -0.0035714285714285713,
          -0.010714285714285714,
          -0.0035714285714285713,
          -0.010714285714285714,
          -0.0035714285714285713,
          -0.007142857142857143,
          -0.007142857142857143
         ],
         "y": [
          0.0375,
          0.04107142857142857,
          0.04107142857142857,
          0.044642857142857144,
          0.04821428571428571,
          0.05178571428571428,
          0.055357142857142855,
          0.05892857142857143,
          0.05892857142857143,
          0.0625
         ]
        },
        {
         "hoverinfo": "none",
         "legendgroup": "bearings",
         "line": {
          "color": "#355d7a",
          "width": 1
         },
         "mode": "lines",
         "name": "Bearing 0",
         "showlegend": false,
         "type": "scatter",
         "x": [
          -0.007142857142857143,
          -0.007142857142857143,
          -0.010714285714285714,
          -0.0035714285714285713,
          -0.010714285714285714,
          -0.0035714285714285713,
          -0.010714285714285714,
          -0.0035714285714285713,
          -0.007142857142857143,
          -0.007142857142857143
         ],
         "y": [
          -0.0375,
          -0.04107142857142857,
          -0.04107142857142857,
          -0.044642857142857144,
          -0.04821428571428571,
          -0.05178571428571428,
          -0.055357142857142855,
          -0.05892857142857143,
          -0.05892857142857143,
          -0.0625
         ]
        },
        {
         "hoverinfo": "none",
         "legendgroup": "bearings",
         "line": {
          "color": "#355d7a",
          "width": 1
         },
         "mode": "lines",
         "name": "Bearing 0",
         "showlegend": false,
         "type": "scatter",
         "x": [
          0.007142857142857143,
          0.007142857142857143
         ],
         "y": [
          0.0375,
          0.044642857142857144
         ]
        },
        {
         "hoverinfo": "none",
         "legendgroup": "bearings",
         "line": {
          "color": "#355d7a",
          "width": 1
         },
         "mode": "lines",
         "name": "Bearing 0",
         "showlegend": false,
         "type": "scatter",
         "x": [
          0.007142857142857143,
          0.007142857142857143
         ],
         "y": [
          -0.0375,
          -0.044642857142857144
         ]
        },
        {
         "hoverinfo": "none",
         "legendgroup": "bearings",
         "line": {
          "color": "#355d7a",
          "width": 1
         },
         "mode": "lines",
         "name": "Bearing 0",
         "showlegend": false,
         "type": "scatter",
         "x": [
          0,
          0,
          0.014285714285714285,
          0.014285714285714285
         ],
         "y": [
          0.055357142857142855,
          0.044642857142857144,
          0.044642857142857144,
          0.055357142857142855
         ]
        },
        {
         "hoverinfo": "none",
         "legendgroup": "bearings",
         "line": {
          "color": "#355d7a",
          "width": 1
         },
         "mode": "lines",
         "name": "Bearing 0",
         "showlegend": false,
         "type": "scatter",
         "x": [
          0,
          0,
          0.014285714285714285,
          0.014285714285714285
         ],
         "y": [
          -0.055357142857142855,
          -0.044642857142857144,
          -0.044642857142857144,
          -0.055357142857142855
         ]
        },
        {
         "hoverinfo": "none",
         "legendgroup": "bearings",
         "line": {
          "color": "#355d7a",
          "width": 1
         },
         "mode": "lines",
         "name": "Bearing 0",
         "showlegend": false,
         "type": "scatter",
         "x": [
          0,
          0.014285714285714285,
          0.007142857142857143,
          0.007142857142857143
         ],
         "y": [
          0.05178571428571428,
          0.05178571428571428,
          0.05178571428571428,
          0.0625
         ]
        },
        {
         "hoverinfo": "none",
         "legendgroup": "bearings",
         "line": {
          "color": "#355d7a",
          "width": 1
         },
         "mode": "lines",
         "name": "Bearing 0",
         "showlegend": false,
         "type": "scatter",
         "x": [
          0,
          0.014285714285714285,
          0.007142857142857143,
          0.007142857142857143
         ],
         "y": [
          -0.05178571428571428,
          -0.05178571428571428,
          -0.05178571428571428,
          -0.0625
         ]
        },
        {
         "hoverinfo": "none",
         "legendgroup": "bearings",
         "line": {
          "color": "#355d7a",
          "width": 1
         },
         "mode": "lines",
         "name": "Bearing 1",
         "showlegend": false,
         "type": "scatter",
         "x": [
          1.5,
          1.5,
          1.4928571428571429,
          1.5071428571428571
         ],
         "y": [
          0.025,
          0.0375,
          0.0375,
          0.0375
         ]
        },
        {
         "hoverinfo": "none",
         "legendgroup": "bearings",
         "line": {
          "color": "#355d7a",
          "width": 1
         },
         "mode": "lines",
         "name": "Bearing 1",
         "showlegend": false,
         "type": "scatter",
         "x": [
          1.5,
          1.5,
          1.4928571428571429,
          1.5071428571428571
         ],
         "y": [
          -0.025,
          -0.0375,
          -0.0375,
          -0.0375
         ]
        },
        {
         "hoverinfo": "none",
         "legendgroup": "bearings",
         "line": {
          "color": "#355d7a",
          "width": 1
         },
         "mode": "lines",
         "name": "Bearing 1",
         "showlegend": false,
         "type": "scatter",
         "x": [
          1.5,
          1.5,
          1.4928571428571429,
          1.5071428571428571
         ],
         "y": [
          0.075,
          0.0625,
          0.0625,
          0.0625
         ]
        },
        {
         "hoverinfo": "none",
         "legendgroup": "bearings",
         "line": {
          "color": "#355d7a",
          "width": 1
         },
         "mode": "lines",
         "name": "Bearing 1",
         "showlegend": false,
         "type": "scatter",
         "x": [
          1.5,
          1.5,
          1.4928571428571429,
          1.5071428571428571
         ],
         "y": [
          -0.075,
          -0.0625,
          -0.0625,
          -0.0625
         ]
        },
        {
         "hoverinfo": "none",
         "legendgroup": "bearings",
         "line": {
          "color": "#355d7a",
          "width": 1
         },
         "mode": "lines",
         "name": "Bearing 1",
         "showlegend": false,
         "type": "scatter",
         "x": [
          1.4892857142857143,
          1.5107142857142857
         ],
         "y": [
          0.075,
          0.075
         ]
        },
        {
         "hoverinfo": "none",
         "legendgroup": "bearings",
         "line": {
          "color": "#355d7a",
          "width": 1
         },
         "mode": "lines",
         "name": "Bearing 1",
         "showlegend": false,
         "type": "scatter",
         "x": [
          1.4892857142857143,
          1.5107142857142857
         ],
         "y": [
          -0.075,
          -0.075
         ]
        },
        {
         "hoverinfo": "none",
         "legendgroup": "bearings",
         "line": {
          "color": "#355d7a",
          "width": 1
         },
         "mode": "lines",
         "name": "Bearing 1",
         "showlegend": false,
         "type": "scatter",
         "x": [
          1.4892857142857143,
          1.4935714285714285
         ],
         "y": [
          0.075,
          0.0825
         ]
        },
        {
         "hoverinfo": "none",
         "legendgroup": "bearings",
         "line": {
          "color": "#355d7a",
          "width": 1
         },
         "mode": "lines",
         "name": "Bearing 1",
         "showlegend": false,
         "type": "scatter",
         "x": [
          1.4892857142857143,
          1.4935714285714285
         ],
         "y": [
          -0.075,
          -0.0825
         ]
        },
        {
         "hoverinfo": "none",
         "legendgroup": "bearings",
         "line": {
          "color": "#355d7a",
          "width": 1
         },
         "mode": "lines",
         "name": "Bearing 1",
         "showlegend": false,
         "type": "scatter",
         "x": [
          1.4935714285714285,
          1.4978571428571428
         ],
         "y": [
          0.075,
          0.0825
         ]
        },
        {
         "hoverinfo": "none",
         "legendgroup": "bearings",
         "line": {
          "color": "#355d7a",
          "width": 1
         },
         "mode": "lines",
         "name": "Bearing 1",
         "showlegend": false,
         "type": "scatter",
         "x": [
          1.4935714285714285,
          1.4978571428571428
         ],
         "y": [
          -0.075,
          -0.0825
         ]
        },
        {
         "hoverinfo": "none",
         "legendgroup": "bearings",
         "line": {
          "color": "#355d7a",
          "width": 1
         },
         "mode": "lines",
         "name": "Bearing 1",
         "showlegend": false,
         "type": "scatter",
         "x": [
          1.4978571428571428,
          1.5021428571428572
         ],
         "y": [
          0.075,
          0.0825
         ]
        },
        {
         "hoverinfo": "none",
         "legendgroup": "bearings",
         "line": {
          "color": "#355d7a",
          "width": 1
         },
         "mode": "lines",
         "name": "Bearing 1",
         "showlegend": false,
         "type": "scatter",
         "x": [
          1.4978571428571428,
          1.5021428571428572
         ],
         "y": [
          -0.075,
          -0.0825
         ]
        },
        {
         "hoverinfo": "none",
         "legendgroup": "bearings",
         "line": {
          "color": "#355d7a",
          "width": 1
         },
         "mode": "lines",
         "name": "Bearing 1",
         "showlegend": false,
         "type": "scatter",
         "x": [
          1.5021428571428572,
          1.5064285714285715
         ],
         "y": [
          0.075,
          0.0825
         ]
        },
        {
         "hoverinfo": "none",
         "legendgroup": "bearings",
         "line": {
          "color": "#355d7a",
          "width": 1
         },
         "mode": "lines",
         "name": "Bearing 1",
         "showlegend": false,
         "type": "scatter",
         "x": [
          1.5021428571428572,
          1.5064285714285715
         ],
         "y": [
          -0.075,
          -0.0825
         ]
        },
        {
         "hoverinfo": "none",
         "legendgroup": "bearings",
         "line": {
          "color": "#355d7a",
          "width": 1
         },
         "mode": "lines",
         "name": "Bearing 1",
         "showlegend": false,
         "type": "scatter",
         "x": [
          1.5064285714285715,
          1.5107142857142857
         ],
         "y": [
          0.075,
          0.0825
         ]
        },
        {
         "hoverinfo": "none",
         "legendgroup": "bearings",
         "line": {
          "color": "#355d7a",
          "width": 1
         },
         "mode": "lines",
         "name": "Bearing 1",
         "showlegend": false,
         "type": "scatter",
         "x": [
          1.5064285714285715,
          1.5107142857142857
         ],
         "y": [
          -0.075,
          -0.0825
         ]
        },
        {
         "hoverinfo": "none",
         "legendgroup": "bearings",
         "line": {
          "color": "#355d7a",
          "width": 1
         },
         "mode": "lines",
         "name": "Bearing 1",
         "showlegend": false,
         "type": "scatter",
         "x": [
          1.5107142857142857,
          1.515
         ],
         "y": [
          0.075,
          0.0825
         ]
        },
        {
         "hoverinfo": "none",
         "legendgroup": "bearings",
         "line": {
          "color": "#355d7a",
          "width": 1
         },
         "mode": "lines",
         "name": "Bearing 1",
         "showlegend": false,
         "type": "scatter",
         "x": [
          1.5107142857142857,
          1.515
         ],
         "y": [
          -0.075,
          -0.0825
         ]
        },
        {
         "hoverinfo": "none",
         "legendgroup": "bearings",
         "line": {
          "color": "#355d7a",
          "width": 1
         },
         "mode": "lines",
         "name": "Bearing 1",
         "showlegend": false,
         "type": "scatter",
         "x": [
          1.4928571428571429,
          1.4928571428571429,
          1.4892857142857143,
          1.4964285714285714,
          1.4892857142857143,
          1.4964285714285714,
          1.4892857142857143,
          1.4964285714285714,
          1.4928571428571429,
          1.4928571428571429
         ],
         "y": [
          0.0375,
          0.04107142857142857,
          0.04107142857142857,
          0.044642857142857144,
          0.04821428571428571,
          0.05178571428571428,
          0.055357142857142855,
          0.05892857142857143,
          0.05892857142857143,
          0.0625
         ]
        },
        {
         "hoverinfo": "none",
         "legendgroup": "bearings",
         "line": {
          "color": "#355d7a",
          "width": 1
         },
         "mode": "lines",
         "name": "Bearing 1",
         "showlegend": false,
         "type": "scatter",
         "x": [
          1.4928571428571429,
          1.4928571428571429,
          1.4892857142857143,
          1.4964285714285714,
          1.4892857142857143,
          1.4964285714285714,
          1.4892857142857143,
          1.4964285714285714,
          1.4928571428571429,
          1.4928571428571429
         ],
         "y": [
          -0.0375,
          -0.04107142857142857,
          -0.04107142857142857,
          -0.044642857142857144,
          -0.04821428571428571,
          -0.05178571428571428,
          -0.055357142857142855,
          -0.05892857142857143,
          -0.05892857142857143,
          -0.0625
         ]
        },
        {
         "hoverinfo": "none",
         "legendgroup": "bearings",
         "line": {
          "color": "#355d7a",
          "width": 1
         },
         "mode": "lines",
         "name": "Bearing 1",
         "showlegend": false,
         "type": "scatter",
         "x": [
          1.5071428571428571,
          1.5071428571428571
         ],
         "y": [
          0.0375,
          0.044642857142857144
         ]
        },
        {
         "hoverinfo": "none",
         "legendgroup": "bearings",
         "line": {
          "color": "#355d7a",
          "width": 1
         },
         "mode": "lines",
         "name": "Bearing 1",
         "showlegend": false,
         "type": "scatter",
         "x": [
          1.5071428571428571,
          1.5071428571428571
         ],
         "y": [
          -0.0375,
          -0.044642857142857144
         ]
        },
        {
         "hoverinfo": "none",
         "legendgroup": "bearings",
         "line": {
          "color": "#355d7a",
          "width": 1
         },
         "mode": "lines",
         "name": "Bearing 1",
         "showlegend": false,
         "type": "scatter",
         "x": [
          1.5,
          1.5,
          1.5142857142857142,
          1.5142857142857142
         ],
         "y": [
          0.055357142857142855,
          0.044642857142857144,
          0.044642857142857144,
          0.055357142857142855
         ]
        },
        {
         "hoverinfo": "none",
         "legendgroup": "bearings",
         "line": {
          "color": "#355d7a",
          "width": 1
         },
         "mode": "lines",
         "name": "Bearing 1",
         "showlegend": false,
         "type": "scatter",
         "x": [
          1.5,
          1.5,
          1.5142857142857142,
          1.5142857142857142
         ],
         "y": [
          -0.055357142857142855,
          -0.044642857142857144,
          -0.044642857142857144,
          -0.055357142857142855
         ]
        },
        {
         "hoverinfo": "none",
         "legendgroup": "bearings",
         "line": {
          "color": "#355d7a",
          "width": 1
         },
         "mode": "lines",
         "name": "Bearing 1",
         "showlegend": false,
         "type": "scatter",
         "x": [
          1.5,
          1.5142857142857142,
          1.5071428571428571,
          1.5071428571428571
         ],
         "y": [
          0.05178571428571428,
          0.05178571428571428,
          0.05178571428571428,
          0.0625
         ]
        },
        {
         "hoverinfo": "none",
         "legendgroup": "bearings",
         "line": {
          "color": "#355d7a",
          "width": 1
         },
         "mode": "lines",
         "name": "Bearing 1",
         "showlegend": false,
         "type": "scatter",
         "x": [
          1.5,
          1.5142857142857142,
          1.5071428571428571,
          1.5071428571428571
         ],
         "y": [
          -0.05178571428571428,
          -0.05178571428571428,
          -0.05178571428571428,
          -0.0625
         ]
        }
       ],
       "layout": {
        "shapes": [
         {
          "fillcolor": "Firebrick",
          "line": {
           "color": "Firebrick"
          },
          "type": "circle",
          "x0": 0.49375,
          "x1": 0.50625,
          "xref": "x",
          "y0": 0.11875,
          "y1": 0.13125,
          "yref": "y"
         },
         {
          "fillcolor": "Firebrick",
          "line": {
           "color": "Firebrick"
          },
          "type": "circle",
          "x0": 0.49375,
          "x1": 0.50625,
          "xref": "x",
          "y0": -0.13125,
          "y1": -0.11875,
          "yref": "y"
         },
         {
          "fillcolor": "Firebrick",
          "line": {
           "color": "Firebrick"
          },
          "type": "circle",
          "x0": 0.99375,
          "x1": 1.00625,
          "xref": "x",
          "y0": 0.11875,
          "y1": 0.13125,
          "yref": "y"
         },
         {
          "fillcolor": "Firebrick",
          "line": {
           "color": "Firebrick"
          },
          "type": "circle",
          "x0": 0.99375,
          "x1": 1.00625,
          "xref": "x",
          "y0": -0.13125,
          "y1": -0.11875,
          "yref": "y"
         }
        ],
        "template": {
         "data": {
          "bar": [
           {
            "error_x": {
             "color": "#2a3f5f"
            },
            "error_y": {
             "color": "#2a3f5f"
            },
            "marker": {
             "line": {
              "color": "white",
              "width": 0.5
             }
            },
            "type": "bar"
           }
          ],
          "barpolar": [
           {
            "marker": {
             "line": {
              "color": "white",
              "width": 0.5
             }
            },
            "type": "barpolar"
           }
          ],
          "carpet": [
           {
            "aaxis": {
             "endlinecolor": "#2a3f5f",
             "gridcolor": "#C8D4E3",
             "linecolor": "#C8D4E3",
             "minorgridcolor": "#C8D4E3",
             "startlinecolor": "#2a3f5f"
            },
            "baxis": {
             "endlinecolor": "#2a3f5f",
             "gridcolor": "#C8D4E3",
             "linecolor": "#C8D4E3",
             "minorgridcolor": "#C8D4E3",
             "startlinecolor": "#2a3f5f"
            },
            "type": "carpet"
           }
          ],
          "choropleth": [
           {
            "colorbar": {
             "outlinewidth": 0,
             "ticks": ""
            },
            "type": "choropleth"
           }
          ],
          "contour": [
           {
            "colorbar": {
             "outlinewidth": 0,
             "ticks": ""
            },
            "colorscale": [
             [
              0,
              "#0d0887"
             ],
             [
              0.1111111111111111,
              "#46039f"
             ],
             [
              0.2222222222222222,
              "#7201a8"
             ],
             [
              0.3333333333333333,
              "#9c179e"
             ],
             [
              0.4444444444444444,
              "#bd3786"
             ],
             [
              0.5555555555555556,
              "#d8576b"
             ],
             [
              0.6666666666666666,
              "#ed7953"
             ],
             [
              0.7777777777777778,
              "#fb9f3a"
             ],
             [
              0.8888888888888888,
              "#fdca26"
             ],
             [
              1,
              "#f0f921"
             ]
            ],
            "type": "contour"
           }
          ],
          "contourcarpet": [
           {
            "colorbar": {
             "outlinewidth": 0,
             "ticks": ""
            },
            "type": "contourcarpet"
           }
          ],
          "heatmap": [
           {
            "colorbar": {
             "outlinewidth": 0,
             "ticks": ""
            },
            "colorscale": [
             [
              0,
              "#0d0887"
             ],
             [
              0.1111111111111111,
              "#46039f"
             ],
             [
              0.2222222222222222,
              "#7201a8"
             ],
             [
              0.3333333333333333,
              "#9c179e"
             ],
             [
              0.4444444444444444,
              "#bd3786"
             ],
             [
              0.5555555555555556,
              "#d8576b"
             ],
             [
              0.6666666666666666,
              "#ed7953"
             ],
             [
              0.7777777777777778,
              "#fb9f3a"
             ],
             [
              0.8888888888888888,
              "#fdca26"
             ],
             [
              1,
              "#f0f921"
             ]
            ],
            "type": "heatmap"
           }
          ],
          "heatmapgl": [
           {
            "colorbar": {
             "outlinewidth": 0,
             "ticks": ""
            },
            "colorscale": [
             [
              0,
              "#0d0887"
             ],
             [
              0.1111111111111111,
              "#46039f"
             ],
             [
              0.2222222222222222,
              "#7201a8"
             ],
             [
              0.3333333333333333,
              "#9c179e"
             ],
             [
              0.4444444444444444,
              "#bd3786"
             ],
             [
              0.5555555555555556,
              "#d8576b"
             ],
             [
              0.6666666666666666,
              "#ed7953"
             ],
             [
              0.7777777777777778,
              "#fb9f3a"
             ],
             [
              0.8888888888888888,
              "#fdca26"
             ],
             [
              1,
              "#f0f921"
             ]
            ],
            "type": "heatmapgl"
           }
          ],
          "histogram": [
           {
            "marker": {
             "colorbar": {
              "outlinewidth": 0,
              "ticks": ""
             }
            },
            "type": "histogram"
           }
          ],
          "histogram2d": [
           {
            "colorbar": {
             "outlinewidth": 0,
             "ticks": ""
            },
            "colorscale": [
             [
              0,
              "#0d0887"
             ],
             [
              0.1111111111111111,
              "#46039f"
             ],
             [
              0.2222222222222222,
              "#7201a8"
             ],
             [
              0.3333333333333333,
              "#9c179e"
             ],
             [
              0.4444444444444444,
              "#bd3786"
             ],
             [
              0.5555555555555556,
              "#d8576b"
             ],
             [
              0.6666666666666666,
              "#ed7953"
             ],
             [
              0.7777777777777778,
              "#fb9f3a"
             ],
             [
              0.8888888888888888,
              "#fdca26"
             ],
             [
              1,
              "#f0f921"
             ]
            ],
            "type": "histogram2d"
           }
          ],
          "histogram2dcontour": [
           {
            "colorbar": {
             "outlinewidth": 0,
             "ticks": ""
            },
            "colorscale": [
             [
              0,
              "#0d0887"
             ],
             [
              0.1111111111111111,
              "#46039f"
             ],
             [
              0.2222222222222222,
              "#7201a8"
             ],
             [
              0.3333333333333333,
              "#9c179e"
             ],
             [
              0.4444444444444444,
              "#bd3786"
             ],
             [
              0.5555555555555556,
              "#d8576b"
             ],
             [
              0.6666666666666666,
              "#ed7953"
             ],
             [
              0.7777777777777778,
              "#fb9f3a"
             ],
             [
              0.8888888888888888,
              "#fdca26"
             ],
             [
              1,
              "#f0f921"
             ]
            ],
            "type": "histogram2dcontour"
           }
          ],
          "mesh3d": [
           {
            "colorbar": {
             "outlinewidth": 0,
             "ticks": ""
            },
            "type": "mesh3d"
           }
          ],
          "parcoords": [
           {
            "line": {
             "colorbar": {
              "outlinewidth": 0,
              "ticks": ""
             }
            },
            "type": "parcoords"
           }
          ],
          "pie": [
           {
            "automargin": true,
            "type": "pie"
           }
          ],
          "scatter": [
           {
            "marker": {
             "colorbar": {
              "outlinewidth": 0,
              "ticks": ""
             }
            },
            "type": "scatter"
           }
          ],
          "scatter3d": [
           {
            "line": {
             "colorbar": {
              "outlinewidth": 0,
              "ticks": ""
             }
            },
            "marker": {
             "colorbar": {
              "outlinewidth": 0,
              "ticks": ""
             },
             "size": 4
            },
            "type": "scatter3d"
           }
          ],
          "scattercarpet": [
           {
            "marker": {
             "colorbar": {
              "outlinewidth": 0,
              "ticks": ""
             }
            },
            "type": "scattercarpet"
           }
          ],
          "scattergeo": [
           {
            "marker": {
             "colorbar": {
              "outlinewidth": 0,
              "ticks": ""
             }
            },
            "type": "scattergeo"
           }
          ],
          "scattergl": [
           {
            "marker": {
             "colorbar": {
              "outlinewidth": 0,
              "ticks": ""
             }
            },
            "type": "scattergl"
           }
          ],
          "scattermapbox": [
           {
            "marker": {
             "colorbar": {
              "outlinewidth": 0,
              "ticks": ""
             }
            },
            "type": "scattermapbox"
           }
          ],
          "scatterpolar": [
           {
            "marker": {
             "colorbar": {
              "outlinewidth": 0,
              "ticks": ""
             }
            },
            "type": "scatterpolar"
           }
          ],
          "scatterpolargl": [
           {
            "marker": {
             "colorbar": {
              "outlinewidth": 0,
              "ticks": ""
             }
            },
            "type": "scatterpolargl"
           }
          ],
          "scatterternary": [
           {
            "marker": {
             "colorbar": {
              "outlinewidth": 0,
              "ticks": ""
             }
            },
            "type": "scatterternary"
           }
          ],
          "surface": [
           {
            "colorbar": {
             "outlinewidth": 0,
             "ticks": ""
            },
            "colorscale": [
             [
              0,
              "#0d0887"
             ],
             [
              0.1111111111111111,
              "#46039f"
             ],
             [
              0.2222222222222222,
              "#7201a8"
             ],
             [
              0.3333333333333333,
              "#9c179e"
             ],
             [
              0.4444444444444444,
              "#bd3786"
             ],
             [
              0.5555555555555556,
              "#d8576b"
             ],
             [
              0.6666666666666666,
              "#ed7953"
             ],
             [
              0.7777777777777778,
              "#fb9f3a"
             ],
             [
              0.8888888888888888,
              "#fdca26"
             ],
             [
              1,
              "#f0f921"
             ]
            ],
            "type": "surface"
           }
          ],
          "table": [
           {
            "cells": {
             "fill": {
              "color": "#EBF0F8"
             },
             "line": {
              "color": "white"
             }
            },
            "header": {
             "fill": {
              "color": "#C8D4E3"
             },
             "line": {
              "color": "white"
             }
            },
            "type": "table"
           }
          ]
         },
         "layout": {
          "annotationdefaults": {
           "arrowcolor": "#2a3f5f",
           "arrowhead": 0,
           "arrowwidth": 1
          },
          "coloraxis": {
           "colorbar": {
            "outlinewidth": 0,
            "ticks": ""
           }
          },
          "colorscale": {
           "diverging": [
            [
             0,
             "#8e0152"
            ],
            [
             0.1,
             "#c51b7d"
            ],
            [
             0.2,
             "#de77ae"
            ],
            [
             0.3,
             "#f1b6da"
            ],
            [
             0.4,
             "#fde0ef"
            ],
            [
             0.5,
             "#f7f7f7"
            ],
            [
             0.6,
             "#e6f5d0"
            ],
            [
             0.7,
             "#b8e186"
            ],
            [
             0.8,
             "#7fbc41"
            ],
            [
             0.9,
             "#4d9221"
            ],
            [
             1,
             "#276419"
            ]
           ],
           "sequential": [
            [
             0,
             "#0d0887"
            ],
            [
             0.1111111111111111,
             "#46039f"
            ],
            [
             0.2222222222222222,
             "#7201a8"
            ],
            [
             0.3333333333333333,
             "#9c179e"
            ],
            [
             0.4444444444444444,
             "#bd3786"
            ],
            [
             0.5555555555555556,
             "#d8576b"
            ],
            [
             0.6666666666666666,
             "#ed7953"
            ],
            [
             0.7777777777777778,
             "#fb9f3a"
            ],
            [
             0.8888888888888888,
             "#fdca26"
            ],
            [
             1,
             "#f0f921"
            ]
           ],
           "sequentialminus": [
            [
             0,
             "#0d0887"
            ],
            [
             0.1111111111111111,
             "#46039f"
            ],
            [
             0.2222222222222222,
             "#7201a8"
            ],
            [
             0.3333333333333333,
             "#9c179e"
            ],
            [
             0.4444444444444444,
             "#bd3786"
            ],
            [
             0.5555555555555556,
             "#d8576b"
            ],
            [
             0.6666666666666666,
             "#ed7953"
            ],
            [
             0.7777777777777778,
             "#fb9f3a"
            ],
            [
             0.8888888888888888,
             "#fdca26"
            ],
            [
             1,
             "#f0f921"
            ]
           ]
          },
          "colorway": [
           "#1f77b4",
           "#ff7f0e",
           "#2ca02c",
           "#d62728",
           "#9467bd",
           "#8c564b",
           "#e377c2",
           "#7f7f7f",
           "#bcbd22",
           "#17becf"
          ],
          "font": {
           "color": "#2a3f5f"
          },
          "geo": {
           "bgcolor": "white",
           "lakecolor": "white",
           "landcolor": "white",
           "showlakes": true,
           "showland": true,
           "subunitcolor": "#C8D4E3"
          },
          "hoverlabel": {
           "align": "left"
          },
          "hovermode": "closest",
          "mapbox": {
           "style": "light"
          },
          "paper_bgcolor": "white",
          "plot_bgcolor": "white",
          "polar": {
           "angularaxis": {
            "gridcolor": "#EBF0F8",
            "linecolor": "#EBF0F8",
            "ticks": ""
           },
           "bgcolor": "white",
           "radialaxis": {
            "gridcolor": "#EBF0F8",
            "linecolor": "#EBF0F8",
            "ticks": ""
           }
          },
          "scene": {
           "camera": {
            "center": {
             "x": 0,
             "y": 0,
             "z": 0
            },
            "eye": {
             "x": 2,
             "y": 2,
             "z": 2
            },
            "up": {
             "x": 0,
             "y": 0,
             "z": 1
            }
           },
           "xaxis": {
            "backgroundcolor": "white",
            "gridcolor": "#DFE8F3",
            "gridwidth": 2,
            "linecolor": "#EBF0F8",
            "showbackground": true,
            "showspikes": false,
            "ticks": "",
            "zerolinecolor": "#EBF0F8"
           },
           "yaxis": {
            "backgroundcolor": "white",
            "gridcolor": "#DFE8F3",
            "gridwidth": 2,
            "linecolor": "#EBF0F8",
            "showbackground": true,
            "showspikes": false,
            "ticks": "",
            "zerolinecolor": "#EBF0F8"
           },
           "zaxis": {
            "backgroundcolor": "white",
            "gridcolor": "#DFE8F3",
            "gridwidth": 2,
            "linecolor": "#EBF0F8",
            "showbackground": true,
            "showspikes": false,
            "ticks": "",
            "zerolinecolor": "#EBF0F8"
           }
          },
          "shapedefaults": {
           "line": {
            "color": "#2a3f5f"
           }
          },
          "ternary": {
           "aaxis": {
            "gridcolor": "#DFE8F3",
            "linecolor": "#A2B1C6",
            "ticks": ""
           },
           "baxis": {
            "gridcolor": "#DFE8F3",
            "linecolor": "#A2B1C6",
            "ticks": ""
           },
           "bgcolor": "white",
           "caxis": {
            "gridcolor": "#DFE8F3",
            "linecolor": "#A2B1C6",
            "ticks": ""
           }
          },
          "title": {
           "x": 0.05
          },
          "xaxis": {
           "automargin": true,
           "gridcolor": "#EBF0F8",
           "linecolor": "black",
           "linewidth": 2,
           "mirror": true,
           "showline": true,
           "ticks": "",
           "title": {
            "standoff": 15
           },
           "zeroline": false,
           "zerolinecolor": "#EBF0F8",
           "zerolinewidth": 2
          },
          "yaxis": {
           "automargin": true,
           "gridcolor": "#EBF0F8",
           "linecolor": "black",
           "linewidth": 2,
           "mirror": true,
           "showline": true,
           "ticks": "",
           "title": {
            "standoff": 15
           },
           "zeroline": false,
           "zerolinecolor": "#EBF0F8",
           "zerolinewidth": 2
          }
         }
        },
        "title": {
         "text": "Rotor Model"
        },
        "xaxis": {
         "mirror": true,
         "range": [
          -0.15000000000000002,
          1.6500000000000001
         ],
         "showgrid": false,
         "title": {
          "text": "Axial location (m)"
         }
        },
        "yaxis": {
         "mirror": true,
         "range": [
          -0.44999999999999996,
          0.44999999999999996
         ],
         "showgrid": false,
         "title": {
          "text": "Shaft radius (m)"
         }
        }
       }
      }
     },
     "metadata": {},
     "output_type": "display_data"
    }
   ],
   "source": [
    "# Classic Instantiation of the rotor\n",
    "shaft_elements = []\n",
    "bearing_seal_elements = []\n",
    "disk_elements = []\n",
    "steel = rs.steel\n",
    "for i in range(6):\n",
    "    shaft_elements.append(rs.ShaftElement(L=0.25, material=steel, n=i, idl=0, odl=0.05))\n",
    "\n",
    "disk_elements.append(\n",
    "    rs.DiskElement.from_geometry(n=2, material=steel, width=0.07, i_d=0.05, o_d=0.28)\n",
    ")\n",
    "\n",
    "disk_elements.append(\n",
    "    rs.DiskElement.from_geometry(n=4, material=steel, width=0.07, i_d=0.05, o_d=0.35)\n",
    ")\n",
    "bearing_seal_elements.append(rs.BearingElement(n=0, kxx=1e6, kyy=1e6, cxx=3e3, cyy=3e3))\n",
    "bearing_seal_elements.append(rs.BearingElement(n=6, kxx=1e6, kyy=1e6, cxx=3e3, cyy=3e3))\n",
    "\n",
    "rotor595c = rs.Rotor(\n",
    "    shaft_elements=shaft_elements,\n",
    "    bearing_elements=bearing_seal_elements,\n",
    "    disk_elements=disk_elements,\n",
    ")\n",
    "\n",
    "rotor595c.plot_rotor()"
   ]
  },
  {
   "cell_type": "code",
   "execution_count": 3,
   "metadata": {
    "execution": {
     "iopub.execute_input": "2023-05-04T01:00:41.821636Z",
     "iopub.status.busy": "2023-05-04T01:00:41.821448Z",
     "iopub.status.idle": "2023-05-04T01:00:41.889883Z",
     "shell.execute_reply": "2023-05-04T01:00:41.889401Z"
    }
   },
   "outputs": [
    {
     "data": {
      "application/vnd.plotly.v1+json": {
       "config": {
        "plotlyServerURL": "https://plot.ly"
       },
       "data": [
        {
         "hoverinfo": "none",
         "line": {
          "color": "black",
          "dash": "dashdot",
          "width": 3
         },
         "mode": "lines",
         "opacity": 0.7,
         "showlegend": false,
         "type": "scatter",
         "x": [
          -0.30000000000000004,
          1.7999999999999998
         ],
         "y": [
          0,
          0
         ]
        },
        {
         "hoverinfo": "none",
         "marker": {
          "color": "#ffcc99",
          "line": {
           "color": "black",
           "width": 1
          },
          "opacity": 0.7,
          "size": 20
         },
         "mode": "markers+text",
         "showlegend": false,
         "text": [
          "0",
          "1",
          "2",
          "3"
         ],
         "type": "scatter",
         "x": [
          0,
          0.5,
          1,
          1.5
         ],
         "y": [
          0,
          0,
          0,
          0
         ]
        },
        {
         "customdata": [
          [
           0,
           0.05,
           0,
           0.05,
           0,
           0.5,
           "Steel"
          ],
          [
           0,
           0.05,
           0,
           0.05,
           0,
           0.5,
           "Steel"
          ],
          [
           0,
           0.05,
           0,
           0.05,
           0,
           0.5,
           "Steel"
          ],
          [
           0,
           0.05,
           0,
           0.05,
           0,
           0.5,
           "Steel"
          ],
          [
           0,
           0.05,
           0,
           0.05,
           0,
           0.5,
           "Steel"
          ],
          [
           0,
           0.05,
           0,
           0.05,
           0,
           0.5,
           "Steel"
          ],
          [
           0,
           0.05,
           0,
           0.05,
           0,
           0.5,
           "Steel"
          ],
          [
           0,
           0.05,
           0,
           0.05,
           0,
           0.5,
           "Steel"
          ],
          [
           0,
           0.05,
           0,
           0.05,
           0,
           0.5,
           "Steel"
          ],
          [
           0,
           0.05,
           0,
           0.05,
           0,
           0.5,
           "Steel"
          ]
         ],
         "fill": "toself",
         "fillcolor": "#525252",
         "hoverinfo": "text",
         "hoverlabel": {
          "bgcolor": "#525252"
         },
         "hoveron": "points+fills",
         "hovertemplate": "Element Number: 0<br>Left Outer Diameter: 0.05 m<br>Left Inner Diameter: 0.0 m<br>Right Outer Diameter: 0.05 m<br>Right Inner Diameter: 0.0 m<br>Element Length: 0.5 m<br>Material: Steel<br>",
         "legendgroup": "Shaft",
         "line": {
          "color": "black",
          "width": 1.5
         },
         "mode": "lines",
         "name": "ShaftElement 0",
         "opacity": 0.5,
         "showlegend": false,
         "text": "Element Number: 0<br>Left Outer Diameter: 0.05 m<br>Left Inner Diameter: 0.0 m<br>Right Outer Diameter: 0.05 m<br>Right Inner Diameter: 0.0 m<br>Element Length: 0.5 m<br>Material: Steel<br>",
         "type": "scatter",
         "x": [
          0,
          0,
          0.5,
          0.5,
          0,
          0,
          0,
          0.5,
          0.5,
          0
         ],
         "y": [
          0,
          0.025,
          0.025,
          0,
          0,
          0,
          -0.025,
          -0.025,
          0,
          0
         ]
        },
        {
         "customdata": [
          [
           1,
           0.05,
           0,
           0.05,
           0,
           0.5,
           "Steel"
          ],
          [
           1,
           0.05,
           0,
           0.05,
           0,
           0.5,
           "Steel"
          ],
          [
           1,
           0.05,
           0,
           0.05,
           0,
           0.5,
           "Steel"
          ],
          [
           1,
           0.05,
           0,
           0.05,
           0,
           0.5,
           "Steel"
          ],
          [
           1,
           0.05,
           0,
           0.05,
           0,
           0.5,
           "Steel"
          ],
          [
           1,
           0.05,
           0,
           0.05,
           0,
           0.5,
           "Steel"
          ],
          [
           1,
           0.05,
           0,
           0.05,
           0,
           0.5,
           "Steel"
          ],
          [
           1,
           0.05,
           0,
           0.05,
           0,
           0.5,
           "Steel"
          ],
          [
           1,
           0.05,
           0,
           0.05,
           0,
           0.5,
           "Steel"
          ],
          [
           1,
           0.05,
           0,
           0.05,
           0,
           0.5,
           "Steel"
          ]
         ],
         "fill": "toself",
         "fillcolor": "#525252",
         "hoverinfo": "text",
         "hoverlabel": {
          "bgcolor": "#525252"
         },
         "hoveron": "points+fills",
         "hovertemplate": "Element Number: 1<br>Left Outer Diameter: 0.05 m<br>Left Inner Diameter: 0.0 m<br>Right Outer Diameter: 0.05 m<br>Right Inner Diameter: 0.0 m<br>Element Length: 0.5 m<br>Material: Steel<br>",
         "legendgroup": "Shaft",
         "line": {
          "color": "black",
          "width": 1.5
         },
         "mode": "lines",
         "name": "ShaftElement 1",
         "opacity": 0.5,
         "showlegend": false,
         "text": "Element Number: 1<br>Left Outer Diameter: 0.05 m<br>Left Inner Diameter: 0.0 m<br>Right Outer Diameter: 0.05 m<br>Right Inner Diameter: 0.0 m<br>Element Length: 0.5 m<br>Material: Steel<br>",
         "type": "scatter",
         "x": [
          0.5,
          0.5,
          1,
          1,
          0.5,
          0.5,
          0.5,
          1,
          1,
          0.5
         ],
         "y": [
          0,
          0.025,
          0.025,
          0,
          0,
          0,
          -0.025,
          -0.025,
          0,
          0
         ]
        },
        {
         "customdata": [
          [
           2,
           0.05,
           0,
           0.05,
           0,
           0.5,
           "Steel"
          ],
          [
           2,
           0.05,
           0,
           0.05,
           0,
           0.5,
           "Steel"
          ],
          [
           2,
           0.05,
           0,
           0.05,
           0,
           0.5,
           "Steel"
          ],
          [
           2,
           0.05,
           0,
           0.05,
           0,
           0.5,
           "Steel"
          ],
          [
           2,
           0.05,
           0,
           0.05,
           0,
           0.5,
           "Steel"
          ],
          [
           2,
           0.05,
           0,
           0.05,
           0,
           0.5,
           "Steel"
          ],
          [
           2,
           0.05,
           0,
           0.05,
           0,
           0.5,
           "Steel"
          ],
          [
           2,
           0.05,
           0,
           0.05,
           0,
           0.5,
           "Steel"
          ],
          [
           2,
           0.05,
           0,
           0.05,
           0,
           0.5,
           "Steel"
          ],
          [
           2,
           0.05,
           0,
           0.05,
           0,
           0.5,
           "Steel"
          ]
         ],
         "fill": "toself",
         "fillcolor": "#525252",
         "hoverinfo": "text",
         "hoverlabel": {
          "bgcolor": "#525252"
         },
         "hoveron": "points+fills",
         "hovertemplate": "Element Number: 2<br>Left Outer Diameter: 0.05 m<br>Left Inner Diameter: 0.0 m<br>Right Outer Diameter: 0.05 m<br>Right Inner Diameter: 0.0 m<br>Element Length: 0.5 m<br>Material: Steel<br>",
         "legendgroup": "Shaft",
         "line": {
          "color": "black",
          "width": 1.5
         },
         "mode": "lines",
         "name": "ShaftElement 2",
         "opacity": 0.5,
         "showlegend": false,
         "text": "Element Number: 2<br>Left Outer Diameter: 0.05 m<br>Left Inner Diameter: 0.0 m<br>Right Outer Diameter: 0.05 m<br>Right Inner Diameter: 0.0 m<br>Element Length: 0.5 m<br>Material: Steel<br>",
         "type": "scatter",
         "x": [
          1,
          1,
          1.5,
          1.5,
          1,
          1,
          1,
          1.5,
          1.5,
          1
         ],
         "y": [
          0,
          0.025,
          0.025,
          0,
          0,
          0,
          -0.025,
          -0.025,
          0,
          0
         ]
        },
        {
         "customdata": [
          [
           1,
           0.32956362089137037,
           0.17808928257067666,
           32.58972765304033
          ],
          [
           1,
           0.32956362089137037,
           0.17808928257067666,
           32.58972765304033
          ],
          [
           1,
           0.32956362089137037,
           0.17808928257067666,
           32.58972765304033
          ],
          [
           1,
           0.32956362089137037,
           0.17808928257067666,
           32.58972765304033
          ],
          [
           1,
           0.32956362089137037,
           0.17808928257067666,
           32.58972765304033
          ],
          [
           1,
           0.32956362089137037,
           0.17808928257067666,
           32.58972765304033
          ],
          [
           1,
           0.32956362089137037,
           0.17808928257067666,
           32.58972765304033
          ],
          [
           1,
           0.32956362089137037,
           0.17808928257067666,
           32.58972765304033
          ],
          [
           1,
           0.32956362089137037,
           0.17808928257067666,
           32.58972765304033
          ]
         ],
         "fill": "toself",
         "fillcolor": "Firebrick",
         "hoverinfo": "text",
         "hoverlabel": {
          "bgcolor": "Firebrick"
         },
         "hoveron": "points+fills",
         "hovertemplate": "Disk Node: 1<br>Polar Inertia: 3.296e-01<br>Diametral Inertia: 1.781e-01<br>Disk mass: 32.590<br>",
         "legendgroup": "disks",
         "line": {
          "color": "Firebrick",
          "width": 2
         },
         "mode": "lines",
         "name": "Disk 0",
         "opacity": 0.8,
         "showlegend": false,
         "text": "Disk Node: 1<br>Polar Inertia: 3.296e-01<br>Diametral Inertia: 1.781e-01<br>Disk mass: 32.590<br>",
         "type": "scatter",
         "x": [
          0.5,
          0.502,
          0.498,
          0.5,
          null,
          0.5,
          0.502,
          0.498,
          0.5
         ],
         "y": [
          0.025,
          0.125,
          0.125,
          0.025,
          null,
          -0.025,
          -0.125,
          -0.125,
          -0.025
         ]
        },
        {
         "customdata": [
          [
           2,
           0.8050822048675967,
           0.42358058405433824,
           51.5252611115262
          ],
          [
           2,
           0.8050822048675967,
           0.42358058405433824,
           51.5252611115262
          ],
          [
           2,
           0.8050822048675967,
           0.42358058405433824,
           51.5252611115262
          ],
          [
           2,
           0.8050822048675967,
           0.42358058405433824,
           51.5252611115262
          ],
          [
           2,
           0.8050822048675967,
           0.42358058405433824,
           51.5252611115262
          ],
          [
           2,
           0.8050822048675967,
           0.42358058405433824,
           51.5252611115262
          ],
          [
           2,
           0.8050822048675967,
           0.42358058405433824,
           51.5252611115262
          ],
          [
           2,
           0.8050822048675967,
           0.42358058405433824,
           51.5252611115262
          ],
          [
           2,
           0.8050822048675967,
           0.42358058405433824,
           51.5252611115262
          ]
         ],
         "fill": "toself",
         "fillcolor": "Firebrick",
         "hoverinfo": "text",
         "hoverlabel": {
          "bgcolor": "Firebrick"
         },
         "hoveron": "points+fills",
         "hovertemplate": "Disk Node: 2<br>Polar Inertia: 8.051e-01<br>Diametral Inertia: 4.236e-01<br>Disk mass: 51.525<br>",
         "legendgroup": "disks",
         "line": {
          "color": "Firebrick",
          "width": 2
         },
         "mode": "lines",
         "name": "Disk 1",
         "opacity": 0.8,
         "showlegend": false,
         "text": "Disk Node: 2<br>Polar Inertia: 8.051e-01<br>Diametral Inertia: 4.236e-01<br>Disk mass: 51.525<br>",
         "type": "scatter",
         "x": [
          1,
          1.002,
          0.998,
          1,
          null,
          1,
          1.002,
          0.998,
          1
         ],
         "y": [
          0.025,
          0.125,
          0.125,
          0.025,
          null,
          -0.025,
          -0.125,
          -0.125,
          -0.025
         ]
        },
        {
         "hoverinfo": "none",
         "legendgroup": "bearings",
         "line": {
          "color": "#355d7a",
          "width": 1
         },
         "mode": "lines",
         "name": "Bearing 0",
         "showlegend": false,
         "type": "scatter",
         "x": [
          0,
          0,
          -0.007142857142857144,
          0.007142857142857144
         ],
         "y": [
          0.025,
          0.037500000000000006,
          0.037500000000000006,
          0.037500000000000006
         ]
        },
        {
         "hoverinfo": "none",
         "legendgroup": "bearings",
         "line": {
          "color": "#355d7a",
          "width": 1
         },
         "mode": "lines",
         "name": "Bearing 0",
         "showlegend": false,
         "type": "scatter",
         "x": [
          0,
          0,
          -0.007142857142857144,
          0.007142857142857144
         ],
         "y": [
          -0.025,
          -0.037500000000000006,
          -0.037500000000000006,
          -0.037500000000000006
         ]
        },
        {
         "hoverinfo": "none",
         "legendgroup": "bearings",
         "line": {
          "color": "#355d7a",
          "width": 1
         },
         "mode": "lines",
         "name": "Bearing 0",
         "showlegend": false,
         "type": "scatter",
         "x": [
          0,
          0,
          -0.007142857142857144,
          0.007142857142857144
         ],
         "y": [
          0.07500000000000001,
          0.0625,
          0.0625,
          0.0625
         ]
        },
        {
         "hoverinfo": "none",
         "legendgroup": "bearings",
         "line": {
          "color": "#355d7a",
          "width": 1
         },
         "mode": "lines",
         "name": "Bearing 0",
         "showlegend": false,
         "type": "scatter",
         "x": [
          0,
          0,
          -0.007142857142857144,
          0.007142857142857144
         ],
         "y": [
          -0.07500000000000001,
          -0.0625,
          -0.0625,
          -0.0625
         ]
        },
        {
         "hoverinfo": "none",
         "legendgroup": "bearings",
         "line": {
          "color": "#355d7a",
          "width": 1
         },
         "mode": "lines",
         "name": "Bearing 0",
         "showlegend": false,
         "type": "scatter",
         "x": [
          -0.010714285714285716,
          0.010714285714285716
         ],
         "y": [
          0.07500000000000001,
          0.07500000000000001
         ]
        },
        {
         "hoverinfo": "none",
         "legendgroup": "bearings",
         "line": {
          "color": "#355d7a",
          "width": 1
         },
         "mode": "lines",
         "name": "Bearing 0",
         "showlegend": false,
         "type": "scatter",
         "x": [
          -0.010714285714285716,
          0.010714285714285716
         ],
         "y": [
          -0.07500000000000001,
          -0.07500000000000001
         ]
        },
        {
         "hoverinfo": "none",
         "legendgroup": "bearings",
         "line": {
          "color": "#355d7a",
          "width": 1
         },
         "mode": "lines",
         "name": "Bearing 0",
         "showlegend": false,
         "type": "scatter",
         "x": [
          -0.010714285714285716,
          -0.006428571428571429
         ],
         "y": [
          0.07500000000000001,
          0.08250000000000002
         ]
        },
        {
         "hoverinfo": "none",
         "legendgroup": "bearings",
         "line": {
          "color": "#355d7a",
          "width": 1
         },
         "mode": "lines",
         "name": "Bearing 0",
         "showlegend": false,
         "type": "scatter",
         "x": [
          -0.010714285714285716,
          -0.006428571428571429
         ],
         "y": [
          -0.07500000000000001,
          -0.08250000000000002
         ]
        },
        {
         "hoverinfo": "none",
         "legendgroup": "bearings",
         "line": {
          "color": "#355d7a",
          "width": 1
         },
         "mode": "lines",
         "name": "Bearing 0",
         "showlegend": false,
         "type": "scatter",
         "x": [
          -0.006428571428571429,
          -0.0021428571428571425
         ],
         "y": [
          0.07500000000000001,
          0.08250000000000002
         ]
        },
        {
         "hoverinfo": "none",
         "legendgroup": "bearings",
         "line": {
          "color": "#355d7a",
          "width": 1
         },
         "mode": "lines",
         "name": "Bearing 0",
         "showlegend": false,
         "type": "scatter",
         "x": [
          -0.006428571428571429,
          -0.0021428571428571425
         ],
         "y": [
          -0.07500000000000001,
          -0.08250000000000002
         ]
        },
        {
         "hoverinfo": "none",
         "legendgroup": "bearings",
         "line": {
          "color": "#355d7a",
          "width": 1
         },
         "mode": "lines",
         "name": "Bearing 0",
         "showlegend": false,
         "type": "scatter",
         "x": [
          -0.0021428571428571425,
          0.0021428571428571443
         ],
         "y": [
          0.07500000000000001,
          0.08250000000000002
         ]
        },
        {
         "hoverinfo": "none",
         "legendgroup": "bearings",
         "line": {
          "color": "#355d7a",
          "width": 1
         },
         "mode": "lines",
         "name": "Bearing 0",
         "showlegend": false,
         "type": "scatter",
         "x": [
          -0.0021428571428571425,
          0.0021428571428571443
         ],
         "y": [
          -0.07500000000000001,
          -0.08250000000000002
         ]
        },
        {
         "hoverinfo": "none",
         "legendgroup": "bearings",
         "line": {
          "color": "#355d7a",
          "width": 1
         },
         "mode": "lines",
         "name": "Bearing 0",
         "showlegend": false,
         "type": "scatter",
         "x": [
          0.0021428571428571443,
          0.006428571428571431
         ],
         "y": [
          0.07500000000000001,
          0.08250000000000002
         ]
        },
        {
         "hoverinfo": "none",
         "legendgroup": "bearings",
         "line": {
          "color": "#355d7a",
          "width": 1
         },
         "mode": "lines",
         "name": "Bearing 0",
         "showlegend": false,
         "type": "scatter",
         "x": [
          0.0021428571428571443,
          0.006428571428571431
         ],
         "y": [
          -0.07500000000000001,
          -0.08250000000000002
         ]
        },
        {
         "hoverinfo": "none",
         "legendgroup": "bearings",
         "line": {
          "color": "#355d7a",
          "width": 1
         },
         "mode": "lines",
         "name": "Bearing 0",
         "showlegend": false,
         "type": "scatter",
         "x": [
          0.006428571428571431,
          0.01071428571428572
         ],
         "y": [
          0.07500000000000001,
          0.08250000000000002
         ]
        },
        {
         "hoverinfo": "none",
         "legendgroup": "bearings",
         "line": {
          "color": "#355d7a",
          "width": 1
         },
         "mode": "lines",
         "name": "Bearing 0",
         "showlegend": false,
         "type": "scatter",
         "x": [
          0.006428571428571431,
          0.01071428571428572
         ],
         "y": [
          -0.07500000000000001,
          -0.08250000000000002
         ]
        },
        {
         "hoverinfo": "none",
         "legendgroup": "bearings",
         "line": {
          "color": "#355d7a",
          "width": 1
         },
         "mode": "lines",
         "name": "Bearing 0",
         "showlegend": false,
         "type": "scatter",
         "x": [
          0.01071428571428572,
          0.015000000000000005
         ],
         "y": [
          0.07500000000000001,
          0.08250000000000002
         ]
        },
        {
         "hoverinfo": "none",
         "legendgroup": "bearings",
         "line": {
          "color": "#355d7a",
          "width": 1
         },
         "mode": "lines",
         "name": "Bearing 0",
         "showlegend": false,
         "type": "scatter",
         "x": [
          0.01071428571428572,
          0.015000000000000005
         ],
         "y": [
          -0.07500000000000001,
          -0.08250000000000002
         ]
        },
        {
         "hoverinfo": "none",
         "legendgroup": "bearings",
         "line": {
          "color": "#355d7a",
          "width": 1
         },
         "mode": "lines",
         "name": "Bearing 0",
         "showlegend": false,
         "type": "scatter",
         "x": [
          -0.007142857142857144,
          -0.007142857142857144,
          -0.010714285714285716,
          -0.003571428571428572,
          -0.010714285714285716,
          -0.003571428571428572,
          -0.010714285714285716,
          -0.003571428571428572,
          -0.007142857142857144,
          -0.007142857142857144
         ],
         "y": [
          0.037500000000000006,
          0.04107142857142858,
          0.04107142857142858,
          0.04464285714285715,
          0.04821428571428572,
          0.051785714285714296,
          0.05535714285714287,
          0.05892857142857144,
          0.05892857142857144,
          0.06250000000000001
         ]
        },
        {
         "hoverinfo": "none",
         "legendgroup": "bearings",
         "line": {
          "color": "#355d7a",
          "width": 1
         },
         "mode": "lines",
         "name": "Bearing 0",
         "showlegend": false,
         "type": "scatter",
         "x": [
          -0.007142857142857144,
          -0.007142857142857144,
          -0.010714285714285716,
          -0.003571428571428572,
          -0.010714285714285716,
          -0.003571428571428572,
          -0.010714285714285716,
          -0.003571428571428572,
          -0.007142857142857144,
          -0.007142857142857144
         ],
         "y": [
          -0.037500000000000006,
          -0.04107142857142858,
          -0.04107142857142858,
          -0.04464285714285715,
          -0.04821428571428572,
          -0.051785714285714296,
          -0.05535714285714287,
          -0.05892857142857144,
          -0.05892857142857144,
          -0.06250000000000001
         ]
        },
        {
         "hoverinfo": "none",
         "legendgroup": "bearings",
         "line": {
          "color": "#355d7a",
          "width": 1
         },
         "mode": "lines",
         "name": "Bearing 0",
         "showlegend": false,
         "type": "scatter",
         "x": [
          0.007142857142857144,
          0.007142857142857144
         ],
         "y": [
          0.037500000000000006,
          0.04464285714285715
         ]
        },
        {
         "hoverinfo": "none",
         "legendgroup": "bearings",
         "line": {
          "color": "#355d7a",
          "width": 1
         },
         "mode": "lines",
         "name": "Bearing 0",
         "showlegend": false,
         "type": "scatter",
         "x": [
          0.007142857142857144,
          0.007142857142857144
         ],
         "y": [
          -0.037500000000000006,
          -0.04464285714285715
         ]
        },
        {
         "hoverinfo": "none",
         "legendgroup": "bearings",
         "line": {
          "color": "#355d7a",
          "width": 1
         },
         "mode": "lines",
         "name": "Bearing 0",
         "showlegend": false,
         "type": "scatter",
         "x": [
          0,
          0,
          0.014285714285714289,
          0.014285714285714289
         ],
         "y": [
          0.05535714285714287,
          0.04464285714285715,
          0.04464285714285715,
          0.05535714285714287
         ]
        },
        {
         "hoverinfo": "none",
         "legendgroup": "bearings",
         "line": {
          "color": "#355d7a",
          "width": 1
         },
         "mode": "lines",
         "name": "Bearing 0",
         "showlegend": false,
         "type": "scatter",
         "x": [
          0,
          0,
          0.014285714285714289,
          0.014285714285714289
         ],
         "y": [
          -0.05535714285714287,
          -0.04464285714285715,
          -0.04464285714285715,
          -0.05535714285714287
         ]
        },
        {
         "hoverinfo": "none",
         "legendgroup": "bearings",
         "line": {
          "color": "#355d7a",
          "width": 1
         },
         "mode": "lines",
         "name": "Bearing 0",
         "showlegend": false,
         "type": "scatter",
         "x": [
          0,
          0.014285714285714289,
          0.007142857142857144,
          0.007142857142857144
         ],
         "y": [
          0.051785714285714296,
          0.051785714285714296,
          0.051785714285714296,
          0.0625
         ]
        },
        {
         "hoverinfo": "none",
         "legendgroup": "bearings",
         "line": {
          "color": "#355d7a",
          "width": 1
         },
         "mode": "lines",
         "name": "Bearing 0",
         "showlegend": false,
         "type": "scatter",
         "x": [
          0,
          0.014285714285714289,
          0.007142857142857144,
          0.007142857142857144
         ],
         "y": [
          -0.051785714285714296,
          -0.051785714285714296,
          -0.051785714285714296,
          -0.0625
         ]
        },
        {
         "hoverinfo": "none",
         "legendgroup": "bearings",
         "line": {
          "color": "#355d7a",
          "width": 1
         },
         "mode": "lines",
         "name": "Bearing 1",
         "showlegend": false,
         "type": "scatter",
         "x": [
          1.5,
          1.5,
          1.4928571428571429,
          1.5071428571428571
         ],
         "y": [
          0.025,
          0.037500000000000006,
          0.037500000000000006,
          0.037500000000000006
         ]
        },
        {
         "hoverinfo": "none",
         "legendgroup": "bearings",
         "line": {
          "color": "#355d7a",
          "width": 1
         },
         "mode": "lines",
         "name": "Bearing 1",
         "showlegend": false,
         "type": "scatter",
         "x": [
          1.5,
          1.5,
          1.4928571428571429,
          1.5071428571428571
         ],
         "y": [
          -0.025,
          -0.037500000000000006,
          -0.037500000000000006,
          -0.037500000000000006
         ]
        },
        {
         "hoverinfo": "none",
         "legendgroup": "bearings",
         "line": {
          "color": "#355d7a",
          "width": 1
         },
         "mode": "lines",
         "name": "Bearing 1",
         "showlegend": false,
         "type": "scatter",
         "x": [
          1.5,
          1.5,
          1.4928571428571429,
          1.5071428571428571
         ],
         "y": [
          0.07500000000000001,
          0.0625,
          0.0625,
          0.0625
         ]
        },
        {
         "hoverinfo": "none",
         "legendgroup": "bearings",
         "line": {
          "color": "#355d7a",
          "width": 1
         },
         "mode": "lines",
         "name": "Bearing 1",
         "showlegend": false,
         "type": "scatter",
         "x": [
          1.5,
          1.5,
          1.4928571428571429,
          1.5071428571428571
         ],
         "y": [
          -0.07500000000000001,
          -0.0625,
          -0.0625,
          -0.0625
         ]
        },
        {
         "hoverinfo": "none",
         "legendgroup": "bearings",
         "line": {
          "color": "#355d7a",
          "width": 1
         },
         "mode": "lines",
         "name": "Bearing 1",
         "showlegend": false,
         "type": "scatter",
         "x": [
          1.4892857142857143,
          1.5107142857142857
         ],
         "y": [
          0.07500000000000001,
          0.07500000000000001
         ]
        },
        {
         "hoverinfo": "none",
         "legendgroup": "bearings",
         "line": {
          "color": "#355d7a",
          "width": 1
         },
         "mode": "lines",
         "name": "Bearing 1",
         "showlegend": false,
         "type": "scatter",
         "x": [
          1.4892857142857143,
          1.5107142857142857
         ],
         "y": [
          -0.07500000000000001,
          -0.07500000000000001
         ]
        },
        {
         "hoverinfo": "none",
         "legendgroup": "bearings",
         "line": {
          "color": "#355d7a",
          "width": 1
         },
         "mode": "lines",
         "name": "Bearing 1",
         "showlegend": false,
         "type": "scatter",
         "x": [
          1.4892857142857143,
          1.4935714285714285
         ],
         "y": [
          0.07500000000000001,
          0.08250000000000002
         ]
        },
        {
         "hoverinfo": "none",
         "legendgroup": "bearings",
         "line": {
          "color": "#355d7a",
          "width": 1
         },
         "mode": "lines",
         "name": "Bearing 1",
         "showlegend": false,
         "type": "scatter",
         "x": [
          1.4892857142857143,
          1.4935714285714285
         ],
         "y": [
          -0.07500000000000001,
          -0.08250000000000002
         ]
        },
        {
         "hoverinfo": "none",
         "legendgroup": "bearings",
         "line": {
          "color": "#355d7a",
          "width": 1
         },
         "mode": "lines",
         "name": "Bearing 1",
         "showlegend": false,
         "type": "scatter",
         "x": [
          1.4935714285714285,
          1.4978571428571428
         ],
         "y": [
          0.07500000000000001,
          0.08250000000000002
         ]
        },
        {
         "hoverinfo": "none",
         "legendgroup": "bearings",
         "line": {
          "color": "#355d7a",
          "width": 1
         },
         "mode": "lines",
         "name": "Bearing 1",
         "showlegend": false,
         "type": "scatter",
         "x": [
          1.4935714285714285,
          1.4978571428571428
         ],
         "y": [
          -0.07500000000000001,
          -0.08250000000000002
         ]
        },
        {
         "hoverinfo": "none",
         "legendgroup": "bearings",
         "line": {
          "color": "#355d7a",
          "width": 1
         },
         "mode": "lines",
         "name": "Bearing 1",
         "showlegend": false,
         "type": "scatter",
         "x": [
          1.4978571428571428,
          1.5021428571428572
         ],
         "y": [
          0.07500000000000001,
          0.08250000000000002
         ]
        },
        {
         "hoverinfo": "none",
         "legendgroup": "bearings",
         "line": {
          "color": "#355d7a",
          "width": 1
         },
         "mode": "lines",
         "name": "Bearing 1",
         "showlegend": false,
         "type": "scatter",
         "x": [
          1.4978571428571428,
          1.5021428571428572
         ],
         "y": [
          -0.07500000000000001,
          -0.08250000000000002
         ]
        },
        {
         "hoverinfo": "none",
         "legendgroup": "bearings",
         "line": {
          "color": "#355d7a",
          "width": 1
         },
         "mode": "lines",
         "name": "Bearing 1",
         "showlegend": false,
         "type": "scatter",
         "x": [
          1.5021428571428572,
          1.5064285714285715
         ],
         "y": [
          0.07500000000000001,
          0.08250000000000002
         ]
        },
        {
         "hoverinfo": "none",
         "legendgroup": "bearings",
         "line": {
          "color": "#355d7a",
          "width": 1
         },
         "mode": "lines",
         "name": "Bearing 1",
         "showlegend": false,
         "type": "scatter",
         "x": [
          1.5021428571428572,
          1.5064285714285715
         ],
         "y": [
          -0.07500000000000001,
          -0.08250000000000002
         ]
        },
        {
         "hoverinfo": "none",
         "legendgroup": "bearings",
         "line": {
          "color": "#355d7a",
          "width": 1
         },
         "mode": "lines",
         "name": "Bearing 1",
         "showlegend": false,
         "type": "scatter",
         "x": [
          1.5064285714285715,
          1.5107142857142857
         ],
         "y": [
          0.07500000000000001,
          0.08250000000000002
         ]
        },
        {
         "hoverinfo": "none",
         "legendgroup": "bearings",
         "line": {
          "color": "#355d7a",
          "width": 1
         },
         "mode": "lines",
         "name": "Bearing 1",
         "showlegend": false,
         "type": "scatter",
         "x": [
          1.5064285714285715,
          1.5107142857142857
         ],
         "y": [
          -0.07500000000000001,
          -0.08250000000000002
         ]
        },
        {
         "hoverinfo": "none",
         "legendgroup": "bearings",
         "line": {
          "color": "#355d7a",
          "width": 1
         },
         "mode": "lines",
         "name": "Bearing 1",
         "showlegend": false,
         "type": "scatter",
         "x": [
          1.5107142857142857,
          1.515
         ],
         "y": [
          0.07500000000000001,
          0.08250000000000002
         ]
        },
        {
         "hoverinfo": "none",
         "legendgroup": "bearings",
         "line": {
          "color": "#355d7a",
          "width": 1
         },
         "mode": "lines",
         "name": "Bearing 1",
         "showlegend": false,
         "type": "scatter",
         "x": [
          1.5107142857142857,
          1.515
         ],
         "y": [
          -0.07500000000000001,
          -0.08250000000000002
         ]
        },
        {
         "hoverinfo": "none",
         "legendgroup": "bearings",
         "line": {
          "color": "#355d7a",
          "width": 1
         },
         "mode": "lines",
         "name": "Bearing 1",
         "showlegend": false,
         "type": "scatter",
         "x": [
          1.4928571428571429,
          1.4928571428571429,
          1.4892857142857143,
          1.4964285714285714,
          1.4892857142857143,
          1.4964285714285714,
          1.4892857142857143,
          1.4964285714285714,
          1.4928571428571429,
          1.4928571428571429
         ],
         "y": [
          0.037500000000000006,
          0.04107142857142858,
          0.04107142857142858,
          0.04464285714285715,
          0.04821428571428572,
          0.051785714285714296,
          0.05535714285714287,
          0.05892857142857144,
          0.05892857142857144,
          0.06250000000000001
         ]
        },
        {
         "hoverinfo": "none",
         "legendgroup": "bearings",
         "line": {
          "color": "#355d7a",
          "width": 1
         },
         "mode": "lines",
         "name": "Bearing 1",
         "showlegend": false,
         "type": "scatter",
         "x": [
          1.4928571428571429,
          1.4928571428571429,
          1.4892857142857143,
          1.4964285714285714,
          1.4892857142857143,
          1.4964285714285714,
          1.4892857142857143,
          1.4964285714285714,
          1.4928571428571429,
          1.4928571428571429
         ],
         "y": [
          -0.037500000000000006,
          -0.04107142857142858,
          -0.04107142857142858,
          -0.04464285714285715,
          -0.04821428571428572,
          -0.051785714285714296,
          -0.05535714285714287,
          -0.05892857142857144,
          -0.05892857142857144,
          -0.06250000000000001
         ]
        },
        {
         "hoverinfo": "none",
         "legendgroup": "bearings",
         "line": {
          "color": "#355d7a",
          "width": 1
         },
         "mode": "lines",
         "name": "Bearing 1",
         "showlegend": false,
         "type": "scatter",
         "x": [
          1.5071428571428571,
          1.5071428571428571
         ],
         "y": [
          0.037500000000000006,
          0.04464285714285715
         ]
        },
        {
         "hoverinfo": "none",
         "legendgroup": "bearings",
         "line": {
          "color": "#355d7a",
          "width": 1
         },
         "mode": "lines",
         "name": "Bearing 1",
         "showlegend": false,
         "type": "scatter",
         "x": [
          1.5071428571428571,
          1.5071428571428571
         ],
         "y": [
          -0.037500000000000006,
          -0.04464285714285715
         ]
        },
        {
         "hoverinfo": "none",
         "legendgroup": "bearings",
         "line": {
          "color": "#355d7a",
          "width": 1
         },
         "mode": "lines",
         "name": "Bearing 1",
         "showlegend": false,
         "type": "scatter",
         "x": [
          1.5,
          1.5,
          1.5142857142857142,
          1.5142857142857142
         ],
         "y": [
          0.05535714285714287,
          0.04464285714285715,
          0.04464285714285715,
          0.05535714285714287
         ]
        },
        {
         "hoverinfo": "none",
         "legendgroup": "bearings",
         "line": {
          "color": "#355d7a",
          "width": 1
         },
         "mode": "lines",
         "name": "Bearing 1",
         "showlegend": false,
         "type": "scatter",
         "x": [
          1.5,
          1.5,
          1.5142857142857142,
          1.5142857142857142
         ],
         "y": [
          -0.05535714285714287,
          -0.04464285714285715,
          -0.04464285714285715,
          -0.05535714285714287
         ]
        },
        {
         "hoverinfo": "none",
         "legendgroup": "bearings",
         "line": {
          "color": "#355d7a",
          "width": 1
         },
         "mode": "lines",
         "name": "Bearing 1",
         "showlegend": false,
         "type": "scatter",
         "x": [
          1.5,
          1.5142857142857142,
          1.5071428571428571,
          1.5071428571428571
         ],
         "y": [
          0.051785714285714296,
          0.051785714285714296,
          0.051785714285714296,
          0.0625
         ]
        },
        {
         "hoverinfo": "none",
         "legendgroup": "bearings",
         "line": {
          "color": "#355d7a",
          "width": 1
         },
         "mode": "lines",
         "name": "Bearing 1",
         "showlegend": false,
         "type": "scatter",
         "x": [
          1.5,
          1.5142857142857142,
          1.5071428571428571,
          1.5071428571428571
         ],
         "y": [
          -0.051785714285714296,
          -0.051785714285714296,
          -0.051785714285714296,
          -0.0625
         ]
        }
       ],
       "layout": {
        "shapes": [
         {
          "fillcolor": "Firebrick",
          "line": {
           "color": "Firebrick"
          },
          "type": "circle",
          "x0": 0.49375,
          "x1": 0.50625,
          "xref": "x",
          "y0": 0.11875,
          "y1": 0.13125,
          "yref": "y"
         },
         {
          "fillcolor": "Firebrick",
          "line": {
           "color": "Firebrick"
          },
          "type": "circle",
          "x0": 0.49375,
          "x1": 0.50625,
          "xref": "x",
          "y0": -0.13125,
          "y1": -0.11875,
          "yref": "y"
         },
         {
          "fillcolor": "Firebrick",
          "line": {
           "color": "Firebrick"
          },
          "type": "circle",
          "x0": 0.99375,
          "x1": 1.00625,
          "xref": "x",
          "y0": 0.11875,
          "y1": 0.13125,
          "yref": "y"
         },
         {
          "fillcolor": "Firebrick",
          "line": {
           "color": "Firebrick"
          },
          "type": "circle",
          "x0": 0.99375,
          "x1": 1.00625,
          "xref": "x",
          "y0": -0.13125,
          "y1": -0.11875,
          "yref": "y"
         }
        ],
        "template": {
         "data": {
          "bar": [
           {
            "error_x": {
             "color": "#2a3f5f"
            },
            "error_y": {
             "color": "#2a3f5f"
            },
            "marker": {
             "line": {
              "color": "white",
              "width": 0.5
             }
            },
            "type": "bar"
           }
          ],
          "barpolar": [
           {
            "marker": {
             "line": {
              "color": "white",
              "width": 0.5
             }
            },
            "type": "barpolar"
           }
          ],
          "carpet": [
           {
            "aaxis": {
             "endlinecolor": "#2a3f5f",
             "gridcolor": "#C8D4E3",
             "linecolor": "#C8D4E3",
             "minorgridcolor": "#C8D4E3",
             "startlinecolor": "#2a3f5f"
            },
            "baxis": {
             "endlinecolor": "#2a3f5f",
             "gridcolor": "#C8D4E3",
             "linecolor": "#C8D4E3",
             "minorgridcolor": "#C8D4E3",
             "startlinecolor": "#2a3f5f"
            },
            "type": "carpet"
           }
          ],
          "choropleth": [
           {
            "colorbar": {
             "outlinewidth": 0,
             "ticks": ""
            },
            "type": "choropleth"
           }
          ],
          "contour": [
           {
            "colorbar": {
             "outlinewidth": 0,
             "ticks": ""
            },
            "colorscale": [
             [
              0,
              "#0d0887"
             ],
             [
              0.1111111111111111,
              "#46039f"
             ],
             [
              0.2222222222222222,
              "#7201a8"
             ],
             [
              0.3333333333333333,
              "#9c179e"
             ],
             [
              0.4444444444444444,
              "#bd3786"
             ],
             [
              0.5555555555555556,
              "#d8576b"
             ],
             [
              0.6666666666666666,
              "#ed7953"
             ],
             [
              0.7777777777777778,
              "#fb9f3a"
             ],
             [
              0.8888888888888888,
              "#fdca26"
             ],
             [
              1,
              "#f0f921"
             ]
            ],
            "type": "contour"
           }
          ],
          "contourcarpet": [
           {
            "colorbar": {
             "outlinewidth": 0,
             "ticks": ""
            },
            "type": "contourcarpet"
           }
          ],
          "heatmap": [
           {
            "colorbar": {
             "outlinewidth": 0,
             "ticks": ""
            },
            "colorscale": [
             [
              0,
              "#0d0887"
             ],
             [
              0.1111111111111111,
              "#46039f"
             ],
             [
              0.2222222222222222,
              "#7201a8"
             ],
             [
              0.3333333333333333,
              "#9c179e"
             ],
             [
              0.4444444444444444,
              "#bd3786"
             ],
             [
              0.5555555555555556,
              "#d8576b"
             ],
             [
              0.6666666666666666,
              "#ed7953"
             ],
             [
              0.7777777777777778,
              "#fb9f3a"
             ],
             [
              0.8888888888888888,
              "#fdca26"
             ],
             [
              1,
              "#f0f921"
             ]
            ],
            "type": "heatmap"
           }
          ],
          "heatmapgl": [
           {
            "colorbar": {
             "outlinewidth": 0,
             "ticks": ""
            },
            "colorscale": [
             [
              0,
              "#0d0887"
             ],
             [
              0.1111111111111111,
              "#46039f"
             ],
             [
              0.2222222222222222,
              "#7201a8"
             ],
             [
              0.3333333333333333,
              "#9c179e"
             ],
             [
              0.4444444444444444,
              "#bd3786"
             ],
             [
              0.5555555555555556,
              "#d8576b"
             ],
             [
              0.6666666666666666,
              "#ed7953"
             ],
             [
              0.7777777777777778,
              "#fb9f3a"
             ],
             [
              0.8888888888888888,
              "#fdca26"
             ],
             [
              1,
              "#f0f921"
             ]
            ],
            "type": "heatmapgl"
           }
          ],
          "histogram": [
           {
            "marker": {
             "colorbar": {
              "outlinewidth": 0,
              "ticks": ""
             }
            },
            "type": "histogram"
           }
          ],
          "histogram2d": [
           {
            "colorbar": {
             "outlinewidth": 0,
             "ticks": ""
            },
            "colorscale": [
             [
              0,
              "#0d0887"
             ],
             [
              0.1111111111111111,
              "#46039f"
             ],
             [
              0.2222222222222222,
              "#7201a8"
             ],
             [
              0.3333333333333333,
              "#9c179e"
             ],
             [
              0.4444444444444444,
              "#bd3786"
             ],
             [
              0.5555555555555556,
              "#d8576b"
             ],
             [
              0.6666666666666666,
              "#ed7953"
             ],
             [
              0.7777777777777778,
              "#fb9f3a"
             ],
             [
              0.8888888888888888,
              "#fdca26"
             ],
             [
              1,
              "#f0f921"
             ]
            ],
            "type": "histogram2d"
           }
          ],
          "histogram2dcontour": [
           {
            "colorbar": {
             "outlinewidth": 0,
             "ticks": ""
            },
            "colorscale": [
             [
              0,
              "#0d0887"
             ],
             [
              0.1111111111111111,
              "#46039f"
             ],
             [
              0.2222222222222222,
              "#7201a8"
             ],
             [
              0.3333333333333333,
              "#9c179e"
             ],
             [
              0.4444444444444444,
              "#bd3786"
             ],
             [
              0.5555555555555556,
              "#d8576b"
             ],
             [
              0.6666666666666666,
              "#ed7953"
             ],
             [
              0.7777777777777778,
              "#fb9f3a"
             ],
             [
              0.8888888888888888,
              "#fdca26"
             ],
             [
              1,
              "#f0f921"
             ]
            ],
            "type": "histogram2dcontour"
           }
          ],
          "mesh3d": [
           {
            "colorbar": {
             "outlinewidth": 0,
             "ticks": ""
            },
            "type": "mesh3d"
           }
          ],
          "parcoords": [
           {
            "line": {
             "colorbar": {
              "outlinewidth": 0,
              "ticks": ""
             }
            },
            "type": "parcoords"
           }
          ],
          "pie": [
           {
            "automargin": true,
            "type": "pie"
           }
          ],
          "scatter": [
           {
            "marker": {
             "colorbar": {
              "outlinewidth": 0,
              "ticks": ""
             }
            },
            "type": "scatter"
           }
          ],
          "scatter3d": [
           {
            "line": {
             "colorbar": {
              "outlinewidth": 0,
              "ticks": ""
             }
            },
            "marker": {
             "colorbar": {
              "outlinewidth": 0,
              "ticks": ""
             },
             "size": 4
            },
            "type": "scatter3d"
           }
          ],
          "scattercarpet": [
           {
            "marker": {
             "colorbar": {
              "outlinewidth": 0,
              "ticks": ""
             }
            },
            "type": "scattercarpet"
           }
          ],
          "scattergeo": [
           {
            "marker": {
             "colorbar": {
              "outlinewidth": 0,
              "ticks": ""
             }
            },
            "type": "scattergeo"
           }
          ],
          "scattergl": [
           {
            "marker": {
             "colorbar": {
              "outlinewidth": 0,
              "ticks": ""
             }
            },
            "type": "scattergl"
           }
          ],
          "scattermapbox": [
           {
            "marker": {
             "colorbar": {
              "outlinewidth": 0,
              "ticks": ""
             }
            },
            "type": "scattermapbox"
           }
          ],
          "scatterpolar": [
           {
            "marker": {
             "colorbar": {
              "outlinewidth": 0,
              "ticks": ""
             }
            },
            "type": "scatterpolar"
           }
          ],
          "scatterpolargl": [
           {
            "marker": {
             "colorbar": {
              "outlinewidth": 0,
              "ticks": ""
             }
            },
            "type": "scatterpolargl"
           }
          ],
          "scatterternary": [
           {
            "marker": {
             "colorbar": {
              "outlinewidth": 0,
              "ticks": ""
             }
            },
            "type": "scatterternary"
           }
          ],
          "surface": [
           {
            "colorbar": {
             "outlinewidth": 0,
             "ticks": ""
            },
            "colorscale": [
             [
              0,
              "#0d0887"
             ],
             [
              0.1111111111111111,
              "#46039f"
             ],
             [
              0.2222222222222222,
              "#7201a8"
             ],
             [
              0.3333333333333333,
              "#9c179e"
             ],
             [
              0.4444444444444444,
              "#bd3786"
             ],
             [
              0.5555555555555556,
              "#d8576b"
             ],
             [
              0.6666666666666666,
              "#ed7953"
             ],
             [
              0.7777777777777778,
              "#fb9f3a"
             ],
             [
              0.8888888888888888,
              "#fdca26"
             ],
             [
              1,
              "#f0f921"
             ]
            ],
            "type": "surface"
           }
          ],
          "table": [
           {
            "cells": {
             "fill": {
              "color": "#EBF0F8"
             },
             "line": {
              "color": "white"
             }
            },
            "header": {
             "fill": {
              "color": "#C8D4E3"
             },
             "line": {
              "color": "white"
             }
            },
            "type": "table"
           }
          ]
         },
         "layout": {
          "annotationdefaults": {
           "arrowcolor": "#2a3f5f",
           "arrowhead": 0,
           "arrowwidth": 1
          },
          "coloraxis": {
           "colorbar": {
            "outlinewidth": 0,
            "ticks": ""
           }
          },
          "colorscale": {
           "diverging": [
            [
             0,
             "#8e0152"
            ],
            [
             0.1,
             "#c51b7d"
            ],
            [
             0.2,
             "#de77ae"
            ],
            [
             0.3,
             "#f1b6da"
            ],
            [
             0.4,
             "#fde0ef"
            ],
            [
             0.5,
             "#f7f7f7"
            ],
            [
             0.6,
             "#e6f5d0"
            ],
            [
             0.7,
             "#b8e186"
            ],
            [
             0.8,
             "#7fbc41"
            ],
            [
             0.9,
             "#4d9221"
            ],
            [
             1,
             "#276419"
            ]
           ],
           "sequential": [
            [
             0,
             "#0d0887"
            ],
            [
             0.1111111111111111,
             "#46039f"
            ],
            [
             0.2222222222222222,
             "#7201a8"
            ],
            [
             0.3333333333333333,
             "#9c179e"
            ],
            [
             0.4444444444444444,
             "#bd3786"
            ],
            [
             0.5555555555555556,
             "#d8576b"
            ],
            [
             0.6666666666666666,
             "#ed7953"
            ],
            [
             0.7777777777777778,
             "#fb9f3a"
            ],
            [
             0.8888888888888888,
             "#fdca26"
            ],
            [
             1,
             "#f0f921"
            ]
           ],
           "sequentialminus": [
            [
             0,
             "#0d0887"
            ],
            [
             0.1111111111111111,
             "#46039f"
            ],
            [
             0.2222222222222222,
             "#7201a8"
            ],
            [
             0.3333333333333333,
             "#9c179e"
            ],
            [
             0.4444444444444444,
             "#bd3786"
            ],
            [
             0.5555555555555556,
             "#d8576b"
            ],
            [
             0.6666666666666666,
             "#ed7953"
            ],
            [
             0.7777777777777778,
             "#fb9f3a"
            ],
            [
             0.8888888888888888,
             "#fdca26"
            ],
            [
             1,
             "#f0f921"
            ]
           ]
          },
          "colorway": [
           "#1f77b4",
           "#ff7f0e",
           "#2ca02c",
           "#d62728",
           "#9467bd",
           "#8c564b",
           "#e377c2",
           "#7f7f7f",
           "#bcbd22",
           "#17becf"
          ],
          "font": {
           "color": "#2a3f5f"
          },
          "geo": {
           "bgcolor": "white",
           "lakecolor": "white",
           "landcolor": "white",
           "showlakes": true,
           "showland": true,
           "subunitcolor": "#C8D4E3"
          },
          "hoverlabel": {
           "align": "left"
          },
          "hovermode": "closest",
          "mapbox": {
           "style": "light"
          },
          "paper_bgcolor": "white",
          "plot_bgcolor": "white",
          "polar": {
           "angularaxis": {
            "gridcolor": "#EBF0F8",
            "linecolor": "#EBF0F8",
            "ticks": ""
           },
           "bgcolor": "white",
           "radialaxis": {
            "gridcolor": "#EBF0F8",
            "linecolor": "#EBF0F8",
            "ticks": ""
           }
          },
          "scene": {
           "camera": {
            "center": {
             "x": 0,
             "y": 0,
             "z": 0
            },
            "eye": {
             "x": 2,
             "y": 2,
             "z": 2
            },
            "up": {
             "x": 0,
             "y": 0,
             "z": 1
            }
           },
           "xaxis": {
            "backgroundcolor": "white",
            "gridcolor": "#DFE8F3",
            "gridwidth": 2,
            "linecolor": "#EBF0F8",
            "showbackground": true,
            "showspikes": false,
            "ticks": "",
            "zerolinecolor": "#EBF0F8"
           },
           "yaxis": {
            "backgroundcolor": "white",
            "gridcolor": "#DFE8F3",
            "gridwidth": 2,
            "linecolor": "#EBF0F8",
            "showbackground": true,
            "showspikes": false,
            "ticks": "",
            "zerolinecolor": "#EBF0F8"
           },
           "zaxis": {
            "backgroundcolor": "white",
            "gridcolor": "#DFE8F3",
            "gridwidth": 2,
            "linecolor": "#EBF0F8",
            "showbackground": true,
            "showspikes": false,
            "ticks": "",
            "zerolinecolor": "#EBF0F8"
           }
          },
          "shapedefaults": {
           "line": {
            "color": "#2a3f5f"
           }
          },
          "ternary": {
           "aaxis": {
            "gridcolor": "#DFE8F3",
            "linecolor": "#A2B1C6",
            "ticks": ""
           },
           "baxis": {
            "gridcolor": "#DFE8F3",
            "linecolor": "#A2B1C6",
            "ticks": ""
           },
           "bgcolor": "white",
           "caxis": {
            "gridcolor": "#DFE8F3",
            "linecolor": "#A2B1C6",
            "ticks": ""
           }
          },
          "title": {
           "x": 0.05
          },
          "xaxis": {
           "automargin": true,
           "gridcolor": "#EBF0F8",
           "linecolor": "black",
           "linewidth": 2,
           "mirror": true,
           "showline": true,
           "ticks": "",
           "title": {
            "standoff": 15
           },
           "zeroline": false,
           "zerolinecolor": "#EBF0F8",
           "zerolinewidth": 2
          },
          "yaxis": {
           "automargin": true,
           "gridcolor": "#EBF0F8",
           "linecolor": "black",
           "linewidth": 2,
           "mirror": true,
           "showline": true,
           "ticks": "",
           "title": {
            "standoff": 15
           },
           "zeroline": false,
           "zerolinecolor": "#EBF0F8",
           "zerolinewidth": 2
          }
         }
        },
        "title": {
         "text": "Rotor Model"
        },
        "xaxis": {
         "mirror": true,
         "range": [
          -0.15000000000000002,
          1.6500000000000001
         ],
         "showgrid": false,
         "title": {
          "text": "Axial location (m)"
         }
        },
        "yaxis": {
         "mirror": true,
         "range": [
          -0.44999999999999996,
          0.44999999999999996
         ],
         "showgrid": false,
         "title": {
          "text": "Shaft radius (m)"
         }
        }
       }
      }
     },
     "metadata": {},
     "output_type": "display_data"
    }
   ],
   "source": [
    "# From_section class method instantiation.\n",
    "bearing_seal_elements = []\n",
    "disk_elements = []\n",
    "shaft_length_data = 3 * [0.5]\n",
    "i_d = 3 * [0]\n",
    "o_d = 3 * [0.05]\n",
    "\n",
    "disk_elements.append(\n",
    "    rs.DiskElement.from_geometry(n=1, material=steel, width=0.07, i_d=0.05, o_d=0.28)\n",
    ")\n",
    "\n",
    "disk_elements.append(\n",
    "    rs.DiskElement.from_geometry(n=2, material=steel, width=0.07, i_d=0.05, o_d=0.35)\n",
    ")\n",
    "bearing_seal_elements.append(rs.BearingElement(n=0, kxx=1e6, kyy=1e6, cxx=3e3, cyy=3e3))\n",
    "bearing_seal_elements.append(rs.BearingElement(n=3, kxx=1e6, kyy=1e6, cxx=3e3, cyy=3e3))\n",
    "\n",
    "rotor595fs = rs.Rotor.from_section(\n",
    "    brg_seal_data=bearing_seal_elements,\n",
    "    disk_data=disk_elements,\n",
    "    leng_data=shaft_length_data,\n",
    "    idl_data=i_d,\n",
    "    odl_data=o_d,\n",
    "    material_data=steel,\n",
    ")\n",
    "rotor595fs.plot_rotor()"
   ]
  },
  {
   "cell_type": "code",
   "execution_count": 4,
   "metadata": {
    "execution": {
     "iopub.execute_input": "2023-05-04T01:00:41.893189Z",
     "iopub.status.busy": "2023-05-04T01:00:41.893021Z",
     "iopub.status.idle": "2023-05-04T01:00:41.975544Z",
     "shell.execute_reply": "2023-05-04T01:00:41.975127Z"
    }
   },
   "outputs": [
    {
     "name": "stdout",
     "output_type": "stream",
     "text": [
      "Normal Instantiation = [ 834.32208726  834.32208726 2890.6574236  2890.65742361 8223.63465095\n",
      " 8223.63465117] [RPM]\n",
      "\n",
      "\n",
      "From Section Instantiation = [ 834.33341919  834.33341919 2891.57258897 2891.57258897 8174.61783178\n",
      " 8174.61783186] [RPM]\n"
     ]
    }
   ],
   "source": [
    "# Obtaining results for w=0\n",
    "\n",
    "modal595c = rotor595c.run_modal(0)\n",
    "modal595fs = rotor595fs.run_modal(0)\n",
    "\n",
    "print(\"Normal Instantiation =\", modal595c.wn * 60 / (2 * np.pi), \"[RPM]\")\n",
    "print(\"\\n\")\n",
    "print(\"From Section Instantiation =\", modal595fs.wn * 60 / (2 * np.pi), \"[RPM]\")"
   ]
  },
  {
   "cell_type": "code",
   "execution_count": 5,
   "metadata": {
    "execution": {
     "iopub.execute_input": "2023-05-04T01:00:41.977226Z",
     "iopub.status.busy": "2023-05-04T01:00:41.976912Z",
     "iopub.status.idle": "2023-05-04T01:00:42.013240Z",
     "shell.execute_reply": "2023-05-04T01:00:42.012859Z"
    }
   },
   "outputs": [
    {
     "name": "stdout",
     "output_type": "stream",
     "text": [
      "Normal Instantiation = [ 821.83844862  845.51158264 2616.47783213 3130.72229886 6210.9376164\n",
      " 7341.91366704 8988.36233905] [RPM]\n"
     ]
    }
   ],
   "source": [
    "# Obtaining results for w=4000RPM\n",
    "\n",
    "modal595c = rotor595c.run_modal(4000 * np.pi / 30, num_modes=14)  # speed input in rad/s\n",
    "print(\"Normal Instantiation =\", modal595c.wn * 60 / (2 * np.pi), \"[RPM]\")"
   ]
  },
  {
   "cell_type": "code",
   "execution_count": 6,
   "metadata": {
    "execution": {
     "iopub.execute_input": "2023-05-04T01:00:42.014648Z",
     "iopub.status.busy": "2023-05-04T01:00:42.014537Z",
     "iopub.status.idle": "2023-05-04T01:00:43.797794Z",
     "shell.execute_reply": "2023-05-04T01:00:43.797263Z"
    },
    "scrolled": false
   },
   "outputs": [
    {
     "data": {
      "application/vnd.plotly.v1+json": {
       "config": {
        "plotlyServerURL": "https://plot.ly"
       },
       "data": [
        {
         "hovertemplate": "Frequency (RPM): %{y:.2f}<br>Critical Speed (RPM): %{x:.2f}",
         "legendgroup": "Crit. Speed",
         "marker": {
          "color": "black",
          "symbol": "x"
         },
         "mode": "markers",
         "name": "Crit. Speed",
         "showlegend": true,
         "type": "scatter",
         "x": [
          830.8023007063491,
          835.6596264282891,
          2615.5414359849256,
          2979.285333667362
         ],
         "y": [
          830.8023007063491,
          835.6596264282891,
          2615.5414359849256,
          2979.285333667362
         ]
        },
        {
         "hoverinfo": "none",
         "legendgroup": "Forward",
         "marker": {
          "color": [
           0.31854722058593643
          ],
          "coloraxis": "coloraxis",
          "symbol": "triangle-up"
         },
         "mode": "markers",
         "name": "Forward",
         "showlegend": false,
         "type": "scatter",
         "x": [
          0
         ],
         "y": [
          833.251910723808
         ]
        },
        {
         "hoverinfo": "none",
         "legendgroup": "Forward",
         "marker": {
          "color": [
           0.3189400275886833,
           0.3193321262417192,
           0.3197235169033256,
           0.3201141999438747,
           0.32050417575694246,
           0.3208934447451936,
           0.3212820073281709,
           0.32166986394674973,
           0.3220570150502426,
           0.322443461109457,
           0.32282920260455417,
           0.32321424003409643,
           0.32359857390964364,
           0.3239822047616398,
           0.3243651331262253,
           0.3247473595590724,
           0.32512888462835826,
           0.32550970891697273,
           0.3258898330201591,
           0.3262692575485971,
           0.32664798312126603,
           0.3270260103710319,
           0.32740333994682763,
           0.3277799725087627,
           0.3281559087282927,
           0.32853114928454613,
           0.3289056948767144,
           0.32927954621100936,
           0.32965270400504393,
           0.33002516899013373,
           0.33039694190400176,
           0.33076802349959816,
           0.3311384145379631,
           0.33150811579447226,
           0.3318771280511801,
           0.33224545210148243,
           0.33261308874656687,
           0.33298003880070426,
           0.3333463030913452,
           0.33371188244460326,
           0.3340767777093394,
           0.33444098973089603,
           0.33480451937116407,
           0.33516736750103354,
           0.3355295349988411,
           0.33589102274897137,
           0.33625183164842976,
           0.33661196259825565,
           0.3369714165139174
          ],
          "coloraxis": "coloraxis",
          "symbol": "triangle-up"
         },
         "mode": "markers",
         "name": "Forward",
         "showlegend": false,
         "type": "scatter",
         "x": [
          81.63265306122449,
          163.26530612244898,
          244.89795918367346,
          326.53061224489795,
          408.1632653061224,
          489.7959183673469,
          571.4285714285714,
          653.0612244897959,
          734.6938775510204,
          816.3265306122448,
          897.9591836734694,
          979.5918367346939,
          1061.2244897959183,
          1142.857142857143,
          1224.4897959183672,
          1306.1224489795918,
          1387.7551020408164,
          1469.3877551020407,
          1551.020408163265,
          1632.6530612244896,
          1714.2857142857144,
          1795.9183673469388,
          1877.5510204081631,
          1959.1836734693877,
          2040.8163265306123,
          2122.4489795918366,
          2204.081632653061,
          2285.714285714286,
          2367.3469387755104,
          2448.9795918367345,
          2530.612244897959,
          2612.2448979591836,
          2693.877551020408,
          2775.5102040816328,
          2857.142857142857,
          2938.7755102040815,
          3020.408163265306,
          3102.04081632653,
          3183.6734693877547,
          3265.3061224489793,
          3346.9387755102043,
          3428.571428571429,
          3510.204081632653,
          3591.8367346938776,
          3673.469387755102,
          3755.1020408163263,
          3836.734693877551,
          3918.3673469387754,
          4000
         ],
         "y": [
          833.4895674303498,
          833.7266887242213,
          833.9632763452431,
          834.1993320272435,
          834.4348574976827,
          834.6698544787453,
          834.904324686385,
          835.1382698302642,
          835.3716916147297,
          835.6045917379341,
          835.8369718919888,
          836.0688337634018,
          836.3001790327077,
          836.5310093740934,
          836.7613264565371,
          836.9911319429256,
          837.2204274901045,
          837.4492147491056,
          837.6774953653627,
          837.9052709780515,
          838.1325432207601,
          838.3593137215107,
          838.5855841021018,
          838.8113559784301,
          839.0366309611951,
          839.2614106547677,
          839.4856966578395,
          839.7094905638952,
          839.9327939594824,
          840.1556084267886,
          840.3779355413486,
          840.5997768732825,
          840.8211339868931,
          841.0420084410835,
          841.2624017886538,
          841.482315576957,
          841.7017513477338,
          841.9207106370284,
          842.1391949751225,
          842.3572058870939,
          842.5747448917173,
          842.7918135027735,
          843.0084132281673,
          843.224545570383,
          843.4402120265504,
          843.6554140873895,
          843.8701532392407,
          844.0844309622643,
          844.2982487311435
         ]
        },
        {
         "hoverinfo": "none",
         "legendgroup": "Forward",
         "marker": {
          "color": [
           1.6788572169895617,
           1.6765647122636638,
           1.67425599615677,
           1.6719314140124435,
           1.6695913093666384,
           1.6672360237611528,
           1.6648658967422714,
           1.662481265681004,
           1.6600824657659985,
           1.6576698298985126,
           1.655243688589976,
           1.6528043698923733,
           1.6503521993711792,
           1.647887499962785,
           1.64541059198687,
           1.6429217930449438,
           1.6404214179605898,
           1.637909778724355,
           1.635387184444344,
           1.6328539413717658,
           1.630310352698178,
           1.6277567186692008,
           1.6251933364306992,
           1.6226205000926708,
           1.6200385006042946,
           1.6174476258019983,
           1.6148481603211613,
           1.6122403855821543,
           1.6096245798103557,
           1.607001017974298,
           1.6043699717658073,
           1.6017317095994437,
           1.5990864966356606,
           1.5964345946731067,
           1.5937762622353018,
           1.5911117545439553,
           1.5884413234208474,
           1.5857652174420427,
           1.5830836818374945,
           1.5803969584475268,
           1.5777052858870697,
           1.5750088993797255,
           1.5723080308636008,
           1.5696029089499655,
           1.566893758971006,
           1.5641808029619508,
           1.5614642596711008,
           1.5587443445867004,
           1.5560212699788705
          ],
          "coloraxis": "coloraxis",
          "symbol": "triangle-up"
         },
         "mode": "markers",
         "name": "Forward",
         "showlegend": false,
         "type": "scatter",
         "x": [
          81.63265306122449,
          163.26530612244898,
          244.89795918367346,
          326.53061224489795,
          408.1632653061224,
          489.7959183673469,
          571.4285714285714,
          653.0612244897959,
          734.6938775510204,
          816.3265306122448,
          897.9591836734694,
          979.5918367346939,
          1061.2244897959183,
          1142.857142857143,
          1224.4897959183672,
          1306.1224489795918,
          1387.7551020408164,
          1469.3877551020407,
          1551.020408163265,
          1632.6530612244896,
          1714.2857142857144,
          1795.9183673469388,
          1877.5510204081631,
          1959.1836734693877,
          2040.8163265306123,
          2122.4489795918366,
          2204.081632653061,
          2285.714285714286,
          2367.3469387755104,
          2448.9795918367345,
          2530.612244897959,
          2612.2448979591836,
          2693.877551020408,
          2775.5102040816328,
          2857.142857142857,
          2938.7755102040815,
          3020.408163265306,
          3102.04081632653,
          3183.6734693877547,
          3265.3061224489793,
          3346.9387755102043,
          3428.571428571429,
          3510.204081632653,
          3591.8367346938776,
          3673.469387755102,
          3755.1020408163263,
          3836.734693877551,
          3918.3673469387754,
          4000
         ],
         "y": [
          2797.7844899739507,
          2803.125345522842,
          2808.4541574930136,
          2813.770800177596,
          2819.075150749544,
          2824.367089237746,
          2829.646498538787,
          2834.9132644041774,
          2840.167275428746,
          2845.408423030347,
          2850.6366014472856,
          2855.851707726232,
          2861.0536416957543,
          2866.2423059726275,
          2871.4176059067836,
          2876.579449597528,
          2881.7277478569476,
          2886.862414199473,
          2891.983364815205,
          2897.090518533255,
          2902.1837968301643,
          2907.2631237796677,
          2912.328426041295,
          2917.3796328272956,
          2922.416675882266,
          2927.4394894562947,
          2932.448010258703,
          2937.442177487202,
          2942.421932717739,
          2947.387219950031,
          2952.3379855223934,
          2957.2741781267596,
          2962.195748740121,
          2967.1026506336607,
          2971.994839297736,
          2976.8722724577924,
          2981.734910003346,
          2986.5827139899566,
          2991.41564856931,
          2996.2336800008475,
          3001.0367765920396,
          3005.8249086794494,
          3010.5980485782543,
          3015.3561705675993,
          3020.099250872569,
          3024.8272675914523,
          3029.5402007029265,
          3034.238032013635,
          3038.920745123245
         ]
        },
        {
         "hoverinfo": "none",
         "legendgroup": "Forward",
         "marker": {
          "color": [
           5.488406171386086,
           5.512685397384878,
           5.536628074437068,
           5.560235866573162,
           5.583510422719896,
           5.6064533774137795,
           5.62906635756493,
           5.651350984463931,
           5.673308875846481,
           5.694941651823465,
           5.716250935697961,
           5.737238358925446,
           5.757905562712193,
           5.778254201810253,
           5.798285945225718,
           5.81800248147541
          ],
          "coloraxis": "coloraxis",
          "symbol": "triangle-up"
         },
         "mode": "markers",
         "name": "Forward",
         "showlegend": false,
         "type": "scatter",
         "x": [
          0,
          81.63265306122449,
          163.26530612244898,
          244.89795918367346,
          326.53061224489795,
          408.1632653061224,
          489.7959183673469,
          571.4285714285714,
          653.0612244897959,
          734.6938775510204,
          816.3265306122448,
          897.9591836734694,
          979.5918367346939,
          1061.2244897959183,
          1142.857142857143,
          1224.4897959183672
         ],
         "y": [
          6193.496184049689,
          6193.630749060863,
          6193.898202940002,
          6194.298470595666,
          6194.831359662975,
          6195.496570611469,
          6196.293701445723,
          6197.222255782872,
          6198.281649088739,
          6199.4712132125715,
          6200.790202826736,
          6202.2377983646165,
          6203.813112708558,
          6205.515194105367,
          6207.343029924677,
          6209.295550857129
         ]
        },
        {
         "hoverinfo": "none",
         "legendgroup": "Forward",
         "marker": {
          "color": [
           5.8374055190551015,
           5.856496788512906,
           5.875278046023734,
           5.893751072169789,
           5.9119176759746725,
           5.929779697574083,
           5.9473390060271925,
           5.964597502472561,
           5.981557120726836,
           5.99821982842534,
           6.014587628453578,
           6.030662556458084,
           6.046446684698016,
           6.061942120923829,
           6.077151007957257,
           6.092075524222471,
           6.106717884182787,
           6.1210803371107065,
           6.135165166724731,
           6.148974691800992,
           6.162511264468849,
           6.175777271097687,
           6.188775129823907,
           6.20150728948532,
           6.213976231441899,
           6.226184464925357,
           6.238134530573286,
           6.249828994447583,
           6.261270449892195,
           6.272461515403178,
           6.283404834149423,
           6.294103071962927,
           6.304558916174029,
           6.314775073454725
          ],
          "coloraxis": "coloraxis",
          "symbol": "triangle-up"
         },
         "mode": "markers",
         "name": "Forward",
         "showlegend": false,
         "type": "scatter",
         "x": [
          1306.1224489795918,
          1387.7551020408164,
          1469.3877551020407,
          1551.020408163265,
          1632.6530612244896,
          1714.2857142857144,
          1795.9183673469388,
          1877.5510204081631,
          1959.1836734693877,
          2040.8163265306123,
          2122.4489795918366,
          2204.081632653061,
          2285.714285714286,
          2367.3469387755104,
          2448.9795918367345,
          2530.612244897959,
          2612.2448979591836,
          2693.877551020408,
          2775.5102040816328,
          2857.142857142857,
          2938.7755102040815,
          3020.408163265306,
          3102.04081632653,
          3183.6734693877547,
          3265.3061224489793,
          3346.9387755102043,
          3428.571428571429,
          3510.204081632653,
          3591.8367346938776,
          3673.469387755102,
          3755.1020408163263,
          3836.734693877551,
          3918.3673469387754,
          4000
         ],
         "y": [
          6211.37163304509,
          6213.570103695681,
          6215.889741226314,
          6218.329280421986,
          6220.887414292079,
          6223.56279537394,
          6226.354039556969,
          6229.25972883268,
          6232.278412193336,
          6235.408608116118,
          6238.648806313144,
          6241.997471356252,
          6245.453041853462,
          6249.013934528148,
          6252.67854419322,
          6256.445246786189,
          6260.312400228719,
          6264.278346158295,
          6268.341411668173,
          6272.4999105692195,
          6276.752144381159,
          6281.096404516318,
          6285.5309724543495,
          6290.05412363498,
          6294.664124881275,
          6299.359239412568,
          6304.137724437209,
          6308.997835294717,
          6313.937826032864,
          6318.955948654551,
          6324.050456167833,
          6329.2196022659155,
          6334.461643654478,
          6339.774840491011
         ]
        },
        {
         "hoverinfo": "none",
         "legendgroup": "Backward",
         "marker": {
          "color": [
           0.31815370489516287,
           0.31775948019570943,
           0.3173645461801958,
           0.3169689025636075,
           0.31657254907207094,
           0.3161754854569519,
           0.31577771148614825,
           0.3153792269419248,
           0.3149800316305786,
           0.31458012537232355,
           0.3141795080130483,
           0.3137781794131698,
           0.3133761394543371,
           0.31297338803609204,
           0.31256992508443615,
           0.3121657505418247,
           0.31176086437208894,
           0.3113552665595841,
           0.31094895711086945,
           0.3105419360524138,
           0.31013420343630005,
           0.3097257593372737,
           0.3093166038478643,
           0.30890673708565913,
           0.3084961591920493,
           0.3080848703354766,
           0.30767287070062854,
           0.3072601605009129,
           0.30684673997362255,
           0.306432609379041,
           0.3060177690061984,
           0.3056022191659439,
           0.3051859601967772,
           0.3047689924597372,
           0.3043513163455471,
           0.30393293227082685,
           0.30351384068054393,
           0.30309404204417545,
           0.3026735368554503,
           0.30225232564644455,
           0.3018304089647295,
           0.30140778739802604,
           0.30098446155690955,
           0.3005604320796759,
           0.30013569963626263,
           0.2997102649294282,
           0.2992841286875788,
           0.298857291673263,
           0.29842975467529
          ],
          "coloraxis": "coloraxis",
          "symbol": "triangle-down"
         },
         "mode": "markers",
         "name": "Backward",
         "showlegend": false,
         "type": "scatter",
         "x": [
          81.63265306122449,
          163.26530612244898,
          244.89795918367346,
          326.53061224489795,
          408.1632653061224,
          489.7959183673469,
          571.4285714285714,
          653.0612244897959,
          734.6938775510204,
          816.3265306122448,
          897.9591836734694,
          979.5918367346939,
          1061.2244897959183,
          1142.857142857143,
          1224.4897959183672,
          1306.1224489795918,
          1387.7551020408164,
          1469.3877551020407,
          1551.020408163265,
          1632.6530612244896,
          1714.2857142857144,
          1795.9183673469388,
          1877.5510204081631,
          1959.1836734693877,
          2040.8163265306123,
          2122.4489795918366,
          2204.081632653061,
          2285.714285714286,
          2367.3469387755104,
          2448.9795918367345,
          2530.612244897959,
          2612.2448979591836,
          2693.877551020408,
          2775.5102040816328,
          2857.142857142857,
          2938.7755102040815,
          3020.408163265306,
          3102.04081632653,
          3183.6734693877547,
          3265.3061224489793,
          3346.9387755102043,
          3428.571428571429,
          3510.204081632653,
          3591.8367346938776,
          3673.469387755102,
          3755.1020408163263,
          3836.734693877551,
          3918.3673469387754,
          4000
         ],
         "y": [
          833.0137168593105,
          832.7749840849236,
          832.5357106432203,
          832.295894770822,
          832.0555346980084,
          831.8146286496485,
          831.5731748442698,
          831.3311714943587,
          831.0886168067333,
          830.8455089822269,
          830.6018462153294,
          830.3576266950007,
          830.1128486041629,
          829.8675101192907,
          829.62160941153,
          829.3751446458507,
          829.1281139811523,
          828.8805155703647,
          828.6323475607102,
          828.383608093204,
          828.134295302912,
          827.8844073192971,
          827.633942265597,
          827.3828982589949,
          827.1312734112039,
          826.8790658275387,
          826.6262736076831,
          826.3728948456995,
          826.1189276288146,
          825.8643700395982,
          825.609220153882,
          825.3534760419717,
          825.0971357681693,
          824.840197391277,
          824.5826589638332,
          824.3245185327951,
          824.0657741393775,
          823.8064238188799,
          823.5464656008924,
          823.2858975095089,
          823.024717562487,
          822.7629237723656,
          822.5005141458332,
          822.2374866838923,
          821.9738393822174,
          821.7095702299104,
          821.4446772115602,
          821.1791583055925,
          820.913011484809
         ]
        },
        {
         "hoverinfo": "none",
         "legendgroup": "Backward",
         "marker": {
          "color": [
           0.3185472205857935
          ],
          "coloraxis": "coloraxis",
          "symbol": "triangle-down"
         },
         "mode": "markers",
         "name": "Backward",
         "showlegend": false,
         "type": "scatter",
         "x": [
          0
         ],
         "y": [
          833.2519107240498
         ]
        },
        {
         "hoverinfo": "none",
         "legendgroup": "Backward",
         "marker": {
          "color": [
           1.6811331632235873,
           1.683392202209573,
           1.6856339836437535,
           1.6878581558135362,
           1.6900643656967722,
           1.6922522590501432,
           1.6944214805681381,
           1.6965716740281296,
           1.698702482362813,
           1.7008135478355708,
           1.7029045121617599,
           1.7049750166314812,
           1.7070247023325646,
           1.7090532101676086,
           1.7110601811370243,
           1.7130452563956515,
           1.7150080774550902,
           1.716948286340121,
           1.7188655257526788,
           1.7207594392582373,
           1.7226296713406843,
           1.724475867767698,
           1.726297675596846,
           1.7280947434544134,
           1.7298667216480608,
           1.7316132623908922,
           1.7333340199537994,
           1.7350286508840618,
           1.736696814181195,
           1.73833817145893,
           1.7399523871453781,
           1.7415391287255446,
           1.7430980668524236,
           1.7446288755682948,
           1.746131232538184,
           1.7476048191937643,
           1.749049320915523,
           1.750464427321557,
           1.7518498323231222,
           1.7532052344047904,
           1.754530336830357,
           1.755824847742196,
           1.7570884804393656,
           1.75832095352099,
           1.7595219910960609,
           1.760691322948899,
           1.761828684713433,
           1.7629338180775032,
           1.7640064709542629,
           1.7650463976085005
          ],
          "coloraxis": "coloraxis",
          "symbol": "triangle-down"
         },
         "mode": "markers",
         "name": "Backward",
         "showlegend": false,
         "type": "scatter",
         "x": [
          0,
          81.63265306122449,
          163.26530612244898,
          244.89795918367346,
          326.53061224489795,
          408.1632653061224,
          489.7959183673469,
          571.4285714285714,
          653.0612244897959,
          734.6938775510204,
          816.3265306122448,
          897.9591836734694,
          979.5918367346939,
          1061.2244897959183,
          1142.857142857143,
          1224.4897959183672,
          1306.1224489795918,
          1387.7551020408164,
          1469.3877551020407,
          1551.020408163265,
          1632.6530612244896,
          1714.2857142857144,
          1795.9183673469388,
          1877.5510204081631,
          1959.1836734693877,
          2040.8163265306123,
          2122.4489795918366,
          2204.081632653061,
          2285.714285714286,
          2367.3469387755104,
          2448.9795918367345,
          2530.612244897959,
          2612.2448979591836,
          2693.877551020408,
          2775.5102040816328,
          2857.142857142857,
          2938.7755102040815,
          3020.408163265306,
          3102.04081632653,
          3183.6734693877547,
          3265.3061224489793,
          3346.9387755102043,
          3428.571428571429,
          3510.204081632653,
          3591.8367346938776,
          3673.469387755102,
          3755.1020408163263,
          3836.734693877551,
          3918.3673469387754,
          4000
         ],
         "y": [
          2792.4317194203427,
          2787.0671653629347,
          2781.690962117333,
          2776.3032469308882,
          2770.9041599111188,
          2765.4938440565506,
          2760.0724452245954,
          2754.6401121378412,
          2749.1969963768656,
          2743.7432523659627,
          2738.279037365247,
          2732.8045114405454,
          2727.319837462697,
          2721.825181090593,
          2716.3207107354597,
          2710.8065975510367,
          2705.2830153980785,
          2699.7501408285766,
          2694.2081530578916,
          2688.657233916445,
          2683.0975678428663,
          2677.5293418219308,
          2671.952745375645,
          2666.367970492735,
          2660.7752116125757,
          2655.1746655783145,
          2649.566531578541,
          2643.9510111009963,
          2638.3283079156968,
          2632.6986279658595,
          2627.0621793798414,
          2621.419172349101,
          2615.769819128946,
          2610.1143339456203,
          2604.45293294961,
          2598.7858341339224,
          2593.113257303175,
          2587.4354239708796,
          2581.752557322407,
          2576.064882120746,
          2570.3726246467977,
          2564.676012629867,
          2558.9752751776114,
          2553.2706426779273,
          2547.562346740571,
          2541.85062013077,
          2536.1356966560193,
          2530.4178111206643,
          2524.6971992286053,
          2518.9740974975093
         ]
        },
        {
         "hoverinfo": "none",
         "legendgroup": "Backward",
         "marker": {
          "color": [
           1.6811331632225002
          ],
          "coloraxis": "coloraxis",
          "symbol": "triangle-down"
         },
         "mode": "markers",
         "name": "Backward",
         "showlegend": false,
         "type": "scatter",
         "x": [
          0
         ],
         "y": [
          2792.4317194286377
         ]
        },
        {
         "hoverinfo": "none",
         "legendgroup": "Backward",
         "marker": {
          "color": [
           5.488406171514968,
           5.4637887123822475,
           5.438831312294509,
           5.413532237852227,
           5.387889723937455,
           5.361901974878587,
           5.335567156840343,
           5.30888339874885,
           5.281848789487721,
           5.254461375895345,
           5.226719163384374,
           5.1986201131439875,
           5.170162147501897,
           5.141343149228772,
           5.112160966309989,
           5.082613417767054,
           5.052698299854376,
           5.022413398879293
          ],
          "coloraxis": "coloraxis",
          "symbol": "triangle-down"
         },
         "mode": "markers",
         "name": "Backward",
         "showlegend": false,
         "type": "scatter",
         "x": [
          0,
          81.63265306122449,
          163.26530612244898,
          244.89795918367346,
          326.53061224489795,
          408.1632653061224,
          489.7959183673469,
          571.4285714285714,
          653.0612244897959,
          734.6938775510204,
          816.3265306122448,
          897.9591836734694,
          979.5918367346939,
          1061.2244897959183,
          1142.857142857143,
          1224.4897959183672,
          1306.1224489795918,
          1387.7551020408164
         ],
         "y": [
          6193.496183867707,
          6193.49445905456,
          6193.625390984485,
          6193.888652205714,
          6194.283760614606,
          6194.810065391891,
          6195.466736161548,
          6196.252746712632,
          6197.166858757377,
          6198.2076052295215,
          6199.373269792473,
          6200.661866541209,
          6202.071114909568,
          6203.598415352019,
          6205.24081864604,
          6206.994996723412,
          6208.8572063023585,
          6210.823251408439
         ]
        },
        {
         "hoverinfo": "none",
         "legendgroup": "Backward",
         "marker": {
          "color": [
           4.991756500709768,
           4.960725409903198,
           4.929317966982628,
           4.897532073653408,
           4.865365721559528,
           4.832817028677063,
           4.799884279736086,
           4.766565975599698,
           4.732860891132767,
           4.698768144997782,
           4.66428727572453,
           4.629418334970308,
           4.594161991117993,
           4.558519651155661,
           4.522493595897196,
           4.486087134868125,
           4.4493047799211976,
           4.412152437130078,
           4.374637618222789,
           4.336769672915541,
           4.29856003578277,
           4.26002249054963,
           4.221173440062955,
           4.182032185038275,
           4.142621191220835,
           4.102966347227809,
           4.063097187072106,
           4.023047068421829,
           3.9828532872529614,
           3.942557108679086,
           3.902203696648339,
           3.861841922586966
          ],
          "coloraxis": "coloraxis",
          "symbol": "triangle-down"
         },
         "mode": "markers",
         "name": "Backward",
         "showlegend": false,
         "type": "scatter",
         "x": [
          1469.3877551020407,
          1551.020408163265,
          1632.6530612244896,
          1714.2857142857144,
          1795.9183673469388,
          1877.5510204081631,
          1959.1836734693877,
          2040.8163265306123,
          2122.4489795918366,
          2204.081632653061,
          2285.714285714286,
          2367.3469387755104,
          2448.9795918367345,
          2530.612244897959,
          2612.2448979591836,
          2693.877551020408,
          2775.5102040816328,
          2857.142857142857,
          2938.7755102040815,
          3020.408163265306,
          3102.04081632653,
          3183.6734693877547,
          3265.3061224489793,
          3346.9387755102043,
          3428.571428571429,
          3510.204081632653,
          3591.8367346938776,
          3673.469387755102,
          3755.1020408163263,
          3836.734693877551,
          3918.3673469387754,
          4000
         ],
         "y": [
          6212.888441705746,
          6215.047544838528,
          6217.294737999106,
          6219.623552066329,
          6222.026809949834,
          6224.496561388912,
          6227.024010449715,
          6229.599438325298,
          6232.212119079388,
          6234.850226664901,
          6237.5007405033875,
          6240.1493410123485,
          6242.780300737223,
          6245.3763705043275,
          6247.918663406656,
          6250.386535173158,
          6252.757466587549,
          6255.006950508362,
          6257.108386408974,
          6259.03298984452,
          6260.7497199180025,
          6262.225237747504,
          6263.423900359531,
          6264.307801294884,
          6264.83687267941,
          6264.969052214385,
          6264.6605372220865,
          6263.866126278732,
          6262.539662889049,
          6260.634582113931,
          6258.104561506476,
          6254.904264984909
         ]
        },
        {
         "hoverinfo": "none",
         "legendgroup": "Torsional",
         "marker": {
          "color": [
           1.9722091933154386e-13,
           4.8025180415201155e-14,
           2.0903577009687182e-13,
           -2.0704625047526223e-13,
           2.160864989337006e-13,
           -2.9924305658860045e-13,
           2.4424222353934515e-13,
           2.783075185582584e-13,
           7.128164591457271e-14,
           -4.1871183303636064e-13,
           -4.839466263214175e-13,
           -4.708726402245085e-13,
           5.20018601230436e-13,
           3.8276856018601653e-13,
           -2.3099234460992356e-13,
           -2.899604192104725e-13,
           4.035539457814283e-13,
           -1.129907718521957e-13,
           -1.0035222778814452e-13,
           3.743771846977514e-13,
           -2.300024111236949e-13,
           -2.0001911701380135e-13,
           3.5528208638591365e-13,
           3.295180754046838e-13,
           2.1516842411326156e-13,
           -1.285744484669437e-13,
           2.0194428559638198e-13,
           -3.1961445050624396e-13,
           -1.7867280485597127e-13,
           -1.6722797256629297e-13,
           -1.8730871429235897e-13,
           -4.519909728596917e-14
          ],
          "coloraxis": "coloraxis",
          "symbol": "bowtie"
         },
         "mode": "markers",
         "name": "Torsional",
         "showlegend": false,
         "type": "scatter",
         "x": [
          1469.3877551020407,
          1551.020408163265,
          1632.6530612244896,
          1714.2857142857144,
          1795.9183673469388,
          1877.5510204081631,
          1959.1836734693877,
          2040.8163265306123,
          2122.4489795918366,
          2204.081632653061,
          2285.714285714286,
          2367.3469387755104,
          2448.9795918367345,
          2530.612244897959,
          2612.2448979591836,
          2693.877551020408,
          2775.5102040816328,
          2857.142857142857,
          2938.7755102040815,
          3020.408163265306,
          3102.04081632653,
          3183.6734693877547,
          3265.3061224489793,
          3346.9387755102043,
          3428.571428571429,
          3510.204081632653,
          3591.8367346938776,
          3673.469387755102,
          3755.1020408163263,
          3836.734693877551,
          3918.3673469387754,
          4000
         ],
         "y": [
          6210.937616501681,
          6210.93761650041,
          6210.937616424638,
          6210.9376163878915,
          6210.937616551647,
          6210.937616371051,
          6210.937616470952,
          6210.937616469933,
          6210.937616485548,
          6210.937616358888,
          6210.93761633667,
          6210.93761638694,
          6210.937616462303,
          6210.937616504345,
          6210.93761638054,
          6210.937616378508,
          6210.937616591874,
          6210.937616407405,
          6210.9376165164285,
          6210.937616521106,
          6210.93761645427,
          6210.9376164233945,
          6210.937616559397,
          6210.9376164728965,
          6210.937616470775,
          6210.937616394606,
          6210.937616461556,
          6210.937616362844,
          6210.9376164138575,
          6210.937616454884,
          6210.937616388695,
          6210.937616398202
         ]
        },
        {
         "hoverinfo": "none",
         "legendgroup": "Torsional",
         "marker": {
          "color": [
           -5.000075731329345e-15,
           2.4679481475253903e-13
          ],
          "coloraxis": "coloraxis",
          "symbol": "bowtie"
         },
         "mode": "markers",
         "name": "Torsional",
         "showlegend": false,
         "type": "scatter",
         "x": [
          1306.1224489795918,
          1387.7551020408164
         ],
         "y": [
          6210.937616450542,
          6210.937616495865
         ]
        },
        {
         "hoverinfo": "none",
         "legendgroup": "Torsional",
         "marker": {
          "color": [
           -2.234933035291856e-13,
           1.937609784664191e-13,
           1.0883476724735501e-13,
           3.565047561326699e-14,
           3.624722424779393e-13,
           2.0247196411551624e-13,
           3.806792964548323e-14,
           7.271452905117301e-14,
           -3.8531257126545414e-14,
           2.072446661765387e-13,
           3.189451996897314e-14,
           -3.581585778418267e-13,
           2.6065817359085954e-13,
           -6.429065628978942e-13,
           8.976347882409773e-13,
           3.245094195351042e-13
          ],
          "coloraxis": "coloraxis",
          "symbol": "bowtie"
         },
         "mode": "markers",
         "name": "Torsional",
         "showlegend": false,
         "type": "scatter",
         "x": [
          0,
          81.63265306122449,
          163.26530612244898,
          244.89795918367346,
          326.53061224489795,
          408.1632653061224,
          489.7959183673469,
          571.4285714285714,
          653.0612244897959,
          734.6938775510204,
          816.3265306122448,
          897.9591836734694,
          979.5918367346939,
          1061.2244897959183,
          1142.857142857143,
          1224.4897959183672
         ],
         "y": [
          6210.937616407672,
          6210.937616529706,
          6210.9376165142885,
          6210.937616463125,
          6210.937616563884,
          6210.937616485281,
          6210.937616470173,
          6210.937616379057,
          6210.9376164430505,
          6210.937616458311,
          6210.9376165724825,
          6210.937616350064,
          6210.937616487898,
          6210.93761630732,
          6210.937616377532,
          6210.937616467791
         ]
        },
        {
         "hoverinfo": "none",
         "line": {
          "color": "blue",
          "dash": "dashdot"
         },
         "mode": "lines",
         "name": "1x speed",
         "type": "scatter",
         "x": [
          0,
          81.63265306122449,
          163.26530612244898,
          244.89795918367346,
          326.53061224489795,
          408.1632653061224,
          489.7959183673469,
          571.4285714285714,
          653.0612244897959,
          734.6938775510204,
          816.3265306122448,
          897.9591836734694,
          979.5918367346939,
          1061.2244897959183,
          1142.857142857143,
          1224.4897959183672,
          1306.1224489795918,
          1387.7551020408164,
          1469.3877551020407,
          1551.020408163265,
          1632.6530612244896,
          1714.2857142857144,
          1795.9183673469388,
          1877.5510204081631,
          1959.1836734693877,
          2040.8163265306123,
          2122.4489795918366,
          2204.081632653061,
          2285.714285714286,
          2367.3469387755104,
          2448.9795918367345,
          2530.612244897959,
          2612.2448979591836,
          2693.877551020408,
          2775.5102040816328,
          2857.142857142857,
          2938.7755102040815,
          3020.408163265306,
          3102.04081632653,
          3183.6734693877547,
          3265.3061224489793,
          3346.9387755102043,
          3428.571428571429,
          3510.204081632653,
          3591.8367346938776,
          3673.469387755102,
          3755.1020408163263,
          3836.734693877551,
          3918.3673469387754,
          4000
         ],
         "y": [
          0,
          81.63265306122449,
          163.26530612244898,
          244.89795918367346,
          326.53061224489795,
          408.1632653061224,
          489.7959183673469,
          571.4285714285714,
          653.0612244897959,
          734.6938775510204,
          816.3265306122448,
          897.9591836734694,
          979.5918367346939,
          1061.2244897959183,
          1142.857142857143,
          1224.4897959183672,
          1306.1224489795918,
          1387.7551020408164,
          1469.3877551020407,
          1551.020408163265,
          1632.6530612244896,
          1714.2857142857144,
          1795.9183673469388,
          1877.5510204081631,
          1959.1836734693877,
          2040.8163265306123,
          2122.4489795918366,
          2204.081632653061,
          2285.714285714286,
          2367.3469387755104,
          2448.9795918367345,
          2530.612244897959,
          2612.2448979591836,
          2693.877551020408,
          2775.5102040816328,
          2857.142857142857,
          2938.7755102040815,
          3020.408163265306,
          3102.04081632653,
          3183.6734693877547,
          3265.3061224489793,
          3346.9387755102043,
          3428.571428571429,
          3510.204081632653,
          3591.8367346938776,
          3673.469387755102,
          3755.1020408163263,
          3836.734693877551,
          3918.3673469387754,
          4000
         ]
        },
        {
         "hoverinfo": "none",
         "legendgroup": "Forward",
         "marker": {
          "color": "black",
          "symbol": "triangle-up"
         },
         "mode": "markers",
         "name": "Forward",
         "type": "scatter",
         "x": [
          0
         ],
         "y": [
          0
         ]
        },
        {
         "hoverinfo": "none",
         "legendgroup": "Mixed",
         "marker": {
          "color": "black",
          "symbol": "circle"
         },
         "mode": "markers",
         "name": "Mixed",
         "type": "scatter",
         "x": [
          0
         ],
         "y": [
          0
         ]
        },
        {
         "hoverinfo": "none",
         "legendgroup": "Backward",
         "marker": {
          "color": "black",
          "symbol": "triangle-down"
         },
         "mode": "markers",
         "name": "Backward",
         "type": "scatter",
         "x": [
          0
         ],
         "y": [
          0
         ]
        },
        {
         "hoverinfo": "none",
         "legendgroup": "Axial",
         "marker": {
          "color": "black",
          "symbol": "diamond-wide"
         },
         "mode": "markers",
         "name": "Axial",
         "type": "scatter",
         "x": [
          0
         ],
         "y": [
          0
         ]
        },
        {
         "hoverinfo": "none",
         "legendgroup": "Torsional",
         "marker": {
          "color": "black",
          "symbol": "bowtie"
         },
         "mode": "markers",
         "name": "Torsional",
         "type": "scatter",
         "x": [
          0
         ],
         "y": [
          0
         ]
        }
       ],
       "layout": {
        "coloraxis": {
         "cmax": 1,
         "cmin": 0,
         "colorbar": {
          "title": {
           "side": "right",
           "text": "<b>Log Dec</b>"
          }
         },
         "colorscale": [
          [
           0,
           "rgb(179,3,38)"
          ],
          [
           0.003937007874015748,
           "rgb(181,8,39)"
          ],
          [
           0.007874015748031496,
           "rgb(182,13,40)"
          ],
          [
           0.011811023622047244,
           "rgb(184,17,41)"
          ],
          [
           0.015748031496062992,
           "rgb(185,22,42)"
          ],
          [
           0.01968503937007874,
           "rgb(187,26,43)"
          ],
          [
           0.023622047244094488,
           "rgb(188,31,44)"
          ],
          [
           0.027559055118110236,
           "rgb(190,35,45)"
          ],
          [
           0.031496062992125984,
           "rgb(191,40,46)"
          ],
          [
           0.03543307086614173,
           "rgb(193,42,48)"
          ],
          [
           0.03937007874015748,
           "rgb(194,45,49)"
          ],
          [
           0.04330708661417323,
           "rgb(196,48,50)"
          ],
          [
           0.047244094488188976,
           "rgb(197,50,51)"
          ],
          [
           0.051181102362204724,
           "rgb(198,53,52)"
          ],
          [
           0.05511811023622047,
           "rgb(200,56,53)"
          ],
          [
           0.05905511811023622,
           "rgb(201,59,55)"
          ],
          [
           0.06299212598425197,
           "rgb(202,61,56)"
          ],
          [
           0.06692913385826772,
           "rgb(204,63,57)"
          ],
          [
           0.07086614173228346,
           "rgb(205,66,58)"
          ],
          [
           0.07480314960629922,
           "rgb(206,68,60)"
          ],
          [
           0.07874015748031496,
           "rgb(207,70,61)"
          ],
          [
           0.08267716535433071,
           "rgb(209,73,62)"
          ],
          [
           0.08661417322834646,
           "rgb(210,75,63)"
          ],
          [
           0.09055118110236221,
           "rgb(211,77,64)"
          ],
          [
           0.09448818897637795,
           "rgb(212,79,66)"
          ],
          [
           0.0984251968503937,
           "rgb(214,82,67)"
          ],
          [
           0.10236220472440945,
           "rgb(215,84,68)"
          ],
          [
           0.1062992125984252,
           "rgb(216,86,70)"
          ],
          [
           0.11023622047244094,
           "rgb(217,88,71)"
          ],
          [
           0.1141732283464567,
           "rgb(218,90,72)"
          ],
          [
           0.11811023622047244,
           "rgb(219,92,74)"
          ],
          [
           0.1220472440944882,
           "rgb(220,94,75)"
          ],
          [
           0.12598425196850394,
           "rgb(221,96,76)"
          ],
          [
           0.12992125984251968,
           "rgb(222,98,78)"
          ],
          [
           0.13385826771653545,
           "rgb(223,100,79)"
          ],
          [
           0.1377952755905512,
           "rgb(224,102,80)"
          ],
          [
           0.14173228346456693,
           "rgb(225,104,82)"
          ],
          [
           0.14566929133858267,
           "rgb(226,106,83)"
          ],
          [
           0.14960629921259844,
           "rgb(227,108,84)"
          ],
          [
           0.15354330708661418,
           "rgb(228,110,86)"
          ],
          [
           0.15748031496062992,
           "rgb(229,112,87)"
          ],
          [
           0.16141732283464566,
           "rgb(230,114,89)"
          ],
          [
           0.16535433070866143,
           "rgb(230,116,90)"
          ],
          [
           0.16929133858267717,
           "rgb(231,117,92)"
          ],
          [
           0.1732283464566929,
           "rgb(232,119,93)"
          ],
          [
           0.17716535433070865,
           "rgb(233,121,94)"
          ],
          [
           0.18110236220472442,
           "rgb(234,123,96)"
          ],
          [
           0.18503937007874016,
           "rgb(234,125,97)"
          ],
          [
           0.1889763779527559,
           "rgb(235,127,99)"
          ],
          [
           0.19291338582677164,
           "rgb(236,128,100)"
          ],
          [
           0.1968503937007874,
           "rgb(236,130,102)"
          ],
          [
           0.20078740157480315,
           "rgb(237,132,103)"
          ],
          [
           0.2047244094488189,
           "rgb(238,134,105)"
          ],
          [
           0.20866141732283464,
           "rgb(238,135,106)"
          ],
          [
           0.2125984251968504,
           "rgb(239,137,108)"
          ],
          [
           0.21653543307086615,
           "rgb(240,139,109)"
          ],
          [
           0.2204724409448819,
           "rgb(240,141,111)"
          ],
          [
           0.22440944881889763,
           "rgb(241,142,112)"
          ],
          [
           0.2283464566929134,
           "rgb(241,144,114)"
          ],
          [
           0.23228346456692914,
           "rgb(242,145,115)"
          ],
          [
           0.23622047244094488,
           "rgb(242,147,117)"
          ],
          [
           0.24015748031496062,
           "rgb(243,149,118)"
          ],
          [
           0.2440944881889764,
           "rgb(243,150,120)"
          ],
          [
           0.24803149606299213,
           "rgb(243,152,121)"
          ],
          [
           0.25196850393700787,
           "rgb(244,154,123)"
          ],
          [
           0.2559055118110236,
           "rgb(244,155,124)"
          ],
          [
           0.25984251968503935,
           "rgb(244,157,126)"
          ],
          [
           0.2637795275590551,
           "rgb(245,158,127)"
          ],
          [
           0.2677165354330709,
           "rgb(245,160,129)"
          ],
          [
           0.27165354330708663,
           "rgb(245,161,130)"
          ],
          [
           0.2755905511811024,
           "rgb(246,163,132)"
          ],
          [
           0.2795275590551181,
           "rgb(246,164,134)"
          ],
          [
           0.28346456692913385,
           "rgb(246,166,135)"
          ],
          [
           0.2874015748031496,
           "rgb(246,167,137)"
          ],
          [
           0.29133858267716534,
           "rgb(246,169,138)"
          ],
          [
           0.2952755905511811,
           "rgb(246,170,140)"
          ],
          [
           0.2992125984251969,
           "rgb(246,171,141)"
          ],
          [
           0.3031496062992126,
           "rgb(247,173,143)"
          ],
          [
           0.30708661417322836,
           "rgb(247,174,145)"
          ],
          [
           0.3110236220472441,
           "rgb(247,176,146)"
          ],
          [
           0.31496062992125984,
           "rgb(247,177,148)"
          ],
          [
           0.3188976377952756,
           "rgb(247,178,149)"
          ],
          [
           0.3228346456692913,
           "rgb(247,179,151)"
          ],
          [
           0.32677165354330706,
           "rgb(247,181,152)"
          ],
          [
           0.33070866141732286,
           "rgb(246,182,154)"
          ],
          [
           0.3346456692913386,
           "rgb(246,183,156)"
          ],
          [
           0.33858267716535434,
           "rgb(246,185,157)"
          ],
          [
           0.3425196850393701,
           "rgb(246,186,159)"
          ],
          [
           0.3464566929133858,
           "rgb(246,187,160)"
          ],
          [
           0.35039370078740156,
           "rgb(246,188,162)"
          ],
          [
           0.3543307086614173,
           "rgb(246,189,164)"
          ],
          [
           0.35826771653543305,
           "rgb(245,191,165)"
          ],
          [
           0.36220472440944884,
           "rgb(245,192,167)"
          ],
          [
           0.3661417322834646,
           "rgb(245,193,168)"
          ],
          [
           0.3700787401574803,
           "rgb(244,194,170)"
          ],
          [
           0.37401574803149606,
           "rgb(244,195,171)"
          ],
          [
           0.3779527559055118,
           "rgb(244,196,173)"
          ],
          [
           0.38188976377952755,
           "rgb(243,197,175)"
          ],
          [
           0.3858267716535433,
           "rgb(243,198,176)"
          ],
          [
           0.38976377952755903,
           "rgb(242,199,178)"
          ],
          [
           0.3937007874015748,
           "rgb(242,200,179)"
          ],
          [
           0.39763779527559057,
           "rgb(242,201,181)"
          ],
          [
           0.4015748031496063,
           "rgb(241,202,182)"
          ],
          [
           0.40551181102362205,
           "rgb(241,203,184)"
          ],
          [
           0.4094488188976378,
           "rgb(240,204,185)"
          ],
          [
           0.41338582677165353,
           "rgb(239,205,187)"
          ],
          [
           0.41732283464566927,
           "rgb(239,206,188)"
          ],
          [
           0.421259842519685,
           "rgb(238,207,190)"
          ],
          [
           0.4251968503937008,
           "rgb(237,207,192)"
          ],
          [
           0.42913385826771655,
           "rgb(237,208,193)"
          ],
          [
           0.4330708661417323,
           "rgb(236,209,195)"
          ],
          [
           0.43700787401574803,
           "rgb(236,210,196)"
          ],
          [
           0.4409448818897638,
           "rgb(235,211,198)"
          ],
          [
           0.4448818897637795,
           "rgb(234,211,199)"
          ],
          [
           0.44881889763779526,
           "rgb(233,212,201)"
          ],
          [
           0.452755905511811,
           "rgb(232,213,202)"
          ],
          [
           0.4566929133858268,
           "rgb(231,214,204)"
          ],
          [
           0.46062992125984253,
           "rgb(231,214,205)"
          ],
          [
           0.4645669291338583,
           "rgb(230,215,207)"
          ],
          [
           0.468503937007874,
           "rgb(229,216,208)"
          ],
          [
           0.47244094488188976,
           "rgb(228,216,209)"
          ],
          [
           0.4763779527559055,
           "rgb(227,217,211)"
          ],
          [
           0.48031496062992124,
           "rgb(226,217,212)"
          ],
          [
           0.484251968503937,
           "rgb(225,218,214)"
          ],
          [
           0.4881889763779528,
           "rgb(224,218,215)"
          ],
          [
           0.4921259842519685,
           "rgb(223,219,217)"
          ],
          [
           0.49606299212598426,
           "rgb(222,219,218)"
          ],
          [
           0.5,
           "rgb(220,220,221)"
          ],
          [
           0.5039370078740157,
           "rgb(219,220,222)"
          ],
          [
           0.5078740157480315,
           "rgb(218,220,223)"
          ],
          [
           0.5118110236220472,
           "rgb(217,220,224)"
          ],
          [
           0.515748031496063,
           "rgb(216,219,225)"
          ],
          [
           0.5196850393700787,
           "rgb(215,219,226)"
          ],
          [
           0.5236220472440944,
           "rgb(214,219,228)"
          ],
          [
           0.5275590551181102,
           "rgb(213,219,229)"
          ],
          [
           0.531496062992126,
           "rgb(211,219,230)"
          ],
          [
           0.5354330708661418,
           "rgb(210,218,231)"
          ],
          [
           0.5393700787401575,
           "rgb(209,218,232)"
          ],
          [
           0.5433070866141733,
           "rgb(208,218,233)"
          ],
          [
           0.547244094488189,
           "rgb(207,217,234)"
          ],
          [
           0.5511811023622047,
           "rgb(206,217,235)"
          ],
          [
           0.5551181102362205,
           "rgb(205,217,236)"
          ],
          [
           0.5590551181102362,
           "rgb(204,216,237)"
          ],
          [
           0.562992125984252,
           "rgb(202,216,238)"
          ],
          [
           0.5669291338582677,
           "rgb(201,215,238)"
          ],
          [
           0.5708661417322834,
           "rgb(200,215,239)"
          ],
          [
           0.5748031496062992,
           "rgb(199,214,240)"
          ],
          [
           0.5787401574803149,
           "rgb(198,214,241)"
          ],
          [
           0.5826771653543307,
           "rgb(197,213,242)"
          ],
          [
           0.5866141732283464,
           "rgb(195,213,242)"
          ],
          [
           0.5905511811023622,
           "rgb(194,212,243)"
          ],
          [
           0.594488188976378,
           "rgb(193,212,244)"
          ],
          [
           0.5984251968503937,
           "rgb(192,211,245)"
          ],
          [
           0.6023622047244095,
           "rgb(190,211,245)"
          ],
          [
           0.6062992125984252,
           "rgb(189,210,246)"
          ],
          [
           0.610236220472441,
           "rgb(188,209,246)"
          ],
          [
           0.6141732283464567,
           "rgb(187,209,247)"
          ],
          [
           0.6181102362204725,
           "rgb(185,208,248)"
          ],
          [
           0.6220472440944882,
           "rgb(184,207,248)"
          ],
          [
           0.6259842519685039,
           "rgb(183,207,249)"
          ],
          [
           0.6299212598425197,
           "rgb(182,206,249)"
          ],
          [
           0.6338582677165354,
           "rgb(180,205,250)"
          ],
          [
           0.6377952755905512,
           "rgb(179,204,250)"
          ],
          [
           0.6417322834645669,
           "rgb(178,203,251)"
          ],
          [
           0.6456692913385826,
           "rgb(176,203,251)"
          ],
          [
           0.6496062992125984,
           "rgb(175,202,251)"
          ],
          [
           0.6535433070866141,
           "rgb(174,201,252)"
          ],
          [
           0.65748031496063,
           "rgb(172,200,252)"
          ],
          [
           0.6614173228346457,
           "rgb(171,199,252)"
          ],
          [
           0.6653543307086615,
           "rgb(170,198,253)"
          ],
          [
           0.6692913385826772,
           "rgb(168,197,253)"
          ],
          [
           0.6732283464566929,
           "rgb(167,196,253)"
          ],
          [
           0.6771653543307087,
           "rgb(166,195,253)"
          ],
          [
           0.6811023622047244,
           "rgb(164,194,254)"
          ],
          [
           0.6850393700787402,
           "rgb(163,193,254)"
          ],
          [
           0.6889763779527559,
           "rgb(162,192,254)"
          ],
          [
           0.6929133858267716,
           "rgb(160,191,254)"
          ],
          [
           0.6968503937007874,
           "rgb(159,190,254)"
          ],
          [
           0.7007874015748031,
           "rgb(157,189,254)"
          ],
          [
           0.7047244094488189,
           "rgb(156,188,254)"
          ],
          [
           0.7086614173228346,
           "rgb(155,187,254)"
          ],
          [
           0.7125984251968503,
           "rgb(153,186,254)"
          ],
          [
           0.7165354330708661,
           "rgb(152,185,254)"
          ],
          [
           0.7204724409448819,
           "rgb(151,184,254)"
          ],
          [
           0.7244094488188977,
           "rgb(149,183,254)"
          ],
          [
           0.7283464566929134,
           "rgb(148,181,254)"
          ],
          [
           0.7322834645669292,
           "rgb(146,180,254)"
          ],
          [
           0.7362204724409449,
           "rgb(145,179,254)"
          ],
          [
           0.7401574803149606,
           "rgb(144,178,254)"
          ],
          [
           0.7440944881889764,
           "rgb(142,177,253)"
          ],
          [
           0.7480314960629921,
           "rgb(141,175,253)"
          ],
          [
           0.7519685039370079,
           "rgb(139,174,253)"
          ],
          [
           0.7559055118110236,
           "rgb(138,173,253)"
          ],
          [
           0.7598425196850394,
           "rgb(137,172,252)"
          ],
          [
           0.7637795275590551,
           "rgb(135,170,252)"
          ],
          [
           0.7677165354330708,
           "rgb(134,169,252)"
          ],
          [
           0.7716535433070866,
           "rgb(133,168,251)"
          ],
          [
           0.7755905511811023,
           "rgb(131,166,251)"
          ],
          [
           0.7795275590551181,
           "rgb(130,165,251)"
          ],
          [
           0.7834645669291339,
           "rgb(128,164,250)"
          ],
          [
           0.7874015748031497,
           "rgb(127,162,250)"
          ],
          [
           0.7913385826771654,
           "rgb(126,161,249)"
          ],
          [
           0.7952755905511811,
           "rgb(124,160,249)"
          ],
          [
           0.7992125984251969,
           "rgb(123,158,248)"
          ],
          [
           0.8031496062992126,
           "rgb(122,157,248)"
          ],
          [
           0.8070866141732284,
           "rgb(120,155,247)"
          ],
          [
           0.8110236220472441,
           "rgb(119,154,246)"
          ],
          [
           0.8149606299212598,
           "rgb(117,152,246)"
          ],
          [
           0.8188976377952756,
           "rgb(116,151,245)"
          ],
          [
           0.8228346456692913,
           "rgb(115,149,244)"
          ],
          [
           0.8267716535433071,
           "rgb(113,148,244)"
          ],
          [
           0.8307086614173228,
           "rgb(112,147,243)"
          ],
          [
           0.8346456692913385,
           "rgb(111,145,242)"
          ],
          [
           0.8385826771653543,
           "rgb(109,144,241)"
          ],
          [
           0.84251968503937,
           "rgb(108,142,241)"
          ],
          [
           0.8464566929133859,
           "rgb(107,141,240)"
          ],
          [
           0.8503937007874016,
           "rgb(105,139,239)"
          ],
          [
           0.8543307086614174,
           "rgb(104,137,238)"
          ],
          [
           0.8582677165354331,
           "rgb(103,136,237)"
          ],
          [
           0.8622047244094488,
           "rgb(101,134,236)"
          ],
          [
           0.8661417322834646,
           "rgb(100,133,235)"
          ],
          [
           0.8700787401574803,
           "rgb(99,131,234)"
          ],
          [
           0.8740157480314961,
           "rgb(97,130,234)"
          ],
          [
           0.8779527559055118,
           "rgb(96,128,232)"
          ],
          [
           0.8818897637795275,
           "rgb(95,126,231)"
          ],
          [
           0.8858267716535433,
           "rgb(93,125,230)"
          ],
          [
           0.889763779527559,
           "rgb(92,123,229)"
          ],
          [
           0.8937007874015748,
           "rgb(91,121,228)"
          ],
          [
           0.8976377952755905,
           "rgb(90,120,227)"
          ],
          [
           0.9015748031496063,
           "rgb(88,118,226)"
          ],
          [
           0.905511811023622,
           "rgb(87,117,225)"
          ],
          [
           0.9094488188976378,
           "rgb(86,115,224)"
          ],
          [
           0.9133858267716536,
           "rgb(85,113,222)"
          ],
          [
           0.9173228346456693,
           "rgb(83,112,221)"
          ],
          [
           0.9212598425196851,
           "rgb(82,110,220)"
          ],
          [
           0.9251968503937008,
           "rgb(81,108,219)"
          ],
          [
           0.9291338582677166,
           "rgb(80,107,218)"
          ],
          [
           0.9330708661417323,
           "rgb(78,105,216)"
          ],
          [
           0.937007874015748,
           "rgb(77,103,215)"
          ],
          [
           0.9409448818897638,
           "rgb(76,102,214)"
          ],
          [
           0.9448818897637795,
           "rgb(75,100,212)"
          ],
          [
           0.9488188976377953,
           "rgb(73,98,211)"
          ],
          [
           0.952755905511811,
           "rgb(72,96,209)"
          ],
          [
           0.9566929133858267,
           "rgb(71,95,208)"
          ],
          [
           0.9606299212598425,
           "rgb(70,93,207)"
          ],
          [
           0.9645669291338582,
           "rgb(69,91,205)"
          ],
          [
           0.968503937007874,
           "rgb(67,90,204)"
          ],
          [
           0.9724409448818898,
           "rgb(66,88,202)"
          ],
          [
           0.9763779527559056,
           "rgb(65,86,201)"
          ],
          [
           0.9803149606299213,
           "rgb(64,84,199)"
          ],
          [
           0.984251968503937,
           "rgb(63,83,198)"
          ],
          [
           0.9881889763779528,
           "rgb(62,81,196)"
          ],
          [
           0.9921259842519685,
           "rgb(60,79,195)"
          ],
          [
           0.9960629921259843,
           "rgb(59,77,193)"
          ],
          [
           1,
           "rgb(58,76,192)"
          ]
         ]
        },
        "legend": {
         "orientation": "h",
         "x": 0.5,
         "xanchor": "center",
         "y": -0.3,
         "yanchor": "bottom",
         "yref": "container"
        },
        "template": {
         "data": {
          "bar": [
           {
            "error_x": {
             "color": "#2a3f5f"
            },
            "error_y": {
             "color": "#2a3f5f"
            },
            "marker": {
             "line": {
              "color": "white",
              "width": 0.5
             }
            },
            "type": "bar"
           }
          ],
          "barpolar": [
           {
            "marker": {
             "line": {
              "color": "white",
              "width": 0.5
             }
            },
            "type": "barpolar"
           }
          ],
          "carpet": [
           {
            "aaxis": {
             "endlinecolor": "#2a3f5f",
             "gridcolor": "#C8D4E3",
             "linecolor": "#C8D4E3",
             "minorgridcolor": "#C8D4E3",
             "startlinecolor": "#2a3f5f"
            },
            "baxis": {
             "endlinecolor": "#2a3f5f",
             "gridcolor": "#C8D4E3",
             "linecolor": "#C8D4E3",
             "minorgridcolor": "#C8D4E3",
             "startlinecolor": "#2a3f5f"
            },
            "type": "carpet"
           }
          ],
          "choropleth": [
           {
            "colorbar": {
             "outlinewidth": 0,
             "ticks": ""
            },
            "type": "choropleth"
           }
          ],
          "contour": [
           {
            "colorbar": {
             "outlinewidth": 0,
             "ticks": ""
            },
            "colorscale": [
             [
              0,
              "#0d0887"
             ],
             [
              0.1111111111111111,
              "#46039f"
             ],
             [
              0.2222222222222222,
              "#7201a8"
             ],
             [
              0.3333333333333333,
              "#9c179e"
             ],
             [
              0.4444444444444444,
              "#bd3786"
             ],
             [
              0.5555555555555556,
              "#d8576b"
             ],
             [
              0.6666666666666666,
              "#ed7953"
             ],
             [
              0.7777777777777778,
              "#fb9f3a"
             ],
             [
              0.8888888888888888,
              "#fdca26"
             ],
             [
              1,
              "#f0f921"
             ]
            ],
            "type": "contour"
           }
          ],
          "contourcarpet": [
           {
            "colorbar": {
             "outlinewidth": 0,
             "ticks": ""
            },
            "type": "contourcarpet"
           }
          ],
          "heatmap": [
           {
            "colorbar": {
             "outlinewidth": 0,
             "ticks": ""
            },
            "colorscale": [
             [
              0,
              "#0d0887"
             ],
             [
              0.1111111111111111,
              "#46039f"
             ],
             [
              0.2222222222222222,
              "#7201a8"
             ],
             [
              0.3333333333333333,
              "#9c179e"
             ],
             [
              0.4444444444444444,
              "#bd3786"
             ],
             [
              0.5555555555555556,
              "#d8576b"
             ],
             [
              0.6666666666666666,
              "#ed7953"
             ],
             [
              0.7777777777777778,
              "#fb9f3a"
             ],
             [
              0.8888888888888888,
              "#fdca26"
             ],
             [
              1,
              "#f0f921"
             ]
            ],
            "type": "heatmap"
           }
          ],
          "heatmapgl": [
           {
            "colorbar": {
             "outlinewidth": 0,
             "ticks": ""
            },
            "colorscale": [
             [
              0,
              "#0d0887"
             ],
             [
              0.1111111111111111,
              "#46039f"
             ],
             [
              0.2222222222222222,
              "#7201a8"
             ],
             [
              0.3333333333333333,
              "#9c179e"
             ],
             [
              0.4444444444444444,
              "#bd3786"
             ],
             [
              0.5555555555555556,
              "#d8576b"
             ],
             [
              0.6666666666666666,
              "#ed7953"
             ],
             [
              0.7777777777777778,
              "#fb9f3a"
             ],
             [
              0.8888888888888888,
              "#fdca26"
             ],
             [
              1,
              "#f0f921"
             ]
            ],
            "type": "heatmapgl"
           }
          ],
          "histogram": [
           {
            "marker": {
             "colorbar": {
              "outlinewidth": 0,
              "ticks": ""
             }
            },
            "type": "histogram"
           }
          ],
          "histogram2d": [
           {
            "colorbar": {
             "outlinewidth": 0,
             "ticks": ""
            },
            "colorscale": [
             [
              0,
              "#0d0887"
             ],
             [
              0.1111111111111111,
              "#46039f"
             ],
             [
              0.2222222222222222,
              "#7201a8"
             ],
             [
              0.3333333333333333,
              "#9c179e"
             ],
             [
              0.4444444444444444,
              "#bd3786"
             ],
             [
              0.5555555555555556,
              "#d8576b"
             ],
             [
              0.6666666666666666,
              "#ed7953"
             ],
             [
              0.7777777777777778,
              "#fb9f3a"
             ],
             [
              0.8888888888888888,
              "#fdca26"
             ],
             [
              1,
              "#f0f921"
             ]
            ],
            "type": "histogram2d"
           }
          ],
          "histogram2dcontour": [
           {
            "colorbar": {
             "outlinewidth": 0,
             "ticks": ""
            },
            "colorscale": [
             [
              0,
              "#0d0887"
             ],
             [
              0.1111111111111111,
              "#46039f"
             ],
             [
              0.2222222222222222,
              "#7201a8"
             ],
             [
              0.3333333333333333,
              "#9c179e"
             ],
             [
              0.4444444444444444,
              "#bd3786"
             ],
             [
              0.5555555555555556,
              "#d8576b"
             ],
             [
              0.6666666666666666,
              "#ed7953"
             ],
             [
              0.7777777777777778,
              "#fb9f3a"
             ],
             [
              0.8888888888888888,
              "#fdca26"
             ],
             [
              1,
              "#f0f921"
             ]
            ],
            "type": "histogram2dcontour"
           }
          ],
          "mesh3d": [
           {
            "colorbar": {
             "outlinewidth": 0,
             "ticks": ""
            },
            "type": "mesh3d"
           }
          ],
          "parcoords": [
           {
            "line": {
             "colorbar": {
              "outlinewidth": 0,
              "ticks": ""
             }
            },
            "type": "parcoords"
           }
          ],
          "pie": [
           {
            "automargin": true,
            "type": "pie"
           }
          ],
          "scatter": [
           {
            "marker": {
             "colorbar": {
              "outlinewidth": 0,
              "ticks": ""
             }
            },
            "type": "scatter"
           }
          ],
          "scatter3d": [
           {
            "line": {
             "colorbar": {
              "outlinewidth": 0,
              "ticks": ""
             }
            },
            "marker": {
             "colorbar": {
              "outlinewidth": 0,
              "ticks": ""
             },
             "size": 4
            },
            "type": "scatter3d"
           }
          ],
          "scattercarpet": [
           {
            "marker": {
             "colorbar": {
              "outlinewidth": 0,
              "ticks": ""
             }
            },
            "type": "scattercarpet"
           }
          ],
          "scattergeo": [
           {
            "marker": {
             "colorbar": {
              "outlinewidth": 0,
              "ticks": ""
             }
            },
            "type": "scattergeo"
           }
          ],
          "scattergl": [
           {
            "marker": {
             "colorbar": {
              "outlinewidth": 0,
              "ticks": ""
             }
            },
            "type": "scattergl"
           }
          ],
          "scattermapbox": [
           {
            "marker": {
             "colorbar": {
              "outlinewidth": 0,
              "ticks": ""
             }
            },
            "type": "scattermapbox"
           }
          ],
          "scatterpolar": [
           {
            "marker": {
             "colorbar": {
              "outlinewidth": 0,
              "ticks": ""
             }
            },
            "type": "scatterpolar"
           }
          ],
          "scatterpolargl": [
           {
            "marker": {
             "colorbar": {
              "outlinewidth": 0,
              "ticks": ""
             }
            },
            "type": "scatterpolargl"
           }
          ],
          "scatterternary": [
           {
            "marker": {
             "colorbar": {
              "outlinewidth": 0,
              "ticks": ""
             }
            },
            "type": "scatterternary"
           }
          ],
          "surface": [
           {
            "colorbar": {
             "outlinewidth": 0,
             "ticks": ""
            },
            "colorscale": [
             [
              0,
              "#0d0887"
             ],
             [
              0.1111111111111111,
              "#46039f"
             ],
             [
              0.2222222222222222,
              "#7201a8"
             ],
             [
              0.3333333333333333,
              "#9c179e"
             ],
             [
              0.4444444444444444,
              "#bd3786"
             ],
             [
              0.5555555555555556,
              "#d8576b"
             ],
             [
              0.6666666666666666,
              "#ed7953"
             ],
             [
              0.7777777777777778,
              "#fb9f3a"
             ],
             [
              0.8888888888888888,
              "#fdca26"
             ],
             [
              1,
              "#f0f921"
             ]
            ],
            "type": "surface"
           }
          ],
          "table": [
           {
            "cells": {
             "fill": {
              "color": "#EBF0F8"
             },
             "line": {
              "color": "white"
             }
            },
            "header": {
             "fill": {
              "color": "#C8D4E3"
             },
             "line": {
              "color": "white"
             }
            },
            "type": "table"
           }
          ]
         },
         "layout": {
          "annotationdefaults": {
           "arrowcolor": "#2a3f5f",
           "arrowhead": 0,
           "arrowwidth": 1
          },
          "coloraxis": {
           "colorbar": {
            "outlinewidth": 0,
            "ticks": ""
           }
          },
          "colorscale": {
           "diverging": [
            [
             0,
             "#8e0152"
            ],
            [
             0.1,
             "#c51b7d"
            ],
            [
             0.2,
             "#de77ae"
            ],
            [
             0.3,
             "#f1b6da"
            ],
            [
             0.4,
             "#fde0ef"
            ],
            [
             0.5,
             "#f7f7f7"
            ],
            [
             0.6,
             "#e6f5d0"
            ],
            [
             0.7,
             "#b8e186"
            ],
            [
             0.8,
             "#7fbc41"
            ],
            [
             0.9,
             "#4d9221"
            ],
            [
             1,
             "#276419"
            ]
           ],
           "sequential": [
            [
             0,
             "#0d0887"
            ],
            [
             0.1111111111111111,
             "#46039f"
            ],
            [
             0.2222222222222222,
             "#7201a8"
            ],
            [
             0.3333333333333333,
             "#9c179e"
            ],
            [
             0.4444444444444444,
             "#bd3786"
            ],
            [
             0.5555555555555556,
             "#d8576b"
            ],
            [
             0.6666666666666666,
             "#ed7953"
            ],
            [
             0.7777777777777778,
             "#fb9f3a"
            ],
            [
             0.8888888888888888,
             "#fdca26"
            ],
            [
             1,
             "#f0f921"
            ]
           ],
           "sequentialminus": [
            [
             0,
             "#0d0887"
            ],
            [
             0.1111111111111111,
             "#46039f"
            ],
            [
             0.2222222222222222,
             "#7201a8"
            ],
            [
             0.3333333333333333,
             "#9c179e"
            ],
            [
             0.4444444444444444,
             "#bd3786"
            ],
            [
             0.5555555555555556,
             "#d8576b"
            ],
            [
             0.6666666666666666,
             "#ed7953"
            ],
            [
             0.7777777777777778,
             "#fb9f3a"
            ],
            [
             0.8888888888888888,
             "#fdca26"
            ],
            [
             1,
             "#f0f921"
            ]
           ]
          },
          "colorway": [
           "#1f77b4",
           "#ff7f0e",
           "#2ca02c",
           "#d62728",
           "#9467bd",
           "#8c564b",
           "#e377c2",
           "#7f7f7f",
           "#bcbd22",
           "#17becf"
          ],
          "font": {
           "color": "#2a3f5f"
          },
          "geo": {
           "bgcolor": "white",
           "lakecolor": "white",
           "landcolor": "white",
           "showlakes": true,
           "showland": true,
           "subunitcolor": "#C8D4E3"
          },
          "hoverlabel": {
           "align": "left"
          },
          "hovermode": "closest",
          "mapbox": {
           "style": "light"
          },
          "paper_bgcolor": "white",
          "plot_bgcolor": "white",
          "polar": {
           "angularaxis": {
            "gridcolor": "#EBF0F8",
            "linecolor": "#EBF0F8",
            "ticks": ""
           },
           "bgcolor": "white",
           "radialaxis": {
            "gridcolor": "#EBF0F8",
            "linecolor": "#EBF0F8",
            "ticks": ""
           }
          },
          "scene": {
           "camera": {
            "center": {
             "x": 0,
             "y": 0,
             "z": 0
            },
            "eye": {
             "x": 2,
             "y": 2,
             "z": 2
            },
            "up": {
             "x": 0,
             "y": 0,
             "z": 1
            }
           },
           "xaxis": {
            "backgroundcolor": "white",
            "gridcolor": "#DFE8F3",
            "gridwidth": 2,
            "linecolor": "#EBF0F8",
            "showbackground": true,
            "showspikes": false,
            "ticks": "",
            "zerolinecolor": "#EBF0F8"
           },
           "yaxis": {
            "backgroundcolor": "white",
            "gridcolor": "#DFE8F3",
            "gridwidth": 2,
            "linecolor": "#EBF0F8",
            "showbackground": true,
            "showspikes": false,
            "ticks": "",
            "zerolinecolor": "#EBF0F8"
           },
           "zaxis": {
            "backgroundcolor": "white",
            "gridcolor": "#DFE8F3",
            "gridwidth": 2,
            "linecolor": "#EBF0F8",
            "showbackground": true,
            "showspikes": false,
            "ticks": "",
            "zerolinecolor": "#EBF0F8"
           }
          },
          "shapedefaults": {
           "line": {
            "color": "#2a3f5f"
           }
          },
          "ternary": {
           "aaxis": {
            "gridcolor": "#DFE8F3",
            "linecolor": "#A2B1C6",
            "ticks": ""
           },
           "baxis": {
            "gridcolor": "#DFE8F3",
            "linecolor": "#A2B1C6",
            "ticks": ""
           },
           "bgcolor": "white",
           "caxis": {
            "gridcolor": "#DFE8F3",
            "linecolor": "#A2B1C6",
            "ticks": ""
           }
          },
          "title": {
           "x": 0.05
          },
          "xaxis": {
           "automargin": true,
           "gridcolor": "#EBF0F8",
           "linecolor": "black",
           "linewidth": 2,
           "mirror": true,
           "showline": true,
           "ticks": "",
           "title": {
            "standoff": 15
           },
           "zeroline": false,
           "zerolinecolor": "#EBF0F8",
           "zerolinewidth": 2
          },
          "yaxis": {
           "automargin": true,
           "gridcolor": "#EBF0F8",
           "linecolor": "black",
           "linewidth": 2,
           "mirror": true,
           "showline": true,
           "ticks": "",
           "title": {
            "standoff": 15
           },
           "zeroline": false,
           "zerolinecolor": "#EBF0F8",
           "zerolinewidth": 2
          }
         }
        },
        "xaxis": {
         "exponentformat": "none",
         "range": [
          0,
          4000
         ],
         "title": {
          "text": "Rotor Speed (RPM)"
         }
        },
        "yaxis": {
         "range": [
          0,
          6973.752324540113
         ],
         "title": {
          "text": "Natural Frequencies (RPM)"
         }
        }
       }
      }
     },
     "metadata": {},
     "output_type": "display_data"
    }
   ],
   "source": [
    "# The input units must be according to your unit standard system\n",
    "campbell = rotor595c.run_campbell(np.linspace(0, 4000 * np.pi / 30, 50), frequencies=7)\n",
    "# Plotting frequency in RPM\n",
    "campbell.plot(frequency_units=\"RPM\")"
   ]
  },
  {
   "cell_type": "markdown",
   "metadata": {},
   "source": [
    "## References\n",
    "\n",
    "```{bibliography}\n",
    ":filter: docname in docnames\n",
    "```"
   ]
  }
 ],
 "metadata": {
  "kernelspec": {
   "display_name": "venv",
   "language": "python",
   "name": "python3"
  },
  "language_info": {
   "codemirror_mode": {
    "name": "ipython",
    "version": 3
   },
   "file_extension": ".py",
   "mimetype": "text/x-python",
   "name": "python",
   "nbconvert_exporter": "python",
   "pygments_lexer": "ipython3",
   "version": "3.10.12"
  }
 },
 "nbformat": 4,
 "nbformat_minor": 2
}
