{
 "cells": [
  {
   "cell_type": "markdown",
   "metadata": {},
   "source": [
    "Example 13 - Uncertainties on bearings coefficients\n",
    "==========================================\n",
    "In this example, we use the rotor seen in Example 5.9.4 from {cite}`friswell2010dynamics`.\n",
    "\n",
    "This system is the same as that of Example 3, except that now, we'll considerer some level of uncertainties on bearing direct coefficients (`kxx`, `kyy`, `cxx`, `cyy`)."
   ]
  },
  {
   "cell_type": "code",
   "execution_count": 1,
   "metadata": {
    "execution": {
     "iopub.execute_input": "2024-03-22T18:21:50.300401Z",
     "iopub.status.busy": "2024-03-22T18:21:50.300401Z",
     "iopub.status.idle": "2024-03-22T18:21:52.334472Z",
     "shell.execute_reply": "2024-03-22T18:21:52.333524Z"
    }
   },
   "outputs": [],
   "source": [
    "import ross as rs\n",
    "import ross.stochastic as srs\n",
    "import numpy as np\n",
    "import plotly.graph_objects as go\n",
    "\n",
    "# uncomment the lines below if you are having problems with plots not showing\n",
    "# import plotly.io as pio\n",
    "# pio.renderers.default = \"notebook\""
   ]
  },
  {
   "cell_type": "code",
   "execution_count": 2,
   "metadata": {
    "execution": {
     "iopub.execute_input": "2024-03-22T18:21:52.337429Z",
     "iopub.status.busy": "2024-03-22T18:21:52.337429Z",
     "iopub.status.idle": "2024-03-22T18:21:52.342850Z",
     "shell.execute_reply": "2024-03-22T18:21:52.342850Z"
    },
    "scrolled": true
   },
   "outputs": [],
   "source": [
    "# Deterministic Shaft Elements\n",
    "Steel = rs.steel\n",
    "shaft = [rs.ShaftElement(L=0.25, material=Steel, idl=0, odl=0.05) for i in range(6)]\n",
    "\n",
    "# Deterministic Disk Elements\n",
    "disk1 = rs.DiskElement.from_geometry(\n",
    "    n=2,\n",
    "    material=Steel,\n",
    "    width=0.07,\n",
    "    i_d=0.05,\n",
    "    o_d=0.28,\n",
    ")\n",
    "\n",
    "disk2 = rs.DiskElement.from_geometry(\n",
    "    n=4,\n",
    "    material=Steel,\n",
    "    width=0.07,\n",
    "    i_d=0.05,\n",
    "    o_d=0.35,\n",
    ")\n",
    "disks = [disk1, disk2]"
   ]
  },
  {
   "cell_type": "markdown",
   "metadata": {},
   "source": [
    "In this example, let's consider an uniform distribuition for the coefficients. Because it's a demonstrative example, we'll not use too many samples, to avoid taking too long to run the simulation.\n",
    "\n",
    "We can use `numpy.random` package to generate random values for our variables.\n",
    "\n",
    "#### Stochastic Bearing Elements"
   ]
  },
  {
   "cell_type": "code",
   "execution_count": 3,
   "metadata": {
    "execution": {
     "iopub.execute_input": "2024-03-22T18:21:52.345750Z",
     "iopub.status.busy": "2024-03-22T18:21:52.345750Z",
     "iopub.status.idle": "2024-03-22T18:21:52.352278Z",
     "shell.execute_reply": "2024-03-22T18:21:52.351609Z"
    }
   },
   "outputs": [],
   "source": [
    "# random variables must have the same size\n",
    "kxx = np.random.uniform(low=1e6, high=3e6, size=50)\n",
    "cxx = np.random.uniform(low=1e2, high=2e2, size=50)\n",
    "\n",
    "bearing1 = srs.ST_BearingElement(n=0, kxx=kxx, cxx=cxx, is_random=[\"kxx\", \"cxx\"])\n",
    "bearing2 = srs.ST_BearingElement(n=6, kxx=kxx, cxx=cxx, is_random=[\"kxx\", \"cxx\"])\n",
    "bearings = [bearing1, bearing2]"
   ]
  },
  {
   "cell_type": "code",
   "execution_count": 4,
   "metadata": {
    "execution": {
     "iopub.execute_input": "2024-03-22T18:21:52.355083Z",
     "iopub.status.busy": "2024-03-22T18:21:52.355083Z",
     "iopub.status.idle": "2024-03-22T18:21:54.673859Z",
     "shell.execute_reply": "2024-03-22T18:21:54.673859Z"
    }
   },
   "outputs": [
    {
     "name": "stdout",
     "output_type": "stream",
     "text": [
      "Number of samples: 50\n"
     ]
    }
   ],
   "source": [
    "# Building random instances for a rotor model\n",
    "\n",
    "rand_rotor = srs.ST_Rotor(\n",
    "    shaft_elements=shaft, disk_elements=disks, bearing_elements=bearings\n",
    ")\n",
    "\n",
    "# Number of samples\n",
    "print(\"Number of samples:\", len(list(iter(rand_rotor))))"
   ]
  },
  {
   "cell_type": "markdown",
   "metadata": {},
   "source": [
    "#### Plotting a random sample\n",
    "\n",
    "We can use `numpy.random.choice` to take a random rotor object. Then, we can use the same functions than to `Rotor` class."
   ]
  },
  {
   "cell_type": "code",
   "execution_count": 5,
   "metadata": {
    "execution": {
     "iopub.execute_input": "2024-03-22T18:21:54.676788Z",
     "iopub.status.busy": "2024-03-22T18:21:54.675806Z",
     "iopub.status.idle": "2024-03-22T18:21:57.049972Z",
     "shell.execute_reply": "2024-03-22T18:21:57.049972Z"
    }
   },
   "outputs": [
    {
     "data": {
      "application/vnd.plotly.v1+json": {
       "config": {
        "plotlyServerURL": "https://plot.ly"
       },
       "data": [
        {
         "hoverinfo": "none",
         "line": {
          "color": "black",
          "dash": "dashdot",
          "width": 3
         },
         "mode": "lines",
         "opacity": 0.7,
         "showlegend": false,
         "type": "scatter",
         "x": [
          -0.30000000000000004,
          1.7999999999999998
         ],
         "y": [
          0,
          0
         ]
        },
        {
         "hoverinfo": "none",
         "marker": {
          "color": "#ffcc99",
          "line": {
           "color": "black",
           "width": 1
          },
          "opacity": 0.7,
          "size": 20
         },
         "mode": "markers+text",
         "showlegend": false,
         "text": [
          "0",
          "1",
          "2",
          "3",
          "4",
          "5",
          "6"
         ],
         "type": "scatter",
         "x": [
          0,
          0.25,
          0.5,
          0.75,
          1,
          1.25,
          1.5
         ],
         "y": [
          0,
          0,
          0,
          0,
          0,
          0,
          0
         ]
        },
        {
         "customdata": [
          [
           0,
           0.05,
           0,
           0.05,
           0,
           0.25,
           "Steel"
          ],
          [
           0,
           0.05,
           0,
           0.05,
           0,
           0.25,
           "Steel"
          ],
          [
           0,
           0.05,
           0,
           0.05,
           0,
           0.25,
           "Steel"
          ],
          [
           0,
           0.05,
           0,
           0.05,
           0,
           0.25,
           "Steel"
          ],
          [
           0,
           0.05,
           0,
           0.05,
           0,
           0.25,
           "Steel"
          ],
          [
           0,
           0.05,
           0,
           0.05,
           0,
           0.25,
           "Steel"
          ],
          [
           0,
           0.05,
           0,
           0.05,
           0,
           0.25,
           "Steel"
          ],
          [
           0,
           0.05,
           0,
           0.05,
           0,
           0.25,
           "Steel"
          ],
          [
           0,
           0.05,
           0,
           0.05,
           0,
           0.25,
           "Steel"
          ],
          [
           0,
           0.05,
           0,
           0.05,
           0,
           0.25,
           "Steel"
          ]
         ],
         "fill": "toself",
         "fillcolor": "#525252",
         "hoverinfo": "text",
         "hoverlabel": {
          "bgcolor": "#525252"
         },
         "hoveron": "points+fills",
         "hovertemplate": "Element Number: 0<br>Left Outer Diameter: 0.05 m<br>Left Inner Diameter: 0.0 m<br>Right Outer Diameter: 0.05 m<br>Right Inner Diameter: 0.0 m<br>Element Length: 0.25 m<br>Material: Steel<br>",
         "legendgroup": "Shaft",
         "line": {
          "color": "black",
          "width": 1.5
         },
         "mode": "lines",
         "name": "ShaftElement 0",
         "opacity": 0.5,
         "showlegend": false,
         "text": "Element Number: 0<br>Left Outer Diameter: 0.05 m<br>Left Inner Diameter: 0.0 m<br>Right Outer Diameter: 0.05 m<br>Right Inner Diameter: 0.0 m<br>Element Length: 0.25 m<br>Material: Steel<br>",
         "type": "scatter",
         "x": [
          0,
          0,
          0.25,
          0.25,
          0,
          0,
          0,
          0.25,
          0.25,
          0
         ],
         "y": [
          0,
          0.025,
          0.025,
          0,
          0,
          0,
          -0.025,
          -0.025,
          0,
          0
         ]
        },
        {
         "customdata": [
          [
           1,
           0.05,
           0,
           0.05,
           0,
           0.25,
           "Steel"
          ],
          [
           1,
           0.05,
           0,
           0.05,
           0,
           0.25,
           "Steel"
          ],
          [
           1,
           0.05,
           0,
           0.05,
           0,
           0.25,
           "Steel"
          ],
          [
           1,
           0.05,
           0,
           0.05,
           0,
           0.25,
           "Steel"
          ],
          [
           1,
           0.05,
           0,
           0.05,
           0,
           0.25,
           "Steel"
          ],
          [
           1,
           0.05,
           0,
           0.05,
           0,
           0.25,
           "Steel"
          ],
          [
           1,
           0.05,
           0,
           0.05,
           0,
           0.25,
           "Steel"
          ],
          [
           1,
           0.05,
           0,
           0.05,
           0,
           0.25,
           "Steel"
          ],
          [
           1,
           0.05,
           0,
           0.05,
           0,
           0.25,
           "Steel"
          ],
          [
           1,
           0.05,
           0,
           0.05,
           0,
           0.25,
           "Steel"
          ]
         ],
         "fill": "toself",
         "fillcolor": "#525252",
         "hoverinfo": "text",
         "hoverlabel": {
          "bgcolor": "#525252"
         },
         "hoveron": "points+fills",
         "hovertemplate": "Element Number: 1<br>Left Outer Diameter: 0.05 m<br>Left Inner Diameter: 0.0 m<br>Right Outer Diameter: 0.05 m<br>Right Inner Diameter: 0.0 m<br>Element Length: 0.25 m<br>Material: Steel<br>",
         "legendgroup": "Shaft",
         "line": {
          "color": "black",
          "width": 1.5
         },
         "mode": "lines",
         "name": "ShaftElement 1",
         "opacity": 0.5,
         "showlegend": false,
         "text": "Element Number: 1<br>Left Outer Diameter: 0.05 m<br>Left Inner Diameter: 0.0 m<br>Right Outer Diameter: 0.05 m<br>Right Inner Diameter: 0.0 m<br>Element Length: 0.25 m<br>Material: Steel<br>",
         "type": "scatter",
         "x": [
          0.25,
          0.25,
          0.5,
          0.5,
          0.25,
          0.25,
          0.25,
          0.5,
          0.5,
          0.25
         ],
         "y": [
          0,
          0.025,
          0.025,
          0,
          0,
          0,
          -0.025,
          -0.025,
          0,
          0
         ]
        },
        {
         "customdata": [
          [
           2,
           0.05,
           0,
           0.05,
           0,
           0.25,
           "Steel"
          ],
          [
           2,
           0.05,
           0,
           0.05,
           0,
           0.25,
           "Steel"
          ],
          [
           2,
           0.05,
           0,
           0.05,
           0,
           0.25,
           "Steel"
          ],
          [
           2,
           0.05,
           0,
           0.05,
           0,
           0.25,
           "Steel"
          ],
          [
           2,
           0.05,
           0,
           0.05,
           0,
           0.25,
           "Steel"
          ],
          [
           2,
           0.05,
           0,
           0.05,
           0,
           0.25,
           "Steel"
          ],
          [
           2,
           0.05,
           0,
           0.05,
           0,
           0.25,
           "Steel"
          ],
          [
           2,
           0.05,
           0,
           0.05,
           0,
           0.25,
           "Steel"
          ],
          [
           2,
           0.05,
           0,
           0.05,
           0,
           0.25,
           "Steel"
          ],
          [
           2,
           0.05,
           0,
           0.05,
           0,
           0.25,
           "Steel"
          ]
         ],
         "fill": "toself",
         "fillcolor": "#525252",
         "hoverinfo": "text",
         "hoverlabel": {
          "bgcolor": "#525252"
         },
         "hoveron": "points+fills",
         "hovertemplate": "Element Number: 2<br>Left Outer Diameter: 0.05 m<br>Left Inner Diameter: 0.0 m<br>Right Outer Diameter: 0.05 m<br>Right Inner Diameter: 0.0 m<br>Element Length: 0.25 m<br>Material: Steel<br>",
         "legendgroup": "Shaft",
         "line": {
          "color": "black",
          "width": 1.5
         },
         "mode": "lines",
         "name": "ShaftElement 2",
         "opacity": 0.5,
         "showlegend": false,
         "text": "Element Number: 2<br>Left Outer Diameter: 0.05 m<br>Left Inner Diameter: 0.0 m<br>Right Outer Diameter: 0.05 m<br>Right Inner Diameter: 0.0 m<br>Element Length: 0.25 m<br>Material: Steel<br>",
         "type": "scatter",
         "x": [
          0.5,
          0.5,
          0.75,
          0.75,
          0.5,
          0.5,
          0.5,
          0.75,
          0.75,
          0.5
         ],
         "y": [
          0,
          0.025,
          0.025,
          0,
          0,
          0,
          -0.025,
          -0.025,
          0,
          0
         ]
        },
        {
         "customdata": [
          [
           3,
           0.05,
           0,
           0.05,
           0,
           0.25,
           "Steel"
          ],
          [
           3,
           0.05,
           0,
           0.05,
           0,
           0.25,
           "Steel"
          ],
          [
           3,
           0.05,
           0,
           0.05,
           0,
           0.25,
           "Steel"
          ],
          [
           3,
           0.05,
           0,
           0.05,
           0,
           0.25,
           "Steel"
          ],
          [
           3,
           0.05,
           0,
           0.05,
           0,
           0.25,
           "Steel"
          ],
          [
           3,
           0.05,
           0,
           0.05,
           0,
           0.25,
           "Steel"
          ],
          [
           3,
           0.05,
           0,
           0.05,
           0,
           0.25,
           "Steel"
          ],
          [
           3,
           0.05,
           0,
           0.05,
           0,
           0.25,
           "Steel"
          ],
          [
           3,
           0.05,
           0,
           0.05,
           0,
           0.25,
           "Steel"
          ],
          [
           3,
           0.05,
           0,
           0.05,
           0,
           0.25,
           "Steel"
          ]
         ],
         "fill": "toself",
         "fillcolor": "#525252",
         "hoverinfo": "text",
         "hoverlabel": {
          "bgcolor": "#525252"
         },
         "hoveron": "points+fills",
         "hovertemplate": "Element Number: 3<br>Left Outer Diameter: 0.05 m<br>Left Inner Diameter: 0.0 m<br>Right Outer Diameter: 0.05 m<br>Right Inner Diameter: 0.0 m<br>Element Length: 0.25 m<br>Material: Steel<br>",
         "legendgroup": "Shaft",
         "line": {
          "color": "black",
          "width": 1.5
         },
         "mode": "lines",
         "name": "ShaftElement 3",
         "opacity": 0.5,
         "showlegend": false,
         "text": "Element Number: 3<br>Left Outer Diameter: 0.05 m<br>Left Inner Diameter: 0.0 m<br>Right Outer Diameter: 0.05 m<br>Right Inner Diameter: 0.0 m<br>Element Length: 0.25 m<br>Material: Steel<br>",
         "type": "scatter",
         "x": [
          0.75,
          0.75,
          1,
          1,
          0.75,
          0.75,
          0.75,
          1,
          1,
          0.75
         ],
         "y": [
          0,
          0.025,
          0.025,
          0,
          0,
          0,
          -0.025,
          -0.025,
          0,
          0
         ]
        },
        {
         "customdata": [
          [
           4,
           0.05,
           0,
           0.05,
           0,
           0.25,
           "Steel"
          ],
          [
           4,
           0.05,
           0,
           0.05,
           0,
           0.25,
           "Steel"
          ],
          [
           4,
           0.05,
           0,
           0.05,
           0,
           0.25,
           "Steel"
          ],
          [
           4,
           0.05,
           0,
           0.05,
           0,
           0.25,
           "Steel"
          ],
          [
           4,
           0.05,
           0,
           0.05,
           0,
           0.25,
           "Steel"
          ],
          [
           4,
           0.05,
           0,
           0.05,
           0,
           0.25,
           "Steel"
          ],
          [
           4,
           0.05,
           0,
           0.05,
           0,
           0.25,
           "Steel"
          ],
          [
           4,
           0.05,
           0,
           0.05,
           0,
           0.25,
           "Steel"
          ],
          [
           4,
           0.05,
           0,
           0.05,
           0,
           0.25,
           "Steel"
          ],
          [
           4,
           0.05,
           0,
           0.05,
           0,
           0.25,
           "Steel"
          ]
         ],
         "fill": "toself",
         "fillcolor": "#525252",
         "hoverinfo": "text",
         "hoverlabel": {
          "bgcolor": "#525252"
         },
         "hoveron": "points+fills",
         "hovertemplate": "Element Number: 4<br>Left Outer Diameter: 0.05 m<br>Left Inner Diameter: 0.0 m<br>Right Outer Diameter: 0.05 m<br>Right Inner Diameter: 0.0 m<br>Element Length: 0.25 m<br>Material: Steel<br>",
         "legendgroup": "Shaft",
         "line": {
          "color": "black",
          "width": 1.5
         },
         "mode": "lines",
         "name": "ShaftElement 4",
         "opacity": 0.5,
         "showlegend": false,
         "text": "Element Number: 4<br>Left Outer Diameter: 0.05 m<br>Left Inner Diameter: 0.0 m<br>Right Outer Diameter: 0.05 m<br>Right Inner Diameter: 0.0 m<br>Element Length: 0.25 m<br>Material: Steel<br>",
         "type": "scatter",
         "x": [
          1,
          1,
          1.25,
          1.25,
          1,
          1,
          1,
          1.25,
          1.25,
          1
         ],
         "y": [
          0,
          0.025,
          0.025,
          0,
          0,
          0,
          -0.025,
          -0.025,
          0,
          0
         ]
        },
        {
         "customdata": [
          [
           5,
           0.05,
           0,
           0.05,
           0,
           0.25,
           "Steel"
          ],
          [
           5,
           0.05,
           0,
           0.05,
           0,
           0.25,
           "Steel"
          ],
          [
           5,
           0.05,
           0,
           0.05,
           0,
           0.25,
           "Steel"
          ],
          [
           5,
           0.05,
           0,
           0.05,
           0,
           0.25,
           "Steel"
          ],
          [
           5,
           0.05,
           0,
           0.05,
           0,
           0.25,
           "Steel"
          ],
          [
           5,
           0.05,
           0,
           0.05,
           0,
           0.25,
           "Steel"
          ],
          [
           5,
           0.05,
           0,
           0.05,
           0,
           0.25,
           "Steel"
          ],
          [
           5,
           0.05,
           0,
           0.05,
           0,
           0.25,
           "Steel"
          ],
          [
           5,
           0.05,
           0,
           0.05,
           0,
           0.25,
           "Steel"
          ],
          [
           5,
           0.05,
           0,
           0.05,
           0,
           0.25,
           "Steel"
          ]
         ],
         "fill": "toself",
         "fillcolor": "#525252",
         "hoverinfo": "text",
         "hoverlabel": {
          "bgcolor": "#525252"
         },
         "hoveron": "points+fills",
         "hovertemplate": "Element Number: 5<br>Left Outer Diameter: 0.05 m<br>Left Inner Diameter: 0.0 m<br>Right Outer Diameter: 0.05 m<br>Right Inner Diameter: 0.0 m<br>Element Length: 0.25 m<br>Material: Steel<br>",
         "legendgroup": "Shaft",
         "line": {
          "color": "black",
          "width": 1.5
         },
         "mode": "lines",
         "name": "ShaftElement 5",
         "opacity": 0.5,
         "showlegend": false,
         "text": "Element Number: 5<br>Left Outer Diameter: 0.05 m<br>Left Inner Diameter: 0.0 m<br>Right Outer Diameter: 0.05 m<br>Right Inner Diameter: 0.0 m<br>Element Length: 0.25 m<br>Material: Steel<br>",
         "type": "scatter",
         "x": [
          1.25,
          1.25,
          1.5,
          1.5,
          1.25,
          1.25,
          1.25,
          1.5,
          1.5,
          1.25
         ],
         "y": [
          0,
          0.025,
          0.025,
          0,
          0,
          0,
          -0.025,
          -0.025,
          0,
          0
         ]
        },
        {
         "customdata": [
          [
           2,
           0.32956362089137037,
           0.17808928257067666,
           32.58972765304033
          ],
          [
           2,
           0.32956362089137037,
           0.17808928257067666,
           32.58972765304033
          ],
          [
           2,
           0.32956362089137037,
           0.17808928257067666,
           32.58972765304033
          ],
          [
           2,
           0.32956362089137037,
           0.17808928257067666,
           32.58972765304033
          ],
          [
           2,
           0.32956362089137037,
           0.17808928257067666,
           32.58972765304033
          ],
          [
           2,
           0.32956362089137037,
           0.17808928257067666,
           32.58972765304033
          ],
          [
           2,
           0.32956362089137037,
           0.17808928257067666,
           32.58972765304033
          ],
          [
           2,
           0.32956362089137037,
           0.17808928257067666,
           32.58972765304033
          ],
          [
           2,
           0.32956362089137037,
           0.17808928257067666,
           32.58972765304033
          ]
         ],
         "fill": "toself",
         "fillcolor": "Firebrick",
         "hoverinfo": "text",
         "hoverlabel": {
          "bgcolor": "Firebrick"
         },
         "hoveron": "points+fills",
         "hovertemplate": "Disk Node: 2<br>Polar Inertia: 3.296e-01<br>Diametral Inertia: 1.781e-01<br>Disk mass: 32.590<br>",
         "legendgroup": "disks",
         "line": {
          "color": "Firebrick",
          "width": 2
         },
         "mode": "lines",
         "name": "Disk 0",
         "opacity": 0.8,
         "showlegend": false,
         "text": "Disk Node: 2<br>Polar Inertia: 3.296e-01<br>Diametral Inertia: 1.781e-01<br>Disk mass: 32.590<br>",
         "type": "scatter",
         "x": [
          0.5,
          0.502,
          0.498,
          0.5,
          null,
          0.5,
          0.502,
          0.498,
          0.5
         ],
         "y": [
          0.025,
          0.125,
          0.125,
          0.025,
          null,
          -0.025,
          -0.125,
          -0.125,
          -0.025
         ]
        },
        {
         "customdata": [
          [
           4,
           0.8050822048675967,
           0.42358058405433824,
           51.5252611115262
          ],
          [
           4,
           0.8050822048675967,
           0.42358058405433824,
           51.5252611115262
          ],
          [
           4,
           0.8050822048675967,
           0.42358058405433824,
           51.5252611115262
          ],
          [
           4,
           0.8050822048675967,
           0.42358058405433824,
           51.5252611115262
          ],
          [
           4,
           0.8050822048675967,
           0.42358058405433824,
           51.5252611115262
          ],
          [
           4,
           0.8050822048675967,
           0.42358058405433824,
           51.5252611115262
          ],
          [
           4,
           0.8050822048675967,
           0.42358058405433824,
           51.5252611115262
          ],
          [
           4,
           0.8050822048675967,
           0.42358058405433824,
           51.5252611115262
          ],
          [
           4,
           0.8050822048675967,
           0.42358058405433824,
           51.5252611115262
          ]
         ],
         "fill": "toself",
         "fillcolor": "Firebrick",
         "hoverinfo": "text",
         "hoverlabel": {
          "bgcolor": "Firebrick"
         },
         "hoveron": "points+fills",
         "hovertemplate": "Disk Node: 4<br>Polar Inertia: 8.051e-01<br>Diametral Inertia: 4.236e-01<br>Disk mass: 51.525<br>",
         "legendgroup": "disks",
         "line": {
          "color": "Firebrick",
          "width": 2
         },
         "mode": "lines",
         "name": "Disk 1",
         "opacity": 0.8,
         "showlegend": false,
         "text": "Disk Node: 4<br>Polar Inertia: 8.051e-01<br>Diametral Inertia: 4.236e-01<br>Disk mass: 51.525<br>",
         "type": "scatter",
         "x": [
          1,
          1.002,
          0.998,
          1,
          null,
          1,
          1.002,
          0.998,
          1
         ],
         "y": [
          0.025,
          0.125,
          0.125,
          0.025,
          null,
          -0.025,
          -0.125,
          -0.125,
          -0.025
         ]
        },
        {
         "hoverinfo": "none",
         "legendgroup": "bearings",
         "line": {
          "color": "#355d7a",
          "width": 1
         },
         "mode": "lines",
         "name": "Bearing 0",
         "showlegend": false,
         "type": "scatter",
         "x": [
          0,
          0,
          -0.007142857142857143,
          0.007142857142857143
         ],
         "y": [
          0.025,
          0.0375,
          0.0375,
          0.0375
         ]
        },
        {
         "hoverinfo": "none",
         "legendgroup": "bearings",
         "line": {
          "color": "#355d7a",
          "width": 1
         },
         "mode": "lines",
         "name": "Bearing 0",
         "showlegend": false,
         "type": "scatter",
         "x": [
          0,
          0,
          -0.007142857142857143,
          0.007142857142857143
         ],
         "y": [
          -0.025,
          -0.0375,
          -0.0375,
          -0.0375
         ]
        },
        {
         "hoverinfo": "none",
         "legendgroup": "bearings",
         "line": {
          "color": "#355d7a",
          "width": 1
         },
         "mode": "lines",
         "name": "Bearing 0",
         "showlegend": false,
         "type": "scatter",
         "x": [
          0,
          0,
          -0.007142857142857143,
          0.007142857142857143
         ],
         "y": [
          0.075,
          0.0625,
          0.0625,
          0.0625
         ]
        },
        {
         "hoverinfo": "none",
         "legendgroup": "bearings",
         "line": {
          "color": "#355d7a",
          "width": 1
         },
         "mode": "lines",
         "name": "Bearing 0",
         "showlegend": false,
         "type": "scatter",
         "x": [
          0,
          0,
          -0.007142857142857143,
          0.007142857142857143
         ],
         "y": [
          -0.075,
          -0.0625,
          -0.0625,
          -0.0625
         ]
        },
        {
         "hoverinfo": "none",
         "legendgroup": "bearings",
         "line": {
          "color": "#355d7a",
          "width": 1
         },
         "mode": "lines",
         "name": "Bearing 0",
         "showlegend": false,
         "type": "scatter",
         "x": [
          -0.010714285714285714,
          0.010714285714285714
         ],
         "y": [
          0.075,
          0.075
         ]
        },
        {
         "hoverinfo": "none",
         "legendgroup": "bearings",
         "line": {
          "color": "#355d7a",
          "width": 1
         },
         "mode": "lines",
         "name": "Bearing 0",
         "showlegend": false,
         "type": "scatter",
         "x": [
          -0.010714285714285714,
          0.010714285714285714
         ],
         "y": [
          -0.075,
          -0.075
         ]
        },
        {
         "hoverinfo": "none",
         "legendgroup": "bearings",
         "line": {
          "color": "#355d7a",
          "width": 1
         },
         "mode": "lines",
         "name": "Bearing 0",
         "showlegend": false,
         "type": "scatter",
         "x": [
          -0.010714285714285714,
          -0.0064285714285714285
         ],
         "y": [
          0.075,
          0.0825
         ]
        },
        {
         "hoverinfo": "none",
         "legendgroup": "bearings",
         "line": {
          "color": "#355d7a",
          "width": 1
         },
         "mode": "lines",
         "name": "Bearing 0",
         "showlegend": false,
         "type": "scatter",
         "x": [
          -0.010714285714285714,
          -0.0064285714285714285
         ],
         "y": [
          -0.075,
          -0.0825
         ]
        },
        {
         "hoverinfo": "none",
         "legendgroup": "bearings",
         "line": {
          "color": "#355d7a",
          "width": 1
         },
         "mode": "lines",
         "name": "Bearing 0",
         "showlegend": false,
         "type": "scatter",
         "x": [
          -0.0064285714285714285,
          -0.0021428571428571425
         ],
         "y": [
          0.075,
          0.0825
         ]
        },
        {
         "hoverinfo": "none",
         "legendgroup": "bearings",
         "line": {
          "color": "#355d7a",
          "width": 1
         },
         "mode": "lines",
         "name": "Bearing 0",
         "showlegend": false,
         "type": "scatter",
         "x": [
          -0.0064285714285714285,
          -0.0021428571428571425
         ],
         "y": [
          -0.075,
          -0.0825
         ]
        },
        {
         "hoverinfo": "none",
         "legendgroup": "bearings",
         "line": {
          "color": "#355d7a",
          "width": 1
         },
         "mode": "lines",
         "name": "Bearing 0",
         "showlegend": false,
         "type": "scatter",
         "x": [
          -0.0021428571428571425,
          0.0021428571428571443
         ],
         "y": [
          0.075,
          0.0825
         ]
        },
        {
         "hoverinfo": "none",
         "legendgroup": "bearings",
         "line": {
          "color": "#355d7a",
          "width": 1
         },
         "mode": "lines",
         "name": "Bearing 0",
         "showlegend": false,
         "type": "scatter",
         "x": [
          -0.0021428571428571425,
          0.0021428571428571443
         ],
         "y": [
          -0.075,
          -0.0825
         ]
        },
        {
         "hoverinfo": "none",
         "legendgroup": "bearings",
         "line": {
          "color": "#355d7a",
          "width": 1
         },
         "mode": "lines",
         "name": "Bearing 0",
         "showlegend": false,
         "type": "scatter",
         "x": [
          0.0021428571428571443,
          0.006428571428571429
         ],
         "y": [
          0.075,
          0.0825
         ]
        },
        {
         "hoverinfo": "none",
         "legendgroup": "bearings",
         "line": {
          "color": "#355d7a",
          "width": 1
         },
         "mode": "lines",
         "name": "Bearing 0",
         "showlegend": false,
         "type": "scatter",
         "x": [
          0.0021428571428571443,
          0.006428571428571429
         ],
         "y": [
          -0.075,
          -0.0825
         ]
        },
        {
         "hoverinfo": "none",
         "legendgroup": "bearings",
         "line": {
          "color": "#355d7a",
          "width": 1
         },
         "mode": "lines",
         "name": "Bearing 0",
         "showlegend": false,
         "type": "scatter",
         "x": [
          0.006428571428571429,
          0.010714285714285714
         ],
         "y": [
          0.075,
          0.0825
         ]
        },
        {
         "hoverinfo": "none",
         "legendgroup": "bearings",
         "line": {
          "color": "#355d7a",
          "width": 1
         },
         "mode": "lines",
         "name": "Bearing 0",
         "showlegend": false,
         "type": "scatter",
         "x": [
          0.006428571428571429,
          0.010714285714285714
         ],
         "y": [
          -0.075,
          -0.0825
         ]
        },
        {
         "hoverinfo": "none",
         "legendgroup": "bearings",
         "line": {
          "color": "#355d7a",
          "width": 1
         },
         "mode": "lines",
         "name": "Bearing 0",
         "showlegend": false,
         "type": "scatter",
         "x": [
          0.010714285714285714,
          0.015000000000000003
         ],
         "y": [
          0.075,
          0.0825
         ]
        },
        {
         "hoverinfo": "none",
         "legendgroup": "bearings",
         "line": {
          "color": "#355d7a",
          "width": 1
         },
         "mode": "lines",
         "name": "Bearing 0",
         "showlegend": false,
         "type": "scatter",
         "x": [
          0.010714285714285714,
          0.015000000000000003
         ],
         "y": [
          -0.075,
          -0.0825
         ]
        },
        {
         "hoverinfo": "none",
         "legendgroup": "bearings",
         "line": {
          "color": "#355d7a",
          "width": 1
         },
         "mode": "lines",
         "name": "Bearing 0",
         "showlegend": false,
         "type": "scatter",
         "x": [
          -0.007142857142857143,
          -0.007142857142857143,
          -0.010714285714285714,
          -0.0035714285714285713,
          -0.010714285714285714,
          -0.0035714285714285713,
          -0.010714285714285714,
          -0.0035714285714285713,
          -0.007142857142857143,
          -0.007142857142857143
         ],
         "y": [
          0.0375,
          0.04107142857142857,
          0.04107142857142857,
          0.044642857142857144,
          0.04821428571428571,
          0.05178571428571428,
          0.055357142857142855,
          0.05892857142857143,
          0.05892857142857143,
          0.0625
         ]
        },
        {
         "hoverinfo": "none",
         "legendgroup": "bearings",
         "line": {
          "color": "#355d7a",
          "width": 1
         },
         "mode": "lines",
         "name": "Bearing 0",
         "showlegend": false,
         "type": "scatter",
         "x": [
          -0.007142857142857143,
          -0.007142857142857143,
          -0.010714285714285714,
          -0.0035714285714285713,
          -0.010714285714285714,
          -0.0035714285714285713,
          -0.010714285714285714,
          -0.0035714285714285713,
          -0.007142857142857143,
          -0.007142857142857143
         ],
         "y": [
          -0.0375,
          -0.04107142857142857,
          -0.04107142857142857,
          -0.044642857142857144,
          -0.04821428571428571,
          -0.05178571428571428,
          -0.055357142857142855,
          -0.05892857142857143,
          -0.05892857142857143,
          -0.0625
         ]
        },
        {
         "hoverinfo": "none",
         "legendgroup": "bearings",
         "line": {
          "color": "#355d7a",
          "width": 1
         },
         "mode": "lines",
         "name": "Bearing 0",
         "showlegend": false,
         "type": "scatter",
         "x": [
          0.007142857142857143,
          0.007142857142857143
         ],
         "y": [
          0.0375,
          0.044642857142857144
         ]
        },
        {
         "hoverinfo": "none",
         "legendgroup": "bearings",
         "line": {
          "color": "#355d7a",
          "width": 1
         },
         "mode": "lines",
         "name": "Bearing 0",
         "showlegend": false,
         "type": "scatter",
         "x": [
          0.007142857142857143,
          0.007142857142857143
         ],
         "y": [
          -0.0375,
          -0.044642857142857144
         ]
        },
        {
         "hoverinfo": "none",
         "legendgroup": "bearings",
         "line": {
          "color": "#355d7a",
          "width": 1
         },
         "mode": "lines",
         "name": "Bearing 0",
         "showlegend": false,
         "type": "scatter",
         "x": [
          0,
          0,
          0.014285714285714285,
          0.014285714285714285
         ],
         "y": [
          0.055357142857142855,
          0.044642857142857144,
          0.044642857142857144,
          0.055357142857142855
         ]
        },
        {
         "hoverinfo": "none",
         "legendgroup": "bearings",
         "line": {
          "color": "#355d7a",
          "width": 1
         },
         "mode": "lines",
         "name": "Bearing 0",
         "showlegend": false,
         "type": "scatter",
         "x": [
          0,
          0,
          0.014285714285714285,
          0.014285714285714285
         ],
         "y": [
          -0.055357142857142855,
          -0.044642857142857144,
          -0.044642857142857144,
          -0.055357142857142855
         ]
        },
        {
         "hoverinfo": "none",
         "legendgroup": "bearings",
         "line": {
          "color": "#355d7a",
          "width": 1
         },
         "mode": "lines",
         "name": "Bearing 0",
         "showlegend": false,
         "type": "scatter",
         "x": [
          0,
          0.014285714285714285,
          0.007142857142857143,
          0.007142857142857143
         ],
         "y": [
          0.05178571428571428,
          0.05178571428571428,
          0.05178571428571428,
          0.0625
         ]
        },
        {
         "hoverinfo": "none",
         "legendgroup": "bearings",
         "line": {
          "color": "#355d7a",
          "width": 1
         },
         "mode": "lines",
         "name": "Bearing 0",
         "showlegend": false,
         "type": "scatter",
         "x": [
          0,
          0.014285714285714285,
          0.007142857142857143,
          0.007142857142857143
         ],
         "y": [
          -0.05178571428571428,
          -0.05178571428571428,
          -0.05178571428571428,
          -0.0625
         ]
        },
        {
         "hoverinfo": "none",
         "legendgroup": "bearings",
         "line": {
          "color": "#355d7a",
          "width": 1
         },
         "mode": "lines",
         "name": "Bearing 1",
         "showlegend": false,
         "type": "scatter",
         "x": [
          1.5,
          1.5,
          1.4928571428571429,
          1.5071428571428571
         ],
         "y": [
          0.025,
          0.0375,
          0.0375,
          0.0375
         ]
        },
        {
         "hoverinfo": "none",
         "legendgroup": "bearings",
         "line": {
          "color": "#355d7a",
          "width": 1
         },
         "mode": "lines",
         "name": "Bearing 1",
         "showlegend": false,
         "type": "scatter",
         "x": [
          1.5,
          1.5,
          1.4928571428571429,
          1.5071428571428571
         ],
         "y": [
          -0.025,
          -0.0375,
          -0.0375,
          -0.0375
         ]
        },
        {
         "hoverinfo": "none",
         "legendgroup": "bearings",
         "line": {
          "color": "#355d7a",
          "width": 1
         },
         "mode": "lines",
         "name": "Bearing 1",
         "showlegend": false,
         "type": "scatter",
         "x": [
          1.5,
          1.5,
          1.4928571428571429,
          1.5071428571428571
         ],
         "y": [
          0.075,
          0.0625,
          0.0625,
          0.0625
         ]
        },
        {
         "hoverinfo": "none",
         "legendgroup": "bearings",
         "line": {
          "color": "#355d7a",
          "width": 1
         },
         "mode": "lines",
         "name": "Bearing 1",
         "showlegend": false,
         "type": "scatter",
         "x": [
          1.5,
          1.5,
          1.4928571428571429,
          1.5071428571428571
         ],
         "y": [
          -0.075,
          -0.0625,
          -0.0625,
          -0.0625
         ]
        },
        {
         "hoverinfo": "none",
         "legendgroup": "bearings",
         "line": {
          "color": "#355d7a",
          "width": 1
         },
         "mode": "lines",
         "name": "Bearing 1",
         "showlegend": false,
         "type": "scatter",
         "x": [
          1.4892857142857143,
          1.5107142857142857
         ],
         "y": [
          0.075,
          0.075
         ]
        },
        {
         "hoverinfo": "none",
         "legendgroup": "bearings",
         "line": {
          "color": "#355d7a",
          "width": 1
         },
         "mode": "lines",
         "name": "Bearing 1",
         "showlegend": false,
         "type": "scatter",
         "x": [
          1.4892857142857143,
          1.5107142857142857
         ],
         "y": [
          -0.075,
          -0.075
         ]
        },
        {
         "hoverinfo": "none",
         "legendgroup": "bearings",
         "line": {
          "color": "#355d7a",
          "width": 1
         },
         "mode": "lines",
         "name": "Bearing 1",
         "showlegend": false,
         "type": "scatter",
         "x": [
          1.4892857142857143,
          1.4935714285714285
         ],
         "y": [
          0.075,
          0.0825
         ]
        },
        {
         "hoverinfo": "none",
         "legendgroup": "bearings",
         "line": {
          "color": "#355d7a",
          "width": 1
         },
         "mode": "lines",
         "name": "Bearing 1",
         "showlegend": false,
         "type": "scatter",
         "x": [
          1.4892857142857143,
          1.4935714285714285
         ],
         "y": [
          -0.075,
          -0.0825
         ]
        },
        {
         "hoverinfo": "none",
         "legendgroup": "bearings",
         "line": {
          "color": "#355d7a",
          "width": 1
         },
         "mode": "lines",
         "name": "Bearing 1",
         "showlegend": false,
         "type": "scatter",
         "x": [
          1.4935714285714285,
          1.4978571428571428
         ],
         "y": [
          0.075,
          0.0825
         ]
        },
        {
         "hoverinfo": "none",
         "legendgroup": "bearings",
         "line": {
          "color": "#355d7a",
          "width": 1
         },
         "mode": "lines",
         "name": "Bearing 1",
         "showlegend": false,
         "type": "scatter",
         "x": [
          1.4935714285714285,
          1.4978571428571428
         ],
         "y": [
          -0.075,
          -0.0825
         ]
        },
        {
         "hoverinfo": "none",
         "legendgroup": "bearings",
         "line": {
          "color": "#355d7a",
          "width": 1
         },
         "mode": "lines",
         "name": "Bearing 1",
         "showlegend": false,
         "type": "scatter",
         "x": [
          1.4978571428571428,
          1.5021428571428572
         ],
         "y": [
          0.075,
          0.0825
         ]
        },
        {
         "hoverinfo": "none",
         "legendgroup": "bearings",
         "line": {
          "color": "#355d7a",
          "width": 1
         },
         "mode": "lines",
         "name": "Bearing 1",
         "showlegend": false,
         "type": "scatter",
         "x": [
          1.4978571428571428,
          1.5021428571428572
         ],
         "y": [
          -0.075,
          -0.0825
         ]
        },
        {
         "hoverinfo": "none",
         "legendgroup": "bearings",
         "line": {
          "color": "#355d7a",
          "width": 1
         },
         "mode": "lines",
         "name": "Bearing 1",
         "showlegend": false,
         "type": "scatter",
         "x": [
          1.5021428571428572,
          1.5064285714285715
         ],
         "y": [
          0.075,
          0.0825
         ]
        },
        {
         "hoverinfo": "none",
         "legendgroup": "bearings",
         "line": {
          "color": "#355d7a",
          "width": 1
         },
         "mode": "lines",
         "name": "Bearing 1",
         "showlegend": false,
         "type": "scatter",
         "x": [
          1.5021428571428572,
          1.5064285714285715
         ],
         "y": [
          -0.075,
          -0.0825
         ]
        },
        {
         "hoverinfo": "none",
         "legendgroup": "bearings",
         "line": {
          "color": "#355d7a",
          "width": 1
         },
         "mode": "lines",
         "name": "Bearing 1",
         "showlegend": false,
         "type": "scatter",
         "x": [
          1.5064285714285715,
          1.5107142857142857
         ],
         "y": [
          0.075,
          0.0825
         ]
        },
        {
         "hoverinfo": "none",
         "legendgroup": "bearings",
         "line": {
          "color": "#355d7a",
          "width": 1
         },
         "mode": "lines",
         "name": "Bearing 1",
         "showlegend": false,
         "type": "scatter",
         "x": [
          1.5064285714285715,
          1.5107142857142857
         ],
         "y": [
          -0.075,
          -0.0825
         ]
        },
        {
         "hoverinfo": "none",
         "legendgroup": "bearings",
         "line": {
          "color": "#355d7a",
          "width": 1
         },
         "mode": "lines",
         "name": "Bearing 1",
         "showlegend": false,
         "type": "scatter",
         "x": [
          1.5107142857142857,
          1.515
         ],
         "y": [
          0.075,
          0.0825
         ]
        },
        {
         "hoverinfo": "none",
         "legendgroup": "bearings",
         "line": {
          "color": "#355d7a",
          "width": 1
         },
         "mode": "lines",
         "name": "Bearing 1",
         "showlegend": false,
         "type": "scatter",
         "x": [
          1.5107142857142857,
          1.515
         ],
         "y": [
          -0.075,
          -0.0825
         ]
        },
        {
         "hoverinfo": "none",
         "legendgroup": "bearings",
         "line": {
          "color": "#355d7a",
          "width": 1
         },
         "mode": "lines",
         "name": "Bearing 1",
         "showlegend": false,
         "type": "scatter",
         "x": [
          1.4928571428571429,
          1.4928571428571429,
          1.4892857142857143,
          1.4964285714285714,
          1.4892857142857143,
          1.4964285714285714,
          1.4892857142857143,
          1.4964285714285714,
          1.4928571428571429,
          1.4928571428571429
         ],
         "y": [
          0.0375,
          0.04107142857142857,
          0.04107142857142857,
          0.044642857142857144,
          0.04821428571428571,
          0.05178571428571428,
          0.055357142857142855,
          0.05892857142857143,
          0.05892857142857143,
          0.0625
         ]
        },
        {
         "hoverinfo": "none",
         "legendgroup": "bearings",
         "line": {
          "color": "#355d7a",
          "width": 1
         },
         "mode": "lines",
         "name": "Bearing 1",
         "showlegend": false,
         "type": "scatter",
         "x": [
          1.4928571428571429,
          1.4928571428571429,
          1.4892857142857143,
          1.4964285714285714,
          1.4892857142857143,
          1.4964285714285714,
          1.4892857142857143,
          1.4964285714285714,
          1.4928571428571429,
          1.4928571428571429
         ],
         "y": [
          -0.0375,
          -0.04107142857142857,
          -0.04107142857142857,
          -0.044642857142857144,
          -0.04821428571428571,
          -0.05178571428571428,
          -0.055357142857142855,
          -0.05892857142857143,
          -0.05892857142857143,
          -0.0625
         ]
        },
        {
         "hoverinfo": "none",
         "legendgroup": "bearings",
         "line": {
          "color": "#355d7a",
          "width": 1
         },
         "mode": "lines",
         "name": "Bearing 1",
         "showlegend": false,
         "type": "scatter",
         "x": [
          1.5071428571428571,
          1.5071428571428571
         ],
         "y": [
          0.0375,
          0.044642857142857144
         ]
        },
        {
         "hoverinfo": "none",
         "legendgroup": "bearings",
         "line": {
          "color": "#355d7a",
          "width": 1
         },
         "mode": "lines",
         "name": "Bearing 1",
         "showlegend": false,
         "type": "scatter",
         "x": [
          1.5071428571428571,
          1.5071428571428571
         ],
         "y": [
          -0.0375,
          -0.044642857142857144
         ]
        },
        {
         "hoverinfo": "none",
         "legendgroup": "bearings",
         "line": {
          "color": "#355d7a",
          "width": 1
         },
         "mode": "lines",
         "name": "Bearing 1",
         "showlegend": false,
         "type": "scatter",
         "x": [
          1.5,
          1.5,
          1.5142857142857142,
          1.5142857142857142
         ],
         "y": [
          0.055357142857142855,
          0.044642857142857144,
          0.044642857142857144,
          0.055357142857142855
         ]
        },
        {
         "hoverinfo": "none",
         "legendgroup": "bearings",
         "line": {
          "color": "#355d7a",
          "width": 1
         },
         "mode": "lines",
         "name": "Bearing 1",
         "showlegend": false,
         "type": "scatter",
         "x": [
          1.5,
          1.5,
          1.5142857142857142,
          1.5142857142857142
         ],
         "y": [
          -0.055357142857142855,
          -0.044642857142857144,
          -0.044642857142857144,
          -0.055357142857142855
         ]
        },
        {
         "hoverinfo": "none",
         "legendgroup": "bearings",
         "line": {
          "color": "#355d7a",
          "width": 1
         },
         "mode": "lines",
         "name": "Bearing 1",
         "showlegend": false,
         "type": "scatter",
         "x": [
          1.5,
          1.5142857142857142,
          1.5071428571428571,
          1.5071428571428571
         ],
         "y": [
          0.05178571428571428,
          0.05178571428571428,
          0.05178571428571428,
          0.0625
         ]
        },
        {
         "hoverinfo": "none",
         "legendgroup": "bearings",
         "line": {
          "color": "#355d7a",
          "width": 1
         },
         "mode": "lines",
         "name": "Bearing 1",
         "showlegend": false,
         "type": "scatter",
         "x": [
          1.5,
          1.5142857142857142,
          1.5071428571428571,
          1.5071428571428571
         ],
         "y": [
          -0.05178571428571428,
          -0.05178571428571428,
          -0.05178571428571428,
          -0.0625
         ]
        }
       ],
       "layout": {
        "shapes": [
         {
          "fillcolor": "Firebrick",
          "line": {
           "color": "Firebrick"
          },
          "type": "circle",
          "x0": 0.49375,
          "x1": 0.50625,
          "xref": "x",
          "y0": 0.11875,
          "y1": 0.13125,
          "yref": "y"
         },
         {
          "fillcolor": "Firebrick",
          "line": {
           "color": "Firebrick"
          },
          "type": "circle",
          "x0": 0.49375,
          "x1": 0.50625,
          "xref": "x",
          "y0": -0.13125,
          "y1": -0.11875,
          "yref": "y"
         },
         {
          "fillcolor": "Firebrick",
          "line": {
           "color": "Firebrick"
          },
          "type": "circle",
          "x0": 0.99375,
          "x1": 1.00625,
          "xref": "x",
          "y0": 0.11875,
          "y1": 0.13125,
          "yref": "y"
         },
         {
          "fillcolor": "Firebrick",
          "line": {
           "color": "Firebrick"
          },
          "type": "circle",
          "x0": 0.99375,
          "x1": 1.00625,
          "xref": "x",
          "y0": -0.13125,
          "y1": -0.11875,
          "yref": "y"
         }
        ],
        "template": {
         "data": {
          "bar": [
           {
            "error_x": {
             "color": "#2a3f5f"
            },
            "error_y": {
             "color": "#2a3f5f"
            },
            "marker": {
             "line": {
              "color": "white",
              "width": 0.5
             }
            },
            "type": "bar"
           }
          ],
          "barpolar": [
           {
            "marker": {
             "line": {
              "color": "white",
              "width": 0.5
             }
            },
            "type": "barpolar"
           }
          ],
          "carpet": [
           {
            "aaxis": {
             "endlinecolor": "#2a3f5f",
             "gridcolor": "#C8D4E3",
             "linecolor": "#C8D4E3",
             "minorgridcolor": "#C8D4E3",
             "startlinecolor": "#2a3f5f"
            },
            "baxis": {
             "endlinecolor": "#2a3f5f",
             "gridcolor": "#C8D4E3",
             "linecolor": "#C8D4E3",
             "minorgridcolor": "#C8D4E3",
             "startlinecolor": "#2a3f5f"
            },
            "type": "carpet"
           }
          ],
          "choropleth": [
           {
            "colorbar": {
             "outlinewidth": 0,
             "ticks": ""
            },
            "type": "choropleth"
           }
          ],
          "contour": [
           {
            "colorbar": {
             "outlinewidth": 0,
             "ticks": ""
            },
            "colorscale": [
             [
              0,
              "#0d0887"
             ],
             [
              0.1111111111111111,
              "#46039f"
             ],
             [
              0.2222222222222222,
              "#7201a8"
             ],
             [
              0.3333333333333333,
              "#9c179e"
             ],
             [
              0.4444444444444444,
              "#bd3786"
             ],
             [
              0.5555555555555556,
              "#d8576b"
             ],
             [
              0.6666666666666666,
              "#ed7953"
             ],
             [
              0.7777777777777778,
              "#fb9f3a"
             ],
             [
              0.8888888888888888,
              "#fdca26"
             ],
             [
              1,
              "#f0f921"
             ]
            ],
            "type": "contour"
           }
          ],
          "contourcarpet": [
           {
            "colorbar": {
             "outlinewidth": 0,
             "ticks": ""
            },
            "type": "contourcarpet"
           }
          ],
          "heatmap": [
           {
            "colorbar": {
             "outlinewidth": 0,
             "ticks": ""
            },
            "colorscale": [
             [
              0,
              "#0d0887"
             ],
             [
              0.1111111111111111,
              "#46039f"
             ],
             [
              0.2222222222222222,
              "#7201a8"
             ],
             [
              0.3333333333333333,
              "#9c179e"
             ],
             [
              0.4444444444444444,
              "#bd3786"
             ],
             [
              0.5555555555555556,
              "#d8576b"
             ],
             [
              0.6666666666666666,
              "#ed7953"
             ],
             [
              0.7777777777777778,
              "#fb9f3a"
             ],
             [
              0.8888888888888888,
              "#fdca26"
             ],
             [
              1,
              "#f0f921"
             ]
            ],
            "type": "heatmap"
           }
          ],
          "heatmapgl": [
           {
            "colorbar": {
             "outlinewidth": 0,
             "ticks": ""
            },
            "colorscale": [
             [
              0,
              "#0d0887"
             ],
             [
              0.1111111111111111,
              "#46039f"
             ],
             [
              0.2222222222222222,
              "#7201a8"
             ],
             [
              0.3333333333333333,
              "#9c179e"
             ],
             [
              0.4444444444444444,
              "#bd3786"
             ],
             [
              0.5555555555555556,
              "#d8576b"
             ],
             [
              0.6666666666666666,
              "#ed7953"
             ],
             [
              0.7777777777777778,
              "#fb9f3a"
             ],
             [
              0.8888888888888888,
              "#fdca26"
             ],
             [
              1,
              "#f0f921"
             ]
            ],
            "type": "heatmapgl"
           }
          ],
          "histogram": [
           {
            "marker": {
             "colorbar": {
              "outlinewidth": 0,
              "ticks": ""
             }
            },
            "type": "histogram"
           }
          ],
          "histogram2d": [
           {
            "colorbar": {
             "outlinewidth": 0,
             "ticks": ""
            },
            "colorscale": [
             [
              0,
              "#0d0887"
             ],
             [
              0.1111111111111111,
              "#46039f"
             ],
             [
              0.2222222222222222,
              "#7201a8"
             ],
             [
              0.3333333333333333,
              "#9c179e"
             ],
             [
              0.4444444444444444,
              "#bd3786"
             ],
             [
              0.5555555555555556,
              "#d8576b"
             ],
             [
              0.6666666666666666,
              "#ed7953"
             ],
             [
              0.7777777777777778,
              "#fb9f3a"
             ],
             [
              0.8888888888888888,
              "#fdca26"
             ],
             [
              1,
              "#f0f921"
             ]
            ],
            "type": "histogram2d"
           }
          ],
          "histogram2dcontour": [
           {
            "colorbar": {
             "outlinewidth": 0,
             "ticks": ""
            },
            "colorscale": [
             [
              0,
              "#0d0887"
             ],
             [
              0.1111111111111111,
              "#46039f"
             ],
             [
              0.2222222222222222,
              "#7201a8"
             ],
             [
              0.3333333333333333,
              "#9c179e"
             ],
             [
              0.4444444444444444,
              "#bd3786"
             ],
             [
              0.5555555555555556,
              "#d8576b"
             ],
             [
              0.6666666666666666,
              "#ed7953"
             ],
             [
              0.7777777777777778,
              "#fb9f3a"
             ],
             [
              0.8888888888888888,
              "#fdca26"
             ],
             [
              1,
              "#f0f921"
             ]
            ],
            "type": "histogram2dcontour"
           }
          ],
          "mesh3d": [
           {
            "colorbar": {
             "outlinewidth": 0,
             "ticks": ""
            },
            "type": "mesh3d"
           }
          ],
          "parcoords": [
           {
            "line": {
             "colorbar": {
              "outlinewidth": 0,
              "ticks": ""
             }
            },
            "type": "parcoords"
           }
          ],
          "pie": [
           {
            "automargin": true,
            "type": "pie"
           }
          ],
          "scatter": [
           {
            "marker": {
             "colorbar": {
              "outlinewidth": 0,
              "ticks": ""
             }
            },
            "type": "scatter"
           }
          ],
          "scatter3d": [
           {
            "line": {
             "colorbar": {
              "outlinewidth": 0,
              "ticks": ""
             }
            },
            "marker": {
             "colorbar": {
              "outlinewidth": 0,
              "ticks": ""
             },
             "size": 4
            },
            "type": "scatter3d"
           }
          ],
          "scattercarpet": [
           {
            "marker": {
             "colorbar": {
              "outlinewidth": 0,
              "ticks": ""
             }
            },
            "type": "scattercarpet"
           }
          ],
          "scattergeo": [
           {
            "marker": {
             "colorbar": {
              "outlinewidth": 0,
              "ticks": ""
             }
            },
            "type": "scattergeo"
           }
          ],
          "scattergl": [
           {
            "marker": {
             "colorbar": {
              "outlinewidth": 0,
              "ticks": ""
             }
            },
            "type": "scattergl"
           }
          ],
          "scattermapbox": [
           {
            "marker": {
             "colorbar": {
              "outlinewidth": 0,
              "ticks": ""
             }
            },
            "type": "scattermapbox"
           }
          ],
          "scatterpolar": [
           {
            "marker": {
             "colorbar": {
              "outlinewidth": 0,
              "ticks": ""
             }
            },
            "type": "scatterpolar"
           }
          ],
          "scatterpolargl": [
           {
            "marker": {
             "colorbar": {
              "outlinewidth": 0,
              "ticks": ""
             }
            },
            "type": "scatterpolargl"
           }
          ],
          "scatterternary": [
           {
            "marker": {
             "colorbar": {
              "outlinewidth": 0,
              "ticks": ""
             }
            },
            "type": "scatterternary"
           }
          ],
          "surface": [
           {
            "colorbar": {
             "outlinewidth": 0,
             "ticks": ""
            },
            "colorscale": [
             [
              0,
              "#0d0887"
             ],
             [
              0.1111111111111111,
              "#46039f"
             ],
             [
              0.2222222222222222,
              "#7201a8"
             ],
             [
              0.3333333333333333,
              "#9c179e"
             ],
             [
              0.4444444444444444,
              "#bd3786"
             ],
             [
              0.5555555555555556,
              "#d8576b"
             ],
             [
              0.6666666666666666,
              "#ed7953"
             ],
             [
              0.7777777777777778,
              "#fb9f3a"
             ],
             [
              0.8888888888888888,
              "#fdca26"
             ],
             [
              1,
              "#f0f921"
             ]
            ],
            "type": "surface"
           }
          ],
          "table": [
           {
            "cells": {
             "fill": {
              "color": "#EBF0F8"
             },
             "line": {
              "color": "white"
             }
            },
            "header": {
             "fill": {
              "color": "#C8D4E3"
             },
             "line": {
              "color": "white"
             }
            },
            "type": "table"
           }
          ]
         },
         "layout": {
          "annotationdefaults": {
           "arrowcolor": "#2a3f5f",
           "arrowhead": 0,
           "arrowwidth": 1
          },
          "coloraxis": {
           "colorbar": {
            "outlinewidth": 0,
            "ticks": ""
           }
          },
          "colorscale": {
           "diverging": [
            [
             0,
             "#8e0152"
            ],
            [
             0.1,
             "#c51b7d"
            ],
            [
             0.2,
             "#de77ae"
            ],
            [
             0.3,
             "#f1b6da"
            ],
            [
             0.4,
             "#fde0ef"
            ],
            [
             0.5,
             "#f7f7f7"
            ],
            [
             0.6,
             "#e6f5d0"
            ],
            [
             0.7,
             "#b8e186"
            ],
            [
             0.8,
             "#7fbc41"
            ],
            [
             0.9,
             "#4d9221"
            ],
            [
             1,
             "#276419"
            ]
           ],
           "sequential": [
            [
             0,
             "#0d0887"
            ],
            [
             0.1111111111111111,
             "#46039f"
            ],
            [
             0.2222222222222222,
             "#7201a8"
            ],
            [
             0.3333333333333333,
             "#9c179e"
            ],
            [
             0.4444444444444444,
             "#bd3786"
            ],
            [
             0.5555555555555556,
             "#d8576b"
            ],
            [
             0.6666666666666666,
             "#ed7953"
            ],
            [
             0.7777777777777778,
             "#fb9f3a"
            ],
            [
             0.8888888888888888,
             "#fdca26"
            ],
            [
             1,
             "#f0f921"
            ]
           ],
           "sequentialminus": [
            [
             0,
             "#0d0887"
            ],
            [
             0.1111111111111111,
             "#46039f"
            ],
            [
             0.2222222222222222,
             "#7201a8"
            ],
            [
             0.3333333333333333,
             "#9c179e"
            ],
            [
             0.4444444444444444,
             "#bd3786"
            ],
            [
             0.5555555555555556,
             "#d8576b"
            ],
            [
             0.6666666666666666,
             "#ed7953"
            ],
            [
             0.7777777777777778,
             "#fb9f3a"
            ],
            [
             0.8888888888888888,
             "#fdca26"
            ],
            [
             1,
             "#f0f921"
            ]
           ]
          },
          "colorway": [
           "#1f77b4",
           "#ff7f0e",
           "#2ca02c",
           "#d62728",
           "#9467bd",
           "#8c564b",
           "#e377c2",
           "#7f7f7f",
           "#bcbd22",
           "#17becf"
          ],
          "font": {
           "color": "#2a3f5f"
          },
          "geo": {
           "bgcolor": "white",
           "lakecolor": "white",
           "landcolor": "white",
           "showlakes": true,
           "showland": true,
           "subunitcolor": "#C8D4E3"
          },
          "hoverlabel": {
           "align": "left"
          },
          "hovermode": "closest",
          "mapbox": {
           "style": "light"
          },
          "paper_bgcolor": "white",
          "plot_bgcolor": "white",
          "polar": {
           "angularaxis": {
            "gridcolor": "#EBF0F8",
            "linecolor": "#EBF0F8",
            "ticks": ""
           },
           "bgcolor": "white",
           "radialaxis": {
            "gridcolor": "#EBF0F8",
            "linecolor": "#EBF0F8",
            "ticks": ""
           }
          },
          "scene": {
           "camera": {
            "center": {
             "x": 0,
             "y": 0,
             "z": 0
            },
            "eye": {
             "x": 2,
             "y": 2,
             "z": 2
            },
            "up": {
             "x": 0,
             "y": 0,
             "z": 1
            }
           },
           "xaxis": {
            "backgroundcolor": "white",
            "gridcolor": "#DFE8F3",
            "gridwidth": 2,
            "linecolor": "#EBF0F8",
            "showbackground": true,
            "showspikes": false,
            "ticks": "",
            "zerolinecolor": "#EBF0F8"
           },
           "yaxis": {
            "backgroundcolor": "white",
            "gridcolor": "#DFE8F3",
            "gridwidth": 2,
            "linecolor": "#EBF0F8",
            "showbackground": true,
            "showspikes": false,
            "ticks": "",
            "zerolinecolor": "#EBF0F8"
           },
           "zaxis": {
            "backgroundcolor": "white",
            "gridcolor": "#DFE8F3",
            "gridwidth": 2,
            "linecolor": "#EBF0F8",
            "showbackground": true,
            "showspikes": false,
            "ticks": "",
            "zerolinecolor": "#EBF0F8"
           }
          },
          "shapedefaults": {
           "line": {
            "color": "#2a3f5f"
           }
          },
          "ternary": {
           "aaxis": {
            "gridcolor": "#DFE8F3",
            "linecolor": "#A2B1C6",
            "ticks": ""
           },
           "baxis": {
            "gridcolor": "#DFE8F3",
            "linecolor": "#A2B1C6",
            "ticks": ""
           },
           "bgcolor": "white",
           "caxis": {
            "gridcolor": "#DFE8F3",
            "linecolor": "#A2B1C6",
            "ticks": ""
           }
          },
          "title": {
           "x": 0.05
          },
          "xaxis": {
           "automargin": true,
           "gridcolor": "#EBF0F8",
           "linecolor": "black",
           "linewidth": 2,
           "mirror": true,
           "showline": true,
           "ticks": "",
           "title": {
            "standoff": 15
           },
           "zeroline": false,
           "zerolinecolor": "#EBF0F8",
           "zerolinewidth": 2
          },
          "yaxis": {
           "automargin": true,
           "gridcolor": "#EBF0F8",
           "linecolor": "black",
           "linewidth": 2,
           "mirror": true,
           "showline": true,
           "ticks": "",
           "title": {
            "standoff": 15
           },
           "zeroline": false,
           "zerolinecolor": "#EBF0F8",
           "zerolinewidth": 2
          }
         }
        },
        "title": {
         "text": "Rotor Model"
        },
        "xaxis": {
         "mirror": true,
         "range": [
          -0.15000000000000002,
          1.6500000000000001
         ],
         "showgrid": false,
         "title": {
          "text": "Axial location (m)"
         }
        },
        "yaxis": {
         "mirror": true,
         "range": [
          -0.44999999999999996,
          0.44999999999999996
         ],
         "showgrid": false,
         "title": {
          "text": "Shaft radius (m)"
         }
        }
       }
      }
     },
     "metadata": {},
     "output_type": "display_data"
    }
   ],
   "source": [
    "sample = np.random.choice(list(iter(rand_rotor)))\n",
    "sample.plot_rotor()"
   ]
  },
  {
   "cell_type": "markdown",
   "metadata": {},
   "source": [
    "#### Running Stochastic Campbell Diagram"
   ]
  },
  {
   "cell_type": "code",
   "execution_count": 6,
   "metadata": {
    "execution": {
     "iopub.execute_input": "2024-03-22T18:21:57.113861Z",
     "iopub.status.busy": "2024-03-22T18:21:57.112886Z",
     "iopub.status.idle": "2024-03-22T18:23:07.248756Z",
     "shell.execute_reply": "2024-03-22T18:23:07.248756Z"
    }
   },
   "outputs": [],
   "source": [
    "speed_range = np.linspace(0, 600, 31)\n",
    "camp = rand_rotor.run_campbell(speed_range)"
   ]
  },
  {
   "cell_type": "markdown",
   "metadata": {},
   "source": [
    "#### Plotting Stochastic Campbell Diagram"
   ]
  },
  {
   "cell_type": "code",
   "execution_count": 7,
   "metadata": {
    "execution": {
     "iopub.execute_input": "2024-03-22T18:23:07.251687Z",
     "iopub.status.busy": "2024-03-22T18:23:07.251687Z",
     "iopub.status.idle": "2024-03-22T18:23:07.283141Z",
     "shell.execute_reply": "2024-03-22T18:23:07.283141Z"
    }
   },
   "outputs": [
    {
     "data": {
      "application/vnd.plotly.v1+json": {
       "config": {
        "plotlyServerURL": "https://plot.ly"
       },
       "data": [
        {
         "hovertemplate": "Frequency: %{x:.3f}<br>Frequency: %{y:.3f}",
         "legendgroup": "speed0",
         "line": {
          "color": "#2E91E5",
          "dash": "dashdot",
          "width": 3
         },
         "mode": "lines",
         "name": "1x speed",
         "type": "scatter",
         "x": [
          0,
          20,
          40,
          60,
          80,
          100,
          120,
          140,
          160,
          180,
          200,
          220,
          240,
          260,
          280,
          300,
          320,
          340,
          360,
          380,
          400,
          420,
          440,
          460,
          480,
          500,
          520,
          540,
          560,
          580,
          600
         ],
         "y": [
          0,
          20,
          40,
          60,
          80,
          100,
          120,
          140,
          160,
          180,
          200,
          220,
          240,
          260,
          280,
          300,
          320,
          340,
          360,
          380,
          400,
          420,
          440,
          460,
          480,
          500,
          520,
          540,
          560,
          580,
          600
         ]
        },
        {
         "hovertemplate": "Frequency: %{x:.3f}<br>Frequency: %{y:.3f}",
         "legendgroup": "mean0",
         "line": {
          "color": "#2E91E5",
          "width": 3
         },
         "mode": "lines",
         "name": "Mean - Mode 1 (Lateral)",
         "type": "scatter",
         "x": [
          0,
          20,
          40,
          60,
          80,
          100,
          120,
          140,
          160,
          180,
          200,
          220,
          240,
          260,
          280,
          300,
          320,
          340,
          360,
          380,
          400,
          420,
          440,
          460,
          480,
          500,
          520,
          540,
          560,
          580,
          600
         ],
         "y": [
          96.09396937239842,
          96.00413204165156,
          95.91388476232322,
          95.82322565438655,
          95.73215284326741,
          95.64066446034883,
          95.54875864342446,
          95.45643353716002,
          95.36368729362356,
          95.27051807276627,
          95.17692404294219,
          95.08290338144498,
          94.98845427502376,
          94.89357492045298,
          94.7982635250769,
          94.70251830739227,
          94.60633749761708,
          94.50971933830586,
          94.4126620849225,
          94.31516400650175,
          94.21722338623205,
          94.1188385221292,
          94.0200077276662,
          93.92072933245986,
          93.82100168293286,
          93.72082314299729,
          93.62019209475653,
          93.51910693923321,
          93.4175660970637,
          93.31556800925654,
          93.21311113792433
         ]
        },
        {
         "fill": "toself",
         "fillcolor": "#2E91E5",
         "hovertemplate": "Frequency: %{x:.3f}<br>Frequency: %{y:.3f}",
         "legendgroup": "conf00",
         "line": {
          "color": "#2E91E5",
          "width": 1
         },
         "mode": "lines",
         "name": "confidence interval: 95% - Mode 1 (Lateral)",
         "opacity": 0.3,
         "type": "scatter",
         "x": [
          0,
          20,
          40,
          60,
          80,
          100,
          120,
          140,
          160,
          180,
          200,
          220,
          240,
          260,
          280,
          300,
          320,
          340,
          360,
          380,
          400,
          420,
          440,
          460,
          480,
          500,
          520,
          540,
          560,
          580,
          600,
          600,
          580,
          560,
          540,
          520,
          500,
          480,
          460,
          440,
          420,
          400,
          380,
          360,
          340,
          320,
          300,
          280,
          260,
          240,
          220,
          200,
          180,
          160,
          140,
          120,
          100,
          80,
          60,
          40,
          20,
          0
         ],
         "y": [
          100.38015675619795,
          100.27321147720099,
          100.1658118270268,
          100.05795634954187,
          99.94964360770854,
          99.84087218435995,
          99.73164068276967,
          99.62194772743709,
          99.51179196460943,
          99.40117206311706,
          99.29008671492826,
          99.17853463612164,
          99.06651456728646,
          98.95402527440643,
          98.84106554965621,
          98.72763421209356,
          98.61373010834475,
          98.49935211341464,
          98.3844991315467,
          98.26917009693871,
          98.1533639744246,
          98.03707976046185,
          97.92031648380643,
          97.80307320640208,
          97.68534902414113,
          97.56714306770351,
          97.44845450342893,
          97.32928253408721,
          97.20962639981563,
          97.08948537888276,
          96.96885878860063,
          85.74294778315702,
          85.81344002337723,
          85.88354983963895,
          85.95327992071469,
          86.02263294216245,
          86.09161156601932,
          86.16021844053427,
          86.22845619995317,
          86.29632746425395,
          86.36383483905813,
          86.4309809152053,
          86.49776826880081,
          86.56419946092,
          86.63027703748443,
          86.69600352903933,
          86.76138145074664,
          86.82641330214948,
          86.89110156709398,
          86.95544871358402,
          87.01945719374638,
          87.08312944372193,
          87.14646788355762,
          87.20947491709659,
          87.27215293204917,
          87.33450429979686,
          87.39653137543065,
          87.45823649765495,
          87.51962198880206,
          87.58069015479988,
          87.64144328513974,
          87.70188365274852
         ]
        },
        {
         "hovertemplate": "Frequency: %{x:.3f}<br>Frequency: %{y:.3f}",
         "legendgroup": "mean1",
         "line": {
          "color": "#E15F99",
          "width": 3
         },
         "mode": "lines",
         "name": "Mean - Mode 2 (Lateral)",
         "type": "scatter",
         "x": [
          0,
          20,
          40,
          60,
          80,
          100,
          120,
          140,
          160,
          180,
          200,
          220,
          240,
          260,
          280,
          300,
          320,
          340,
          360,
          380,
          400,
          420,
          440,
          460,
          480,
          500,
          520,
          540,
          560,
          580,
          600
         ],
         "y": [
          96.09396937241705,
          96.18339863965261,
          96.27242173303839,
          96.3610405463678,
          96.44925697716727,
          96.5370729263049,
          96.6244902975718,
          96.71151099727143,
          96.79813693387547,
          96.88437001762783,
          96.97021216018618,
          97.05566527428192,
          97.14073127335033,
          97.22541207121871,
          97.30970958176684,
          97.39362571861584,
          97.47716239480604,
          97.56032152252102,
          97.64310501275659,
          97.72551477508404,
          97.80755271732389,
          97.88922074531357,
          97.9705207626189,
          98.05145467030948,
          98.13202436669218,
          98.21223174707197,
          98.29207870351962,
          98.37156712466631,
          98.45069889545618,
          98.52947589695796,
          98.60790000614719
         ]
        },
        {
         "fill": "toself",
         "fillcolor": "#E15F99",
         "hovertemplate": "Frequency: %{x:.3f}<br>Frequency: %{y:.3f}",
         "legendgroup": "conf10",
         "line": {
          "color": "#E15F99",
          "width": 1
         },
         "mode": "lines",
         "name": "confidence interval: 95% - Mode 2 (Lateral)",
         "opacity": 0.3,
         "type": "scatter",
         "x": [
          0,
          20,
          40,
          60,
          80,
          100,
          120,
          140,
          160,
          180,
          200,
          220,
          240,
          260,
          280,
          300,
          320,
          340,
          360,
          380,
          400,
          420,
          440,
          460,
          480,
          500,
          520,
          540,
          560,
          580,
          600,
          600,
          580,
          560,
          540,
          520,
          500,
          480,
          460,
          440,
          420,
          400,
          380,
          360,
          340,
          320,
          300,
          280,
          260,
          240,
          220,
          200,
          180,
          160,
          140,
          120,
          100,
          80,
          60,
          40,
          20,
          0
         ],
         "y": [
          100.38015675622658,
          100.48664913872868,
          100.59269011733079,
          100.69828120186469,
          100.80342391877879,
          100.9081198105992,
          101.01237043527243,
          101.11617736569443,
          101.21954218893745,
          101.32246650587767,
          101.42495193045478,
          101.52700008941083,
          101.62861262142435,
          101.72979117673943,
          101.83053741671337,
          101.93085301325317,
          102.0307396482418,
          102.13019901309346,
          102.22923280838243,
          102.32784274328885,
          102.42603053502697,
          102.5237979086025,
          102.62114659623455,
          102.71807833699901,
          102.81459487633425,
          102.91069796566312,
          103.00638936200968,
          103.10167082752251,
          103.19654412921057,
          103.29101103844417,
          103.38507333065033,
          89.38026580685725,
          89.32823209269986,
          89.27594629116508,
          89.223406605952,
          89.17061122590479,
          89.11755832488441,
          89.06424606167428,
          89.01067257989953,
          88.95683600791446,
          88.90273445885238,
          88.84836603027493,
          88.79372880438062,
          88.73882084776169,
          88.68364021140094,
          88.62818493048708,
          88.57245302451753,
          88.51644249709501,
          88.4601513359207,
          88.40357751266791,
          88.34671898302508,
          88.28957368658831,
          88.23213954680284,
          88.17441447084786,
          88.11639634976437,
          88.05808305822828,
          87.99947245464688,
          87.9405623810205,
          87.88135066299479,
          87.82183510982463,
          87.76201351431844,
          87.70188365277141
         ]
        },
        {
         "hovertemplate": "Frequency: %{x:.3f}<br>Frequency: %{y:.3f}",
         "legendgroup": "mean2",
         "line": {
          "color": "#1CA71C",
          "width": 3
         },
         "mode": "lines",
         "name": "Mean - Mode 3 (Lateral)",
         "type": "scatter",
         "x": [
          0,
          20,
          40,
          60,
          80,
          100,
          120,
          140,
          160,
          180,
          200,
          220,
          240,
          260,
          280,
          300,
          320,
          340,
          360,
          380,
          400,
          420,
          440,
          460,
          480,
          500,
          520,
          540,
          560,
          580,
          600
         ],
         "y": [
          328.71026001479385,
          327.77329672440925,
          326.82958548889275,
          325.879110262697,
          324.92185767331074,
          323.9578171657238,
          322.98698114998587,
          322.0093451514187,
          321.0249079635363,
          320.03367180303866,
          319.0356424669755,
          318.0308294910708,
          317.0192463094509,
          316.0009104148264,
          314.9758435187934,
          313.9440717119242,
          312.9056256225783,
          311.86054057446097,
          310.808856741557,
          309.7506193005489,
          308.685878579199,
          307.614690200577,
          306.53711522197403,
          305.45322026774994,
          304.3630776556456,
          303.2667655149704,
          302.1643678965888,
          301.05597487318704,
          299.9416826295766,
          298.82159354136434,
          297.69581624202294
         ]
        },
        {
         "fill": "toself",
         "fillcolor": "#1CA71C",
         "hovertemplate": "Frequency: %{x:.3f}<br>Frequency: %{y:.3f}",
         "legendgroup": "conf20",
         "line": {
          "color": "#1CA71C",
          "width": 1
         },
         "mode": "lines",
         "name": "confidence interval: 95% - Mode 3 (Lateral)",
         "opacity": 0.3,
         "type": "scatter",
         "x": [
          0,
          20,
          40,
          60,
          80,
          100,
          120,
          140,
          160,
          180,
          200,
          220,
          240,
          260,
          280,
          300,
          320,
          340,
          360,
          380,
          400,
          420,
          440,
          460,
          480,
          500,
          520,
          540,
          560,
          580,
          600,
          600,
          580,
          560,
          540,
          520,
          500,
          480,
          460,
          440,
          420,
          400,
          380,
          360,
          340,
          320,
          300,
          280,
          260,
          240,
          220,
          200,
          180,
          160,
          140,
          120,
          100,
          80,
          60,
          40,
          20,
          0
         ],
         "y": [
          355.879996422849,
          355.00050036363024,
          354.1136140356881,
          353.2192897734917,
          352.3174818179309,
          351.4081464693023,
          350.49124224470637,
          349.56673004241094,
          348.63457331135004,
          347.6947382257846,
          346.74719386546764,
          345.7919124017447,
          344.8288692864379,
          343.8580434474659,
          342.879417487365,
          341.89297788588823,
          340.8987152059326,
          339.8966243029211,
          338.8867045348094,
          337.86895997574334,
          336.84339962907933,
          335.81003764212886,
          334.768893518651,
          333.71999233074064,
          332.66336492865463,
          331.5990481471313,
          330.5270850068374,
          329.44752491050923,
          328.3604238336941,
          327.26584450529464,
          326.16385658205934,
          247.08605756186037,
          248.22689878072208,
          249.3653868526237,
          250.50136213774715,
          251.63466906712122,
          252.76515624974695,
          253.89267656658419,
          255.01708725396335,
          256.13824997317215,
          257.2560308692003,
          258.37030061634044,
          259.4809344542412,
          260.5878122107499,
          261.6908183154482,
          262.78984180109984,
          263.8847762975557,
          264.9755200129378,
          266.0619757089528,
          267.1440506646562,
          268.22165663514346,
          269.2947097995341,
          270.36313070473767,
          271.4268442006708,
          272.4857793711551,
          273.5398694578055,
          274.58905178044455,
          275.63326765225804,
          276.67246229094104,
          277.7065847276501,
          278.7355877111344,
          279.7594276112774
         ]
        },
        {
         "hovertemplate": "Frequency: %{x:.3f}<br>Frequency: %{y:.3f}",
         "legendgroup": "mean3",
         "line": {
          "color": "#FB0D0D",
          "width": 3
         },
         "mode": "lines",
         "name": "Mean - Mode 4 (Lateral)",
         "type": "scatter",
         "x": [
          0,
          20,
          40,
          60,
          80,
          100,
          120,
          140,
          160,
          180,
          200,
          220,
          240,
          260,
          280,
          300,
          320,
          340,
          360,
          380,
          400,
          420,
          440,
          460,
          480,
          500,
          520,
          540,
          560,
          580,
          600
         ],
         "y": [
          328.71026001489656,
          329.64049393783785,
          330.5640194653737,
          331.4808598298103,
          332.39104039352156,
          333.29458852249684,
          334.19153346393267,
          335.08190622763885,
          335.9657394716484,
          336.8430673916711,
          337.7139256148922,
          338.57835109747134,
          339.43638202641904,
          340.28805772508844,
          341.13341856280095,
          341.97250586842455,
          342.80536184744085,
          343.63202950309176,
          344.45255256089416,
          345.2669753969273,
          346.07534296933756,
          346.8777007535193,
          347.674094680306,
          348.46457107738735,
          349.2491766139971,
          350.02795824830883,
          350.80096317777367,
          351.5682387922988,
          352.3298326300277,
          353.08579233557634,
          353.8361656209379
         ]
        },
        {
         "fill": "toself",
         "fillcolor": "#FB0D0D",
         "hovertemplate": "Frequency: %{x:.3f}<br>Frequency: %{y:.3f}",
         "legendgroup": "conf30",
         "line": {
          "color": "#FB0D0D",
          "width": 1
         },
         "mode": "lines",
         "name": "confidence interval: 95% - Mode 4 (Lateral)",
         "opacity": 0.3,
         "type": "scatter",
         "x": [
          0,
          20,
          40,
          60,
          80,
          100,
          120,
          140,
          160,
          180,
          200,
          220,
          240,
          260,
          280,
          300,
          320,
          340,
          360,
          380,
          400,
          420,
          440,
          460,
          480,
          500,
          520,
          540,
          560,
          580,
          600,
          600,
          580,
          560,
          540,
          520,
          500,
          480,
          460,
          440,
          420,
          400,
          380,
          360,
          340,
          320,
          300,
          280,
          260,
          240,
          220,
          200,
          180,
          160,
          140,
          120,
          100,
          80,
          60,
          40,
          20,
          0
         ],
         "y": [
          355.8799964230077,
          356.7521516390745,
          357.61701705666036,
          358.4746452042328,
          359.3250899648647,
          360.16840645295247,
          361.004650895373,
          361.8338805194212,
          362.65615344558836,
          363.4715285852588,
          364.2800655443712,
          365.0818245316583,
          365.87686627139635,
          366.66525192168217,
          367.44704299661083,
          368.2223012928547,
          368.99108882134846,
          369.75346774251045,
          370.5095003044482,
          371.25924878681457,
          372.00277544708933,
          372.7401424705986,
          373.47141192421464,
          374.19664571200303,
          374.91590553577925,
          375.62925285717006,
          376.3367488626942,
          377.03845443194984,
          377.7344301073474,
          378.42473606718755,
          379.1094321011275,
          307.9774048184899,
          307.1148996193673,
          306.247113908606,
          305.374027501491,
          304.49562116803065,
          303.61187669240036,
          302.72277693647675,
          301.8283059049767,
          300.92844881244895,
          300.02319215250077,
          299.1125237716866,
          298.19643294274414,
          297.27491044173456,
          296.34794862809014,
          295.41554152560167,
          294.47768490697877,
          293.5343763794384,
          292.58561547440945,
          291.63140373651987,
          290.67174481778846,
          289.70664457067835,
          288.7361111456794,
          287.7601550881908,
          286.77878943892074,
          285.7920298336638,
          284.79989460599364,
          283.8024048896268,
          282.799584721407,
          281.791461146084,
          280.77806431911097,
          279.7594276113115
         ]
        },
        {
         "hovertemplate": "Frequency: %{x:.3f}<br>Frequency: %{y:.3f}",
         "legendgroup": "mean4",
         "line": {
          "color": "#DA16FF",
          "width": 3
         },
         "mode": "lines",
         "name": "Mean - Mode 5 (Lateral)",
         "type": "scatter",
         "x": [
          0,
          20,
          40,
          60,
          80,
          100,
          120,
          140,
          160,
          180,
          200,
          220,
          240,
          260,
          280,
          300,
          320,
          340,
          360,
          380,
          400,
          420,
          440,
          460,
          480,
          500,
          520,
          540,
          560,
          580,
          600
         ],
         "y": [
          854.4581828146452,
          847.2024848969027,
          839.9366331143973,
          832.6656396472604,
          825.3944757182213,
          818.1280541929353,
          810.8712130782746,
          803.628700021061,
          796.4051579259999,
          789.2051117148933,
          782.032956298872,
          774.8929457876445,
          767.789183930546,
          760.7256158295432,
          753.7060208558067,
          746.7340067828279,
          739.8130050981174,
          732.9462674124044,
          726.1368629572681,
          719.3876770790997,
          712.7014106889334,
          706.0805805823105,
          699.5275205751396,
          693.0443833733866,
          686.6331431228311,
          680.2955985471933,
          674.0333766329219,
          667.8479367665432,
          661.740575292649,
          655.7124304047132,
          649.7644873314074
         ]
        },
        {
         "fill": "toself",
         "fillcolor": "#DA16FF",
         "hovertemplate": "Frequency: %{x:.3f}<br>Frequency: %{y:.3f}",
         "legendgroup": "conf40",
         "line": {
          "color": "#DA16FF",
          "width": 1
         },
         "mode": "lines",
         "name": "confidence interval: 95% - Mode 5 (Lateral)",
         "opacity": 0.3,
         "type": "scatter",
         "x": [
          0,
          20,
          40,
          60,
          80,
          100,
          120,
          140,
          160,
          180,
          200,
          220,
          240,
          260,
          280,
          300,
          320,
          340,
          360,
          380,
          400,
          420,
          440,
          460,
          480,
          500,
          520,
          540,
          560,
          580,
          600,
          600,
          580,
          560,
          540,
          520,
          500,
          480,
          460,
          440,
          420,
          400,
          380,
          360,
          340,
          320,
          300,
          280,
          260,
          240,
          220,
          200,
          180,
          160,
          140,
          120,
          100,
          80,
          60,
          40,
          20,
          0
         ],
         "y": [
          937.767014439185,
          929.304069969593,
          920.8409127767644,
          912.3836621565243,
          903.9383217058124,
          895.5107604168195,
          887.1066954549826,
          878.7316766714207,
          870.3910728543996,
          862.0900598176454,
          853.8336101436283,
          845.6264846404852,
          837.4732254520031,
          829.3781506874485,
          821.3453505677572,
          813.3786849303492,
          805.481782031829,
          797.658038541792,
          789.910620666082,
          782.2424661963641,
          774.6562875178586,
          767.154575374565,
          759.7396033552332,
          752.4134329524993,
          745.177919205345,
          738.0347167602972,
          730.9852862615952,
          724.030901082112,
          717.1726543002445,
          710.4114657929309,
          703.7480894734483,
          562.7172684339587,
          567.6346127586919,
          572.6099152820118,
          577.6421410847191,
          582.7301349159035,
          587.872618718241,
          593.068189522042,
          598.3153177997605,
          603.6123463073204,
          608.957489435508,
          614.3488331297858,
          619.7843354377328,
          625.2618276828199,
          630.7790163206071,
          636.3334855029381,
          641.9227004062064,
          647.5440112440766,
          653.1946581295318,
          658.8717766196696,
          664.5724041247855,
          670.29348695981,
          676.0318882471798,
          681.7843964210034,
          687.5477344637036,
          693.3185697173419,
          699.09352427761,
          704.8691858712282,
          710.6421190945769,
          716.4088770851763,
          722.1660133075019,
          727.9100935710886
         ]
        },
        {
         "hovertemplate": "Frequency: %{x:.3f}<br>Frequency: %{y:.3f}",
         "legendgroup": "mean5",
         "line": {
          "color": "#222A2A",
          "width": 3
         },
         "mode": "lines",
         "name": "Mean - Mode 1 (Torsional)",
         "type": "scatter",
         "x": [
          0,
          20,
          40,
          60,
          80,
          100,
          120,
          140,
          160,
          180,
          200,
          220,
          240,
          260,
          280,
          300,
          320,
          340,
          360,
          380,
          400,
          420,
          440,
          460,
          480,
          500,
          520,
          540,
          560,
          580,
          600
         ],
         "y": [
          650.4078662580678,
          650.4078662589286,
          650.4078662582743,
          650.4078662611396,
          650.4078662579537,
          650.4078662599769,
          650.4078662577402,
          650.4078662597713,
          650.4078662604494,
          650.4078662600564,
          650.4078662600891,
          650.4078662605406,
          650.407866261177,
          650.407866259284,
          650.407866258517,
          650.4078662573548,
          650.4078662592561,
          650.4078662605494,
          650.4078662601039,
          650.4078662587751,
          650.4078662593498,
          650.4078662592678,
          650.4078662591252,
          650.407866257255,
          650.4078662599316,
          650.4078662571411,
          650.4078662590078,
          650.4078662603098,
          650.4078662570203,
          650.407866258131,
          650.4078662592915
         ]
        },
        {
         "fill": "toself",
         "fillcolor": "#222A2A",
         "hovertemplate": "Frequency: %{x:.3f}<br>Frequency: %{y:.3f}",
         "legendgroup": "conf50",
         "line": {
          "color": "#222A2A",
          "width": 1
         },
         "mode": "lines",
         "name": "confidence interval: 95% - Mode 1 (Torsional)",
         "opacity": 0.3,
         "type": "scatter",
         "x": [
          0,
          20,
          40,
          60,
          80,
          100,
          120,
          140,
          160,
          180,
          200,
          220,
          240,
          260,
          280,
          300,
          320,
          340,
          360,
          380,
          400,
          420,
          440,
          460,
          480,
          500,
          520,
          540,
          560,
          580,
          600,
          600,
          580,
          560,
          540,
          520,
          500,
          480,
          460,
          440,
          420,
          400,
          380,
          360,
          340,
          320,
          300,
          280,
          260,
          240,
          220,
          200,
          180,
          160,
          140,
          120,
          100,
          80,
          60,
          40,
          20,
          0
         ],
         "y": [
          650.4078662717967,
          650.4078662717177,
          650.4078662726623,
          650.4078662760363,
          650.4078662700433,
          650.4078662783954,
          650.4078662736,
          650.407866272323,
          650.4078662736633,
          650.4078662731804,
          650.4078662748958,
          650.407866274796,
          650.4078662823756,
          650.4078662791894,
          650.4078662701025,
          650.407866271516,
          650.4078662744862,
          650.4078662751799,
          650.4078662749818,
          650.4078662721134,
          650.4078662730798,
          650.4078662786869,
          650.4078662713712,
          650.4078662692363,
          650.4078662743801,
          650.4078662730918,
          650.4078662720214,
          650.407866274178,
          650.4078662707259,
          650.4078662685258,
          650.4078662714164,
          650.4078662448989,
          650.4078662447129,
          650.4078662434767,
          650.4078662496177,
          650.4078662450707,
          650.4078662444057,
          650.4078662456326,
          650.4078662468055,
          650.4078662456787,
          650.4078662382875,
          650.4078662485207,
          650.407866248426,
          650.4078662439711,
          650.407866247574,
          650.4078662357282,
          650.4078662456538,
          650.407866241431,
          650.407866242016,
          650.407866248664,
          650.4078662455848,
          650.4078662473898,
          650.4078662470278,
          650.4078662476555,
          650.4078662517383,
          650.4078662476494,
          650.4078662426839,
          650.4078662466713,
          650.4078662498605,
          650.4078662476495,
          650.407866245498,
          650.407866237413
         ]
        }
       ],
       "layout": {
        "height": 700,
        "template": {
         "data": {
          "bar": [
           {
            "error_x": {
             "color": "#2a3f5f"
            },
            "error_y": {
             "color": "#2a3f5f"
            },
            "marker": {
             "line": {
              "color": "white",
              "width": 0.5
             }
            },
            "type": "bar"
           }
          ],
          "barpolar": [
           {
            "marker": {
             "line": {
              "color": "white",
              "width": 0.5
             }
            },
            "type": "barpolar"
           }
          ],
          "carpet": [
           {
            "aaxis": {
             "endlinecolor": "#2a3f5f",
             "gridcolor": "#C8D4E3",
             "linecolor": "#C8D4E3",
             "minorgridcolor": "#C8D4E3",
             "startlinecolor": "#2a3f5f"
            },
            "baxis": {
             "endlinecolor": "#2a3f5f",
             "gridcolor": "#C8D4E3",
             "linecolor": "#C8D4E3",
             "minorgridcolor": "#C8D4E3",
             "startlinecolor": "#2a3f5f"
            },
            "type": "carpet"
           }
          ],
          "choropleth": [
           {
            "colorbar": {
             "outlinewidth": 0,
             "ticks": ""
            },
            "type": "choropleth"
           }
          ],
          "contour": [
           {
            "colorbar": {
             "outlinewidth": 0,
             "ticks": ""
            },
            "colorscale": [
             [
              0,
              "#0d0887"
             ],
             [
              0.1111111111111111,
              "#46039f"
             ],
             [
              0.2222222222222222,
              "#7201a8"
             ],
             [
              0.3333333333333333,
              "#9c179e"
             ],
             [
              0.4444444444444444,
              "#bd3786"
             ],
             [
              0.5555555555555556,
              "#d8576b"
             ],
             [
              0.6666666666666666,
              "#ed7953"
             ],
             [
              0.7777777777777778,
              "#fb9f3a"
             ],
             [
              0.8888888888888888,
              "#fdca26"
             ],
             [
              1,
              "#f0f921"
             ]
            ],
            "type": "contour"
           }
          ],
          "contourcarpet": [
           {
            "colorbar": {
             "outlinewidth": 0,
             "ticks": ""
            },
            "type": "contourcarpet"
           }
          ],
          "heatmap": [
           {
            "colorbar": {
             "outlinewidth": 0,
             "ticks": ""
            },
            "colorscale": [
             [
              0,
              "#0d0887"
             ],
             [
              0.1111111111111111,
              "#46039f"
             ],
             [
              0.2222222222222222,
              "#7201a8"
             ],
             [
              0.3333333333333333,
              "#9c179e"
             ],
             [
              0.4444444444444444,
              "#bd3786"
             ],
             [
              0.5555555555555556,
              "#d8576b"
             ],
             [
              0.6666666666666666,
              "#ed7953"
             ],
             [
              0.7777777777777778,
              "#fb9f3a"
             ],
             [
              0.8888888888888888,
              "#fdca26"
             ],
             [
              1,
              "#f0f921"
             ]
            ],
            "type": "heatmap"
           }
          ],
          "heatmapgl": [
           {
            "colorbar": {
             "outlinewidth": 0,
             "ticks": ""
            },
            "colorscale": [
             [
              0,
              "#0d0887"
             ],
             [
              0.1111111111111111,
              "#46039f"
             ],
             [
              0.2222222222222222,
              "#7201a8"
             ],
             [
              0.3333333333333333,
              "#9c179e"
             ],
             [
              0.4444444444444444,
              "#bd3786"
             ],
             [
              0.5555555555555556,
              "#d8576b"
             ],
             [
              0.6666666666666666,
              "#ed7953"
             ],
             [
              0.7777777777777778,
              "#fb9f3a"
             ],
             [
              0.8888888888888888,
              "#fdca26"
             ],
             [
              1,
              "#f0f921"
             ]
            ],
            "type": "heatmapgl"
           }
          ],
          "histogram": [
           {
            "marker": {
             "colorbar": {
              "outlinewidth": 0,
              "ticks": ""
             }
            },
            "type": "histogram"
           }
          ],
          "histogram2d": [
           {
            "colorbar": {
             "outlinewidth": 0,
             "ticks": ""
            },
            "colorscale": [
             [
              0,
              "#0d0887"
             ],
             [
              0.1111111111111111,
              "#46039f"
             ],
             [
              0.2222222222222222,
              "#7201a8"
             ],
             [
              0.3333333333333333,
              "#9c179e"
             ],
             [
              0.4444444444444444,
              "#bd3786"
             ],
             [
              0.5555555555555556,
              "#d8576b"
             ],
             [
              0.6666666666666666,
              "#ed7953"
             ],
             [
              0.7777777777777778,
              "#fb9f3a"
             ],
             [
              0.8888888888888888,
              "#fdca26"
             ],
             [
              1,
              "#f0f921"
             ]
            ],
            "type": "histogram2d"
           }
          ],
          "histogram2dcontour": [
           {
            "colorbar": {
             "outlinewidth": 0,
             "ticks": ""
            },
            "colorscale": [
             [
              0,
              "#0d0887"
             ],
             [
              0.1111111111111111,
              "#46039f"
             ],
             [
              0.2222222222222222,
              "#7201a8"
             ],
             [
              0.3333333333333333,
              "#9c179e"
             ],
             [
              0.4444444444444444,
              "#bd3786"
             ],
             [
              0.5555555555555556,
              "#d8576b"
             ],
             [
              0.6666666666666666,
              "#ed7953"
             ],
             [
              0.7777777777777778,
              "#fb9f3a"
             ],
             [
              0.8888888888888888,
              "#fdca26"
             ],
             [
              1,
              "#f0f921"
             ]
            ],
            "type": "histogram2dcontour"
           }
          ],
          "mesh3d": [
           {
            "colorbar": {
             "outlinewidth": 0,
             "ticks": ""
            },
            "type": "mesh3d"
           }
          ],
          "parcoords": [
           {
            "line": {
             "colorbar": {
              "outlinewidth": 0,
              "ticks": ""
             }
            },
            "type": "parcoords"
           }
          ],
          "pie": [
           {
            "automargin": true,
            "type": "pie"
           }
          ],
          "scatter": [
           {
            "marker": {
             "colorbar": {
              "outlinewidth": 0,
              "ticks": ""
             }
            },
            "type": "scatter"
           }
          ],
          "scatter3d": [
           {
            "line": {
             "colorbar": {
              "outlinewidth": 0,
              "ticks": ""
             }
            },
            "marker": {
             "colorbar": {
              "outlinewidth": 0,
              "ticks": ""
             },
             "size": 4
            },
            "type": "scatter3d"
           }
          ],
          "scattercarpet": [
           {
            "marker": {
             "colorbar": {
              "outlinewidth": 0,
              "ticks": ""
             }
            },
            "type": "scattercarpet"
           }
          ],
          "scattergeo": [
           {
            "marker": {
             "colorbar": {
              "outlinewidth": 0,
              "ticks": ""
             }
            },
            "type": "scattergeo"
           }
          ],
          "scattergl": [
           {
            "marker": {
             "colorbar": {
              "outlinewidth": 0,
              "ticks": ""
             }
            },
            "type": "scattergl"
           }
          ],
          "scattermapbox": [
           {
            "marker": {
             "colorbar": {
              "outlinewidth": 0,
              "ticks": ""
             }
            },
            "type": "scattermapbox"
           }
          ],
          "scatterpolar": [
           {
            "marker": {
             "colorbar": {
              "outlinewidth": 0,
              "ticks": ""
             }
            },
            "type": "scatterpolar"
           }
          ],
          "scatterpolargl": [
           {
            "marker": {
             "colorbar": {
              "outlinewidth": 0,
              "ticks": ""
             }
            },
            "type": "scatterpolargl"
           }
          ],
          "scatterternary": [
           {
            "marker": {
             "colorbar": {
              "outlinewidth": 0,
              "ticks": ""
             }
            },
            "type": "scatterternary"
           }
          ],
          "surface": [
           {
            "colorbar": {
             "outlinewidth": 0,
             "ticks": ""
            },
            "colorscale": [
             [
              0,
              "#0d0887"
             ],
             [
              0.1111111111111111,
              "#46039f"
             ],
             [
              0.2222222222222222,
              "#7201a8"
             ],
             [
              0.3333333333333333,
              "#9c179e"
             ],
             [
              0.4444444444444444,
              "#bd3786"
             ],
             [
              0.5555555555555556,
              "#d8576b"
             ],
             [
              0.6666666666666666,
              "#ed7953"
             ],
             [
              0.7777777777777778,
              "#fb9f3a"
             ],
             [
              0.8888888888888888,
              "#fdca26"
             ],
             [
              1,
              "#f0f921"
             ]
            ],
            "type": "surface"
           }
          ],
          "table": [
           {
            "cells": {
             "fill": {
              "color": "#EBF0F8"
             },
             "line": {
              "color": "white"
             }
            },
            "header": {
             "fill": {
              "color": "#C8D4E3"
             },
             "line": {
              "color": "white"
             }
            },
            "type": "table"
           }
          ]
         },
         "layout": {
          "annotationdefaults": {
           "arrowcolor": "#2a3f5f",
           "arrowhead": 0,
           "arrowwidth": 1
          },
          "coloraxis": {
           "colorbar": {
            "outlinewidth": 0,
            "ticks": ""
           }
          },
          "colorscale": {
           "diverging": [
            [
             0,
             "#8e0152"
            ],
            [
             0.1,
             "#c51b7d"
            ],
            [
             0.2,
             "#de77ae"
            ],
            [
             0.3,
             "#f1b6da"
            ],
            [
             0.4,
             "#fde0ef"
            ],
            [
             0.5,
             "#f7f7f7"
            ],
            [
             0.6,
             "#e6f5d0"
            ],
            [
             0.7,
             "#b8e186"
            ],
            [
             0.8,
             "#7fbc41"
            ],
            [
             0.9,
             "#4d9221"
            ],
            [
             1,
             "#276419"
            ]
           ],
           "sequential": [
            [
             0,
             "#0d0887"
            ],
            [
             0.1111111111111111,
             "#46039f"
            ],
            [
             0.2222222222222222,
             "#7201a8"
            ],
            [
             0.3333333333333333,
             "#9c179e"
            ],
            [
             0.4444444444444444,
             "#bd3786"
            ],
            [
             0.5555555555555556,
             "#d8576b"
            ],
            [
             0.6666666666666666,
             "#ed7953"
            ],
            [
             0.7777777777777778,
             "#fb9f3a"
            ],
            [
             0.8888888888888888,
             "#fdca26"
            ],
            [
             1,
             "#f0f921"
            ]
           ],
           "sequentialminus": [
            [
             0,
             "#0d0887"
            ],
            [
             0.1111111111111111,
             "#46039f"
            ],
            [
             0.2222222222222222,
             "#7201a8"
            ],
            [
             0.3333333333333333,
             "#9c179e"
            ],
            [
             0.4444444444444444,
             "#bd3786"
            ],
            [
             0.5555555555555556,
             "#d8576b"
            ],
            [
             0.6666666666666666,
             "#ed7953"
            ],
            [
             0.7777777777777778,
             "#fb9f3a"
            ],
            [
             0.8888888888888888,
             "#fdca26"
            ],
            [
             1,
             "#f0f921"
            ]
           ]
          },
          "colorway": [
           "#1f77b4",
           "#ff7f0e",
           "#2ca02c",
           "#d62728",
           "#9467bd",
           "#8c564b",
           "#e377c2",
           "#7f7f7f",
           "#bcbd22",
           "#17becf"
          ],
          "font": {
           "color": "#2a3f5f"
          },
          "geo": {
           "bgcolor": "white",
           "lakecolor": "white",
           "landcolor": "white",
           "showlakes": true,
           "showland": true,
           "subunitcolor": "#C8D4E3"
          },
          "hoverlabel": {
           "align": "left"
          },
          "hovermode": "closest",
          "mapbox": {
           "style": "light"
          },
          "paper_bgcolor": "white",
          "plot_bgcolor": "white",
          "polar": {
           "angularaxis": {
            "gridcolor": "#EBF0F8",
            "linecolor": "#EBF0F8",
            "ticks": ""
           },
           "bgcolor": "white",
           "radialaxis": {
            "gridcolor": "#EBF0F8",
            "linecolor": "#EBF0F8",
            "ticks": ""
           }
          },
          "scene": {
           "camera": {
            "center": {
             "x": 0,
             "y": 0,
             "z": 0
            },
            "eye": {
             "x": 2,
             "y": 2,
             "z": 2
            },
            "up": {
             "x": 0,
             "y": 0,
             "z": 1
            }
           },
           "xaxis": {
            "backgroundcolor": "white",
            "gridcolor": "#DFE8F3",
            "gridwidth": 2,
            "linecolor": "#EBF0F8",
            "showbackground": true,
            "showspikes": false,
            "ticks": "",
            "zerolinecolor": "#EBF0F8"
           },
           "yaxis": {
            "backgroundcolor": "white",
            "gridcolor": "#DFE8F3",
            "gridwidth": 2,
            "linecolor": "#EBF0F8",
            "showbackground": true,
            "showspikes": false,
            "ticks": "",
            "zerolinecolor": "#EBF0F8"
           },
           "zaxis": {
            "backgroundcolor": "white",
            "gridcolor": "#DFE8F3",
            "gridwidth": 2,
            "linecolor": "#EBF0F8",
            "showbackground": true,
            "showspikes": false,
            "ticks": "",
            "zerolinecolor": "#EBF0F8"
           }
          },
          "shapedefaults": {
           "line": {
            "color": "#2a3f5f"
           }
          },
          "ternary": {
           "aaxis": {
            "gridcolor": "#DFE8F3",
            "linecolor": "#A2B1C6",
            "ticks": ""
           },
           "baxis": {
            "gridcolor": "#DFE8F3",
            "linecolor": "#A2B1C6",
            "ticks": ""
           },
           "bgcolor": "white",
           "caxis": {
            "gridcolor": "#DFE8F3",
            "linecolor": "#A2B1C6",
            "ticks": ""
           }
          },
          "title": {
           "x": 0.05
          },
          "xaxis": {
           "automargin": true,
           "gridcolor": "#EBF0F8",
           "linecolor": "black",
           "linewidth": 2,
           "mirror": true,
           "showline": true,
           "ticks": "",
           "title": {
            "standoff": 15
           },
           "zeroline": false,
           "zerolinecolor": "#EBF0F8",
           "zerolinewidth": 2
          },
          "yaxis": {
           "automargin": true,
           "gridcolor": "#EBF0F8",
           "linecolor": "black",
           "linewidth": 2,
           "mirror": true,
           "showline": true,
           "ticks": "",
           "title": {
            "standoff": 15
           },
           "zeroline": false,
           "zerolinecolor": "#EBF0F8",
           "zerolinewidth": 2
          }
         }
        },
        "width": 950,
        "xaxis": {
         "exponentformat": "none",
         "range": [
          0,
          600
         ],
         "title": {
          "text": "Frequency (rad/s)"
         }
        },
        "yaxis": {
         "range": [
          0,
          1044.6945801298737
         ],
         "title": {
          "text": "Natural Frequencies (rad/s)"
         }
        }
       }
      }
     },
     "metadata": {},
     "output_type": "display_data"
    }
   ],
   "source": [
    "# choose the desirable percentiles or confidence intervals\n",
    "camp.plot_nat_freq(conf_interval=[95], width=950, height=700)"
   ]
  },
  {
   "cell_type": "code",
   "execution_count": 8,
   "metadata": {
    "execution": {
     "iopub.execute_input": "2024-03-22T18:23:07.287039Z",
     "iopub.status.busy": "2024-03-22T18:23:07.287039Z",
     "iopub.status.idle": "2024-03-22T18:23:07.314423Z",
     "shell.execute_reply": "2024-03-22T18:23:07.314423Z"
    }
   },
   "outputs": [
    {
     "data": {
      "application/vnd.plotly.v1+json": {
       "config": {
        "plotlyServerURL": "https://plot.ly"
       },
       "data": [
        {
         "hovertemplate": "Frequency: %{x:.3f}<br>Log Dec: %{y:.3f}",
         "legendgroup": "mean0",
         "line": {
          "color": "#2E91E5",
          "width": 3
         },
         "name": "Mean - Mode 1 (Lateral)",
         "opacity": 1,
         "type": "scatter",
         "x": [
          0,
          20,
          40,
          60,
          80,
          100,
          120,
          140,
          160,
          180,
          200,
          220,
          240,
          260,
          280,
          300,
          320,
          340,
          360,
          380,
          400,
          420,
          440,
          460,
          480,
          500,
          520,
          540,
          560,
          580,
          600
         ],
         "y": [
          0.006484111371619983,
          0.006460258121048385,
          0.00643633316047883,
          0.006412336917988922,
          0.006388269841744223,
          0.006364132397105057,
          0.006339925069301901,
          0.006315648362264392,
          0.006291302798580899,
          0.006266888921769345,
          0.006242407295233017,
          0.006217858502148531,
          0.006193243146936075,
          0.006168561855035275,
          0.006143815273897452,
          0.006119004071776583,
          0.0060941289395340485,
          0.006069190590297633,
          0.006044189759606665,
          0.006019127206263413,
          0.005994003713351673,
          0.00596882008643774,
          0.005943577155641759,
          0.005918275774596643,
          0.005892916822795797,
          0.005867501204166364,
          0.005842029848285563,
          0.005816503708900842,
          0.005790923767464955,
          0.005765291030809146,
          0.005739606531021169
         ]
        },
        {
         "fill": "toself",
         "fillcolor": "#2E91E5",
         "hoverinfo": "none",
         "legendgroup": "conf00",
         "line": {
          "color": "#2E91E5",
          "width": 1
         },
         "name": "confidence interval: 95% - Mode 1 (Lateral)",
         "opacity": 0.3,
         "type": "scatter",
         "x": [
          0,
          20,
          40,
          60,
          80,
          100,
          120,
          140,
          160,
          180,
          200,
          220,
          240,
          260,
          280,
          300,
          320,
          340,
          360,
          380,
          400,
          420,
          440,
          460,
          480,
          500,
          520,
          540,
          560,
          580,
          600,
          600,
          580,
          560,
          540,
          520,
          500,
          480,
          460,
          440,
          420,
          400,
          380,
          360,
          340,
          320,
          300,
          280,
          260,
          240,
          220,
          200,
          180,
          160,
          140,
          120,
          100,
          80,
          60,
          40,
          20,
          0
         ],
         "y": [
          0.01594243695615093,
          0.015893310802043967,
          0.015843989664957397,
          0.015794473621009632,
          0.015744762779039974,
          0.01569485727646559,
          0.015644757284261398,
          0.015594463017002774,
          0.01554397471570704,
          0.015493292661466786,
          0.015442417174525873,
          0.015391348612379771,
          0.015340087369517731,
          0.015288633886432697,
          0.015236988642344395,
          0.015185152160618784,
          0.015133125006442882,
          0.015080907792735108,
          0.015028501176519393,
          0.014975905864027462,
          0.014923122606137084,
          0.014870152211170518,
          0.014816995524867295,
          0.014763653461230293,
          0.014710126974280644,
          0.014656417080009056,
          0.01460252484521582,
          0.014548451396111984,
          0.014494197916723902,
          0.014439765651182148,
          0.014385155900371966,
          0.002495275427784982,
          0.0025082671551233415,
          0.002521246916050519,
          0.002534214023422633,
          0.0025471678018005087,
          0.002560107584296255,
          0.002573032715338514,
          0.0025859425584023312,
          0.0025988364759678005,
          0.002611713858486732,
          0.00262457409186929,
          0.0026374165860275304,
          0.0026502407536296894,
          0.002663046025225812,
          0.0026758318425477924,
          0.0026885976516617042,
          0.0027013429219584005,
          0.0027140671209312595,
          0.002726769737485108,
          0.002739450265845533,
          0.0027521082150879193,
          0.0027647431022562547,
          0.0027773544611547365,
          0.0027899418217001075,
          0.0028025047460378694,
          0.002815042791589687,
          0.0028275555233798775,
          0.002840042536467031,
          0.0028525034142627627,
          0.002864937761142607,
          0.0028773451959972908
         ]
        },
        {
         "hovertemplate": "Frequency: %{x:.3f}<br>Log Dec: %{y:.3f}",
         "legendgroup": "mean1",
         "line": {
          "color": "#E15F99",
          "width": 3
         },
         "name": "Mean - Mode 2 (Lateral)",
         "opacity": 1,
         "type": "scatter",
         "x": [
          0,
          20,
          40,
          60,
          80,
          100,
          120,
          140,
          160,
          180,
          200,
          220,
          240,
          260,
          280,
          300,
          320,
          340,
          360,
          380,
          400,
          420,
          440,
          460,
          480,
          500,
          520,
          540,
          560,
          580,
          600
         ],
         "y": [
          0.0064841113716366215,
          0.006507892500171395,
          0.006531601112332443,
          0.006555236832595718,
          0.0065787993004318155,
          0.006602288173292317,
          0.006625703123842692,
          0.006649043841111178,
          0.0066723100306035335,
          0.006695501412163922,
          0.006718617720791516,
          0.006741658707077318,
          0.0067646241355606585,
          0.0067875137850488985,
          0.006810327447679954,
          0.006833064930182017,
          0.006855726052079271,
          0.006878310646135789,
          0.006900818558181389,
          0.006923249646540458,
          0.006945603780582177,
          0.006967880843120267,
          0.006990080728073123,
          0.007012203341755358,
          0.007034248600388122,
          0.007056216431698141,
          0.007078106773750771,
          0.007099919576623659,
          0.007121654798554613,
          0.0071433124087398,
          0.007164892387429362
         ]
        },
        {
         "fill": "toself",
         "fillcolor": "#E15F99",
         "hoverinfo": "none",
         "legendgroup": "conf10",
         "line": {
          "color": "#E15F99",
          "width": 1
         },
         "name": "confidence interval: 95% - Mode 2 (Lateral)",
         "opacity": 0.3,
         "type": "scatter",
         "x": [
          0,
          20,
          40,
          60,
          80,
          100,
          120,
          140,
          160,
          180,
          200,
          220,
          240,
          260,
          280,
          300,
          320,
          340,
          360,
          380,
          400,
          420,
          440,
          460,
          480,
          500,
          520,
          540,
          560,
          580,
          600,
          600,
          580,
          560,
          540,
          520,
          500,
          480,
          460,
          440,
          420,
          400,
          380,
          360,
          340,
          320,
          300,
          280,
          260,
          240,
          220,
          200,
          180,
          160,
          140,
          120,
          100,
          80,
          60,
          40,
          20,
          0
         ],
         "y": [
          0.01594243695634478,
          0.015991368085353373,
          0.016040104176635282,
          0.01608864524533761,
          0.016136991334526455,
          0.016185142519068687,
          0.016233098901439265,
          0.01628086060178082,
          0.016328427774455888,
          0.016375800595614116,
          0.016422979264102498,
          0.01646996400287753,
          0.01651675506077374,
          0.01656335270293037,
          0.016609757218675667,
          0.016655968916758117,
          0.01670198812754265,
          0.01674781519842791,
          0.01679345049674755,
          0.016838894406533193,
          0.016884147332782852,
          0.01692920968908967,
          0.016974081919243662,
          0.017018764465241663,
          0.017063257798821934,
          0.017107562397433097,
          0.017151678758026256,
          0.017195607388122095,
          0.017239348809042626,
          0.017282903553297823,
          0.01732627216985261,
          0.003235516121543912,
          0.003224050514578138,
          0.0032125505251061662,
          0.003201016287837824,
          0.003189447944877118,
          0.0031778456481201555,
          0.0031662095571000043,
          0.0031545398304970783,
          0.0031428366481452406,
          0.0031311001784607786,
          0.0031193306160072656,
          0.0031075281486694813,
          0.0030956929815030964,
          0.0030838253208592373,
          0.0030719253806739517,
          0.0030599933908978054,
          0.003048029576418388,
          0.003036034184253789,
          0.0030240074593668627,
          0.0030119496605679652,
          0.0029998610521385777,
          0.002987741909363913,
          0.002975592510166942,
          0.00296341315733205,
          0.002951204140064332,
          0.0029389657721430773,
          0.002926698379453935,
          0.002914402278529368,
          0.002902077815667248,
          0.002889725337406958,
          0.0028773451958243237
         ]
        },
        {
         "hovertemplate": "Frequency: %{x:.3f}<br>Log Dec: %{y:.3f}",
         "legendgroup": "mean2",
         "line": {
          "color": "#1CA71C",
          "width": 3
         },
         "name": "Mean - Mode 3 (Lateral)",
         "opacity": 1,
         "type": "scatter",
         "x": [
          0,
          20,
          40,
          60,
          80,
          100,
          120,
          140,
          160,
          180,
          200,
          220,
          240,
          260,
          280,
          300,
          320,
          340,
          360,
          380,
          400,
          420,
          440,
          460,
          480,
          500,
          520,
          540,
          560,
          580,
          600
         ],
         "y": [
          0.039009331412162,
          0.039083844568214544,
          0.039157233436332685,
          0.03922945154073019,
          0.03930045152428832,
          0.039370185170535504,
          0.039438603438599486,
          0.0395056564965073,
          0.03957129376084563,
          0.0396354639441935,
          0.03969811510039748,
          0.03975919468274428,
          0.039818649601836696,
          0.039876426291774916,
          0.03993247077778994,
          0.03998672875578821,
          0.04003914567171253,
          0.04008966680787996,
          0.04013823737737923,
          0.04018480262002256,
          0.0402293079061383,
          0.040271698846697096,
          0.04031192140368033,
          0.04034992201283328,
          0.04038564770231844,
          0.040419046222542665,
          0.04045006617800993,
          0.0404786571605994,
          0.0405047698873709,
          0.040528356342057495,
          0.040549369916592456
         ]
        },
        {
         "fill": "toself",
         "fillcolor": "#1CA71C",
         "hoverinfo": "none",
         "legendgroup": "conf20",
         "line": {
          "color": "#1CA71C",
          "width": 1
         },
         "name": "confidence interval: 95% - Mode 3 (Lateral)",
         "opacity": 0.3,
         "type": "scatter",
         "x": [
          0,
          20,
          40,
          60,
          80,
          100,
          120,
          140,
          160,
          180,
          200,
          220,
          240,
          260,
          280,
          300,
          320,
          340,
          360,
          380,
          400,
          420,
          440,
          460,
          480,
          500,
          520,
          540,
          560,
          580,
          600,
          600,
          580,
          560,
          540,
          520,
          500,
          480,
          460,
          440,
          420,
          400,
          380,
          360,
          340,
          320,
          300,
          280,
          260,
          240,
          220,
          200,
          180,
          160,
          140,
          120,
          100,
          80,
          60,
          40,
          20,
          0
         ],
         "y": [
          0.08607076740556542,
          0.08619777451173544,
          0.08632134776895466,
          0.08644138026602144,
          0.08655776422023582,
          0.08667039109634561,
          0.0867791517704749,
          0.08688393667224885,
          0.0869846359452631,
          0.08708113963080963,
          0.08717333784419881,
          0.08726112097254667,
          0.0873443798752549,
          0.08742300611181364,
          0.0874968921478723,
          0.08756593159543229,
          0.08763001945441096,
          0.08768905236562115,
          0.08774292885405285,
          0.0877915496073596,
          0.08783481772571365,
          0.08787263901354017,
          0.08790492223498562,
          0.08793157940665039,
          0.08795252607217516,
          0.08796768157390521,
          0.08797696934085636,
          0.08798031715445764,
          0.08797765741932341,
          0.08796892742840666,
          0.08795406961440307,
          0.020202798107987276,
          0.020180041866248388,
          0.020156131066444722,
          0.020131097107415296,
          0.02010497163442017,
          0.02007778646873738,
          0.020049573516933577,
          0.020020364723187137,
          0.01999019198082031,
          0.019959087085429626,
          0.019927081665628957,
          0.019894207133702234,
          0.01986049463824813,
          0.019825975002785344,
          0.019790678701673767,
          0.019754635801614122,
          0.019717875939018772,
          0.019680428278524256,
          0.01964232149645559,
          0.019603583738737745,
          0.019564242611215612,
          0.01952432515470381,
          0.019483857833909667,
          0.019442866518839107,
          0.019401376465863207,
          0.019359412330782127,
          0.019316998148495346,
          0.019274157321835995,
          0.019230912639370858,
          0.019187286254229514,
          0.01914329970155259
         ]
        },
        {
         "hovertemplate": "Frequency: %{x:.3f}<br>Log Dec: %{y:.3f}",
         "legendgroup": "mean3",
         "line": {
          "color": "#FB0D0D",
          "width": 3
         },
         "name": "Mean - Mode 4 (Lateral)",
         "opacity": 1,
         "type": "scatter",
         "x": [
          0,
          20,
          40,
          60,
          80,
          100,
          120,
          140,
          160,
          180,
          200,
          220,
          240,
          260,
          280,
          300,
          320,
          340,
          360,
          380,
          400,
          420,
          440,
          460,
          480,
          500,
          520,
          540,
          560,
          580,
          600
         ],
         "y": [
          0.03900933141272514,
          0.038933739535963456,
          0.03885711357930488,
          0.03877949724322772,
          0.03870093327075547,
          0.03862146344355956,
          0.038541128570846926,
          0.038459968488155895,
          0.0383780220563526,
          0.038295327159999615,
          0.03821192071344214,
          0.03812783866372625,
          0.038043115998396534,
          0.03795778675355468,
          0.03787188402492383,
          0.03778543997660582,
          0.037698485855974184,
          0.03761105200548578,
          0.03752316787736221,
          0.03743486204925723,
          0.037346162239402084,
          0.03725709532288266,
          0.03716768734804994,
          0.03707796355605727,
          0.036987948395299765,
          0.0368976655411263,
          0.03680713791228242,
          0.03671638769116021,
          0.03662543633976982,
          0.036534304618149945,
          0.0364430126039982
         ]
        },
        {
         "fill": "toself",
         "fillcolor": "#FB0D0D",
         "hoverinfo": "none",
         "legendgroup": "conf30",
         "line": {
          "color": "#FB0D0D",
          "width": 1
         },
         "name": "confidence interval: 95% - Mode 4 (Lateral)",
         "opacity": 0.3,
         "type": "scatter",
         "x": [
          0,
          20,
          40,
          60,
          80,
          100,
          120,
          140,
          160,
          180,
          200,
          220,
          240,
          260,
          280,
          300,
          320,
          340,
          360,
          380,
          400,
          420,
          440,
          460,
          480,
          500,
          520,
          540,
          560,
          580,
          600,
          600,
          580,
          560,
          540,
          520,
          500,
          480,
          460,
          440,
          420,
          400,
          380,
          360,
          340,
          320,
          300,
          280,
          260,
          240,
          220,
          200,
          180,
          160,
          140,
          120,
          100,
          80,
          60,
          40,
          20,
          0
         ],
         "y": [
          0.08607076740554392,
          0.08594043236533393,
          0.0858068741954314,
          0.08567019648437653,
          0.08553050150938799,
          0.08538789016533012,
          0.08524246186479037,
          0.08509431448376208,
          0.08494354430472817,
          0.08479024595349101,
          0.08463451235642017,
          0.08447643470891975,
          0.0843161024384286,
          0.0841536031714914,
          0.08398902272369616,
          0.08382244508210973,
          0.08365395239644688,
          0.08348362495812157,
          0.08331154122710517,
          0.08313777780973451,
          0.08296240948198388,
          0.08278550918551525,
          0.08260714805123884,
          0.0824273954099187,
          0.08224631880933231,
          0.08206398404068142,
          0.0818804551516862,
          0.08169579447729582,
          0.08151006266141413,
          0.08132331869450421,
          0.08113561992042471,
          0.017739555391399608,
          0.01778710264807813,
          0.017834688693647304,
          0.017882306258956867,
          0.01792994776252442,
          0.0179776053160793,
          0.01802527069857434,
          0.018072935347459126,
          0.018120590355551445,
          0.01816822645351695,
          0.0182158339930515,
          0.01826340294693339,
          0.018310922886120785,
          0.0183583829750537,
          0.018405771945918248,
          0.018453078107746188,
          0.018500289306755784,
          0.018547392947641125,
          0.018594375940850602,
          0.018641224725059424,
          0.01868792523176012,
          0.01873446288689837,
          0.01878082258449549,
          0.01882698868803458,
          0.01887294501962935,
          0.018918674831734934,
          0.018964160808931454,
          0.019009385066495656,
          0.01905432911868595,
          0.01909897389183021,
          0.019143299701508965
         ]
        },
        {
         "hovertemplate": "Frequency: %{x:.3f}<br>Log Dec: %{y:.3f}",
         "legendgroup": "mean4",
         "line": {
          "color": "#DA16FF",
          "width": 3
         },
         "name": "Mean - Mode 5 (Lateral)",
         "opacity": 1,
         "type": "scatter",
         "x": [
          0,
          20,
          40,
          60,
          80,
          100,
          120,
          140,
          160,
          180,
          200,
          220,
          240,
          260,
          280,
          300,
          320,
          340,
          360,
          380,
          400,
          420,
          440,
          460,
          480,
          500,
          520,
          540,
          560,
          580,
          600
         ],
         "y": [
          0.10856832676308872,
          0.10713670055729983,
          0.10571302413397415,
          0.10429866765647258,
          0.10289493002066338,
          0.10150303585276572,
          0.10012413318931253,
          0.0987592921251267,
          0.09740950403771872,
          0.09607568158137622,
          0.09475865919265314,
          0.09345919428182789,
          0.09217796889670284,
          0.09091559168875497,
          0.08967260037516045,
          0.08844946446802465,
          0.08724658823038121,
          0.08606431380579017,
          0.08490292450568776,
          0.08376264818299203,
          0.08264366056511058,
          0.08154608875035581,
          0.08047001455437791,
          0.07941547779547109,
          0.07838247952552262,
          0.07737098519359767,
          0.07638092760677809,
          0.0754122098624679,
          0.07446470799230345,
          0.07353827359815208,
          0.07263273630720497
         ]
        },
        {
         "fill": "toself",
         "fillcolor": "#DA16FF",
         "hoverinfo": "none",
         "legendgroup": "conf40",
         "line": {
          "color": "#DA16FF",
          "width": 1
         },
         "name": "confidence interval: 95% - Mode 5 (Lateral)",
         "opacity": 0.3,
         "type": "scatter",
         "x": [
          0,
          20,
          40,
          60,
          80,
          100,
          120,
          140,
          160,
          180,
          200,
          220,
          240,
          260,
          280,
          300,
          320,
          340,
          360,
          380,
          400,
          420,
          440,
          460,
          480,
          500,
          520,
          540,
          560,
          580,
          600,
          600,
          580,
          560,
          540,
          520,
          500,
          480,
          460,
          440,
          420,
          400,
          380,
          360,
          340,
          320,
          300,
          280,
          260,
          240,
          220,
          200,
          180,
          160,
          140,
          120,
          100,
          80,
          60,
          40,
          20,
          0
         ],
         "y": [
          0.18881433435659395,
          0.18697658374288845,
          0.18513110065057622,
          0.18327988603678902,
          0.18142492781868302,
          0.1795681914877904,
          0.17771161202448,
          0.17585708554537777,
          0.174006462462792,
          0.1721615405141166,
          0.17032405872812637,
          0.16849569257845323,
          0.16667804942545308,
          0.1648726644350194,
          0.16308099802334547,
          0.16130443310665585,
          0.15954427379196273,
          0.15780174406276024,
          0.15607798742843174,
          0.15437406686681035,
          0.1526909656797696,
          0.15102958796147178,
          0.1493907606795617,
          0.14777523449053911,
          0.14618368658040312,
          0.14461672228391892,
          0.14307487790418483,
          0.14155862300696842,
          0.14006836320359356,
          0.1386044429468755,
          0.1371671483450317,
          0.040223602535895256,
          0.040784422939906265,
          0.04135978805998321,
          0.04194994870990655,
          0.04255514914001258,
          0.043175625563961414,
          0.04381160405728537,
          0.044463298733076355,
          0.04513090965498491,
          0.04581462012858375,
          0.046514594811603235,
          0.04723097631438803,
          0.047963882787091246,
          0.04870561529528409,
          0.04945837802612069,
          0.05022697569145276,
          0.05101135080821034,
          0.05181140363587904,
          0.0526269900126525,
          0.05345791717963238,
          0.05430394165313642,
          0.055164764862490216,
          0.05604003119341629,
          0.05692932503905548,
          0.05783216866341621,
          0.05874801969989387,
          0.059676270238871724,
          0.06061624515746922,
          0.061567202416219574,
          0.06252833257755158,
          0.06349875995127306
         ]
        },
        {
         "hovertemplate": "Frequency: %{x:.3f}<br>Log Dec: %{y:.3f}",
         "legendgroup": "mean5",
         "line": {
          "color": "#222A2A",
          "width": 3
         },
         "name": "Mean - Mode 1 (Torsional)",
         "opacity": 1,
         "type": "scatter",
         "x": [
          0,
          20,
          40,
          60,
          80,
          100,
          120,
          140,
          160,
          180,
          200,
          220,
          240,
          260,
          280,
          300,
          320,
          340,
          360,
          380,
          400,
          420,
          440,
          460,
          480,
          500,
          520,
          540,
          560,
          580,
          600
         ],
         "y": [
          5.873690421307623e-14,
          1.8958481051970937e-14,
          7.37617349375318e-15,
          5.3394974314783977e-14,
          -6.002150112523222e-15,
          -7.28419441432654e-15,
          -8.608684656607474e-14,
          6.00080731897509e-14,
          3.7428237414744795e-14,
          3.327961173138276e-14,
          5.274730255678954e-14,
          4.0994614897952076e-14,
          9.916422180048337e-14,
          -6.2928237576529105e-15,
          1.3256528519241067e-15,
          -6.182039150481962e-14,
          -2.5807705346571422e-14,
          7.721470445676733e-14,
          -6.264831055145108e-15,
          -9.62099514272946e-15,
          -7.353650633113418e-15,
          -3.323902768368718e-14,
          1.782927047016233e-14,
          -7.309784674199055e-14,
          -1.8446825945021204e-14,
          1.2869800244384237e-14,
          2.548024435171431e-14,
          9.873570823554282e-14,
          -8.277244629902756e-14,
          -2.5157716948999897e-14,
          2.4934011282676284e-14
         ]
        },
        {
         "fill": "toself",
         "fillcolor": "#222A2A",
         "hoverinfo": "none",
         "legendgroup": "conf50",
         "line": {
          "color": "#222A2A",
          "width": 1
         },
         "name": "confidence interval: 95% - Mode 1 (Torsional)",
         "opacity": 0.3,
         "type": "scatter",
         "x": [
          0,
          20,
          40,
          60,
          80,
          100,
          120,
          140,
          160,
          180,
          200,
          220,
          240,
          260,
          280,
          300,
          320,
          340,
          360,
          380,
          400,
          420,
          440,
          460,
          480,
          500,
          520,
          540,
          560,
          580,
          600,
          600,
          580,
          560,
          540,
          520,
          500,
          480,
          460,
          440,
          420,
          400,
          380,
          360,
          340,
          320,
          300,
          280,
          260,
          240,
          220,
          200,
          180,
          160,
          140,
          120,
          100,
          80,
          60,
          40,
          20,
          0
         ],
         "y": [
          1.1526661069876718e-12,
          4.584226983212197e-13,
          5.296531851561466e-13,
          5.735817247979796e-13,
          3.131703374506946e-13,
          5.222998991844453e-13,
          4.5351598521907756e-13,
          6.096200226749124e-13,
          5.929799701325173e-13,
          4.935357891365875e-13,
          5.827058441166719e-13,
          4.282768105816877e-13,
          2.093845741633532e-12,
          6.141769342482264e-13,
          4.293486307695752e-13,
          4.4473539319824993e-13,
          6.591467273249197e-13,
          8.296235157269966e-13,
          5.338575602891883e-13,
          4.11807663672932e-13,
          5.082719089443375e-13,
          4.974626504041836e-13,
          5.017156105821784e-13,
          3.1544267989258293e-13,
          6.037243949853647e-13,
          5.018701603202026e-13,
          4.4501070839639843e-13,
          6.932497749598791e-13,
          6.03488977425638e-13,
          4.81924716660006e-13,
          4.922114447481937e-13,
          -4.4860061156103103e-13,
          -4.854895765461083e-13,
          -7.055528624484664e-13,
          -3.5168448793467613e-13,
          -4.71482232263999e-13,
          -3.938747183269326e-13,
          -5.413329523761675e-13,
          -8.579911965907085e-13,
          -4.1854696031309423e-13,
          -7.730342845769119e-13,
          -4.660691837242747e-13,
          -4.372984776978979e-13,
          -6.073590489359679e-13,
          -4.260447143702595e-13,
          -8.81347433034878e-13,
          -5.189611259743531e-13,
          -4.692406978812535e-13,
          -8.295296704785088e-13,
          -4.643013802507631e-13,
          -3.7890513831574036e-13,
          -3.76492456983476e-13,
          -3.9398725220998713e-13,
          -4.985132615778223e-13,
          -3.6042748822316217e-13,
          -6.377703042753314e-13,
          -7.944715730152563e-13,
          -4.66545300983373e-13,
          -6.248984340614298e-13,
          -4.248673852990406e-13,
          -4.5304128907291043e-13,
          -9.727129845987584e-13
         ]
        }
       ],
       "layout": {
        "height": 700,
        "template": {
         "data": {
          "bar": [
           {
            "error_x": {
             "color": "#2a3f5f"
            },
            "error_y": {
             "color": "#2a3f5f"
            },
            "marker": {
             "line": {
              "color": "white",
              "width": 0.5
             }
            },
            "type": "bar"
           }
          ],
          "barpolar": [
           {
            "marker": {
             "line": {
              "color": "white",
              "width": 0.5
             }
            },
            "type": "barpolar"
           }
          ],
          "carpet": [
           {
            "aaxis": {
             "endlinecolor": "#2a3f5f",
             "gridcolor": "#C8D4E3",
             "linecolor": "#C8D4E3",
             "minorgridcolor": "#C8D4E3",
             "startlinecolor": "#2a3f5f"
            },
            "baxis": {
             "endlinecolor": "#2a3f5f",
             "gridcolor": "#C8D4E3",
             "linecolor": "#C8D4E3",
             "minorgridcolor": "#C8D4E3",
             "startlinecolor": "#2a3f5f"
            },
            "type": "carpet"
           }
          ],
          "choropleth": [
           {
            "colorbar": {
             "outlinewidth": 0,
             "ticks": ""
            },
            "type": "choropleth"
           }
          ],
          "contour": [
           {
            "colorbar": {
             "outlinewidth": 0,
             "ticks": ""
            },
            "colorscale": [
             [
              0,
              "#0d0887"
             ],
             [
              0.1111111111111111,
              "#46039f"
             ],
             [
              0.2222222222222222,
              "#7201a8"
             ],
             [
              0.3333333333333333,
              "#9c179e"
             ],
             [
              0.4444444444444444,
              "#bd3786"
             ],
             [
              0.5555555555555556,
              "#d8576b"
             ],
             [
              0.6666666666666666,
              "#ed7953"
             ],
             [
              0.7777777777777778,
              "#fb9f3a"
             ],
             [
              0.8888888888888888,
              "#fdca26"
             ],
             [
              1,
              "#f0f921"
             ]
            ],
            "type": "contour"
           }
          ],
          "contourcarpet": [
           {
            "colorbar": {
             "outlinewidth": 0,
             "ticks": ""
            },
            "type": "contourcarpet"
           }
          ],
          "heatmap": [
           {
            "colorbar": {
             "outlinewidth": 0,
             "ticks": ""
            },
            "colorscale": [
             [
              0,
              "#0d0887"
             ],
             [
              0.1111111111111111,
              "#46039f"
             ],
             [
              0.2222222222222222,
              "#7201a8"
             ],
             [
              0.3333333333333333,
              "#9c179e"
             ],
             [
              0.4444444444444444,
              "#bd3786"
             ],
             [
              0.5555555555555556,
              "#d8576b"
             ],
             [
              0.6666666666666666,
              "#ed7953"
             ],
             [
              0.7777777777777778,
              "#fb9f3a"
             ],
             [
              0.8888888888888888,
              "#fdca26"
             ],
             [
              1,
              "#f0f921"
             ]
            ],
            "type": "heatmap"
           }
          ],
          "heatmapgl": [
           {
            "colorbar": {
             "outlinewidth": 0,
             "ticks": ""
            },
            "colorscale": [
             [
              0,
              "#0d0887"
             ],
             [
              0.1111111111111111,
              "#46039f"
             ],
             [
              0.2222222222222222,
              "#7201a8"
             ],
             [
              0.3333333333333333,
              "#9c179e"
             ],
             [
              0.4444444444444444,
              "#bd3786"
             ],
             [
              0.5555555555555556,
              "#d8576b"
             ],
             [
              0.6666666666666666,
              "#ed7953"
             ],
             [
              0.7777777777777778,
              "#fb9f3a"
             ],
             [
              0.8888888888888888,
              "#fdca26"
             ],
             [
              1,
              "#f0f921"
             ]
            ],
            "type": "heatmapgl"
           }
          ],
          "histogram": [
           {
            "marker": {
             "colorbar": {
              "outlinewidth": 0,
              "ticks": ""
             }
            },
            "type": "histogram"
           }
          ],
          "histogram2d": [
           {
            "colorbar": {
             "outlinewidth": 0,
             "ticks": ""
            },
            "colorscale": [
             [
              0,
              "#0d0887"
             ],
             [
              0.1111111111111111,
              "#46039f"
             ],
             [
              0.2222222222222222,
              "#7201a8"
             ],
             [
              0.3333333333333333,
              "#9c179e"
             ],
             [
              0.4444444444444444,
              "#bd3786"
             ],
             [
              0.5555555555555556,
              "#d8576b"
             ],
             [
              0.6666666666666666,
              "#ed7953"
             ],
             [
              0.7777777777777778,
              "#fb9f3a"
             ],
             [
              0.8888888888888888,
              "#fdca26"
             ],
             [
              1,
              "#f0f921"
             ]
            ],
            "type": "histogram2d"
           }
          ],
          "histogram2dcontour": [
           {
            "colorbar": {
             "outlinewidth": 0,
             "ticks": ""
            },
            "colorscale": [
             [
              0,
              "#0d0887"
             ],
             [
              0.1111111111111111,
              "#46039f"
             ],
             [
              0.2222222222222222,
              "#7201a8"
             ],
             [
              0.3333333333333333,
              "#9c179e"
             ],
             [
              0.4444444444444444,
              "#bd3786"
             ],
             [
              0.5555555555555556,
              "#d8576b"
             ],
             [
              0.6666666666666666,
              "#ed7953"
             ],
             [
              0.7777777777777778,
              "#fb9f3a"
             ],
             [
              0.8888888888888888,
              "#fdca26"
             ],
             [
              1,
              "#f0f921"
             ]
            ],
            "type": "histogram2dcontour"
           }
          ],
          "mesh3d": [
           {
            "colorbar": {
             "outlinewidth": 0,
             "ticks": ""
            },
            "type": "mesh3d"
           }
          ],
          "parcoords": [
           {
            "line": {
             "colorbar": {
              "outlinewidth": 0,
              "ticks": ""
             }
            },
            "type": "parcoords"
           }
          ],
          "pie": [
           {
            "automargin": true,
            "type": "pie"
           }
          ],
          "scatter": [
           {
            "marker": {
             "colorbar": {
              "outlinewidth": 0,
              "ticks": ""
             }
            },
            "type": "scatter"
           }
          ],
          "scatter3d": [
           {
            "line": {
             "colorbar": {
              "outlinewidth": 0,
              "ticks": ""
             }
            },
            "marker": {
             "colorbar": {
              "outlinewidth": 0,
              "ticks": ""
             },
             "size": 4
            },
            "type": "scatter3d"
           }
          ],
          "scattercarpet": [
           {
            "marker": {
             "colorbar": {
              "outlinewidth": 0,
              "ticks": ""
             }
            },
            "type": "scattercarpet"
           }
          ],
          "scattergeo": [
           {
            "marker": {
             "colorbar": {
              "outlinewidth": 0,
              "ticks": ""
             }
            },
            "type": "scattergeo"
           }
          ],
          "scattergl": [
           {
            "marker": {
             "colorbar": {
              "outlinewidth": 0,
              "ticks": ""
             }
            },
            "type": "scattergl"
           }
          ],
          "scattermapbox": [
           {
            "marker": {
             "colorbar": {
              "outlinewidth": 0,
              "ticks": ""
             }
            },
            "type": "scattermapbox"
           }
          ],
          "scatterpolar": [
           {
            "marker": {
             "colorbar": {
              "outlinewidth": 0,
              "ticks": ""
             }
            },
            "type": "scatterpolar"
           }
          ],
          "scatterpolargl": [
           {
            "marker": {
             "colorbar": {
              "outlinewidth": 0,
              "ticks": ""
             }
            },
            "type": "scatterpolargl"
           }
          ],
          "scatterternary": [
           {
            "marker": {
             "colorbar": {
              "outlinewidth": 0,
              "ticks": ""
             }
            },
            "type": "scatterternary"
           }
          ],
          "surface": [
           {
            "colorbar": {
             "outlinewidth": 0,
             "ticks": ""
            },
            "colorscale": [
             [
              0,
              "#0d0887"
             ],
             [
              0.1111111111111111,
              "#46039f"
             ],
             [
              0.2222222222222222,
              "#7201a8"
             ],
             [
              0.3333333333333333,
              "#9c179e"
             ],
             [
              0.4444444444444444,
              "#bd3786"
             ],
             [
              0.5555555555555556,
              "#d8576b"
             ],
             [
              0.6666666666666666,
              "#ed7953"
             ],
             [
              0.7777777777777778,
              "#fb9f3a"
             ],
             [
              0.8888888888888888,
              "#fdca26"
             ],
             [
              1,
              "#f0f921"
             ]
            ],
            "type": "surface"
           }
          ],
          "table": [
           {
            "cells": {
             "fill": {
              "color": "#EBF0F8"
             },
             "line": {
              "color": "white"
             }
            },
            "header": {
             "fill": {
              "color": "#C8D4E3"
             },
             "line": {
              "color": "white"
             }
            },
            "type": "table"
           }
          ]
         },
         "layout": {
          "annotationdefaults": {
           "arrowcolor": "#2a3f5f",
           "arrowhead": 0,
           "arrowwidth": 1
          },
          "coloraxis": {
           "colorbar": {
            "outlinewidth": 0,
            "ticks": ""
           }
          },
          "colorscale": {
           "diverging": [
            [
             0,
             "#8e0152"
            ],
            [
             0.1,
             "#c51b7d"
            ],
            [
             0.2,
             "#de77ae"
            ],
            [
             0.3,
             "#f1b6da"
            ],
            [
             0.4,
             "#fde0ef"
            ],
            [
             0.5,
             "#f7f7f7"
            ],
            [
             0.6,
             "#e6f5d0"
            ],
            [
             0.7,
             "#b8e186"
            ],
            [
             0.8,
             "#7fbc41"
            ],
            [
             0.9,
             "#4d9221"
            ],
            [
             1,
             "#276419"
            ]
           ],
           "sequential": [
            [
             0,
             "#0d0887"
            ],
            [
             0.1111111111111111,
             "#46039f"
            ],
            [
             0.2222222222222222,
             "#7201a8"
            ],
            [
             0.3333333333333333,
             "#9c179e"
            ],
            [
             0.4444444444444444,
             "#bd3786"
            ],
            [
             0.5555555555555556,
             "#d8576b"
            ],
            [
             0.6666666666666666,
             "#ed7953"
            ],
            [
             0.7777777777777778,
             "#fb9f3a"
            ],
            [
             0.8888888888888888,
             "#fdca26"
            ],
            [
             1,
             "#f0f921"
            ]
           ],
           "sequentialminus": [
            [
             0,
             "#0d0887"
            ],
            [
             0.1111111111111111,
             "#46039f"
            ],
            [
             0.2222222222222222,
             "#7201a8"
            ],
            [
             0.3333333333333333,
             "#9c179e"
            ],
            [
             0.4444444444444444,
             "#bd3786"
            ],
            [
             0.5555555555555556,
             "#d8576b"
            ],
            [
             0.6666666666666666,
             "#ed7953"
            ],
            [
             0.7777777777777778,
             "#fb9f3a"
            ],
            [
             0.8888888888888888,
             "#fdca26"
            ],
            [
             1,
             "#f0f921"
            ]
           ]
          },
          "colorway": [
           "#1f77b4",
           "#ff7f0e",
           "#2ca02c",
           "#d62728",
           "#9467bd",
           "#8c564b",
           "#e377c2",
           "#7f7f7f",
           "#bcbd22",
           "#17becf"
          ],
          "font": {
           "color": "#2a3f5f"
          },
          "geo": {
           "bgcolor": "white",
           "lakecolor": "white",
           "landcolor": "white",
           "showlakes": true,
           "showland": true,
           "subunitcolor": "#C8D4E3"
          },
          "hoverlabel": {
           "align": "left"
          },
          "hovermode": "closest",
          "mapbox": {
           "style": "light"
          },
          "paper_bgcolor": "white",
          "plot_bgcolor": "white",
          "polar": {
           "angularaxis": {
            "gridcolor": "#EBF0F8",
            "linecolor": "#EBF0F8",
            "ticks": ""
           },
           "bgcolor": "white",
           "radialaxis": {
            "gridcolor": "#EBF0F8",
            "linecolor": "#EBF0F8",
            "ticks": ""
           }
          },
          "scene": {
           "camera": {
            "center": {
             "x": 0,
             "y": 0,
             "z": 0
            },
            "eye": {
             "x": 2,
             "y": 2,
             "z": 2
            },
            "up": {
             "x": 0,
             "y": 0,
             "z": 1
            }
           },
           "xaxis": {
            "backgroundcolor": "white",
            "gridcolor": "#DFE8F3",
            "gridwidth": 2,
            "linecolor": "#EBF0F8",
            "showbackground": true,
            "showspikes": false,
            "ticks": "",
            "zerolinecolor": "#EBF0F8"
           },
           "yaxis": {
            "backgroundcolor": "white",
            "gridcolor": "#DFE8F3",
            "gridwidth": 2,
            "linecolor": "#EBF0F8",
            "showbackground": true,
            "showspikes": false,
            "ticks": "",
            "zerolinecolor": "#EBF0F8"
           },
           "zaxis": {
            "backgroundcolor": "white",
            "gridcolor": "#DFE8F3",
            "gridwidth": 2,
            "linecolor": "#EBF0F8",
            "showbackground": true,
            "showspikes": false,
            "ticks": "",
            "zerolinecolor": "#EBF0F8"
           }
          },
          "shapedefaults": {
           "line": {
            "color": "#2a3f5f"
           }
          },
          "ternary": {
           "aaxis": {
            "gridcolor": "#DFE8F3",
            "linecolor": "#A2B1C6",
            "ticks": ""
           },
           "baxis": {
            "gridcolor": "#DFE8F3",
            "linecolor": "#A2B1C6",
            "ticks": ""
           },
           "bgcolor": "white",
           "caxis": {
            "gridcolor": "#DFE8F3",
            "linecolor": "#A2B1C6",
            "ticks": ""
           }
          },
          "title": {
           "x": 0.05
          },
          "xaxis": {
           "automargin": true,
           "gridcolor": "#EBF0F8",
           "linecolor": "black",
           "linewidth": 2,
           "mirror": true,
           "showline": true,
           "ticks": "",
           "title": {
            "standoff": 15
           },
           "zeroline": false,
           "zerolinecolor": "#EBF0F8",
           "zerolinewidth": 2
          },
          "yaxis": {
           "automargin": true,
           "gridcolor": "#EBF0F8",
           "linecolor": "black",
           "linewidth": 2,
           "mirror": true,
           "showline": true,
           "ticks": "",
           "title": {
            "standoff": 15
           },
           "zeroline": false,
           "zerolinecolor": "#EBF0F8",
           "zerolinewidth": 2
          }
         }
        },
        "width": 950,
        "xaxis": {
         "exponentformat": "none",
         "range": [
          0,
          600
         ],
         "title": {
          "text": "Frequency (rad/s)"
         }
        },
        "yaxis": {
         "title": {
          "text": "Logarithmic decrement"
         }
        }
       }
      }
     },
     "metadata": {},
     "output_type": "display_data"
    }
   ],
   "source": [
    "# choose the desirable percentiles or confidence intervals\n",
    "camp.plot_log_dec(conf_interval=[95], width=950, height=700)"
   ]
  },
  {
   "cell_type": "markdown",
   "metadata": {},
   "source": [
    "## References\n",
    "\n",
    "```{bibliography}\n",
    ":filter: docname in docnames\n",
    "```"
   ]
  }
 ],
 "metadata": {
  "kernelspec": {
   "display_name": "venv",
   "language": "python",
   "name": "python3"
  },
  "language_info": {
   "codemirror_mode": {
    "name": "ipython",
    "version": 3
   },
   "file_extension": ".py",
   "mimetype": "text/x-python",
   "name": "python",
   "nbconvert_exporter": "python",
   "pygments_lexer": "ipython3",
   "version": "3.10.12"
  }
 },
 "nbformat": 4,
 "nbformat_minor": 2
}
