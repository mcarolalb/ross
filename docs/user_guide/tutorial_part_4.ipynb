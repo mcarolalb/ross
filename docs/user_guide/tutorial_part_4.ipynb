{
 "cells": [
  {
   "cell_type": "markdown",
   "metadata": {},
   "source": [
    "Tutorial - MultiRotor System\n",
    "======================"
   ]
  },
  {
   "cell_type": "markdown",
   "metadata": {},
   "source": [
    "This is a basic tutorial on how to use the `MultiRotor` class for rotordynamics analysis. Before starting this tutorial, be sure you're already familiar with ROSS library. What changes here is basically the part of building the model, since running the analyses will be practically the same as seen in the other tutorials.\n",
    "\n",
    "When two shafts are joined together by gears, coupling can occur between the lateral and torsional vibration. This interaction is modeled in ROSS based on {cite}`rao1998theoretical`. In this work, a typical spur gear pair is modeled as a pair of rigid disks connected by a spring and a damping, considering the pressure angle ($\\alpha$) and the oritentation angle ($\\varphi$) as shown in the following:\n",
    "\n",
    "<div style=\"text-align: center;\">\n",
    "    <img src=\"../_static/img/img_tutorial4_gearmesh.png\" alt=\"Gear mesh\" style=\"width: 450px; height: auto;\">\n",
    "    <br>\n",
    "    <small>Figure 1: Global coordinate system of a spur gear pair (Yang et al., 2016).</small>\n",
    "</div>\n",
    "\n",
    "As you can see, an element not yet shown is needed to model the multi-rotor system, the `GearElement`. This new element resembles the `DiskElement` with added attributes, which will be shown next.\n"
   ]
  },
  {
   "cell_type": "markdown",
   "metadata": {},
   "source": [
    "## Section 1: GearElement Class\n",
    "\n",
    "The class `GearElement` allows you to create gear elements. It is a subclass of `DiskElement` that requires information related to its pitch diameter and pressure angle.\n",
    "\n",
    "ROSS offers 2 (two) ways to create a gear element:\n",
    "1. Inputing mass and inertia data\n",
    "2. Inputing geometrical and material data"
   ]
  },
  {
   "cell_type": "markdown",
   "metadata": {},
   "source": [
    "### 1.1 Creating a single gear element\n",
    "\n",
    "In this tutorial, only an example of how to create a single element will be shown. However, the same procedures presented for the `DiskElement` in the first part of the <b>Tutorial</b> can be replicated here. The `GearElement` goes into the same list of disk elements when assembling the rotor.\n",
    "\n",
    "This example below shows how to instantiate a gear element according to the mass and inertia properties:"
   ]
  },
  {
   "cell_type": "code",
   "execution_count": null,
   "metadata": {},
   "outputs": [],
   "source": [
    "import ross as rs\n",
    "import numpy as np\n",
    "import pandas as pd\n",
    "\n",
    "from ross.units import Q_"
   ]
  },
  {
   "cell_type": "code",
   "execution_count": 2,
   "metadata": {},
   "outputs": [
    {
     "data": {
      "text/plain": [
       "GearElement(Id=0.002, Ip=0.004, m=5.0, color='Goldenrod', n=0, scale_factor=1.0, tag='Gear')"
      ]
     },
     "execution_count": 2,
     "metadata": {},
     "output_type": "execute_result"
    }
   ],
   "source": [
    "gear = rs.GearElement(\n",
    "    n=0,\n",
    "    m=5,\n",
    "    Id=0.002,\n",
    "    Ip=0.004,\n",
    "    pitch_diameter=0.5,\n",
    "    pressure_angle=Q_(22.5, \"deg\"),\n",
    "    tag=\"Gear\",\n",
    ")\n",
    "gear"
   ]
  },
  {
   "cell_type": "markdown",
   "metadata": {},
   "source": [
    "## Section 2: MultiRotor Class\n",
    "\n",
    "`MultiRotor` is a subclass of `Rotor` class. It takes two rotors (driving and driven) as arguments and couple them with their gears. The object created has several methods that can be used to evaluate the dynamics of the model (they all start with the prefix `.run_`).\n",
    "\n",
    "To use this class, you must input the already instantiated rotors and each one need at least one gear element.\n",
    "\n",
    "The shaft elements are renumbered starting with the elements of the driving rotor.\n",
    "\n",
    "To assemble the matrices, the driving and driven matrices are joined.\n",
    "For the stiffness matrix, the coupling is considered at the nodes of the gears in contact."
   ]
  },
  {
   "cell_type": "markdown",
   "metadata": {},
   "source": [
    "### 2.1 Creating a spur geared two-shaft rotor system\n",
    "Let's create a simple model with two rotors connected by a pair of spur gears and supported by flexible bearings, as shown in Fig. 2. For more details on the description of the model, see the work of {cite}`rao1998theoretical`.\n",
    "\n",
    "<div style=\"text-align: center;\">\n",
    "    <img src=\"../_static/img/img_tutorial4_multirotor.png\" alt=\"MultiRotor\" style=\"width: 450px; height: auto;\">\n",
    "    <br>\n",
    "    <small>Figure 2: Rotors connected by a pair of spur gears (Friswell et al., 2010).</small>\n",
    "</div>\n",
    "\n",
    "In Figure 2, the first node is 1 (one), but we must remember that in ROSS the node count starts at 0 (zero)."
   ]
  },
  {
   "cell_type": "markdown",
   "metadata": {},
   "source": [
    "#### 2.1.1 Creating material"
   ]
  },
  {
   "cell_type": "code",
   "execution_count": 3,
   "metadata": {},
   "outputs": [],
   "source": [
    "# Creating material\n",
    "material = rs.Material(name=\"mat_steel\", rho=7800, E=207e9, G_s=79.5e9)"
   ]
  },
  {
   "cell_type": "markdown",
   "metadata": {},
   "source": [
    "#### 2.1.2 Creating the driving rotor"
   ]
  },
  {
   "cell_type": "code",
   "execution_count": 4,
   "metadata": {},
   "outputs": [
    {
     "data": {
      "application/vnd.plotly.v1+json": {
       "config": {
        "plotlyServerURL": "https://plot.ly"
       },
       "data": [
        {
         "hoverinfo": "none",
         "marker": {
          "color": "#ffcc99",
          "line": {
           "color": "black",
           "width": 1
          },
          "opacity": 0.7,
          "size": 20
         },
         "mode": "markers+text",
         "showlegend": false,
         "text": [
          "0",
          "1",
          "2",
          "3",
          "4"
         ],
         "type": "scatter",
         "x": [
          0,
          0.1,
          4.34,
          5.5,
          5.8
         ],
         "y": [
          0,
          0,
          0,
          0,
          0
         ]
        },
        {
         "customdata": [
          [
           0,
           0.3,
           0,
           0.3,
           0,
           0.1,
           "mat_steel"
          ],
          [
           0,
           0.3,
           0,
           0.3,
           0,
           0.1,
           "mat_steel"
          ],
          [
           0,
           0.3,
           0,
           0.3,
           0,
           0.1,
           "mat_steel"
          ],
          [
           0,
           0.3,
           0,
           0.3,
           0,
           0.1,
           "mat_steel"
          ],
          [
           0,
           0.3,
           0,
           0.3,
           0,
           0.1,
           "mat_steel"
          ],
          [
           0,
           0.3,
           0,
           0.3,
           0,
           0.1,
           "mat_steel"
          ],
          [
           0,
           0.3,
           0,
           0.3,
           0,
           0.1,
           "mat_steel"
          ],
          [
           0,
           0.3,
           0,
           0.3,
           0,
           0.1,
           "mat_steel"
          ],
          [
           0,
           0.3,
           0,
           0.3,
           0,
           0.1,
           "mat_steel"
          ],
          [
           0,
           0.3,
           0,
           0.3,
           0,
           0.1,
           "mat_steel"
          ]
         ],
         "fill": "toself",
         "fillcolor": "#525252",
         "hoverinfo": "text",
         "hoverlabel": {
          "bgcolor": "#525252"
         },
         "hoveron": "points+fills",
         "hovertemplate": "Element Number: 0<br>Left Outer Diameter: 0.3 m<br>Left Inner Diameter: 0.0 m<br>Right Outer Diameter: 0.3 m<br>Right Inner Diameter: 0.0 m<br>Element Length: 0.1 m<br>Material: mat_steel<br>",
         "legendgroup": "Shaft",
         "line": {
          "color": "black",
          "width": 1.5
         },
         "mode": "lines",
         "name": "Shaft Element 0",
         "opacity": 0.5,
         "showlegend": false,
         "text": "Element Number: 0<br>Left Outer Diameter: 0.3 m<br>Left Inner Diameter: 0.0 m<br>Right Outer Diameter: 0.3 m<br>Right Inner Diameter: 0.0 m<br>Element Length: 0.1 m<br>Material: mat_steel<br>",
         "type": "scatter",
         "x": [
          0,
          0,
          0.1,
          0.1,
          0,
          0,
          0,
          0.1,
          0.1,
          0
         ],
         "y": [
          0,
          0.15,
          0.15,
          0,
          0,
          0,
          -0.15,
          -0.15,
          0,
          0
         ]
        },
        {
         "customdata": [
          [
           1,
           0.3,
           0,
           0.3,
           0,
           4.24,
           "mat_steel"
          ],
          [
           1,
           0.3,
           0,
           0.3,
           0,
           4.24,
           "mat_steel"
          ],
          [
           1,
           0.3,
           0,
           0.3,
           0,
           4.24,
           "mat_steel"
          ],
          [
           1,
           0.3,
           0,
           0.3,
           0,
           4.24,
           "mat_steel"
          ],
          [
           1,
           0.3,
           0,
           0.3,
           0,
           4.24,
           "mat_steel"
          ],
          [
           1,
           0.3,
           0,
           0.3,
           0,
           4.24,
           "mat_steel"
          ],
          [
           1,
           0.3,
           0,
           0.3,
           0,
           4.24,
           "mat_steel"
          ],
          [
           1,
           0.3,
           0,
           0.3,
           0,
           4.24,
           "mat_steel"
          ],
          [
           1,
           0.3,
           0,
           0.3,
           0,
           4.24,
           "mat_steel"
          ],
          [
           1,
           0.3,
           0,
           0.3,
           0,
           4.24,
           "mat_steel"
          ]
         ],
         "fill": "toself",
         "fillcolor": "#525252",
         "hoverinfo": "text",
         "hoverlabel": {
          "bgcolor": "#525252"
         },
         "hoveron": "points+fills",
         "hovertemplate": "Element Number: 1<br>Left Outer Diameter: 0.3 m<br>Left Inner Diameter: 0.0 m<br>Right Outer Diameter: 0.3 m<br>Right Inner Diameter: 0.0 m<br>Element Length: 4.24 m<br>Material: mat_steel<br>",
         "legendgroup": "Shaft",
         "line": {
          "color": "black",
          "width": 1.5
         },
         "mode": "lines",
         "name": "Shaft Element 1",
         "opacity": 0.5,
         "showlegend": false,
         "text": "Element Number: 1<br>Left Outer Diameter: 0.3 m<br>Left Inner Diameter: 0.0 m<br>Right Outer Diameter: 0.3 m<br>Right Inner Diameter: 0.0 m<br>Element Length: 4.24 m<br>Material: mat_steel<br>",
         "type": "scatter",
         "x": [
          0.1,
          0.1,
          4.34,
          4.34,
          0.1,
          0.1,
          0.1,
          4.34,
          4.34,
          0.1
         ],
         "y": [
          0,
          0.15,
          0.15,
          0,
          0,
          0,
          -0.15,
          -0.15,
          0,
          0
         ]
        },
        {
         "customdata": [
          [
           2,
           0.22,
           0,
           0.22,
           0,
           1.16,
           "mat_steel"
          ],
          [
           2,
           0.22,
           0,
           0.22,
           0,
           1.16,
           "mat_steel"
          ],
          [
           2,
           0.22,
           0,
           0.22,
           0,
           1.16,
           "mat_steel"
          ],
          [
           2,
           0.22,
           0,
           0.22,
           0,
           1.16,
           "mat_steel"
          ],
          [
           2,
           0.22,
           0,
           0.22,
           0,
           1.16,
           "mat_steel"
          ],
          [
           2,
           0.22,
           0,
           0.22,
           0,
           1.16,
           "mat_steel"
          ],
          [
           2,
           0.22,
           0,
           0.22,
           0,
           1.16,
           "mat_steel"
          ],
          [
           2,
           0.22,
           0,
           0.22,
           0,
           1.16,
           "mat_steel"
          ],
          [
           2,
           0.22,
           0,
           0.22,
           0,
           1.16,
           "mat_steel"
          ],
          [
           2,
           0.22,
           0,
           0.22,
           0,
           1.16,
           "mat_steel"
          ]
         ],
         "fill": "toself",
         "fillcolor": "#525252",
         "hoverinfo": "text",
         "hoverlabel": {
          "bgcolor": "#525252"
         },
         "hoveron": "points+fills",
         "hovertemplate": "Element Number: 2<br>Left Outer Diameter: 0.22 m<br>Left Inner Diameter: 0.0 m<br>Right Outer Diameter: 0.22 m<br>Right Inner Diameter: 0.0 m<br>Element Length: 1.16 m<br>Material: mat_steel<br>",
         "legendgroup": "Shaft",
         "line": {
          "color": "black",
          "width": 1.5
         },
         "mode": "lines",
         "name": "Shaft Element 2",
         "opacity": 0.5,
         "showlegend": false,
         "text": "Element Number: 2<br>Left Outer Diameter: 0.22 m<br>Left Inner Diameter: 0.0 m<br>Right Outer Diameter: 0.22 m<br>Right Inner Diameter: 0.0 m<br>Element Length: 1.16 m<br>Material: mat_steel<br>",
         "type": "scatter",
         "x": [
          4.34,
          4.34,
          5.5,
          5.5,
          4.34,
          4.34,
          4.34,
          5.5,
          5.5,
          4.34
         ],
         "y": [
          0,
          0.11,
          0.11,
          0,
          0,
          0,
          -0.11,
          -0.11,
          0,
          0
         ]
        },
        {
         "customdata": [
          [
           3,
           0.22,
           0,
           0.22,
           0,
           0.3,
           "mat_steel"
          ],
          [
           3,
           0.22,
           0,
           0.22,
           0,
           0.3,
           "mat_steel"
          ],
          [
           3,
           0.22,
           0,
           0.22,
           0,
           0.3,
           "mat_steel"
          ],
          [
           3,
           0.22,
           0,
           0.22,
           0,
           0.3,
           "mat_steel"
          ],
          [
           3,
           0.22,
           0,
           0.22,
           0,
           0.3,
           "mat_steel"
          ],
          [
           3,
           0.22,
           0,
           0.22,
           0,
           0.3,
           "mat_steel"
          ],
          [
           3,
           0.22,
           0,
           0.22,
           0,
           0.3,
           "mat_steel"
          ],
          [
           3,
           0.22,
           0,
           0.22,
           0,
           0.3,
           "mat_steel"
          ],
          [
           3,
           0.22,
           0,
           0.22,
           0,
           0.3,
           "mat_steel"
          ],
          [
           3,
           0.22,
           0,
           0.22,
           0,
           0.3,
           "mat_steel"
          ]
         ],
         "fill": "toself",
         "fillcolor": "#525252",
         "hoverinfo": "text",
         "hoverlabel": {
          "bgcolor": "#525252"
         },
         "hoveron": "points+fills",
         "hovertemplate": "Element Number: 3<br>Left Outer Diameter: 0.22 m<br>Left Inner Diameter: 0.0 m<br>Right Outer Diameter: 0.22 m<br>Right Inner Diameter: 0.0 m<br>Element Length: 0.3 m<br>Material: mat_steel<br>",
         "legendgroup": "Shaft",
         "line": {
          "color": "black",
          "width": 1.5
         },
         "mode": "lines",
         "name": "Shaft Element 3",
         "opacity": 0.5,
         "showlegend": false,
         "text": "Element Number: 3<br>Left Outer Diameter: 0.22 m<br>Left Inner Diameter: 0.0 m<br>Right Outer Diameter: 0.22 m<br>Right Inner Diameter: 0.0 m<br>Element Length: 0.3 m<br>Material: mat_steel<br>",
         "type": "scatter",
         "x": [
          5.5,
          5.5,
          5.8,
          5.8,
          5.5,
          5.5,
          5.5,
          5.8,
          5.8,
          5.5
         ],
         "y": [
          0,
          0.11,
          0.11,
          0,
          0,
          0,
          -0.11,
          -0.11,
          0,
          0
         ]
        },
        {
         "customdata": [
          [
           1,
           32.2,
           16.1,
           525.7
          ],
          [
           1,
           32.2,
           16.1,
           525.7
          ],
          [
           1,
           32.2,
           16.1,
           525.7
          ],
          [
           1,
           32.2,
           16.1,
           525.7
          ],
          [
           1,
           32.2,
           16.1,
           525.7
          ],
          [
           1,
           32.2,
           16.1,
           525.7
          ],
          [
           1,
           32.2,
           16.1,
           525.7
          ],
          [
           1,
           32.2,
           16.1,
           525.7
          ],
          [
           1,
           32.2,
           16.1,
           525.7
          ]
         ],
         "fill": "toself",
         "fillcolor": "Firebrick",
         "hoverinfo": "text",
         "hoverlabel": {
          "bgcolor": "Firebrick"
         },
         "hoveron": "points+fills",
         "hovertemplate": "Disk Node: 1<br>Polar Inertia: 3.220e+01<br>Diametral Inertia: 1.610e+01<br>Disk mass: 525.700<br>",
         "legendgroup": "disks",
         "line": {
          "color": "Firebrick",
          "width": 2
         },
         "mode": "lines",
         "name": "Disk 0",
         "opacity": 0.8,
         "showlegend": false,
         "text": "Disk Node: 1<br>Polar Inertia: 3.220e+01<br>Diametral Inertia: 1.610e+01<br>Disk mass: 525.700<br>",
         "type": "scatter",
         "x": [
          0.1,
          0.11072,
          0.08928000000000001,
          0.1,
          null,
          0.1,
          0.11072,
          0.08928000000000001,
          0.1
         ],
         "y": [
          0.15,
          0.6859999999999999,
          0.6859999999999999,
          0.15,
          null,
          -0.15,
          -0.6859999999999999,
          -0.6859999999999999,
          -0.15
         ]
        },
        {
         "customdata": [
          [
           2,
           6.23,
           3.115,
           116.04
          ],
          [
           2,
           6.23,
           3.115,
           116.04
          ],
          [
           2,
           6.23,
           3.115,
           116.04
          ],
          [
           2,
           6.23,
           3.115,
           116.04
          ],
          [
           2,
           6.23,
           3.115,
           116.04
          ],
          [
           2,
           6.23,
           3.115,
           116.04
          ],
          [
           2,
           6.23,
           3.115,
           116.04
          ],
          [
           2,
           6.23,
           3.115,
           116.04
          ],
          [
           2,
           6.23,
           3.115,
           116.04
          ]
         ],
         "fill": "toself",
         "fillcolor": "Firebrick",
         "hoverinfo": "text",
         "hoverlabel": {
          "bgcolor": "Firebrick"
         },
         "hoveron": "points+fills",
         "hovertemplate": "Disk Node: 2<br>Polar Inertia: 6.230e+00<br>Diametral Inertia: 3.115e+00<br>Disk mass: 116.040<br>",
         "legendgroup": "disks",
         "line": {
          "color": "Firebrick",
          "width": 2
         },
         "mode": "lines",
         "name": "Disk 1",
         "opacity": 0.8,
         "showlegend": false,
         "text": "Disk Node: 2<br>Polar Inertia: 6.230e+00<br>Diametral Inertia: 3.115e+00<br>Disk mass: 116.040<br>",
         "type": "scatter",
         "x": [
          4.34,
          4.35072,
          4.32928,
          4.34,
          null,
          4.34,
          4.35072,
          4.32928,
          4.34
         ],
         "y": [
          0.15,
          0.6859999999999999,
          0.6859999999999999,
          0.15,
          null,
          -0.15,
          -0.6859999999999999,
          -0.6859999999999999,
          -0.15
         ]
        },
        {
         "customdata": [
          [
           4,
           113.9,
           56.95,
           726.4,
           1.0172
          ],
          [
           4,
           113.9,
           56.95,
           726.4,
           1.0172
          ],
          [
           4,
           113.9,
           56.95,
           726.4,
           1.0172
          ],
          [
           4,
           113.9,
           56.95,
           726.4,
           1.0172
          ],
          [
           4,
           113.9,
           56.95,
           726.4,
           1.0172
          ],
          [
           4,
           113.9,
           56.95,
           726.4,
           1.0172
          ],
          [
           4,
           113.9,
           56.95,
           726.4,
           1.0172
          ],
          [
           4,
           113.9,
           56.95,
           726.4,
           1.0172
          ],
          [
           4,
           113.9,
           56.95,
           726.4,
           1.0172
          ]
         ],
         "fill": "toself",
         "fillcolor": "Goldenrod",
         "fillpattern": {
          "bgcolor": "Goldenrod",
          "fgcolor": "rgba(0, 0, 0, 0.2)",
          "shape": "/"
         },
         "hoverinfo": "text",
         "hoverlabel": {
          "bgcolor": "Goldenrod"
         },
         "hoveron": "points+fills",
         "hovertemplate": "Gear Node: 4<br>Polar Inertia: 1.139e+02<br>Diametral Inertia: 5.695e+01<br>Gear Mass: 726.400<br>Gear Base Diam.: 1.017<br>",
         "legendgroup": "gears",
         "line": {
          "color": "rgba(0, 0, 0, 0.2)",
          "width": 2
         },
         "mode": "lines",
         "name": "Gear 2",
         "opacity": 0.8,
         "showlegend": false,
         "text": "Gear Node: 4<br>Polar Inertia: 1.139e+02<br>Diametral Inertia: 5.695e+01<br>Gear Mass: 726.400<br>Gear Base Diam.: 1.017<br>",
         "type": "scatter",
         "x": [
          5.82144,
          5.82144,
          5.77856,
          5.77856,
          null,
          5.82144,
          5.82144,
          5.77856,
          5.77856
         ],
         "y": [
          0.11,
          0.7194600000000001,
          0.7194600000000001,
          0.11,
          null,
          -0.11,
          -0.7194600000000001,
          -0.7194600000000001,
          -0.11
         ]
        },
        {
         "hoverinfo": "none",
         "legendgroup": "bearings",
         "line": {
          "color": "#355d7a",
          "width": 1
         },
         "mode": "lines",
         "name": "Bearing 0",
         "showlegend": false,
         "type": "scatter",
         "x": [
          0,
          0,
          -0.03828571428571427,
          0.03828571428571427
         ],
         "y": [
          0.15,
          0.21699999999999997,
          0.21699999999999997,
          0.21699999999999997
         ]
        },
        {
         "hoverinfo": "none",
         "legendgroup": "bearings",
         "line": {
          "color": "#355d7a",
          "width": 1
         },
         "mode": "lines",
         "name": "Bearing 0",
         "showlegend": false,
         "type": "scatter",
         "x": [
          0,
          0,
          -0.03828571428571427,
          0.03828571428571427
         ],
         "y": [
          -0.15,
          -0.21699999999999997,
          -0.21699999999999997,
          -0.21699999999999997
         ]
        },
        {
         "hoverinfo": "none",
         "legendgroup": "bearings",
         "line": {
          "color": "#355d7a",
          "width": 1
         },
         "mode": "lines",
         "name": "Bearing 0",
         "showlegend": false,
         "type": "scatter",
         "x": [
          0,
          0,
          -0.03828571428571427,
          0.03828571428571427
         ],
         "y": [
          0.4179999999999999,
          0.3509999999999999,
          0.3509999999999999,
          0.3509999999999999
         ]
        },
        {
         "hoverinfo": "none",
         "legendgroup": "bearings",
         "line": {
          "color": "#355d7a",
          "width": 1
         },
         "mode": "lines",
         "name": "Bearing 0",
         "showlegend": false,
         "type": "scatter",
         "x": [
          0,
          0,
          -0.03828571428571427,
          0.03828571428571427
         ],
         "y": [
          -0.4179999999999999,
          -0.3509999999999999,
          -0.3509999999999999,
          -0.3509999999999999
         ]
        },
        {
         "hoverinfo": "none",
         "legendgroup": "bearings",
         "line": {
          "color": "#355d7a",
          "width": 1
         },
         "mode": "lines",
         "name": "Bearing 0",
         "showlegend": false,
         "type": "scatter",
         "x": [
          -0.057428571428571405,
          0.057428571428571405
         ],
         "y": [
          0.4179999999999999,
          0.4179999999999999
         ]
        },
        {
         "hoverinfo": "none",
         "legendgroup": "bearings",
         "line": {
          "color": "#355d7a",
          "width": 1
         },
         "mode": "lines",
         "name": "Bearing 0",
         "showlegend": false,
         "type": "scatter",
         "x": [
          -0.057428571428571405,
          0.057428571428571405
         ],
         "y": [
          -0.4179999999999999,
          -0.4179999999999999
         ]
        },
        {
         "hoverinfo": "none",
         "legendgroup": "bearings",
         "line": {
          "color": "#355d7a",
          "width": 1
         },
         "mode": "lines",
         "name": "Bearing 0",
         "showlegend": false,
         "type": "scatter",
         "x": [
          -0.057428571428571405,
          -0.03445714285714284
         ],
         "y": [
          0.4179999999999999,
          0.45979999999999993
         ]
        },
        {
         "hoverinfo": "none",
         "legendgroup": "bearings",
         "line": {
          "color": "#355d7a",
          "width": 1
         },
         "mode": "lines",
         "name": "Bearing 0",
         "showlegend": false,
         "type": "scatter",
         "x": [
          -0.057428571428571405,
          -0.03445714285714284
         ],
         "y": [
          -0.4179999999999999,
          -0.45979999999999993
         ]
        },
        {
         "hoverinfo": "none",
         "legendgroup": "bearings",
         "line": {
          "color": "#355d7a",
          "width": 1
         },
         "mode": "lines",
         "name": "Bearing 0",
         "showlegend": false,
         "type": "scatter",
         "x": [
          -0.03445714285714284,
          -0.01148571428571428
         ],
         "y": [
          0.4179999999999999,
          0.45979999999999993
         ]
        },
        {
         "hoverinfo": "none",
         "legendgroup": "bearings",
         "line": {
          "color": "#355d7a",
          "width": 1
         },
         "mode": "lines",
         "name": "Bearing 0",
         "showlegend": false,
         "type": "scatter",
         "x": [
          -0.03445714285714284,
          -0.01148571428571428
         ],
         "y": [
          -0.4179999999999999,
          -0.45979999999999993
         ]
        },
        {
         "hoverinfo": "none",
         "legendgroup": "bearings",
         "line": {
          "color": "#355d7a",
          "width": 1
         },
         "mode": "lines",
         "name": "Bearing 0",
         "showlegend": false,
         "type": "scatter",
         "x": [
          -0.01148571428571428,
          0.011485714285714287
         ],
         "y": [
          0.4179999999999999,
          0.45979999999999993
         ]
        },
        {
         "hoverinfo": "none",
         "legendgroup": "bearings",
         "line": {
          "color": "#355d7a",
          "width": 1
         },
         "mode": "lines",
         "name": "Bearing 0",
         "showlegend": false,
         "type": "scatter",
         "x": [
          -0.01148571428571428,
          0.011485714285714287
         ],
         "y": [
          -0.4179999999999999,
          -0.45979999999999993
         ]
        },
        {
         "hoverinfo": "none",
         "legendgroup": "bearings",
         "line": {
          "color": "#355d7a",
          "width": 1
         },
         "mode": "lines",
         "name": "Bearing 0",
         "showlegend": false,
         "type": "scatter",
         "x": [
          0.011485714285714287,
          0.034457142857142846
         ],
         "y": [
          0.4179999999999999,
          0.45979999999999993
         ]
        },
        {
         "hoverinfo": "none",
         "legendgroup": "bearings",
         "line": {
          "color": "#355d7a",
          "width": 1
         },
         "mode": "lines",
         "name": "Bearing 0",
         "showlegend": false,
         "type": "scatter",
         "x": [
          0.011485714285714287,
          0.034457142857142846
         ],
         "y": [
          -0.4179999999999999,
          -0.45979999999999993
         ]
        },
        {
         "hoverinfo": "none",
         "legendgroup": "bearings",
         "line": {
          "color": "#355d7a",
          "width": 1
         },
         "mode": "lines",
         "name": "Bearing 0",
         "showlegend": false,
         "type": "scatter",
         "x": [
          0.034457142857142846,
          0.057428571428571405
         ],
         "y": [
          0.4179999999999999,
          0.45979999999999993
         ]
        },
        {
         "hoverinfo": "none",
         "legendgroup": "bearings",
         "line": {
          "color": "#355d7a",
          "width": 1
         },
         "mode": "lines",
         "name": "Bearing 0",
         "showlegend": false,
         "type": "scatter",
         "x": [
          0.034457142857142846,
          0.057428571428571405
         ],
         "y": [
          -0.4179999999999999,
          -0.45979999999999993
         ]
        },
        {
         "hoverinfo": "none",
         "legendgroup": "bearings",
         "line": {
          "color": "#355d7a",
          "width": 1
         },
         "mode": "lines",
         "name": "Bearing 0",
         "showlegend": false,
         "type": "scatter",
         "x": [
          0.057428571428571405,
          0.08039999999999997
         ],
         "y": [
          0.4179999999999999,
          0.45979999999999993
         ]
        },
        {
         "hoverinfo": "none",
         "legendgroup": "bearings",
         "line": {
          "color": "#355d7a",
          "width": 1
         },
         "mode": "lines",
         "name": "Bearing 0",
         "showlegend": false,
         "type": "scatter",
         "x": [
          0.057428571428571405,
          0.08039999999999997
         ],
         "y": [
          -0.4179999999999999,
          -0.45979999999999993
         ]
        },
        {
         "hoverinfo": "none",
         "legendgroup": "bearings",
         "line": {
          "color": "#355d7a",
          "width": 1
         },
         "mode": "lines",
         "name": "Bearing 0",
         "showlegend": false,
         "type": "scatter",
         "x": [
          -0.03828571428571427,
          -0.03828571428571427,
          -0.057428571428571405,
          -0.019142857142857135,
          -0.057428571428571405,
          -0.019142857142857135,
          -0.057428571428571405,
          -0.019142857142857135,
          -0.03828571428571427,
          -0.03828571428571427
         ],
         "y": [
          0.21699999999999997,
          0.2361428571428571,
          0.2361428571428571,
          0.2552857142857142,
          0.27442857142857136,
          0.2935714285714285,
          0.3127142857142856,
          0.3318571428571428,
          0.3318571428571428,
          0.3509999999999999
         ]
        },
        {
         "hoverinfo": "none",
         "legendgroup": "bearings",
         "line": {
          "color": "#355d7a",
          "width": 1
         },
         "mode": "lines",
         "name": "Bearing 0",
         "showlegend": false,
         "type": "scatter",
         "x": [
          -0.03828571428571427,
          -0.03828571428571427,
          -0.057428571428571405,
          -0.019142857142857135,
          -0.057428571428571405,
          -0.019142857142857135,
          -0.057428571428571405,
          -0.019142857142857135,
          -0.03828571428571427,
          -0.03828571428571427
         ],
         "y": [
          -0.21699999999999997,
          -0.2361428571428571,
          -0.2361428571428571,
          -0.2552857142857142,
          -0.27442857142857136,
          -0.2935714285714285,
          -0.3127142857142856,
          -0.3318571428571428,
          -0.3318571428571428,
          -0.3509999999999999
         ]
        },
        {
         "hoverinfo": "none",
         "legendgroup": "bearings",
         "line": {
          "color": "#355d7a",
          "width": 1
         },
         "mode": "lines",
         "name": "Bearing 0",
         "showlegend": false,
         "type": "scatter",
         "x": [
          0.03828571428571427,
          0.03828571428571427
         ],
         "y": [
          0.21699999999999997,
          0.2552857142857142
         ]
        },
        {
         "hoverinfo": "none",
         "legendgroup": "bearings",
         "line": {
          "color": "#355d7a",
          "width": 1
         },
         "mode": "lines",
         "name": "Bearing 0",
         "showlegend": false,
         "type": "scatter",
         "x": [
          0.03828571428571427,
          0.03828571428571427
         ],
         "y": [
          -0.21699999999999997,
          -0.2552857142857142
         ]
        },
        {
         "hoverinfo": "none",
         "legendgroup": "bearings",
         "line": {
          "color": "#355d7a",
          "width": 1
         },
         "mode": "lines",
         "name": "Bearing 0",
         "showlegend": false,
         "type": "scatter",
         "x": [
          0,
          0,
          0.07657142857142854,
          0.07657142857142854
         ],
         "y": [
          0.3127142857142856,
          0.2552857142857142,
          0.2552857142857142,
          0.3127142857142856
         ]
        },
        {
         "hoverinfo": "none",
         "legendgroup": "bearings",
         "line": {
          "color": "#355d7a",
          "width": 1
         },
         "mode": "lines",
         "name": "Bearing 0",
         "showlegend": false,
         "type": "scatter",
         "x": [
          0,
          0,
          0.07657142857142854,
          0.07657142857142854
         ],
         "y": [
          -0.3127142857142856,
          -0.2552857142857142,
          -0.2552857142857142,
          -0.3127142857142856
         ]
        },
        {
         "hoverinfo": "none",
         "legendgroup": "bearings",
         "line": {
          "color": "#355d7a",
          "width": 1
         },
         "mode": "lines",
         "name": "Bearing 0",
         "showlegend": false,
         "type": "scatter",
         "x": [
          0,
          0.07657142857142854,
          0.03828571428571427,
          0.03828571428571427
         ],
         "y": [
          0.2935714285714285,
          0.2935714285714285,
          0.2935714285714285,
          0.3509999999999999
         ]
        },
        {
         "hoverinfo": "none",
         "legendgroup": "bearings",
         "line": {
          "color": "#355d7a",
          "width": 1
         },
         "mode": "lines",
         "name": "Bearing 0",
         "showlegend": false,
         "type": "scatter",
         "x": [
          0,
          0.07657142857142854,
          0.03828571428571427,
          0.03828571428571427
         ],
         "y": [
          -0.2935714285714285,
          -0.2935714285714285,
          -0.2935714285714285,
          -0.3509999999999999
         ]
        },
        {
         "hoverinfo": "none",
         "legendgroup": "bearings",
         "line": {
          "color": "#355d7a",
          "width": 1
         },
         "mode": "lines",
         "name": "Bearing 1",
         "showlegend": false,
         "type": "scatter",
         "x": [
          5.5,
          5.5,
          5.461714285714286,
          5.538285714285714
         ],
         "y": [
          0.11,
          0.177,
          0.177,
          0.177
         ]
        },
        {
         "hoverinfo": "none",
         "legendgroup": "bearings",
         "line": {
          "color": "#355d7a",
          "width": 1
         },
         "mode": "lines",
         "name": "Bearing 1",
         "showlegend": false,
         "type": "scatter",
         "x": [
          5.5,
          5.5,
          5.461714285714286,
          5.538285714285714
         ],
         "y": [
          -0.11,
          -0.177,
          -0.177,
          -0.177
         ]
        },
        {
         "hoverinfo": "none",
         "legendgroup": "bearings",
         "line": {
          "color": "#355d7a",
          "width": 1
         },
         "mode": "lines",
         "name": "Bearing 1",
         "showlegend": false,
         "type": "scatter",
         "x": [
          5.5,
          5.5,
          5.461714285714286,
          5.538285714285714
         ],
         "y": [
          0.37799999999999995,
          0.31099999999999994,
          0.31099999999999994,
          0.31099999999999994
         ]
        },
        {
         "hoverinfo": "none",
         "legendgroup": "bearings",
         "line": {
          "color": "#355d7a",
          "width": 1
         },
         "mode": "lines",
         "name": "Bearing 1",
         "showlegend": false,
         "type": "scatter",
         "x": [
          5.5,
          5.5,
          5.461714285714286,
          5.538285714285714
         ],
         "y": [
          -0.37799999999999995,
          -0.31099999999999994,
          -0.31099999999999994,
          -0.31099999999999994
         ]
        },
        {
         "hoverinfo": "none",
         "legendgroup": "bearings",
         "line": {
          "color": "#355d7a",
          "width": 1
         },
         "mode": "lines",
         "name": "Bearing 1",
         "showlegend": false,
         "type": "scatter",
         "x": [
          5.442571428571428,
          5.557428571428572
         ],
         "y": [
          0.37799999999999995,
          0.37799999999999995
         ]
        },
        {
         "hoverinfo": "none",
         "legendgroup": "bearings",
         "line": {
          "color": "#355d7a",
          "width": 1
         },
         "mode": "lines",
         "name": "Bearing 1",
         "showlegend": false,
         "type": "scatter",
         "x": [
          5.442571428571428,
          5.557428571428572
         ],
         "y": [
          -0.37799999999999995,
          -0.37799999999999995
         ]
        },
        {
         "hoverinfo": "none",
         "legendgroup": "bearings",
         "line": {
          "color": "#355d7a",
          "width": 1
         },
         "mode": "lines",
         "name": "Bearing 1",
         "showlegend": false,
         "type": "scatter",
         "x": [
          5.442571428571428,
          5.465542857142857
         ],
         "y": [
          0.37799999999999995,
          0.4158
         ]
        },
        {
         "hoverinfo": "none",
         "legendgroup": "bearings",
         "line": {
          "color": "#355d7a",
          "width": 1
         },
         "mode": "lines",
         "name": "Bearing 1",
         "showlegend": false,
         "type": "scatter",
         "x": [
          5.442571428571428,
          5.465542857142857
         ],
         "y": [
          -0.37799999999999995,
          -0.4158
         ]
        },
        {
         "hoverinfo": "none",
         "legendgroup": "bearings",
         "line": {
          "color": "#355d7a",
          "width": 1
         },
         "mode": "lines",
         "name": "Bearing 1",
         "showlegend": false,
         "type": "scatter",
         "x": [
          5.465542857142857,
          5.4885142857142855
         ],
         "y": [
          0.37799999999999995,
          0.4158
         ]
        },
        {
         "hoverinfo": "none",
         "legendgroup": "bearings",
         "line": {
          "color": "#355d7a",
          "width": 1
         },
         "mode": "lines",
         "name": "Bearing 1",
         "showlegend": false,
         "type": "scatter",
         "x": [
          5.465542857142857,
          5.4885142857142855
         ],
         "y": [
          -0.37799999999999995,
          -0.4158
         ]
        },
        {
         "hoverinfo": "none",
         "legendgroup": "bearings",
         "line": {
          "color": "#355d7a",
          "width": 1
         },
         "mode": "lines",
         "name": "Bearing 1",
         "showlegend": false,
         "type": "scatter",
         "x": [
          5.4885142857142855,
          5.5114857142857145
         ],
         "y": [
          0.37799999999999995,
          0.4158
         ]
        },
        {
         "hoverinfo": "none",
         "legendgroup": "bearings",
         "line": {
          "color": "#355d7a",
          "width": 1
         },
         "mode": "lines",
         "name": "Bearing 1",
         "showlegend": false,
         "type": "scatter",
         "x": [
          5.4885142857142855,
          5.5114857142857145
         ],
         "y": [
          -0.37799999999999995,
          -0.4158
         ]
        },
        {
         "hoverinfo": "none",
         "legendgroup": "bearings",
         "line": {
          "color": "#355d7a",
          "width": 1
         },
         "mode": "lines",
         "name": "Bearing 1",
         "showlegend": false,
         "type": "scatter",
         "x": [
          5.5114857142857145,
          5.534457142857143
         ],
         "y": [
          0.37799999999999995,
          0.4158
         ]
        },
        {
         "hoverinfo": "none",
         "legendgroup": "bearings",
         "line": {
          "color": "#355d7a",
          "width": 1
         },
         "mode": "lines",
         "name": "Bearing 1",
         "showlegend": false,
         "type": "scatter",
         "x": [
          5.5114857142857145,
          5.534457142857143
         ],
         "y": [
          -0.37799999999999995,
          -0.4158
         ]
        },
        {
         "hoverinfo": "none",
         "legendgroup": "bearings",
         "line": {
          "color": "#355d7a",
          "width": 1
         },
         "mode": "lines",
         "name": "Bearing 1",
         "showlegend": false,
         "type": "scatter",
         "x": [
          5.534457142857143,
          5.557428571428572
         ],
         "y": [
          0.37799999999999995,
          0.4158
         ]
        },
        {
         "hoverinfo": "none",
         "legendgroup": "bearings",
         "line": {
          "color": "#355d7a",
          "width": 1
         },
         "mode": "lines",
         "name": "Bearing 1",
         "showlegend": false,
         "type": "scatter",
         "x": [
          5.534457142857143,
          5.557428571428572
         ],
         "y": [
          -0.37799999999999995,
          -0.4158
         ]
        },
        {
         "hoverinfo": "none",
         "legendgroup": "bearings",
         "line": {
          "color": "#355d7a",
          "width": 1
         },
         "mode": "lines",
         "name": "Bearing 1",
         "showlegend": false,
         "type": "scatter",
         "x": [
          5.557428571428572,
          5.580400000000001
         ],
         "y": [
          0.37799999999999995,
          0.4158
         ]
        },
        {
         "hoverinfo": "none",
         "legendgroup": "bearings",
         "line": {
          "color": "#355d7a",
          "width": 1
         },
         "mode": "lines",
         "name": "Bearing 1",
         "showlegend": false,
         "type": "scatter",
         "x": [
          5.557428571428572,
          5.580400000000001
         ],
         "y": [
          -0.37799999999999995,
          -0.4158
         ]
        },
        {
         "hoverinfo": "none",
         "legendgroup": "bearings",
         "line": {
          "color": "#355d7a",
          "width": 1
         },
         "mode": "lines",
         "name": "Bearing 1",
         "showlegend": false,
         "type": "scatter",
         "x": [
          5.461714285714286,
          5.461714285714286,
          5.442571428571428,
          5.480857142857143,
          5.442571428571428,
          5.480857142857143,
          5.442571428571428,
          5.480857142857143,
          5.461714285714286,
          5.461714285714286
         ],
         "y": [
          0.177,
          0.19614285714285712,
          0.19614285714285712,
          0.21528571428571427,
          0.2344285714285714,
          0.25357142857142856,
          0.2727142857142857,
          0.2918571428571428,
          0.2918571428571428,
          0.31099999999999994
         ]
        },
        {
         "hoverinfo": "none",
         "legendgroup": "bearings",
         "line": {
          "color": "#355d7a",
          "width": 1
         },
         "mode": "lines",
         "name": "Bearing 1",
         "showlegend": false,
         "type": "scatter",
         "x": [
          5.461714285714286,
          5.461714285714286,
          5.442571428571428,
          5.480857142857143,
          5.442571428571428,
          5.480857142857143,
          5.442571428571428,
          5.480857142857143,
          5.461714285714286,
          5.461714285714286
         ],
         "y": [
          -0.177,
          -0.19614285714285712,
          -0.19614285714285712,
          -0.21528571428571427,
          -0.2344285714285714,
          -0.25357142857142856,
          -0.2727142857142857,
          -0.2918571428571428,
          -0.2918571428571428,
          -0.31099999999999994
         ]
        },
        {
         "hoverinfo": "none",
         "legendgroup": "bearings",
         "line": {
          "color": "#355d7a",
          "width": 1
         },
         "mode": "lines",
         "name": "Bearing 1",
         "showlegend": false,
         "type": "scatter",
         "x": [
          5.538285714285714,
          5.538285714285714
         ],
         "y": [
          0.177,
          0.21528571428571427
         ]
        },
        {
         "hoverinfo": "none",
         "legendgroup": "bearings",
         "line": {
          "color": "#355d7a",
          "width": 1
         },
         "mode": "lines",
         "name": "Bearing 1",
         "showlegend": false,
         "type": "scatter",
         "x": [
          5.538285714285714,
          5.538285714285714
         ],
         "y": [
          -0.177,
          -0.21528571428571427
         ]
        },
        {
         "hoverinfo": "none",
         "legendgroup": "bearings",
         "line": {
          "color": "#355d7a",
          "width": 1
         },
         "mode": "lines",
         "name": "Bearing 1",
         "showlegend": false,
         "type": "scatter",
         "x": [
          5.5,
          5.5,
          5.5765714285714285,
          5.5765714285714285
         ],
         "y": [
          0.2727142857142857,
          0.21528571428571427,
          0.21528571428571427,
          0.2727142857142857
         ]
        },
        {
         "hoverinfo": "none",
         "legendgroup": "bearings",
         "line": {
          "color": "#355d7a",
          "width": 1
         },
         "mode": "lines",
         "name": "Bearing 1",
         "showlegend": false,
         "type": "scatter",
         "x": [
          5.5,
          5.5,
          5.5765714285714285,
          5.5765714285714285
         ],
         "y": [
          -0.2727142857142857,
          -0.21528571428571427,
          -0.21528571428571427,
          -0.2727142857142857
         ]
        },
        {
         "hoverinfo": "none",
         "legendgroup": "bearings",
         "line": {
          "color": "#355d7a",
          "width": 1
         },
         "mode": "lines",
         "name": "Bearing 1",
         "showlegend": false,
         "type": "scatter",
         "x": [
          5.5,
          5.5765714285714285,
          5.538285714285714,
          5.538285714285714
         ],
         "y": [
          0.25357142857142856,
          0.25357142857142856,
          0.25357142857142856,
          0.31099999999999994
         ]
        },
        {
         "hoverinfo": "none",
         "legendgroup": "bearings",
         "line": {
          "color": "#355d7a",
          "width": 1
         },
         "mode": "lines",
         "name": "Bearing 1",
         "showlegend": false,
         "type": "scatter",
         "x": [
          5.5,
          5.5765714285714285,
          5.538285714285714,
          5.538285714285714
         ],
         "y": [
          -0.25357142857142856,
          -0.25357142857142856,
          -0.25357142857142856,
          -0.31099999999999994
         ]
        }
       ],
       "layout": {
        "shapes": [
         {
          "layer": "below",
          "line": {
           "color": "black",
           "dash": "dashdot",
           "width": 3
          },
          "opacity": 0.7,
          "type": "line",
          "x0": 0,
          "x1": 1,
          "xref": "paper",
          "y0": 0,
          "y1": 0,
          "yref": "y"
         },
         {
          "fillcolor": "Firebrick",
          "line": {
           "color": "Firebrick"
          },
          "type": "circle",
          "x0": 0.0665,
          "x1": 0.1335,
          "xref": "x",
          "y0": 0.6525,
          "y1": 0.7194999999999999,
          "yref": "y"
         },
         {
          "fillcolor": "Firebrick",
          "line": {
           "color": "Firebrick"
          },
          "type": "circle",
          "x0": 0.0665,
          "x1": 0.1335,
          "xref": "x",
          "y0": -0.7194999999999999,
          "y1": -0.6525,
          "yref": "y"
         },
         {
          "fillcolor": "Firebrick",
          "line": {
           "color": "Firebrick"
          },
          "type": "circle",
          "x0": 4.3065,
          "x1": 4.3735,
          "xref": "x",
          "y0": 0.6525,
          "y1": 0.7194999999999999,
          "yref": "y"
         },
         {
          "fillcolor": "Firebrick",
          "line": {
           "color": "Firebrick"
          },
          "type": "circle",
          "x0": 4.3065,
          "x1": 4.3735,
          "xref": "x",
          "y0": -0.7194999999999999,
          "y1": -0.6525,
          "yref": "y"
         }
        ],
        "template": {
         "data": {
          "bar": [
           {
            "error_x": {
             "color": "#2a3f5f"
            },
            "error_y": {
             "color": "#2a3f5f"
            },
            "marker": {
             "line": {
              "color": "white",
              "width": 0.5
             }
            },
            "type": "bar"
           }
          ],
          "barpolar": [
           {
            "marker": {
             "line": {
              "color": "white",
              "width": 0.5
             }
            },
            "type": "barpolar"
           }
          ],
          "carpet": [
           {
            "aaxis": {
             "endlinecolor": "#2a3f5f",
             "gridcolor": "#C8D4E3",
             "linecolor": "#C8D4E3",
             "minorgridcolor": "#C8D4E3",
             "startlinecolor": "#2a3f5f"
            },
            "baxis": {
             "endlinecolor": "#2a3f5f",
             "gridcolor": "#C8D4E3",
             "linecolor": "#C8D4E3",
             "minorgridcolor": "#C8D4E3",
             "startlinecolor": "#2a3f5f"
            },
            "type": "carpet"
           }
          ],
          "choropleth": [
           {
            "colorbar": {
             "outlinewidth": 0,
             "ticks": ""
            },
            "type": "choropleth"
           }
          ],
          "contour": [
           {
            "colorbar": {
             "outlinewidth": 0,
             "ticks": ""
            },
            "colorscale": [
             [
              0,
              "#0d0887"
             ],
             [
              0.1111111111111111,
              "#46039f"
             ],
             [
              0.2222222222222222,
              "#7201a8"
             ],
             [
              0.3333333333333333,
              "#9c179e"
             ],
             [
              0.4444444444444444,
              "#bd3786"
             ],
             [
              0.5555555555555556,
              "#d8576b"
             ],
             [
              0.6666666666666666,
              "#ed7953"
             ],
             [
              0.7777777777777778,
              "#fb9f3a"
             ],
             [
              0.8888888888888888,
              "#fdca26"
             ],
             [
              1,
              "#f0f921"
             ]
            ],
            "type": "contour"
           }
          ],
          "contourcarpet": [
           {
            "colorbar": {
             "outlinewidth": 0,
             "ticks": ""
            },
            "type": "contourcarpet"
           }
          ],
          "heatmap": [
           {
            "colorbar": {
             "outlinewidth": 0,
             "ticks": ""
            },
            "colorscale": [
             [
              0,
              "#0d0887"
             ],
             [
              0.1111111111111111,
              "#46039f"
             ],
             [
              0.2222222222222222,
              "#7201a8"
             ],
             [
              0.3333333333333333,
              "#9c179e"
             ],
             [
              0.4444444444444444,
              "#bd3786"
             ],
             [
              0.5555555555555556,
              "#d8576b"
             ],
             [
              0.6666666666666666,
              "#ed7953"
             ],
             [
              0.7777777777777778,
              "#fb9f3a"
             ],
             [
              0.8888888888888888,
              "#fdca26"
             ],
             [
              1,
              "#f0f921"
             ]
            ],
            "type": "heatmap"
           }
          ],
          "heatmapgl": [
           {
            "colorbar": {
             "outlinewidth": 0,
             "ticks": ""
            },
            "colorscale": [
             [
              0,
              "#0d0887"
             ],
             [
              0.1111111111111111,
              "#46039f"
             ],
             [
              0.2222222222222222,
              "#7201a8"
             ],
             [
              0.3333333333333333,
              "#9c179e"
             ],
             [
              0.4444444444444444,
              "#bd3786"
             ],
             [
              0.5555555555555556,
              "#d8576b"
             ],
             [
              0.6666666666666666,
              "#ed7953"
             ],
             [
              0.7777777777777778,
              "#fb9f3a"
             ],
             [
              0.8888888888888888,
              "#fdca26"
             ],
             [
              1,
              "#f0f921"
             ]
            ],
            "type": "heatmapgl"
           }
          ],
          "histogram": [
           {
            "marker": {
             "colorbar": {
              "outlinewidth": 0,
              "ticks": ""
             }
            },
            "type": "histogram"
           }
          ],
          "histogram2d": [
           {
            "colorbar": {
             "outlinewidth": 0,
             "ticks": ""
            },
            "colorscale": [
             [
              0,
              "#0d0887"
             ],
             [
              0.1111111111111111,
              "#46039f"
             ],
             [
              0.2222222222222222,
              "#7201a8"
             ],
             [
              0.3333333333333333,
              "#9c179e"
             ],
             [
              0.4444444444444444,
              "#bd3786"
             ],
             [
              0.5555555555555556,
              "#d8576b"
             ],
             [
              0.6666666666666666,
              "#ed7953"
             ],
             [
              0.7777777777777778,
              "#fb9f3a"
             ],
             [
              0.8888888888888888,
              "#fdca26"
             ],
             [
              1,
              "#f0f921"
             ]
            ],
            "type": "histogram2d"
           }
          ],
          "histogram2dcontour": [
           {
            "colorbar": {
             "outlinewidth": 0,
             "ticks": ""
            },
            "colorscale": [
             [
              0,
              "#0d0887"
             ],
             [
              0.1111111111111111,
              "#46039f"
             ],
             [
              0.2222222222222222,
              "#7201a8"
             ],
             [
              0.3333333333333333,
              "#9c179e"
             ],
             [
              0.4444444444444444,
              "#bd3786"
             ],
             [
              0.5555555555555556,
              "#d8576b"
             ],
             [
              0.6666666666666666,
              "#ed7953"
             ],
             [
              0.7777777777777778,
              "#fb9f3a"
             ],
             [
              0.8888888888888888,
              "#fdca26"
             ],
             [
              1,
              "#f0f921"
             ]
            ],
            "type": "histogram2dcontour"
           }
          ],
          "mesh3d": [
           {
            "colorbar": {
             "outlinewidth": 0,
             "ticks": ""
            },
            "type": "mesh3d"
           }
          ],
          "parcoords": [
           {
            "line": {
             "colorbar": {
              "outlinewidth": 0,
              "ticks": ""
             }
            },
            "type": "parcoords"
           }
          ],
          "pie": [
           {
            "automargin": true,
            "type": "pie"
           }
          ],
          "scatter": [
           {
            "marker": {
             "colorbar": {
              "outlinewidth": 0,
              "ticks": ""
             }
            },
            "type": "scatter"
           }
          ],
          "scatter3d": [
           {
            "line": {
             "colorbar": {
              "outlinewidth": 0,
              "ticks": ""
             }
            },
            "marker": {
             "colorbar": {
              "outlinewidth": 0,
              "ticks": ""
             },
             "size": 4
            },
            "type": "scatter3d"
           }
          ],
          "scattercarpet": [
           {
            "marker": {
             "colorbar": {
              "outlinewidth": 0,
              "ticks": ""
             }
            },
            "type": "scattercarpet"
           }
          ],
          "scattergeo": [
           {
            "marker": {
             "colorbar": {
              "outlinewidth": 0,
              "ticks": ""
             }
            },
            "type": "scattergeo"
           }
          ],
          "scattergl": [
           {
            "marker": {
             "colorbar": {
              "outlinewidth": 0,
              "ticks": ""
             }
            },
            "type": "scattergl"
           }
          ],
          "scattermapbox": [
           {
            "marker": {
             "colorbar": {
              "outlinewidth": 0,
              "ticks": ""
             }
            },
            "type": "scattermapbox"
           }
          ],
          "scatterpolar": [
           {
            "marker": {
             "colorbar": {
              "outlinewidth": 0,
              "ticks": ""
             }
            },
            "type": "scatterpolar"
           }
          ],
          "scatterpolargl": [
           {
            "marker": {
             "colorbar": {
              "outlinewidth": 0,
              "ticks": ""
             }
            },
            "type": "scatterpolargl"
           }
          ],
          "scatterternary": [
           {
            "marker": {
             "colorbar": {
              "outlinewidth": 0,
              "ticks": ""
             }
            },
            "type": "scatterternary"
           }
          ],
          "surface": [
           {
            "colorbar": {
             "outlinewidth": 0,
             "ticks": ""
            },
            "colorscale": [
             [
              0,
              "#0d0887"
             ],
             [
              0.1111111111111111,
              "#46039f"
             ],
             [
              0.2222222222222222,
              "#7201a8"
             ],
             [
              0.3333333333333333,
              "#9c179e"
             ],
             [
              0.4444444444444444,
              "#bd3786"
             ],
             [
              0.5555555555555556,
              "#d8576b"
             ],
             [
              0.6666666666666666,
              "#ed7953"
             ],
             [
              0.7777777777777778,
              "#fb9f3a"
             ],
             [
              0.8888888888888888,
              "#fdca26"
             ],
             [
              1,
              "#f0f921"
             ]
            ],
            "type": "surface"
           }
          ],
          "table": [
           {
            "cells": {
             "fill": {
              "color": "#EBF0F8"
             },
             "line": {
              "color": "white"
             }
            },
            "header": {
             "fill": {
              "color": "#C8D4E3"
             },
             "line": {
              "color": "white"
             }
            },
            "type": "table"
           }
          ]
         },
         "layout": {
          "annotationdefaults": {
           "arrowcolor": "#2a3f5f",
           "arrowhead": 0,
           "arrowwidth": 1
          },
          "coloraxis": {
           "colorbar": {
            "outlinewidth": 0,
            "ticks": ""
           }
          },
          "colorscale": {
           "diverging": [
            [
             0,
             "#8e0152"
            ],
            [
             0.1,
             "#c51b7d"
            ],
            [
             0.2,
             "#de77ae"
            ],
            [
             0.3,
             "#f1b6da"
            ],
            [
             0.4,
             "#fde0ef"
            ],
            [
             0.5,
             "#f7f7f7"
            ],
            [
             0.6,
             "#e6f5d0"
            ],
            [
             0.7,
             "#b8e186"
            ],
            [
             0.8,
             "#7fbc41"
            ],
            [
             0.9,
             "#4d9221"
            ],
            [
             1,
             "#276419"
            ]
           ],
           "sequential": [
            [
             0,
             "#0d0887"
            ],
            [
             0.1111111111111111,
             "#46039f"
            ],
            [
             0.2222222222222222,
             "#7201a8"
            ],
            [
             0.3333333333333333,
             "#9c179e"
            ],
            [
             0.4444444444444444,
             "#bd3786"
            ],
            [
             0.5555555555555556,
             "#d8576b"
            ],
            [
             0.6666666666666666,
             "#ed7953"
            ],
            [
             0.7777777777777778,
             "#fb9f3a"
            ],
            [
             0.8888888888888888,
             "#fdca26"
            ],
            [
             1,
             "#f0f921"
            ]
           ],
           "sequentialminus": [
            [
             0,
             "#0d0887"
            ],
            [
             0.1111111111111111,
             "#46039f"
            ],
            [
             0.2222222222222222,
             "#7201a8"
            ],
            [
             0.3333333333333333,
             "#9c179e"
            ],
            [
             0.4444444444444444,
             "#bd3786"
            ],
            [
             0.5555555555555556,
             "#d8576b"
            ],
            [
             0.6666666666666666,
             "#ed7953"
            ],
            [
             0.7777777777777778,
             "#fb9f3a"
            ],
            [
             0.8888888888888888,
             "#fdca26"
            ],
            [
             1,
             "#f0f921"
            ]
           ]
          },
          "colorway": [
           "#1f77b4",
           "#ff7f0e",
           "#2ca02c",
           "#d62728",
           "#9467bd",
           "#8c564b",
           "#e377c2",
           "#7f7f7f",
           "#bcbd22",
           "#17becf"
          ],
          "font": {
           "color": "#2a3f5f"
          },
          "geo": {
           "bgcolor": "white",
           "lakecolor": "white",
           "landcolor": "white",
           "showlakes": true,
           "showland": true,
           "subunitcolor": "#C8D4E3"
          },
          "hoverlabel": {
           "align": "left"
          },
          "hovermode": "closest",
          "mapbox": {
           "style": "light"
          },
          "paper_bgcolor": "white",
          "plot_bgcolor": "white",
          "polar": {
           "angularaxis": {
            "gridcolor": "#EBF0F8",
            "linecolor": "#EBF0F8",
            "ticks": ""
           },
           "bgcolor": "white",
           "radialaxis": {
            "gridcolor": "#EBF0F8",
            "linecolor": "#EBF0F8",
            "ticks": ""
           }
          },
          "scene": {
           "camera": {
            "center": {
             "x": 0,
             "y": 0,
             "z": 0
            },
            "eye": {
             "x": 2,
             "y": 2,
             "z": 2
            },
            "up": {
             "x": 0,
             "y": 0,
             "z": 1
            }
           },
           "xaxis": {
            "backgroundcolor": "white",
            "gridcolor": "#DFE8F3",
            "gridwidth": 2,
            "linecolor": "#EBF0F8",
            "showbackground": true,
            "showspikes": false,
            "ticks": "",
            "zerolinecolor": "#EBF0F8"
           },
           "yaxis": {
            "backgroundcolor": "white",
            "gridcolor": "#DFE8F3",
            "gridwidth": 2,
            "linecolor": "#EBF0F8",
            "showbackground": true,
            "showspikes": false,
            "ticks": "",
            "zerolinecolor": "#EBF0F8"
           },
           "zaxis": {
            "backgroundcolor": "white",
            "gridcolor": "#DFE8F3",
            "gridwidth": 2,
            "linecolor": "#EBF0F8",
            "showbackground": true,
            "showspikes": false,
            "ticks": "",
            "zerolinecolor": "#EBF0F8"
           }
          },
          "shapedefaults": {
           "line": {
            "color": "#2a3f5f"
           }
          },
          "ternary": {
           "aaxis": {
            "gridcolor": "#DFE8F3",
            "linecolor": "#A2B1C6",
            "ticks": ""
           },
           "baxis": {
            "gridcolor": "#DFE8F3",
            "linecolor": "#A2B1C6",
            "ticks": ""
           },
           "bgcolor": "white",
           "caxis": {
            "gridcolor": "#DFE8F3",
            "linecolor": "#A2B1C6",
            "ticks": ""
           }
          },
          "title": {
           "x": 0.05
          },
          "xaxis": {
           "automargin": true,
           "gridcolor": "#EBF0F8",
           "linecolor": "black",
           "linewidth": 2,
           "mirror": true,
           "showline": true,
           "ticks": "",
           "title": {
            "standoff": 15
           },
           "zeroline": false,
           "zerolinecolor": "#EBF0F8",
           "zerolinewidth": 2
          },
          "yaxis": {
           "automargin": true,
           "gridcolor": "#EBF0F8",
           "linecolor": "black",
           "linewidth": 2,
           "mirror": true,
           "showline": true,
           "ticks": "",
           "title": {
            "standoff": 15
           },
           "zeroline": false,
           "zerolinecolor": "#EBF0F8",
           "zerolinewidth": 2
          }
         }
        },
        "title": {
         "text": "Rotor Model"
        },
        "xaxis": {
         "mirror": true,
         "scaleanchor": "y",
         "scaleratio": 1.5,
         "showgrid": false,
         "title": {
          "text": "Axial location (m)"
         }
        },
        "yaxis": {
         "mirror": true,
         "showgrid": false,
         "title": {
          "text": "Shaft radius (m)"
         }
        }
       }
      }
     },
     "metadata": {},
     "output_type": "display_data"
    }
   ],
   "source": [
    "# Creating rotor 1\n",
    "L1 = [0.1, 4.24, 1.16, 0.3]\n",
    "d1 = [0.3, 0.3, 0.22, 0.22]\n",
    "shaft1 = [\n",
    "    rs.ShaftElement(\n",
    "        L=L1[i],\n",
    "        idl=0.0,\n",
    "        odl=d1[i],\n",
    "        material=material,\n",
    "        shear_effects=True,\n",
    "        rotary_inertia=True,\n",
    "        gyroscopic=True,\n",
    "    )\n",
    "    for i in range(len(L1))\n",
    "]\n",
    "\n",
    "generator = rs.DiskElement(\n",
    "    n=1,\n",
    "    m=525.7,\n",
    "    Id=16.1,\n",
    "    Ip=32.2,\n",
    ")\n",
    "disk = rs.DiskElement(\n",
    "    n=2,\n",
    "    m=116.04,\n",
    "    Id=3.115,\n",
    "    Ip=6.23,\n",
    ")\n",
    "\n",
    "pressure_angle = Q_(22.5, \"deg\").to_base_units().m\n",
    "base_radius = 0.5086\n",
    "pitch_diameter = 2 * base_radius / np.cos(pressure_angle)\n",
    "gear1 = rs.GearElement(\n",
    "    n=4,\n",
    "    m=726.4,\n",
    "    Id=56.95,\n",
    "    Ip=113.9,\n",
    "    pitch_diameter=pitch_diameter,\n",
    "    pressure_angle=pressure_angle,\n",
    ")\n",
    "\n",
    "bearing1 = rs.BearingElement(n=0, kxx=183.9e6, kyy=200.4e6, cxx=3e3)\n",
    "bearing2 = rs.BearingElement(n=3, kxx=183.9e6, kyy=200.4e6, cxx=3e3)\n",
    "\n",
    "rotor1 = rs.Rotor(\n",
    "    shaft1,\n",
    "    [generator, disk, gear1],\n",
    "    [bearing1, bearing2],\n",
    ")\n",
    "\n",
    "rotor1.plot_rotor()"
   ]
  },
  {
   "cell_type": "markdown",
   "metadata": {},
   "source": [
    "#### 2.1.3 Creating the driven rotor"
   ]
  },
  {
   "cell_type": "code",
   "execution_count": 5,
   "metadata": {},
   "outputs": [
    {
     "data": {
      "application/vnd.plotly.v1+json": {
       "config": {
        "plotlyServerURL": "https://plot.ly"
       },
       "data": [
        {
         "hoverinfo": "none",
         "marker": {
          "color": "#ffcc99",
          "line": {
           "color": "black",
           "width": 1
          },
          "opacity": 0.7,
          "size": 20
         },
         "mode": "markers+text",
         "showlegend": false,
         "text": [
          "0",
          "1",
          "2",
          "3"
         ],
         "type": "scatter",
         "x": [
          0,
          0.3,
          5.3,
          5.3999999999999995
         ],
         "y": [
          0,
          0,
          0,
          0
         ]
        },
        {
         "customdata": [
          [
           0,
           0.15,
           0,
           0.15,
           0,
           0.3,
           "mat_steel"
          ],
          [
           0,
           0.15,
           0,
           0.15,
           0,
           0.3,
           "mat_steel"
          ],
          [
           0,
           0.15,
           0,
           0.15,
           0,
           0.3,
           "mat_steel"
          ],
          [
           0,
           0.15,
           0,
           0.15,
           0,
           0.3,
           "mat_steel"
          ],
          [
           0,
           0.15,
           0,
           0.15,
           0,
           0.3,
           "mat_steel"
          ],
          [
           0,
           0.15,
           0,
           0.15,
           0,
           0.3,
           "mat_steel"
          ],
          [
           0,
           0.15,
           0,
           0.15,
           0,
           0.3,
           "mat_steel"
          ],
          [
           0,
           0.15,
           0,
           0.15,
           0,
           0.3,
           "mat_steel"
          ],
          [
           0,
           0.15,
           0,
           0.15,
           0,
           0.3,
           "mat_steel"
          ],
          [
           0,
           0.15,
           0,
           0.15,
           0,
           0.3,
           "mat_steel"
          ]
         ],
         "fill": "toself",
         "fillcolor": "#525252",
         "hoverinfo": "text",
         "hoverlabel": {
          "bgcolor": "#525252"
         },
         "hoveron": "points+fills",
         "hovertemplate": "Element Number: 0<br>Left Outer Diameter: 0.15 m<br>Left Inner Diameter: 0.0 m<br>Right Outer Diameter: 0.15 m<br>Right Inner Diameter: 0.0 m<br>Element Length: 0.3 m<br>Material: mat_steel<br>",
         "legendgroup": "Shaft",
         "line": {
          "color": "black",
          "width": 1.5
         },
         "mode": "lines",
         "name": "Shaft Element 0",
         "opacity": 0.5,
         "showlegend": false,
         "text": "Element Number: 0<br>Left Outer Diameter: 0.15 m<br>Left Inner Diameter: 0.0 m<br>Right Outer Diameter: 0.15 m<br>Right Inner Diameter: 0.0 m<br>Element Length: 0.3 m<br>Material: mat_steel<br>",
         "type": "scatter",
         "x": [
          0,
          0,
          0.3,
          0.3,
          0,
          0,
          0,
          0.3,
          0.3,
          0
         ],
         "y": [
          0,
          0.075,
          0.075,
          0,
          0,
          0,
          -0.075,
          -0.075,
          0,
          0
         ]
        },
        {
         "customdata": [
          [
           1,
           0.15,
           0,
           0.15,
           0,
           5,
           "mat_steel"
          ],
          [
           1,
           0.15,
           0,
           0.15,
           0,
           5,
           "mat_steel"
          ],
          [
           1,
           0.15,
           0,
           0.15,
           0,
           5,
           "mat_steel"
          ],
          [
           1,
           0.15,
           0,
           0.15,
           0,
           5,
           "mat_steel"
          ],
          [
           1,
           0.15,
           0,
           0.15,
           0,
           5,
           "mat_steel"
          ],
          [
           1,
           0.15,
           0,
           0.15,
           0,
           5,
           "mat_steel"
          ],
          [
           1,
           0.15,
           0,
           0.15,
           0,
           5,
           "mat_steel"
          ],
          [
           1,
           0.15,
           0,
           0.15,
           0,
           5,
           "mat_steel"
          ],
          [
           1,
           0.15,
           0,
           0.15,
           0,
           5,
           "mat_steel"
          ],
          [
           1,
           0.15,
           0,
           0.15,
           0,
           5,
           "mat_steel"
          ]
         ],
         "fill": "toself",
         "fillcolor": "#525252",
         "hoverinfo": "text",
         "hoverlabel": {
          "bgcolor": "#525252"
         },
         "hoveron": "points+fills",
         "hovertemplate": "Element Number: 1<br>Left Outer Diameter: 0.15 m<br>Left Inner Diameter: 0.0 m<br>Right Outer Diameter: 0.15 m<br>Right Inner Diameter: 0.0 m<br>Element Length: 5.0 m<br>Material: mat_steel<br>",
         "legendgroup": "Shaft",
         "line": {
          "color": "black",
          "width": 1.5
         },
         "mode": "lines",
         "name": "Shaft Element 1",
         "opacity": 0.5,
         "showlegend": false,
         "text": "Element Number: 1<br>Left Outer Diameter: 0.15 m<br>Left Inner Diameter: 0.0 m<br>Right Outer Diameter: 0.15 m<br>Right Inner Diameter: 0.0 m<br>Element Length: 5.0 m<br>Material: mat_steel<br>",
         "type": "scatter",
         "x": [
          0.3,
          0.3,
          5.3,
          5.3,
          0.3,
          0.3,
          0.3,
          5.3,
          5.3,
          0.3
         ],
         "y": [
          0,
          0.075,
          0.075,
          0,
          0,
          0,
          -0.075,
          -0.075,
          0,
          0
         ]
        },
        {
         "customdata": [
          [
           2,
           0.15,
           0,
           0.15,
           0,
           0.1,
           "mat_steel"
          ],
          [
           2,
           0.15,
           0,
           0.15,
           0,
           0.1,
           "mat_steel"
          ],
          [
           2,
           0.15,
           0,
           0.15,
           0,
           0.1,
           "mat_steel"
          ],
          [
           2,
           0.15,
           0,
           0.15,
           0,
           0.1,
           "mat_steel"
          ],
          [
           2,
           0.15,
           0,
           0.15,
           0,
           0.1,
           "mat_steel"
          ],
          [
           2,
           0.15,
           0,
           0.15,
           0,
           0.1,
           "mat_steel"
          ],
          [
           2,
           0.15,
           0,
           0.15,
           0,
           0.1,
           "mat_steel"
          ],
          [
           2,
           0.15,
           0,
           0.15,
           0,
           0.1,
           "mat_steel"
          ],
          [
           2,
           0.15,
           0,
           0.15,
           0,
           0.1,
           "mat_steel"
          ],
          [
           2,
           0.15,
           0,
           0.15,
           0,
           0.1,
           "mat_steel"
          ]
         ],
         "fill": "toself",
         "fillcolor": "#525252",
         "hoverinfo": "text",
         "hoverlabel": {
          "bgcolor": "#525252"
         },
         "hoveron": "points+fills",
         "hovertemplate": "Element Number: 2<br>Left Outer Diameter: 0.15 m<br>Left Inner Diameter: 0.0 m<br>Right Outer Diameter: 0.15 m<br>Right Inner Diameter: 0.0 m<br>Element Length: 0.1 m<br>Material: mat_steel<br>",
         "legendgroup": "Shaft",
         "line": {
          "color": "black",
          "width": 1.5
         },
         "mode": "lines",
         "name": "Shaft Element 2",
         "opacity": 0.5,
         "showlegend": false,
         "text": "Element Number: 2<br>Left Outer Diameter: 0.15 m<br>Left Inner Diameter: 0.0 m<br>Right Outer Diameter: 0.15 m<br>Right Inner Diameter: 0.0 m<br>Element Length: 0.1 m<br>Material: mat_steel<br>",
         "type": "scatter",
         "x": [
          5.3,
          5.3,
          5.3999999999999995,
          5.3999999999999995,
          5.3,
          5.3,
          5.3,
          5.3999999999999995,
          5.3999999999999995,
          5.3
         ],
         "y": [
          0,
          0.075,
          0.075,
          0,
          0,
          0,
          -0.075,
          -0.075,
          0,
          0
         ]
        },
        {
         "customdata": [
          [
           0,
           0.004,
           0.002,
           5,
           0.07134
          ],
          [
           0,
           0.004,
           0.002,
           5,
           0.07134
          ],
          [
           0,
           0.004,
           0.002,
           5,
           0.07134
          ],
          [
           0,
           0.004,
           0.002,
           5,
           0.07134
          ],
          [
           0,
           0.004,
           0.002,
           5,
           0.07134
          ],
          [
           0,
           0.004,
           0.002,
           5,
           0.07134
          ],
          [
           0,
           0.004,
           0.002,
           5,
           0.07134
          ],
          [
           0,
           0.004,
           0.002,
           5,
           0.07134
          ],
          [
           0,
           0.004,
           0.002,
           5,
           0.07134
          ]
         ],
         "fill": "toself",
         "fillcolor": "Goldenrod",
         "fillpattern": {
          "bgcolor": "Goldenrod",
          "fgcolor": "rgba(0, 0, 0, 0.2)",
          "shape": "/"
         },
         "hoverinfo": "text",
         "hoverlabel": {
          "bgcolor": "Goldenrod"
         },
         "hoveron": "points+fills",
         "hovertemplate": "Gear Node: 0<br>Polar Inertia: 4.000e-03<br>Diametral Inertia: 2.000e-03<br>Gear Mass: 5.000<br>Gear Base Diam.: 0.071<br>",
         "legendgroup": "gears",
         "line": {
          "color": "rgba(0, 0, 0, 0.2)",
          "width": 2
         },
         "mode": "lines",
         "name": "Gear 0",
         "opacity": 0.8,
         "showlegend": false,
         "text": "Gear Node: 0<br>Polar Inertia: 4.000e-03<br>Diametral Inertia: 2.000e-03<br>Gear Mass: 5.000<br>Gear Base Diam.: 0.071<br>",
         "type": "scatter",
         "x": [
          0.012,
          0.012,
          -0.012,
          -0.012,
          null,
          0.012,
          0.012,
          -0.012,
          -0.012
         ],
         "y": [
          0.075,
          0.16423700000000002,
          0.16423700000000002,
          0.075,
          null,
          -0.075,
          -0.16423700000000002,
          -0.16423700000000002,
          -0.075
         ]
        },
        {
         "customdata": [
          [
           2,
           0.149,
           0.0745,
           7.45
          ],
          [
           2,
           0.149,
           0.0745,
           7.45
          ],
          [
           2,
           0.149,
           0.0745,
           7.45
          ],
          [
           2,
           0.149,
           0.0745,
           7.45
          ],
          [
           2,
           0.149,
           0.0745,
           7.45
          ],
          [
           2,
           0.149,
           0.0745,
           7.45
          ],
          [
           2,
           0.149,
           0.0745,
           7.45
          ],
          [
           2,
           0.149,
           0.0745,
           7.45
          ],
          [
           2,
           0.149,
           0.0745,
           7.45
          ]
         ],
         "fill": "toself",
         "fillcolor": "Firebrick",
         "hoverinfo": "text",
         "hoverlabel": {
          "bgcolor": "Firebrick"
         },
         "hoveron": "points+fills",
         "hovertemplate": "Disk Node: 2<br>Polar Inertia: 1.490e-01<br>Diametral Inertia: 7.450e-02<br>Disk mass: 7.450<br>",
         "legendgroup": "disks",
         "line": {
          "color": "Firebrick",
          "width": 2
         },
         "mode": "lines",
         "name": "Disk 1",
         "opacity": 0.8,
         "showlegend": false,
         "text": "Disk Node: 2<br>Polar Inertia: 1.490e-01<br>Diametral Inertia: 7.450e-02<br>Disk mass: 7.450<br>",
         "type": "scatter",
         "x": [
          5.3,
          5.306,
          5.294,
          5.3,
          null,
          5.3,
          5.306,
          5.294,
          5.3
         ],
         "y": [
          0.075,
          0.375,
          0.375,
          0.075,
          null,
          -0.075,
          -0.375,
          -0.375,
          -0.075
         ]
        },
        {
         "hoverinfo": "none",
         "legendgroup": "bearings",
         "line": {
          "color": "#355d7a",
          "width": 1
         },
         "mode": "lines",
         "name": "Bearing 0",
         "showlegend": false,
         "type": "scatter",
         "x": [
          0.3,
          0.3,
          0.2785714285714286,
          0.3214285714285714
         ],
         "y": [
          0.075,
          0.11249999999999999,
          0.11249999999999999,
          0.11249999999999999
         ]
        },
        {
         "hoverinfo": "none",
         "legendgroup": "bearings",
         "line": {
          "color": "#355d7a",
          "width": 1
         },
         "mode": "lines",
         "name": "Bearing 0",
         "showlegend": false,
         "type": "scatter",
         "x": [
          0.3,
          0.3,
          0.2785714285714286,
          0.3214285714285714
         ],
         "y": [
          -0.075,
          -0.11249999999999999,
          -0.11249999999999999,
          -0.11249999999999999
         ]
        },
        {
         "hoverinfo": "none",
         "legendgroup": "bearings",
         "line": {
          "color": "#355d7a",
          "width": 1
         },
         "mode": "lines",
         "name": "Bearing 0",
         "showlegend": false,
         "type": "scatter",
         "x": [
          0.3,
          0.3,
          0.2785714285714286,
          0.3214285714285714
         ],
         "y": [
          0.22499999999999998,
          0.18749999999999997,
          0.18749999999999997,
          0.18749999999999997
         ]
        },
        {
         "hoverinfo": "none",
         "legendgroup": "bearings",
         "line": {
          "color": "#355d7a",
          "width": 1
         },
         "mode": "lines",
         "name": "Bearing 0",
         "showlegend": false,
         "type": "scatter",
         "x": [
          0.3,
          0.3,
          0.2785714285714286,
          0.3214285714285714
         ],
         "y": [
          -0.22499999999999998,
          -0.18749999999999997,
          -0.18749999999999997,
          -0.18749999999999997
         ]
        },
        {
         "hoverinfo": "none",
         "legendgroup": "bearings",
         "line": {
          "color": "#355d7a",
          "width": 1
         },
         "mode": "lines",
         "name": "Bearing 0",
         "showlegend": false,
         "type": "scatter",
         "x": [
          0.26785714285714285,
          0.33214285714285713
         ],
         "y": [
          0.22499999999999998,
          0.22499999999999998
         ]
        },
        {
         "hoverinfo": "none",
         "legendgroup": "bearings",
         "line": {
          "color": "#355d7a",
          "width": 1
         },
         "mode": "lines",
         "name": "Bearing 0",
         "showlegend": false,
         "type": "scatter",
         "x": [
          0.26785714285714285,
          0.33214285714285713
         ],
         "y": [
          -0.22499999999999998,
          -0.22499999999999998
         ]
        },
        {
         "hoverinfo": "none",
         "legendgroup": "bearings",
         "line": {
          "color": "#355d7a",
          "width": 1
         },
         "mode": "lines",
         "name": "Bearing 0",
         "showlegend": false,
         "type": "scatter",
         "x": [
          0.26785714285714285,
          0.2807142857142857
         ],
         "y": [
          0.22499999999999998,
          0.2475
         ]
        },
        {
         "hoverinfo": "none",
         "legendgroup": "bearings",
         "line": {
          "color": "#355d7a",
          "width": 1
         },
         "mode": "lines",
         "name": "Bearing 0",
         "showlegend": false,
         "type": "scatter",
         "x": [
          0.26785714285714285,
          0.2807142857142857
         ],
         "y": [
          -0.22499999999999998,
          -0.2475
         ]
        },
        {
         "hoverinfo": "none",
         "legendgroup": "bearings",
         "line": {
          "color": "#355d7a",
          "width": 1
         },
         "mode": "lines",
         "name": "Bearing 0",
         "showlegend": false,
         "type": "scatter",
         "x": [
          0.2807142857142857,
          0.29357142857142854
         ],
         "y": [
          0.22499999999999998,
          0.2475
         ]
        },
        {
         "hoverinfo": "none",
         "legendgroup": "bearings",
         "line": {
          "color": "#355d7a",
          "width": 1
         },
         "mode": "lines",
         "name": "Bearing 0",
         "showlegend": false,
         "type": "scatter",
         "x": [
          0.2807142857142857,
          0.29357142857142854
         ],
         "y": [
          -0.22499999999999998,
          -0.2475
         ]
        },
        {
         "hoverinfo": "none",
         "legendgroup": "bearings",
         "line": {
          "color": "#355d7a",
          "width": 1
         },
         "mode": "lines",
         "name": "Bearing 0",
         "showlegend": false,
         "type": "scatter",
         "x": [
          0.29357142857142854,
          0.3064285714285714
         ],
         "y": [
          0.22499999999999998,
          0.2475
         ]
        },
        {
         "hoverinfo": "none",
         "legendgroup": "bearings",
         "line": {
          "color": "#355d7a",
          "width": 1
         },
         "mode": "lines",
         "name": "Bearing 0",
         "showlegend": false,
         "type": "scatter",
         "x": [
          0.29357142857142854,
          0.3064285714285714
         ],
         "y": [
          -0.22499999999999998,
          -0.2475
         ]
        },
        {
         "hoverinfo": "none",
         "legendgroup": "bearings",
         "line": {
          "color": "#355d7a",
          "width": 1
         },
         "mode": "lines",
         "name": "Bearing 0",
         "showlegend": false,
         "type": "scatter",
         "x": [
          0.3064285714285714,
          0.3192857142857143
         ],
         "y": [
          0.22499999999999998,
          0.2475
         ]
        },
        {
         "hoverinfo": "none",
         "legendgroup": "bearings",
         "line": {
          "color": "#355d7a",
          "width": 1
         },
         "mode": "lines",
         "name": "Bearing 0",
         "showlegend": false,
         "type": "scatter",
         "x": [
          0.3064285714285714,
          0.3192857142857143
         ],
         "y": [
          -0.22499999999999998,
          -0.2475
         ]
        },
        {
         "hoverinfo": "none",
         "legendgroup": "bearings",
         "line": {
          "color": "#355d7a",
          "width": 1
         },
         "mode": "lines",
         "name": "Bearing 0",
         "showlegend": false,
         "type": "scatter",
         "x": [
          0.3192857142857143,
          0.33214285714285713
         ],
         "y": [
          0.22499999999999998,
          0.2475
         ]
        },
        {
         "hoverinfo": "none",
         "legendgroup": "bearings",
         "line": {
          "color": "#355d7a",
          "width": 1
         },
         "mode": "lines",
         "name": "Bearing 0",
         "showlegend": false,
         "type": "scatter",
         "x": [
          0.3192857142857143,
          0.33214285714285713
         ],
         "y": [
          -0.22499999999999998,
          -0.2475
         ]
        },
        {
         "hoverinfo": "none",
         "legendgroup": "bearings",
         "line": {
          "color": "#355d7a",
          "width": 1
         },
         "mode": "lines",
         "name": "Bearing 0",
         "showlegend": false,
         "type": "scatter",
         "x": [
          0.33214285714285713,
          0.345
         ],
         "y": [
          0.22499999999999998,
          0.2475
         ]
        },
        {
         "hoverinfo": "none",
         "legendgroup": "bearings",
         "line": {
          "color": "#355d7a",
          "width": 1
         },
         "mode": "lines",
         "name": "Bearing 0",
         "showlegend": false,
         "type": "scatter",
         "x": [
          0.33214285714285713,
          0.345
         ],
         "y": [
          -0.22499999999999998,
          -0.2475
         ]
        },
        {
         "hoverinfo": "none",
         "legendgroup": "bearings",
         "line": {
          "color": "#355d7a",
          "width": 1
         },
         "mode": "lines",
         "name": "Bearing 0",
         "showlegend": false,
         "type": "scatter",
         "x": [
          0.2785714285714286,
          0.2785714285714286,
          0.26785714285714285,
          0.2892857142857143,
          0.26785714285714285,
          0.2892857142857143,
          0.26785714285714285,
          0.2892857142857143,
          0.2785714285714286,
          0.2785714285714286
         ],
         "y": [
          0.11249999999999999,
          0.1232142857142857,
          0.1232142857142857,
          0.13392857142857142,
          0.14464285714285713,
          0.15535714285714283,
          0.16607142857142854,
          0.17678571428571427,
          0.17678571428571427,
          0.18749999999999997
         ]
        },
        {
         "hoverinfo": "none",
         "legendgroup": "bearings",
         "line": {
          "color": "#355d7a",
          "width": 1
         },
         "mode": "lines",
         "name": "Bearing 0",
         "showlegend": false,
         "type": "scatter",
         "x": [
          0.2785714285714286,
          0.2785714285714286,
          0.26785714285714285,
          0.2892857142857143,
          0.26785714285714285,
          0.2892857142857143,
          0.26785714285714285,
          0.2892857142857143,
          0.2785714285714286,
          0.2785714285714286
         ],
         "y": [
          -0.11249999999999999,
          -0.1232142857142857,
          -0.1232142857142857,
          -0.13392857142857142,
          -0.14464285714285713,
          -0.15535714285714283,
          -0.16607142857142854,
          -0.17678571428571427,
          -0.17678571428571427,
          -0.18749999999999997
         ]
        },
        {
         "hoverinfo": "none",
         "legendgroup": "bearings",
         "line": {
          "color": "#355d7a",
          "width": 1
         },
         "mode": "lines",
         "name": "Bearing 0",
         "showlegend": false,
         "type": "scatter",
         "x": [
          0.3214285714285714,
          0.3214285714285714
         ],
         "y": [
          0.11249999999999999,
          0.13392857142857142
         ]
        },
        {
         "hoverinfo": "none",
         "legendgroup": "bearings",
         "line": {
          "color": "#355d7a",
          "width": 1
         },
         "mode": "lines",
         "name": "Bearing 0",
         "showlegend": false,
         "type": "scatter",
         "x": [
          0.3214285714285714,
          0.3214285714285714
         ],
         "y": [
          -0.11249999999999999,
          -0.13392857142857142
         ]
        },
        {
         "hoverinfo": "none",
         "legendgroup": "bearings",
         "line": {
          "color": "#355d7a",
          "width": 1
         },
         "mode": "lines",
         "name": "Bearing 0",
         "showlegend": false,
         "type": "scatter",
         "x": [
          0.3,
          0.3,
          0.3428571428571428,
          0.3428571428571428
         ],
         "y": [
          0.16607142857142854,
          0.13392857142857142,
          0.13392857142857142,
          0.16607142857142854
         ]
        },
        {
         "hoverinfo": "none",
         "legendgroup": "bearings",
         "line": {
          "color": "#355d7a",
          "width": 1
         },
         "mode": "lines",
         "name": "Bearing 0",
         "showlegend": false,
         "type": "scatter",
         "x": [
          0.3,
          0.3,
          0.3428571428571428,
          0.3428571428571428
         ],
         "y": [
          -0.16607142857142854,
          -0.13392857142857142,
          -0.13392857142857142,
          -0.16607142857142854
         ]
        },
        {
         "hoverinfo": "none",
         "legendgroup": "bearings",
         "line": {
          "color": "#355d7a",
          "width": 1
         },
         "mode": "lines",
         "name": "Bearing 0",
         "showlegend": false,
         "type": "scatter",
         "x": [
          0.3,
          0.3428571428571428,
          0.3214285714285714,
          0.3214285714285714
         ],
         "y": [
          0.15535714285714283,
          0.15535714285714283,
          0.15535714285714283,
          0.18749999999999997
         ]
        },
        {
         "hoverinfo": "none",
         "legendgroup": "bearings",
         "line": {
          "color": "#355d7a",
          "width": 1
         },
         "mode": "lines",
         "name": "Bearing 0",
         "showlegend": false,
         "type": "scatter",
         "x": [
          0.3,
          0.3428571428571428,
          0.3214285714285714,
          0.3214285714285714
         ],
         "y": [
          -0.15535714285714283,
          -0.15535714285714283,
          -0.15535714285714283,
          -0.18749999999999997
         ]
        },
        {
         "hoverinfo": "none",
         "legendgroup": "bearings",
         "line": {
          "color": "#355d7a",
          "width": 1
         },
         "mode": "lines",
         "name": "Bearing 1",
         "showlegend": false,
         "type": "scatter",
         "x": [
          5.3999999999999995,
          5.3999999999999995,
          5.378571428571428,
          5.421428571428571
         ],
         "y": [
          0.075,
          0.11249999999999999,
          0.11249999999999999,
          0.11249999999999999
         ]
        },
        {
         "hoverinfo": "none",
         "legendgroup": "bearings",
         "line": {
          "color": "#355d7a",
          "width": 1
         },
         "mode": "lines",
         "name": "Bearing 1",
         "showlegend": false,
         "type": "scatter",
         "x": [
          5.3999999999999995,
          5.3999999999999995,
          5.378571428571428,
          5.421428571428571
         ],
         "y": [
          -0.075,
          -0.11249999999999999,
          -0.11249999999999999,
          -0.11249999999999999
         ]
        },
        {
         "hoverinfo": "none",
         "legendgroup": "bearings",
         "line": {
          "color": "#355d7a",
          "width": 1
         },
         "mode": "lines",
         "name": "Bearing 1",
         "showlegend": false,
         "type": "scatter",
         "x": [
          5.3999999999999995,
          5.3999999999999995,
          5.378571428571428,
          5.421428571428571
         ],
         "y": [
          0.22499999999999998,
          0.18749999999999997,
          0.18749999999999997,
          0.18749999999999997
         ]
        },
        {
         "hoverinfo": "none",
         "legendgroup": "bearings",
         "line": {
          "color": "#355d7a",
          "width": 1
         },
         "mode": "lines",
         "name": "Bearing 1",
         "showlegend": false,
         "type": "scatter",
         "x": [
          5.3999999999999995,
          5.3999999999999995,
          5.378571428571428,
          5.421428571428571
         ],
         "y": [
          -0.22499999999999998,
          -0.18749999999999997,
          -0.18749999999999997,
          -0.18749999999999997
         ]
        },
        {
         "hoverinfo": "none",
         "legendgroup": "bearings",
         "line": {
          "color": "#355d7a",
          "width": 1
         },
         "mode": "lines",
         "name": "Bearing 1",
         "showlegend": false,
         "type": "scatter",
         "x": [
          5.367857142857142,
          5.432142857142857
         ],
         "y": [
          0.22499999999999998,
          0.22499999999999998
         ]
        },
        {
         "hoverinfo": "none",
         "legendgroup": "bearings",
         "line": {
          "color": "#355d7a",
          "width": 1
         },
         "mode": "lines",
         "name": "Bearing 1",
         "showlegend": false,
         "type": "scatter",
         "x": [
          5.367857142857142,
          5.432142857142857
         ],
         "y": [
          -0.22499999999999998,
          -0.22499999999999998
         ]
        },
        {
         "hoverinfo": "none",
         "legendgroup": "bearings",
         "line": {
          "color": "#355d7a",
          "width": 1
         },
         "mode": "lines",
         "name": "Bearing 1",
         "showlegend": false,
         "type": "scatter",
         "x": [
          5.367857142857142,
          5.380714285714285
         ],
         "y": [
          0.22499999999999998,
          0.2475
         ]
        },
        {
         "hoverinfo": "none",
         "legendgroup": "bearings",
         "line": {
          "color": "#355d7a",
          "width": 1
         },
         "mode": "lines",
         "name": "Bearing 1",
         "showlegend": false,
         "type": "scatter",
         "x": [
          5.367857142857142,
          5.380714285714285
         ],
         "y": [
          -0.22499999999999998,
          -0.2475
         ]
        },
        {
         "hoverinfo": "none",
         "legendgroup": "bearings",
         "line": {
          "color": "#355d7a",
          "width": 1
         },
         "mode": "lines",
         "name": "Bearing 1",
         "showlegend": false,
         "type": "scatter",
         "x": [
          5.380714285714285,
          5.393571428571428
         ],
         "y": [
          0.22499999999999998,
          0.2475
         ]
        },
        {
         "hoverinfo": "none",
         "legendgroup": "bearings",
         "line": {
          "color": "#355d7a",
          "width": 1
         },
         "mode": "lines",
         "name": "Bearing 1",
         "showlegend": false,
         "type": "scatter",
         "x": [
          5.380714285714285,
          5.393571428571428
         ],
         "y": [
          -0.22499999999999998,
          -0.2475
         ]
        },
        {
         "hoverinfo": "none",
         "legendgroup": "bearings",
         "line": {
          "color": "#355d7a",
          "width": 1
         },
         "mode": "lines",
         "name": "Bearing 1",
         "showlegend": false,
         "type": "scatter",
         "x": [
          5.393571428571428,
          5.406428571428571
         ],
         "y": [
          0.22499999999999998,
          0.2475
         ]
        },
        {
         "hoverinfo": "none",
         "legendgroup": "bearings",
         "line": {
          "color": "#355d7a",
          "width": 1
         },
         "mode": "lines",
         "name": "Bearing 1",
         "showlegend": false,
         "type": "scatter",
         "x": [
          5.393571428571428,
          5.406428571428571
         ],
         "y": [
          -0.22499999999999998,
          -0.2475
         ]
        },
        {
         "hoverinfo": "none",
         "legendgroup": "bearings",
         "line": {
          "color": "#355d7a",
          "width": 1
         },
         "mode": "lines",
         "name": "Bearing 1",
         "showlegend": false,
         "type": "scatter",
         "x": [
          5.406428571428571,
          5.419285714285714
         ],
         "y": [
          0.22499999999999998,
          0.2475
         ]
        },
        {
         "hoverinfo": "none",
         "legendgroup": "bearings",
         "line": {
          "color": "#355d7a",
          "width": 1
         },
         "mode": "lines",
         "name": "Bearing 1",
         "showlegend": false,
         "type": "scatter",
         "x": [
          5.406428571428571,
          5.419285714285714
         ],
         "y": [
          -0.22499999999999998,
          -0.2475
         ]
        },
        {
         "hoverinfo": "none",
         "legendgroup": "bearings",
         "line": {
          "color": "#355d7a",
          "width": 1
         },
         "mode": "lines",
         "name": "Bearing 1",
         "showlegend": false,
         "type": "scatter",
         "x": [
          5.419285714285714,
          5.432142857142857
         ],
         "y": [
          0.22499999999999998,
          0.2475
         ]
        },
        {
         "hoverinfo": "none",
         "legendgroup": "bearings",
         "line": {
          "color": "#355d7a",
          "width": 1
         },
         "mode": "lines",
         "name": "Bearing 1",
         "showlegend": false,
         "type": "scatter",
         "x": [
          5.419285714285714,
          5.432142857142857
         ],
         "y": [
          -0.22499999999999998,
          -0.2475
         ]
        },
        {
         "hoverinfo": "none",
         "legendgroup": "bearings",
         "line": {
          "color": "#355d7a",
          "width": 1
         },
         "mode": "lines",
         "name": "Bearing 1",
         "showlegend": false,
         "type": "scatter",
         "x": [
          5.432142857142857,
          5.445
         ],
         "y": [
          0.22499999999999998,
          0.2475
         ]
        },
        {
         "hoverinfo": "none",
         "legendgroup": "bearings",
         "line": {
          "color": "#355d7a",
          "width": 1
         },
         "mode": "lines",
         "name": "Bearing 1",
         "showlegend": false,
         "type": "scatter",
         "x": [
          5.432142857142857,
          5.445
         ],
         "y": [
          -0.22499999999999998,
          -0.2475
         ]
        },
        {
         "hoverinfo": "none",
         "legendgroup": "bearings",
         "line": {
          "color": "#355d7a",
          "width": 1
         },
         "mode": "lines",
         "name": "Bearing 1",
         "showlegend": false,
         "type": "scatter",
         "x": [
          5.378571428571428,
          5.378571428571428,
          5.367857142857142,
          5.389285714285714,
          5.367857142857142,
          5.389285714285714,
          5.367857142857142,
          5.389285714285714,
          5.378571428571428,
          5.378571428571428
         ],
         "y": [
          0.11249999999999999,
          0.1232142857142857,
          0.1232142857142857,
          0.13392857142857142,
          0.14464285714285713,
          0.15535714285714283,
          0.16607142857142854,
          0.17678571428571427,
          0.17678571428571427,
          0.18749999999999997
         ]
        },
        {
         "hoverinfo": "none",
         "legendgroup": "bearings",
         "line": {
          "color": "#355d7a",
          "width": 1
         },
         "mode": "lines",
         "name": "Bearing 1",
         "showlegend": false,
         "type": "scatter",
         "x": [
          5.378571428571428,
          5.378571428571428,
          5.367857142857142,
          5.389285714285714,
          5.367857142857142,
          5.389285714285714,
          5.367857142857142,
          5.389285714285714,
          5.378571428571428,
          5.378571428571428
         ],
         "y": [
          -0.11249999999999999,
          -0.1232142857142857,
          -0.1232142857142857,
          -0.13392857142857142,
          -0.14464285714285713,
          -0.15535714285714283,
          -0.16607142857142854,
          -0.17678571428571427,
          -0.17678571428571427,
          -0.18749999999999997
         ]
        },
        {
         "hoverinfo": "none",
         "legendgroup": "bearings",
         "line": {
          "color": "#355d7a",
          "width": 1
         },
         "mode": "lines",
         "name": "Bearing 1",
         "showlegend": false,
         "type": "scatter",
         "x": [
          5.421428571428571,
          5.421428571428571
         ],
         "y": [
          0.11249999999999999,
          0.13392857142857142
         ]
        },
        {
         "hoverinfo": "none",
         "legendgroup": "bearings",
         "line": {
          "color": "#355d7a",
          "width": 1
         },
         "mode": "lines",
         "name": "Bearing 1",
         "showlegend": false,
         "type": "scatter",
         "x": [
          5.421428571428571,
          5.421428571428571
         ],
         "y": [
          -0.11249999999999999,
          -0.13392857142857142
         ]
        },
        {
         "hoverinfo": "none",
         "legendgroup": "bearings",
         "line": {
          "color": "#355d7a",
          "width": 1
         },
         "mode": "lines",
         "name": "Bearing 1",
         "showlegend": false,
         "type": "scatter",
         "x": [
          5.3999999999999995,
          5.3999999999999995,
          5.442857142857142,
          5.442857142857142
         ],
         "y": [
          0.16607142857142854,
          0.13392857142857142,
          0.13392857142857142,
          0.16607142857142854
         ]
        },
        {
         "hoverinfo": "none",
         "legendgroup": "bearings",
         "line": {
          "color": "#355d7a",
          "width": 1
         },
         "mode": "lines",
         "name": "Bearing 1",
         "showlegend": false,
         "type": "scatter",
         "x": [
          5.3999999999999995,
          5.3999999999999995,
          5.442857142857142,
          5.442857142857142
         ],
         "y": [
          -0.16607142857142854,
          -0.13392857142857142,
          -0.13392857142857142,
          -0.16607142857142854
         ]
        },
        {
         "hoverinfo": "none",
         "legendgroup": "bearings",
         "line": {
          "color": "#355d7a",
          "width": 1
         },
         "mode": "lines",
         "name": "Bearing 1",
         "showlegend": false,
         "type": "scatter",
         "x": [
          5.3999999999999995,
          5.442857142857142,
          5.421428571428571,
          5.421428571428571
         ],
         "y": [
          0.15535714285714283,
          0.15535714285714283,
          0.15535714285714283,
          0.18749999999999997
         ]
        },
        {
         "hoverinfo": "none",
         "legendgroup": "bearings",
         "line": {
          "color": "#355d7a",
          "width": 1
         },
         "mode": "lines",
         "name": "Bearing 1",
         "showlegend": false,
         "type": "scatter",
         "x": [
          5.3999999999999995,
          5.442857142857142,
          5.421428571428571,
          5.421428571428571
         ],
         "y": [
          -0.15535714285714283,
          -0.15535714285714283,
          -0.15535714285714283,
          -0.18749999999999997
         ]
        }
       ],
       "layout": {
        "shapes": [
         {
          "layer": "below",
          "line": {
           "color": "black",
           "dash": "dashdot",
           "width": 3
          },
          "opacity": 0.7,
          "type": "line",
          "x0": 0,
          "x1": 1,
          "xref": "paper",
          "y0": 0,
          "y1": 0,
          "yref": "y"
         },
         {
          "fillcolor": "Firebrick",
          "line": {
           "color": "Firebrick"
          },
          "type": "circle",
          "x0": 5.28125,
          "x1": 5.31875,
          "xref": "x",
          "y0": 0.35625,
          "y1": 0.39375,
          "yref": "y"
         },
         {
          "fillcolor": "Firebrick",
          "line": {
           "color": "Firebrick"
          },
          "type": "circle",
          "x0": 5.28125,
          "x1": 5.31875,
          "xref": "x",
          "y0": -0.39375,
          "y1": -0.35625,
          "yref": "y"
         }
        ],
        "template": {
         "data": {
          "bar": [
           {
            "error_x": {
             "color": "#2a3f5f"
            },
            "error_y": {
             "color": "#2a3f5f"
            },
            "marker": {
             "line": {
              "color": "white",
              "width": 0.5
             }
            },
            "type": "bar"
           }
          ],
          "barpolar": [
           {
            "marker": {
             "line": {
              "color": "white",
              "width": 0.5
             }
            },
            "type": "barpolar"
           }
          ],
          "carpet": [
           {
            "aaxis": {
             "endlinecolor": "#2a3f5f",
             "gridcolor": "#C8D4E3",
             "linecolor": "#C8D4E3",
             "minorgridcolor": "#C8D4E3",
             "startlinecolor": "#2a3f5f"
            },
            "baxis": {
             "endlinecolor": "#2a3f5f",
             "gridcolor": "#C8D4E3",
             "linecolor": "#C8D4E3",
             "minorgridcolor": "#C8D4E3",
             "startlinecolor": "#2a3f5f"
            },
            "type": "carpet"
           }
          ],
          "choropleth": [
           {
            "colorbar": {
             "outlinewidth": 0,
             "ticks": ""
            },
            "type": "choropleth"
           }
          ],
          "contour": [
           {
            "colorbar": {
             "outlinewidth": 0,
             "ticks": ""
            },
            "colorscale": [
             [
              0,
              "#0d0887"
             ],
             [
              0.1111111111111111,
              "#46039f"
             ],
             [
              0.2222222222222222,
              "#7201a8"
             ],
             [
              0.3333333333333333,
              "#9c179e"
             ],
             [
              0.4444444444444444,
              "#bd3786"
             ],
             [
              0.5555555555555556,
              "#d8576b"
             ],
             [
              0.6666666666666666,
              "#ed7953"
             ],
             [
              0.7777777777777778,
              "#fb9f3a"
             ],
             [
              0.8888888888888888,
              "#fdca26"
             ],
             [
              1,
              "#f0f921"
             ]
            ],
            "type": "contour"
           }
          ],
          "contourcarpet": [
           {
            "colorbar": {
             "outlinewidth": 0,
             "ticks": ""
            },
            "type": "contourcarpet"
           }
          ],
          "heatmap": [
           {
            "colorbar": {
             "outlinewidth": 0,
             "ticks": ""
            },
            "colorscale": [
             [
              0,
              "#0d0887"
             ],
             [
              0.1111111111111111,
              "#46039f"
             ],
             [
              0.2222222222222222,
              "#7201a8"
             ],
             [
              0.3333333333333333,
              "#9c179e"
             ],
             [
              0.4444444444444444,
              "#bd3786"
             ],
             [
              0.5555555555555556,
              "#d8576b"
             ],
             [
              0.6666666666666666,
              "#ed7953"
             ],
             [
              0.7777777777777778,
              "#fb9f3a"
             ],
             [
              0.8888888888888888,
              "#fdca26"
             ],
             [
              1,
              "#f0f921"
             ]
            ],
            "type": "heatmap"
           }
          ],
          "heatmapgl": [
           {
            "colorbar": {
             "outlinewidth": 0,
             "ticks": ""
            },
            "colorscale": [
             [
              0,
              "#0d0887"
             ],
             [
              0.1111111111111111,
              "#46039f"
             ],
             [
              0.2222222222222222,
              "#7201a8"
             ],
             [
              0.3333333333333333,
              "#9c179e"
             ],
             [
              0.4444444444444444,
              "#bd3786"
             ],
             [
              0.5555555555555556,
              "#d8576b"
             ],
             [
              0.6666666666666666,
              "#ed7953"
             ],
             [
              0.7777777777777778,
              "#fb9f3a"
             ],
             [
              0.8888888888888888,
              "#fdca26"
             ],
             [
              1,
              "#f0f921"
             ]
            ],
            "type": "heatmapgl"
           }
          ],
          "histogram": [
           {
            "marker": {
             "colorbar": {
              "outlinewidth": 0,
              "ticks": ""
             }
            },
            "type": "histogram"
           }
          ],
          "histogram2d": [
           {
            "colorbar": {
             "outlinewidth": 0,
             "ticks": ""
            },
            "colorscale": [
             [
              0,
              "#0d0887"
             ],
             [
              0.1111111111111111,
              "#46039f"
             ],
             [
              0.2222222222222222,
              "#7201a8"
             ],
             [
              0.3333333333333333,
              "#9c179e"
             ],
             [
              0.4444444444444444,
              "#bd3786"
             ],
             [
              0.5555555555555556,
              "#d8576b"
             ],
             [
              0.6666666666666666,
              "#ed7953"
             ],
             [
              0.7777777777777778,
              "#fb9f3a"
             ],
             [
              0.8888888888888888,
              "#fdca26"
             ],
             [
              1,
              "#f0f921"
             ]
            ],
            "type": "histogram2d"
           }
          ],
          "histogram2dcontour": [
           {
            "colorbar": {
             "outlinewidth": 0,
             "ticks": ""
            },
            "colorscale": [
             [
              0,
              "#0d0887"
             ],
             [
              0.1111111111111111,
              "#46039f"
             ],
             [
              0.2222222222222222,
              "#7201a8"
             ],
             [
              0.3333333333333333,
              "#9c179e"
             ],
             [
              0.4444444444444444,
              "#bd3786"
             ],
             [
              0.5555555555555556,
              "#d8576b"
             ],
             [
              0.6666666666666666,
              "#ed7953"
             ],
             [
              0.7777777777777778,
              "#fb9f3a"
             ],
             [
              0.8888888888888888,
              "#fdca26"
             ],
             [
              1,
              "#f0f921"
             ]
            ],
            "type": "histogram2dcontour"
           }
          ],
          "mesh3d": [
           {
            "colorbar": {
             "outlinewidth": 0,
             "ticks": ""
            },
            "type": "mesh3d"
           }
          ],
          "parcoords": [
           {
            "line": {
             "colorbar": {
              "outlinewidth": 0,
              "ticks": ""
             }
            },
            "type": "parcoords"
           }
          ],
          "pie": [
           {
            "automargin": true,
            "type": "pie"
           }
          ],
          "scatter": [
           {
            "marker": {
             "colorbar": {
              "outlinewidth": 0,
              "ticks": ""
             }
            },
            "type": "scatter"
           }
          ],
          "scatter3d": [
           {
            "line": {
             "colorbar": {
              "outlinewidth": 0,
              "ticks": ""
             }
            },
            "marker": {
             "colorbar": {
              "outlinewidth": 0,
              "ticks": ""
             },
             "size": 4
            },
            "type": "scatter3d"
           }
          ],
          "scattercarpet": [
           {
            "marker": {
             "colorbar": {
              "outlinewidth": 0,
              "ticks": ""
             }
            },
            "type": "scattercarpet"
           }
          ],
          "scattergeo": [
           {
            "marker": {
             "colorbar": {
              "outlinewidth": 0,
              "ticks": ""
             }
            },
            "type": "scattergeo"
           }
          ],
          "scattergl": [
           {
            "marker": {
             "colorbar": {
              "outlinewidth": 0,
              "ticks": ""
             }
            },
            "type": "scattergl"
           }
          ],
          "scattermapbox": [
           {
            "marker": {
             "colorbar": {
              "outlinewidth": 0,
              "ticks": ""
             }
            },
            "type": "scattermapbox"
           }
          ],
          "scatterpolar": [
           {
            "marker": {
             "colorbar": {
              "outlinewidth": 0,
              "ticks": ""
             }
            },
            "type": "scatterpolar"
           }
          ],
          "scatterpolargl": [
           {
            "marker": {
             "colorbar": {
              "outlinewidth": 0,
              "ticks": ""
             }
            },
            "type": "scatterpolargl"
           }
          ],
          "scatterternary": [
           {
            "marker": {
             "colorbar": {
              "outlinewidth": 0,
              "ticks": ""
             }
            },
            "type": "scatterternary"
           }
          ],
          "surface": [
           {
            "colorbar": {
             "outlinewidth": 0,
             "ticks": ""
            },
            "colorscale": [
             [
              0,
              "#0d0887"
             ],
             [
              0.1111111111111111,
              "#46039f"
             ],
             [
              0.2222222222222222,
              "#7201a8"
             ],
             [
              0.3333333333333333,
              "#9c179e"
             ],
             [
              0.4444444444444444,
              "#bd3786"
             ],
             [
              0.5555555555555556,
              "#d8576b"
             ],
             [
              0.6666666666666666,
              "#ed7953"
             ],
             [
              0.7777777777777778,
              "#fb9f3a"
             ],
             [
              0.8888888888888888,
              "#fdca26"
             ],
             [
              1,
              "#f0f921"
             ]
            ],
            "type": "surface"
           }
          ],
          "table": [
           {
            "cells": {
             "fill": {
              "color": "#EBF0F8"
             },
             "line": {
              "color": "white"
             }
            },
            "header": {
             "fill": {
              "color": "#C8D4E3"
             },
             "line": {
              "color": "white"
             }
            },
            "type": "table"
           }
          ]
         },
         "layout": {
          "annotationdefaults": {
           "arrowcolor": "#2a3f5f",
           "arrowhead": 0,
           "arrowwidth": 1
          },
          "coloraxis": {
           "colorbar": {
            "outlinewidth": 0,
            "ticks": ""
           }
          },
          "colorscale": {
           "diverging": [
            [
             0,
             "#8e0152"
            ],
            [
             0.1,
             "#c51b7d"
            ],
            [
             0.2,
             "#de77ae"
            ],
            [
             0.3,
             "#f1b6da"
            ],
            [
             0.4,
             "#fde0ef"
            ],
            [
             0.5,
             "#f7f7f7"
            ],
            [
             0.6,
             "#e6f5d0"
            ],
            [
             0.7,
             "#b8e186"
            ],
            [
             0.8,
             "#7fbc41"
            ],
            [
             0.9,
             "#4d9221"
            ],
            [
             1,
             "#276419"
            ]
           ],
           "sequential": [
            [
             0,
             "#0d0887"
            ],
            [
             0.1111111111111111,
             "#46039f"
            ],
            [
             0.2222222222222222,
             "#7201a8"
            ],
            [
             0.3333333333333333,
             "#9c179e"
            ],
            [
             0.4444444444444444,
             "#bd3786"
            ],
            [
             0.5555555555555556,
             "#d8576b"
            ],
            [
             0.6666666666666666,
             "#ed7953"
            ],
            [
             0.7777777777777778,
             "#fb9f3a"
            ],
            [
             0.8888888888888888,
             "#fdca26"
            ],
            [
             1,
             "#f0f921"
            ]
           ],
           "sequentialminus": [
            [
             0,
             "#0d0887"
            ],
            [
             0.1111111111111111,
             "#46039f"
            ],
            [
             0.2222222222222222,
             "#7201a8"
            ],
            [
             0.3333333333333333,
             "#9c179e"
            ],
            [
             0.4444444444444444,
             "#bd3786"
            ],
            [
             0.5555555555555556,
             "#d8576b"
            ],
            [
             0.6666666666666666,
             "#ed7953"
            ],
            [
             0.7777777777777778,
             "#fb9f3a"
            ],
            [
             0.8888888888888888,
             "#fdca26"
            ],
            [
             1,
             "#f0f921"
            ]
           ]
          },
          "colorway": [
           "#1f77b4",
           "#ff7f0e",
           "#2ca02c",
           "#d62728",
           "#9467bd",
           "#8c564b",
           "#e377c2",
           "#7f7f7f",
           "#bcbd22",
           "#17becf"
          ],
          "font": {
           "color": "#2a3f5f"
          },
          "geo": {
           "bgcolor": "white",
           "lakecolor": "white",
           "landcolor": "white",
           "showlakes": true,
           "showland": true,
           "subunitcolor": "#C8D4E3"
          },
          "hoverlabel": {
           "align": "left"
          },
          "hovermode": "closest",
          "mapbox": {
           "style": "light"
          },
          "paper_bgcolor": "white",
          "plot_bgcolor": "white",
          "polar": {
           "angularaxis": {
            "gridcolor": "#EBF0F8",
            "linecolor": "#EBF0F8",
            "ticks": ""
           },
           "bgcolor": "white",
           "radialaxis": {
            "gridcolor": "#EBF0F8",
            "linecolor": "#EBF0F8",
            "ticks": ""
           }
          },
          "scene": {
           "camera": {
            "center": {
             "x": 0,
             "y": 0,
             "z": 0
            },
            "eye": {
             "x": 2,
             "y": 2,
             "z": 2
            },
            "up": {
             "x": 0,
             "y": 0,
             "z": 1
            }
           },
           "xaxis": {
            "backgroundcolor": "white",
            "gridcolor": "#DFE8F3",
            "gridwidth": 2,
            "linecolor": "#EBF0F8",
            "showbackground": true,
            "showspikes": false,
            "ticks": "",
            "zerolinecolor": "#EBF0F8"
           },
           "yaxis": {
            "backgroundcolor": "white",
            "gridcolor": "#DFE8F3",
            "gridwidth": 2,
            "linecolor": "#EBF0F8",
            "showbackground": true,
            "showspikes": false,
            "ticks": "",
            "zerolinecolor": "#EBF0F8"
           },
           "zaxis": {
            "backgroundcolor": "white",
            "gridcolor": "#DFE8F3",
            "gridwidth": 2,
            "linecolor": "#EBF0F8",
            "showbackground": true,
            "showspikes": false,
            "ticks": "",
            "zerolinecolor": "#EBF0F8"
           }
          },
          "shapedefaults": {
           "line": {
            "color": "#2a3f5f"
           }
          },
          "ternary": {
           "aaxis": {
            "gridcolor": "#DFE8F3",
            "linecolor": "#A2B1C6",
            "ticks": ""
           },
           "baxis": {
            "gridcolor": "#DFE8F3",
            "linecolor": "#A2B1C6",
            "ticks": ""
           },
           "bgcolor": "white",
           "caxis": {
            "gridcolor": "#DFE8F3",
            "linecolor": "#A2B1C6",
            "ticks": ""
           }
          },
          "title": {
           "x": 0.05
          },
          "xaxis": {
           "automargin": true,
           "gridcolor": "#EBF0F8",
           "linecolor": "black",
           "linewidth": 2,
           "mirror": true,
           "showline": true,
           "ticks": "",
           "title": {
            "standoff": 15
           },
           "zeroline": false,
           "zerolinecolor": "#EBF0F8",
           "zerolinewidth": 2
          },
          "yaxis": {
           "automargin": true,
           "gridcolor": "#EBF0F8",
           "linecolor": "black",
           "linewidth": 2,
           "mirror": true,
           "showline": true,
           "ticks": "",
           "title": {
            "standoff": 15
           },
           "zeroline": false,
           "zerolinecolor": "#EBF0F8",
           "zerolinewidth": 2
          }
         }
        },
        "title": {
         "text": "Rotor Model"
        },
        "xaxis": {
         "mirror": true,
         "scaleanchor": "y",
         "scaleratio": 1.5,
         "showgrid": false,
         "title": {
          "text": "Axial location (m)"
         }
        },
        "yaxis": {
         "mirror": true,
         "showgrid": false,
         "title": {
          "text": "Shaft radius (m)"
         }
        }
       }
      }
     },
     "metadata": {},
     "output_type": "display_data"
    }
   ],
   "source": [
    "# Creating rotor 2\n",
    "\n",
    "L2 = [0.3, 5, 0.1]\n",
    "d2 = [0.15, 0.15, 0.15]\n",
    "shaft2 = [\n",
    "    rs.ShaftElement(\n",
    "        L=L2[i],\n",
    "        idl=0.0,\n",
    "        odl=d2[i],\n",
    "        material=material,\n",
    "        shear_effects=True,\n",
    "        rotary_inertia=True,\n",
    "        gyroscopic=True,\n",
    "    )\n",
    "    for i in range(len(L2))\n",
    "]\n",
    "\n",
    "base_radius = 0.03567\n",
    "gear2 = rs.GearElement(\n",
    "    n=0,\n",
    "    m=5,\n",
    "    Id=0.002,\n",
    "    Ip=0.004,\n",
    "    base_diameter=base_radius * 2,\n",
    "    pressure_angle=pressure_angle,\n",
    ")\n",
    "turbine = rs.DiskElement(n=2, m=7.45, Id=0.0745, Ip=0.149)\n",
    "\n",
    "bearing3 = rs.BearingElement(n=1, kxx=10.1e6, kyy=41.6e6, cxx=3e3)\n",
    "bearing4 = rs.BearingElement(n=3, kxx=10.1e6, kyy=41.6e6, cxx=3e3)\n",
    "\n",
    "rotor2 = rs.Rotor(\n",
    "    shaft2,\n",
    "    [gear2, turbine],\n",
    "    [bearing3, bearing4],\n",
    ")\n",
    "\n",
    "rotor2.plot_rotor()"
   ]
  },
  {
   "cell_type": "markdown",
   "metadata": {},
   "source": [
    "#### 2.1.4 Connecting rotors\n",
    "\n",
    "To build the multi-rotor model, we need to inform, in the following order:\n",
    "- the driving rotor,\n",
    "- the driven rotor,\n",
    "- the tuple with the pair of coupled nodes (first number corresponds to the gear node of the driving rotor, and the second of the driven rotor),\n",
    "- the gear ratio, and\n",
    "- the gear mesh stiffness.\n",
    "\n",
    "Finally, we can inform:\n",
    "- the orientation angle (if not defined, zero is adopted as the default),\n",
    "- the position of the driven rotor in relation to the driving rotor only for visualization in the plot (\"above\" or \"below\"), and\n",
    "- a tag."
   ]
  },
  {
   "cell_type": "code",
   "execution_count": 6,
   "metadata": {},
   "outputs": [
    {
     "data": {
      "application/vnd.plotly.v1+json": {
       "config": {
        "plotlyServerURL": "https://plot.ly"
       },
       "data": [
        {
         "hoverinfo": "none",
         "marker": {
          "color": "#ffcc99",
          "line": {
           "color": "black",
           "width": 1
          },
          "opacity": 0.7,
          "size": 20
         },
         "mode": "markers+text",
         "showlegend": false,
         "text": [
          "0",
          "1",
          "2",
          "3",
          "4",
          "5",
          "6",
          "7",
          "8"
         ],
         "type": "scatter",
         "x": [
          0,
          0.1,
          4.34,
          5.5,
          5.8,
          5.8,
          6.1,
          11.1,
          11.2
         ],
         "y": [
          0,
          0,
          0,
          0,
          0,
          -0.8836970000000002,
          -0.8836970000000002,
          -0.8836970000000002,
          -0.8836970000000002
         ]
        },
        {
         "customdata": [
          [
           0,
           0.3,
           0,
           0.3,
           0,
           0.1,
           "mat_steel"
          ],
          [
           0,
           0.3,
           0,
           0.3,
           0,
           0.1,
           "mat_steel"
          ],
          [
           0,
           0.3,
           0,
           0.3,
           0,
           0.1,
           "mat_steel"
          ],
          [
           0,
           0.3,
           0,
           0.3,
           0,
           0.1,
           "mat_steel"
          ],
          [
           0,
           0.3,
           0,
           0.3,
           0,
           0.1,
           "mat_steel"
          ],
          [
           0,
           0.3,
           0,
           0.3,
           0,
           0.1,
           "mat_steel"
          ],
          [
           0,
           0.3,
           0,
           0.3,
           0,
           0.1,
           "mat_steel"
          ],
          [
           0,
           0.3,
           0,
           0.3,
           0,
           0.1,
           "mat_steel"
          ],
          [
           0,
           0.3,
           0,
           0.3,
           0,
           0.1,
           "mat_steel"
          ],
          [
           0,
           0.3,
           0,
           0.3,
           0,
           0.1,
           "mat_steel"
          ]
         ],
         "fill": "toself",
         "fillcolor": "#525252",
         "hoverinfo": "text",
         "hoverlabel": {
          "bgcolor": "#525252"
         },
         "hoveron": "points+fills",
         "hovertemplate": "Element Number: 0<br>Left Outer Diameter: 0.3 m<br>Left Inner Diameter: 0.0 m<br>Right Outer Diameter: 0.3 m<br>Right Inner Diameter: 0.0 m<br>Element Length: 0.1 m<br>Material: mat_steel<br>",
         "legendgroup": "Shaft",
         "line": {
          "color": "black",
          "width": 1.5
         },
         "mode": "lines",
         "name": "Shaft Element 0",
         "opacity": 0.5,
         "showlegend": false,
         "text": "Element Number: 0<br>Left Outer Diameter: 0.3 m<br>Left Inner Diameter: 0.0 m<br>Right Outer Diameter: 0.3 m<br>Right Inner Diameter: 0.0 m<br>Element Length: 0.1 m<br>Material: mat_steel<br>",
         "type": "scatter",
         "x": [
          0,
          0,
          0.1,
          0.1,
          0,
          0,
          0,
          0.1,
          0.1,
          0
         ],
         "y": [
          0,
          0.15,
          0.15,
          0,
          0,
          0,
          -0.15,
          -0.15,
          0,
          0
         ]
        },
        {
         "customdata": [
          [
           1,
           0.3,
           0,
           0.3,
           0,
           4.24,
           "mat_steel"
          ],
          [
           1,
           0.3,
           0,
           0.3,
           0,
           4.24,
           "mat_steel"
          ],
          [
           1,
           0.3,
           0,
           0.3,
           0,
           4.24,
           "mat_steel"
          ],
          [
           1,
           0.3,
           0,
           0.3,
           0,
           4.24,
           "mat_steel"
          ],
          [
           1,
           0.3,
           0,
           0.3,
           0,
           4.24,
           "mat_steel"
          ],
          [
           1,
           0.3,
           0,
           0.3,
           0,
           4.24,
           "mat_steel"
          ],
          [
           1,
           0.3,
           0,
           0.3,
           0,
           4.24,
           "mat_steel"
          ],
          [
           1,
           0.3,
           0,
           0.3,
           0,
           4.24,
           "mat_steel"
          ],
          [
           1,
           0.3,
           0,
           0.3,
           0,
           4.24,
           "mat_steel"
          ],
          [
           1,
           0.3,
           0,
           0.3,
           0,
           4.24,
           "mat_steel"
          ]
         ],
         "fill": "toself",
         "fillcolor": "#525252",
         "hoverinfo": "text",
         "hoverlabel": {
          "bgcolor": "#525252"
         },
         "hoveron": "points+fills",
         "hovertemplate": "Element Number: 1<br>Left Outer Diameter: 0.3 m<br>Left Inner Diameter: 0.0 m<br>Right Outer Diameter: 0.3 m<br>Right Inner Diameter: 0.0 m<br>Element Length: 4.24 m<br>Material: mat_steel<br>",
         "legendgroup": "Shaft",
         "line": {
          "color": "black",
          "width": 1.5
         },
         "mode": "lines",
         "name": "Shaft Element 1",
         "opacity": 0.5,
         "showlegend": false,
         "text": "Element Number: 1<br>Left Outer Diameter: 0.3 m<br>Left Inner Diameter: 0.0 m<br>Right Outer Diameter: 0.3 m<br>Right Inner Diameter: 0.0 m<br>Element Length: 4.24 m<br>Material: mat_steel<br>",
         "type": "scatter",
         "x": [
          0.1,
          0.1,
          4.34,
          4.34,
          0.1,
          0.1,
          0.1,
          4.34,
          4.34,
          0.1
         ],
         "y": [
          0,
          0.15,
          0.15,
          0,
          0,
          0,
          -0.15,
          -0.15,
          0,
          0
         ]
        },
        {
         "customdata": [
          [
           2,
           0.22,
           0,
           0.22,
           0,
           1.16,
           "mat_steel"
          ],
          [
           2,
           0.22,
           0,
           0.22,
           0,
           1.16,
           "mat_steel"
          ],
          [
           2,
           0.22,
           0,
           0.22,
           0,
           1.16,
           "mat_steel"
          ],
          [
           2,
           0.22,
           0,
           0.22,
           0,
           1.16,
           "mat_steel"
          ],
          [
           2,
           0.22,
           0,
           0.22,
           0,
           1.16,
           "mat_steel"
          ],
          [
           2,
           0.22,
           0,
           0.22,
           0,
           1.16,
           "mat_steel"
          ],
          [
           2,
           0.22,
           0,
           0.22,
           0,
           1.16,
           "mat_steel"
          ],
          [
           2,
           0.22,
           0,
           0.22,
           0,
           1.16,
           "mat_steel"
          ],
          [
           2,
           0.22,
           0,
           0.22,
           0,
           1.16,
           "mat_steel"
          ],
          [
           2,
           0.22,
           0,
           0.22,
           0,
           1.16,
           "mat_steel"
          ]
         ],
         "fill": "toself",
         "fillcolor": "#525252",
         "hoverinfo": "text",
         "hoverlabel": {
          "bgcolor": "#525252"
         },
         "hoveron": "points+fills",
         "hovertemplate": "Element Number: 2<br>Left Outer Diameter: 0.22 m<br>Left Inner Diameter: 0.0 m<br>Right Outer Diameter: 0.22 m<br>Right Inner Diameter: 0.0 m<br>Element Length: 1.16 m<br>Material: mat_steel<br>",
         "legendgroup": "Shaft",
         "line": {
          "color": "black",
          "width": 1.5
         },
         "mode": "lines",
         "name": "Shaft Element 2",
         "opacity": 0.5,
         "showlegend": false,
         "text": "Element Number: 2<br>Left Outer Diameter: 0.22 m<br>Left Inner Diameter: 0.0 m<br>Right Outer Diameter: 0.22 m<br>Right Inner Diameter: 0.0 m<br>Element Length: 1.16 m<br>Material: mat_steel<br>",
         "type": "scatter",
         "x": [
          4.34,
          4.34,
          5.5,
          5.5,
          4.34,
          4.34,
          4.34,
          5.5,
          5.5,
          4.34
         ],
         "y": [
          0,
          0.11,
          0.11,
          0,
          0,
          0,
          -0.11,
          -0.11,
          0,
          0
         ]
        },
        {
         "customdata": [
          [
           3,
           0.22,
           0,
           0.22,
           0,
           0.3,
           "mat_steel"
          ],
          [
           3,
           0.22,
           0,
           0.22,
           0,
           0.3,
           "mat_steel"
          ],
          [
           3,
           0.22,
           0,
           0.22,
           0,
           0.3,
           "mat_steel"
          ],
          [
           3,
           0.22,
           0,
           0.22,
           0,
           0.3,
           "mat_steel"
          ],
          [
           3,
           0.22,
           0,
           0.22,
           0,
           0.3,
           "mat_steel"
          ],
          [
           3,
           0.22,
           0,
           0.22,
           0,
           0.3,
           "mat_steel"
          ],
          [
           3,
           0.22,
           0,
           0.22,
           0,
           0.3,
           "mat_steel"
          ],
          [
           3,
           0.22,
           0,
           0.22,
           0,
           0.3,
           "mat_steel"
          ],
          [
           3,
           0.22,
           0,
           0.22,
           0,
           0.3,
           "mat_steel"
          ],
          [
           3,
           0.22,
           0,
           0.22,
           0,
           0.3,
           "mat_steel"
          ]
         ],
         "fill": "toself",
         "fillcolor": "#525252",
         "hoverinfo": "text",
         "hoverlabel": {
          "bgcolor": "#525252"
         },
         "hoveron": "points+fills",
         "hovertemplate": "Element Number: 3<br>Left Outer Diameter: 0.22 m<br>Left Inner Diameter: 0.0 m<br>Right Outer Diameter: 0.22 m<br>Right Inner Diameter: 0.0 m<br>Element Length: 0.3 m<br>Material: mat_steel<br>",
         "legendgroup": "Shaft",
         "line": {
          "color": "black",
          "width": 1.5
         },
         "mode": "lines",
         "name": "Shaft Element 3",
         "opacity": 0.5,
         "showlegend": false,
         "text": "Element Number: 3<br>Left Outer Diameter: 0.22 m<br>Left Inner Diameter: 0.0 m<br>Right Outer Diameter: 0.22 m<br>Right Inner Diameter: 0.0 m<br>Element Length: 0.3 m<br>Material: mat_steel<br>",
         "type": "scatter",
         "x": [
          5.5,
          5.5,
          5.8,
          5.8,
          5.5,
          5.5,
          5.5,
          5.8,
          5.8,
          5.5
         ],
         "y": [
          0,
          0.11,
          0.11,
          0,
          0,
          0,
          -0.11,
          -0.11,
          0,
          0
         ]
        },
        {
         "customdata": [
          [
           5,
           0.15,
           0,
           0.15,
           0,
           0.3,
           "mat_steel"
          ],
          [
           5,
           0.15,
           0,
           0.15,
           0,
           0.3,
           "mat_steel"
          ],
          [
           5,
           0.15,
           0,
           0.15,
           0,
           0.3,
           "mat_steel"
          ],
          [
           5,
           0.15,
           0,
           0.15,
           0,
           0.3,
           "mat_steel"
          ],
          [
           5,
           0.15,
           0,
           0.15,
           0,
           0.3,
           "mat_steel"
          ],
          [
           5,
           0.15,
           0,
           0.15,
           0,
           0.3,
           "mat_steel"
          ],
          [
           5,
           0.15,
           0,
           0.15,
           0,
           0.3,
           "mat_steel"
          ],
          [
           5,
           0.15,
           0,
           0.15,
           0,
           0.3,
           "mat_steel"
          ],
          [
           5,
           0.15,
           0,
           0.15,
           0,
           0.3,
           "mat_steel"
          ],
          [
           5,
           0.15,
           0,
           0.15,
           0,
           0.3,
           "mat_steel"
          ]
         ],
         "fill": "toself",
         "fillcolor": "#525252",
         "hoverinfo": "text",
         "hoverlabel": {
          "bgcolor": "#525252"
         },
         "hoveron": "points+fills",
         "hovertemplate": "Element Number: 5<br>Left Outer Diameter: 0.15 m<br>Left Inner Diameter: 0.0 m<br>Right Outer Diameter: 0.15 m<br>Right Inner Diameter: 0.0 m<br>Element Length: 0.3 m<br>Material: mat_steel<br>",
         "legendgroup": "Shaft",
         "line": {
          "color": "black",
          "width": 1.5
         },
         "mode": "lines",
         "name": "Shaft Element 4",
         "opacity": 0.5,
         "showlegend": false,
         "text": "Element Number: 5<br>Left Outer Diameter: 0.15 m<br>Left Inner Diameter: 0.0 m<br>Right Outer Diameter: 0.15 m<br>Right Inner Diameter: 0.0 m<br>Element Length: 0.3 m<br>Material: mat_steel<br>",
         "type": "scatter",
         "x": [
          5.8,
          5.8,
          6.1,
          6.1,
          5.8,
          5.8,
          5.8,
          6.1,
          6.1,
          5.8
         ],
         "y": [
          -0.8836970000000002,
          -0.8086970000000002,
          -0.8086970000000002,
          -0.8836970000000002,
          -0.8836970000000002,
          -0.8836970000000002,
          -0.9586970000000001,
          -0.9586970000000001,
          -0.8836970000000002,
          -0.8836970000000002
         ]
        },
        {
         "customdata": [
          [
           6,
           0.15,
           0,
           0.15,
           0,
           5,
           "mat_steel"
          ],
          [
           6,
           0.15,
           0,
           0.15,
           0,
           5,
           "mat_steel"
          ],
          [
           6,
           0.15,
           0,
           0.15,
           0,
           5,
           "mat_steel"
          ],
          [
           6,
           0.15,
           0,
           0.15,
           0,
           5,
           "mat_steel"
          ],
          [
           6,
           0.15,
           0,
           0.15,
           0,
           5,
           "mat_steel"
          ],
          [
           6,
           0.15,
           0,
           0.15,
           0,
           5,
           "mat_steel"
          ],
          [
           6,
           0.15,
           0,
           0.15,
           0,
           5,
           "mat_steel"
          ],
          [
           6,
           0.15,
           0,
           0.15,
           0,
           5,
           "mat_steel"
          ],
          [
           6,
           0.15,
           0,
           0.15,
           0,
           5,
           "mat_steel"
          ],
          [
           6,
           0.15,
           0,
           0.15,
           0,
           5,
           "mat_steel"
          ]
         ],
         "fill": "toself",
         "fillcolor": "#525252",
         "hoverinfo": "text",
         "hoverlabel": {
          "bgcolor": "#525252"
         },
         "hoveron": "points+fills",
         "hovertemplate": "Element Number: 6<br>Left Outer Diameter: 0.15 m<br>Left Inner Diameter: 0.0 m<br>Right Outer Diameter: 0.15 m<br>Right Inner Diameter: 0.0 m<br>Element Length: 5.0 m<br>Material: mat_steel<br>",
         "legendgroup": "Shaft",
         "line": {
          "color": "black",
          "width": 1.5
         },
         "mode": "lines",
         "name": "Shaft Element 5",
         "opacity": 0.5,
         "showlegend": false,
         "text": "Element Number: 6<br>Left Outer Diameter: 0.15 m<br>Left Inner Diameter: 0.0 m<br>Right Outer Diameter: 0.15 m<br>Right Inner Diameter: 0.0 m<br>Element Length: 5.0 m<br>Material: mat_steel<br>",
         "type": "scatter",
         "x": [
          6.1,
          6.1,
          11.1,
          11.1,
          6.1,
          6.1,
          6.1,
          11.1,
          11.1,
          6.1
         ],
         "y": [
          -0.8836970000000002,
          -0.8086970000000002,
          -0.8086970000000002,
          -0.8836970000000002,
          -0.8836970000000002,
          -0.8836970000000002,
          -0.9586970000000001,
          -0.9586970000000001,
          -0.8836970000000002,
          -0.8836970000000002
         ]
        },
        {
         "customdata": [
          [
           7,
           0.15,
           0,
           0.15,
           0,
           0.1,
           "mat_steel"
          ],
          [
           7,
           0.15,
           0,
           0.15,
           0,
           0.1,
           "mat_steel"
          ],
          [
           7,
           0.15,
           0,
           0.15,
           0,
           0.1,
           "mat_steel"
          ],
          [
           7,
           0.15,
           0,
           0.15,
           0,
           0.1,
           "mat_steel"
          ],
          [
           7,
           0.15,
           0,
           0.15,
           0,
           0.1,
           "mat_steel"
          ],
          [
           7,
           0.15,
           0,
           0.15,
           0,
           0.1,
           "mat_steel"
          ],
          [
           7,
           0.15,
           0,
           0.15,
           0,
           0.1,
           "mat_steel"
          ],
          [
           7,
           0.15,
           0,
           0.15,
           0,
           0.1,
           "mat_steel"
          ],
          [
           7,
           0.15,
           0,
           0.15,
           0,
           0.1,
           "mat_steel"
          ],
          [
           7,
           0.15,
           0,
           0.15,
           0,
           0.1,
           "mat_steel"
          ]
         ],
         "fill": "toself",
         "fillcolor": "#525252",
         "hoverinfo": "text",
         "hoverlabel": {
          "bgcolor": "#525252"
         },
         "hoveron": "points+fills",
         "hovertemplate": "Element Number: 7<br>Left Outer Diameter: 0.15 m<br>Left Inner Diameter: 0.0 m<br>Right Outer Diameter: 0.15 m<br>Right Inner Diameter: 0.0 m<br>Element Length: 0.1 m<br>Material: mat_steel<br>",
         "legendgroup": "Shaft",
         "line": {
          "color": "black",
          "width": 1.5
         },
         "mode": "lines",
         "name": "Shaft Element 6",
         "opacity": 0.5,
         "showlegend": false,
         "text": "Element Number: 7<br>Left Outer Diameter: 0.15 m<br>Left Inner Diameter: 0.0 m<br>Right Outer Diameter: 0.15 m<br>Right Inner Diameter: 0.0 m<br>Element Length: 0.1 m<br>Material: mat_steel<br>",
         "type": "scatter",
         "x": [
          11.1,
          11.1,
          11.2,
          11.2,
          11.1,
          11.1,
          11.1,
          11.2,
          11.2,
          11.1
         ],
         "y": [
          -0.8836970000000002,
          -0.8086970000000002,
          -0.8086970000000002,
          -0.8836970000000002,
          -0.8836970000000002,
          -0.8836970000000002,
          -0.9586970000000001,
          -0.9586970000000001,
          -0.8836970000000002,
          -0.8836970000000002
         ]
        },
        {
         "customdata": [
          [
           1,
           32.2,
           16.1,
           525.7
          ],
          [
           1,
           32.2,
           16.1,
           525.7
          ],
          [
           1,
           32.2,
           16.1,
           525.7
          ],
          [
           1,
           32.2,
           16.1,
           525.7
          ],
          [
           1,
           32.2,
           16.1,
           525.7
          ],
          [
           1,
           32.2,
           16.1,
           525.7
          ],
          [
           1,
           32.2,
           16.1,
           525.7
          ],
          [
           1,
           32.2,
           16.1,
           525.7
          ],
          [
           1,
           32.2,
           16.1,
           525.7
          ]
         ],
         "fill": "toself",
         "fillcolor": "Firebrick",
         "hoverinfo": "text",
         "hoverlabel": {
          "bgcolor": "Firebrick"
         },
         "hoveron": "points+fills",
         "hovertemplate": "Disk Node: 1<br>Polar Inertia: 3.220e+01<br>Diametral Inertia: 1.610e+01<br>Disk mass: 525.700<br>",
         "legendgroup": "disks",
         "line": {
          "color": "Firebrick",
          "width": 2
         },
         "mode": "lines",
         "name": "Disk 0",
         "opacity": 0.8,
         "showlegend": false,
         "text": "Disk Node: 1<br>Polar Inertia: 3.220e+01<br>Diametral Inertia: 1.610e+01<br>Disk mass: 525.700<br>",
         "type": "scatter",
         "x": [
          0.1,
          0.10862222222222223,
          0.09137777777777778,
          0.1,
          null,
          0.1,
          0.10862222222222223,
          0.09137777777777778,
          0.1
         ],
         "y": [
          0.15,
          0.5811111111111111,
          0.5811111111111111,
          0.15,
          null,
          -0.15,
          -0.5811111111111111,
          -0.5811111111111111,
          -0.15
         ]
        },
        {
         "customdata": [
          [
           2,
           6.23,
           3.115,
           116.04
          ],
          [
           2,
           6.23,
           3.115,
           116.04
          ],
          [
           2,
           6.23,
           3.115,
           116.04
          ],
          [
           2,
           6.23,
           3.115,
           116.04
          ],
          [
           2,
           6.23,
           3.115,
           116.04
          ],
          [
           2,
           6.23,
           3.115,
           116.04
          ],
          [
           2,
           6.23,
           3.115,
           116.04
          ],
          [
           2,
           6.23,
           3.115,
           116.04
          ],
          [
           2,
           6.23,
           3.115,
           116.04
          ]
         ],
         "fill": "toself",
         "fillcolor": "Firebrick",
         "hoverinfo": "text",
         "hoverlabel": {
          "bgcolor": "Firebrick"
         },
         "hoveron": "points+fills",
         "hovertemplate": "Disk Node: 2<br>Polar Inertia: 6.230e+00<br>Diametral Inertia: 3.115e+00<br>Disk mass: 116.040<br>",
         "legendgroup": "disks",
         "line": {
          "color": "Firebrick",
          "width": 2
         },
         "mode": "lines",
         "name": "Disk 1",
         "opacity": 0.8,
         "showlegend": false,
         "text": "Disk Node: 2<br>Polar Inertia: 6.230e+00<br>Diametral Inertia: 3.115e+00<br>Disk mass: 116.040<br>",
         "type": "scatter",
         "x": [
          4.34,
          4.348622222222222,
          4.331377777777778,
          4.34,
          null,
          4.34,
          4.348622222222222,
          4.331377777777778,
          4.34
         ],
         "y": [
          0.15,
          0.5811111111111111,
          0.5811111111111111,
          0.15,
          null,
          -0.15,
          -0.5811111111111111,
          -0.5811111111111111,
          -0.15
         ]
        },
        {
         "customdata": [
          [
           4,
           113.9,
           56.95,
           726.4,
           1.0172
          ],
          [
           4,
           113.9,
           56.95,
           726.4,
           1.0172
          ],
          [
           4,
           113.9,
           56.95,
           726.4,
           1.0172
          ],
          [
           4,
           113.9,
           56.95,
           726.4,
           1.0172
          ],
          [
           4,
           113.9,
           56.95,
           726.4,
           1.0172
          ],
          [
           4,
           113.9,
           56.95,
           726.4,
           1.0172
          ],
          [
           4,
           113.9,
           56.95,
           726.4,
           1.0172
          ],
          [
           4,
           113.9,
           56.95,
           726.4,
           1.0172
          ],
          [
           4,
           113.9,
           56.95,
           726.4,
           1.0172
          ]
         ],
         "fill": "toself",
         "fillcolor": "Goldenrod",
         "fillpattern": {
          "bgcolor": "Goldenrod",
          "fgcolor": "rgba(0, 0, 0, 0.2)",
          "shape": "/"
         },
         "hoverinfo": "text",
         "hoverlabel": {
          "bgcolor": "Goldenrod"
         },
         "hoveron": "points+fills",
         "hovertemplate": "Gear Node: 4<br>Polar Inertia: 1.139e+02<br>Diametral Inertia: 5.695e+01<br>Gear Mass: 726.400<br>Gear Base Diam.: 1.017<br>",
         "legendgroup": "gears",
         "line": {
          "color": "rgba(0, 0, 0, 0.2)",
          "width": 2
         },
         "mode": "lines",
         "name": "Gear 2",
         "opacity": 0.8,
         "showlegend": false,
         "text": "Gear Node: 4<br>Polar Inertia: 1.139e+02<br>Diametral Inertia: 5.695e+01<br>Gear Mass: 726.400<br>Gear Base Diam.: 1.017<br>",
         "type": "scatter",
         "x": [
          5.817244444444444,
          5.817244444444444,
          5.782755555555555,
          5.782755555555555,
          null,
          5.817244444444444,
          5.817244444444444,
          5.782755555555555,
          5.782755555555555
         ],
         "y": [
          0.11,
          0.7194600000000001,
          0.7194600000000001,
          0.11,
          null,
          -0.11,
          -0.7194600000000001,
          -0.7194600000000001,
          -0.11
         ]
        },
        {
         "customdata": [
          [
           5,
           0.004,
           0.002,
           5,
           0.07134
          ],
          [
           5,
           0.004,
           0.002,
           5,
           0.07134
          ],
          [
           5,
           0.004,
           0.002,
           5,
           0.07134
          ],
          [
           5,
           0.004,
           0.002,
           5,
           0.07134
          ],
          [
           5,
           0.004,
           0.002,
           5,
           0.07134
          ],
          [
           5,
           0.004,
           0.002,
           5,
           0.07134
          ],
          [
           5,
           0.004,
           0.002,
           5,
           0.07134
          ],
          [
           5,
           0.004,
           0.002,
           5,
           0.07134
          ],
          [
           5,
           0.004,
           0.002,
           5,
           0.07134
          ]
         ],
         "fill": "toself",
         "fillcolor": "Goldenrod",
         "fillpattern": {
          "bgcolor": "Goldenrod",
          "fgcolor": "rgba(0, 0, 0, 0.2)",
          "shape": "/"
         },
         "hoverinfo": "text",
         "hoverlabel": {
          "bgcolor": "Goldenrod"
         },
         "hoveron": "points+fills",
         "hovertemplate": "Gear Node: 5<br>Polar Inertia: 4.000e-03<br>Diametral Inertia: 2.000e-03<br>Gear Mass: 5.000<br>Gear Base Diam.: 0.071<br>",
         "legendgroup": "gears",
         "line": {
          "color": "rgba(0, 0, 0, 0.2)",
          "width": 2
         },
         "mode": "lines",
         "name": "Gear 3",
         "opacity": 0.8,
         "showlegend": false,
         "text": "Gear Node: 5<br>Polar Inertia: 4.000e-03<br>Diametral Inertia: 2.000e-03<br>Gear Mass: 5.000<br>Gear Base Diam.: 0.071<br>",
         "type": "scatter",
         "x": [
          5.817244444444444,
          5.817244444444444,
          5.782755555555555,
          5.782755555555555,
          null,
          5.817244444444444,
          5.817244444444444,
          5.782755555555555,
          5.782755555555555
         ],
         "y": [
          -0.8086970000000002,
          -0.7194600000000002,
          -0.7194600000000002,
          -0.8086970000000002,
          null,
          -0.9586970000000001,
          -1.0479340000000001,
          -1.0479340000000001,
          -0.9586970000000001
         ]
        },
        {
         "customdata": [
          [
           7,
           0.149,
           0.0745,
           7.45
          ],
          [
           7,
           0.149,
           0.0745,
           7.45
          ],
          [
           7,
           0.149,
           0.0745,
           7.45
          ],
          [
           7,
           0.149,
           0.0745,
           7.45
          ],
          [
           7,
           0.149,
           0.0745,
           7.45
          ],
          [
           7,
           0.149,
           0.0745,
           7.45
          ],
          [
           7,
           0.149,
           0.0745,
           7.45
          ],
          [
           7,
           0.149,
           0.0745,
           7.45
          ],
          [
           7,
           0.149,
           0.0745,
           7.45
          ]
         ],
         "fill": "toself",
         "fillcolor": "Firebrick",
         "hoverinfo": "text",
         "hoverlabel": {
          "bgcolor": "Firebrick"
         },
         "hoveron": "points+fills",
         "hovertemplate": "Disk Node: 7<br>Polar Inertia: 1.490e-01<br>Diametral Inertia: 7.450e-02<br>Disk mass: 7.450<br>",
         "legendgroup": "disks",
         "line": {
          "color": "Firebrick",
          "width": 2
         },
         "mode": "lines",
         "name": "Disk 4",
         "opacity": 0.8,
         "showlegend": false,
         "text": "Disk Node: 7<br>Polar Inertia: 1.490e-01<br>Diametral Inertia: 7.450e-02<br>Disk mass: 7.450<br>",
         "type": "scatter",
         "x": [
          11.1,
          11.108622222222222,
          11.091377777777778,
          11.1,
          null,
          11.1,
          11.108622222222222,
          11.091377777777778,
          11.1
         ],
         "y": [
          -0.8086970000000002,
          -0.3775858888888891,
          -0.3775858888888891,
          -0.8086970000000002,
          null,
          -0.9586970000000001,
          -1.3898081111111114,
          -1.3898081111111114,
          -0.9586970000000001
         ]
        },
        {
         "hoverinfo": "none",
         "legendgroup": "bearings",
         "line": {
          "color": "#355d7a",
          "width": 1
         },
         "mode": "lines",
         "name": "Bearing 0",
         "showlegend": false,
         "type": "scatter",
         "x": [
          0,
          0,
          -0.03079365079365079,
          0.03079365079365079
         ],
         "y": [
          0.15,
          0.20388888888888887,
          0.20388888888888887,
          0.20388888888888887
         ]
        },
        {
         "hoverinfo": "none",
         "legendgroup": "bearings",
         "line": {
          "color": "#355d7a",
          "width": 1
         },
         "mode": "lines",
         "name": "Bearing 0",
         "showlegend": false,
         "type": "scatter",
         "x": [
          0,
          0,
          -0.03079365079365079,
          0.03079365079365079
         ],
         "y": [
          -0.15,
          -0.20388888888888887,
          -0.20388888888888887,
          -0.20388888888888887
         ]
        },
        {
         "hoverinfo": "none",
         "legendgroup": "bearings",
         "line": {
          "color": "#355d7a",
          "width": 1
         },
         "mode": "lines",
         "name": "Bearing 0",
         "showlegend": false,
         "type": "scatter",
         "x": [
          0,
          0,
          -0.03079365079365079,
          0.03079365079365079
         ],
         "y": [
          0.3655555555555555,
          0.31166666666666665,
          0.31166666666666665,
          0.31166666666666665
         ]
        },
        {
         "hoverinfo": "none",
         "legendgroup": "bearings",
         "line": {
          "color": "#355d7a",
          "width": 1
         },
         "mode": "lines",
         "name": "Bearing 0",
         "showlegend": false,
         "type": "scatter",
         "x": [
          0,
          0,
          -0.03079365079365079,
          0.03079365079365079
         ],
         "y": [
          -0.3655555555555555,
          -0.31166666666666665,
          -0.31166666666666665,
          -0.31166666666666665
         ]
        },
        {
         "hoverinfo": "none",
         "legendgroup": "bearings",
         "line": {
          "color": "#355d7a",
          "width": 1
         },
         "mode": "lines",
         "name": "Bearing 0",
         "showlegend": false,
         "type": "scatter",
         "x": [
          -0.046190476190476185,
          0.046190476190476185
         ],
         "y": [
          0.3655555555555555,
          0.3655555555555555
         ]
        },
        {
         "hoverinfo": "none",
         "legendgroup": "bearings",
         "line": {
          "color": "#355d7a",
          "width": 1
         },
         "mode": "lines",
         "name": "Bearing 0",
         "showlegend": false,
         "type": "scatter",
         "x": [
          -0.046190476190476185,
          0.046190476190476185
         ],
         "y": [
          -0.3655555555555555,
          -0.3655555555555555
         ]
        },
        {
         "hoverinfo": "none",
         "legendgroup": "bearings",
         "line": {
          "color": "#355d7a",
          "width": 1
         },
         "mode": "lines",
         "name": "Bearing 0",
         "showlegend": false,
         "type": "scatter",
         "x": [
          -0.046190476190476185,
          -0.027714285714285712
         ],
         "y": [
          0.3655555555555555,
          0.4021111111111111
         ]
        },
        {
         "hoverinfo": "none",
         "legendgroup": "bearings",
         "line": {
          "color": "#355d7a",
          "width": 1
         },
         "mode": "lines",
         "name": "Bearing 0",
         "showlegend": false,
         "type": "scatter",
         "x": [
          -0.046190476190476185,
          -0.027714285714285712
         ],
         "y": [
          -0.3655555555555555,
          -0.4021111111111111
         ]
        },
        {
         "hoverinfo": "none",
         "legendgroup": "bearings",
         "line": {
          "color": "#355d7a",
          "width": 1
         },
         "mode": "lines",
         "name": "Bearing 0",
         "showlegend": false,
         "type": "scatter",
         "x": [
          -0.027714285714285712,
          -0.00923809523809524
         ],
         "y": [
          0.3655555555555555,
          0.4021111111111111
         ]
        },
        {
         "hoverinfo": "none",
         "legendgroup": "bearings",
         "line": {
          "color": "#355d7a",
          "width": 1
         },
         "mode": "lines",
         "name": "Bearing 0",
         "showlegend": false,
         "type": "scatter",
         "x": [
          -0.027714285714285712,
          -0.00923809523809524
         ],
         "y": [
          -0.3655555555555555,
          -0.4021111111111111
         ]
        },
        {
         "hoverinfo": "none",
         "legendgroup": "bearings",
         "line": {
          "color": "#355d7a",
          "width": 1
         },
         "mode": "lines",
         "name": "Bearing 0",
         "showlegend": false,
         "type": "scatter",
         "x": [
          -0.00923809523809524,
          0.009238095238095233
         ],
         "y": [
          0.3655555555555555,
          0.4021111111111111
         ]
        },
        {
         "hoverinfo": "none",
         "legendgroup": "bearings",
         "line": {
          "color": "#355d7a",
          "width": 1
         },
         "mode": "lines",
         "name": "Bearing 0",
         "showlegend": false,
         "type": "scatter",
         "x": [
          -0.00923809523809524,
          0.009238095238095233
         ],
         "y": [
          -0.3655555555555555,
          -0.4021111111111111
         ]
        },
        {
         "hoverinfo": "none",
         "legendgroup": "bearings",
         "line": {
          "color": "#355d7a",
          "width": 1
         },
         "mode": "lines",
         "name": "Bearing 0",
         "showlegend": false,
         "type": "scatter",
         "x": [
          0.009238095238095233,
          0.027714285714285705
         ],
         "y": [
          0.3655555555555555,
          0.4021111111111111
         ]
        },
        {
         "hoverinfo": "none",
         "legendgroup": "bearings",
         "line": {
          "color": "#355d7a",
          "width": 1
         },
         "mode": "lines",
         "name": "Bearing 0",
         "showlegend": false,
         "type": "scatter",
         "x": [
          0.009238095238095233,
          0.027714285714285705
         ],
         "y": [
          -0.3655555555555555,
          -0.4021111111111111
         ]
        },
        {
         "hoverinfo": "none",
         "legendgroup": "bearings",
         "line": {
          "color": "#355d7a",
          "width": 1
         },
         "mode": "lines",
         "name": "Bearing 0",
         "showlegend": false,
         "type": "scatter",
         "x": [
          0.027714285714285705,
          0.046190476190476185
         ],
         "y": [
          0.3655555555555555,
          0.4021111111111111
         ]
        },
        {
         "hoverinfo": "none",
         "legendgroup": "bearings",
         "line": {
          "color": "#355d7a",
          "width": 1
         },
         "mode": "lines",
         "name": "Bearing 0",
         "showlegend": false,
         "type": "scatter",
         "x": [
          0.027714285714285705,
          0.046190476190476185
         ],
         "y": [
          -0.3655555555555555,
          -0.4021111111111111
         ]
        },
        {
         "hoverinfo": "none",
         "legendgroup": "bearings",
         "line": {
          "color": "#355d7a",
          "width": 1
         },
         "mode": "lines",
         "name": "Bearing 0",
         "showlegend": false,
         "type": "scatter",
         "x": [
          0.046190476190476185,
          0.06466666666666665
         ],
         "y": [
          0.3655555555555555,
          0.4021111111111111
         ]
        },
        {
         "hoverinfo": "none",
         "legendgroup": "bearings",
         "line": {
          "color": "#355d7a",
          "width": 1
         },
         "mode": "lines",
         "name": "Bearing 0",
         "showlegend": false,
         "type": "scatter",
         "x": [
          0.046190476190476185,
          0.06466666666666665
         ],
         "y": [
          -0.3655555555555555,
          -0.4021111111111111
         ]
        },
        {
         "hoverinfo": "none",
         "legendgroup": "bearings",
         "line": {
          "color": "#355d7a",
          "width": 1
         },
         "mode": "lines",
         "name": "Bearing 0",
         "showlegend": false,
         "type": "scatter",
         "x": [
          -0.03079365079365079,
          -0.03079365079365079,
          -0.046190476190476185,
          -0.015396825396825395,
          -0.046190476190476185,
          -0.015396825396825395,
          -0.046190476190476185,
          -0.015396825396825395,
          -0.03079365079365079,
          -0.03079365079365079
         ],
         "y": [
          0.20388888888888887,
          0.21928571428571425,
          0.21928571428571425,
          0.23468253968253966,
          0.25007936507936507,
          0.2654761904761904,
          0.28087301587301583,
          0.29626984126984124,
          0.29626984126984124,
          0.31166666666666665
         ]
        },
        {
         "hoverinfo": "none",
         "legendgroup": "bearings",
         "line": {
          "color": "#355d7a",
          "width": 1
         },
         "mode": "lines",
         "name": "Bearing 0",
         "showlegend": false,
         "type": "scatter",
         "x": [
          -0.03079365079365079,
          -0.03079365079365079,
          -0.046190476190476185,
          -0.015396825396825395,
          -0.046190476190476185,
          -0.015396825396825395,
          -0.046190476190476185,
          -0.015396825396825395,
          -0.03079365079365079,
          -0.03079365079365079
         ],
         "y": [
          -0.20388888888888887,
          -0.21928571428571425,
          -0.21928571428571425,
          -0.23468253968253966,
          -0.25007936507936507,
          -0.2654761904761904,
          -0.28087301587301583,
          -0.29626984126984124,
          -0.29626984126984124,
          -0.31166666666666665
         ]
        },
        {
         "hoverinfo": "none",
         "legendgroup": "bearings",
         "line": {
          "color": "#355d7a",
          "width": 1
         },
         "mode": "lines",
         "name": "Bearing 0",
         "showlegend": false,
         "type": "scatter",
         "x": [
          0.03079365079365079,
          0.03079365079365079
         ],
         "y": [
          0.20388888888888887,
          0.23468253968253966
         ]
        },
        {
         "hoverinfo": "none",
         "legendgroup": "bearings",
         "line": {
          "color": "#355d7a",
          "width": 1
         },
         "mode": "lines",
         "name": "Bearing 0",
         "showlegend": false,
         "type": "scatter",
         "x": [
          0.03079365079365079,
          0.03079365079365079
         ],
         "y": [
          -0.20388888888888887,
          -0.23468253968253966
         ]
        },
        {
         "hoverinfo": "none",
         "legendgroup": "bearings",
         "line": {
          "color": "#355d7a",
          "width": 1
         },
         "mode": "lines",
         "name": "Bearing 0",
         "showlegend": false,
         "type": "scatter",
         "x": [
          0,
          0,
          0.06158730158730158,
          0.06158730158730158
         ],
         "y": [
          0.28087301587301583,
          0.23468253968253966,
          0.23468253968253966,
          0.28087301587301583
         ]
        },
        {
         "hoverinfo": "none",
         "legendgroup": "bearings",
         "line": {
          "color": "#355d7a",
          "width": 1
         },
         "mode": "lines",
         "name": "Bearing 0",
         "showlegend": false,
         "type": "scatter",
         "x": [
          0,
          0,
          0.06158730158730158,
          0.06158730158730158
         ],
         "y": [
          -0.28087301587301583,
          -0.23468253968253966,
          -0.23468253968253966,
          -0.28087301587301583
         ]
        },
        {
         "hoverinfo": "none",
         "legendgroup": "bearings",
         "line": {
          "color": "#355d7a",
          "width": 1
         },
         "mode": "lines",
         "name": "Bearing 0",
         "showlegend": false,
         "type": "scatter",
         "x": [
          0,
          0.06158730158730158,
          0.03079365079365079,
          0.03079365079365079
         ],
         "y": [
          0.2654761904761904,
          0.2654761904761904,
          0.2654761904761904,
          0.31166666666666665
         ]
        },
        {
         "hoverinfo": "none",
         "legendgroup": "bearings",
         "line": {
          "color": "#355d7a",
          "width": 1
         },
         "mode": "lines",
         "name": "Bearing 0",
         "showlegend": false,
         "type": "scatter",
         "x": [
          0,
          0.06158730158730158,
          0.03079365079365079,
          0.03079365079365079
         ],
         "y": [
          -0.2654761904761904,
          -0.2654761904761904,
          -0.2654761904761904,
          -0.31166666666666665
         ]
        },
        {
         "hoverinfo": "none",
         "legendgroup": "bearings",
         "line": {
          "color": "#355d7a",
          "width": 1
         },
         "mode": "lines",
         "name": "Bearing 1",
         "showlegend": false,
         "type": "scatter",
         "x": [
          5.5,
          5.5,
          5.469206349206349,
          5.530793650793651
         ],
         "y": [
          0.11,
          0.1638888888888889,
          0.1638888888888889,
          0.1638888888888889
         ]
        },
        {
         "hoverinfo": "none",
         "legendgroup": "bearings",
         "line": {
          "color": "#355d7a",
          "width": 1
         },
         "mode": "lines",
         "name": "Bearing 1",
         "showlegend": false,
         "type": "scatter",
         "x": [
          5.5,
          5.5,
          5.469206349206349,
          5.530793650793651
         ],
         "y": [
          -0.11,
          -0.1638888888888889,
          -0.1638888888888889,
          -0.1638888888888889
         ]
        },
        {
         "hoverinfo": "none",
         "legendgroup": "bearings",
         "line": {
          "color": "#355d7a",
          "width": 1
         },
         "mode": "lines",
         "name": "Bearing 1",
         "showlegend": false,
         "type": "scatter",
         "x": [
          5.5,
          5.5,
          5.469206349206349,
          5.530793650793651
         ],
         "y": [
          0.32555555555555554,
          0.27166666666666667,
          0.27166666666666667,
          0.27166666666666667
         ]
        },
        {
         "hoverinfo": "none",
         "legendgroup": "bearings",
         "line": {
          "color": "#355d7a",
          "width": 1
         },
         "mode": "lines",
         "name": "Bearing 1",
         "showlegend": false,
         "type": "scatter",
         "x": [
          5.5,
          5.5,
          5.469206349206349,
          5.530793650793651
         ],
         "y": [
          -0.32555555555555554,
          -0.27166666666666667,
          -0.27166666666666667,
          -0.27166666666666667
         ]
        },
        {
         "hoverinfo": "none",
         "legendgroup": "bearings",
         "line": {
          "color": "#355d7a",
          "width": 1
         },
         "mode": "lines",
         "name": "Bearing 1",
         "showlegend": false,
         "type": "scatter",
         "x": [
          5.453809523809523,
          5.546190476190477
         ],
         "y": [
          0.32555555555555554,
          0.32555555555555554
         ]
        },
        {
         "hoverinfo": "none",
         "legendgroup": "bearings",
         "line": {
          "color": "#355d7a",
          "width": 1
         },
         "mode": "lines",
         "name": "Bearing 1",
         "showlegend": false,
         "type": "scatter",
         "x": [
          5.453809523809523,
          5.546190476190477
         ],
         "y": [
          -0.32555555555555554,
          -0.32555555555555554
         ]
        },
        {
         "hoverinfo": "none",
         "legendgroup": "bearings",
         "line": {
          "color": "#355d7a",
          "width": 1
         },
         "mode": "lines",
         "name": "Bearing 1",
         "showlegend": false,
         "type": "scatter",
         "x": [
          5.453809523809523,
          5.472285714285714
         ],
         "y": [
          0.32555555555555554,
          0.3581111111111111
         ]
        },
        {
         "hoverinfo": "none",
         "legendgroup": "bearings",
         "line": {
          "color": "#355d7a",
          "width": 1
         },
         "mode": "lines",
         "name": "Bearing 1",
         "showlegend": false,
         "type": "scatter",
         "x": [
          5.453809523809523,
          5.472285714285714
         ],
         "y": [
          -0.32555555555555554,
          -0.3581111111111111
         ]
        },
        {
         "hoverinfo": "none",
         "legendgroup": "bearings",
         "line": {
          "color": "#355d7a",
          "width": 1
         },
         "mode": "lines",
         "name": "Bearing 1",
         "showlegend": false,
         "type": "scatter",
         "x": [
          5.472285714285714,
          5.4907619047619045
         ],
         "y": [
          0.32555555555555554,
          0.3581111111111111
         ]
        },
        {
         "hoverinfo": "none",
         "legendgroup": "bearings",
         "line": {
          "color": "#355d7a",
          "width": 1
         },
         "mode": "lines",
         "name": "Bearing 1",
         "showlegend": false,
         "type": "scatter",
         "x": [
          5.472285714285714,
          5.4907619047619045
         ],
         "y": [
          -0.32555555555555554,
          -0.3581111111111111
         ]
        },
        {
         "hoverinfo": "none",
         "legendgroup": "bearings",
         "line": {
          "color": "#355d7a",
          "width": 1
         },
         "mode": "lines",
         "name": "Bearing 1",
         "showlegend": false,
         "type": "scatter",
         "x": [
          5.4907619047619045,
          5.5092380952380955
         ],
         "y": [
          0.32555555555555554,
          0.3581111111111111
         ]
        },
        {
         "hoverinfo": "none",
         "legendgroup": "bearings",
         "line": {
          "color": "#355d7a",
          "width": 1
         },
         "mode": "lines",
         "name": "Bearing 1",
         "showlegend": false,
         "type": "scatter",
         "x": [
          5.4907619047619045,
          5.5092380952380955
         ],
         "y": [
          -0.32555555555555554,
          -0.3581111111111111
         ]
        },
        {
         "hoverinfo": "none",
         "legendgroup": "bearings",
         "line": {
          "color": "#355d7a",
          "width": 1
         },
         "mode": "lines",
         "name": "Bearing 1",
         "showlegend": false,
         "type": "scatter",
         "x": [
          5.5092380952380955,
          5.527714285714286
         ],
         "y": [
          0.32555555555555554,
          0.3581111111111111
         ]
        },
        {
         "hoverinfo": "none",
         "legendgroup": "bearings",
         "line": {
          "color": "#355d7a",
          "width": 1
         },
         "mode": "lines",
         "name": "Bearing 1",
         "showlegend": false,
         "type": "scatter",
         "x": [
          5.5092380952380955,
          5.527714285714286
         ],
         "y": [
          -0.32555555555555554,
          -0.3581111111111111
         ]
        },
        {
         "hoverinfo": "none",
         "legendgroup": "bearings",
         "line": {
          "color": "#355d7a",
          "width": 1
         },
         "mode": "lines",
         "name": "Bearing 1",
         "showlegend": false,
         "type": "scatter",
         "x": [
          5.527714285714286,
          5.546190476190477
         ],
         "y": [
          0.32555555555555554,
          0.3581111111111111
         ]
        },
        {
         "hoverinfo": "none",
         "legendgroup": "bearings",
         "line": {
          "color": "#355d7a",
          "width": 1
         },
         "mode": "lines",
         "name": "Bearing 1",
         "showlegend": false,
         "type": "scatter",
         "x": [
          5.527714285714286,
          5.546190476190477
         ],
         "y": [
          -0.32555555555555554,
          -0.3581111111111111
         ]
        },
        {
         "hoverinfo": "none",
         "legendgroup": "bearings",
         "line": {
          "color": "#355d7a",
          "width": 1
         },
         "mode": "lines",
         "name": "Bearing 1",
         "showlegend": false,
         "type": "scatter",
         "x": [
          5.546190476190477,
          5.5646666666666675
         ],
         "y": [
          0.32555555555555554,
          0.3581111111111111
         ]
        },
        {
         "hoverinfo": "none",
         "legendgroup": "bearings",
         "line": {
          "color": "#355d7a",
          "width": 1
         },
         "mode": "lines",
         "name": "Bearing 1",
         "showlegend": false,
         "type": "scatter",
         "x": [
          5.546190476190477,
          5.5646666666666675
         ],
         "y": [
          -0.32555555555555554,
          -0.3581111111111111
         ]
        },
        {
         "hoverinfo": "none",
         "legendgroup": "bearings",
         "line": {
          "color": "#355d7a",
          "width": 1
         },
         "mode": "lines",
         "name": "Bearing 1",
         "showlegend": false,
         "type": "scatter",
         "x": [
          5.469206349206349,
          5.469206349206349,
          5.453809523809523,
          5.4846031746031745,
          5.453809523809523,
          5.4846031746031745,
          5.453809523809523,
          5.4846031746031745,
          5.469206349206349,
          5.469206349206349
         ],
         "y": [
          0.1638888888888889,
          0.1792857142857143,
          0.1792857142857143,
          0.19468253968253968,
          0.2100793650793651,
          0.22547619047619047,
          0.24087301587301588,
          0.25626984126984126,
          0.25626984126984126,
          0.27166666666666667
         ]
        },
        {
         "hoverinfo": "none",
         "legendgroup": "bearings",
         "line": {
          "color": "#355d7a",
          "width": 1
         },
         "mode": "lines",
         "name": "Bearing 1",
         "showlegend": false,
         "type": "scatter",
         "x": [
          5.469206349206349,
          5.469206349206349,
          5.453809523809523,
          5.4846031746031745,
          5.453809523809523,
          5.4846031746031745,
          5.453809523809523,
          5.4846031746031745,
          5.469206349206349,
          5.469206349206349
         ],
         "y": [
          -0.1638888888888889,
          -0.1792857142857143,
          -0.1792857142857143,
          -0.19468253968253968,
          -0.2100793650793651,
          -0.22547619047619047,
          -0.24087301587301588,
          -0.25626984126984126,
          -0.25626984126984126,
          -0.27166666666666667
         ]
        },
        {
         "hoverinfo": "none",
         "legendgroup": "bearings",
         "line": {
          "color": "#355d7a",
          "width": 1
         },
         "mode": "lines",
         "name": "Bearing 1",
         "showlegend": false,
         "type": "scatter",
         "x": [
          5.530793650793651,
          5.530793650793651
         ],
         "y": [
          0.1638888888888889,
          0.19468253968253968
         ]
        },
        {
         "hoverinfo": "none",
         "legendgroup": "bearings",
         "line": {
          "color": "#355d7a",
          "width": 1
         },
         "mode": "lines",
         "name": "Bearing 1",
         "showlegend": false,
         "type": "scatter",
         "x": [
          5.530793650793651,
          5.530793650793651
         ],
         "y": [
          -0.1638888888888889,
          -0.19468253968253968
         ]
        },
        {
         "hoverinfo": "none",
         "legendgroup": "bearings",
         "line": {
          "color": "#355d7a",
          "width": 1
         },
         "mode": "lines",
         "name": "Bearing 1",
         "showlegend": false,
         "type": "scatter",
         "x": [
          5.5,
          5.5,
          5.561587301587302,
          5.561587301587302
         ],
         "y": [
          0.24087301587301588,
          0.19468253968253968,
          0.19468253968253968,
          0.24087301587301588
         ]
        },
        {
         "hoverinfo": "none",
         "legendgroup": "bearings",
         "line": {
          "color": "#355d7a",
          "width": 1
         },
         "mode": "lines",
         "name": "Bearing 1",
         "showlegend": false,
         "type": "scatter",
         "x": [
          5.5,
          5.5,
          5.561587301587302,
          5.561587301587302
         ],
         "y": [
          -0.24087301587301588,
          -0.19468253968253968,
          -0.19468253968253968,
          -0.24087301587301588
         ]
        },
        {
         "hoverinfo": "none",
         "legendgroup": "bearings",
         "line": {
          "color": "#355d7a",
          "width": 1
         },
         "mode": "lines",
         "name": "Bearing 1",
         "showlegend": false,
         "type": "scatter",
         "x": [
          5.5,
          5.561587301587302,
          5.530793650793651,
          5.530793650793651
         ],
         "y": [
          0.22547619047619047,
          0.22547619047619047,
          0.22547619047619047,
          0.27166666666666667
         ]
        },
        {
         "hoverinfo": "none",
         "legendgroup": "bearings",
         "line": {
          "color": "#355d7a",
          "width": 1
         },
         "mode": "lines",
         "name": "Bearing 1",
         "showlegend": false,
         "type": "scatter",
         "x": [
          5.5,
          5.561587301587302,
          5.530793650793651,
          5.530793650793651
         ],
         "y": [
          -0.22547619047619047,
          -0.22547619047619047,
          -0.22547619047619047,
          -0.27166666666666667
         ]
        },
        {
         "hoverinfo": "none",
         "legendgroup": "bearings",
         "line": {
          "color": "#355d7a",
          "width": 1
         },
         "mode": "lines",
         "name": "Bearing 2",
         "showlegend": false,
         "type": "scatter",
         "x": [
          6.1,
          6.1,
          6.069206349206349,
          6.130793650793651
         ],
         "y": [
          -0.8086970000000002,
          -0.7548081111111113,
          -0.7548081111111113,
          -0.7548081111111113
         ]
        },
        {
         "hoverinfo": "none",
         "legendgroup": "bearings",
         "line": {
          "color": "#355d7a",
          "width": 1
         },
         "mode": "lines",
         "name": "Bearing 2",
         "showlegend": false,
         "type": "scatter",
         "x": [
          6.1,
          6.1,
          6.069206349206349,
          6.130793650793651
         ],
         "y": [
          -0.9586970000000001,
          -1.012585888888889,
          -1.012585888888889,
          -1.012585888888889
         ]
        },
        {
         "hoverinfo": "none",
         "legendgroup": "bearings",
         "line": {
          "color": "#355d7a",
          "width": 1
         },
         "mode": "lines",
         "name": "Bearing 2",
         "showlegend": false,
         "type": "scatter",
         "x": [
          6.1,
          6.1,
          6.069206349206349,
          6.130793650793651
         ],
         "y": [
          -0.5931414444444446,
          -0.6470303333333335,
          -0.6470303333333335,
          -0.6470303333333335
         ]
        },
        {
         "hoverinfo": "none",
         "legendgroup": "bearings",
         "line": {
          "color": "#355d7a",
          "width": 1
         },
         "mode": "lines",
         "name": "Bearing 2",
         "showlegend": false,
         "type": "scatter",
         "x": [
          6.1,
          6.1,
          6.069206349206349,
          6.130793650793651
         ],
         "y": [
          -1.1742525555555559,
          -1.120363666666667,
          -1.120363666666667,
          -1.120363666666667
         ]
        },
        {
         "hoverinfo": "none",
         "legendgroup": "bearings",
         "line": {
          "color": "#355d7a",
          "width": 1
         },
         "mode": "lines",
         "name": "Bearing 2",
         "showlegend": false,
         "type": "scatter",
         "x": [
          6.053809523809523,
          6.146190476190476
         ],
         "y": [
          -0.5931414444444446,
          -0.5931414444444446
         ]
        },
        {
         "hoverinfo": "none",
         "legendgroup": "bearings",
         "line": {
          "color": "#355d7a",
          "width": 1
         },
         "mode": "lines",
         "name": "Bearing 2",
         "showlegend": false,
         "type": "scatter",
         "x": [
          6.053809523809523,
          6.146190476190476
         ],
         "y": [
          -1.1742525555555559,
          -1.1742525555555559
         ]
        },
        {
         "hoverinfo": "none",
         "legendgroup": "bearings",
         "line": {
          "color": "#355d7a",
          "width": 1
         },
         "mode": "lines",
         "name": "Bearing 2",
         "showlegend": false,
         "type": "scatter",
         "x": [
          6.053809523809523,
          6.072285714285714
         ],
         "y": [
          -0.5931414444444446,
          -0.5640858888888891
         ]
        },
        {
         "hoverinfo": "none",
         "legendgroup": "bearings",
         "line": {
          "color": "#355d7a",
          "width": 1
         },
         "mode": "lines",
         "name": "Bearing 2",
         "showlegend": false,
         "type": "scatter",
         "x": [
          6.053809523809523,
          6.072285714285714
         ],
         "y": [
          -1.1742525555555559,
          -1.2033081111111112
         ]
        },
        {
         "hoverinfo": "none",
         "legendgroup": "bearings",
         "line": {
          "color": "#355d7a",
          "width": 1
         },
         "mode": "lines",
         "name": "Bearing 2",
         "showlegend": false,
         "type": "scatter",
         "x": [
          6.072285714285714,
          6.090761904761904
         ],
         "y": [
          -0.5931414444444446,
          -0.5640858888888891
         ]
        },
        {
         "hoverinfo": "none",
         "legendgroup": "bearings",
         "line": {
          "color": "#355d7a",
          "width": 1
         },
         "mode": "lines",
         "name": "Bearing 2",
         "showlegend": false,
         "type": "scatter",
         "x": [
          6.072285714285714,
          6.090761904761904
         ],
         "y": [
          -1.1742525555555559,
          -1.2033081111111112
         ]
        },
        {
         "hoverinfo": "none",
         "legendgroup": "bearings",
         "line": {
          "color": "#355d7a",
          "width": 1
         },
         "mode": "lines",
         "name": "Bearing 2",
         "showlegend": false,
         "type": "scatter",
         "x": [
          6.090761904761904,
          6.109238095238095
         ],
         "y": [
          -0.5931414444444446,
          -0.5640858888888891
         ]
        },
        {
         "hoverinfo": "none",
         "legendgroup": "bearings",
         "line": {
          "color": "#355d7a",
          "width": 1
         },
         "mode": "lines",
         "name": "Bearing 2",
         "showlegend": false,
         "type": "scatter",
         "x": [
          6.090761904761904,
          6.109238095238095
         ],
         "y": [
          -1.1742525555555559,
          -1.2033081111111112
         ]
        },
        {
         "hoverinfo": "none",
         "legendgroup": "bearings",
         "line": {
          "color": "#355d7a",
          "width": 1
         },
         "mode": "lines",
         "name": "Bearing 2",
         "showlegend": false,
         "type": "scatter",
         "x": [
          6.109238095238095,
          6.127714285714285
         ],
         "y": [
          -0.5931414444444446,
          -0.5640858888888891
         ]
        },
        {
         "hoverinfo": "none",
         "legendgroup": "bearings",
         "line": {
          "color": "#355d7a",
          "width": 1
         },
         "mode": "lines",
         "name": "Bearing 2",
         "showlegend": false,
         "type": "scatter",
         "x": [
          6.109238095238095,
          6.127714285714285
         ],
         "y": [
          -1.1742525555555559,
          -1.2033081111111112
         ]
        },
        {
         "hoverinfo": "none",
         "legendgroup": "bearings",
         "line": {
          "color": "#355d7a",
          "width": 1
         },
         "mode": "lines",
         "name": "Bearing 2",
         "showlegend": false,
         "type": "scatter",
         "x": [
          6.127714285714285,
          6.146190476190476
         ],
         "y": [
          -0.5931414444444446,
          -0.5640858888888891
         ]
        },
        {
         "hoverinfo": "none",
         "legendgroup": "bearings",
         "line": {
          "color": "#355d7a",
          "width": 1
         },
         "mode": "lines",
         "name": "Bearing 2",
         "showlegend": false,
         "type": "scatter",
         "x": [
          6.127714285714285,
          6.146190476190476
         ],
         "y": [
          -1.1742525555555559,
          -1.2033081111111112
         ]
        },
        {
         "hoverinfo": "none",
         "legendgroup": "bearings",
         "line": {
          "color": "#355d7a",
          "width": 1
         },
         "mode": "lines",
         "name": "Bearing 2",
         "showlegend": false,
         "type": "scatter",
         "x": [
          6.146190476190476,
          6.164666666666667
         ],
         "y": [
          -0.5931414444444446,
          -0.5640858888888891
         ]
        },
        {
         "hoverinfo": "none",
         "legendgroup": "bearings",
         "line": {
          "color": "#355d7a",
          "width": 1
         },
         "mode": "lines",
         "name": "Bearing 2",
         "showlegend": false,
         "type": "scatter",
         "x": [
          6.146190476190476,
          6.164666666666667
         ],
         "y": [
          -1.1742525555555559,
          -1.2033081111111112
         ]
        },
        {
         "hoverinfo": "none",
         "legendgroup": "bearings",
         "line": {
          "color": "#355d7a",
          "width": 1
         },
         "mode": "lines",
         "name": "Bearing 2",
         "showlegend": false,
         "type": "scatter",
         "x": [
          6.069206349206349,
          6.069206349206349,
          6.053809523809523,
          6.084603174603174,
          6.053809523809523,
          6.084603174603174,
          6.053809523809523,
          6.084603174603174,
          6.069206349206349,
          6.069206349206349
         ],
         "y": [
          -0.7548081111111113,
          -0.7394112857142858,
          -0.7394112857142858,
          -0.7240144603174605,
          -0.7086176349206351,
          -0.6932208095238097,
          -0.6778239841269843,
          -0.6624271587301589,
          -0.6624271587301589,
          -0.6470303333333335
         ]
        },
        {
         "hoverinfo": "none",
         "legendgroup": "bearings",
         "line": {
          "color": "#355d7a",
          "width": 1
         },
         "mode": "lines",
         "name": "Bearing 2",
         "showlegend": false,
         "type": "scatter",
         "x": [
          6.069206349206349,
          6.069206349206349,
          6.053809523809523,
          6.084603174603174,
          6.053809523809523,
          6.084603174603174,
          6.053809523809523,
          6.084603174603174,
          6.069206349206349,
          6.069206349206349
         ],
         "y": [
          -1.012585888888889,
          -1.0279827142857145,
          -1.0279827142857145,
          -1.0433795396825398,
          -1.0587763650793653,
          -1.0741731904761906,
          -1.089570015873016,
          -1.1049668412698415,
          -1.1049668412698415,
          -1.1203636666666668
         ]
        },
        {
         "hoverinfo": "none",
         "legendgroup": "bearings",
         "line": {
          "color": "#355d7a",
          "width": 1
         },
         "mode": "lines",
         "name": "Bearing 2",
         "showlegend": false,
         "type": "scatter",
         "x": [
          6.130793650793651,
          6.130793650793651
         ],
         "y": [
          -0.7548081111111113,
          -0.7240144603174605
         ]
        },
        {
         "hoverinfo": "none",
         "legendgroup": "bearings",
         "line": {
          "color": "#355d7a",
          "width": 1
         },
         "mode": "lines",
         "name": "Bearing 2",
         "showlegend": false,
         "type": "scatter",
         "x": [
          6.130793650793651,
          6.130793650793651
         ],
         "y": [
          -1.012585888888889,
          -1.0433795396825398
         ]
        },
        {
         "hoverinfo": "none",
         "legendgroup": "bearings",
         "line": {
          "color": "#355d7a",
          "width": 1
         },
         "mode": "lines",
         "name": "Bearing 2",
         "showlegend": false,
         "type": "scatter",
         "x": [
          6.1,
          6.1,
          6.161587301587302,
          6.161587301587302
         ],
         "y": [
          -0.6778239841269843,
          -0.7240144603174605,
          -0.7240144603174605,
          -0.6778239841269843
         ]
        },
        {
         "hoverinfo": "none",
         "legendgroup": "bearings",
         "line": {
          "color": "#355d7a",
          "width": 1
         },
         "mode": "lines",
         "name": "Bearing 2",
         "showlegend": false,
         "type": "scatter",
         "x": [
          6.1,
          6.1,
          6.161587301587302,
          6.161587301587302
         ],
         "y": [
          -1.089570015873016,
          -1.0433795396825398,
          -1.0433795396825398,
          -1.089570015873016
         ]
        },
        {
         "hoverinfo": "none",
         "legendgroup": "bearings",
         "line": {
          "color": "#355d7a",
          "width": 1
         },
         "mode": "lines",
         "name": "Bearing 2",
         "showlegend": false,
         "type": "scatter",
         "x": [
          6.1,
          6.161587301587302,
          6.130793650793651,
          6.130793650793651
         ],
         "y": [
          -0.6932208095238097,
          -0.6932208095238097,
          -0.6932208095238097,
          -0.6470303333333335
         ]
        },
        {
         "hoverinfo": "none",
         "legendgroup": "bearings",
         "line": {
          "color": "#355d7a",
          "width": 1
         },
         "mode": "lines",
         "name": "Bearing 2",
         "showlegend": false,
         "type": "scatter",
         "x": [
          6.1,
          6.161587301587302,
          6.130793650793651,
          6.130793650793651
         ],
         "y": [
          -1.0741731904761906,
          -1.0741731904761906,
          -1.0741731904761906,
          -1.120363666666667
         ]
        },
        {
         "hoverinfo": "none",
         "legendgroup": "bearings",
         "line": {
          "color": "#355d7a",
          "width": 1
         },
         "mode": "lines",
         "name": "Bearing 3",
         "showlegend": false,
         "type": "scatter",
         "x": [
          11.2,
          11.2,
          11.169206349206348,
          11.23079365079365
         ],
         "y": [
          -0.8086970000000002,
          -0.7548081111111113,
          -0.7548081111111113,
          -0.7548081111111113
         ]
        },
        {
         "hoverinfo": "none",
         "legendgroup": "bearings",
         "line": {
          "color": "#355d7a",
          "width": 1
         },
         "mode": "lines",
         "name": "Bearing 3",
         "showlegend": false,
         "type": "scatter",
         "x": [
          11.2,
          11.2,
          11.169206349206348,
          11.23079365079365
         ],
         "y": [
          -0.9586970000000001,
          -1.012585888888889,
          -1.012585888888889,
          -1.012585888888889
         ]
        },
        {
         "hoverinfo": "none",
         "legendgroup": "bearings",
         "line": {
          "color": "#355d7a",
          "width": 1
         },
         "mode": "lines",
         "name": "Bearing 3",
         "showlegend": false,
         "type": "scatter",
         "x": [
          11.2,
          11.2,
          11.169206349206348,
          11.23079365079365
         ],
         "y": [
          -0.5931414444444446,
          -0.6470303333333335,
          -0.6470303333333335,
          -0.6470303333333335
         ]
        },
        {
         "hoverinfo": "none",
         "legendgroup": "bearings",
         "line": {
          "color": "#355d7a",
          "width": 1
         },
         "mode": "lines",
         "name": "Bearing 3",
         "showlegend": false,
         "type": "scatter",
         "x": [
          11.2,
          11.2,
          11.169206349206348,
          11.23079365079365
         ],
         "y": [
          -1.1742525555555559,
          -1.120363666666667,
          -1.120363666666667,
          -1.120363666666667
         ]
        },
        {
         "hoverinfo": "none",
         "legendgroup": "bearings",
         "line": {
          "color": "#355d7a",
          "width": 1
         },
         "mode": "lines",
         "name": "Bearing 3",
         "showlegend": false,
         "type": "scatter",
         "x": [
          11.153809523809523,
          11.246190476190476
         ],
         "y": [
          -0.5931414444444446,
          -0.5931414444444446
         ]
        },
        {
         "hoverinfo": "none",
         "legendgroup": "bearings",
         "line": {
          "color": "#355d7a",
          "width": 1
         },
         "mode": "lines",
         "name": "Bearing 3",
         "showlegend": false,
         "type": "scatter",
         "x": [
          11.153809523809523,
          11.246190476190476
         ],
         "y": [
          -1.1742525555555559,
          -1.1742525555555559
         ]
        },
        {
         "hoverinfo": "none",
         "legendgroup": "bearings",
         "line": {
          "color": "#355d7a",
          "width": 1
         },
         "mode": "lines",
         "name": "Bearing 3",
         "showlegend": false,
         "type": "scatter",
         "x": [
          11.153809523809523,
          11.172285714285714
         ],
         "y": [
          -0.5931414444444446,
          -0.5640858888888891
         ]
        },
        {
         "hoverinfo": "none",
         "legendgroup": "bearings",
         "line": {
          "color": "#355d7a",
          "width": 1
         },
         "mode": "lines",
         "name": "Bearing 3",
         "showlegend": false,
         "type": "scatter",
         "x": [
          11.153809523809523,
          11.172285714285714
         ],
         "y": [
          -1.1742525555555559,
          -1.2033081111111112
         ]
        },
        {
         "hoverinfo": "none",
         "legendgroup": "bearings",
         "line": {
          "color": "#355d7a",
          "width": 1
         },
         "mode": "lines",
         "name": "Bearing 3",
         "showlegend": false,
         "type": "scatter",
         "x": [
          11.172285714285714,
          11.190761904761905
         ],
         "y": [
          -0.5931414444444446,
          -0.5640858888888891
         ]
        },
        {
         "hoverinfo": "none",
         "legendgroup": "bearings",
         "line": {
          "color": "#355d7a",
          "width": 1
         },
         "mode": "lines",
         "name": "Bearing 3",
         "showlegend": false,
         "type": "scatter",
         "x": [
          11.172285714285714,
          11.190761904761905
         ],
         "y": [
          -1.1742525555555559,
          -1.2033081111111112
         ]
        },
        {
         "hoverinfo": "none",
         "legendgroup": "bearings",
         "line": {
          "color": "#355d7a",
          "width": 1
         },
         "mode": "lines",
         "name": "Bearing 3",
         "showlegend": false,
         "type": "scatter",
         "x": [
          11.190761904761905,
          11.209238095238094
         ],
         "y": [
          -0.5931414444444446,
          -0.5640858888888891
         ]
        },
        {
         "hoverinfo": "none",
         "legendgroup": "bearings",
         "line": {
          "color": "#355d7a",
          "width": 1
         },
         "mode": "lines",
         "name": "Bearing 3",
         "showlegend": false,
         "type": "scatter",
         "x": [
          11.190761904761905,
          11.209238095238094
         ],
         "y": [
          -1.1742525555555559,
          -1.2033081111111112
         ]
        },
        {
         "hoverinfo": "none",
         "legendgroup": "bearings",
         "line": {
          "color": "#355d7a",
          "width": 1
         },
         "mode": "lines",
         "name": "Bearing 3",
         "showlegend": false,
         "type": "scatter",
         "x": [
          11.209238095238094,
          11.227714285714285
         ],
         "y": [
          -0.5931414444444446,
          -0.5640858888888891
         ]
        },
        {
         "hoverinfo": "none",
         "legendgroup": "bearings",
         "line": {
          "color": "#355d7a",
          "width": 1
         },
         "mode": "lines",
         "name": "Bearing 3",
         "showlegend": false,
         "type": "scatter",
         "x": [
          11.209238095238094,
          11.227714285714285
         ],
         "y": [
          -1.1742525555555559,
          -1.2033081111111112
         ]
        },
        {
         "hoverinfo": "none",
         "legendgroup": "bearings",
         "line": {
          "color": "#355d7a",
          "width": 1
         },
         "mode": "lines",
         "name": "Bearing 3",
         "showlegend": false,
         "type": "scatter",
         "x": [
          11.227714285714285,
          11.246190476190476
         ],
         "y": [
          -0.5931414444444446,
          -0.5640858888888891
         ]
        },
        {
         "hoverinfo": "none",
         "legendgroup": "bearings",
         "line": {
          "color": "#355d7a",
          "width": 1
         },
         "mode": "lines",
         "name": "Bearing 3",
         "showlegend": false,
         "type": "scatter",
         "x": [
          11.227714285714285,
          11.246190476190476
         ],
         "y": [
          -1.1742525555555559,
          -1.2033081111111112
         ]
        },
        {
         "hoverinfo": "none",
         "legendgroup": "bearings",
         "line": {
          "color": "#355d7a",
          "width": 1
         },
         "mode": "lines",
         "name": "Bearing 3",
         "showlegend": false,
         "type": "scatter",
         "x": [
          11.246190476190476,
          11.264666666666667
         ],
         "y": [
          -0.5931414444444446,
          -0.5640858888888891
         ]
        },
        {
         "hoverinfo": "none",
         "legendgroup": "bearings",
         "line": {
          "color": "#355d7a",
          "width": 1
         },
         "mode": "lines",
         "name": "Bearing 3",
         "showlegend": false,
         "type": "scatter",
         "x": [
          11.246190476190476,
          11.264666666666667
         ],
         "y": [
          -1.1742525555555559,
          -1.2033081111111112
         ]
        },
        {
         "hoverinfo": "none",
         "legendgroup": "bearings",
         "line": {
          "color": "#355d7a",
          "width": 1
         },
         "mode": "lines",
         "name": "Bearing 3",
         "showlegend": false,
         "type": "scatter",
         "x": [
          11.169206349206348,
          11.169206349206348,
          11.153809523809523,
          11.184603174603174,
          11.153809523809523,
          11.184603174603174,
          11.153809523809523,
          11.184603174603174,
          11.169206349206348,
          11.169206349206348
         ],
         "y": [
          -0.7548081111111113,
          -0.7394112857142858,
          -0.7394112857142858,
          -0.7240144603174605,
          -0.7086176349206351,
          -0.6932208095238097,
          -0.6778239841269843,
          -0.6624271587301589,
          -0.6624271587301589,
          -0.6470303333333335
         ]
        },
        {
         "hoverinfo": "none",
         "legendgroup": "bearings",
         "line": {
          "color": "#355d7a",
          "width": 1
         },
         "mode": "lines",
         "name": "Bearing 3",
         "showlegend": false,
         "type": "scatter",
         "x": [
          11.169206349206348,
          11.169206349206348,
          11.153809523809523,
          11.184603174603174,
          11.153809523809523,
          11.184603174603174,
          11.153809523809523,
          11.184603174603174,
          11.169206349206348,
          11.169206349206348
         ],
         "y": [
          -1.012585888888889,
          -1.0279827142857145,
          -1.0279827142857145,
          -1.0433795396825398,
          -1.0587763650793653,
          -1.0741731904761906,
          -1.089570015873016,
          -1.1049668412698415,
          -1.1049668412698415,
          -1.1203636666666668
         ]
        },
        {
         "hoverinfo": "none",
         "legendgroup": "bearings",
         "line": {
          "color": "#355d7a",
          "width": 1
         },
         "mode": "lines",
         "name": "Bearing 3",
         "showlegend": false,
         "type": "scatter",
         "x": [
          11.23079365079365,
          11.23079365079365
         ],
         "y": [
          -0.7548081111111113,
          -0.7240144603174605
         ]
        },
        {
         "hoverinfo": "none",
         "legendgroup": "bearings",
         "line": {
          "color": "#355d7a",
          "width": 1
         },
         "mode": "lines",
         "name": "Bearing 3",
         "showlegend": false,
         "type": "scatter",
         "x": [
          11.23079365079365,
          11.23079365079365
         ],
         "y": [
          -1.012585888888889,
          -1.0433795396825398
         ]
        },
        {
         "hoverinfo": "none",
         "legendgroup": "bearings",
         "line": {
          "color": "#355d7a",
          "width": 1
         },
         "mode": "lines",
         "name": "Bearing 3",
         "showlegend": false,
         "type": "scatter",
         "x": [
          11.2,
          11.2,
          11.261587301587301,
          11.261587301587301
         ],
         "y": [
          -0.6778239841269843,
          -0.7240144603174605,
          -0.7240144603174605,
          -0.6778239841269843
         ]
        },
        {
         "hoverinfo": "none",
         "legendgroup": "bearings",
         "line": {
          "color": "#355d7a",
          "width": 1
         },
         "mode": "lines",
         "name": "Bearing 3",
         "showlegend": false,
         "type": "scatter",
         "x": [
          11.2,
          11.2,
          11.261587301587301,
          11.261587301587301
         ],
         "y": [
          -1.089570015873016,
          -1.0433795396825398,
          -1.0433795396825398,
          -1.089570015873016
         ]
        },
        {
         "hoverinfo": "none",
         "legendgroup": "bearings",
         "line": {
          "color": "#355d7a",
          "width": 1
         },
         "mode": "lines",
         "name": "Bearing 3",
         "showlegend": false,
         "type": "scatter",
         "x": [
          11.2,
          11.261587301587301,
          11.23079365079365,
          11.23079365079365
         ],
         "y": [
          -0.6932208095238097,
          -0.6932208095238097,
          -0.6932208095238097,
          -0.6470303333333335
         ]
        },
        {
         "hoverinfo": "none",
         "legendgroup": "bearings",
         "line": {
          "color": "#355d7a",
          "width": 1
         },
         "mode": "lines",
         "name": "Bearing 3",
         "showlegend": false,
         "type": "scatter",
         "x": [
          11.2,
          11.261587301587301,
          11.23079365079365,
          11.23079365079365
         ],
         "y": [
          -1.0741731904761906,
          -1.0741731904761906,
          -1.0741731904761906,
          -1.120363666666667
         ]
        }
       ],
       "layout": {
        "shapes": [
         {
          "layer": "below",
          "line": {
           "color": "black",
           "dash": "dashdot",
           "width": 3
          },
          "opacity": 0.7,
          "type": "line",
          "x0": 0,
          "x1": 1,
          "xref": "paper",
          "y0": 0,
          "y1": 0,
          "yref": "y"
         },
         {
          "fillcolor": "Firebrick",
          "line": {
           "color": "Firebrick"
          },
          "type": "circle",
          "x0": 0.07305555555555557,
          "x1": 0.12694444444444444,
          "xref": "x",
          "y0": 0.5541666666666667,
          "y1": 0.6080555555555556,
          "yref": "y"
         },
         {
          "fillcolor": "Firebrick",
          "line": {
           "color": "Firebrick"
          },
          "type": "circle",
          "x0": 0.07305555555555557,
          "x1": 0.12694444444444444,
          "xref": "x",
          "y0": -0.6080555555555556,
          "y1": -0.5541666666666667,
          "yref": "y"
         },
         {
          "fillcolor": "Firebrick",
          "line": {
           "color": "Firebrick"
          },
          "type": "circle",
          "x0": 4.313055555555556,
          "x1": 4.366944444444444,
          "xref": "x",
          "y0": 0.5541666666666667,
          "y1": 0.6080555555555556,
          "yref": "y"
         },
         {
          "fillcolor": "Firebrick",
          "line": {
           "color": "Firebrick"
          },
          "type": "circle",
          "x0": 4.313055555555556,
          "x1": 4.366944444444444,
          "xref": "x",
          "y0": -0.6080555555555556,
          "y1": -0.5541666666666667,
          "yref": "y"
         },
         {
          "fillcolor": "Firebrick",
          "line": {
           "color": "Firebrick"
          },
          "type": "circle",
          "x0": 11.073055555555555,
          "x1": 11.126944444444444,
          "xref": "x",
          "y0": -0.40453033333333355,
          "y1": -0.35064144444444467,
          "yref": "y"
         },
         {
          "fillcolor": "Firebrick",
          "line": {
           "color": "Firebrick"
          },
          "type": "circle",
          "x0": 11.073055555555555,
          "x1": 11.126944444444444,
          "xref": "x",
          "y0": -1.4167525555555556,
          "y1": -1.3628636666666667,
          "yref": "y"
         }
        ],
        "template": {
         "data": {
          "bar": [
           {
            "error_x": {
             "color": "#2a3f5f"
            },
            "error_y": {
             "color": "#2a3f5f"
            },
            "marker": {
             "line": {
              "color": "white",
              "width": 0.5
             }
            },
            "type": "bar"
           }
          ],
          "barpolar": [
           {
            "marker": {
             "line": {
              "color": "white",
              "width": 0.5
             }
            },
            "type": "barpolar"
           }
          ],
          "carpet": [
           {
            "aaxis": {
             "endlinecolor": "#2a3f5f",
             "gridcolor": "#C8D4E3",
             "linecolor": "#C8D4E3",
             "minorgridcolor": "#C8D4E3",
             "startlinecolor": "#2a3f5f"
            },
            "baxis": {
             "endlinecolor": "#2a3f5f",
             "gridcolor": "#C8D4E3",
             "linecolor": "#C8D4E3",
             "minorgridcolor": "#C8D4E3",
             "startlinecolor": "#2a3f5f"
            },
            "type": "carpet"
           }
          ],
          "choropleth": [
           {
            "colorbar": {
             "outlinewidth": 0,
             "ticks": ""
            },
            "type": "choropleth"
           }
          ],
          "contour": [
           {
            "colorbar": {
             "outlinewidth": 0,
             "ticks": ""
            },
            "colorscale": [
             [
              0,
              "#0d0887"
             ],
             [
              0.1111111111111111,
              "#46039f"
             ],
             [
              0.2222222222222222,
              "#7201a8"
             ],
             [
              0.3333333333333333,
              "#9c179e"
             ],
             [
              0.4444444444444444,
              "#bd3786"
             ],
             [
              0.5555555555555556,
              "#d8576b"
             ],
             [
              0.6666666666666666,
              "#ed7953"
             ],
             [
              0.7777777777777778,
              "#fb9f3a"
             ],
             [
              0.8888888888888888,
              "#fdca26"
             ],
             [
              1,
              "#f0f921"
             ]
            ],
            "type": "contour"
           }
          ],
          "contourcarpet": [
           {
            "colorbar": {
             "outlinewidth": 0,
             "ticks": ""
            },
            "type": "contourcarpet"
           }
          ],
          "heatmap": [
           {
            "colorbar": {
             "outlinewidth": 0,
             "ticks": ""
            },
            "colorscale": [
             [
              0,
              "#0d0887"
             ],
             [
              0.1111111111111111,
              "#46039f"
             ],
             [
              0.2222222222222222,
              "#7201a8"
             ],
             [
              0.3333333333333333,
              "#9c179e"
             ],
             [
              0.4444444444444444,
              "#bd3786"
             ],
             [
              0.5555555555555556,
              "#d8576b"
             ],
             [
              0.6666666666666666,
              "#ed7953"
             ],
             [
              0.7777777777777778,
              "#fb9f3a"
             ],
             [
              0.8888888888888888,
              "#fdca26"
             ],
             [
              1,
              "#f0f921"
             ]
            ],
            "type": "heatmap"
           }
          ],
          "heatmapgl": [
           {
            "colorbar": {
             "outlinewidth": 0,
             "ticks": ""
            },
            "colorscale": [
             [
              0,
              "#0d0887"
             ],
             [
              0.1111111111111111,
              "#46039f"
             ],
             [
              0.2222222222222222,
              "#7201a8"
             ],
             [
              0.3333333333333333,
              "#9c179e"
             ],
             [
              0.4444444444444444,
              "#bd3786"
             ],
             [
              0.5555555555555556,
              "#d8576b"
             ],
             [
              0.6666666666666666,
              "#ed7953"
             ],
             [
              0.7777777777777778,
              "#fb9f3a"
             ],
             [
              0.8888888888888888,
              "#fdca26"
             ],
             [
              1,
              "#f0f921"
             ]
            ],
            "type": "heatmapgl"
           }
          ],
          "histogram": [
           {
            "marker": {
             "colorbar": {
              "outlinewidth": 0,
              "ticks": ""
             }
            },
            "type": "histogram"
           }
          ],
          "histogram2d": [
           {
            "colorbar": {
             "outlinewidth": 0,
             "ticks": ""
            },
            "colorscale": [
             [
              0,
              "#0d0887"
             ],
             [
              0.1111111111111111,
              "#46039f"
             ],
             [
              0.2222222222222222,
              "#7201a8"
             ],
             [
              0.3333333333333333,
              "#9c179e"
             ],
             [
              0.4444444444444444,
              "#bd3786"
             ],
             [
              0.5555555555555556,
              "#d8576b"
             ],
             [
              0.6666666666666666,
              "#ed7953"
             ],
             [
              0.7777777777777778,
              "#fb9f3a"
             ],
             [
              0.8888888888888888,
              "#fdca26"
             ],
             [
              1,
              "#f0f921"
             ]
            ],
            "type": "histogram2d"
           }
          ],
          "histogram2dcontour": [
           {
            "colorbar": {
             "outlinewidth": 0,
             "ticks": ""
            },
            "colorscale": [
             [
              0,
              "#0d0887"
             ],
             [
              0.1111111111111111,
              "#46039f"
             ],
             [
              0.2222222222222222,
              "#7201a8"
             ],
             [
              0.3333333333333333,
              "#9c179e"
             ],
             [
              0.4444444444444444,
              "#bd3786"
             ],
             [
              0.5555555555555556,
              "#d8576b"
             ],
             [
              0.6666666666666666,
              "#ed7953"
             ],
             [
              0.7777777777777778,
              "#fb9f3a"
             ],
             [
              0.8888888888888888,
              "#fdca26"
             ],
             [
              1,
              "#f0f921"
             ]
            ],
            "type": "histogram2dcontour"
           }
          ],
          "mesh3d": [
           {
            "colorbar": {
             "outlinewidth": 0,
             "ticks": ""
            },
            "type": "mesh3d"
           }
          ],
          "parcoords": [
           {
            "line": {
             "colorbar": {
              "outlinewidth": 0,
              "ticks": ""
             }
            },
            "type": "parcoords"
           }
          ],
          "pie": [
           {
            "automargin": true,
            "type": "pie"
           }
          ],
          "scatter": [
           {
            "marker": {
             "colorbar": {
              "outlinewidth": 0,
              "ticks": ""
             }
            },
            "type": "scatter"
           }
          ],
          "scatter3d": [
           {
            "line": {
             "colorbar": {
              "outlinewidth": 0,
              "ticks": ""
             }
            },
            "marker": {
             "colorbar": {
              "outlinewidth": 0,
              "ticks": ""
             },
             "size": 4
            },
            "type": "scatter3d"
           }
          ],
          "scattercarpet": [
           {
            "marker": {
             "colorbar": {
              "outlinewidth": 0,
              "ticks": ""
             }
            },
            "type": "scattercarpet"
           }
          ],
          "scattergeo": [
           {
            "marker": {
             "colorbar": {
              "outlinewidth": 0,
              "ticks": ""
             }
            },
            "type": "scattergeo"
           }
          ],
          "scattergl": [
           {
            "marker": {
             "colorbar": {
              "outlinewidth": 0,
              "ticks": ""
             }
            },
            "type": "scattergl"
           }
          ],
          "scattermapbox": [
           {
            "marker": {
             "colorbar": {
              "outlinewidth": 0,
              "ticks": ""
             }
            },
            "type": "scattermapbox"
           }
          ],
          "scatterpolar": [
           {
            "marker": {
             "colorbar": {
              "outlinewidth": 0,
              "ticks": ""
             }
            },
            "type": "scatterpolar"
           }
          ],
          "scatterpolargl": [
           {
            "marker": {
             "colorbar": {
              "outlinewidth": 0,
              "ticks": ""
             }
            },
            "type": "scatterpolargl"
           }
          ],
          "scatterternary": [
           {
            "marker": {
             "colorbar": {
              "outlinewidth": 0,
              "ticks": ""
             }
            },
            "type": "scatterternary"
           }
          ],
          "surface": [
           {
            "colorbar": {
             "outlinewidth": 0,
             "ticks": ""
            },
            "colorscale": [
             [
              0,
              "#0d0887"
             ],
             [
              0.1111111111111111,
              "#46039f"
             ],
             [
              0.2222222222222222,
              "#7201a8"
             ],
             [
              0.3333333333333333,
              "#9c179e"
             ],
             [
              0.4444444444444444,
              "#bd3786"
             ],
             [
              0.5555555555555556,
              "#d8576b"
             ],
             [
              0.6666666666666666,
              "#ed7953"
             ],
             [
              0.7777777777777778,
              "#fb9f3a"
             ],
             [
              0.8888888888888888,
              "#fdca26"
             ],
             [
              1,
              "#f0f921"
             ]
            ],
            "type": "surface"
           }
          ],
          "table": [
           {
            "cells": {
             "fill": {
              "color": "#EBF0F8"
             },
             "line": {
              "color": "white"
             }
            },
            "header": {
             "fill": {
              "color": "#C8D4E3"
             },
             "line": {
              "color": "white"
             }
            },
            "type": "table"
           }
          ]
         },
         "layout": {
          "annotationdefaults": {
           "arrowcolor": "#2a3f5f",
           "arrowhead": 0,
           "arrowwidth": 1
          },
          "coloraxis": {
           "colorbar": {
            "outlinewidth": 0,
            "ticks": ""
           }
          },
          "colorscale": {
           "diverging": [
            [
             0,
             "#8e0152"
            ],
            [
             0.1,
             "#c51b7d"
            ],
            [
             0.2,
             "#de77ae"
            ],
            [
             0.3,
             "#f1b6da"
            ],
            [
             0.4,
             "#fde0ef"
            ],
            [
             0.5,
             "#f7f7f7"
            ],
            [
             0.6,
             "#e6f5d0"
            ],
            [
             0.7,
             "#b8e186"
            ],
            [
             0.8,
             "#7fbc41"
            ],
            [
             0.9,
             "#4d9221"
            ],
            [
             1,
             "#276419"
            ]
           ],
           "sequential": [
            [
             0,
             "#0d0887"
            ],
            [
             0.1111111111111111,
             "#46039f"
            ],
            [
             0.2222222222222222,
             "#7201a8"
            ],
            [
             0.3333333333333333,
             "#9c179e"
            ],
            [
             0.4444444444444444,
             "#bd3786"
            ],
            [
             0.5555555555555556,
             "#d8576b"
            ],
            [
             0.6666666666666666,
             "#ed7953"
            ],
            [
             0.7777777777777778,
             "#fb9f3a"
            ],
            [
             0.8888888888888888,
             "#fdca26"
            ],
            [
             1,
             "#f0f921"
            ]
           ],
           "sequentialminus": [
            [
             0,
             "#0d0887"
            ],
            [
             0.1111111111111111,
             "#46039f"
            ],
            [
             0.2222222222222222,
             "#7201a8"
            ],
            [
             0.3333333333333333,
             "#9c179e"
            ],
            [
             0.4444444444444444,
             "#bd3786"
            ],
            [
             0.5555555555555556,
             "#d8576b"
            ],
            [
             0.6666666666666666,
             "#ed7953"
            ],
            [
             0.7777777777777778,
             "#fb9f3a"
            ],
            [
             0.8888888888888888,
             "#fdca26"
            ],
            [
             1,
             "#f0f921"
            ]
           ]
          },
          "colorway": [
           "#1f77b4",
           "#ff7f0e",
           "#2ca02c",
           "#d62728",
           "#9467bd",
           "#8c564b",
           "#e377c2",
           "#7f7f7f",
           "#bcbd22",
           "#17becf"
          ],
          "font": {
           "color": "#2a3f5f"
          },
          "geo": {
           "bgcolor": "white",
           "lakecolor": "white",
           "landcolor": "white",
           "showlakes": true,
           "showland": true,
           "subunitcolor": "#C8D4E3"
          },
          "hoverlabel": {
           "align": "left"
          },
          "hovermode": "closest",
          "mapbox": {
           "style": "light"
          },
          "paper_bgcolor": "white",
          "plot_bgcolor": "white",
          "polar": {
           "angularaxis": {
            "gridcolor": "#EBF0F8",
            "linecolor": "#EBF0F8",
            "ticks": ""
           },
           "bgcolor": "white",
           "radialaxis": {
            "gridcolor": "#EBF0F8",
            "linecolor": "#EBF0F8",
            "ticks": ""
           }
          },
          "scene": {
           "camera": {
            "center": {
             "x": 0,
             "y": 0,
             "z": 0
            },
            "eye": {
             "x": 2,
             "y": 2,
             "z": 2
            },
            "up": {
             "x": 0,
             "y": 0,
             "z": 1
            }
           },
           "xaxis": {
            "backgroundcolor": "white",
            "gridcolor": "#DFE8F3",
            "gridwidth": 2,
            "linecolor": "#EBF0F8",
            "showbackground": true,
            "showspikes": false,
            "ticks": "",
            "zerolinecolor": "#EBF0F8"
           },
           "yaxis": {
            "backgroundcolor": "white",
            "gridcolor": "#DFE8F3",
            "gridwidth": 2,
            "linecolor": "#EBF0F8",
            "showbackground": true,
            "showspikes": false,
            "ticks": "",
            "zerolinecolor": "#EBF0F8"
           },
           "zaxis": {
            "backgroundcolor": "white",
            "gridcolor": "#DFE8F3",
            "gridwidth": 2,
            "linecolor": "#EBF0F8",
            "showbackground": true,
            "showspikes": false,
            "ticks": "",
            "zerolinecolor": "#EBF0F8"
           }
          },
          "shapedefaults": {
           "line": {
            "color": "#2a3f5f"
           }
          },
          "ternary": {
           "aaxis": {
            "gridcolor": "#DFE8F3",
            "linecolor": "#A2B1C6",
            "ticks": ""
           },
           "baxis": {
            "gridcolor": "#DFE8F3",
            "linecolor": "#A2B1C6",
            "ticks": ""
           },
           "bgcolor": "white",
           "caxis": {
            "gridcolor": "#DFE8F3",
            "linecolor": "#A2B1C6",
            "ticks": ""
           }
          },
          "title": {
           "x": 0.05
          },
          "xaxis": {
           "automargin": true,
           "gridcolor": "#EBF0F8",
           "linecolor": "black",
           "linewidth": 2,
           "mirror": true,
           "showline": true,
           "ticks": "",
           "title": {
            "standoff": 15
           },
           "zeroline": false,
           "zerolinecolor": "#EBF0F8",
           "zerolinewidth": 2
          },
          "yaxis": {
           "automargin": true,
           "gridcolor": "#EBF0F8",
           "linecolor": "black",
           "linewidth": 2,
           "mirror": true,
           "showline": true,
           "ticks": "",
           "title": {
            "standoff": 15
           },
           "zeroline": false,
           "zerolinecolor": "#EBF0F8",
           "zerolinewidth": 2
          }
         }
        },
        "title": {
         "text": "Rotor Model"
        },
        "xaxis": {
         "mirror": true,
         "scaleanchor": "y",
         "scaleratio": 1.5,
         "showgrid": false,
         "title": {
          "text": "Axial location (m)"
         }
        },
        "yaxis": {
         "mirror": true,
         "showgrid": false,
         "title": {
          "text": "Shaft radius (m)"
         }
        }
       }
      }
     },
     "metadata": {},
     "output_type": "display_data"
    }
   ],
   "source": [
    "# Creating multi-rotor\n",
    "\n",
    "N1 = 328  # Number of teeth of gear 1\n",
    "N2 = 23  # Number of teeth of gear 2\n",
    "k_mesh = 1e8  # Mesh stiffness\n",
    "gear_ratio = N1 / N2\n",
    "\n",
    "multirotor = rs.MultiRotor(\n",
    "    rotor1,\n",
    "    rotor2,\n",
    "    coupled_nodes=(4, 0),\n",
    "    gear_ratio=gear_ratio,\n",
    "    gear_mesh_stiffness=k_mesh,\n",
    "    orientation_angle=0,\n",
    "    position=\"below\",\n",
    ")\n",
    "\n",
    "multirotor.plot_rotor()"
   ]
  },
  {
   "cell_type": "markdown",
   "metadata": {},
   "source": [
    "### 2.2 Running analyses\n",
    "We will run some analyses for the multi-rotor in this section and even compare results from the literature."
   ]
  },
  {
   "cell_type": "markdown",
   "metadata": {},
   "source": [
    "#### 2.2.1 Modal analysis\n",
    "\n",
    "Let's start with the modal analysis to obtain the natural frequencies for the coupled rotor when the generator runs at\n",
    "1500 RPM. Then we will compare the results with {cite}`friswell2010dynamics`.\n",
    "\n",
    "It is worth noting that in the analyses, we must always inform the respective speed of the driving rotor and not the driven one.\n"
   ]
  },
  {
   "cell_type": "code",
   "execution_count": 7,
   "metadata": {},
   "outputs": [
    {
     "name": "stdout",
     "output_type": "stream",
     "text": [
      "Natural frequencies (Hz)\n"
     ]
    },
    {
     "data": {
      "text/html": [
       "<div>\n",
       "<style scoped>\n",
       "    .dataframe tbody tr th:only-of-type {\n",
       "        vertical-align: middle;\n",
       "    }\n",
       "\n",
       "    .dataframe tbody tr th {\n",
       "        vertical-align: top;\n",
       "    }\n",
       "\n",
       "    .dataframe thead th {\n",
       "        text-align: right;\n",
       "    }\n",
       "</style>\n",
       "<table border=\"1\" class=\"dataframe\">\n",
       "  <thead>\n",
       "    <tr style=\"text-align: right;\">\n",
       "      <th></th>\n",
       "      <th>Friswell et al.</th>\n",
       "      <th>ROSS</th>\n",
       "      <th>Error (%)</th>\n",
       "    </tr>\n",
       "  </thead>\n",
       "  <tbody>\n",
       "    <tr>\n",
       "      <th>0</th>\n",
       "      <td>11.641</td>\n",
       "      <td>11.64052</td>\n",
       "      <td>0.004123</td>\n",
       "    </tr>\n",
       "    <tr>\n",
       "      <th>1</th>\n",
       "      <td>12.284</td>\n",
       "      <td>12.28429</td>\n",
       "      <td>0.002361</td>\n",
       "    </tr>\n",
       "    <tr>\n",
       "      <th>2</th>\n",
       "      <td>17.268</td>\n",
       "      <td>17.26763</td>\n",
       "      <td>0.002143</td>\n",
       "    </tr>\n",
       "    <tr>\n",
       "      <th>3</th>\n",
       "      <td>18.458</td>\n",
       "      <td>18.45766</td>\n",
       "      <td>0.001842</td>\n",
       "    </tr>\n",
       "    <tr>\n",
       "      <th>4</th>\n",
       "      <td>23.956</td>\n",
       "      <td>23.95561</td>\n",
       "      <td>0.001628</td>\n",
       "    </tr>\n",
       "    <tr>\n",
       "      <th>5</th>\n",
       "      <td>37.681</td>\n",
       "      <td>37.68111</td>\n",
       "      <td>0.000292</td>\n",
       "    </tr>\n",
       "    <tr>\n",
       "      <th>6</th>\n",
       "      <td>49.889</td>\n",
       "      <td>49.88884</td>\n",
       "      <td>0.000321</td>\n",
       "    </tr>\n",
       "    <tr>\n",
       "      <th>7</th>\n",
       "      <td>50.861</td>\n",
       "      <td>50.86107</td>\n",
       "      <td>0.000138</td>\n",
       "    </tr>\n",
       "    <tr>\n",
       "      <th>8</th>\n",
       "      <td>56.248</td>\n",
       "      <td>56.24761</td>\n",
       "      <td>0.000693</td>\n",
       "    </tr>\n",
       "    <tr>\n",
       "      <th>9</th>\n",
       "      <td>57.752</td>\n",
       "      <td>57.75190</td>\n",
       "      <td>0.000173</td>\n",
       "    </tr>\n",
       "    <tr>\n",
       "      <th>10</th>\n",
       "      <td>59.188</td>\n",
       "      <td>59.18845</td>\n",
       "      <td>0.000760</td>\n",
       "    </tr>\n",
       "    <tr>\n",
       "      <th>11</th>\n",
       "      <td>63.113</td>\n",
       "      <td>63.11337</td>\n",
       "      <td>0.000586</td>\n",
       "    </tr>\n",
       "    <tr>\n",
       "      <th>12</th>\n",
       "      <td>74.203</td>\n",
       "      <td>74.20263</td>\n",
       "      <td>0.000499</td>\n",
       "    </tr>\n",
       "  </tbody>\n",
       "</table>\n",
       "</div>"
      ],
      "text/plain": [
       "    Friswell et al.      ROSS  Error (%)\n",
       "0            11.641  11.64052   0.004123\n",
       "1            12.284  12.28429   0.002361\n",
       "2            17.268  17.26763   0.002143\n",
       "3            18.458  18.45766   0.001842\n",
       "4            23.956  23.95561   0.001628\n",
       "5            37.681  37.68111   0.000292\n",
       "6            49.889  49.88884   0.000321\n",
       "7            50.861  50.86107   0.000138\n",
       "8            56.248  56.24761   0.000693\n",
       "9            57.752  57.75190   0.000173\n",
       "10           59.188  59.18845   0.000760\n",
       "11           63.113  63.11337   0.000586\n",
       "12           74.203  74.20263   0.000499"
      ]
     },
     "execution_count": 7,
     "metadata": {},
     "output_type": "execute_result"
    }
   ],
   "source": [
    "# Friswell et al. (2010) results for natural frequencies:\n",
    "Friswell_results = np.array(\n",
    "    [\n",
    "        11.641,\n",
    "        12.284,\n",
    "        17.268,\n",
    "        18.458,\n",
    "        23.956,\n",
    "        37.681,\n",
    "        49.889,\n",
    "        50.861,\n",
    "        56.248,\n",
    "        57.752,\n",
    "        59.188,\n",
    "        63.113,\n",
    "        74.203,\n",
    "    ]\n",
    ")\n",
    "\n",
    "speed = Q_(1500, \"RPM\")\n",
    "frequencies = 13\n",
    "\n",
    "modal = multirotor.run_modal(speed, num_modes=2 * frequencies)\n",
    "wd = np.round(Q_(modal.wd, \"rad/s\").to(\"Hz\").m, 5)\n",
    "\n",
    "print(\"Natural frequencies (Hz)\")\n",
    "pd.DataFrame(\n",
    "    {\n",
    "        \"Friswell et al.\": Friswell_results,\n",
    "        \"ROSS\": wd,\n",
    "        \"Error (%)\": np.abs(wd - Friswell_results) / Friswell_results * 100,\n",
    "    }\n",
    ")"
   ]
  },
  {
   "cell_type": "markdown",
   "metadata": {},
   "source": [
    "#### 2.2.2 Campbell diagram\n",
    "\n",
    "To obtain the Campbell diagram we can proceed in the same way as seen for a single rotor. Remember that the reference speeds / frequencies are in relation to the driving rotor.\n",
    "\n",
    "In the Campbell diagram below, the dashed lines show the shaft rotation speeds corresponding to the generator (blue, node 1) and turbine (yellow, node 7)."
   ]
  },
  {
   "cell_type": "code",
   "execution_count": 8,
   "metadata": {},
   "outputs": [
    {
     "data": {
      "application/vnd.plotly.v1+json": {
       "config": {
        "plotlyServerURL": "https://plot.ly"
       },
       "data": [
        {
         "hovertemplate": "Frequency (Hz): %{y:.2f}<br>Critical Speed (RPM): %{x:.2f}",
         "legendgroup": "Crit. Speed",
         "marker": {
          "color": "black",
          "symbol": "x"
         },
         "mode": "markers",
         "name": "Crit. Speed",
         "showlegend": true,
         "type": "scatter",
         "x": [
          701.8630125233744,
          49.292447656098545,
          733.6561932233785,
          51.35931296651102,
          1047.5380010432161,
          74.99039186977951,
          1098.7549417777643,
          75.54232640883427,
          1437.3421146987287,
          100.79245995022056,
          2259.1757678250874,
          158.6222741038736,
          2808.1690661842667,
          213.89477286729073,
          3048.0756099278365,
          220.55060514022375,
          3431.699698286331,
          229.4430856737376,
          3492.966466305673,
          242.4949311455191,
          3634.992406252939,
          248.15287252479405,
          3846.2393612643773,
          264.993398676639,
          4452.996167634021,
          312.1839411206187
         ],
         "y": [
          11.697716875389574,
          11.715993267060357,
          12.227603220389641,
          12.207252703590228,
          17.458966684053603,
          17.823966307582094,
          18.312582362962736,
          17.955151948606424,
          23.955701911645477,
          23.95668785583492,
          37.652929463751455,
          37.70187084992236,
          46.80281776973778,
          50.83922259767388,
          50.80126016546394,
          52.421202998412184,
          57.19499497143885,
          54.534797413219536,
          58.216107771761216,
          57.63700355110414,
          60.58320677088231,
          58.9818019179348,
          64.1039893544063,
          62.984514308792484,
          74.21660279390034,
          74.20091973868574
         ]
        },
        {
         "hoverinfo": "none",
         "legendgroup": "Mixed",
         "marker": {
          "color": [
           0.01097371043145673,
           0.010963998645473566,
           0.010935124043442705,
           0.010887848778706202,
           0.010823379620650966,
           0.01074328191556589,
           0.010649376533391831,
           0.010543631738915536,
           0.01042806130572361,
           0.010304636906607965,
           0.010175219465760672,
           0.01004151113427881,
           0.009905026412652522,
           0.00976707951692779,
           0.00962878518312577,
           0.009491068045042919,
           0.009354678165059008,
           0.009220210062397708,
           0.009088122231343768,
           0.008958757577421487,
           0.008832361378648769,
           0.008709098416066834,
           0.008589068124291577,
           0.008472316782291156,
           0.008358849028008033,
           0.008248637037173316,
           0.008141627984387742,
           0.008037750451769663,
           0.00793691936073932,
           0.007839040116647402,
           0.0077440121902151975,
           0.007651731265882758,
           0.007562091328695547,
           0.007474986416474726,
           0.007390312036142895,
           0.007307965335969349,
           0.007227846432220548,
           0.0071498585750782405,
           0.0070739085554277605,
           0.006999906799271995,
           0.006927767509777984,
           0.0068574088295789955,
           0.00678875270585103,
           0.006721724671432799,
           0.006656254093937999,
           0.006592273739292123,
           0.006529720046013256,
           0.006468532254903821,
           0.006408653254944004,
           0.006350028511781642
          ],
          "coloraxis": "coloraxis",
          "symbol": "circle"
         },
         "mode": "markers",
         "name": "Mixed",
         "showlegend": false,
         "type": "scatter",
         "x": [
          0,
          100,
          200,
          300,
          400,
          500,
          600,
          700.0000000000001,
          800,
          900,
          1000,
          1100,
          1200,
          1300,
          1400.0000000000002,
          1500.0000000000002,
          1600,
          1700,
          1800,
          1900,
          2000,
          2100,
          2200,
          2300,
          2400,
          2500,
          2600,
          2700,
          2800.0000000000005,
          2900.0000000000005,
          3000.0000000000005,
          3100,
          3200,
          3300,
          3400,
          3500,
          3600,
          3700,
          3800,
          3900,
          4000,
          4100,
          4200,
          4300,
          4400,
          4500,
          4600,
          4700,
          4800,
          4900
         ],
         "y": [
          11.716184901806113,
          11.715796130797834,
          11.714633536902832,
          11.712708103996144,
          11.710037582550433,
          11.706645714328953,
          11.702561256943119,
          11.697816896207794,
          11.69244812831369,
          11.686492189274231,
          11.679987084083596,
          11.672970755266457,
          11.665480402912456,
          11.657551960019562,
          11.649219712498354,
          11.640516045852474,
          11.631471297006252,
          11.622113693410796,
          11.612469355825814,
          11.60256235139188,
          11.592414778306527,
          11.582046873588057,
          11.571477134253689,
          11.560722440720625,
          11.549798186065482,
          11.538718397365946,
          11.52749585574913,
          11.516142206919746,
          11.50466806558926,
          11.493083110512304,
          11.481396174881409,
          11.469615323626584,
          11.45774792840506,
          11.445800733108658,
          11.433779915302928,
          11.421691136567741,
          11.409539594449964,
          11.39733006485271,
          11.38506694149909,
          11.372754270849272,
          11.360395785150784,
          11.347994929440832,
          11.335554890027888,
          11.323078613419817,
          11.31056883148796,
          11.298028077660431,
          11.285458706673236,
          11.272862905085862,
          11.260242711038199,
          11.24760002193188
         ]
        },
        {
         "hoverinfo": "none",
         "legendgroup": "Mixed",
         "marker": {
          "color": [
           0.001039529721996638,
           0.0010493923221412608,
           0.001078719379918033,
           0.0011267487293138009,
           0.0011922735879509065,
           0.0012737286118254937,
           0.001369292890727676,
           0.0014769981523924502,
           0.0015948305814247915,
           0.0017208184880662244,
           0.0018531008786089509,
           0.0019899755603499563,
           0.0021299279554968997,
           0.0022716438309265943,
           0.002414008301571493,
           0.002556096706256307,
           0.002697158847140169,
           0.002836600090893616,
           0.002973961851525372,
           0.003108901101709742,
           0.003241172373435654,
           0.003370610800799912,
           0.003497116681838137,
           0.0036206436320022793,
           0.0037411867919712924,
           0.003858773753524214,
           0.0039734570917376545,
           0.004085307985993331,
           0.004194411189377009,
           0.004300861058327872,
           0.0044047577454923124,
           0.004506205130302634,
           0.004605308887965268,
           0.004702174584382048,
           0.0047969061008966704,
           0.004889605859081476,
           0.004980373094221981,
           0.005069303999622979,
           0.0051564909609844185,
           0.005242022850500334,
           0.00532598455042524,
           0.005408457059963101,
           0.005489517273285568,
           0.0055692385348489176,
           0.005647690223101293,
           0.0057249380850193056,
           0.005801043994563695,
           0.005876067106626929,
           0.005950062313736512,
           0.006023082079654924
          ],
          "coloraxis": "coloraxis",
          "symbol": "circle"
         },
         "mode": "markers",
         "name": "Mixed",
         "showlegend": false,
         "type": "scatter",
         "x": [
          0,
          100,
          200,
          300,
          400,
          500,
          600,
          700.0000000000001,
          800,
          900,
          1000,
          1100,
          1200,
          1300,
          1400.0000000000002,
          1500.0000000000002,
          1600,
          1700,
          1800,
          1900,
          2000,
          2100,
          2200,
          2300,
          2400,
          2500,
          2600,
          2700,
          2800.0000000000005,
          2900.0000000000005,
          3000.0000000000005,
          3100,
          3200,
          3300,
          3400,
          3500,
          3600,
          3700,
          3800,
          3900,
          4000,
          4100,
          4200,
          4300,
          4400,
          4500,
          4600,
          4700,
          4800,
          4900
         ],
         "y": [
          12.207049431473962,
          12.207445215810873,
          12.208628852665411,
          12.210589351362785,
          12.213308958490375,
          12.216763924838393,
          12.220925483231104,
          12.225760935666726,
          12.231234771375615,
          12.237309741653094,
          12.243947820006058,
          12.251111044634419,
          12.258762194082081,
          12.266865307046391,
          12.275386070766421,
          12.284292070987167,
          12.293552936544966,
          12.303140405468788,
          12.313028316202292,
          12.323192561327446,
          12.33361099703146,
          12.344263336865021,
          12.355131037533555,
          12.366197158339116,
          12.377446250592827,
          12.388864221790833,
          12.400438224971886,
          12.412156542833113,
          12.424008485111491,
          12.435984289088607,
          12.448075039070488,
          12.460272575627538,
          12.472569427962165,
          12.484958745601139,
          12.49743424387559,
          12.509990137348733,
          12.522621101824924,
          12.535322224955472,
          12.548088967499458,
          12.560917125356607,
          12.573802800066789,
          12.586742364804179,
          12.599732445016581,
          12.612769882205194,
          12.625851723403592,
          12.638975193061054,
          12.652137682026103,
          12.665336717475814,
          12.67856996177687,
          12.69183518515396
         ]
        },
        {
         "hoverinfo": "none",
         "legendgroup": "Mixed",
         "marker": {
          "color": [
           0.0010052708929174817,
           0.0009521571897078311,
           0.0008807543804243298,
           0.0008331072600810873,
           0.0008014111562173089,
           0.0007785521016269744,
           0.0007607975246167392,
           0.0007461861050093948,
           0.0007336230673218561
          ],
          "coloraxis": "coloraxis",
          "symbol": "circle"
         },
         "mode": "markers",
         "name": "Mixed",
         "showlegend": false,
         "type": "scatter",
         "x": [
          0,
          100,
          200,
          300,
          400,
          500,
          600,
          700.0000000000001,
          800
         ],
         "y": [
          17.83341507349927,
          17.82081510478117,
          17.792217510086697,
          17.757435406952464,
          17.72006576345849,
          17.68135725015835,
          17.64181804623414,
          17.601687580453568,
          17.56109209875801
         ]
        },
        {
         "hoverinfo": "none",
         "legendgroup": "Mixed",
         "marker": {
          "color": [
           0.00045634685317527543,
           0.0005094246369833395,
           0.0005807196674106979,
           0.0006281872934717621,
           0.0006596323338082059,
           0.0006821689950717452,
           0.0006995301560599693,
           0.0007136775258745562,
           0.0007257062880335809,
           0.0007362662679450513,
           0.000745764997492198,
           0.0007544693292972079,
           0.0007625608298272026,
           0.0007701673875415968,
           0.0007773811972759439,
           0.0007842707172169153,
           0.0007908872729127,
           0.0007972705768103313,
           0.0008034516201507752,
           0.0008094549156425326,
           0.0008153001240084651,
           0.0008210030733792047,
           0.0008265770298610989,
           0.0008320327550985781,
           0.0008373792260517994,
           0.0008426240805957041,
           0.0008477737677314414,
           0.0008528338787331722,
           0.000857809078540557,
           0.000862703476147869,
           0.0008675207631781882,
           0.0008722639765377232,
           0.0008769359274375947,
           0.0008815391383503379,
           0.0008860757372642499,
           0.0008905477394473414,
           0.0008949568194873428,
           0.0008993046946295232,
           0.0009035927590616647,
           0.0009078224124676646,
           0.0009119948726072758,
           0.0009161112721890044,
           0.0009201727299283236,
           0.0009241801306697562,
           0.0009281344873677274,
           0.000932036638383239,
           0.0009358873544465948,
           0.0009396875718007764,
           0.00094343790283981,
           0.0009471390427343478
          ],
          "coloraxis": "coloraxis",
          "symbol": "circle"
         },
         "mode": "markers",
         "name": "Mixed",
         "showlegend": false,
         "type": "scatter",
         "x": [
          0,
          100,
          200,
          300,
          400,
          500,
          600,
          700.0000000000001,
          800,
          900,
          1000,
          1100,
          1200,
          1300,
          1400.0000000000002,
          1500.0000000000002,
          1600,
          1700,
          1800,
          1900,
          2000,
          2100,
          2200,
          2300,
          2400,
          2500,
          2600,
          2700,
          2800.0000000000005,
          2900.0000000000005,
          3000.0000000000005,
          3100,
          3200,
          3300,
          3400,
          3500,
          3600,
          3700,
          3800,
          3900,
          4000,
          4100,
          4200,
          4300,
          4400,
          4500,
          4600,
          4700,
          4800,
          4900
         ],
         "y": [
          17.945815677102978,
          17.958174670990616,
          17.986049415731244,
          18.019626981557828,
          18.055310732756435,
          18.09185245504066,
          18.128744556306398,
          18.165748327597868,
          18.20273837192434,
          18.239643107822616,
          18.2764190082587,
          18.31303829439571,
          18.34948257220518,
          18.385739312523913,
          18.421799817961922,
          18.457657973353633,
          18.493309464979284,
          18.528751261470184,
          18.563981272469146,
          18.598998112424727,
          18.633800931787988,
          18.668389291305935,
          18.70276308580675,
          18.73692246209687,
          18.770867785594298,
          18.80459958575395,
          18.838118542119627,
          18.87142544833619,
          18.904521201023567,
          18.937406778405734,
          18.97008323578204,
          19.002551689389552,
          19.034813308252982,
          19.066869307088545,
          19.098720948289373,
          19.13036952184778,
          19.16181635423812,
          19.193062795891368,
          19.224110225532495,
          19.25496003896334,
          19.28561365367584,
          19.316072498273833,
          19.346338023428377,
          19.37641168295499,
          19.406294945918876,
          19.435989288653055,
          19.465496198495437,
          19.494817160577348,
          19.523953673062145,
          19.55290723139646
         ]
        },
        {
         "hoverinfo": "none",
         "legendgroup": "Mixed",
         "marker": {
          "color": [
           0.05599329228274239,
           0.05599304079609603,
           0.055992287975549344,
           0.05599103233399166,
           0.055989274707690696,
           0.0559870143890319,
           0.05598425103738036,
           0.055980984401168284,
           0.0559772137548972,
           0.0559729393988029,
           0.05596815996110599,
           0.05596287477431767,
           0.055957084420127604,
           0.05595078629813734,
           0.05594398035948861,
           0.05593666549040336,
           0.055928841767146215,
           0.05592050732228841,
           0.05591166034728504,
           0.055902300681883524,
           0.055892426989612096,
           0.0558820366875023,
           0.055871130099062014,
           0.055859704724110934,
           0.05584775986087046,
           0.055835292499525783,
           0.055822302063703824,
           0.05580878638291049,
           0.05579474431712171,
           0.055780172100521996,
           0.05576506946719659,
           0.05574943417196482,
           0.0557332636996493,
           0.05571655449801546,
           0.055699307403290606,
           0.0556815174770391,
           0.055663182921495906,
           0.055644300591031946,
           0.055624868975958364,
           0.05560488460660979,
           0.05558434544411993,
           0.05556324676740005,
           0.055541588133753,
           0.05551936497277139,
           0.055496573641033324,
           0.055473211091442154,
           0.05544927586665484,
           0.05542476208865226,
           0.05539966782023607,
           0.05537398852174767
          ],
          "coloraxis": "coloraxis",
          "symbol": "circle"
         },
         "mode": "markers",
         "name": "Mixed",
         "showlegend": false,
         "type": "scatter",
         "x": [
          0,
          100,
          200,
          300,
          400,
          500,
          600,
          700.0000000000001,
          800,
          900,
          1000,
          1100,
          1200,
          1300,
          1400.0000000000002,
          1500.0000000000002,
          1600,
          1700,
          1800,
          1900,
          2000,
          2100,
          2200,
          2300,
          2400,
          2500,
          2600,
          2700,
          2800.0000000000005,
          2900.0000000000005,
          3000.0000000000005,
          3100,
          3200,
          3300,
          3400,
          3500,
          3600,
          3700,
          3800,
          3900,
          4000,
          4100,
          4200,
          4300,
          4400,
          4500,
          4600,
          4700,
          4800,
          4900
         ],
         "y": [
          23.95669282404484,
          23.95668796898922,
          23.956673690122987,
          23.9566497551369,
          23.956616310659665,
          23.956573307638052,
          23.95652071275228,
          23.956458532704584,
          23.95638671852631,
          23.956305367421717,
          23.956214365953528,
          23.95611371719461,
          23.956003540399823,
          23.95588357576866,
          23.955753956735627,
          23.955614583026957,
          23.955465598511648,
          23.955306883625553,
          23.95513832748994,
          23.95495999540655,
          23.954771881163563,
          23.95457378966857,
          23.95436595974581,
          23.954148133770943,
          23.953920453586004,
          23.953682695666878,
          23.953434975301978,
          23.95317718141503,
          23.95290937251049,
          23.95263128607361,
          23.952343075812948,
          23.952044711932853,
          23.95173607862563,
          23.951416969134872,
          23.951087703274318,
          23.950747941103582,
          23.95039772521646,
          23.9500368968132,
          23.949665575465023,
          23.94928357217058,
          23.94889093590163,
          23.9484873980548,
          23.948073199313594,
          23.947648058326365,
          23.94721191995096,
          23.946764691112527,
          23.94630655027775,
          23.945837097438876,
          23.945356491720595,
          23.94486449786641
         ]
        },
        {
         "hoverinfo": "none",
         "legendgroup": "Mixed",
         "marker": {
          "color": [
           0.11887674613731593,
           0.11887548192771374,
           0.11887168587199354,
           0.11886535088099197,
           0.11885646335828455,
           0.11884500505566434,
           0.11883095193815578,
           0.11881427390034101,
           0.11879493501373567,
           0.11877289275166154,
           0.11874809754593776,
           0.11872049285870831,
           0.11869001338327832,
           0.11865658616585054,
           0.11862012793416261,
           0.11858054565923888,
           0.11853773408390715,
           0.11849157651283007,
           0.11844194232877354,
           0.1183886846628178,
           0.11833164013054447,
           0.11827062693795197,
           0.11820544104283298,
           0.11813585513095791,
           0.11806161489357736,
           0.11798243718386538,
           0.1178980031100795,
           0.11780795733063211,
           0.11771190036213453,
           0.1176093849443668,
           0.11749990691371409,
           0.1173829001894664,
           0.11725772658872415,
           0.11712366618052641,
           0.11697990447346047,
           0.11682552111925906,
           0.11665947269673897,
           0.11648057475248434,
           0.11628747968382895,
           0.11607865480752068,
           0.11585235136890412,
           0.11560657339560963,
           0.11533903722757576,
           0.11504712894430384,
           0.11472785253308494,
           0.11437776983276833,
           0.11399293173510759,
           0.11356880372746095,
           0.11310017284335955,
           0.11258105301908418
          ],
          "coloraxis": "coloraxis",
          "symbol": "circle"
         },
         "mode": "markers",
         "name": "Mixed",
         "showlegend": false,
         "type": "scatter",
         "x": [
          0,
          100,
          200,
          300,
          400,
          500,
          600,
          700.0000000000001,
          800,
          900,
          1000,
          1100,
          1200,
          1300,
          1400.0000000000002,
          1500.0000000000002,
          1600,
          1700,
          1800,
          1900,
          2000,
          2100,
          2200,
          2300,
          2400,
          2500,
          2600,
          2700,
          2800.0000000000005,
          2900.0000000000005,
          3000.0000000000005,
          3100,
          3200,
          3300,
          3400,
          3500,
          3600,
          3700,
          3800,
          3900,
          4000,
          4100,
          4200,
          4300,
          4400,
          4500,
          4600,
          4700,
          4800,
          4900
         ],
         "y": [
          37.70212268376581,
          37.70203141142003,
          37.70175751979756,
          37.701300654882466,
          37.70066028847758,
          37.69983564306175,
          37.698825723125516,
          37.69762930774008,
          37.69624492936947,
          37.694670878190145,
          37.69290518263305,
          37.69094560284063,
          37.68878964345683,
          37.68643447170987,
          37.6838769738657,
          37.68111371462131,
          37.67814090778629,
          37.67495436826088,
          37.671549518880155,
          37.66792138869001,
          37.66406453086048,
          37.65997297860931,
          37.65564026750706,
          37.65105933200722,
          37.64622250291914,
          37.64112138081536,
          37.63574686163902,
          37.630089020127826,
          37.62413702932402,
          37.61787906294414,
          37.611302275859906,
          37.60439258636176,
          37.59713461727025,
          37.58951156324528,
          37.581505026503706,
          37.57309481572077,
          37.56425876931737,
          37.55497255923722,
          37.545209417657404,
          37.53493984722681,
          37.52413132245507,
          37.51274790579195,
          37.500749886949144,
          37.488093245451076,
          37.47472919280029,
          37.46060354235417,
          37.445656082534754,
          37.42981975843594,
          37.41301986975492,
          37.39517308113292
         ]
        },
        {
         "hoverinfo": "none",
         "legendgroup": "Mixed",
         "marker": {
          "color": [
           0.0189842388890223,
           0.018977802740957495,
           0.018957676453086214,
           0.018921195237452317,
           0.01886310825837826,
           0.018773914308766054,
           0.018636221991990012,
           0.018416318980872936,
           0.018043019455432525,
           0.017353647304127067,
           0.016042214529979403,
           0.014596704163786013,
           0.014692343825843326,
           0.015210572848183305,
           0.015510804174094018,
           0.015632090565645216,
           0.0156439073763272,
           0.01558819764363457,
           0.015489541699451655,
           0.015363121573215134,
           0.01521886362546703,
           0.015063579891146857,
           0.014902137851094772,
           0.014738132197821708,
           0.01457429638672284,
           0.014412765398486434,
           0.014255251551820511,
           0.01410316720392558,
           0.0139577125447909,
           0.013819941803816333,
           0.013690814154992844,
           0.013571234251215702,
           0.013462086710146034,
           0.013364265248555681,
           0.013278699468581278,
           0.013206381059764224,
           0.013148387748347586,
           0.013105910129084715,
           0.013080277030239233,
           0.013072987160323386,
           0.013085739752461084,
           0.013120470619664757,
           0.013179394897622683,
           0.01326505061384386,
           0.013380355397708656,
           0.013528663539511356,
           0.013713838758754688,
           0.013940330101940613,
           0.014213262168289565,
           0.014538534598739756
          ],
          "coloraxis": "coloraxis",
          "symbol": "circle"
         },
         "mode": "markers",
         "name": "Mixed",
         "showlegend": false,
         "type": "scatter",
         "x": [
          0,
          100,
          200,
          300,
          400,
          500,
          600,
          700.0000000000001,
          800,
          900,
          1000,
          1100,
          1200,
          1300,
          1400.0000000000002,
          1500.0000000000002,
          1600,
          1700,
          1800,
          1900,
          2000,
          2100,
          2200,
          2300,
          2400,
          2500,
          2600,
          2700,
          2800.0000000000005,
          2900.0000000000005,
          3000.0000000000005,
          3100,
          3200,
          3300,
          3400,
          3500,
          3600,
          3700,
          3800,
          3900,
          4000,
          4100,
          4200,
          4300,
          4400,
          4500,
          4600,
          4700,
          4800,
          4900
         ],
         "y": [
          50.840194774269854,
          50.83999288342658,
          50.83937315355174,
          50.83828961027039,
          50.83665146878306,
          50.8342935840696,
          50.83091030144297,
          50.82589452690235,
          50.81789047730451,
          50.80329893030311,
          50.77040692125038,
          50.685877336230504,
          50.52828542565679,
          50.32872804658867,
          50.11259462413053,
          49.88884381295433,
          49.66070800487865,
          49.42964791435945,
          49.19647215191203,
          48.961703219957265,
          48.725719028334,
          48.48881580735494,
          48.25123940167328,
          48.01320230729274,
          47.77489366630445,
          47.53648548114388,
          47.29813670443351,
          47.059996009375986,
          46.82220379528905,
          46.58489361669598,
          46.348193298526425,
          46.112225806873205,
          45.877109929213894,
          45.642960851392495,
          45.40989070246124,
          45.17800895341801,
          44.947422874982166,
          44.71823792204657,
          44.49055816899656,
          44.2644866818083,
          44.04012599251986,
          43.81757852505215,
          43.59694712855107,
          43.37833560990748,
          43.16184931400804,
          42.94759583059232,
          42.73568573115888,
          42.526233354022075,
          42.319357797360944,
          42.115183888015586
         ]
        },
        {
         "hoverinfo": "none",
         "legendgroup": "Mixed",
         "marker": {
          "color": [
           0.01106534913101186,
           0.011441213987557321,
           0.012417824449625513,
           0.01367060751609907,
           0.014918893097214782,
           0.01601977170752838,
           0.016946526676543765,
           0.01774507112056137,
           0.018519214001951417,
           0.01946715762016484,
           0.020954159965542417,
           0.020913652263704455,
           0.02089879333219102,
           0.0209026560884725,
           0.020920827689008815,
           0.020950379295991146,
           0.020989297208702455,
           0.0210361531353137,
           0.02108990781179466,
           0.021149789515055056,
           0.021215210699504407,
           0.021285718492708352,
           0.02136095712826567,
           0.021440643405519388,
           0.021524549004179373,
           0.021612487835127467,
           0.021704305248676854,
           0.021799874154400534,
           0.021899086006081148,
           0.022001848299041952,
           0.022108081975256724,
           0.02221772017495074,
           0.022330702451873782,
           0.022446976223649207,
           0.022566495642491267,
           0.022689217698894787,
           0.022815106982132648,
           0.022944127283629146,
           0.023076249416108374,
           0.0232114442252813,
           0.023349683939738825,
           0.02349094607968885,
           0.02363520684609414
          ],
          "coloraxis": "coloraxis",
          "symbol": "circle"
         },
         "mode": "markers",
         "name": "Mixed",
         "showlegend": false,
         "type": "scatter",
         "x": [
          0,
          100,
          200,
          300,
          400,
          500,
          600,
          700.0000000000001,
          800,
          900,
          1700,
          1800,
          1900,
          2000,
          2100,
          2200,
          2300,
          2400,
          2500,
          2600,
          2700,
          2800.0000000000005,
          2900.0000000000005,
          3000.0000000000005,
          3100,
          3200,
          3300,
          3400,
          3500,
          3600,
          3700,
          3800,
          3900,
          4000,
          4100,
          4200,
          4300,
          4400,
          4500,
          4600,
          4700,
          4800,
          4900
         ],
         "y": [
          52.53583899051343,
          52.51200990573087,
          52.44319181557922,
          52.33619342299175,
          52.19934430249507,
          52.04032156086802,
          51.8653086810615,
          51.679182955542665,
          51.4863223375373,
          51.29246765705108,
          50.850288843343215,
          50.846145404851754,
          50.842371601424475,
          50.83880652401854,
          50.83535182469037,
          50.83194423002419,
          50.82854133051608,
          50.82511370777369,
          50.821640378826885,
          50.818105969098156,
          50.814499068559236,
          50.810811097342516,
          50.80703531044749,
          50.80316663034066,
          50.799201075083886,
          50.79513545483481,
          50.79096730443084,
          50.78669458104522,
          50.78231573977787,
          50.77782959315617,
          50.77323516516245,
          50.76853168482451,
          50.76371861730738,
          50.758795588856046,
          50.75376224793757,
          50.74861854089166,
          50.74336429691206,
          50.73799953827118,
          50.73252439708866,
          50.72693892522603,
          50.72124339935514,
          50.71543800916799,
          50.70952305783341
         ]
        },
        {
         "hoverinfo": "none",
         "legendgroup": "Mixed",
         "marker": {
          "color": [
           0.06404772870360492,
           0.06374479026607517,
           0.06298689818761127,
           0.06209855061704238,
           0.06136078213667557,
           0.06091852759978233,
           0.06080522399939951,
           0.06099405203769186,
           0.061432937837860684,
           0.062061143181402344,
           0.06281510114791766,
           0.063629486084434,
           0.06443671096283735,
           0.06516635217959395,
           0.06574509258202439,
           0.06609729943414983,
           0.0661461269581299,
           0.06581500974046957,
           0.06502985231942528,
           0.06372329581134642,
           0.06184454859411538,
           0.05938058835690161,
           0.05639167554055171,
           0.05304384252602106,
           0.04959080966562848,
           0.04628534540576917,
           0.04329160205101512,
           0.040669494932699765,
           0.03841021800198231,
           0.03647448891385669,
           0.03481542786050494,
           0.033388722902524065,
           0.032156008764779156,
           0.03108529710591144,
           0.030150335173361187,
           0.029329684179009267,
           0.028605831017356635,
           0.02796442123670707,
           0.02739363524004233,
           0.026883685292075334,
           0.026426421517810102,
           0.026015018011329823,
           0.02564372462406074,
           0.02530767229927106,
           0.02500271417426913,
           0.024725303070238912,
           0.024472387452813372,
           0.024241332393322216,
           0.02402985184493689,
           0.023835953207294053
          ],
          "coloraxis": "coloraxis",
          "symbol": "circle"
         },
         "mode": "markers",
         "name": "Mixed",
         "showlegend": false,
         "type": "scatter",
         "x": [
          0,
          100,
          200,
          300,
          400,
          500,
          600,
          700.0000000000001,
          800,
          900,
          1000,
          1100,
          1200,
          1300,
          1400.0000000000002,
          1500.0000000000002,
          1600,
          1700,
          1800,
          1900,
          2000,
          2100,
          2200,
          2300,
          2400,
          2500,
          2600,
          2700,
          2800.0000000000005,
          2900.0000000000005,
          3000.0000000000005,
          3100,
          3200,
          3300,
          3400,
          3500,
          3600,
          3700,
          3800,
          3900,
          4000,
          4100,
          4200,
          4300,
          4400,
          4500,
          4600,
          4700,
          4800,
          4900
         ],
         "y": [
          54.427867671627816,
          54.44854992202095,
          54.50792662866159,
          54.59919010850096,
          54.714027047320776,
          54.84482218734009,
          54.98556724590212,
          55.13183733724756,
          55.2804361900515,
          55.42903600049377,
          55.57590684671956,
          55.719735644745484,
          55.85951166397235,
          55.99445522516668,
          56.12397092133991,
          56.247610710974804,
          56.365035135225284,
          56.47596295904264,
          56.580100853004524,
          56.677047114708785,
          56.766173768773015,
          56.84652981551276,
          56.91689851452067,
          56.976210036048336,
          57.0242564886511,
          57.06208403724604,
          57.091582518590364,
          57.11474123829587,
          57.133202345653764,
          57.14817575329664,
          57.160515713305244,
          57.17082233332833,
          57.17952276900479,
          57.18692745632156,
          57.19326722300647,
          57.19871758539408,
          57.20341476579204,
          57.20746645002037,
          57.21095916709772,
          57.21396343016987,
          57.21653742203558,
          57.21872967756539,
          57.22058107371264,
          57.22212632261158,
          57.2233951330296,
          57.224413096166174,
          57.2252024015651,
          57.22578238046222,
          57.22616996891651,
          57.226380075011
         ]
        },
        {
         "hoverinfo": "none",
         "legendgroup": "Mixed",
         "marker": {
          "color": [
           0.014504803603997248,
           0.014544949424301457,
           0.014667077348470408,
           0.014876312595494977,
           0.015181368051842989,
           0.015594774965163743,
           0.016133144299570804,
           0.016817384253283763,
           0.0176727534715683,
           0.03439122884975877,
           0.03807918394109632,
           0.042153290771030784,
           0.04661353148818893,
           0.05145417402384993,
           0.056645410661264585,
           0.062098536506092844,
           0.06763247915979098,
           0.07298990866689523,
           0.07792353402203878,
           0.0822814640261032,
           0.08602079934101696,
           0.08917039977014914,
           0.09179125119291869,
           0.0939525112431566,
           0.0957205215087865,
           0.0971548269733665,
           0.0983073247281522,
           0.09922263387363142,
           0.09993885941701769,
           0.10048842214724357,
           0.10089883343235256,
           0.10119339310608262,
           0.1013917870369576,
           0.10151061352427412,
           0.10156384068969644,
           0.10156319346968275,
           0.1015184940494631,
           0.10143795514805026,
           0.10132842613134868,
           0.10119561320762417,
           0.10104425724684157,
           0.10087828940984916,
           0.10070096482899174
          ],
          "coloraxis": "coloraxis",
          "symbol": "circle"
         },
         "mode": "markers",
         "name": "Mixed",
         "showlegend": false,
         "type": "scatter",
         "x": [
          0,
          100,
          200,
          300,
          400,
          500,
          600,
          700.0000000000001,
          800,
          1600,
          1700,
          1800,
          1900,
          2000,
          2100,
          2200,
          2300,
          2400,
          2500,
          2600,
          2700,
          2800.0000000000005,
          2900.0000000000005,
          3000.0000000000005,
          3100,
          3200,
          3300,
          3400,
          3500,
          3600,
          3700,
          3800,
          3900,
          4000,
          4100,
          4200,
          4300,
          4400,
          4500,
          4600,
          4700,
          4800,
          4900
         ],
         "y": [
          57.63344270928752,
          57.63402271035234,
          57.63576551886407,
          57.63867888336824,
          57.64277342508289,
          57.6480589579452,
          57.65453889885054,
          57.66220246302767,
          57.67101450998194,
          57.76297696553162,
          57.77321948093313,
          57.78274042303665,
          57.79195617262622,
          57.801674677585574,
          57.81314689056186,
          57.827963455713615,
          57.84760305515185,
          57.872688926189944,
          57.90257859992529,
          57.93576471600251,
          57.97061531717453,
          58.005820342235836,
          58.04047841234107,
          58.07402269491544,
          58.106121870306325,
          58.13660108075078,
          58.16538739922577,
          58.19247381036512,
          58.21789583868917,
          58.241715891337215,
          58.26401284400818,
          58.28487483286393,
          58.304394379934365,
          58.322664863420094,
          58.339778125885125,
          58.355822974146655,
          58.37088394757263,
          58.385040863021295,
          58.39836832471606,
          58.410935711305626,
          58.42280718823494,
          58.4340418217743,
          58.44469389653074
         ]
        },
        {
         "hoverinfo": "none",
         "legendgroup": "Mixed",
         "marker": {
          "color": [
           0.039827644936792944,
           0.03974686084891591,
           0.03950386867412186,
           0.039096783337688866,
           0.03852258177705988,
           0.03777731239674814,
           0.036856437657053015,
           0.03575538587735333,
           0.03447037892776026,
           0.03299963838323953,
           0.03134505306199995,
           0.02951433011051156,
           0.0275235233762957,
           0.02539958728726264,
           0.02318231140179431,
           0.020924779431285432,
           0.01869159229446726,
           0.016554666862115146,
           0.014587293810436648,
           0.01285784982006617,
           0.01142464368710431,
           0.010332806495679497,
           0.009613340788072319,
           0.0092838476533717,
           0.00935023944956222,
           0.009808824460815085,
           0.010648348444954341,
           0.011851774261055874,
           0.013397721966453948,
           0.015261571789634101,
           0.017416283021996954,
           0.019832987439970022,
           0.022481432346195332,
           0.02533033754971097,
           0.028347728407061158,
           0.03150129772966212,
           0.03475881977802871,
           0.03808864000295507,
           0.041460219002837535,
           0.04484470348657922,
           0.048215471389002396,
           0.051548603732100344,
           0.05482323939950709,
           0.058021774311273255,
           0.06112992096048565,
           0.06413660467596385,
           0.06703375750389876,
           0.06981602134827188,
           0.07248039671498052,
           0.07502588430457942
          ],
          "coloraxis": "coloraxis",
          "symbol": "circle"
         },
         "mode": "markers",
         "name": "Mixed",
         "showlegend": false,
         "type": "scatter",
         "x": [
          0,
          100,
          200,
          300,
          400,
          500,
          600,
          700.0000000000001,
          800,
          900,
          1000,
          1100,
          1200,
          1300,
          1400.0000000000002,
          1500.0000000000002,
          1600,
          1700,
          1800,
          1900,
          2000,
          2100,
          2200,
          2300,
          2400,
          2500,
          2600,
          2700,
          2800.0000000000005,
          2900.0000000000005,
          3000.0000000000005,
          3100,
          3200,
          3300,
          3400,
          3500,
          3600,
          3700,
          3800,
          3900,
          4000,
          4100,
          4200,
          4300,
          4400,
          4500,
          4600,
          4700,
          4800,
          4900
         ],
         "y": [
          58.97772917890901,
          58.978357656120245,
          58.980256414280845,
          58.98346599155614,
          58.98805584739616,
          58.99412714976805,
          59.00181672309248,
          59.01130174134748,
          59.02280496238752,
          59.036599430760425,
          59.05301115072039,
          59.07241722867262,
          59.09523617975705,
          59.121906974968404,
          59.152854814208546,
          59.18844542039987,
          59.228935216396394,
          59.274429311329406,
          59.324859349646474,
          59.379987240642436,
          59.43943187313801,
          59.50270905434499,
          59.5692735142921,
          59.63855481201182,
          59.709983497208135,
          59.783007541256744,
          59.857100987949785,
          59.931767356044766,
          60.00654008591122,
          60.08098181344362,
          60.154683679817985,
          60.22726541548415,
          60.29837654565553,
          60.367698720958806,
          60.43494896063666,
          60.499883362582935,
          60.56230069289949,
          60.622045306721425,
          60.679008705527565,
          60.733129429873806,
          60.78439106479257,
          60.83281830553746,
          60.87847170967084,
          60.92144130492923,
          60.96183985486523,
          60.999796181663825,
          61.03544913779468,
          61.06894222956899,
          61.10041945769249,
          61.130021929471326
         ]
        },
        {
         "hoverinfo": "none",
         "legendgroup": "Mixed",
         "marker": {
          "color": [
           0.13483801902191647,
           0.13481397342112855,
           0.13474168354569654,
           0.13462069150235184,
           0.13445023238428933,
           0.13422923355579364,
           0.13395631585425188,
           0.1336297881576311,
           0.1332476526298474,
           0.13280759952412274,
           0.13230701344125517,
           0.13174297490064277,
           0.13111226579309612,
           0.1304113852827946,
           0.12963655847536604,
           0.12878376394821642,
           0.12784875868148696,
           0.1268271198035994,
           0.12571429473870185,
           0.124505662665761,
           0.12319661685027974,
           0.12178266107307945,
           0.12025952983752564,
           0.11862332986507522,
           0.11687070676717574,
           0.11499903649771166,
           0.1130066461030484,
           0.11089304834966877,
           0.10865919343028956,
           0.10630773229916507,
           0.10384324808807045,
           0.10127247130857843,
           0.09860441926680141,
           0.09585045191735363,
           0.09302419621458971,
           0.09014134031604368,
           0.08721926909942584,
           0.08427655890841848,
           0.08133235870540918,
           0.07840572222270545,
           0.07551492485474277,
           0.07267684948866468,
           0.06990649070137164,
           0.06721660431554541,
           0.06461752277579112,
           0.06211712433703828,
           0.05972092786684454,
           0.05743229160028746,
           0.05525267245078905,
           0.05318190899025693
          ],
          "coloraxis": "coloraxis",
          "symbol": "circle"
         },
         "mode": "markers",
         "name": "Mixed",
         "showlegend": false,
         "type": "scatter",
         "x": [
          0,
          100,
          200,
          300,
          400,
          500,
          600,
          700.0000000000001,
          800,
          900,
          1000,
          1100,
          1200,
          1300,
          1400.0000000000002,
          1500.0000000000002,
          1600,
          1700,
          1800,
          1900,
          2000,
          2100,
          2200,
          2300,
          2400,
          2500,
          2600,
          2700,
          2800.0000000000005,
          2900.0000000000005,
          3000.0000000000005,
          3100,
          3200,
          3300,
          3400,
          3500,
          3600,
          3700,
          3800,
          3900,
          4000,
          4100,
          4200,
          4300,
          4400,
          4500,
          4600,
          4700,
          4800,
          4900
         ],
         "y": [
          62.980424159777904,
          62.98098748567428,
          62.98267893871066,
          62.98550287178571,
          62.98946656416397,
          62.99458014806111,
          63.00085688788433,
          63.008312810989004,
          63.01696716459076,
          63.02684213703382,
          63.037963072877254,
          63.050358506273675,
          63.06406021922185,
          63.079103422815294,
          63.09552678387007,
          63.113372522396936,
          63.13268676700316,
          63.15351945259468,
          63.175924661926416,
          63.19996088515878,
          63.22569104706441,
          63.25318283079894,
          63.28250880131892,
          63.31374661979867,
          63.34697876225374,
          63.38229247248107,
          63.41977946465256,
          63.45953485954508,
          63.50165604721227,
          63.54624108887635,
          63.593385872509096,
          63.64318131651603,
          63.695709404014025,
          63.7510386525794,
          63.80921954859043,
          63.870279434525415,
          63.93421832677424,
          64.00100543980597,
          64.07057708966,
          64.14283644582896,
          64.21765520408785,
          64.29487677111786,
          64.37432123538532,
          64.4557911001092,
          64.53907726971626,
          64.62396510789193,
          64.71023983288079,
          64.79769095304289,
          64.88611602480414,
          64.97532313722492
         ]
        },
        {
         "hoverinfo": "none",
         "legendgroup": "Mixed",
         "marker": {
          "color": [
           0.025134628224385246,
           0.025135036500074037,
           0.025136261526200528,
           0.025138302970247432,
           0.025141161951796494,
           0.025144835731711824,
           0.025149326852188496,
           0.02515463402266323,
           0.02516075625635519,
           0.025167695327803254,
           0.025175449201333095,
           0.025184018239350146,
           0.02519340239557611,
           0.02520360071601246,
           0.025214613344212742,
           0.025226439476725246,
           0.02523907906746268,
           0.025252531510052287,
           0.025266795309914814,
           0.0252818714411985,
           0.02529775853431619,
           0.025314455935993973,
           0.025331962910674778,
           0.02535027919280662,
           0.02536940414259087,
           0.025389335540140678,
           0.02541007441006384,
           0.025431619297980112,
           0.025453968673612815,
           0.025477122046571318,
           0.0255010787651059,
           0.025525837087202567,
           0.025551396238223542,
           0.02557775496140884,
           0.025604912673927584,
           0.025632867538642218,
           0.025661618012587654,
           0.025691163509694324,
           0.02572150235482783,
           0.025752632322604416,
           0.025784553787378796,
           0.025817263163130908,
           0.02585075937667918,
           0.025885042084282682,
           0.025920107868717842,
           0.02595595567330686,
           0.02599258373821273,
           0.026029989688951025,
           0.026068171581648196,
           0.026107127239105393
          ],
          "coloraxis": "coloraxis",
          "symbol": "circle"
         },
         "mode": "markers",
         "name": "Mixed",
         "showlegend": false,
         "type": "scatter",
         "x": [
          0,
          100,
          200,
          300,
          400,
          500,
          600,
          700.0000000000001,
          800,
          900,
          1000,
          1100,
          1200,
          1300,
          1400.0000000000002,
          1500.0000000000002,
          1600,
          1700,
          1800,
          1900,
          2000,
          2100,
          2200,
          2300,
          2400,
          2500,
          2600,
          2700,
          2800.0000000000005,
          2900.0000000000005,
          3000.0000000000005,
          3100,
          3200,
          3300,
          3400,
          3500,
          3600,
          3700,
          3800,
          3900,
          4000,
          4100,
          4200,
          4300,
          4400,
          4500,
          4600,
          4700,
          4800,
          4900
         ],
         "y": [
          74.20084125273668,
          74.20084923792545,
          74.20087319451007,
          74.20091291860977,
          74.200968894553,
          74.20104052230549,
          74.20112819863482,
          74.20123185139164,
          74.20135133972677,
          74.20148684843772,
          74.20163816844435,
          74.20180548610804,
          74.20198876894455,
          74.20218791596335,
          74.20240299788875,
          74.20263402423724,
          74.2028809105859,
          74.20314377054152,
          74.20342240961821,
          74.20371706677254,
          74.20402752461908,
          74.2043538871756,
          74.20469619966039,
          74.20505432469426,
          74.20542831483667,
          74.20581812888382,
          74.20622391487649,
          74.20664547051226,
          74.20708294383067,
          74.20753609161868,
          74.20800519481183,
          74.20849013323162,
          74.20899076510815,
          74.20950731160318,
          74.21003959171875,
          74.21058766812662,
          74.21115152362752,
          74.2117311374479,
          74.21232655753968,
          74.21293753067286,
          74.21356445864537,
          74.21420699585634,
          74.21486525120771,
          74.215539242014,
          74.2162290466991,
          74.2169342810923,
          74.21765536323964,
          74.21839209179537,
          74.2191444002827,
          74.21991226275904
         ]
        },
        {
         "hoverinfo": "none",
         "legendgroup": "Backward",
         "marker": {
          "color": [
           0.0007224591245158632,
           0.0007122872880030642,
           0.0007028413551869278,
           0.0006939404682547255,
           0.00068545751200329,
           0.0006773011139300165,
           0.0006694037353908135,
           0.0006617149829347334,
           0.0006541961894249158,
           0.0006468174630306543,
           0.0006395554437129222,
           0.0006323916480735433,
           0.0006253116007838694,
           0.0006183032912653992,
           0.0006113574180043508,
           0.0006044664307831928,
           0.0005976242319738369,
           0.0005908259571156951,
           0.0005840676410518266,
           0.0005773463528170046,
           0.0005706597121168626,
           0.0005640058985297814,
           0.0005573837489869168,
           0.0005507923809639697,
           0.0005442313587874265,
           0.0005377005883093573,
           0.0005312002400506799,
           0.0005247308621135631,
           0.0005182930533369239,
           0.0005118878371082184,
           0.0005055162633754367,
           0.0004991796719488328,
           0.0004928796646724245,
           0.000486617837022038,
           0.00048039626843196726,
           0.00047421694018078816,
           0.0004680822210741581,
           0.0004619946515809322,
           0.0004559568910007734,
           0.00044997197291401575,
           0.0004440432693055786
          ],
          "coloraxis": "coloraxis",
          "symbol": "triangle-down"
         },
         "mode": "markers",
         "name": "Backward",
         "showlegend": false,
         "type": "scatter",
         "x": [
          900,
          1000,
          1100,
          1200,
          1300,
          1400.0000000000002,
          1500.0000000000002,
          1600,
          1700,
          1800,
          1900,
          2000,
          2100,
          2200,
          2300,
          2400,
          2500,
          2600,
          2700,
          2800.0000000000005,
          2900.0000000000005,
          3000.0000000000005,
          3100,
          3200,
          3300,
          3400,
          3500,
          3600,
          3700,
          3800,
          3900,
          4000,
          4100,
          4200,
          4300,
          4400,
          4500,
          4600,
          4700,
          4800,
          4900
         ],
         "y": [
          17.520104166104556,
          17.47876841965821,
          17.437113879774202,
          17.395160319817784,
          17.352921767099524,
          17.310408558524564,
          17.267628575533173,
          17.224588034841233,
          17.181291994941777,
          17.137744705016974,
          17.09394984453403,
          17.04991068929944,
          17.005630226039862,
          16.96111125544316,
          16.91635643819771,
          16.871368364490955,
          16.82614957317353,
          16.780702599446435,
          16.735029984055256,
          16.68913429997707,
          16.64301816028941,
          16.5966842394521,
          16.550135275174643,
          16.503374077353598,
          16.456403535011116,
          16.409226629806927,
          16.361846424310972,
          16.314266080582687,
          16.26648885369581,
          16.21851810248375,
          16.170357283211622,
          16.12200995853637,
          16.073479790745665,
          16.024770557173035,
          15.975886131465748,
          15.926830501978477,
          15.877607763063923,
          15.828222122972324,
          15.778677891277114,
          15.728979496762106,
          15.679131473419488
         ]
        },
        {
         "hoverinfo": "none",
         "legendgroup": "Backward",
         "marker": {
          "color": [
           0.020926611937615764,
           0.022435774763071896,
           0.022340264677577628,
           0.02177500856463356,
           0.021393349564956227,
           0.021166164928751712,
           0.021031727461196983
          ],
          "coloraxis": "coloraxis",
          "symbol": "triangle-down"
         },
         "mode": "markers",
         "name": "Backward",
         "showlegend": false,
         "type": "scatter",
         "x": [
          1000,
          1100,
          1200,
          1300,
          1400.0000000000002,
          1500.0000000000002,
          1600
         ],
         "y": [
          51.11087367147972,
          50.976013264093204,
          50.91016993504023,
          50.88291376466392,
          50.86938725064687,
          50.861066584219365,
          50.85508355139921
         ]
        },
        {
         "hoverinfo": "none",
         "legendgroup": "Backward",
         "marker": {
          "color": [
           0.018728588351307654,
           0.020017508945138946,
           0.021573924423322025,
           0.023431783732269517,
           0.02562176625533831,
           0.028168498212257982,
           0.031088706303659914
          ],
          "coloraxis": "coloraxis",
          "symbol": "triangle-down"
         },
         "mode": "markers",
         "name": "Backward",
         "showlegend": false,
         "type": "scatter",
         "x": [
          900,
          1000,
          1100,
          1200,
          1300,
          1400.0000000000002,
          1500.0000000000002
         ],
         "y": [
          57.6809033518258,
          57.69174778597261,
          57.703365926665604,
          57.71551018351609,
          57.72787403017828,
          57.74011602488259,
          57.751903950269686
         ]
        },
        {
         "hoverinfo": "none",
         "line": {
          "color": "blue",
          "dash": "dashdot"
         },
         "mode": "lines",
         "name": "1x speed",
         "type": "scatter",
         "x": [
          0,
          100,
          200,
          300,
          400,
          500,
          600,
          700.0000000000001,
          800,
          900,
          1000,
          1100,
          1200,
          1300,
          1400.0000000000002,
          1500.0000000000002,
          1600,
          1700,
          1800,
          1900,
          2000,
          2100,
          2200,
          2300,
          2400,
          2500,
          2600,
          2700,
          2800.0000000000005,
          2900.0000000000005,
          3000.0000000000005,
          3100,
          3200,
          3300,
          3400,
          3500,
          3600,
          3700,
          3800,
          3900,
          4000,
          4100,
          4200,
          4300,
          4400,
          4500,
          4600,
          4700,
          4800,
          4900
         ],
         "y": [
          0,
          1.6666666666666665,
          3.333333333333333,
          5,
          6.666666666666666,
          8.333333333333334,
          10,
          11.666666666666668,
          13.333333333333332,
          15,
          16.666666666666668,
          18.333333333333332,
          20,
          21.666666666666668,
          23.333333333333336,
          25,
          26.666666666666664,
          28.333333333333332,
          30,
          31.666666666666664,
          33.333333333333336,
          35,
          36.666666666666664,
          38.333333333333336,
          40,
          41.66666666666667,
          43.333333333333336,
          45,
          46.66666666666667,
          48.333333333333336,
          50,
          51.666666666666664,
          53.33333333333333,
          54.99999999999999,
          56.666666666666664,
          58.33333333333333,
          60,
          61.666666666666664,
          63.33333333333333,
          65,
          66.66666666666667,
          68.33333333333333,
          70,
          71.66666666666667,
          73.33333333333333,
          75,
          76.66666666666667,
          78.33333333333333,
          80,
          81.66666666666667
         ]
        },
        {
         "hoverinfo": "none",
         "line": {
          "color": "orange",
          "dash": "dashdot"
         },
         "mode": "lines",
         "name": "14.261x speed",
         "type": "scatter",
         "x": [
          0,
          100,
          200,
          300,
          400,
          500,
          600,
          700.0000000000001,
          800,
          900,
          1000,
          1100,
          1200,
          1300,
          1400.0000000000002,
          1500.0000000000002,
          1600,
          1700,
          1800,
          1900,
          2000,
          2100,
          2200,
          2300,
          2400,
          2500,
          2600,
          2700,
          2800.0000000000005,
          2900.0000000000005,
          3000.0000000000005,
          3100,
          3200,
          3300,
          3400,
          3500,
          3600,
          3700,
          3800,
          3900,
          4000,
          4100,
          4200,
          4300,
          4400,
          4500,
          4600,
          4700,
          4800,
          4900
         ],
         "y": [
          0,
          23.76833333333333,
          47.53666666666666,
          71.30499999999999,
          95.07333333333332,
          118.84166666666667,
          142.60999999999999,
          166.37833333333333,
          190.14666666666665,
          213.915,
          237.68333333333334,
          261.45166666666665,
          285.21999999999997,
          308.98833333333334,
          332.75666666666666,
          356.525,
          380.2933333333333,
          404.0616666666666,
          427.83,
          451.5983333333333,
          475.3666666666667,
          499.135,
          522.9033333333333,
          546.6716666666666,
          570.4399999999999,
          594.2083333333334,
          617.9766666666667,
          641.745,
          665.5133333333333,
          689.2816666666666,
          713.05,
          736.8183333333333,
          760.5866666666666,
          784.3549999999999,
          808.1233333333332,
          831.8916666666665,
          855.66,
          879.4283333333333,
          903.1966666666666,
          926.9649999999999,
          950.7333333333333,
          974.5016666666666,
          998.27,
          1022.0383333333333,
          1045.8066666666666,
          1069.575,
          1093.3433333333332,
          1117.1116666666665,
          1140.8799999999999,
          1164.6483333333333
         ]
        },
        {
         "hoverinfo": "none",
         "legendgroup": "Forward",
         "marker": {
          "color": "black",
          "symbol": "triangle-up"
         },
         "mode": "markers",
         "name": "Forward",
         "type": "scatter",
         "x": [
          0
         ],
         "y": [
          0
         ]
        },
        {
         "hoverinfo": "none",
         "legendgroup": "Mixed",
         "marker": {
          "color": "black",
          "symbol": "circle"
         },
         "mode": "markers",
         "name": "Mixed",
         "type": "scatter",
         "x": [
          0
         ],
         "y": [
          0
         ]
        },
        {
         "hoverinfo": "none",
         "legendgroup": "Backward",
         "marker": {
          "color": "black",
          "symbol": "triangle-down"
         },
         "mode": "markers",
         "name": "Backward",
         "type": "scatter",
         "x": [
          0
         ],
         "y": [
          0
         ]
        },
        {
         "hoverinfo": "none",
         "legendgroup": "Axial",
         "marker": {
          "color": "black",
          "symbol": "diamond-wide"
         },
         "mode": "markers",
         "name": "Axial",
         "type": "scatter",
         "x": [
          0
         ],
         "y": [
          0
         ]
        },
        {
         "hoverinfo": "none",
         "legendgroup": "Torsional",
         "marker": {
          "color": "black",
          "symbol": "bowtie"
         },
         "mode": "markers",
         "name": "Torsional",
         "type": "scatter",
         "x": [
          0
         ],
         "y": [
          0
         ]
        }
       ],
       "layout": {
        "coloraxis": {
         "cmax": 1,
         "cmin": 0,
         "colorbar": {
          "title": {
           "side": "right",
           "text": "<b>Log Dec</b>"
          }
         },
         "colorscale": [
          [
           0,
           "rgb(179,3,38)"
          ],
          [
           0.003937007874015748,
           "rgb(181,8,39)"
          ],
          [
           0.007874015748031496,
           "rgb(182,13,40)"
          ],
          [
           0.011811023622047244,
           "rgb(184,17,41)"
          ],
          [
           0.015748031496062992,
           "rgb(185,22,42)"
          ],
          [
           0.01968503937007874,
           "rgb(187,26,43)"
          ],
          [
           0.023622047244094488,
           "rgb(188,31,44)"
          ],
          [
           0.027559055118110236,
           "rgb(190,35,45)"
          ],
          [
           0.031496062992125984,
           "rgb(191,40,46)"
          ],
          [
           0.03543307086614173,
           "rgb(193,42,48)"
          ],
          [
           0.03937007874015748,
           "rgb(194,45,49)"
          ],
          [
           0.04330708661417323,
           "rgb(196,48,50)"
          ],
          [
           0.047244094488188976,
           "rgb(197,50,51)"
          ],
          [
           0.051181102362204724,
           "rgb(198,53,52)"
          ],
          [
           0.05511811023622047,
           "rgb(200,56,53)"
          ],
          [
           0.05905511811023622,
           "rgb(201,59,55)"
          ],
          [
           0.06299212598425197,
           "rgb(202,61,56)"
          ],
          [
           0.06692913385826772,
           "rgb(204,63,57)"
          ],
          [
           0.07086614173228346,
           "rgb(205,66,58)"
          ],
          [
           0.07480314960629922,
           "rgb(206,68,60)"
          ],
          [
           0.07874015748031496,
           "rgb(207,70,61)"
          ],
          [
           0.08267716535433071,
           "rgb(209,73,62)"
          ],
          [
           0.08661417322834646,
           "rgb(210,75,63)"
          ],
          [
           0.09055118110236221,
           "rgb(211,77,64)"
          ],
          [
           0.09448818897637795,
           "rgb(212,79,66)"
          ],
          [
           0.0984251968503937,
           "rgb(214,82,67)"
          ],
          [
           0.10236220472440945,
           "rgb(215,84,68)"
          ],
          [
           0.1062992125984252,
           "rgb(216,86,70)"
          ],
          [
           0.11023622047244094,
           "rgb(217,88,71)"
          ],
          [
           0.1141732283464567,
           "rgb(218,90,72)"
          ],
          [
           0.11811023622047244,
           "rgb(219,92,74)"
          ],
          [
           0.1220472440944882,
           "rgb(220,94,75)"
          ],
          [
           0.12598425196850394,
           "rgb(221,96,76)"
          ],
          [
           0.12992125984251968,
           "rgb(222,98,78)"
          ],
          [
           0.13385826771653545,
           "rgb(223,100,79)"
          ],
          [
           0.1377952755905512,
           "rgb(224,102,80)"
          ],
          [
           0.14173228346456693,
           "rgb(225,104,82)"
          ],
          [
           0.14566929133858267,
           "rgb(226,106,83)"
          ],
          [
           0.14960629921259844,
           "rgb(227,108,84)"
          ],
          [
           0.15354330708661418,
           "rgb(228,110,86)"
          ],
          [
           0.15748031496062992,
           "rgb(229,112,87)"
          ],
          [
           0.16141732283464566,
           "rgb(230,114,89)"
          ],
          [
           0.16535433070866143,
           "rgb(230,116,90)"
          ],
          [
           0.16929133858267717,
           "rgb(231,117,92)"
          ],
          [
           0.1732283464566929,
           "rgb(232,119,93)"
          ],
          [
           0.17716535433070865,
           "rgb(233,121,94)"
          ],
          [
           0.18110236220472442,
           "rgb(234,123,96)"
          ],
          [
           0.18503937007874016,
           "rgb(234,125,97)"
          ],
          [
           0.1889763779527559,
           "rgb(235,127,99)"
          ],
          [
           0.19291338582677164,
           "rgb(236,128,100)"
          ],
          [
           0.1968503937007874,
           "rgb(236,130,102)"
          ],
          [
           0.20078740157480315,
           "rgb(237,132,103)"
          ],
          [
           0.2047244094488189,
           "rgb(238,134,105)"
          ],
          [
           0.20866141732283464,
           "rgb(238,135,106)"
          ],
          [
           0.2125984251968504,
           "rgb(239,137,108)"
          ],
          [
           0.21653543307086615,
           "rgb(240,139,109)"
          ],
          [
           0.2204724409448819,
           "rgb(240,141,111)"
          ],
          [
           0.22440944881889763,
           "rgb(241,142,112)"
          ],
          [
           0.2283464566929134,
           "rgb(241,144,114)"
          ],
          [
           0.23228346456692914,
           "rgb(242,145,115)"
          ],
          [
           0.23622047244094488,
           "rgb(242,147,117)"
          ],
          [
           0.24015748031496062,
           "rgb(243,149,118)"
          ],
          [
           0.2440944881889764,
           "rgb(243,150,120)"
          ],
          [
           0.24803149606299213,
           "rgb(243,152,121)"
          ],
          [
           0.25196850393700787,
           "rgb(244,154,123)"
          ],
          [
           0.2559055118110236,
           "rgb(244,155,124)"
          ],
          [
           0.25984251968503935,
           "rgb(244,157,126)"
          ],
          [
           0.2637795275590551,
           "rgb(245,158,127)"
          ],
          [
           0.2677165354330709,
           "rgb(245,160,129)"
          ],
          [
           0.27165354330708663,
           "rgb(245,161,130)"
          ],
          [
           0.2755905511811024,
           "rgb(246,163,132)"
          ],
          [
           0.2795275590551181,
           "rgb(246,164,134)"
          ],
          [
           0.28346456692913385,
           "rgb(246,166,135)"
          ],
          [
           0.2874015748031496,
           "rgb(246,167,137)"
          ],
          [
           0.29133858267716534,
           "rgb(246,169,138)"
          ],
          [
           0.2952755905511811,
           "rgb(246,170,140)"
          ],
          [
           0.2992125984251969,
           "rgb(246,171,141)"
          ],
          [
           0.3031496062992126,
           "rgb(247,173,143)"
          ],
          [
           0.30708661417322836,
           "rgb(247,174,145)"
          ],
          [
           0.3110236220472441,
           "rgb(247,176,146)"
          ],
          [
           0.31496062992125984,
           "rgb(247,177,148)"
          ],
          [
           0.3188976377952756,
           "rgb(247,178,149)"
          ],
          [
           0.3228346456692913,
           "rgb(247,179,151)"
          ],
          [
           0.32677165354330706,
           "rgb(247,181,152)"
          ],
          [
           0.33070866141732286,
           "rgb(246,182,154)"
          ],
          [
           0.3346456692913386,
           "rgb(246,183,156)"
          ],
          [
           0.33858267716535434,
           "rgb(246,185,157)"
          ],
          [
           0.3425196850393701,
           "rgb(246,186,159)"
          ],
          [
           0.3464566929133858,
           "rgb(246,187,160)"
          ],
          [
           0.35039370078740156,
           "rgb(246,188,162)"
          ],
          [
           0.3543307086614173,
           "rgb(246,189,164)"
          ],
          [
           0.35826771653543305,
           "rgb(245,191,165)"
          ],
          [
           0.36220472440944884,
           "rgb(245,192,167)"
          ],
          [
           0.3661417322834646,
           "rgb(245,193,168)"
          ],
          [
           0.3700787401574803,
           "rgb(244,194,170)"
          ],
          [
           0.37401574803149606,
           "rgb(244,195,171)"
          ],
          [
           0.3779527559055118,
           "rgb(244,196,173)"
          ],
          [
           0.38188976377952755,
           "rgb(243,197,175)"
          ],
          [
           0.3858267716535433,
           "rgb(243,198,176)"
          ],
          [
           0.38976377952755903,
           "rgb(242,199,178)"
          ],
          [
           0.3937007874015748,
           "rgb(242,200,179)"
          ],
          [
           0.39763779527559057,
           "rgb(242,201,181)"
          ],
          [
           0.4015748031496063,
           "rgb(241,202,182)"
          ],
          [
           0.40551181102362205,
           "rgb(241,203,184)"
          ],
          [
           0.4094488188976378,
           "rgb(240,204,185)"
          ],
          [
           0.41338582677165353,
           "rgb(239,205,187)"
          ],
          [
           0.41732283464566927,
           "rgb(239,206,188)"
          ],
          [
           0.421259842519685,
           "rgb(238,207,190)"
          ],
          [
           0.4251968503937008,
           "rgb(237,207,192)"
          ],
          [
           0.42913385826771655,
           "rgb(237,208,193)"
          ],
          [
           0.4330708661417323,
           "rgb(236,209,195)"
          ],
          [
           0.43700787401574803,
           "rgb(236,210,196)"
          ],
          [
           0.4409448818897638,
           "rgb(235,211,198)"
          ],
          [
           0.4448818897637795,
           "rgb(234,211,199)"
          ],
          [
           0.44881889763779526,
           "rgb(233,212,201)"
          ],
          [
           0.452755905511811,
           "rgb(232,213,202)"
          ],
          [
           0.4566929133858268,
           "rgb(231,214,204)"
          ],
          [
           0.46062992125984253,
           "rgb(231,214,205)"
          ],
          [
           0.4645669291338583,
           "rgb(230,215,207)"
          ],
          [
           0.468503937007874,
           "rgb(229,216,208)"
          ],
          [
           0.47244094488188976,
           "rgb(228,216,209)"
          ],
          [
           0.4763779527559055,
           "rgb(227,217,211)"
          ],
          [
           0.48031496062992124,
           "rgb(226,217,212)"
          ],
          [
           0.484251968503937,
           "rgb(225,218,214)"
          ],
          [
           0.4881889763779528,
           "rgb(224,218,215)"
          ],
          [
           0.4921259842519685,
           "rgb(223,219,217)"
          ],
          [
           0.49606299212598426,
           "rgb(222,219,218)"
          ],
          [
           0.5,
           "rgb(220,220,221)"
          ],
          [
           0.5039370078740157,
           "rgb(219,220,222)"
          ],
          [
           0.5078740157480315,
           "rgb(218,220,223)"
          ],
          [
           0.5118110236220472,
           "rgb(217,220,224)"
          ],
          [
           0.515748031496063,
           "rgb(216,219,225)"
          ],
          [
           0.5196850393700787,
           "rgb(215,219,226)"
          ],
          [
           0.5236220472440944,
           "rgb(214,219,228)"
          ],
          [
           0.5275590551181102,
           "rgb(213,219,229)"
          ],
          [
           0.531496062992126,
           "rgb(211,219,230)"
          ],
          [
           0.5354330708661418,
           "rgb(210,218,231)"
          ],
          [
           0.5393700787401575,
           "rgb(209,218,232)"
          ],
          [
           0.5433070866141733,
           "rgb(208,218,233)"
          ],
          [
           0.547244094488189,
           "rgb(207,217,234)"
          ],
          [
           0.5511811023622047,
           "rgb(206,217,235)"
          ],
          [
           0.5551181102362205,
           "rgb(205,217,236)"
          ],
          [
           0.5590551181102362,
           "rgb(204,216,237)"
          ],
          [
           0.562992125984252,
           "rgb(202,216,238)"
          ],
          [
           0.5669291338582677,
           "rgb(201,215,238)"
          ],
          [
           0.5708661417322834,
           "rgb(200,215,239)"
          ],
          [
           0.5748031496062992,
           "rgb(199,214,240)"
          ],
          [
           0.5787401574803149,
           "rgb(198,214,241)"
          ],
          [
           0.5826771653543307,
           "rgb(197,213,242)"
          ],
          [
           0.5866141732283464,
           "rgb(195,213,242)"
          ],
          [
           0.5905511811023622,
           "rgb(194,212,243)"
          ],
          [
           0.594488188976378,
           "rgb(193,212,244)"
          ],
          [
           0.5984251968503937,
           "rgb(192,211,245)"
          ],
          [
           0.6023622047244095,
           "rgb(190,211,245)"
          ],
          [
           0.6062992125984252,
           "rgb(189,210,246)"
          ],
          [
           0.610236220472441,
           "rgb(188,209,246)"
          ],
          [
           0.6141732283464567,
           "rgb(187,209,247)"
          ],
          [
           0.6181102362204725,
           "rgb(185,208,248)"
          ],
          [
           0.6220472440944882,
           "rgb(184,207,248)"
          ],
          [
           0.6259842519685039,
           "rgb(183,207,249)"
          ],
          [
           0.6299212598425197,
           "rgb(182,206,249)"
          ],
          [
           0.6338582677165354,
           "rgb(180,205,250)"
          ],
          [
           0.6377952755905512,
           "rgb(179,204,250)"
          ],
          [
           0.6417322834645669,
           "rgb(178,203,251)"
          ],
          [
           0.6456692913385826,
           "rgb(176,203,251)"
          ],
          [
           0.6496062992125984,
           "rgb(175,202,251)"
          ],
          [
           0.6535433070866141,
           "rgb(174,201,252)"
          ],
          [
           0.65748031496063,
           "rgb(172,200,252)"
          ],
          [
           0.6614173228346457,
           "rgb(171,199,252)"
          ],
          [
           0.6653543307086615,
           "rgb(170,198,253)"
          ],
          [
           0.6692913385826772,
           "rgb(168,197,253)"
          ],
          [
           0.6732283464566929,
           "rgb(167,196,253)"
          ],
          [
           0.6771653543307087,
           "rgb(166,195,253)"
          ],
          [
           0.6811023622047244,
           "rgb(164,194,254)"
          ],
          [
           0.6850393700787402,
           "rgb(163,193,254)"
          ],
          [
           0.6889763779527559,
           "rgb(162,192,254)"
          ],
          [
           0.6929133858267716,
           "rgb(160,191,254)"
          ],
          [
           0.6968503937007874,
           "rgb(159,190,254)"
          ],
          [
           0.7007874015748031,
           "rgb(157,189,254)"
          ],
          [
           0.7047244094488189,
           "rgb(156,188,254)"
          ],
          [
           0.7086614173228346,
           "rgb(155,187,254)"
          ],
          [
           0.7125984251968503,
           "rgb(153,186,254)"
          ],
          [
           0.7165354330708661,
           "rgb(152,185,254)"
          ],
          [
           0.7204724409448819,
           "rgb(151,184,254)"
          ],
          [
           0.7244094488188977,
           "rgb(149,183,254)"
          ],
          [
           0.7283464566929134,
           "rgb(148,181,254)"
          ],
          [
           0.7322834645669292,
           "rgb(146,180,254)"
          ],
          [
           0.7362204724409449,
           "rgb(145,179,254)"
          ],
          [
           0.7401574803149606,
           "rgb(144,178,254)"
          ],
          [
           0.7440944881889764,
           "rgb(142,177,253)"
          ],
          [
           0.7480314960629921,
           "rgb(141,175,253)"
          ],
          [
           0.7519685039370079,
           "rgb(139,174,253)"
          ],
          [
           0.7559055118110236,
           "rgb(138,173,253)"
          ],
          [
           0.7598425196850394,
           "rgb(137,172,252)"
          ],
          [
           0.7637795275590551,
           "rgb(135,170,252)"
          ],
          [
           0.7677165354330708,
           "rgb(134,169,252)"
          ],
          [
           0.7716535433070866,
           "rgb(133,168,251)"
          ],
          [
           0.7755905511811023,
           "rgb(131,166,251)"
          ],
          [
           0.7795275590551181,
           "rgb(130,165,251)"
          ],
          [
           0.7834645669291339,
           "rgb(128,164,250)"
          ],
          [
           0.7874015748031497,
           "rgb(127,162,250)"
          ],
          [
           0.7913385826771654,
           "rgb(126,161,249)"
          ],
          [
           0.7952755905511811,
           "rgb(124,160,249)"
          ],
          [
           0.7992125984251969,
           "rgb(123,158,248)"
          ],
          [
           0.8031496062992126,
           "rgb(122,157,248)"
          ],
          [
           0.8070866141732284,
           "rgb(120,155,247)"
          ],
          [
           0.8110236220472441,
           "rgb(119,154,246)"
          ],
          [
           0.8149606299212598,
           "rgb(117,152,246)"
          ],
          [
           0.8188976377952756,
           "rgb(116,151,245)"
          ],
          [
           0.8228346456692913,
           "rgb(115,149,244)"
          ],
          [
           0.8267716535433071,
           "rgb(113,148,244)"
          ],
          [
           0.8307086614173228,
           "rgb(112,147,243)"
          ],
          [
           0.8346456692913385,
           "rgb(111,145,242)"
          ],
          [
           0.8385826771653543,
           "rgb(109,144,241)"
          ],
          [
           0.84251968503937,
           "rgb(108,142,241)"
          ],
          [
           0.8464566929133859,
           "rgb(107,141,240)"
          ],
          [
           0.8503937007874016,
           "rgb(105,139,239)"
          ],
          [
           0.8543307086614174,
           "rgb(104,137,238)"
          ],
          [
           0.8582677165354331,
           "rgb(103,136,237)"
          ],
          [
           0.8622047244094488,
           "rgb(101,134,236)"
          ],
          [
           0.8661417322834646,
           "rgb(100,133,235)"
          ],
          [
           0.8700787401574803,
           "rgb(99,131,234)"
          ],
          [
           0.8740157480314961,
           "rgb(97,130,234)"
          ],
          [
           0.8779527559055118,
           "rgb(96,128,232)"
          ],
          [
           0.8818897637795275,
           "rgb(95,126,231)"
          ],
          [
           0.8858267716535433,
           "rgb(93,125,230)"
          ],
          [
           0.889763779527559,
           "rgb(92,123,229)"
          ],
          [
           0.8937007874015748,
           "rgb(91,121,228)"
          ],
          [
           0.8976377952755905,
           "rgb(90,120,227)"
          ],
          [
           0.9015748031496063,
           "rgb(88,118,226)"
          ],
          [
           0.905511811023622,
           "rgb(87,117,225)"
          ],
          [
           0.9094488188976378,
           "rgb(86,115,224)"
          ],
          [
           0.9133858267716536,
           "rgb(85,113,222)"
          ],
          [
           0.9173228346456693,
           "rgb(83,112,221)"
          ],
          [
           0.9212598425196851,
           "rgb(82,110,220)"
          ],
          [
           0.9251968503937008,
           "rgb(81,108,219)"
          ],
          [
           0.9291338582677166,
           "rgb(80,107,218)"
          ],
          [
           0.9330708661417323,
           "rgb(78,105,216)"
          ],
          [
           0.937007874015748,
           "rgb(77,103,215)"
          ],
          [
           0.9409448818897638,
           "rgb(76,102,214)"
          ],
          [
           0.9448818897637795,
           "rgb(75,100,212)"
          ],
          [
           0.9488188976377953,
           "rgb(73,98,211)"
          ],
          [
           0.952755905511811,
           "rgb(72,96,209)"
          ],
          [
           0.9566929133858267,
           "rgb(71,95,208)"
          ],
          [
           0.9606299212598425,
           "rgb(70,93,207)"
          ],
          [
           0.9645669291338582,
           "rgb(69,91,205)"
          ],
          [
           0.968503937007874,
           "rgb(67,90,204)"
          ],
          [
           0.9724409448818898,
           "rgb(66,88,202)"
          ],
          [
           0.9763779527559056,
           "rgb(65,86,201)"
          ],
          [
           0.9803149606299213,
           "rgb(64,84,199)"
          ],
          [
           0.984251968503937,
           "rgb(63,83,198)"
          ],
          [
           0.9881889763779528,
           "rgb(62,81,196)"
          ],
          [
           0.9921259842519685,
           "rgb(60,79,195)"
          ],
          [
           0.9960629921259843,
           "rgb(59,77,193)"
          ],
          [
           1,
           "rgb(58,76,192)"
          ]
         ]
        },
        "legend": {
         "orientation": "h",
         "x": 0.5,
         "xanchor": "center",
         "y": -0.3,
         "yanchor": "bottom",
         "yref": "container"
        },
        "template": {
         "data": {
          "bar": [
           {
            "error_x": {
             "color": "#2a3f5f"
            },
            "error_y": {
             "color": "#2a3f5f"
            },
            "marker": {
             "line": {
              "color": "white",
              "width": 0.5
             }
            },
            "type": "bar"
           }
          ],
          "barpolar": [
           {
            "marker": {
             "line": {
              "color": "white",
              "width": 0.5
             }
            },
            "type": "barpolar"
           }
          ],
          "carpet": [
           {
            "aaxis": {
             "endlinecolor": "#2a3f5f",
             "gridcolor": "#C8D4E3",
             "linecolor": "#C8D4E3",
             "minorgridcolor": "#C8D4E3",
             "startlinecolor": "#2a3f5f"
            },
            "baxis": {
             "endlinecolor": "#2a3f5f",
             "gridcolor": "#C8D4E3",
             "linecolor": "#C8D4E3",
             "minorgridcolor": "#C8D4E3",
             "startlinecolor": "#2a3f5f"
            },
            "type": "carpet"
           }
          ],
          "choropleth": [
           {
            "colorbar": {
             "outlinewidth": 0,
             "ticks": ""
            },
            "type": "choropleth"
           }
          ],
          "contour": [
           {
            "colorbar": {
             "outlinewidth": 0,
             "ticks": ""
            },
            "colorscale": [
             [
              0,
              "#0d0887"
             ],
             [
              0.1111111111111111,
              "#46039f"
             ],
             [
              0.2222222222222222,
              "#7201a8"
             ],
             [
              0.3333333333333333,
              "#9c179e"
             ],
             [
              0.4444444444444444,
              "#bd3786"
             ],
             [
              0.5555555555555556,
              "#d8576b"
             ],
             [
              0.6666666666666666,
              "#ed7953"
             ],
             [
              0.7777777777777778,
              "#fb9f3a"
             ],
             [
              0.8888888888888888,
              "#fdca26"
             ],
             [
              1,
              "#f0f921"
             ]
            ],
            "type": "contour"
           }
          ],
          "contourcarpet": [
           {
            "colorbar": {
             "outlinewidth": 0,
             "ticks": ""
            },
            "type": "contourcarpet"
           }
          ],
          "heatmap": [
           {
            "colorbar": {
             "outlinewidth": 0,
             "ticks": ""
            },
            "colorscale": [
             [
              0,
              "#0d0887"
             ],
             [
              0.1111111111111111,
              "#46039f"
             ],
             [
              0.2222222222222222,
              "#7201a8"
             ],
             [
              0.3333333333333333,
              "#9c179e"
             ],
             [
              0.4444444444444444,
              "#bd3786"
             ],
             [
              0.5555555555555556,
              "#d8576b"
             ],
             [
              0.6666666666666666,
              "#ed7953"
             ],
             [
              0.7777777777777778,
              "#fb9f3a"
             ],
             [
              0.8888888888888888,
              "#fdca26"
             ],
             [
              1,
              "#f0f921"
             ]
            ],
            "type": "heatmap"
           }
          ],
          "heatmapgl": [
           {
            "colorbar": {
             "outlinewidth": 0,
             "ticks": ""
            },
            "colorscale": [
             [
              0,
              "#0d0887"
             ],
             [
              0.1111111111111111,
              "#46039f"
             ],
             [
              0.2222222222222222,
              "#7201a8"
             ],
             [
              0.3333333333333333,
              "#9c179e"
             ],
             [
              0.4444444444444444,
              "#bd3786"
             ],
             [
              0.5555555555555556,
              "#d8576b"
             ],
             [
              0.6666666666666666,
              "#ed7953"
             ],
             [
              0.7777777777777778,
              "#fb9f3a"
             ],
             [
              0.8888888888888888,
              "#fdca26"
             ],
             [
              1,
              "#f0f921"
             ]
            ],
            "type": "heatmapgl"
           }
          ],
          "histogram": [
           {
            "marker": {
             "colorbar": {
              "outlinewidth": 0,
              "ticks": ""
             }
            },
            "type": "histogram"
           }
          ],
          "histogram2d": [
           {
            "colorbar": {
             "outlinewidth": 0,
             "ticks": ""
            },
            "colorscale": [
             [
              0,
              "#0d0887"
             ],
             [
              0.1111111111111111,
              "#46039f"
             ],
             [
              0.2222222222222222,
              "#7201a8"
             ],
             [
              0.3333333333333333,
              "#9c179e"
             ],
             [
              0.4444444444444444,
              "#bd3786"
             ],
             [
              0.5555555555555556,
              "#d8576b"
             ],
             [
              0.6666666666666666,
              "#ed7953"
             ],
             [
              0.7777777777777778,
              "#fb9f3a"
             ],
             [
              0.8888888888888888,
              "#fdca26"
             ],
             [
              1,
              "#f0f921"
             ]
            ],
            "type": "histogram2d"
           }
          ],
          "histogram2dcontour": [
           {
            "colorbar": {
             "outlinewidth": 0,
             "ticks": ""
            },
            "colorscale": [
             [
              0,
              "#0d0887"
             ],
             [
              0.1111111111111111,
              "#46039f"
             ],
             [
              0.2222222222222222,
              "#7201a8"
             ],
             [
              0.3333333333333333,
              "#9c179e"
             ],
             [
              0.4444444444444444,
              "#bd3786"
             ],
             [
              0.5555555555555556,
              "#d8576b"
             ],
             [
              0.6666666666666666,
              "#ed7953"
             ],
             [
              0.7777777777777778,
              "#fb9f3a"
             ],
             [
              0.8888888888888888,
              "#fdca26"
             ],
             [
              1,
              "#f0f921"
             ]
            ],
            "type": "histogram2dcontour"
           }
          ],
          "mesh3d": [
           {
            "colorbar": {
             "outlinewidth": 0,
             "ticks": ""
            },
            "type": "mesh3d"
           }
          ],
          "parcoords": [
           {
            "line": {
             "colorbar": {
              "outlinewidth": 0,
              "ticks": ""
             }
            },
            "type": "parcoords"
           }
          ],
          "pie": [
           {
            "automargin": true,
            "type": "pie"
           }
          ],
          "scatter": [
           {
            "marker": {
             "colorbar": {
              "outlinewidth": 0,
              "ticks": ""
             }
            },
            "type": "scatter"
           }
          ],
          "scatter3d": [
           {
            "line": {
             "colorbar": {
              "outlinewidth": 0,
              "ticks": ""
             }
            },
            "marker": {
             "colorbar": {
              "outlinewidth": 0,
              "ticks": ""
             },
             "size": 4
            },
            "type": "scatter3d"
           }
          ],
          "scattercarpet": [
           {
            "marker": {
             "colorbar": {
              "outlinewidth": 0,
              "ticks": ""
             }
            },
            "type": "scattercarpet"
           }
          ],
          "scattergeo": [
           {
            "marker": {
             "colorbar": {
              "outlinewidth": 0,
              "ticks": ""
             }
            },
            "type": "scattergeo"
           }
          ],
          "scattergl": [
           {
            "marker": {
             "colorbar": {
              "outlinewidth": 0,
              "ticks": ""
             }
            },
            "type": "scattergl"
           }
          ],
          "scattermapbox": [
           {
            "marker": {
             "colorbar": {
              "outlinewidth": 0,
              "ticks": ""
             }
            },
            "type": "scattermapbox"
           }
          ],
          "scatterpolar": [
           {
            "marker": {
             "colorbar": {
              "outlinewidth": 0,
              "ticks": ""
             }
            },
            "type": "scatterpolar"
           }
          ],
          "scatterpolargl": [
           {
            "marker": {
             "colorbar": {
              "outlinewidth": 0,
              "ticks": ""
             }
            },
            "type": "scatterpolargl"
           }
          ],
          "scatterternary": [
           {
            "marker": {
             "colorbar": {
              "outlinewidth": 0,
              "ticks": ""
             }
            },
            "type": "scatterternary"
           }
          ],
          "surface": [
           {
            "colorbar": {
             "outlinewidth": 0,
             "ticks": ""
            },
            "colorscale": [
             [
              0,
              "#0d0887"
             ],
             [
              0.1111111111111111,
              "#46039f"
             ],
             [
              0.2222222222222222,
              "#7201a8"
             ],
             [
              0.3333333333333333,
              "#9c179e"
             ],
             [
              0.4444444444444444,
              "#bd3786"
             ],
             [
              0.5555555555555556,
              "#d8576b"
             ],
             [
              0.6666666666666666,
              "#ed7953"
             ],
             [
              0.7777777777777778,
              "#fb9f3a"
             ],
             [
              0.8888888888888888,
              "#fdca26"
             ],
             [
              1,
              "#f0f921"
             ]
            ],
            "type": "surface"
           }
          ],
          "table": [
           {
            "cells": {
             "fill": {
              "color": "#EBF0F8"
             },
             "line": {
              "color": "white"
             }
            },
            "header": {
             "fill": {
              "color": "#C8D4E3"
             },
             "line": {
              "color": "white"
             }
            },
            "type": "table"
           }
          ]
         },
         "layout": {
          "annotationdefaults": {
           "arrowcolor": "#2a3f5f",
           "arrowhead": 0,
           "arrowwidth": 1
          },
          "coloraxis": {
           "colorbar": {
            "outlinewidth": 0,
            "ticks": ""
           }
          },
          "colorscale": {
           "diverging": [
            [
             0,
             "#8e0152"
            ],
            [
             0.1,
             "#c51b7d"
            ],
            [
             0.2,
             "#de77ae"
            ],
            [
             0.3,
             "#f1b6da"
            ],
            [
             0.4,
             "#fde0ef"
            ],
            [
             0.5,
             "#f7f7f7"
            ],
            [
             0.6,
             "#e6f5d0"
            ],
            [
             0.7,
             "#b8e186"
            ],
            [
             0.8,
             "#7fbc41"
            ],
            [
             0.9,
             "#4d9221"
            ],
            [
             1,
             "#276419"
            ]
           ],
           "sequential": [
            [
             0,
             "#0d0887"
            ],
            [
             0.1111111111111111,
             "#46039f"
            ],
            [
             0.2222222222222222,
             "#7201a8"
            ],
            [
             0.3333333333333333,
             "#9c179e"
            ],
            [
             0.4444444444444444,
             "#bd3786"
            ],
            [
             0.5555555555555556,
             "#d8576b"
            ],
            [
             0.6666666666666666,
             "#ed7953"
            ],
            [
             0.7777777777777778,
             "#fb9f3a"
            ],
            [
             0.8888888888888888,
             "#fdca26"
            ],
            [
             1,
             "#f0f921"
            ]
           ],
           "sequentialminus": [
            [
             0,
             "#0d0887"
            ],
            [
             0.1111111111111111,
             "#46039f"
            ],
            [
             0.2222222222222222,
             "#7201a8"
            ],
            [
             0.3333333333333333,
             "#9c179e"
            ],
            [
             0.4444444444444444,
             "#bd3786"
            ],
            [
             0.5555555555555556,
             "#d8576b"
            ],
            [
             0.6666666666666666,
             "#ed7953"
            ],
            [
             0.7777777777777778,
             "#fb9f3a"
            ],
            [
             0.8888888888888888,
             "#fdca26"
            ],
            [
             1,
             "#f0f921"
            ]
           ]
          },
          "colorway": [
           "#1f77b4",
           "#ff7f0e",
           "#2ca02c",
           "#d62728",
           "#9467bd",
           "#8c564b",
           "#e377c2",
           "#7f7f7f",
           "#bcbd22",
           "#17becf"
          ],
          "font": {
           "color": "#2a3f5f"
          },
          "geo": {
           "bgcolor": "white",
           "lakecolor": "white",
           "landcolor": "white",
           "showlakes": true,
           "showland": true,
           "subunitcolor": "#C8D4E3"
          },
          "hoverlabel": {
           "align": "left"
          },
          "hovermode": "closest",
          "mapbox": {
           "style": "light"
          },
          "paper_bgcolor": "white",
          "plot_bgcolor": "white",
          "polar": {
           "angularaxis": {
            "gridcolor": "#EBF0F8",
            "linecolor": "#EBF0F8",
            "ticks": ""
           },
           "bgcolor": "white",
           "radialaxis": {
            "gridcolor": "#EBF0F8",
            "linecolor": "#EBF0F8",
            "ticks": ""
           }
          },
          "scene": {
           "camera": {
            "center": {
             "x": 0,
             "y": 0,
             "z": 0
            },
            "eye": {
             "x": 2,
             "y": 2,
             "z": 2
            },
            "up": {
             "x": 0,
             "y": 0,
             "z": 1
            }
           },
           "xaxis": {
            "backgroundcolor": "white",
            "gridcolor": "#DFE8F3",
            "gridwidth": 2,
            "linecolor": "#EBF0F8",
            "showbackground": true,
            "showspikes": false,
            "ticks": "",
            "zerolinecolor": "#EBF0F8"
           },
           "yaxis": {
            "backgroundcolor": "white",
            "gridcolor": "#DFE8F3",
            "gridwidth": 2,
            "linecolor": "#EBF0F8",
            "showbackground": true,
            "showspikes": false,
            "ticks": "",
            "zerolinecolor": "#EBF0F8"
           },
           "zaxis": {
            "backgroundcolor": "white",
            "gridcolor": "#DFE8F3",
            "gridwidth": 2,
            "linecolor": "#EBF0F8",
            "showbackground": true,
            "showspikes": false,
            "ticks": "",
            "zerolinecolor": "#EBF0F8"
           }
          },
          "shapedefaults": {
           "line": {
            "color": "#2a3f5f"
           }
          },
          "ternary": {
           "aaxis": {
            "gridcolor": "#DFE8F3",
            "linecolor": "#A2B1C6",
            "ticks": ""
           },
           "baxis": {
            "gridcolor": "#DFE8F3",
            "linecolor": "#A2B1C6",
            "ticks": ""
           },
           "bgcolor": "white",
           "caxis": {
            "gridcolor": "#DFE8F3",
            "linecolor": "#A2B1C6",
            "ticks": ""
           }
          },
          "title": {
           "x": 0.05
          },
          "xaxis": {
           "automargin": true,
           "gridcolor": "#EBF0F8",
           "linecolor": "black",
           "linewidth": 2,
           "mirror": true,
           "showline": true,
           "ticks": "",
           "title": {
            "standoff": 15
           },
           "zeroline": false,
           "zerolinecolor": "#EBF0F8",
           "zerolinewidth": 2
          },
          "yaxis": {
           "automargin": true,
           "gridcolor": "#EBF0F8",
           "linecolor": "black",
           "linewidth": 2,
           "mirror": true,
           "showline": true,
           "ticks": "",
           "title": {
            "standoff": 15
           },
           "zeroline": false,
           "zerolinecolor": "#EBF0F8",
           "zerolinewidth": 2
          }
         }
        },
        "xaxis": {
         "exponentformat": "none",
         "range": [
          0,
          4900
         ],
         "title": {
          "text": "Rotor Speed (RPM)"
         }
        },
        "yaxis": {
         "range": [
          0,
          81.64190348903495
         ],
         "title": {
          "text": "Natural Frequencies (Hz)"
         }
        }
       }
      }
     },
     "metadata": {},
     "output_type": "display_data"
    }
   ],
   "source": [
    "frequency_range = Q_(np.arange(0, 5000, 100), \"RPM\")\n",
    "\n",
    "campbell = multirotor.run_campbell(frequency_range, frequencies=13)\n",
    "campbell.plot(frequency_units=\"Hz\", harmonics=[1, round(gear_ratio, 3)]).show()"
   ]
  },
  {
   "cell_type": "markdown",
   "metadata": {},
   "source": [
    "#### 2.2.3 Time response\n",
    "\n",
    "Using the `run_time_response` function we can obtain the system response due to an unbalance at nodes 2 and 7. The same setup presented in the work of {cite}`yang2016general` was applied here for comparison purposes.\n"
   ]
  },
  {
   "cell_type": "code",
   "execution_count": 9,
   "metadata": {},
   "outputs": [],
   "source": [
    "nodes = [2, 7]\n",
    "unb_mag = [35.505e-3, 0.449e-3]\n",
    "unb_phase = [0, 0]\n",
    "\n",
    "dt = 1e-4\n",
    "t = np.arange(0, 1200, dt)\n",
    "speed1 = Q_(5000, \"RPM\").to_base_units().m  # Generator rotor speed\n",
    "\n",
    "num_dof = multirotor.number_dof"
   ]
  },
  {
   "cell_type": "code",
   "execution_count": 10,
   "metadata": {},
   "outputs": [],
   "source": [
    "# Unbalance force\n",
    "F = np.zeros((len(t), multirotor.ndof))\n",
    "\n",
    "for i, node in enumerate(nodes):\n",
    "    speed = multirotor.check_speed(node, speed1)\n",
    "    phi = speed * t + unb_phase[i]\n",
    "\n",
    "    dofx = num_dof * node + 0\n",
    "    dofy = num_dof * node + 1\n",
    "    F[:, dofx] += unb_mag[i] * (speed**2) * np.cos(phi)\n",
    "    F[:, dofy] += unb_mag[i] * (speed**2) * np.sin(phi)"
   ]
  },
  {
   "cell_type": "code",
   "execution_count": 11,
   "metadata": {},
   "outputs": [],
   "source": [
    "# Time response\n",
    "time_resp = multirotor.run_time_response(speed1, F, t)\n",
    "amp_resp = time_resp.yout"
   ]
  },
  {
   "cell_type": "markdown",
   "metadata": {},
   "source": [
    "Due to computational cost limitations, the entire analysis performed for comparison is not included in this tutorial. However, by running the `run_time_response` function across the complete range of speeds, it is possible to obtain the following responses at nodes 2 and 7 as shown in the figures below:\n",
    "\n",
    "<div style=\"text-align: center;\">\n",
    "    <img src=\"../_static/img/img_tutorial4_node2.png\" alt=\"MultiRotor\" style=\"width: 40%; height: auto;\">\n",
    "    <img src=\"../_static/img/img_tutorial4_node7.png\" alt=\"MultiRotor\" style=\"width: 40%; height: auto;\">\n",
    "    <br>\n",
    "    <small>Figure 3: Comparison of ROSS results with Yang et al. (2016) for the spur geared two-shaft rotor system.</small>\n",
    "</div>"
   ]
  },
  {
   "cell_type": "markdown",
   "metadata": {},
   "source": [
    "### 2.3 Creating a spur geared multi-shaft rotor system \n",
    "\n",
    "Let's create a more complex model with three connected rotors. More details of this example can be found in {cite}`yang2016general`."
   ]
  },
  {
   "cell_type": "code",
   "execution_count": 12,
   "metadata": {},
   "outputs": [],
   "source": [
    "# Rotor 1\n",
    "L1 = [300, 92, 200, 200, 92, 300]\n",
    "r1 = [61.5, 75, 75, 75, 75, 61.5]\n",
    "shaft1 = [\n",
    "    rs.ShaftElement(\n",
    "        L=L1[i] * 1e-3,\n",
    "        idl=0.0,\n",
    "        odl=r1[i] * 2e-3,\n",
    "        material=material,\n",
    "        shear_effects=True,\n",
    "        rotary_inertia=True,\n",
    "        gyroscopic=True,\n",
    "    )\n",
    "    for i in range(len(L1))\n",
    "]\n",
    "\n",
    "D1 = rs.DiskElement(\n",
    "    n=0,\n",
    "    m=66.63,\n",
    "    Id=0.431,\n",
    "    Ip=0.735,\n",
    ")\n",
    "D2 = rs.DiskElement(\n",
    "    n=6,\n",
    "    m=69.83,\n",
    "    Id=0.542,\n",
    "    Ip=0.884,\n",
    ")\n",
    "\n",
    "cxx = 3e3\n",
    "B1 = rs.BearingElement(n=2, kxx=5.5e8, kyy=6.7e8, cxx=cxx)\n",
    "B2 = rs.BearingElement(n=4, kxx=5.5e8, kyy=6.7e8, cxx=cxx)\n",
    "\n",
    "pressure_angle = Q_(22.5, \"deg\").to_base_units().m\n",
    "\n",
    "G1 = rs.GearElement(\n",
    "    n=3,\n",
    "    m=14.37,\n",
    "    Id=0.068,\n",
    "    Ip=0.136,\n",
    "    base_diameter=0.19,\n",
    "    pressure_angle=pressure_angle,\n",
    ")\n",
    "\n",
    "rotor1 = rs.Rotor(\n",
    "    shaft1,\n",
    "    [D1, D2, G1],\n",
    "    [B1, B2],\n",
    ")\n",
    "\n",
    "# Rotor 2\n",
    "L2 = [80, 200, 200, 640]\n",
    "r2 = [160.5, 160.5, 130.5, 130.5]\n",
    "shaft2 = [\n",
    "    rs.ShaftElement(\n",
    "        L=L2[i] * 1e-3,\n",
    "        idl=0.0,\n",
    "        odl=r2[i] * 2e-3,\n",
    "        material=material,\n",
    "        shear_effects=True,\n",
    "        rotary_inertia=True,\n",
    "        gyroscopic=True,\n",
    "    )\n",
    "    for i in range(len(L2))\n",
    "]\n",
    "\n",
    "B3 = rs.BearingElement(n=1, kxx=3.2e9, kyy=4.6e9, cxx=cxx)\n",
    "B4 = rs.BearingElement(n=3, kxx=3.2e9, kyy=4.6e9, cxx=cxx)\n",
    "\n",
    "G2 = rs.GearElement(\n",
    "    n=2,\n",
    "    m=813.79,\n",
    "    Id=52.36,\n",
    "    Ip=104.72,\n",
    "    base_diameter=1.23,\n",
    "    pressure_angle=pressure_angle,\n",
    ")\n",
    "\n",
    "rotor2 = rs.Rotor(\n",
    "    shaft2,\n",
    "    [G2],\n",
    "    [B3, B4],\n",
    ")\n",
    "\n",
    "# Rotor 3\n",
    "L3 = [300, 110, 200, 200, 110, 300]\n",
    "r3 = [64.5, 76.5, 76.5, 76.5, 76.5, 64.5]\n",
    "shaft3 = [\n",
    "    rs.ShaftElement(\n",
    "        L=L3[i] * 1e-3,\n",
    "        idl=0.0,\n",
    "        odl=r3[i] * 2e-3,\n",
    "        material=material,\n",
    "        shear_effects=True,\n",
    "        rotary_inertia=True,\n",
    "        gyroscopic=True,\n",
    "    )\n",
    "    for i in range(len(L1))\n",
    "]\n",
    "\n",
    "D3 = rs.DiskElement(\n",
    "    n=0,\n",
    "    m=95.06,\n",
    "    Id=1.097,\n",
    "    Ip=1.532,\n",
    ")\n",
    "D4 = rs.DiskElement(\n",
    "    n=6,\n",
    "    m=96.22,\n",
    "    Id=1.110,\n",
    "    Ip=1.620,\n",
    ")\n",
    "\n",
    "G3 = rs.GearElement(\n",
    "    n=3,\n",
    "    m=19.52,\n",
    "    Id=0.098,\n",
    "    Ip=0.195,\n",
    "    base_diameter=0.24,\n",
    "    pressure_angle=pressure_angle,\n",
    ")\n",
    "\n",
    "B5 = rs.BearingElement(n=2, kxx=7.2e8, kyy=8.4e8, cxx=cxx)\n",
    "B6 = rs.BearingElement(n=4, kxx=7.2e8, kyy=8.4e8, cxx=cxx)\n",
    "\n",
    "rotor3 = rs.Rotor(\n",
    "    shaft3,\n",
    "    [D3, D4, G3],\n",
    "    [B5, B6],\n",
    ")"
   ]
  },
  {
   "cell_type": "code",
   "execution_count": 13,
   "metadata": {},
   "outputs": [],
   "source": [
    "# Connect rotor 1 with rotor 2 (driving rotor)\n",
    "multi_rotor1 = rs.MultiRotor(\n",
    "    rotor2,\n",
    "    rotor1,\n",
    "    coupled_nodes=(2, 3),\n",
    "    gear_ratio=244 / 37,\n",
    "    gear_mesh_stiffness=2.55e8,\n",
    "    orientation_angle=Q_(270, \"deg\").to_base_units().m,\n",
    "    position=\"above\",\n",
    ")"
   ]
  },
  {
   "cell_type": "code",
   "execution_count": 14,
   "metadata": {},
   "outputs": [],
   "source": [
    "# Connect rotor 3 with rotor 2 in multi rotor\n",
    "psi = 90\n",
    "final_system = rs.MultiRotor(\n",
    "    multi_rotor1,\n",
    "    rotor3,\n",
    "    coupled_nodes=(2, 3),\n",
    "    gear_ratio=244 / 47,\n",
    "    gear_mesh_stiffness=2.6e8,\n",
    "    orientation_angle=Q_(270 - psi, \"deg\").to_base_units().m,\n",
    "    position=\"below\",\n",
    ")"
   ]
  },
  {
   "cell_type": "code",
   "execution_count": 15,
   "metadata": {},
   "outputs": [
    {
     "data": {
      "application/vnd.plotly.v1+json": {
       "config": {
        "plotlyServerURL": "https://plot.ly"
       },
       "data": [
        {
         "hoverinfo": "none",
         "marker": {
          "color": "#ffcc99",
          "line": {
           "color": "black",
           "width": 1
          },
          "opacity": 0.7,
          "size": 20
         },
         "mode": "markers+text",
         "showlegend": false,
         "text": [
          "0",
          "1",
          "2",
          "3",
          "4",
          "5",
          "6",
          "7",
          "8",
          "9",
          "10",
          "11",
          "12",
          "13",
          "14",
          "15",
          "16",
          "17",
          "18"
         ],
         "type": "scatter",
         "x": [
          0,
          0.08,
          0.28,
          0.48000000000000004,
          1.12,
          -0.31200000000000006,
          -0.012000000000000066,
          0.07999999999999996,
          0.28,
          0.48,
          0.572,
          0.8719999999999999,
          -0.32999999999999996,
          -0.02999999999999997,
          0.08000000000000002,
          0.28,
          0.4800000000000001,
          0.5900000000000001,
          0.89
         ],
         "y": [
          0,
          0,
          0,
          0,
          0,
          1.1165,
          1.1165,
          1.1165,
          1.1165,
          1.1165,
          1.1165,
          1.1165,
          -1.1455,
          -1.1455,
          -1.1455,
          -1.1455,
          -1.1455,
          -1.1455,
          -1.1455
         ]
        },
        {
         "customdata": [
          [
           0,
           0.321,
           0,
           0.321,
           0,
           0.08,
           "mat_steel"
          ],
          [
           0,
           0.321,
           0,
           0.321,
           0,
           0.08,
           "mat_steel"
          ],
          [
           0,
           0.321,
           0,
           0.321,
           0,
           0.08,
           "mat_steel"
          ],
          [
           0,
           0.321,
           0,
           0.321,
           0,
           0.08,
           "mat_steel"
          ],
          [
           0,
           0.321,
           0,
           0.321,
           0,
           0.08,
           "mat_steel"
          ],
          [
           0,
           0.321,
           0,
           0.321,
           0,
           0.08,
           "mat_steel"
          ],
          [
           0,
           0.321,
           0,
           0.321,
           0,
           0.08,
           "mat_steel"
          ],
          [
           0,
           0.321,
           0,
           0.321,
           0,
           0.08,
           "mat_steel"
          ],
          [
           0,
           0.321,
           0,
           0.321,
           0,
           0.08,
           "mat_steel"
          ],
          [
           0,
           0.321,
           0,
           0.321,
           0,
           0.08,
           "mat_steel"
          ]
         ],
         "fill": "toself",
         "fillcolor": "#525252",
         "hoverinfo": "text",
         "hoverlabel": {
          "bgcolor": "#525252"
         },
         "hoveron": "points+fills",
         "hovertemplate": "Element Number: 0<br>Left Outer Diameter: 0.321 m<br>Left Inner Diameter: 0.0 m<br>Right Outer Diameter: 0.321 m<br>Right Inner Diameter: 0.0 m<br>Element Length: 0.08 m<br>Material: mat_steel<br>",
         "legendgroup": "Shaft",
         "line": {
          "color": "black",
          "width": 1.5
         },
         "mode": "lines",
         "name": "Shaft Element 0",
         "opacity": 0.5,
         "showlegend": false,
         "text": "Element Number: 0<br>Left Outer Diameter: 0.321 m<br>Left Inner Diameter: 0.0 m<br>Right Outer Diameter: 0.321 m<br>Right Inner Diameter: 0.0 m<br>Element Length: 0.08 m<br>Material: mat_steel<br>",
         "type": "scatter",
         "x": [
          0,
          0,
          0.08,
          0.08,
          0,
          0,
          0,
          0.08,
          0.08,
          0
         ],
         "y": [
          0,
          0.1605,
          0.1605,
          0,
          0,
          0,
          -0.1605,
          -0.1605,
          0,
          0
         ]
        },
        {
         "customdata": [
          [
           1,
           0.321,
           0,
           0.321,
           0,
           0.2,
           "mat_steel"
          ],
          [
           1,
           0.321,
           0,
           0.321,
           0,
           0.2,
           "mat_steel"
          ],
          [
           1,
           0.321,
           0,
           0.321,
           0,
           0.2,
           "mat_steel"
          ],
          [
           1,
           0.321,
           0,
           0.321,
           0,
           0.2,
           "mat_steel"
          ],
          [
           1,
           0.321,
           0,
           0.321,
           0,
           0.2,
           "mat_steel"
          ],
          [
           1,
           0.321,
           0,
           0.321,
           0,
           0.2,
           "mat_steel"
          ],
          [
           1,
           0.321,
           0,
           0.321,
           0,
           0.2,
           "mat_steel"
          ],
          [
           1,
           0.321,
           0,
           0.321,
           0,
           0.2,
           "mat_steel"
          ],
          [
           1,
           0.321,
           0,
           0.321,
           0,
           0.2,
           "mat_steel"
          ],
          [
           1,
           0.321,
           0,
           0.321,
           0,
           0.2,
           "mat_steel"
          ]
         ],
         "fill": "toself",
         "fillcolor": "#525252",
         "hoverinfo": "text",
         "hoverlabel": {
          "bgcolor": "#525252"
         },
         "hoveron": "points+fills",
         "hovertemplate": "Element Number: 1<br>Left Outer Diameter: 0.321 m<br>Left Inner Diameter: 0.0 m<br>Right Outer Diameter: 0.321 m<br>Right Inner Diameter: 0.0 m<br>Element Length: 0.2 m<br>Material: mat_steel<br>",
         "legendgroup": "Shaft",
         "line": {
          "color": "black",
          "width": 1.5
         },
         "mode": "lines",
         "name": "Shaft Element 1",
         "opacity": 0.5,
         "showlegend": false,
         "text": "Element Number: 1<br>Left Outer Diameter: 0.321 m<br>Left Inner Diameter: 0.0 m<br>Right Outer Diameter: 0.321 m<br>Right Inner Diameter: 0.0 m<br>Element Length: 0.2 m<br>Material: mat_steel<br>",
         "type": "scatter",
         "x": [
          0.08,
          0.08,
          0.28,
          0.28,
          0.08,
          0.08,
          0.08,
          0.28,
          0.28,
          0.08
         ],
         "y": [
          0,
          0.1605,
          0.1605,
          0,
          0,
          0,
          -0.1605,
          -0.1605,
          0,
          0
         ]
        },
        {
         "customdata": [
          [
           2,
           0.261,
           0,
           0.261,
           0,
           0.2,
           "mat_steel"
          ],
          [
           2,
           0.261,
           0,
           0.261,
           0,
           0.2,
           "mat_steel"
          ],
          [
           2,
           0.261,
           0,
           0.261,
           0,
           0.2,
           "mat_steel"
          ],
          [
           2,
           0.261,
           0,
           0.261,
           0,
           0.2,
           "mat_steel"
          ],
          [
           2,
           0.261,
           0,
           0.261,
           0,
           0.2,
           "mat_steel"
          ],
          [
           2,
           0.261,
           0,
           0.261,
           0,
           0.2,
           "mat_steel"
          ],
          [
           2,
           0.261,
           0,
           0.261,
           0,
           0.2,
           "mat_steel"
          ],
          [
           2,
           0.261,
           0,
           0.261,
           0,
           0.2,
           "mat_steel"
          ],
          [
           2,
           0.261,
           0,
           0.261,
           0,
           0.2,
           "mat_steel"
          ],
          [
           2,
           0.261,
           0,
           0.261,
           0,
           0.2,
           "mat_steel"
          ]
         ],
         "fill": "toself",
         "fillcolor": "#525252",
         "hoverinfo": "text",
         "hoverlabel": {
          "bgcolor": "#525252"
         },
         "hoveron": "points+fills",
         "hovertemplate": "Element Number: 2<br>Left Outer Diameter: 0.261 m<br>Left Inner Diameter: 0.0 m<br>Right Outer Diameter: 0.261 m<br>Right Inner Diameter: 0.0 m<br>Element Length: 0.2 m<br>Material: mat_steel<br>",
         "legendgroup": "Shaft",
         "line": {
          "color": "black",
          "width": 1.5
         },
         "mode": "lines",
         "name": "Shaft Element 2",
         "opacity": 0.5,
         "showlegend": false,
         "text": "Element Number: 2<br>Left Outer Diameter: 0.261 m<br>Left Inner Diameter: 0.0 m<br>Right Outer Diameter: 0.261 m<br>Right Inner Diameter: 0.0 m<br>Element Length: 0.2 m<br>Material: mat_steel<br>",
         "type": "scatter",
         "x": [
          0.28,
          0.28,
          0.48000000000000004,
          0.48000000000000004,
          0.28,
          0.28,
          0.28,
          0.48000000000000004,
          0.48000000000000004,
          0.28
         ],
         "y": [
          0,
          0.1305,
          0.1305,
          0,
          0,
          0,
          -0.1305,
          -0.1305,
          0,
          0
         ]
        },
        {
         "customdata": [
          [
           3,
           0.261,
           0,
           0.261,
           0,
           0.64,
           "mat_steel"
          ],
          [
           3,
           0.261,
           0,
           0.261,
           0,
           0.64,
           "mat_steel"
          ],
          [
           3,
           0.261,
           0,
           0.261,
           0,
           0.64,
           "mat_steel"
          ],
          [
           3,
           0.261,
           0,
           0.261,
           0,
           0.64,
           "mat_steel"
          ],
          [
           3,
           0.261,
           0,
           0.261,
           0,
           0.64,
           "mat_steel"
          ],
          [
           3,
           0.261,
           0,
           0.261,
           0,
           0.64,
           "mat_steel"
          ],
          [
           3,
           0.261,
           0,
           0.261,
           0,
           0.64,
           "mat_steel"
          ],
          [
           3,
           0.261,
           0,
           0.261,
           0,
           0.64,
           "mat_steel"
          ],
          [
           3,
           0.261,
           0,
           0.261,
           0,
           0.64,
           "mat_steel"
          ],
          [
           3,
           0.261,
           0,
           0.261,
           0,
           0.64,
           "mat_steel"
          ]
         ],
         "fill": "toself",
         "fillcolor": "#525252",
         "hoverinfo": "text",
         "hoverlabel": {
          "bgcolor": "#525252"
         },
         "hoveron": "points+fills",
         "hovertemplate": "Element Number: 3<br>Left Outer Diameter: 0.261 m<br>Left Inner Diameter: 0.0 m<br>Right Outer Diameter: 0.261 m<br>Right Inner Diameter: 0.0 m<br>Element Length: 0.64 m<br>Material: mat_steel<br>",
         "legendgroup": "Shaft",
         "line": {
          "color": "black",
          "width": 1.5
         },
         "mode": "lines",
         "name": "Shaft Element 3",
         "opacity": 0.5,
         "showlegend": false,
         "text": "Element Number: 3<br>Left Outer Diameter: 0.261 m<br>Left Inner Diameter: 0.0 m<br>Right Outer Diameter: 0.261 m<br>Right Inner Diameter: 0.0 m<br>Element Length: 0.64 m<br>Material: mat_steel<br>",
         "type": "scatter",
         "x": [
          0.48000000000000004,
          0.48000000000000004,
          1.12,
          1.12,
          0.48000000000000004,
          0.48000000000000004,
          0.48000000000000004,
          1.12,
          1.12,
          0.48000000000000004
         ],
         "y": [
          0,
          0.1305,
          0.1305,
          0,
          0,
          0,
          -0.1305,
          -0.1305,
          0,
          0
         ]
        },
        {
         "customdata": [
          [
           5,
           0.123,
           0,
           0.123,
           0,
           0.3,
           "mat_steel"
          ],
          [
           5,
           0.123,
           0,
           0.123,
           0,
           0.3,
           "mat_steel"
          ],
          [
           5,
           0.123,
           0,
           0.123,
           0,
           0.3,
           "mat_steel"
          ],
          [
           5,
           0.123,
           0,
           0.123,
           0,
           0.3,
           "mat_steel"
          ],
          [
           5,
           0.123,
           0,
           0.123,
           0,
           0.3,
           "mat_steel"
          ],
          [
           5,
           0.123,
           0,
           0.123,
           0,
           0.3,
           "mat_steel"
          ],
          [
           5,
           0.123,
           0,
           0.123,
           0,
           0.3,
           "mat_steel"
          ],
          [
           5,
           0.123,
           0,
           0.123,
           0,
           0.3,
           "mat_steel"
          ],
          [
           5,
           0.123,
           0,
           0.123,
           0,
           0.3,
           "mat_steel"
          ],
          [
           5,
           0.123,
           0,
           0.123,
           0,
           0.3,
           "mat_steel"
          ]
         ],
         "fill": "toself",
         "fillcolor": "#525252",
         "hoverinfo": "text",
         "hoverlabel": {
          "bgcolor": "#525252"
         },
         "hoveron": "points+fills",
         "hovertemplate": "Element Number: 5<br>Left Outer Diameter: 0.123 m<br>Left Inner Diameter: 0.0 m<br>Right Outer Diameter: 0.123 m<br>Right Inner Diameter: 0.0 m<br>Element Length: 0.3 m<br>Material: mat_steel<br>",
         "legendgroup": "Shaft",
         "line": {
          "color": "black",
          "width": 1.5
         },
         "mode": "lines",
         "name": "Shaft Element 4",
         "opacity": 0.5,
         "showlegend": false,
         "text": "Element Number: 5<br>Left Outer Diameter: 0.123 m<br>Left Inner Diameter: 0.0 m<br>Right Outer Diameter: 0.123 m<br>Right Inner Diameter: 0.0 m<br>Element Length: 0.3 m<br>Material: mat_steel<br>",
         "type": "scatter",
         "x": [
          -0.31200000000000006,
          -0.31200000000000006,
          -0.012000000000000066,
          -0.012000000000000066,
          -0.31200000000000006,
          -0.31200000000000006,
          -0.31200000000000006,
          -0.012000000000000066,
          -0.012000000000000066,
          -0.31200000000000006
         ],
         "y": [
          1.1165,
          1.178,
          1.178,
          1.1165,
          1.1165,
          1.1165,
          1.0550000000000002,
          1.0550000000000002,
          1.1165,
          1.1165
         ]
        },
        {
         "customdata": [
          [
           6,
           0.15,
           0,
           0.15,
           0,
           0.092,
           "mat_steel"
          ],
          [
           6,
           0.15,
           0,
           0.15,
           0,
           0.092,
           "mat_steel"
          ],
          [
           6,
           0.15,
           0,
           0.15,
           0,
           0.092,
           "mat_steel"
          ],
          [
           6,
           0.15,
           0,
           0.15,
           0,
           0.092,
           "mat_steel"
          ],
          [
           6,
           0.15,
           0,
           0.15,
           0,
           0.092,
           "mat_steel"
          ],
          [
           6,
           0.15,
           0,
           0.15,
           0,
           0.092,
           "mat_steel"
          ],
          [
           6,
           0.15,
           0,
           0.15,
           0,
           0.092,
           "mat_steel"
          ],
          [
           6,
           0.15,
           0,
           0.15,
           0,
           0.092,
           "mat_steel"
          ],
          [
           6,
           0.15,
           0,
           0.15,
           0,
           0.092,
           "mat_steel"
          ],
          [
           6,
           0.15,
           0,
           0.15,
           0,
           0.092,
           "mat_steel"
          ]
         ],
         "fill": "toself",
         "fillcolor": "#525252",
         "hoverinfo": "text",
         "hoverlabel": {
          "bgcolor": "#525252"
         },
         "hoveron": "points+fills",
         "hovertemplate": "Element Number: 6<br>Left Outer Diameter: 0.15 m<br>Left Inner Diameter: 0.0 m<br>Right Outer Diameter: 0.15 m<br>Right Inner Diameter: 0.0 m<br>Element Length: 0.092 m<br>Material: mat_steel<br>",
         "legendgroup": "Shaft",
         "line": {
          "color": "black",
          "width": 1.5
         },
         "mode": "lines",
         "name": "Shaft Element 5",
         "opacity": 0.5,
         "showlegend": false,
         "text": "Element Number: 6<br>Left Outer Diameter: 0.15 m<br>Left Inner Diameter: 0.0 m<br>Right Outer Diameter: 0.15 m<br>Right Inner Diameter: 0.0 m<br>Element Length: 0.092 m<br>Material: mat_steel<br>",
         "type": "scatter",
         "x": [
          -0.012000000000000066,
          -0.012000000000000066,
          0.07999999999999993,
          0.07999999999999993,
          -0.012000000000000066,
          -0.012000000000000066,
          -0.012000000000000066,
          0.07999999999999993,
          0.07999999999999993,
          -0.012000000000000066
         ],
         "y": [
          1.1165,
          1.1915,
          1.1915,
          1.1165,
          1.1165,
          1.1165,
          1.0415,
          1.0415,
          1.1165,
          1.1165
         ]
        },
        {
         "customdata": [
          [
           7,
           0.15,
           0,
           0.15,
           0,
           0.2,
           "mat_steel"
          ],
          [
           7,
           0.15,
           0,
           0.15,
           0,
           0.2,
           "mat_steel"
          ],
          [
           7,
           0.15,
           0,
           0.15,
           0,
           0.2,
           "mat_steel"
          ],
          [
           7,
           0.15,
           0,
           0.15,
           0,
           0.2,
           "mat_steel"
          ],
          [
           7,
           0.15,
           0,
           0.15,
           0,
           0.2,
           "mat_steel"
          ],
          [
           7,
           0.15,
           0,
           0.15,
           0,
           0.2,
           "mat_steel"
          ],
          [
           7,
           0.15,
           0,
           0.15,
           0,
           0.2,
           "mat_steel"
          ],
          [
           7,
           0.15,
           0,
           0.15,
           0,
           0.2,
           "mat_steel"
          ],
          [
           7,
           0.15,
           0,
           0.15,
           0,
           0.2,
           "mat_steel"
          ],
          [
           7,
           0.15,
           0,
           0.15,
           0,
           0.2,
           "mat_steel"
          ]
         ],
         "fill": "toself",
         "fillcolor": "#525252",
         "hoverinfo": "text",
         "hoverlabel": {
          "bgcolor": "#525252"
         },
         "hoveron": "points+fills",
         "hovertemplate": "Element Number: 7<br>Left Outer Diameter: 0.15 m<br>Left Inner Diameter: 0.0 m<br>Right Outer Diameter: 0.15 m<br>Right Inner Diameter: 0.0 m<br>Element Length: 0.2 m<br>Material: mat_steel<br>",
         "legendgroup": "Shaft",
         "line": {
          "color": "black",
          "width": 1.5
         },
         "mode": "lines",
         "name": "Shaft Element 6",
         "opacity": 0.5,
         "showlegend": false,
         "text": "Element Number: 7<br>Left Outer Diameter: 0.15 m<br>Left Inner Diameter: 0.0 m<br>Right Outer Diameter: 0.15 m<br>Right Inner Diameter: 0.0 m<br>Element Length: 0.2 m<br>Material: mat_steel<br>",
         "type": "scatter",
         "x": [
          0.07999999999999996,
          0.07999999999999996,
          0.27999999999999997,
          0.27999999999999997,
          0.07999999999999996,
          0.07999999999999996,
          0.07999999999999996,
          0.27999999999999997,
          0.27999999999999997,
          0.07999999999999996
         ],
         "y": [
          1.1165,
          1.1915,
          1.1915,
          1.1165,
          1.1165,
          1.1165,
          1.0415,
          1.0415,
          1.1165,
          1.1165
         ]
        },
        {
         "customdata": [
          [
           8,
           0.15,
           0,
           0.15,
           0,
           0.2,
           "mat_steel"
          ],
          [
           8,
           0.15,
           0,
           0.15,
           0,
           0.2,
           "mat_steel"
          ],
          [
           8,
           0.15,
           0,
           0.15,
           0,
           0.2,
           "mat_steel"
          ],
          [
           8,
           0.15,
           0,
           0.15,
           0,
           0.2,
           "mat_steel"
          ],
          [
           8,
           0.15,
           0,
           0.15,
           0,
           0.2,
           "mat_steel"
          ],
          [
           8,
           0.15,
           0,
           0.15,
           0,
           0.2,
           "mat_steel"
          ],
          [
           8,
           0.15,
           0,
           0.15,
           0,
           0.2,
           "mat_steel"
          ],
          [
           8,
           0.15,
           0,
           0.15,
           0,
           0.2,
           "mat_steel"
          ],
          [
           8,
           0.15,
           0,
           0.15,
           0,
           0.2,
           "mat_steel"
          ],
          [
           8,
           0.15,
           0,
           0.15,
           0,
           0.2,
           "mat_steel"
          ]
         ],
         "fill": "toself",
         "fillcolor": "#525252",
         "hoverinfo": "text",
         "hoverlabel": {
          "bgcolor": "#525252"
         },
         "hoveron": "points+fills",
         "hovertemplate": "Element Number: 8<br>Left Outer Diameter: 0.15 m<br>Left Inner Diameter: 0.0 m<br>Right Outer Diameter: 0.15 m<br>Right Inner Diameter: 0.0 m<br>Element Length: 0.2 m<br>Material: mat_steel<br>",
         "legendgroup": "Shaft",
         "line": {
          "color": "black",
          "width": 1.5
         },
         "mode": "lines",
         "name": "Shaft Element 7",
         "opacity": 0.5,
         "showlegend": false,
         "text": "Element Number: 8<br>Left Outer Diameter: 0.15 m<br>Left Inner Diameter: 0.0 m<br>Right Outer Diameter: 0.15 m<br>Right Inner Diameter: 0.0 m<br>Element Length: 0.2 m<br>Material: mat_steel<br>",
         "type": "scatter",
         "x": [
          0.28,
          0.28,
          0.48000000000000004,
          0.48000000000000004,
          0.28,
          0.28,
          0.28,
          0.48000000000000004,
          0.48000000000000004,
          0.28
         ],
         "y": [
          1.1165,
          1.1915,
          1.1915,
          1.1165,
          1.1165,
          1.1165,
          1.0415,
          1.0415,
          1.1165,
          1.1165
         ]
        },
        {
         "customdata": [
          [
           9,
           0.15,
           0,
           0.15,
           0,
           0.092,
           "mat_steel"
          ],
          [
           9,
           0.15,
           0,
           0.15,
           0,
           0.092,
           "mat_steel"
          ],
          [
           9,
           0.15,
           0,
           0.15,
           0,
           0.092,
           "mat_steel"
          ],
          [
           9,
           0.15,
           0,
           0.15,
           0,
           0.092,
           "mat_steel"
          ],
          [
           9,
           0.15,
           0,
           0.15,
           0,
           0.092,
           "mat_steel"
          ],
          [
           9,
           0.15,
           0,
           0.15,
           0,
           0.092,
           "mat_steel"
          ],
          [
           9,
           0.15,
           0,
           0.15,
           0,
           0.092,
           "mat_steel"
          ],
          [
           9,
           0.15,
           0,
           0.15,
           0,
           0.092,
           "mat_steel"
          ],
          [
           9,
           0.15,
           0,
           0.15,
           0,
           0.092,
           "mat_steel"
          ],
          [
           9,
           0.15,
           0,
           0.15,
           0,
           0.092,
           "mat_steel"
          ]
         ],
         "fill": "toself",
         "fillcolor": "#525252",
         "hoverinfo": "text",
         "hoverlabel": {
          "bgcolor": "#525252"
         },
         "hoveron": "points+fills",
         "hovertemplate": "Element Number: 9<br>Left Outer Diameter: 0.15 m<br>Left Inner Diameter: 0.0 m<br>Right Outer Diameter: 0.15 m<br>Right Inner Diameter: 0.0 m<br>Element Length: 0.092 m<br>Material: mat_steel<br>",
         "legendgroup": "Shaft",
         "line": {
          "color": "black",
          "width": 1.5
         },
         "mode": "lines",
         "name": "Shaft Element 8",
         "opacity": 0.5,
         "showlegend": false,
         "text": "Element Number: 9<br>Left Outer Diameter: 0.15 m<br>Left Inner Diameter: 0.0 m<br>Right Outer Diameter: 0.15 m<br>Right Inner Diameter: 0.0 m<br>Element Length: 0.092 m<br>Material: mat_steel<br>",
         "type": "scatter",
         "x": [
          0.48,
          0.48,
          0.572,
          0.572,
          0.48,
          0.48,
          0.48,
          0.572,
          0.572,
          0.48
         ],
         "y": [
          1.1165,
          1.1915,
          1.1915,
          1.1165,
          1.1165,
          1.1165,
          1.0415,
          1.0415,
          1.1165,
          1.1165
         ]
        },
        {
         "customdata": [
          [
           10,
           0.123,
           0,
           0.123,
           0,
           0.3,
           "mat_steel"
          ],
          [
           10,
           0.123,
           0,
           0.123,
           0,
           0.3,
           "mat_steel"
          ],
          [
           10,
           0.123,
           0,
           0.123,
           0,
           0.3,
           "mat_steel"
          ],
          [
           10,
           0.123,
           0,
           0.123,
           0,
           0.3,
           "mat_steel"
          ],
          [
           10,
           0.123,
           0,
           0.123,
           0,
           0.3,
           "mat_steel"
          ],
          [
           10,
           0.123,
           0,
           0.123,
           0,
           0.3,
           "mat_steel"
          ],
          [
           10,
           0.123,
           0,
           0.123,
           0,
           0.3,
           "mat_steel"
          ],
          [
           10,
           0.123,
           0,
           0.123,
           0,
           0.3,
           "mat_steel"
          ],
          [
           10,
           0.123,
           0,
           0.123,
           0,
           0.3,
           "mat_steel"
          ],
          [
           10,
           0.123,
           0,
           0.123,
           0,
           0.3,
           "mat_steel"
          ]
         ],
         "fill": "toself",
         "fillcolor": "#525252",
         "hoverinfo": "text",
         "hoverlabel": {
          "bgcolor": "#525252"
         },
         "hoveron": "points+fills",
         "hovertemplate": "Element Number: 10<br>Left Outer Diameter: 0.123 m<br>Left Inner Diameter: 0.0 m<br>Right Outer Diameter: 0.123 m<br>Right Inner Diameter: 0.0 m<br>Element Length: 0.3 m<br>Material: mat_steel<br>",
         "legendgroup": "Shaft",
         "line": {
          "color": "black",
          "width": 1.5
         },
         "mode": "lines",
         "name": "Shaft Element 9",
         "opacity": 0.5,
         "showlegend": false,
         "text": "Element Number: 10<br>Left Outer Diameter: 0.123 m<br>Left Inner Diameter: 0.0 m<br>Right Outer Diameter: 0.123 m<br>Right Inner Diameter: 0.0 m<br>Element Length: 0.3 m<br>Material: mat_steel<br>",
         "type": "scatter",
         "x": [
          0.572,
          0.572,
          0.8719999999999999,
          0.8719999999999999,
          0.572,
          0.572,
          0.572,
          0.8719999999999999,
          0.8719999999999999,
          0.572
         ],
         "y": [
          1.1165,
          1.178,
          1.178,
          1.1165,
          1.1165,
          1.1165,
          1.0550000000000002,
          1.0550000000000002,
          1.1165,
          1.1165
         ]
        },
        {
         "customdata": [
          [
           12,
           0.129,
           0,
           0.129,
           0,
           0.3,
           "mat_steel"
          ],
          [
           12,
           0.129,
           0,
           0.129,
           0,
           0.3,
           "mat_steel"
          ],
          [
           12,
           0.129,
           0,
           0.129,
           0,
           0.3,
           "mat_steel"
          ],
          [
           12,
           0.129,
           0,
           0.129,
           0,
           0.3,
           "mat_steel"
          ],
          [
           12,
           0.129,
           0,
           0.129,
           0,
           0.3,
           "mat_steel"
          ],
          [
           12,
           0.129,
           0,
           0.129,
           0,
           0.3,
           "mat_steel"
          ],
          [
           12,
           0.129,
           0,
           0.129,
           0,
           0.3,
           "mat_steel"
          ],
          [
           12,
           0.129,
           0,
           0.129,
           0,
           0.3,
           "mat_steel"
          ],
          [
           12,
           0.129,
           0,
           0.129,
           0,
           0.3,
           "mat_steel"
          ],
          [
           12,
           0.129,
           0,
           0.129,
           0,
           0.3,
           "mat_steel"
          ]
         ],
         "fill": "toself",
         "fillcolor": "#525252",
         "hoverinfo": "text",
         "hoverlabel": {
          "bgcolor": "#525252"
         },
         "hoveron": "points+fills",
         "hovertemplate": "Element Number: 12<br>Left Outer Diameter: 0.129 m<br>Left Inner Diameter: 0.0 m<br>Right Outer Diameter: 0.129 m<br>Right Inner Diameter: 0.0 m<br>Element Length: 0.3 m<br>Material: mat_steel<br>",
         "legendgroup": "Shaft",
         "line": {
          "color": "black",
          "width": 1.5
         },
         "mode": "lines",
         "name": "Shaft Element 10",
         "opacity": 0.5,
         "showlegend": false,
         "text": "Element Number: 12<br>Left Outer Diameter: 0.129 m<br>Left Inner Diameter: 0.0 m<br>Right Outer Diameter: 0.129 m<br>Right Inner Diameter: 0.0 m<br>Element Length: 0.3 m<br>Material: mat_steel<br>",
         "type": "scatter",
         "x": [
          -0.32999999999999996,
          -0.32999999999999996,
          -0.02999999999999997,
          -0.02999999999999997,
          -0.32999999999999996,
          -0.32999999999999996,
          -0.32999999999999996,
          -0.02999999999999997,
          -0.02999999999999997,
          -0.32999999999999996
         ],
         "y": [
          -1.1455,
          -1.081,
          -1.081,
          -1.1455,
          -1.1455,
          -1.1455,
          -1.21,
          -1.21,
          -1.1455,
          -1.1455
         ]
        },
        {
         "customdata": [
          [
           13,
           0.153,
           0,
           0.153,
           0,
           0.11,
           "mat_steel"
          ],
          [
           13,
           0.153,
           0,
           0.153,
           0,
           0.11,
           "mat_steel"
          ],
          [
           13,
           0.153,
           0,
           0.153,
           0,
           0.11,
           "mat_steel"
          ],
          [
           13,
           0.153,
           0,
           0.153,
           0,
           0.11,
           "mat_steel"
          ],
          [
           13,
           0.153,
           0,
           0.153,
           0,
           0.11,
           "mat_steel"
          ],
          [
           13,
           0.153,
           0,
           0.153,
           0,
           0.11,
           "mat_steel"
          ],
          [
           13,
           0.153,
           0,
           0.153,
           0,
           0.11,
           "mat_steel"
          ],
          [
           13,
           0.153,
           0,
           0.153,
           0,
           0.11,
           "mat_steel"
          ],
          [
           13,
           0.153,
           0,
           0.153,
           0,
           0.11,
           "mat_steel"
          ],
          [
           13,
           0.153,
           0,
           0.153,
           0,
           0.11,
           "mat_steel"
          ]
         ],
         "fill": "toself",
         "fillcolor": "#525252",
         "hoverinfo": "text",
         "hoverlabel": {
          "bgcolor": "#525252"
         },
         "hoveron": "points+fills",
         "hovertemplate": "Element Number: 13<br>Left Outer Diameter: 0.153 m<br>Left Inner Diameter: 0.0 m<br>Right Outer Diameter: 0.153 m<br>Right Inner Diameter: 0.0 m<br>Element Length: 0.11 m<br>Material: mat_steel<br>",
         "legendgroup": "Shaft",
         "line": {
          "color": "black",
          "width": 1.5
         },
         "mode": "lines",
         "name": "Shaft Element 11",
         "opacity": 0.5,
         "showlegend": false,
         "text": "Element Number: 13<br>Left Outer Diameter: 0.153 m<br>Left Inner Diameter: 0.0 m<br>Right Outer Diameter: 0.153 m<br>Right Inner Diameter: 0.0 m<br>Element Length: 0.11 m<br>Material: mat_steel<br>",
         "type": "scatter",
         "x": [
          -0.02999999999999997,
          -0.02999999999999997,
          0.08000000000000003,
          0.08000000000000003,
          -0.02999999999999997,
          -0.02999999999999997,
          -0.02999999999999997,
          0.08000000000000003,
          0.08000000000000003,
          -0.02999999999999997
         ],
         "y": [
          -1.1455,
          -1.069,
          -1.069,
          -1.1455,
          -1.1455,
          -1.1455,
          -1.222,
          -1.222,
          -1.1455,
          -1.1455
         ]
        },
        {
         "customdata": [
          [
           14,
           0.153,
           0,
           0.153,
           0,
           0.2,
           "mat_steel"
          ],
          [
           14,
           0.153,
           0,
           0.153,
           0,
           0.2,
           "mat_steel"
          ],
          [
           14,
           0.153,
           0,
           0.153,
           0,
           0.2,
           "mat_steel"
          ],
          [
           14,
           0.153,
           0,
           0.153,
           0,
           0.2,
           "mat_steel"
          ],
          [
           14,
           0.153,
           0,
           0.153,
           0,
           0.2,
           "mat_steel"
          ],
          [
           14,
           0.153,
           0,
           0.153,
           0,
           0.2,
           "mat_steel"
          ],
          [
           14,
           0.153,
           0,
           0.153,
           0,
           0.2,
           "mat_steel"
          ],
          [
           14,
           0.153,
           0,
           0.153,
           0,
           0.2,
           "mat_steel"
          ],
          [
           14,
           0.153,
           0,
           0.153,
           0,
           0.2,
           "mat_steel"
          ],
          [
           14,
           0.153,
           0,
           0.153,
           0,
           0.2,
           "mat_steel"
          ]
         ],
         "fill": "toself",
         "fillcolor": "#525252",
         "hoverinfo": "text",
         "hoverlabel": {
          "bgcolor": "#525252"
         },
         "hoveron": "points+fills",
         "hovertemplate": "Element Number: 14<br>Left Outer Diameter: 0.153 m<br>Left Inner Diameter: 0.0 m<br>Right Outer Diameter: 0.153 m<br>Right Inner Diameter: 0.0 m<br>Element Length: 0.2 m<br>Material: mat_steel<br>",
         "legendgroup": "Shaft",
         "line": {
          "color": "black",
          "width": 1.5
         },
         "mode": "lines",
         "name": "Shaft Element 12",
         "opacity": 0.5,
         "showlegend": false,
         "text": "Element Number: 14<br>Left Outer Diameter: 0.153 m<br>Left Inner Diameter: 0.0 m<br>Right Outer Diameter: 0.153 m<br>Right Inner Diameter: 0.0 m<br>Element Length: 0.2 m<br>Material: mat_steel<br>",
         "type": "scatter",
         "x": [
          0.08000000000000002,
          0.08000000000000002,
          0.28,
          0.28,
          0.08000000000000002,
          0.08000000000000002,
          0.08000000000000002,
          0.28,
          0.28,
          0.08000000000000002
         ],
         "y": [
          -1.1455,
          -1.069,
          -1.069,
          -1.1455,
          -1.1455,
          -1.1455,
          -1.222,
          -1.222,
          -1.1455,
          -1.1455
         ]
        },
        {
         "customdata": [
          [
           15,
           0.153,
           0,
           0.153,
           0,
           0.2,
           "mat_steel"
          ],
          [
           15,
           0.153,
           0,
           0.153,
           0,
           0.2,
           "mat_steel"
          ],
          [
           15,
           0.153,
           0,
           0.153,
           0,
           0.2,
           "mat_steel"
          ],
          [
           15,
           0.153,
           0,
           0.153,
           0,
           0.2,
           "mat_steel"
          ],
          [
           15,
           0.153,
           0,
           0.153,
           0,
           0.2,
           "mat_steel"
          ],
          [
           15,
           0.153,
           0,
           0.153,
           0,
           0.2,
           "mat_steel"
          ],
          [
           15,
           0.153,
           0,
           0.153,
           0,
           0.2,
           "mat_steel"
          ],
          [
           15,
           0.153,
           0,
           0.153,
           0,
           0.2,
           "mat_steel"
          ],
          [
           15,
           0.153,
           0,
           0.153,
           0,
           0.2,
           "mat_steel"
          ],
          [
           15,
           0.153,
           0,
           0.153,
           0,
           0.2,
           "mat_steel"
          ]
         ],
         "fill": "toself",
         "fillcolor": "#525252",
         "hoverinfo": "text",
         "hoverlabel": {
          "bgcolor": "#525252"
         },
         "hoveron": "points+fills",
         "hovertemplate": "Element Number: 15<br>Left Outer Diameter: 0.153 m<br>Left Inner Diameter: 0.0 m<br>Right Outer Diameter: 0.153 m<br>Right Inner Diameter: 0.0 m<br>Element Length: 0.2 m<br>Material: mat_steel<br>",
         "legendgroup": "Shaft",
         "line": {
          "color": "black",
          "width": 1.5
         },
         "mode": "lines",
         "name": "Shaft Element 13",
         "opacity": 0.5,
         "showlegend": false,
         "text": "Element Number: 15<br>Left Outer Diameter: 0.153 m<br>Left Inner Diameter: 0.0 m<br>Right Outer Diameter: 0.153 m<br>Right Inner Diameter: 0.0 m<br>Element Length: 0.2 m<br>Material: mat_steel<br>",
         "type": "scatter",
         "x": [
          0.28,
          0.28,
          0.48000000000000004,
          0.48000000000000004,
          0.28,
          0.28,
          0.28,
          0.48000000000000004,
          0.48000000000000004,
          0.28
         ],
         "y": [
          -1.1455,
          -1.069,
          -1.069,
          -1.1455,
          -1.1455,
          -1.1455,
          -1.222,
          -1.222,
          -1.1455,
          -1.1455
         ]
        },
        {
         "customdata": [
          [
           16,
           0.153,
           0,
           0.153,
           0,
           0.11,
           "mat_steel"
          ],
          [
           16,
           0.153,
           0,
           0.153,
           0,
           0.11,
           "mat_steel"
          ],
          [
           16,
           0.153,
           0,
           0.153,
           0,
           0.11,
           "mat_steel"
          ],
          [
           16,
           0.153,
           0,
           0.153,
           0,
           0.11,
           "mat_steel"
          ],
          [
           16,
           0.153,
           0,
           0.153,
           0,
           0.11,
           "mat_steel"
          ],
          [
           16,
           0.153,
           0,
           0.153,
           0,
           0.11,
           "mat_steel"
          ],
          [
           16,
           0.153,
           0,
           0.153,
           0,
           0.11,
           "mat_steel"
          ],
          [
           16,
           0.153,
           0,
           0.153,
           0,
           0.11,
           "mat_steel"
          ],
          [
           16,
           0.153,
           0,
           0.153,
           0,
           0.11,
           "mat_steel"
          ],
          [
           16,
           0.153,
           0,
           0.153,
           0,
           0.11,
           "mat_steel"
          ]
         ],
         "fill": "toself",
         "fillcolor": "#525252",
         "hoverinfo": "text",
         "hoverlabel": {
          "bgcolor": "#525252"
         },
         "hoveron": "points+fills",
         "hovertemplate": "Element Number: 16<br>Left Outer Diameter: 0.153 m<br>Left Inner Diameter: 0.0 m<br>Right Outer Diameter: 0.153 m<br>Right Inner Diameter: 0.0 m<br>Element Length: 0.11 m<br>Material: mat_steel<br>",
         "legendgroup": "Shaft",
         "line": {
          "color": "black",
          "width": 1.5
         },
         "mode": "lines",
         "name": "Shaft Element 14",
         "opacity": 0.5,
         "showlegend": false,
         "text": "Element Number: 16<br>Left Outer Diameter: 0.153 m<br>Left Inner Diameter: 0.0 m<br>Right Outer Diameter: 0.153 m<br>Right Inner Diameter: 0.0 m<br>Element Length: 0.11 m<br>Material: mat_steel<br>",
         "type": "scatter",
         "x": [
          0.4800000000000001,
          0.4800000000000001,
          0.5900000000000001,
          0.5900000000000001,
          0.4800000000000001,
          0.4800000000000001,
          0.4800000000000001,
          0.5900000000000001,
          0.5900000000000001,
          0.4800000000000001
         ],
         "y": [
          -1.1455,
          -1.069,
          -1.069,
          -1.1455,
          -1.1455,
          -1.1455,
          -1.222,
          -1.222,
          -1.1455,
          -1.1455
         ]
        },
        {
         "customdata": [
          [
           17,
           0.129,
           0,
           0.129,
           0,
           0.3,
           "mat_steel"
          ],
          [
           17,
           0.129,
           0,
           0.129,
           0,
           0.3,
           "mat_steel"
          ],
          [
           17,
           0.129,
           0,
           0.129,
           0,
           0.3,
           "mat_steel"
          ],
          [
           17,
           0.129,
           0,
           0.129,
           0,
           0.3,
           "mat_steel"
          ],
          [
           17,
           0.129,
           0,
           0.129,
           0,
           0.3,
           "mat_steel"
          ],
          [
           17,
           0.129,
           0,
           0.129,
           0,
           0.3,
           "mat_steel"
          ],
          [
           17,
           0.129,
           0,
           0.129,
           0,
           0.3,
           "mat_steel"
          ],
          [
           17,
           0.129,
           0,
           0.129,
           0,
           0.3,
           "mat_steel"
          ],
          [
           17,
           0.129,
           0,
           0.129,
           0,
           0.3,
           "mat_steel"
          ],
          [
           17,
           0.129,
           0,
           0.129,
           0,
           0.3,
           "mat_steel"
          ]
         ],
         "fill": "toself",
         "fillcolor": "#525252",
         "hoverinfo": "text",
         "hoverlabel": {
          "bgcolor": "#525252"
         },
         "hoveron": "points+fills",
         "hovertemplate": "Element Number: 17<br>Left Outer Diameter: 0.129 m<br>Left Inner Diameter: 0.0 m<br>Right Outer Diameter: 0.129 m<br>Right Inner Diameter: 0.0 m<br>Element Length: 0.3 m<br>Material: mat_steel<br>",
         "legendgroup": "Shaft",
         "line": {
          "color": "black",
          "width": 1.5
         },
         "mode": "lines",
         "name": "Shaft Element 15",
         "opacity": 0.5,
         "showlegend": false,
         "text": "Element Number: 17<br>Left Outer Diameter: 0.129 m<br>Left Inner Diameter: 0.0 m<br>Right Outer Diameter: 0.129 m<br>Right Inner Diameter: 0.0 m<br>Element Length: 0.3 m<br>Material: mat_steel<br>",
         "type": "scatter",
         "x": [
          0.5900000000000001,
          0.5900000000000001,
          0.8900000000000001,
          0.8900000000000001,
          0.5900000000000001,
          0.5900000000000001,
          0.5900000000000001,
          0.8900000000000001,
          0.8900000000000001,
          0.5900000000000001
         ],
         "y": [
          -1.1455,
          -1.081,
          -1.081,
          -1.1455,
          -1.1455,
          -1.1455,
          -1.21,
          -1.21,
          -1.1455,
          -1.1455
         ]
        },
        {
         "customdata": [
          [
           2,
           104.72,
           52.36,
           813.79,
           1.23
          ],
          [
           2,
           104.72,
           52.36,
           813.79,
           1.23
          ],
          [
           2,
           104.72,
           52.36,
           813.79,
           1.23
          ],
          [
           2,
           104.72,
           52.36,
           813.79,
           1.23
          ],
          [
           2,
           104.72,
           52.36,
           813.79,
           1.23
          ],
          [
           2,
           104.72,
           52.36,
           813.79,
           1.23
          ],
          [
           2,
           104.72,
           52.36,
           813.79,
           1.23
          ],
          [
           2,
           104.72,
           52.36,
           813.79,
           1.23
          ],
          [
           2,
           104.72,
           52.36,
           813.79,
           1.23
          ]
         ],
         "fill": "toself",
         "fillcolor": "Goldenrod",
         "fillpattern": {
          "bgcolor": "Goldenrod",
          "fgcolor": "rgba(0, 0, 0, 0.2)",
          "shape": "/"
         },
         "hoverinfo": "text",
         "hoverlabel": {
          "bgcolor": "Goldenrod"
         },
         "hoveron": "points+fills",
         "hovertemplate": "Gear Node: 2<br>Polar Inertia: 1.047e+02<br>Diametral Inertia: 5.236e+01<br>Gear Mass: 813.790<br>Gear Base Diam.: 1.230<br>",
         "legendgroup": "gears",
         "line": {
          "color": "rgba(0, 0, 0, 0.2)",
          "width": 2
         },
         "mode": "lines",
         "name": "Gear 0",
         "opacity": 0.8,
         "showlegend": false,
         "text": "Gear Node: 2<br>Polar Inertia: 1.047e+02<br>Diametral Inertia: 5.236e+01<br>Gear Mass: 813.790<br>Gear Base Diam.: 1.230<br>",
         "type": "scatter",
         "x": [
          0.29475368421052633,
          0.29475368421052633,
          0.2652463157894737,
          0.2652463157894737,
          null,
          0.29475368421052633,
          0.29475368421052633,
          0.2652463157894737,
          0.2652463157894737
         ],
         "y": [
          0.1605,
          0.887,
          0.887,
          0.1605,
          null,
          -0.1605,
          -0.887,
          -0.887,
          -0.1605
         ]
        },
        {
         "customdata": [
          [
           5,
           0.735,
           0.431,
           66.63
          ],
          [
           5,
           0.735,
           0.431,
           66.63
          ],
          [
           5,
           0.735,
           0.431,
           66.63
          ],
          [
           5,
           0.735,
           0.431,
           66.63
          ],
          [
           5,
           0.735,
           0.431,
           66.63
          ],
          [
           5,
           0.735,
           0.431,
           66.63
          ],
          [
           5,
           0.735,
           0.431,
           66.63
          ],
          [
           5,
           0.735,
           0.431,
           66.63
          ],
          [
           5,
           0.735,
           0.431,
           66.63
          ]
         ],
         "fill": "toself",
         "fillcolor": "Firebrick",
         "hoverinfo": "text",
         "hoverlabel": {
          "bgcolor": "Firebrick"
         },
         "hoveron": "points+fills",
         "hovertemplate": "Disk Node: 5<br>Polar Inertia: 7.350e-01<br>Diametral Inertia: 4.310e-01<br>Disk mass: 66.630<br>",
         "legendgroup": "disks",
         "line": {
          "color": "Firebrick",
          "width": 2
         },
         "mode": "lines",
         "name": "Disk 1",
         "opacity": 0.8,
         "showlegend": false,
         "text": "Disk Node: 5<br>Polar Inertia: 7.350e-01<br>Diametral Inertia: 4.310e-01<br>Disk mass: 66.630<br>",
         "type": "scatter",
         "x": [
          -0.31200000000000006,
          -0.3046231578947369,
          -0.31937684210526324,
          -0.31200000000000006,
          null,
          -0.31200000000000006,
          -0.3046231578947369,
          -0.31937684210526324,
          -0.31200000000000006
         ],
         "y": [
          1.178,
          1.546842105263158,
          1.546842105263158,
          1.178,
          null,
          1.0550000000000002,
          0.6861578947368421,
          0.6861578947368421,
          1.0550000000000002
         ]
        },
        {
         "customdata": [
          [
           11,
           0.884,
           0.542,
           69.83
          ],
          [
           11,
           0.884,
           0.542,
           69.83
          ],
          [
           11,
           0.884,
           0.542,
           69.83
          ],
          [
           11,
           0.884,
           0.542,
           69.83
          ],
          [
           11,
           0.884,
           0.542,
           69.83
          ],
          [
           11,
           0.884,
           0.542,
           69.83
          ],
          [
           11,
           0.884,
           0.542,
           69.83
          ],
          [
           11,
           0.884,
           0.542,
           69.83
          ],
          [
           11,
           0.884,
           0.542,
           69.83
          ]
         ],
         "fill": "toself",
         "fillcolor": "Firebrick",
         "hoverinfo": "text",
         "hoverlabel": {
          "bgcolor": "Firebrick"
         },
         "hoveron": "points+fills",
         "hovertemplate": "Disk Node: 11<br>Polar Inertia: 8.840e-01<br>Diametral Inertia: 5.420e-01<br>Disk mass: 69.830<br>",
         "legendgroup": "disks",
         "line": {
          "color": "Firebrick",
          "width": 2
         },
         "mode": "lines",
         "name": "Disk 2",
         "opacity": 0.8,
         "showlegend": false,
         "text": "Disk Node: 11<br>Polar Inertia: 8.840e-01<br>Diametral Inertia: 5.420e-01<br>Disk mass: 69.830<br>",
         "type": "scatter",
         "x": [
          0.8719999999999999,
          0.879376842105263,
          0.8646231578947368,
          0.8719999999999999,
          null,
          0.8719999999999999,
          0.879376842105263,
          0.8646231578947368,
          0.8719999999999999
         ],
         "y": [
          1.178,
          1.546842105263158,
          1.546842105263158,
          1.178,
          null,
          1.0550000000000002,
          0.6861578947368421,
          0.6861578947368421,
          1.0550000000000002
         ]
        },
        {
         "customdata": [
          [
           8,
           0.136,
           0.068,
           14.37,
           0.19
          ],
          [
           8,
           0.136,
           0.068,
           14.37,
           0.19
          ],
          [
           8,
           0.136,
           0.068,
           14.37,
           0.19
          ],
          [
           8,
           0.136,
           0.068,
           14.37,
           0.19
          ],
          [
           8,
           0.136,
           0.068,
           14.37,
           0.19
          ],
          [
           8,
           0.136,
           0.068,
           14.37,
           0.19
          ],
          [
           8,
           0.136,
           0.068,
           14.37,
           0.19
          ],
          [
           8,
           0.136,
           0.068,
           14.37,
           0.19
          ],
          [
           8,
           0.136,
           0.068,
           14.37,
           0.19
          ]
         ],
         "fill": "toself",
         "fillcolor": "Goldenrod",
         "fillpattern": {
          "bgcolor": "Goldenrod",
          "fgcolor": "rgba(0, 0, 0, 0.2)",
          "shape": "/"
         },
         "hoverinfo": "text",
         "hoverlabel": {
          "bgcolor": "Goldenrod"
         },
         "hoveron": "points+fills",
         "hovertemplate": "Gear Node: 8<br>Polar Inertia: 1.360e-01<br>Diametral Inertia: 6.800e-02<br>Gear Mass: 14.370<br>Gear Base Diam.: 0.190<br>",
         "legendgroup": "gears",
         "line": {
          "color": "rgba(0, 0, 0, 0.2)",
          "width": 2
         },
         "mode": "lines",
         "name": "Gear 3",
         "opacity": 0.8,
         "showlegend": false,
         "text": "Gear Node: 8<br>Polar Inertia: 1.360e-01<br>Diametral Inertia: 6.800e-02<br>Gear Mass: 14.370<br>Gear Base Diam.: 0.190<br>",
         "type": "scatter",
         "x": [
          0.29475368421052633,
          0.29475368421052633,
          0.2652463157894737,
          0.2652463157894737,
          null,
          0.29475368421052633,
          0.29475368421052633,
          0.2652463157894737,
          0.2652463157894737
         ],
         "y": [
          1.1915,
          1.346,
          1.346,
          1.1915,
          null,
          1.0415,
          0.887,
          0.887,
          1.0415
         ]
        },
        {
         "customdata": [
          [
           12,
           1.532,
           1.097,
           95.06
          ],
          [
           12,
           1.532,
           1.097,
           95.06
          ],
          [
           12,
           1.532,
           1.097,
           95.06
          ],
          [
           12,
           1.532,
           1.097,
           95.06
          ],
          [
           12,
           1.532,
           1.097,
           95.06
          ],
          [
           12,
           1.532,
           1.097,
           95.06
          ],
          [
           12,
           1.532,
           1.097,
           95.06
          ],
          [
           12,
           1.532,
           1.097,
           95.06
          ],
          [
           12,
           1.532,
           1.097,
           95.06
          ]
         ],
         "fill": "toself",
         "fillcolor": "Firebrick",
         "hoverinfo": "text",
         "hoverlabel": {
          "bgcolor": "Firebrick"
         },
         "hoveron": "points+fills",
         "hovertemplate": "Disk Node: 12<br>Polar Inertia: 1.532e+00<br>Diametral Inertia: 1.097e+00<br>Disk mass: 95.060<br>",
         "legendgroup": "disks",
         "line": {
          "color": "Firebrick",
          "width": 2
         },
         "mode": "lines",
         "name": "Disk 4",
         "opacity": 0.8,
         "showlegend": false,
         "text": "Disk Node: 12<br>Polar Inertia: 1.532e+00<br>Diametral Inertia: 1.097e+00<br>Disk mass: 95.060<br>",
         "type": "scatter",
         "x": [
          -0.32999999999999996,
          -0.3226231578947368,
          -0.33737684210526314,
          -0.32999999999999996,
          null,
          -0.32999999999999996,
          -0.3226231578947368,
          -0.33737684210526314,
          -0.32999999999999996
         ],
         "y": [
          -1.081,
          -0.7121578947368421,
          -0.7121578947368421,
          -1.081,
          null,
          -1.21,
          -1.5788421052631578,
          -1.5788421052631578,
          -1.21
         ]
        },
        {
         "customdata": [
          [
           18,
           1.62,
           1.11,
           96.22
          ],
          [
           18,
           1.62,
           1.11,
           96.22
          ],
          [
           18,
           1.62,
           1.11,
           96.22
          ],
          [
           18,
           1.62,
           1.11,
           96.22
          ],
          [
           18,
           1.62,
           1.11,
           96.22
          ],
          [
           18,
           1.62,
           1.11,
           96.22
          ],
          [
           18,
           1.62,
           1.11,
           96.22
          ],
          [
           18,
           1.62,
           1.11,
           96.22
          ],
          [
           18,
           1.62,
           1.11,
           96.22
          ]
         ],
         "fill": "toself",
         "fillcolor": "Firebrick",
         "hoverinfo": "text",
         "hoverlabel": {
          "bgcolor": "Firebrick"
         },
         "hoveron": "points+fills",
         "hovertemplate": "Disk Node: 18<br>Polar Inertia: 1.620e+00<br>Diametral Inertia: 1.110e+00<br>Disk mass: 96.220<br>",
         "legendgroup": "disks",
         "line": {
          "color": "Firebrick",
          "width": 2
         },
         "mode": "lines",
         "name": "Disk 5",
         "opacity": 0.8,
         "showlegend": false,
         "text": "Disk Node: 18<br>Polar Inertia: 1.620e+00<br>Diametral Inertia: 1.110e+00<br>Disk mass: 96.220<br>",
         "type": "scatter",
         "x": [
          0.89,
          0.8973768421052631,
          0.8826231578947369,
          0.89,
          null,
          0.89,
          0.8973768421052631,
          0.8826231578947369,
          0.89
         ],
         "y": [
          -1.081,
          -0.7121578947368421,
          -0.7121578947368421,
          -1.081,
          null,
          -1.21,
          -1.5788421052631578,
          -1.5788421052631578,
          -1.21
         ]
        },
        {
         "customdata": [
          [
           15,
           0.195,
           0.098,
           19.52,
           0.24
          ],
          [
           15,
           0.195,
           0.098,
           19.52,
           0.24
          ],
          [
           15,
           0.195,
           0.098,
           19.52,
           0.24
          ],
          [
           15,
           0.195,
           0.098,
           19.52,
           0.24
          ],
          [
           15,
           0.195,
           0.098,
           19.52,
           0.24
          ],
          [
           15,
           0.195,
           0.098,
           19.52,
           0.24
          ],
          [
           15,
           0.195,
           0.098,
           19.52,
           0.24
          ],
          [
           15,
           0.195,
           0.098,
           19.52,
           0.24
          ],
          [
           15,
           0.195,
           0.098,
           19.52,
           0.24
          ]
         ],
         "fill": "toself",
         "fillcolor": "Goldenrod",
         "fillpattern": {
          "bgcolor": "Goldenrod",
          "fgcolor": "rgba(0, 0, 0, 0.2)",
          "shape": "/"
         },
         "hoverinfo": "text",
         "hoverlabel": {
          "bgcolor": "Goldenrod"
         },
         "hoveron": "points+fills",
         "hovertemplate": "Gear Node: 15<br>Polar Inertia: 1.950e-01<br>Diametral Inertia: 9.800e-02<br>Gear Mass: 19.520<br>Gear Base Diam.: 0.240<br>",
         "legendgroup": "gears",
         "line": {
          "color": "rgba(0, 0, 0, 0.2)",
          "width": 2
         },
         "mode": "lines",
         "name": "Gear 6",
         "opacity": 0.8,
         "showlegend": false,
         "text": "Gear Node: 15<br>Polar Inertia: 1.950e-01<br>Diametral Inertia: 9.800e-02<br>Gear Mass: 19.520<br>Gear Base Diam.: 0.240<br>",
         "type": "scatter",
         "x": [
          0.29475368421052633,
          0.29475368421052633,
          0.2652463157894737,
          0.2652463157894737,
          null,
          0.29475368421052633,
          0.29475368421052633,
          0.2652463157894737,
          0.2652463157894737
         ],
         "y": [
          -1.069,
          -0.887,
          -0.887,
          -1.069,
          null,
          -1.222,
          -1.404,
          -1.404,
          -1.222
         ]
        },
        {
         "hoverinfo": "none",
         "legendgroup": "bearings",
         "line": {
          "color": "#355d7a",
          "width": 1
         },
         "mode": "lines",
         "name": "Bearing 0",
         "showlegend": false,
         "type": "scatter",
         "x": [
          0.08,
          0.08,
          0.053654135338345864,
          0.10634586466165413
         ],
         "y": [
          0.1605,
          0.20660526315789474,
          0.20660526315789474,
          0.20660526315789474
         ]
        },
        {
         "hoverinfo": "none",
         "legendgroup": "bearings",
         "line": {
          "color": "#355d7a",
          "width": 1
         },
         "mode": "lines",
         "name": "Bearing 0",
         "showlegend": false,
         "type": "scatter",
         "x": [
          0.08,
          0.08,
          0.053654135338345864,
          0.10634586466165413
         ],
         "y": [
          -0.1605,
          -0.20660526315789474,
          -0.20660526315789474,
          -0.20660526315789474
         ]
        },
        {
         "hoverinfo": "none",
         "legendgroup": "bearings",
         "line": {
          "color": "#355d7a",
          "width": 1
         },
         "mode": "lines",
         "name": "Bearing 0",
         "showlegend": false,
         "type": "scatter",
         "x": [
          0.08,
          0.08,
          0.053654135338345864,
          0.10634586466165413
         ],
         "y": [
          0.34492105263157896,
          0.29881578947368426,
          0.29881578947368426,
          0.29881578947368426
         ]
        },
        {
         "hoverinfo": "none",
         "legendgroup": "bearings",
         "line": {
          "color": "#355d7a",
          "width": 1
         },
         "mode": "lines",
         "name": "Bearing 0",
         "showlegend": false,
         "type": "scatter",
         "x": [
          0.08,
          0.08,
          0.053654135338345864,
          0.10634586466165413
         ],
         "y": [
          -0.34492105263157896,
          -0.29881578947368426,
          -0.29881578947368426,
          -0.29881578947368426
         ]
        },
        {
         "hoverinfo": "none",
         "legendgroup": "bearings",
         "line": {
          "color": "#355d7a",
          "width": 1
         },
         "mode": "lines",
         "name": "Bearing 0",
         "showlegend": false,
         "type": "scatter",
         "x": [
          0.0404812030075188,
          0.1195187969924812
         ],
         "y": [
          0.34492105263157896,
          0.34492105263157896
         ]
        },
        {
         "hoverinfo": "none",
         "legendgroup": "bearings",
         "line": {
          "color": "#355d7a",
          "width": 1
         },
         "mode": "lines",
         "name": "Bearing 0",
         "showlegend": false,
         "type": "scatter",
         "x": [
          0.0404812030075188,
          0.1195187969924812
         ],
         "y": [
          -0.34492105263157896,
          -0.34492105263157896
         ]
        },
        {
         "hoverinfo": "none",
         "legendgroup": "bearings",
         "line": {
          "color": "#355d7a",
          "width": 1
         },
         "mode": "lines",
         "name": "Bearing 0",
         "showlegend": false,
         "type": "scatter",
         "x": [
          0.0404812030075188,
          0.05628872180451128
         ],
         "y": [
          0.34492105263157896,
          0.3794131578947369
         ]
        },
        {
         "hoverinfo": "none",
         "legendgroup": "bearings",
         "line": {
          "color": "#355d7a",
          "width": 1
         },
         "mode": "lines",
         "name": "Bearing 0",
         "showlegend": false,
         "type": "scatter",
         "x": [
          0.0404812030075188,
          0.05628872180451128
         ],
         "y": [
          -0.34492105263157896,
          -0.3794131578947369
         ]
        },
        {
         "hoverinfo": "none",
         "legendgroup": "bearings",
         "line": {
          "color": "#355d7a",
          "width": 1
         },
         "mode": "lines",
         "name": "Bearing 0",
         "showlegend": false,
         "type": "scatter",
         "x": [
          0.05628872180451128,
          0.07209624060150377
         ],
         "y": [
          0.34492105263157896,
          0.3794131578947369
         ]
        },
        {
         "hoverinfo": "none",
         "legendgroup": "bearings",
         "line": {
          "color": "#355d7a",
          "width": 1
         },
         "mode": "lines",
         "name": "Bearing 0",
         "showlegend": false,
         "type": "scatter",
         "x": [
          0.05628872180451128,
          0.07209624060150377
         ],
         "y": [
          -0.34492105263157896,
          -0.3794131578947369
         ]
        },
        {
         "hoverinfo": "none",
         "legendgroup": "bearings",
         "line": {
          "color": "#355d7a",
          "width": 1
         },
         "mode": "lines",
         "name": "Bearing 0",
         "showlegend": false,
         "type": "scatter",
         "x": [
          0.07209624060150377,
          0.08790375939849625
         ],
         "y": [
          0.34492105263157896,
          0.3794131578947369
         ]
        },
        {
         "hoverinfo": "none",
         "legendgroup": "bearings",
         "line": {
          "color": "#355d7a",
          "width": 1
         },
         "mode": "lines",
         "name": "Bearing 0",
         "showlegend": false,
         "type": "scatter",
         "x": [
          0.07209624060150377,
          0.08790375939849625
         ],
         "y": [
          -0.34492105263157896,
          -0.3794131578947369
         ]
        },
        {
         "hoverinfo": "none",
         "legendgroup": "bearings",
         "line": {
          "color": "#355d7a",
          "width": 1
         },
         "mode": "lines",
         "name": "Bearing 0",
         "showlegend": false,
         "type": "scatter",
         "x": [
          0.08790375939849625,
          0.10371127819548873
         ],
         "y": [
          0.34492105263157896,
          0.3794131578947369
         ]
        },
        {
         "hoverinfo": "none",
         "legendgroup": "bearings",
         "line": {
          "color": "#355d7a",
          "width": 1
         },
         "mode": "lines",
         "name": "Bearing 0",
         "showlegend": false,
         "type": "scatter",
         "x": [
          0.08790375939849625,
          0.10371127819548873
         ],
         "y": [
          -0.34492105263157896,
          -0.3794131578947369
         ]
        },
        {
         "hoverinfo": "none",
         "legendgroup": "bearings",
         "line": {
          "color": "#355d7a",
          "width": 1
         },
         "mode": "lines",
         "name": "Bearing 0",
         "showlegend": false,
         "type": "scatter",
         "x": [
          0.10371127819548873,
          0.1195187969924812
         ],
         "y": [
          0.34492105263157896,
          0.3794131578947369
         ]
        },
        {
         "hoverinfo": "none",
         "legendgroup": "bearings",
         "line": {
          "color": "#355d7a",
          "width": 1
         },
         "mode": "lines",
         "name": "Bearing 0",
         "showlegend": false,
         "type": "scatter",
         "x": [
          0.10371127819548873,
          0.1195187969924812
         ],
         "y": [
          -0.34492105263157896,
          -0.3794131578947369
         ]
        },
        {
         "hoverinfo": "none",
         "legendgroup": "bearings",
         "line": {
          "color": "#355d7a",
          "width": 1
         },
         "mode": "lines",
         "name": "Bearing 0",
         "showlegend": false,
         "type": "scatter",
         "x": [
          0.1195187969924812,
          0.13532631578947368
         ],
         "y": [
          0.34492105263157896,
          0.3794131578947369
         ]
        },
        {
         "hoverinfo": "none",
         "legendgroup": "bearings",
         "line": {
          "color": "#355d7a",
          "width": 1
         },
         "mode": "lines",
         "name": "Bearing 0",
         "showlegend": false,
         "type": "scatter",
         "x": [
          0.1195187969924812,
          0.13532631578947368
         ],
         "y": [
          -0.34492105263157896,
          -0.3794131578947369
         ]
        },
        {
         "hoverinfo": "none",
         "legendgroup": "bearings",
         "line": {
          "color": "#355d7a",
          "width": 1
         },
         "mode": "lines",
         "name": "Bearing 0",
         "showlegend": false,
         "type": "scatter",
         "x": [
          0.053654135338345864,
          0.053654135338345864,
          0.0404812030075188,
          0.06682706766917293,
          0.0404812030075188,
          0.06682706766917293,
          0.0404812030075188,
          0.06682706766917293,
          0.053654135338345864,
          0.053654135338345864
         ],
         "y": [
          0.20660526315789474,
          0.2197781954887218,
          0.2197781954887218,
          0.23295112781954888,
          0.24612406015037594,
          0.259296992481203,
          0.2724699248120301,
          0.28564285714285714,
          0.28564285714285714,
          0.2988157894736842
         ]
        },
        {
         "hoverinfo": "none",
         "legendgroup": "bearings",
         "line": {
          "color": "#355d7a",
          "width": 1
         },
         "mode": "lines",
         "name": "Bearing 0",
         "showlegend": false,
         "type": "scatter",
         "x": [
          0.053654135338345864,
          0.053654135338345864,
          0.0404812030075188,
          0.06682706766917293,
          0.0404812030075188,
          0.06682706766917293,
          0.0404812030075188,
          0.06682706766917293,
          0.053654135338345864,
          0.053654135338345864
         ],
         "y": [
          -0.20660526315789474,
          -0.2197781954887218,
          -0.2197781954887218,
          -0.23295112781954888,
          -0.24612406015037594,
          -0.259296992481203,
          -0.2724699248120301,
          -0.28564285714285714,
          -0.28564285714285714,
          -0.2988157894736842
         ]
        },
        {
         "hoverinfo": "none",
         "legendgroup": "bearings",
         "line": {
          "color": "#355d7a",
          "width": 1
         },
         "mode": "lines",
         "name": "Bearing 0",
         "showlegend": false,
         "type": "scatter",
         "x": [
          0.10634586466165413,
          0.10634586466165413
         ],
         "y": [
          0.20660526315789474,
          0.23295112781954888
         ]
        },
        {
         "hoverinfo": "none",
         "legendgroup": "bearings",
         "line": {
          "color": "#355d7a",
          "width": 1
         },
         "mode": "lines",
         "name": "Bearing 0",
         "showlegend": false,
         "type": "scatter",
         "x": [
          0.10634586466165413,
          0.10634586466165413
         ],
         "y": [
          -0.20660526315789474,
          -0.23295112781954888
         ]
        },
        {
         "hoverinfo": "none",
         "legendgroup": "bearings",
         "line": {
          "color": "#355d7a",
          "width": 1
         },
         "mode": "lines",
         "name": "Bearing 0",
         "showlegend": false,
         "type": "scatter",
         "x": [
          0.07999999999999999,
          0.07999999999999999,
          0.13269172932330828,
          0.13269172932330828
         ],
         "y": [
          0.2724699248120301,
          0.23295112781954888,
          0.23295112781954888,
          0.2724699248120301
         ]
        },
        {
         "hoverinfo": "none",
         "legendgroup": "bearings",
         "line": {
          "color": "#355d7a",
          "width": 1
         },
         "mode": "lines",
         "name": "Bearing 0",
         "showlegend": false,
         "type": "scatter",
         "x": [
          0.07999999999999999,
          0.07999999999999999,
          0.13269172932330828,
          0.13269172932330828
         ],
         "y": [
          -0.2724699248120301,
          -0.23295112781954888,
          -0.23295112781954888,
          -0.2724699248120301
         ]
        },
        {
         "hoverinfo": "none",
         "legendgroup": "bearings",
         "line": {
          "color": "#355d7a",
          "width": 1
         },
         "mode": "lines",
         "name": "Bearing 0",
         "showlegend": false,
         "type": "scatter",
         "x": [
          0.07999999999999999,
          0.13269172932330828,
          0.10634586466165413,
          0.10634586466165413
         ],
         "y": [
          0.259296992481203,
          0.259296992481203,
          0.259296992481203,
          0.29881578947368426
         ]
        },
        {
         "hoverinfo": "none",
         "legendgroup": "bearings",
         "line": {
          "color": "#355d7a",
          "width": 1
         },
         "mode": "lines",
         "name": "Bearing 0",
         "showlegend": false,
         "type": "scatter",
         "x": [
          0.07999999999999999,
          0.13269172932330828,
          0.10634586466165413,
          0.10634586466165413
         ],
         "y": [
          -0.259296992481203,
          -0.259296992481203,
          -0.259296992481203,
          -0.29881578947368426
         ]
        },
        {
         "hoverinfo": "none",
         "legendgroup": "bearings",
         "line": {
          "color": "#355d7a",
          "width": 1
         },
         "mode": "lines",
         "name": "Bearing 1",
         "showlegend": false,
         "type": "scatter",
         "x": [
          0.48000000000000004,
          0.48000000000000004,
          0.4536541353383459,
          0.5063458646616542
         ],
         "y": [
          0.1305,
          0.17660526315789477,
          0.17660526315789477,
          0.17660526315789477
         ]
        },
        {
         "hoverinfo": "none",
         "legendgroup": "bearings",
         "line": {
          "color": "#355d7a",
          "width": 1
         },
         "mode": "lines",
         "name": "Bearing 1",
         "showlegend": false,
         "type": "scatter",
         "x": [
          0.48000000000000004,
          0.48000000000000004,
          0.4536541353383459,
          0.5063458646616542
         ],
         "y": [
          -0.1305,
          -0.17660526315789477,
          -0.17660526315789477,
          -0.17660526315789477
         ]
        },
        {
         "hoverinfo": "none",
         "legendgroup": "bearings",
         "line": {
          "color": "#355d7a",
          "width": 1
         },
         "mode": "lines",
         "name": "Bearing 1",
         "showlegend": false,
         "type": "scatter",
         "x": [
          0.48000000000000004,
          0.48000000000000004,
          0.4536541353383459,
          0.5063458646616542
         ],
         "y": [
          0.314921052631579,
          0.26881578947368423,
          0.26881578947368423,
          0.26881578947368423
         ]
        },
        {
         "hoverinfo": "none",
         "legendgroup": "bearings",
         "line": {
          "color": "#355d7a",
          "width": 1
         },
         "mode": "lines",
         "name": "Bearing 1",
         "showlegend": false,
         "type": "scatter",
         "x": [
          0.48000000000000004,
          0.48000000000000004,
          0.4536541353383459,
          0.5063458646616542
         ],
         "y": [
          -0.314921052631579,
          -0.26881578947368423,
          -0.26881578947368423,
          -0.26881578947368423
         ]
        },
        {
         "hoverinfo": "none",
         "legendgroup": "bearings",
         "line": {
          "color": "#355d7a",
          "width": 1
         },
         "mode": "lines",
         "name": "Bearing 1",
         "showlegend": false,
         "type": "scatter",
         "x": [
          0.44048120300751886,
          0.5195187969924813
         ],
         "y": [
          0.314921052631579,
          0.314921052631579
         ]
        },
        {
         "hoverinfo": "none",
         "legendgroup": "bearings",
         "line": {
          "color": "#355d7a",
          "width": 1
         },
         "mode": "lines",
         "name": "Bearing 1",
         "showlegend": false,
         "type": "scatter",
         "x": [
          0.44048120300751886,
          0.5195187969924813
         ],
         "y": [
          -0.314921052631579,
          -0.314921052631579
         ]
        },
        {
         "hoverinfo": "none",
         "legendgroup": "bearings",
         "line": {
          "color": "#355d7a",
          "width": 1
         },
         "mode": "lines",
         "name": "Bearing 1",
         "showlegend": false,
         "type": "scatter",
         "x": [
          0.44048120300751886,
          0.45628872180451135
         ],
         "y": [
          0.314921052631579,
          0.3464131578947369
         ]
        },
        {
         "hoverinfo": "none",
         "legendgroup": "bearings",
         "line": {
          "color": "#355d7a",
          "width": 1
         },
         "mode": "lines",
         "name": "Bearing 1",
         "showlegend": false,
         "type": "scatter",
         "x": [
          0.44048120300751886,
          0.45628872180451135
         ],
         "y": [
          -0.314921052631579,
          -0.3464131578947369
         ]
        },
        {
         "hoverinfo": "none",
         "legendgroup": "bearings",
         "line": {
          "color": "#355d7a",
          "width": 1
         },
         "mode": "lines",
         "name": "Bearing 1",
         "showlegend": false,
         "type": "scatter",
         "x": [
          0.45628872180451135,
          0.47209624060150385
         ],
         "y": [
          0.314921052631579,
          0.3464131578947369
         ]
        },
        {
         "hoverinfo": "none",
         "legendgroup": "bearings",
         "line": {
          "color": "#355d7a",
          "width": 1
         },
         "mode": "lines",
         "name": "Bearing 1",
         "showlegend": false,
         "type": "scatter",
         "x": [
          0.45628872180451135,
          0.47209624060150385
         ],
         "y": [
          -0.314921052631579,
          -0.3464131578947369
         ]
        },
        {
         "hoverinfo": "none",
         "legendgroup": "bearings",
         "line": {
          "color": "#355d7a",
          "width": 1
         },
         "mode": "lines",
         "name": "Bearing 1",
         "showlegend": false,
         "type": "scatter",
         "x": [
          0.47209624060150385,
          0.4879037593984963
         ],
         "y": [
          0.314921052631579,
          0.3464131578947369
         ]
        },
        {
         "hoverinfo": "none",
         "legendgroup": "bearings",
         "line": {
          "color": "#355d7a",
          "width": 1
         },
         "mode": "lines",
         "name": "Bearing 1",
         "showlegend": false,
         "type": "scatter",
         "x": [
          0.47209624060150385,
          0.4879037593984963
         ],
         "y": [
          -0.314921052631579,
          -0.3464131578947369
         ]
        },
        {
         "hoverinfo": "none",
         "legendgroup": "bearings",
         "line": {
          "color": "#355d7a",
          "width": 1
         },
         "mode": "lines",
         "name": "Bearing 1",
         "showlegend": false,
         "type": "scatter",
         "x": [
          0.4879037593984963,
          0.5037112781954888
         ],
         "y": [
          0.314921052631579,
          0.3464131578947369
         ]
        },
        {
         "hoverinfo": "none",
         "legendgroup": "bearings",
         "line": {
          "color": "#355d7a",
          "width": 1
         },
         "mode": "lines",
         "name": "Bearing 1",
         "showlegend": false,
         "type": "scatter",
         "x": [
          0.4879037593984963,
          0.5037112781954888
         ],
         "y": [
          -0.314921052631579,
          -0.3464131578947369
         ]
        },
        {
         "hoverinfo": "none",
         "legendgroup": "bearings",
         "line": {
          "color": "#355d7a",
          "width": 1
         },
         "mode": "lines",
         "name": "Bearing 1",
         "showlegend": false,
         "type": "scatter",
         "x": [
          0.5037112781954888,
          0.5195187969924813
         ],
         "y": [
          0.314921052631579,
          0.3464131578947369
         ]
        },
        {
         "hoverinfo": "none",
         "legendgroup": "bearings",
         "line": {
          "color": "#355d7a",
          "width": 1
         },
         "mode": "lines",
         "name": "Bearing 1",
         "showlegend": false,
         "type": "scatter",
         "x": [
          0.5037112781954888,
          0.5195187969924813
         ],
         "y": [
          -0.314921052631579,
          -0.3464131578947369
         ]
        },
        {
         "hoverinfo": "none",
         "legendgroup": "bearings",
         "line": {
          "color": "#355d7a",
          "width": 1
         },
         "mode": "lines",
         "name": "Bearing 1",
         "showlegend": false,
         "type": "scatter",
         "x": [
          0.5195187969924813,
          0.5353263157894738
         ],
         "y": [
          0.314921052631579,
          0.3464131578947369
         ]
        },
        {
         "hoverinfo": "none",
         "legendgroup": "bearings",
         "line": {
          "color": "#355d7a",
          "width": 1
         },
         "mode": "lines",
         "name": "Bearing 1",
         "showlegend": false,
         "type": "scatter",
         "x": [
          0.5195187969924813,
          0.5353263157894738
         ],
         "y": [
          -0.314921052631579,
          -0.3464131578947369
         ]
        },
        {
         "hoverinfo": "none",
         "legendgroup": "bearings",
         "line": {
          "color": "#355d7a",
          "width": 1
         },
         "mode": "lines",
         "name": "Bearing 1",
         "showlegend": false,
         "type": "scatter",
         "x": [
          0.4536541353383459,
          0.4536541353383459,
          0.44048120300751886,
          0.466827067669173,
          0.44048120300751886,
          0.466827067669173,
          0.44048120300751886,
          0.466827067669173,
          0.4536541353383459,
          0.4536541353383459
         ],
         "y": [
          0.17660526315789477,
          0.18977819548872182,
          0.18977819548872182,
          0.2029511278195489,
          0.21612406015037597,
          0.22929699248120305,
          0.2424699248120301,
          0.25564285714285717,
          0.25564285714285717,
          0.26881578947368423
         ]
        },
        {
         "hoverinfo": "none",
         "legendgroup": "bearings",
         "line": {
          "color": "#355d7a",
          "width": 1
         },
         "mode": "lines",
         "name": "Bearing 1",
         "showlegend": false,
         "type": "scatter",
         "x": [
          0.4536541353383459,
          0.4536541353383459,
          0.44048120300751886,
          0.466827067669173,
          0.44048120300751886,
          0.466827067669173,
          0.44048120300751886,
          0.466827067669173,
          0.4536541353383459,
          0.4536541353383459
         ],
         "y": [
          -0.17660526315789477,
          -0.18977819548872182,
          -0.18977819548872182,
          -0.2029511278195489,
          -0.21612406015037597,
          -0.22929699248120305,
          -0.2424699248120301,
          -0.25564285714285717,
          -0.25564285714285717,
          -0.26881578947368423
         ]
        },
        {
         "hoverinfo": "none",
         "legendgroup": "bearings",
         "line": {
          "color": "#355d7a",
          "width": 1
         },
         "mode": "lines",
         "name": "Bearing 1",
         "showlegend": false,
         "type": "scatter",
         "x": [
          0.5063458646616542,
          0.5063458646616542
         ],
         "y": [
          0.17660526315789477,
          0.2029511278195489
         ]
        },
        {
         "hoverinfo": "none",
         "legendgroup": "bearings",
         "line": {
          "color": "#355d7a",
          "width": 1
         },
         "mode": "lines",
         "name": "Bearing 1",
         "showlegend": false,
         "type": "scatter",
         "x": [
          0.5063458646616542,
          0.5063458646616542
         ],
         "y": [
          -0.17660526315789477,
          -0.2029511278195489
         ]
        },
        {
         "hoverinfo": "none",
         "legendgroup": "bearings",
         "line": {
          "color": "#355d7a",
          "width": 1
         },
         "mode": "lines",
         "name": "Bearing 1",
         "showlegend": false,
         "type": "scatter",
         "x": [
          0.4800000000000001,
          0.4800000000000001,
          0.5326917293233083,
          0.5326917293233083
         ],
         "y": [
          0.2424699248120301,
          0.2029511278195489,
          0.2029511278195489,
          0.2424699248120301
         ]
        },
        {
         "hoverinfo": "none",
         "legendgroup": "bearings",
         "line": {
          "color": "#355d7a",
          "width": 1
         },
         "mode": "lines",
         "name": "Bearing 1",
         "showlegend": false,
         "type": "scatter",
         "x": [
          0.4800000000000001,
          0.4800000000000001,
          0.5326917293233083,
          0.5326917293233083
         ],
         "y": [
          -0.2424699248120301,
          -0.2029511278195489,
          -0.2029511278195489,
          -0.2424699248120301
         ]
        },
        {
         "hoverinfo": "none",
         "legendgroup": "bearings",
         "line": {
          "color": "#355d7a",
          "width": 1
         },
         "mode": "lines",
         "name": "Bearing 1",
         "showlegend": false,
         "type": "scatter",
         "x": [
          0.4800000000000001,
          0.5326917293233083,
          0.5063458646616542,
          0.5063458646616542
         ],
         "y": [
          0.22929699248120305,
          0.22929699248120305,
          0.22929699248120305,
          0.26881578947368423
         ]
        },
        {
         "hoverinfo": "none",
         "legendgroup": "bearings",
         "line": {
          "color": "#355d7a",
          "width": 1
         },
         "mode": "lines",
         "name": "Bearing 1",
         "showlegend": false,
         "type": "scatter",
         "x": [
          0.4800000000000001,
          0.5326917293233083,
          0.5063458646616542,
          0.5063458646616542
         ],
         "y": [
          -0.22929699248120305,
          -0.22929699248120305,
          -0.22929699248120305,
          -0.26881578947368423
         ]
        },
        {
         "hoverinfo": "none",
         "legendgroup": "bearings",
         "line": {
          "color": "#355d7a",
          "width": 1
         },
         "mode": "lines",
         "name": "Bearing 2",
         "showlegend": false,
         "type": "scatter",
         "x": [
          0.07999999999999996,
          0.07999999999999996,
          0.05365413533834583,
          0.10634586466165409
         ],
         "y": [
          1.1915,
          1.2376052631578949,
          1.2376052631578949,
          1.2376052631578949
         ]
        },
        {
         "hoverinfo": "none",
         "legendgroup": "bearings",
         "line": {
          "color": "#355d7a",
          "width": 1
         },
         "mode": "lines",
         "name": "Bearing 2",
         "showlegend": false,
         "type": "scatter",
         "x": [
          0.07999999999999996,
          0.07999999999999996,
          0.05365413533834583,
          0.10634586466165409
         ],
         "y": [
          1.0415,
          0.9953947368421053,
          0.9953947368421053,
          0.9953947368421053
         ]
        },
        {
         "hoverinfo": "none",
         "legendgroup": "bearings",
         "line": {
          "color": "#355d7a",
          "width": 1
         },
         "mode": "lines",
         "name": "Bearing 2",
         "showlegend": false,
         "type": "scatter",
         "x": [
          0.07999999999999996,
          0.07999999999999996,
          0.05365413533834583,
          0.10634586466165409
         ],
         "y": [
          1.375921052631579,
          1.3298157894736842,
          1.3298157894736842,
          1.3298157894736842
         ]
        },
        {
         "hoverinfo": "none",
         "legendgroup": "bearings",
         "line": {
          "color": "#355d7a",
          "width": 1
         },
         "mode": "lines",
         "name": "Bearing 2",
         "showlegend": false,
         "type": "scatter",
         "x": [
          0.07999999999999996,
          0.07999999999999996,
          0.05365413533834583,
          0.10634586466165409
         ],
         "y": [
          0.857078947368421,
          0.9031842105263159,
          0.9031842105263159,
          0.9031842105263159
         ]
        },
        {
         "hoverinfo": "none",
         "legendgroup": "bearings",
         "line": {
          "color": "#355d7a",
          "width": 1
         },
         "mode": "lines",
         "name": "Bearing 2",
         "showlegend": false,
         "type": "scatter",
         "x": [
          0.040481203007518764,
          0.11951879699248116
         ],
         "y": [
          1.375921052631579,
          1.375921052631579
         ]
        },
        {
         "hoverinfo": "none",
         "legendgroup": "bearings",
         "line": {
          "color": "#355d7a",
          "width": 1
         },
         "mode": "lines",
         "name": "Bearing 2",
         "showlegend": false,
         "type": "scatter",
         "x": [
          0.040481203007518764,
          0.11951879699248116
         ],
         "y": [
          0.857078947368421,
          0.857078947368421
         ]
        },
        {
         "hoverinfo": "none",
         "legendgroup": "bearings",
         "line": {
          "color": "#355d7a",
          "width": 1
         },
         "mode": "lines",
         "name": "Bearing 2",
         "showlegend": false,
         "type": "scatter",
         "x": [
          0.040481203007518764,
          0.05628872180451125
         ],
         "y": [
          1.375921052631579,
          1.401863157894737
         ]
        },
        {
         "hoverinfo": "none",
         "legendgroup": "bearings",
         "line": {
          "color": "#355d7a",
          "width": 1
         },
         "mode": "lines",
         "name": "Bearing 2",
         "showlegend": false,
         "type": "scatter",
         "x": [
          0.040481203007518764,
          0.05628872180451125
         ],
         "y": [
          0.857078947368421,
          0.8311368421052632
         ]
        },
        {
         "hoverinfo": "none",
         "legendgroup": "bearings",
         "line": {
          "color": "#355d7a",
          "width": 1
         },
         "mode": "lines",
         "name": "Bearing 2",
         "showlegend": false,
         "type": "scatter",
         "x": [
          0.05628872180451125,
          0.07209624060150373
         ],
         "y": [
          1.375921052631579,
          1.401863157894737
         ]
        },
        {
         "hoverinfo": "none",
         "legendgroup": "bearings",
         "line": {
          "color": "#355d7a",
          "width": 1
         },
         "mode": "lines",
         "name": "Bearing 2",
         "showlegend": false,
         "type": "scatter",
         "x": [
          0.05628872180451125,
          0.07209624060150373
         ],
         "y": [
          0.857078947368421,
          0.8311368421052632
         ]
        },
        {
         "hoverinfo": "none",
         "legendgroup": "bearings",
         "line": {
          "color": "#355d7a",
          "width": 1
         },
         "mode": "lines",
         "name": "Bearing 2",
         "showlegend": false,
         "type": "scatter",
         "x": [
          0.07209624060150373,
          0.0879037593984962
         ],
         "y": [
          1.375921052631579,
          1.401863157894737
         ]
        },
        {
         "hoverinfo": "none",
         "legendgroup": "bearings",
         "line": {
          "color": "#355d7a",
          "width": 1
         },
         "mode": "lines",
         "name": "Bearing 2",
         "showlegend": false,
         "type": "scatter",
         "x": [
          0.07209624060150373,
          0.0879037593984962
         ],
         "y": [
          0.857078947368421,
          0.8311368421052632
         ]
        },
        {
         "hoverinfo": "none",
         "legendgroup": "bearings",
         "line": {
          "color": "#355d7a",
          "width": 1
         },
         "mode": "lines",
         "name": "Bearing 2",
         "showlegend": false,
         "type": "scatter",
         "x": [
          0.0879037593984962,
          0.1037112781954887
         ],
         "y": [
          1.375921052631579,
          1.401863157894737
         ]
        },
        {
         "hoverinfo": "none",
         "legendgroup": "bearings",
         "line": {
          "color": "#355d7a",
          "width": 1
         },
         "mode": "lines",
         "name": "Bearing 2",
         "showlegend": false,
         "type": "scatter",
         "x": [
          0.0879037593984962,
          0.1037112781954887
         ],
         "y": [
          0.857078947368421,
          0.8311368421052632
         ]
        },
        {
         "hoverinfo": "none",
         "legendgroup": "bearings",
         "line": {
          "color": "#355d7a",
          "width": 1
         },
         "mode": "lines",
         "name": "Bearing 2",
         "showlegend": false,
         "type": "scatter",
         "x": [
          0.1037112781954887,
          0.11951879699248116
         ],
         "y": [
          1.375921052631579,
          1.401863157894737
         ]
        },
        {
         "hoverinfo": "none",
         "legendgroup": "bearings",
         "line": {
          "color": "#355d7a",
          "width": 1
         },
         "mode": "lines",
         "name": "Bearing 2",
         "showlegend": false,
         "type": "scatter",
         "x": [
          0.1037112781954887,
          0.11951879699248116
         ],
         "y": [
          0.857078947368421,
          0.8311368421052632
         ]
        },
        {
         "hoverinfo": "none",
         "legendgroup": "bearings",
         "line": {
          "color": "#355d7a",
          "width": 1
         },
         "mode": "lines",
         "name": "Bearing 2",
         "showlegend": false,
         "type": "scatter",
         "x": [
          0.11951879699248116,
          0.13532631578947366
         ],
         "y": [
          1.375921052631579,
          1.401863157894737
         ]
        },
        {
         "hoverinfo": "none",
         "legendgroup": "bearings",
         "line": {
          "color": "#355d7a",
          "width": 1
         },
         "mode": "lines",
         "name": "Bearing 2",
         "showlegend": false,
         "type": "scatter",
         "x": [
          0.11951879699248116,
          0.13532631578947366
         ],
         "y": [
          0.857078947368421,
          0.8311368421052632
         ]
        },
        {
         "hoverinfo": "none",
         "legendgroup": "bearings",
         "line": {
          "color": "#355d7a",
          "width": 1
         },
         "mode": "lines",
         "name": "Bearing 2",
         "showlegend": false,
         "type": "scatter",
         "x": [
          0.05365413533834583,
          0.05365413533834583,
          0.040481203007518764,
          0.0668270676691729,
          0.040481203007518764,
          0.0668270676691729,
          0.040481203007518764,
          0.0668270676691729,
          0.05365413533834583,
          0.05365413533834583
         ],
         "y": [
          1.2376052631578949,
          1.2507781954887218,
          1.2507781954887218,
          1.263951127819549,
          1.277124060150376,
          1.290296992481203,
          1.30346992481203,
          1.3166428571428572,
          1.3166428571428572,
          1.3298157894736842
         ]
        },
        {
         "hoverinfo": "none",
         "legendgroup": "bearings",
         "line": {
          "color": "#355d7a",
          "width": 1
         },
         "mode": "lines",
         "name": "Bearing 2",
         "showlegend": false,
         "type": "scatter",
         "x": [
          0.05365413533834583,
          0.05365413533834583,
          0.040481203007518764,
          0.0668270676691729,
          0.040481203007518764,
          0.0668270676691729,
          0.040481203007518764,
          0.0668270676691729,
          0.05365413533834583,
          0.05365413533834583
         ],
         "y": [
          0.9953947368421053,
          0.9822218045112783,
          0.9822218045112783,
          0.9690488721804512,
          0.9558759398496242,
          0.942703007518797,
          0.92953007518797,
          0.9163571428571429,
          0.9163571428571429,
          0.9031842105263159
         ]
        },
        {
         "hoverinfo": "none",
         "legendgroup": "bearings",
         "line": {
          "color": "#355d7a",
          "width": 1
         },
         "mode": "lines",
         "name": "Bearing 2",
         "showlegend": false,
         "type": "scatter",
         "x": [
          0.10634586466165409,
          0.10634586466165409
         ],
         "y": [
          1.2376052631578949,
          1.263951127819549
         ]
        },
        {
         "hoverinfo": "none",
         "legendgroup": "bearings",
         "line": {
          "color": "#355d7a",
          "width": 1
         },
         "mode": "lines",
         "name": "Bearing 2",
         "showlegend": false,
         "type": "scatter",
         "x": [
          0.10634586466165409,
          0.10634586466165409
         ],
         "y": [
          0.9953947368421053,
          0.9690488721804512
         ]
        },
        {
         "hoverinfo": "none",
         "legendgroup": "bearings",
         "line": {
          "color": "#355d7a",
          "width": 1
         },
         "mode": "lines",
         "name": "Bearing 2",
         "showlegend": false,
         "type": "scatter",
         "x": [
          0.07999999999999996,
          0.07999999999999996,
          0.13269172932330822,
          0.13269172932330822
         ],
         "y": [
          1.30346992481203,
          1.263951127819549,
          1.263951127819549,
          1.30346992481203
         ]
        },
        {
         "hoverinfo": "none",
         "legendgroup": "bearings",
         "line": {
          "color": "#355d7a",
          "width": 1
         },
         "mode": "lines",
         "name": "Bearing 2",
         "showlegend": false,
         "type": "scatter",
         "x": [
          0.07999999999999996,
          0.07999999999999996,
          0.13269172932330822,
          0.13269172932330822
         ],
         "y": [
          0.92953007518797,
          0.9690488721804512,
          0.9690488721804512,
          0.92953007518797
         ]
        },
        {
         "hoverinfo": "none",
         "legendgroup": "bearings",
         "line": {
          "color": "#355d7a",
          "width": 1
         },
         "mode": "lines",
         "name": "Bearing 2",
         "showlegend": false,
         "type": "scatter",
         "x": [
          0.07999999999999996,
          0.13269172932330822,
          0.10634586466165409,
          0.10634586466165409
         ],
         "y": [
          1.290296992481203,
          1.290296992481203,
          1.290296992481203,
          1.3298157894736842
         ]
        },
        {
         "hoverinfo": "none",
         "legendgroup": "bearings",
         "line": {
          "color": "#355d7a",
          "width": 1
         },
         "mode": "lines",
         "name": "Bearing 2",
         "showlegend": false,
         "type": "scatter",
         "x": [
          0.07999999999999996,
          0.13269172932330822,
          0.10634586466165409,
          0.10634586466165409
         ],
         "y": [
          0.942703007518797,
          0.942703007518797,
          0.942703007518797,
          0.9031842105263159
         ]
        },
        {
         "hoverinfo": "none",
         "legendgroup": "bearings",
         "line": {
          "color": "#355d7a",
          "width": 1
         },
         "mode": "lines",
         "name": "Bearing 3",
         "showlegend": false,
         "type": "scatter",
         "x": [
          0.48,
          0.48,
          0.45365413533834587,
          0.5063458646616541
         ],
         "y": [
          1.1915,
          1.2376052631578949,
          1.2376052631578949,
          1.2376052631578949
         ]
        },
        {
         "hoverinfo": "none",
         "legendgroup": "bearings",
         "line": {
          "color": "#355d7a",
          "width": 1
         },
         "mode": "lines",
         "name": "Bearing 3",
         "showlegend": false,
         "type": "scatter",
         "x": [
          0.48,
          0.48,
          0.45365413533834587,
          0.5063458646616541
         ],
         "y": [
          1.0415,
          0.9953947368421053,
          0.9953947368421053,
          0.9953947368421053
         ]
        },
        {
         "hoverinfo": "none",
         "legendgroup": "bearings",
         "line": {
          "color": "#355d7a",
          "width": 1
         },
         "mode": "lines",
         "name": "Bearing 3",
         "showlegend": false,
         "type": "scatter",
         "x": [
          0.48,
          0.48,
          0.45365413533834587,
          0.5063458646616541
         ],
         "y": [
          1.375921052631579,
          1.3298157894736842,
          1.3298157894736842,
          1.3298157894736842
         ]
        },
        {
         "hoverinfo": "none",
         "legendgroup": "bearings",
         "line": {
          "color": "#355d7a",
          "width": 1
         },
         "mode": "lines",
         "name": "Bearing 3",
         "showlegend": false,
         "type": "scatter",
         "x": [
          0.48,
          0.48,
          0.45365413533834587,
          0.5063458646616541
         ],
         "y": [
          0.857078947368421,
          0.9031842105263159,
          0.9031842105263159,
          0.9031842105263159
         ]
        },
        {
         "hoverinfo": "none",
         "legendgroup": "bearings",
         "line": {
          "color": "#355d7a",
          "width": 1
         },
         "mode": "lines",
         "name": "Bearing 3",
         "showlegend": false,
         "type": "scatter",
         "x": [
          0.4404812030075188,
          0.5195187969924812
         ],
         "y": [
          1.375921052631579,
          1.375921052631579
         ]
        },
        {
         "hoverinfo": "none",
         "legendgroup": "bearings",
         "line": {
          "color": "#355d7a",
          "width": 1
         },
         "mode": "lines",
         "name": "Bearing 3",
         "showlegend": false,
         "type": "scatter",
         "x": [
          0.4404812030075188,
          0.5195187969924812
         ],
         "y": [
          0.857078947368421,
          0.857078947368421
         ]
        },
        {
         "hoverinfo": "none",
         "legendgroup": "bearings",
         "line": {
          "color": "#355d7a",
          "width": 1
         },
         "mode": "lines",
         "name": "Bearing 3",
         "showlegend": false,
         "type": "scatter",
         "x": [
          0.4404812030075188,
          0.4562887218045113
         ],
         "y": [
          1.375921052631579,
          1.401863157894737
         ]
        },
        {
         "hoverinfo": "none",
         "legendgroup": "bearings",
         "line": {
          "color": "#355d7a",
          "width": 1
         },
         "mode": "lines",
         "name": "Bearing 3",
         "showlegend": false,
         "type": "scatter",
         "x": [
          0.4404812030075188,
          0.4562887218045113
         ],
         "y": [
          0.857078947368421,
          0.8311368421052632
         ]
        },
        {
         "hoverinfo": "none",
         "legendgroup": "bearings",
         "line": {
          "color": "#355d7a",
          "width": 1
         },
         "mode": "lines",
         "name": "Bearing 3",
         "showlegend": false,
         "type": "scatter",
         "x": [
          0.4562887218045113,
          0.47209624060150374
         ],
         "y": [
          1.375921052631579,
          1.401863157894737
         ]
        },
        {
         "hoverinfo": "none",
         "legendgroup": "bearings",
         "line": {
          "color": "#355d7a",
          "width": 1
         },
         "mode": "lines",
         "name": "Bearing 3",
         "showlegend": false,
         "type": "scatter",
         "x": [
          0.4562887218045113,
          0.47209624060150374
         ],
         "y": [
          0.857078947368421,
          0.8311368421052632
         ]
        },
        {
         "hoverinfo": "none",
         "legendgroup": "bearings",
         "line": {
          "color": "#355d7a",
          "width": 1
         },
         "mode": "lines",
         "name": "Bearing 3",
         "showlegend": false,
         "type": "scatter",
         "x": [
          0.47209624060150374,
          0.48790375939849623
         ],
         "y": [
          1.375921052631579,
          1.401863157894737
         ]
        },
        {
         "hoverinfo": "none",
         "legendgroup": "bearings",
         "line": {
          "color": "#355d7a",
          "width": 1
         },
         "mode": "lines",
         "name": "Bearing 3",
         "showlegend": false,
         "type": "scatter",
         "x": [
          0.47209624060150374,
          0.48790375939849623
         ],
         "y": [
          0.857078947368421,
          0.8311368421052632
         ]
        },
        {
         "hoverinfo": "none",
         "legendgroup": "bearings",
         "line": {
          "color": "#355d7a",
          "width": 1
         },
         "mode": "lines",
         "name": "Bearing 3",
         "showlegend": false,
         "type": "scatter",
         "x": [
          0.48790375939849623,
          0.5037112781954887
         ],
         "y": [
          1.375921052631579,
          1.401863157894737
         ]
        },
        {
         "hoverinfo": "none",
         "legendgroup": "bearings",
         "line": {
          "color": "#355d7a",
          "width": 1
         },
         "mode": "lines",
         "name": "Bearing 3",
         "showlegend": false,
         "type": "scatter",
         "x": [
          0.48790375939849623,
          0.5037112781954887
         ],
         "y": [
          0.857078947368421,
          0.8311368421052632
         ]
        },
        {
         "hoverinfo": "none",
         "legendgroup": "bearings",
         "line": {
          "color": "#355d7a",
          "width": 1
         },
         "mode": "lines",
         "name": "Bearing 3",
         "showlegend": false,
         "type": "scatter",
         "x": [
          0.5037112781954887,
          0.5195187969924812
         ],
         "y": [
          1.375921052631579,
          1.401863157894737
         ]
        },
        {
         "hoverinfo": "none",
         "legendgroup": "bearings",
         "line": {
          "color": "#355d7a",
          "width": 1
         },
         "mode": "lines",
         "name": "Bearing 3",
         "showlegend": false,
         "type": "scatter",
         "x": [
          0.5037112781954887,
          0.5195187969924812
         ],
         "y": [
          0.857078947368421,
          0.8311368421052632
         ]
        },
        {
         "hoverinfo": "none",
         "legendgroup": "bearings",
         "line": {
          "color": "#355d7a",
          "width": 1
         },
         "mode": "lines",
         "name": "Bearing 3",
         "showlegend": false,
         "type": "scatter",
         "x": [
          0.5195187969924812,
          0.5353263157894737
         ],
         "y": [
          1.375921052631579,
          1.401863157894737
         ]
        },
        {
         "hoverinfo": "none",
         "legendgroup": "bearings",
         "line": {
          "color": "#355d7a",
          "width": 1
         },
         "mode": "lines",
         "name": "Bearing 3",
         "showlegend": false,
         "type": "scatter",
         "x": [
          0.5195187969924812,
          0.5353263157894737
         ],
         "y": [
          0.857078947368421,
          0.8311368421052632
         ]
        },
        {
         "hoverinfo": "none",
         "legendgroup": "bearings",
         "line": {
          "color": "#355d7a",
          "width": 1
         },
         "mode": "lines",
         "name": "Bearing 3",
         "showlegend": false,
         "type": "scatter",
         "x": [
          0.45365413533834587,
          0.45365413533834587,
          0.4404812030075188,
          0.4668270676691729,
          0.4404812030075188,
          0.4668270676691729,
          0.4404812030075188,
          0.4668270676691729,
          0.45365413533834587,
          0.45365413533834587
         ],
         "y": [
          1.2376052631578949,
          1.2507781954887218,
          1.2507781954887218,
          1.263951127819549,
          1.277124060150376,
          1.290296992481203,
          1.30346992481203,
          1.3166428571428572,
          1.3166428571428572,
          1.3298157894736842
         ]
        },
        {
         "hoverinfo": "none",
         "legendgroup": "bearings",
         "line": {
          "color": "#355d7a",
          "width": 1
         },
         "mode": "lines",
         "name": "Bearing 3",
         "showlegend": false,
         "type": "scatter",
         "x": [
          0.45365413533834587,
          0.45365413533834587,
          0.4404812030075188,
          0.4668270676691729,
          0.4404812030075188,
          0.4668270676691729,
          0.4404812030075188,
          0.4668270676691729,
          0.45365413533834587,
          0.45365413533834587
         ],
         "y": [
          0.9953947368421053,
          0.9822218045112783,
          0.9822218045112783,
          0.9690488721804512,
          0.9558759398496242,
          0.942703007518797,
          0.92953007518797,
          0.9163571428571429,
          0.9163571428571429,
          0.9031842105263159
         ]
        },
        {
         "hoverinfo": "none",
         "legendgroup": "bearings",
         "line": {
          "color": "#355d7a",
          "width": 1
         },
         "mode": "lines",
         "name": "Bearing 3",
         "showlegend": false,
         "type": "scatter",
         "x": [
          0.5063458646616541,
          0.5063458646616541
         ],
         "y": [
          1.2376052631578949,
          1.263951127819549
         ]
        },
        {
         "hoverinfo": "none",
         "legendgroup": "bearings",
         "line": {
          "color": "#355d7a",
          "width": 1
         },
         "mode": "lines",
         "name": "Bearing 3",
         "showlegend": false,
         "type": "scatter",
         "x": [
          0.5063458646616541,
          0.5063458646616541
         ],
         "y": [
          0.9953947368421053,
          0.9690488721804512
         ]
        },
        {
         "hoverinfo": "none",
         "legendgroup": "bearings",
         "line": {
          "color": "#355d7a",
          "width": 1
         },
         "mode": "lines",
         "name": "Bearing 3",
         "showlegend": false,
         "type": "scatter",
         "x": [
          0.48,
          0.48,
          0.5326917293233082,
          0.5326917293233082
         ],
         "y": [
          1.30346992481203,
          1.263951127819549,
          1.263951127819549,
          1.30346992481203
         ]
        },
        {
         "hoverinfo": "none",
         "legendgroup": "bearings",
         "line": {
          "color": "#355d7a",
          "width": 1
         },
         "mode": "lines",
         "name": "Bearing 3",
         "showlegend": false,
         "type": "scatter",
         "x": [
          0.48,
          0.48,
          0.5326917293233082,
          0.5326917293233082
         ],
         "y": [
          0.92953007518797,
          0.9690488721804512,
          0.9690488721804512,
          0.92953007518797
         ]
        },
        {
         "hoverinfo": "none",
         "legendgroup": "bearings",
         "line": {
          "color": "#355d7a",
          "width": 1
         },
         "mode": "lines",
         "name": "Bearing 3",
         "showlegend": false,
         "type": "scatter",
         "x": [
          0.48,
          0.5326917293233082,
          0.5063458646616541,
          0.5063458646616541
         ],
         "y": [
          1.290296992481203,
          1.290296992481203,
          1.290296992481203,
          1.3298157894736842
         ]
        },
        {
         "hoverinfo": "none",
         "legendgroup": "bearings",
         "line": {
          "color": "#355d7a",
          "width": 1
         },
         "mode": "lines",
         "name": "Bearing 3",
         "showlegend": false,
         "type": "scatter",
         "x": [
          0.48,
          0.5326917293233082,
          0.5063458646616541,
          0.5063458646616541
         ],
         "y": [
          0.942703007518797,
          0.942703007518797,
          0.942703007518797,
          0.9031842105263159
         ]
        },
        {
         "hoverinfo": "none",
         "legendgroup": "bearings",
         "line": {
          "color": "#355d7a",
          "width": 1
         },
         "mode": "lines",
         "name": "Bearing 4",
         "showlegend": false,
         "type": "scatter",
         "x": [
          0.08000000000000003,
          0.08000000000000003,
          0.0536541353383459,
          0.10634586466165416
         ],
         "y": [
          -1.069,
          -1.0228947368421053,
          -1.0228947368421053,
          -1.0228947368421053
         ]
        },
        {
         "hoverinfo": "none",
         "legendgroup": "bearings",
         "line": {
          "color": "#355d7a",
          "width": 1
         },
         "mode": "lines",
         "name": "Bearing 4",
         "showlegend": false,
         "type": "scatter",
         "x": [
          0.08000000000000003,
          0.08000000000000003,
          0.0536541353383459,
          0.10634586466165416
         ],
         "y": [
          -1.222,
          -1.2681052631578946,
          -1.2681052631578946,
          -1.2681052631578946
         ]
        },
        {
         "hoverinfo": "none",
         "legendgroup": "bearings",
         "line": {
          "color": "#355d7a",
          "width": 1
         },
         "mode": "lines",
         "name": "Bearing 4",
         "showlegend": false,
         "type": "scatter",
         "x": [
          0.08000000000000003,
          0.08000000000000003,
          0.0536541353383459,
          0.10634586466165416
         ],
         "y": [
          -0.884578947368421,
          -0.9306842105263158,
          -0.9306842105263158,
          -0.9306842105263158
         ]
        },
        {
         "hoverinfo": "none",
         "legendgroup": "bearings",
         "line": {
          "color": "#355d7a",
          "width": 1
         },
         "mode": "lines",
         "name": "Bearing 4",
         "showlegend": false,
         "type": "scatter",
         "x": [
          0.08000000000000003,
          0.08000000000000003,
          0.0536541353383459,
          0.10634586466165416
         ],
         "y": [
          -1.406421052631579,
          -1.3603157894736841,
          -1.3603157894736841,
          -1.3603157894736841
         ]
        },
        {
         "hoverinfo": "none",
         "legendgroup": "bearings",
         "line": {
          "color": "#355d7a",
          "width": 1
         },
         "mode": "lines",
         "name": "Bearing 4",
         "showlegend": false,
         "type": "scatter",
         "x": [
          0.04048120300751883,
          0.11951879699248123
         ],
         "y": [
          -0.884578947368421,
          -0.884578947368421
         ]
        },
        {
         "hoverinfo": "none",
         "legendgroup": "bearings",
         "line": {
          "color": "#355d7a",
          "width": 1
         },
         "mode": "lines",
         "name": "Bearing 4",
         "showlegend": false,
         "type": "scatter",
         "x": [
          0.04048120300751883,
          0.11951879699248123
         ],
         "y": [
          -1.406421052631579,
          -1.406421052631579
         ]
        },
        {
         "hoverinfo": "none",
         "legendgroup": "bearings",
         "line": {
          "color": "#355d7a",
          "width": 1
         },
         "mode": "lines",
         "name": "Bearing 4",
         "showlegend": false,
         "type": "scatter",
         "x": [
          0.04048120300751883,
          0.05628872180451132
         ],
         "y": [
          -0.884578947368421,
          -0.8584868421052632
         ]
        },
        {
         "hoverinfo": "none",
         "legendgroup": "bearings",
         "line": {
          "color": "#355d7a",
          "width": 1
         },
         "mode": "lines",
         "name": "Bearing 4",
         "showlegend": false,
         "type": "scatter",
         "x": [
          0.04048120300751883,
          0.05628872180451132
         ],
         "y": [
          -1.406421052631579,
          -1.4325131578947368
         ]
        },
        {
         "hoverinfo": "none",
         "legendgroup": "bearings",
         "line": {
          "color": "#355d7a",
          "width": 1
         },
         "mode": "lines",
         "name": "Bearing 4",
         "showlegend": false,
         "type": "scatter",
         "x": [
          0.05628872180451132,
          0.0720962406015038
         ],
         "y": [
          -0.884578947368421,
          -0.8584868421052632
         ]
        },
        {
         "hoverinfo": "none",
         "legendgroup": "bearings",
         "line": {
          "color": "#355d7a",
          "width": 1
         },
         "mode": "lines",
         "name": "Bearing 4",
         "showlegend": false,
         "type": "scatter",
         "x": [
          0.05628872180451132,
          0.0720962406015038
         ],
         "y": [
          -1.406421052631579,
          -1.4325131578947368
         ]
        },
        {
         "hoverinfo": "none",
         "legendgroup": "bearings",
         "line": {
          "color": "#355d7a",
          "width": 1
         },
         "mode": "lines",
         "name": "Bearing 4",
         "showlegend": false,
         "type": "scatter",
         "x": [
          0.0720962406015038,
          0.08790375939849629
         ],
         "y": [
          -0.884578947368421,
          -0.8584868421052632
         ]
        },
        {
         "hoverinfo": "none",
         "legendgroup": "bearings",
         "line": {
          "color": "#355d7a",
          "width": 1
         },
         "mode": "lines",
         "name": "Bearing 4",
         "showlegend": false,
         "type": "scatter",
         "x": [
          0.0720962406015038,
          0.08790375939849629
         ],
         "y": [
          -1.406421052631579,
          -1.4325131578947368
         ]
        },
        {
         "hoverinfo": "none",
         "legendgroup": "bearings",
         "line": {
          "color": "#355d7a",
          "width": 1
         },
         "mode": "lines",
         "name": "Bearing 4",
         "showlegend": false,
         "type": "scatter",
         "x": [
          0.08790375939849629,
          0.10371127819548875
         ],
         "y": [
          -0.884578947368421,
          -0.8584868421052632
         ]
        },
        {
         "hoverinfo": "none",
         "legendgroup": "bearings",
         "line": {
          "color": "#355d7a",
          "width": 1
         },
         "mode": "lines",
         "name": "Bearing 4",
         "showlegend": false,
         "type": "scatter",
         "x": [
          0.08790375939849629,
          0.10371127819548875
         ],
         "y": [
          -1.406421052631579,
          -1.4325131578947368
         ]
        },
        {
         "hoverinfo": "none",
         "legendgroup": "bearings",
         "line": {
          "color": "#355d7a",
          "width": 1
         },
         "mode": "lines",
         "name": "Bearing 4",
         "showlegend": false,
         "type": "scatter",
         "x": [
          0.10371127819548875,
          0.11951879699248125
         ],
         "y": [
          -0.884578947368421,
          -0.8584868421052632
         ]
        },
        {
         "hoverinfo": "none",
         "legendgroup": "bearings",
         "line": {
          "color": "#355d7a",
          "width": 1
         },
         "mode": "lines",
         "name": "Bearing 4",
         "showlegend": false,
         "type": "scatter",
         "x": [
          0.10371127819548875,
          0.11951879699248125
         ],
         "y": [
          -1.406421052631579,
          -1.4325131578947368
         ]
        },
        {
         "hoverinfo": "none",
         "legendgroup": "bearings",
         "line": {
          "color": "#355d7a",
          "width": 1
         },
         "mode": "lines",
         "name": "Bearing 4",
         "showlegend": false,
         "type": "scatter",
         "x": [
          0.11951879699248125,
          0.13532631578947374
         ],
         "y": [
          -0.884578947368421,
          -0.8584868421052632
         ]
        },
        {
         "hoverinfo": "none",
         "legendgroup": "bearings",
         "line": {
          "color": "#355d7a",
          "width": 1
         },
         "mode": "lines",
         "name": "Bearing 4",
         "showlegend": false,
         "type": "scatter",
         "x": [
          0.11951879699248125,
          0.13532631578947374
         ],
         "y": [
          -1.406421052631579,
          -1.4325131578947368
         ]
        },
        {
         "hoverinfo": "none",
         "legendgroup": "bearings",
         "line": {
          "color": "#355d7a",
          "width": 1
         },
         "mode": "lines",
         "name": "Bearing 4",
         "showlegend": false,
         "type": "scatter",
         "x": [
          0.0536541353383459,
          0.0536541353383459,
          0.04048120300751883,
          0.06682706766917297,
          0.04048120300751883,
          0.06682706766917297,
          0.04048120300751883,
          0.06682706766917297,
          0.0536541353383459,
          0.0536541353383459
         ],
         "y": [
          -1.0228947368421053,
          -1.0097218045112781,
          -1.0097218045112781,
          -0.9965488721804511,
          -0.983375939849624,
          -0.970203007518797,
          -0.9570300751879699,
          -0.9438571428571428,
          -0.9438571428571428,
          -0.9306842105263158
         ]
        },
        {
         "hoverinfo": "none",
         "legendgroup": "bearings",
         "line": {
          "color": "#355d7a",
          "width": 1
         },
         "mode": "lines",
         "name": "Bearing 4",
         "showlegend": false,
         "type": "scatter",
         "x": [
          0.0536541353383459,
          0.0536541353383459,
          0.04048120300751883,
          0.06682706766917297,
          0.04048120300751883,
          0.06682706766917297,
          0.04048120300751883,
          0.06682706766917297,
          0.0536541353383459,
          0.0536541353383459
         ],
         "y": [
          -1.2681052631578946,
          -1.2812781954887218,
          -1.2812781954887218,
          -1.2944511278195487,
          -1.307624060150376,
          -1.320796992481203,
          -1.33396992481203,
          -1.347142857142857,
          -1.347142857142857,
          -1.3603157894736841
         ]
        },
        {
         "hoverinfo": "none",
         "legendgroup": "bearings",
         "line": {
          "color": "#355d7a",
          "width": 1
         },
         "mode": "lines",
         "name": "Bearing 4",
         "showlegend": false,
         "type": "scatter",
         "x": [
          0.10634586466165416,
          0.10634586466165416
         ],
         "y": [
          -1.0228947368421053,
          -0.9965488721804511
         ]
        },
        {
         "hoverinfo": "none",
         "legendgroup": "bearings",
         "line": {
          "color": "#355d7a",
          "width": 1
         },
         "mode": "lines",
         "name": "Bearing 4",
         "showlegend": false,
         "type": "scatter",
         "x": [
          0.10634586466165416,
          0.10634586466165416
         ],
         "y": [
          -1.2681052631578946,
          -1.2944511278195487
         ]
        },
        {
         "hoverinfo": "none",
         "legendgroup": "bearings",
         "line": {
          "color": "#355d7a",
          "width": 1
         },
         "mode": "lines",
         "name": "Bearing 4",
         "showlegend": false,
         "type": "scatter",
         "x": [
          0.08000000000000003,
          0.08000000000000003,
          0.1326917293233083,
          0.1326917293233083
         ],
         "y": [
          -0.9570300751879699,
          -0.9965488721804511,
          -0.9965488721804511,
          -0.9570300751879699
         ]
        },
        {
         "hoverinfo": "none",
         "legendgroup": "bearings",
         "line": {
          "color": "#355d7a",
          "width": 1
         },
         "mode": "lines",
         "name": "Bearing 4",
         "showlegend": false,
         "type": "scatter",
         "x": [
          0.08000000000000003,
          0.08000000000000003,
          0.1326917293233083,
          0.1326917293233083
         ],
         "y": [
          -1.33396992481203,
          -1.2944511278195487,
          -1.2944511278195487,
          -1.33396992481203
         ]
        },
        {
         "hoverinfo": "none",
         "legendgroup": "bearings",
         "line": {
          "color": "#355d7a",
          "width": 1
         },
         "mode": "lines",
         "name": "Bearing 4",
         "showlegend": false,
         "type": "scatter",
         "x": [
          0.08000000000000003,
          0.1326917293233083,
          0.10634586466165416,
          0.10634586466165416
         ],
         "y": [
          -0.970203007518797,
          -0.970203007518797,
          -0.970203007518797,
          -0.9306842105263158
         ]
        },
        {
         "hoverinfo": "none",
         "legendgroup": "bearings",
         "line": {
          "color": "#355d7a",
          "width": 1
         },
         "mode": "lines",
         "name": "Bearing 4",
         "showlegend": false,
         "type": "scatter",
         "x": [
          0.08000000000000003,
          0.1326917293233083,
          0.10634586466165416,
          0.10634586466165416
         ],
         "y": [
          -1.320796992481203,
          -1.320796992481203,
          -1.320796992481203,
          -1.3603157894736841
         ]
        },
        {
         "hoverinfo": "none",
         "legendgroup": "bearings",
         "line": {
          "color": "#355d7a",
          "width": 1
         },
         "mode": "lines",
         "name": "Bearing 5",
         "showlegend": false,
         "type": "scatter",
         "x": [
          0.48000000000000004,
          0.48000000000000004,
          0.4536541353383459,
          0.5063458646616542
         ],
         "y": [
          -1.069,
          -1.0228947368421053,
          -1.0228947368421053,
          -1.0228947368421053
         ]
        },
        {
         "hoverinfo": "none",
         "legendgroup": "bearings",
         "line": {
          "color": "#355d7a",
          "width": 1
         },
         "mode": "lines",
         "name": "Bearing 5",
         "showlegend": false,
         "type": "scatter",
         "x": [
          0.48000000000000004,
          0.48000000000000004,
          0.4536541353383459,
          0.5063458646616542
         ],
         "y": [
          -1.222,
          -1.2681052631578946,
          -1.2681052631578946,
          -1.2681052631578946
         ]
        },
        {
         "hoverinfo": "none",
         "legendgroup": "bearings",
         "line": {
          "color": "#355d7a",
          "width": 1
         },
         "mode": "lines",
         "name": "Bearing 5",
         "showlegend": false,
         "type": "scatter",
         "x": [
          0.48000000000000004,
          0.48000000000000004,
          0.4536541353383459,
          0.5063458646616542
         ],
         "y": [
          -0.884578947368421,
          -0.9306842105263158,
          -0.9306842105263158,
          -0.9306842105263158
         ]
        },
        {
         "hoverinfo": "none",
         "legendgroup": "bearings",
         "line": {
          "color": "#355d7a",
          "width": 1
         },
         "mode": "lines",
         "name": "Bearing 5",
         "showlegend": false,
         "type": "scatter",
         "x": [
          0.48000000000000004,
          0.48000000000000004,
          0.4536541353383459,
          0.5063458646616542
         ],
         "y": [
          -1.406421052631579,
          -1.3603157894736841,
          -1.3603157894736841,
          -1.3603157894736841
         ]
        },
        {
         "hoverinfo": "none",
         "legendgroup": "bearings",
         "line": {
          "color": "#355d7a",
          "width": 1
         },
         "mode": "lines",
         "name": "Bearing 5",
         "showlegend": false,
         "type": "scatter",
         "x": [
          0.44048120300751886,
          0.5195187969924813
         ],
         "y": [
          -0.884578947368421,
          -0.884578947368421
         ]
        },
        {
         "hoverinfo": "none",
         "legendgroup": "bearings",
         "line": {
          "color": "#355d7a",
          "width": 1
         },
         "mode": "lines",
         "name": "Bearing 5",
         "showlegend": false,
         "type": "scatter",
         "x": [
          0.44048120300751886,
          0.5195187969924813
         ],
         "y": [
          -1.406421052631579,
          -1.406421052631579
         ]
        },
        {
         "hoverinfo": "none",
         "legendgroup": "bearings",
         "line": {
          "color": "#355d7a",
          "width": 1
         },
         "mode": "lines",
         "name": "Bearing 5",
         "showlegend": false,
         "type": "scatter",
         "x": [
          0.44048120300751886,
          0.45628872180451135
         ],
         "y": [
          -0.884578947368421,
          -0.8584868421052632
         ]
        },
        {
         "hoverinfo": "none",
         "legendgroup": "bearings",
         "line": {
          "color": "#355d7a",
          "width": 1
         },
         "mode": "lines",
         "name": "Bearing 5",
         "showlegend": false,
         "type": "scatter",
         "x": [
          0.44048120300751886,
          0.45628872180451135
         ],
         "y": [
          -1.406421052631579,
          -1.4325131578947368
         ]
        },
        {
         "hoverinfo": "none",
         "legendgroup": "bearings",
         "line": {
          "color": "#355d7a",
          "width": 1
         },
         "mode": "lines",
         "name": "Bearing 5",
         "showlegend": false,
         "type": "scatter",
         "x": [
          0.45628872180451135,
          0.47209624060150385
         ],
         "y": [
          -0.884578947368421,
          -0.8584868421052632
         ]
        },
        {
         "hoverinfo": "none",
         "legendgroup": "bearings",
         "line": {
          "color": "#355d7a",
          "width": 1
         },
         "mode": "lines",
         "name": "Bearing 5",
         "showlegend": false,
         "type": "scatter",
         "x": [
          0.45628872180451135,
          0.47209624060150385
         ],
         "y": [
          -1.406421052631579,
          -1.4325131578947368
         ]
        },
        {
         "hoverinfo": "none",
         "legendgroup": "bearings",
         "line": {
          "color": "#355d7a",
          "width": 1
         },
         "mode": "lines",
         "name": "Bearing 5",
         "showlegend": false,
         "type": "scatter",
         "x": [
          0.47209624060150385,
          0.4879037593984963
         ],
         "y": [
          -0.884578947368421,
          -0.8584868421052632
         ]
        },
        {
         "hoverinfo": "none",
         "legendgroup": "bearings",
         "line": {
          "color": "#355d7a",
          "width": 1
         },
         "mode": "lines",
         "name": "Bearing 5",
         "showlegend": false,
         "type": "scatter",
         "x": [
          0.47209624060150385,
          0.4879037593984963
         ],
         "y": [
          -1.406421052631579,
          -1.4325131578947368
         ]
        },
        {
         "hoverinfo": "none",
         "legendgroup": "bearings",
         "line": {
          "color": "#355d7a",
          "width": 1
         },
         "mode": "lines",
         "name": "Bearing 5",
         "showlegend": false,
         "type": "scatter",
         "x": [
          0.4879037593984963,
          0.5037112781954888
         ],
         "y": [
          -0.884578947368421,
          -0.8584868421052632
         ]
        },
        {
         "hoverinfo": "none",
         "legendgroup": "bearings",
         "line": {
          "color": "#355d7a",
          "width": 1
         },
         "mode": "lines",
         "name": "Bearing 5",
         "showlegend": false,
         "type": "scatter",
         "x": [
          0.4879037593984963,
          0.5037112781954888
         ],
         "y": [
          -1.406421052631579,
          -1.4325131578947368
         ]
        },
        {
         "hoverinfo": "none",
         "legendgroup": "bearings",
         "line": {
          "color": "#355d7a",
          "width": 1
         },
         "mode": "lines",
         "name": "Bearing 5",
         "showlegend": false,
         "type": "scatter",
         "x": [
          0.5037112781954888,
          0.5195187969924813
         ],
         "y": [
          -0.884578947368421,
          -0.8584868421052632
         ]
        },
        {
         "hoverinfo": "none",
         "legendgroup": "bearings",
         "line": {
          "color": "#355d7a",
          "width": 1
         },
         "mode": "lines",
         "name": "Bearing 5",
         "showlegend": false,
         "type": "scatter",
         "x": [
          0.5037112781954888,
          0.5195187969924813
         ],
         "y": [
          -1.406421052631579,
          -1.4325131578947368
         ]
        },
        {
         "hoverinfo": "none",
         "legendgroup": "bearings",
         "line": {
          "color": "#355d7a",
          "width": 1
         },
         "mode": "lines",
         "name": "Bearing 5",
         "showlegend": false,
         "type": "scatter",
         "x": [
          0.5195187969924813,
          0.5353263157894738
         ],
         "y": [
          -0.884578947368421,
          -0.8584868421052632
         ]
        },
        {
         "hoverinfo": "none",
         "legendgroup": "bearings",
         "line": {
          "color": "#355d7a",
          "width": 1
         },
         "mode": "lines",
         "name": "Bearing 5",
         "showlegend": false,
         "type": "scatter",
         "x": [
          0.5195187969924813,
          0.5353263157894738
         ],
         "y": [
          -1.406421052631579,
          -1.4325131578947368
         ]
        },
        {
         "hoverinfo": "none",
         "legendgroup": "bearings",
         "line": {
          "color": "#355d7a",
          "width": 1
         },
         "mode": "lines",
         "name": "Bearing 5",
         "showlegend": false,
         "type": "scatter",
         "x": [
          0.4536541353383459,
          0.4536541353383459,
          0.44048120300751886,
          0.466827067669173,
          0.44048120300751886,
          0.466827067669173,
          0.44048120300751886,
          0.466827067669173,
          0.4536541353383459,
          0.4536541353383459
         ],
         "y": [
          -1.0228947368421053,
          -1.0097218045112781,
          -1.0097218045112781,
          -0.9965488721804511,
          -0.983375939849624,
          -0.970203007518797,
          -0.9570300751879699,
          -0.9438571428571428,
          -0.9438571428571428,
          -0.9306842105263158
         ]
        },
        {
         "hoverinfo": "none",
         "legendgroup": "bearings",
         "line": {
          "color": "#355d7a",
          "width": 1
         },
         "mode": "lines",
         "name": "Bearing 5",
         "showlegend": false,
         "type": "scatter",
         "x": [
          0.4536541353383459,
          0.4536541353383459,
          0.44048120300751886,
          0.466827067669173,
          0.44048120300751886,
          0.466827067669173,
          0.44048120300751886,
          0.466827067669173,
          0.4536541353383459,
          0.4536541353383459
         ],
         "y": [
          -1.2681052631578946,
          -1.2812781954887218,
          -1.2812781954887218,
          -1.2944511278195487,
          -1.307624060150376,
          -1.320796992481203,
          -1.33396992481203,
          -1.347142857142857,
          -1.347142857142857,
          -1.3603157894736841
         ]
        },
        {
         "hoverinfo": "none",
         "legendgroup": "bearings",
         "line": {
          "color": "#355d7a",
          "width": 1
         },
         "mode": "lines",
         "name": "Bearing 5",
         "showlegend": false,
         "type": "scatter",
         "x": [
          0.5063458646616542,
          0.5063458646616542
         ],
         "y": [
          -1.0228947368421053,
          -0.9965488721804511
         ]
        },
        {
         "hoverinfo": "none",
         "legendgroup": "bearings",
         "line": {
          "color": "#355d7a",
          "width": 1
         },
         "mode": "lines",
         "name": "Bearing 5",
         "showlegend": false,
         "type": "scatter",
         "x": [
          0.5063458646616542,
          0.5063458646616542
         ],
         "y": [
          -1.2681052631578946,
          -1.2944511278195487
         ]
        },
        {
         "hoverinfo": "none",
         "legendgroup": "bearings",
         "line": {
          "color": "#355d7a",
          "width": 1
         },
         "mode": "lines",
         "name": "Bearing 5",
         "showlegend": false,
         "type": "scatter",
         "x": [
          0.4800000000000001,
          0.4800000000000001,
          0.5326917293233083,
          0.5326917293233083
         ],
         "y": [
          -0.9570300751879699,
          -0.9965488721804511,
          -0.9965488721804511,
          -0.9570300751879699
         ]
        },
        {
         "hoverinfo": "none",
         "legendgroup": "bearings",
         "line": {
          "color": "#355d7a",
          "width": 1
         },
         "mode": "lines",
         "name": "Bearing 5",
         "showlegend": false,
         "type": "scatter",
         "x": [
          0.4800000000000001,
          0.4800000000000001,
          0.5326917293233083,
          0.5326917293233083
         ],
         "y": [
          -1.33396992481203,
          -1.2944511278195487,
          -1.2944511278195487,
          -1.33396992481203
         ]
        },
        {
         "hoverinfo": "none",
         "legendgroup": "bearings",
         "line": {
          "color": "#355d7a",
          "width": 1
         },
         "mode": "lines",
         "name": "Bearing 5",
         "showlegend": false,
         "type": "scatter",
         "x": [
          0.4800000000000001,
          0.5326917293233083,
          0.5063458646616542,
          0.5063458646616542
         ],
         "y": [
          -0.970203007518797,
          -0.970203007518797,
          -0.970203007518797,
          -0.9306842105263158
         ]
        },
        {
         "hoverinfo": "none",
         "legendgroup": "bearings",
         "line": {
          "color": "#355d7a",
          "width": 1
         },
         "mode": "lines",
         "name": "Bearing 5",
         "showlegend": false,
         "type": "scatter",
         "x": [
          0.4800000000000001,
          0.5326917293233083,
          0.5063458646616542,
          0.5063458646616542
         ],
         "y": [
          -1.320796992481203,
          -1.320796992481203,
          -1.320796992481203,
          -1.3603157894736841
         ]
        }
       ],
       "layout": {
        "shapes": [
         {
          "layer": "below",
          "line": {
           "color": "black",
           "dash": "dashdot",
           "width": 3
          },
          "opacity": 0.7,
          "type": "line",
          "x0": 0,
          "x1": 1,
          "xref": "paper",
          "y0": 0,
          "y1": 0,
          "yref": "y"
         },
         {
          "fillcolor": "Firebrick",
          "line": {
           "color": "Firebrick"
          },
          "type": "circle",
          "x0": -0.33505263157894744,
          "x1": -0.2889473684210527,
          "xref": "x",
          "y0": 1.5237894736842106,
          "y1": 1.5698947368421052,
          "yref": "y"
         },
         {
          "fillcolor": "Firebrick",
          "line": {
           "color": "Firebrick"
          },
          "type": "circle",
          "x0": -0.33505263157894744,
          "x1": -0.2889473684210527,
          "xref": "x",
          "y0": 0.6631052631578948,
          "y1": 0.7092105263157895,
          "yref": "y"
         },
         {
          "fillcolor": "Firebrick",
          "line": {
           "color": "Firebrick"
          },
          "type": "circle",
          "x0": 0.8489473684210526,
          "x1": 0.8950526315789472,
          "xref": "x",
          "y0": 1.5237894736842106,
          "y1": 1.5698947368421052,
          "yref": "y"
         },
         {
          "fillcolor": "Firebrick",
          "line": {
           "color": "Firebrick"
          },
          "type": "circle",
          "x0": 0.8489473684210526,
          "x1": 0.8950526315789472,
          "xref": "x",
          "y0": 0.6631052631578948,
          "y1": 0.7092105263157895,
          "yref": "y"
         },
         {
          "fillcolor": "Firebrick",
          "line": {
           "color": "Firebrick"
          },
          "type": "circle",
          "x0": -0.35305263157894734,
          "x1": -0.3069473684210526,
          "xref": "x",
          "y0": -0.7352105263157894,
          "y1": -0.6891052631578947,
          "yref": "y"
         },
         {
          "fillcolor": "Firebrick",
          "line": {
           "color": "Firebrick"
          },
          "type": "circle",
          "x0": -0.35305263157894734,
          "x1": -0.3069473684210526,
          "xref": "x",
          "y0": -1.6018947368421053,
          "y1": -1.5557894736842104,
          "yref": "y"
         },
         {
          "fillcolor": "Firebrick",
          "line": {
           "color": "Firebrick"
          },
          "type": "circle",
          "x0": 0.8669473684210527,
          "x1": 0.9130526315789473,
          "xref": "x",
          "y0": -0.7352105263157894,
          "y1": -0.6891052631578947,
          "yref": "y"
         },
         {
          "fillcolor": "Firebrick",
          "line": {
           "color": "Firebrick"
          },
          "type": "circle",
          "x0": 0.8669473684210527,
          "x1": 0.9130526315789473,
          "xref": "x",
          "y0": -1.6018947368421053,
          "y1": -1.5557894736842104,
          "yref": "y"
         }
        ],
        "template": {
         "data": {
          "bar": [
           {
            "error_x": {
             "color": "#2a3f5f"
            },
            "error_y": {
             "color": "#2a3f5f"
            },
            "marker": {
             "line": {
              "color": "white",
              "width": 0.5
             }
            },
            "type": "bar"
           }
          ],
          "barpolar": [
           {
            "marker": {
             "line": {
              "color": "white",
              "width": 0.5
             }
            },
            "type": "barpolar"
           }
          ],
          "carpet": [
           {
            "aaxis": {
             "endlinecolor": "#2a3f5f",
             "gridcolor": "#C8D4E3",
             "linecolor": "#C8D4E3",
             "minorgridcolor": "#C8D4E3",
             "startlinecolor": "#2a3f5f"
            },
            "baxis": {
             "endlinecolor": "#2a3f5f",
             "gridcolor": "#C8D4E3",
             "linecolor": "#C8D4E3",
             "minorgridcolor": "#C8D4E3",
             "startlinecolor": "#2a3f5f"
            },
            "type": "carpet"
           }
          ],
          "choropleth": [
           {
            "colorbar": {
             "outlinewidth": 0,
             "ticks": ""
            },
            "type": "choropleth"
           }
          ],
          "contour": [
           {
            "colorbar": {
             "outlinewidth": 0,
             "ticks": ""
            },
            "colorscale": [
             [
              0,
              "#0d0887"
             ],
             [
              0.1111111111111111,
              "#46039f"
             ],
             [
              0.2222222222222222,
              "#7201a8"
             ],
             [
              0.3333333333333333,
              "#9c179e"
             ],
             [
              0.4444444444444444,
              "#bd3786"
             ],
             [
              0.5555555555555556,
              "#d8576b"
             ],
             [
              0.6666666666666666,
              "#ed7953"
             ],
             [
              0.7777777777777778,
              "#fb9f3a"
             ],
             [
              0.8888888888888888,
              "#fdca26"
             ],
             [
              1,
              "#f0f921"
             ]
            ],
            "type": "contour"
           }
          ],
          "contourcarpet": [
           {
            "colorbar": {
             "outlinewidth": 0,
             "ticks": ""
            },
            "type": "contourcarpet"
           }
          ],
          "heatmap": [
           {
            "colorbar": {
             "outlinewidth": 0,
             "ticks": ""
            },
            "colorscale": [
             [
              0,
              "#0d0887"
             ],
             [
              0.1111111111111111,
              "#46039f"
             ],
             [
              0.2222222222222222,
              "#7201a8"
             ],
             [
              0.3333333333333333,
              "#9c179e"
             ],
             [
              0.4444444444444444,
              "#bd3786"
             ],
             [
              0.5555555555555556,
              "#d8576b"
             ],
             [
              0.6666666666666666,
              "#ed7953"
             ],
             [
              0.7777777777777778,
              "#fb9f3a"
             ],
             [
              0.8888888888888888,
              "#fdca26"
             ],
             [
              1,
              "#f0f921"
             ]
            ],
            "type": "heatmap"
           }
          ],
          "heatmapgl": [
           {
            "colorbar": {
             "outlinewidth": 0,
             "ticks": ""
            },
            "colorscale": [
             [
              0,
              "#0d0887"
             ],
             [
              0.1111111111111111,
              "#46039f"
             ],
             [
              0.2222222222222222,
              "#7201a8"
             ],
             [
              0.3333333333333333,
              "#9c179e"
             ],
             [
              0.4444444444444444,
              "#bd3786"
             ],
             [
              0.5555555555555556,
              "#d8576b"
             ],
             [
              0.6666666666666666,
              "#ed7953"
             ],
             [
              0.7777777777777778,
              "#fb9f3a"
             ],
             [
              0.8888888888888888,
              "#fdca26"
             ],
             [
              1,
              "#f0f921"
             ]
            ],
            "type": "heatmapgl"
           }
          ],
          "histogram": [
           {
            "marker": {
             "colorbar": {
              "outlinewidth": 0,
              "ticks": ""
             }
            },
            "type": "histogram"
           }
          ],
          "histogram2d": [
           {
            "colorbar": {
             "outlinewidth": 0,
             "ticks": ""
            },
            "colorscale": [
             [
              0,
              "#0d0887"
             ],
             [
              0.1111111111111111,
              "#46039f"
             ],
             [
              0.2222222222222222,
              "#7201a8"
             ],
             [
              0.3333333333333333,
              "#9c179e"
             ],
             [
              0.4444444444444444,
              "#bd3786"
             ],
             [
              0.5555555555555556,
              "#d8576b"
             ],
             [
              0.6666666666666666,
              "#ed7953"
             ],
             [
              0.7777777777777778,
              "#fb9f3a"
             ],
             [
              0.8888888888888888,
              "#fdca26"
             ],
             [
              1,
              "#f0f921"
             ]
            ],
            "type": "histogram2d"
           }
          ],
          "histogram2dcontour": [
           {
            "colorbar": {
             "outlinewidth": 0,
             "ticks": ""
            },
            "colorscale": [
             [
              0,
              "#0d0887"
             ],
             [
              0.1111111111111111,
              "#46039f"
             ],
             [
              0.2222222222222222,
              "#7201a8"
             ],
             [
              0.3333333333333333,
              "#9c179e"
             ],
             [
              0.4444444444444444,
              "#bd3786"
             ],
             [
              0.5555555555555556,
              "#d8576b"
             ],
             [
              0.6666666666666666,
              "#ed7953"
             ],
             [
              0.7777777777777778,
              "#fb9f3a"
             ],
             [
              0.8888888888888888,
              "#fdca26"
             ],
             [
              1,
              "#f0f921"
             ]
            ],
            "type": "histogram2dcontour"
           }
          ],
          "mesh3d": [
           {
            "colorbar": {
             "outlinewidth": 0,
             "ticks": ""
            },
            "type": "mesh3d"
           }
          ],
          "parcoords": [
           {
            "line": {
             "colorbar": {
              "outlinewidth": 0,
              "ticks": ""
             }
            },
            "type": "parcoords"
           }
          ],
          "pie": [
           {
            "automargin": true,
            "type": "pie"
           }
          ],
          "scatter": [
           {
            "marker": {
             "colorbar": {
              "outlinewidth": 0,
              "ticks": ""
             }
            },
            "type": "scatter"
           }
          ],
          "scatter3d": [
           {
            "line": {
             "colorbar": {
              "outlinewidth": 0,
              "ticks": ""
             }
            },
            "marker": {
             "colorbar": {
              "outlinewidth": 0,
              "ticks": ""
             },
             "size": 4
            },
            "type": "scatter3d"
           }
          ],
          "scattercarpet": [
           {
            "marker": {
             "colorbar": {
              "outlinewidth": 0,
              "ticks": ""
             }
            },
            "type": "scattercarpet"
           }
          ],
          "scattergeo": [
           {
            "marker": {
             "colorbar": {
              "outlinewidth": 0,
              "ticks": ""
             }
            },
            "type": "scattergeo"
           }
          ],
          "scattergl": [
           {
            "marker": {
             "colorbar": {
              "outlinewidth": 0,
              "ticks": ""
             }
            },
            "type": "scattergl"
           }
          ],
          "scattermapbox": [
           {
            "marker": {
             "colorbar": {
              "outlinewidth": 0,
              "ticks": ""
             }
            },
            "type": "scattermapbox"
           }
          ],
          "scatterpolar": [
           {
            "marker": {
             "colorbar": {
              "outlinewidth": 0,
              "ticks": ""
             }
            },
            "type": "scatterpolar"
           }
          ],
          "scatterpolargl": [
           {
            "marker": {
             "colorbar": {
              "outlinewidth": 0,
              "ticks": ""
             }
            },
            "type": "scatterpolargl"
           }
          ],
          "scatterternary": [
           {
            "marker": {
             "colorbar": {
              "outlinewidth": 0,
              "ticks": ""
             }
            },
            "type": "scatterternary"
           }
          ],
          "surface": [
           {
            "colorbar": {
             "outlinewidth": 0,
             "ticks": ""
            },
            "colorscale": [
             [
              0,
              "#0d0887"
             ],
             [
              0.1111111111111111,
              "#46039f"
             ],
             [
              0.2222222222222222,
              "#7201a8"
             ],
             [
              0.3333333333333333,
              "#9c179e"
             ],
             [
              0.4444444444444444,
              "#bd3786"
             ],
             [
              0.5555555555555556,
              "#d8576b"
             ],
             [
              0.6666666666666666,
              "#ed7953"
             ],
             [
              0.7777777777777778,
              "#fb9f3a"
             ],
             [
              0.8888888888888888,
              "#fdca26"
             ],
             [
              1,
              "#f0f921"
             ]
            ],
            "type": "surface"
           }
          ],
          "table": [
           {
            "cells": {
             "fill": {
              "color": "#EBF0F8"
             },
             "line": {
              "color": "white"
             }
            },
            "header": {
             "fill": {
              "color": "#C8D4E3"
             },
             "line": {
              "color": "white"
             }
            },
            "type": "table"
           }
          ]
         },
         "layout": {
          "annotationdefaults": {
           "arrowcolor": "#2a3f5f",
           "arrowhead": 0,
           "arrowwidth": 1
          },
          "coloraxis": {
           "colorbar": {
            "outlinewidth": 0,
            "ticks": ""
           }
          },
          "colorscale": {
           "diverging": [
            [
             0,
             "#8e0152"
            ],
            [
             0.1,
             "#c51b7d"
            ],
            [
             0.2,
             "#de77ae"
            ],
            [
             0.3,
             "#f1b6da"
            ],
            [
             0.4,
             "#fde0ef"
            ],
            [
             0.5,
             "#f7f7f7"
            ],
            [
             0.6,
             "#e6f5d0"
            ],
            [
             0.7,
             "#b8e186"
            ],
            [
             0.8,
             "#7fbc41"
            ],
            [
             0.9,
             "#4d9221"
            ],
            [
             1,
             "#276419"
            ]
           ],
           "sequential": [
            [
             0,
             "#0d0887"
            ],
            [
             0.1111111111111111,
             "#46039f"
            ],
            [
             0.2222222222222222,
             "#7201a8"
            ],
            [
             0.3333333333333333,
             "#9c179e"
            ],
            [
             0.4444444444444444,
             "#bd3786"
            ],
            [
             0.5555555555555556,
             "#d8576b"
            ],
            [
             0.6666666666666666,
             "#ed7953"
            ],
            [
             0.7777777777777778,
             "#fb9f3a"
            ],
            [
             0.8888888888888888,
             "#fdca26"
            ],
            [
             1,
             "#f0f921"
            ]
           ],
           "sequentialminus": [
            [
             0,
             "#0d0887"
            ],
            [
             0.1111111111111111,
             "#46039f"
            ],
            [
             0.2222222222222222,
             "#7201a8"
            ],
            [
             0.3333333333333333,
             "#9c179e"
            ],
            [
             0.4444444444444444,
             "#bd3786"
            ],
            [
             0.5555555555555556,
             "#d8576b"
            ],
            [
             0.6666666666666666,
             "#ed7953"
            ],
            [
             0.7777777777777778,
             "#fb9f3a"
            ],
            [
             0.8888888888888888,
             "#fdca26"
            ],
            [
             1,
             "#f0f921"
            ]
           ]
          },
          "colorway": [
           "#1f77b4",
           "#ff7f0e",
           "#2ca02c",
           "#d62728",
           "#9467bd",
           "#8c564b",
           "#e377c2",
           "#7f7f7f",
           "#bcbd22",
           "#17becf"
          ],
          "font": {
           "color": "#2a3f5f"
          },
          "geo": {
           "bgcolor": "white",
           "lakecolor": "white",
           "landcolor": "white",
           "showlakes": true,
           "showland": true,
           "subunitcolor": "#C8D4E3"
          },
          "hoverlabel": {
           "align": "left"
          },
          "hovermode": "closest",
          "mapbox": {
           "style": "light"
          },
          "paper_bgcolor": "white",
          "plot_bgcolor": "white",
          "polar": {
           "angularaxis": {
            "gridcolor": "#EBF0F8",
            "linecolor": "#EBF0F8",
            "ticks": ""
           },
           "bgcolor": "white",
           "radialaxis": {
            "gridcolor": "#EBF0F8",
            "linecolor": "#EBF0F8",
            "ticks": ""
           }
          },
          "scene": {
           "camera": {
            "center": {
             "x": 0,
             "y": 0,
             "z": 0
            },
            "eye": {
             "x": 2,
             "y": 2,
             "z": 2
            },
            "up": {
             "x": 0,
             "y": 0,
             "z": 1
            }
           },
           "xaxis": {
            "backgroundcolor": "white",
            "gridcolor": "#DFE8F3",
            "gridwidth": 2,
            "linecolor": "#EBF0F8",
            "showbackground": true,
            "showspikes": false,
            "ticks": "",
            "zerolinecolor": "#EBF0F8"
           },
           "yaxis": {
            "backgroundcolor": "white",
            "gridcolor": "#DFE8F3",
            "gridwidth": 2,
            "linecolor": "#EBF0F8",
            "showbackground": true,
            "showspikes": false,
            "ticks": "",
            "zerolinecolor": "#EBF0F8"
           },
           "zaxis": {
            "backgroundcolor": "white",
            "gridcolor": "#DFE8F3",
            "gridwidth": 2,
            "linecolor": "#EBF0F8",
            "showbackground": true,
            "showspikes": false,
            "ticks": "",
            "zerolinecolor": "#EBF0F8"
           }
          },
          "shapedefaults": {
           "line": {
            "color": "#2a3f5f"
           }
          },
          "ternary": {
           "aaxis": {
            "gridcolor": "#DFE8F3",
            "linecolor": "#A2B1C6",
            "ticks": ""
           },
           "baxis": {
            "gridcolor": "#DFE8F3",
            "linecolor": "#A2B1C6",
            "ticks": ""
           },
           "bgcolor": "white",
           "caxis": {
            "gridcolor": "#DFE8F3",
            "linecolor": "#A2B1C6",
            "ticks": ""
           }
          },
          "title": {
           "x": 0.05
          },
          "xaxis": {
           "automargin": true,
           "gridcolor": "#EBF0F8",
           "linecolor": "black",
           "linewidth": 2,
           "mirror": true,
           "showline": true,
           "ticks": "",
           "title": {
            "standoff": 15
           },
           "zeroline": false,
           "zerolinecolor": "#EBF0F8",
           "zerolinewidth": 2
          },
          "yaxis": {
           "automargin": true,
           "gridcolor": "#EBF0F8",
           "linecolor": "black",
           "linewidth": 2,
           "mirror": true,
           "showline": true,
           "ticks": "",
           "title": {
            "standoff": 15
           },
           "zeroline": false,
           "zerolinecolor": "#EBF0F8",
           "zerolinewidth": 2
          }
         }
        },
        "title": {
         "text": "Rotor Model"
        },
        "xaxis": {
         "mirror": true,
         "scaleanchor": "y",
         "scaleratio": 1.5,
         "showgrid": false,
         "title": {
          "text": "Axial location (m)"
         }
        },
        "yaxis": {
         "mirror": true,
         "showgrid": false,
         "title": {
          "text": "Shaft radius (m)"
         }
        }
       }
      }
     },
     "metadata": {},
     "output_type": "display_data"
    }
   ],
   "source": [
    "final_system.plot_rotor()"
   ]
  },
  {
   "cell_type": "markdown",
   "metadata": {},
   "source": [
    "If we apply two unbalances with 92 g.mm in phase opposition at two ends of rotor 1 (nodes 5 and 11), while one unbalance with 294 g.mm at the middle of rotor 3 (node 15), we can obtain the following responses at node 15:\n",
    "\n",
    "\n",
    "<div style=\"text-align: center;\">\n",
    "    <img src=\"../_static/img/img_tutorial4_multi_compared.png\" alt=\"MultiRotor\" style=\"width: 40%; height: auto;\">\n",
    "    <br>\n",
    "    <small>Figure 4: Comparison of ROSS results with Yang et al. (2016) for the spur geared multi-shaft rotor system.</small>\n",
    "</div>"
   ]
  },
  {
   "cell_type": "markdown",
   "metadata": {},
   "source": [
    "We can also vary the orientation angle between the rotors:\n",
    "\n",
    "<div style=\"text-align: center;\">\n",
    "    <img src=\"../_static/img/img_tutorial4_multi_all.png\" alt=\"MultiRotor\" style=\"width: 40%; height: auto;\">\n",
    "    <br>\n",
    "    <small>Figure 5: Unbalance responses at node 15 with three orientation angles.</small>\n",
    "</div>"
   ]
  },
  {
   "cell_type": "markdown",
   "metadata": {},
   "source": [
    "## References\n",
    "\n",
    "```{bibliography}\n",
    ":filter: docname in docnames\n",
    "```"
   ]
  }
 ],
 "metadata": {
  "kernelspec": {
   "display_name": "venv",
   "language": "python",
   "name": "python3"
  },
  "language_info": {
   "codemirror_mode": {
    "name": "ipython",
    "version": 3
   },
   "file_extension": ".py",
   "mimetype": "text/x-python",
   "name": "python",
   "nbconvert_exporter": "python",
   "pygments_lexer": "ipython3",
   "version": "3.10.12"
  }
 },
 "nbformat": 4,
 "nbformat_minor": 2
}
